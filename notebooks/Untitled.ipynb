{
 "cells": [
  {
   "cell_type": "code",
   "execution_count": null,
   "metadata": {},
   "outputs": [],
   "source": [
    "vxst = local_csv('vxstcurrent.csv',\n",
    "                date_column=\"Date\", \n",
    "                 use_date_column_as_index=True,\n",
    "                 skiprows=[0,1,2],\n",
    "                )\n",
    "\n",
    "vxst = vxst.dropna()\n",
    "vxst = vxst.rename(columns=dict(map(lambda x: (x, \"vxst_\"+x), vxst.columns)))\n",
    "\n",
    "vxx = get_pricing(\"vxx\", start_date=vxst.index[0], end_date=vxst.index[-1], )"
   ]
  },
  {
   "cell_type": "code",
   "execution_count": null,
   "metadata": {},
   "outputs": [],
   "source": [
    "df = get_pricing([\"AAPL\", \"FB\"], fields=\"close_price\")\n",
    "df.columns = map(lambda x: x.symbol, df.columns)"
   ]
  },
  {
   "cell_type": "code",
   "execution_count": null,
   "metadata": {},
   "outputs": [],
   "source": [
    "import talib as ta\n",
    "import functools\n",
    "\n",
    "myroc = functools.partial(ta.WMA, timeperiod=10)\n",
    "\n",
    "df.apply(myroc, axis=0)"
   ]
  },
  {
   "cell_type": "code",
   "execution_count": null,
   "metadata": {},
   "outputs": [],
   "source": [
    "import pandas as pd \n",
    "df = pd.concat([vxx, vxst],  axis=1)"
   ]
  },
  {
   "cell_type": "code",
   "execution_count": null,
   "metadata": {},
   "outputs": [],
   "source": [
    "df"
   ]
  },
  {
   "cell_type": "code",
   "execution_count": null,
   "metadata": {},
   "outputs": [],
   "source": [
    "df[\"vsxt_intraday\"] = df[\"vxst_Open\"]/df[\"vxst_Close\"]-1\n",
    "df[\"vxx_intraday\"] = df[\"open_price\"]/df[\"close_price\"]-1\n",
    "df[\"vsxt_intraday_prevday\"] = df[\"vsxt_intraday\"].shift(1)\n",
    "df[\"vxst_highlow\"] = (df[\"vxst_High\"]-df[\"vxst_Low\"])/df[\"vxst_Low\"]\n",
    "df[\"vxst_highlow_prevday\"] = df[\"vxst_highlow\"].shift(-1)\n",
    "df[\"marketcap\"] = df[\"volume\"] * df[\"price\"]\n",
    "df[\"juriandate\"] = df.index.to_julian_date()\n",
    "df[\"vxx_dayreturn\"] = df[\"price\"].pct_change()"
   ]
  },
  {
   "cell_type": "code",
   "execution_count": null,
   "metadata": {},
   "outputs": [],
   "source": [
    "df.plot.scatter(x=\"vxst_highlow_prevday\", y=\"vxx_dayreturn\", c=\"juriandate\" )"
   ]
  },
  {
   "cell_type": "code",
   "execution_count": null,
   "metadata": {},
   "outputs": [],
   "source": [
    "# Import the history function\n",
    "from quantopian.research.experimental import history, continuous_future\n",
    "cl = continuous_future('CL', adjustment=None)\n",
    "cl_pricing = history(\n",
    "    cl, \n",
    "    fields='price', \n",
    "    frequency='daily', \n",
    "    start='2015-10-21', \n",
    "    end='2016-06-01'\n",
    ")\n",
    "\n"
   ]
  },
  {
   "cell_type": "code",
   "execution_count": null,
   "metadata": {},
   "outputs": [],
   "source": [
    "cl_contracts = symbols(['CLF16', 'CLG16', 'CLH16', 'CLJ16', 'CLK16', 'CLM16'])\n",
    "\n",
    "# Pricing data for our consecutive contracts from earlier.\n",
    "cl_consecutive_contract_pricing = history(\n",
    "    cl_contracts, \n",
    "    fields='price', \n",
    "    frequency='daily', \n",
    "    start='2015-10-21', \n",
    "    end='2016-06-01'\n",
    ")\n",
    "\n",
    "cl = continuous_future('CL', adjustment=None)\n",
    "cl_pricing = history(\n",
    "    cl, \n",
    "    fields='price', \n",
    "    frequency='daily', \n",
    "    start='2015-10-21', \n",
    "    end='2016-06-01'\n",
    ")\n",
    "\n",
    "\n",
    "cl_consecutive_contract_pricing.plot()\n",
    "cl_pricing.plot(style='k--', legend=\"continuous\")"
   ]
  },
  {
   "cell_type": "code",
   "execution_count": null,
   "metadata": {},
   "outputs": [],
   "source": [
    "cl0 = continuous_future('CL', adjustment=None)\n",
    "cl1 = continuous_future('CL', adjustment=None, offset=1)\n",
    "\n",
    "cl_pricing = history(\n",
    "    [cl0, cl1],\n",
    "    fields='price', \n",
    "    frequency='daily', \n",
    "    start='2015-10-21', \n",
    "    end='2016-06-01'\n",
    ")\n",
    "\n",
    "cl_pricing.plot()"
   ]
  },
  {
   "cell_type": "code",
   "execution_count": null,
   "metadata": {},
   "outputs": [],
   "source": [
    "from quantopian.research.experimental import continuous_future, history\n",
    "\n",
    "cl_future = continuous_future('CL')\n",
    "xb_future = continuous_future('XB')\n",
    "\n",
    "start='2014-01-01'\n",
    "end='2015-01-01'\n",
    "    \n",
    "cl_price = history(cl_future, start=start, end=end, fields='price', frequency='daily', )\n",
    "xb_price = history(xb_future, start=start, end=end, fields='price', frequency='daily', )\n"
   ]
  },
  {
   "cell_type": "code",
   "execution_count": null,
   "metadata": {},
   "outputs": [],
   "source": [
    "c = symbols(\"CLF16\")\n",
    "x = symbols(\"XBF16\")"
   ]
  },
  {
   "cell_type": "code",
   "execution_count": null,
   "metadata": {},
   "outputs": [],
   "source": [
    "c.multiplier, x.multiplier\n"
   ]
  },
  {
   "cell_type": "code",
   "execution_count": null,
   "metadata": {},
   "outputs": [],
   "source": [
    "cl_price.plot()\n",
    "xb_price.multiply(42).plot()"
   ]
  },
  {
   "cell_type": "code",
   "execution_count": null,
   "metadata": {},
   "outputs": [],
   "source": [
    "import statsmodels.api as sm\n",
    "import statsmodels.tsa as tsa\n",
    "\n",
    "_, p, _ = tsa.stattools.coint(cl_price, xb_price)\n",
    "p"
   ]
  },
  {
   "cell_type": "code",
   "execution_count": null,
   "metadata": {},
   "outputs": [],
   "source": [
    "import pandas as pd\n",
    "df = pd.DataFrame({\"CL\":cl_price, \"XB\":xb_price})\n"
   ]
  },
  {
   "cell_type": "code",
   "execution_count": null,
   "metadata": {},
   "outputs": [],
   "source": [
    "df[\"CL_change\"] = df[\"CL\"].pct_change()\n",
    "df[\"XB_change\"] = df[\"XB\"].pct_change()"
   ]
  },
  {
   "cell_type": "code",
   "execution_count": null,
   "metadata": {},
   "outputs": [],
   "source": [
    "import scipy as sp \n",
    "term = 20 \n",
    "df.plot(kind='scatter', x='CL_change',y='XB_change')"
   ]
  },
  {
   "cell_type": "code",
   "execution_count": null,
   "metadata": {},
   "outputs": [],
   "source": []
  }
 ],
 "metadata": {
  "kernelspec": {
   "display_name": "Python 2",
   "language": "python",
   "name": "python2"
  },
  "language_info": {
   "codemirror_mode": {
    "name": "ipython",
    "version": 2
   },
   "file_extension": ".py",
   "mimetype": "text/x-python",
   "name": "python",
   "nbconvert_exporter": "python",
   "pygments_lexer": "ipython2",
   "version": "2.7.12"
  }
 },
 "nbformat": 4,
 "nbformat_minor": 2
}
