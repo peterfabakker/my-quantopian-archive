{
 "cells": [
  {
   "cell_type": "markdown",
   "metadata": {},
   "source": [
    "# Python For Finance 読書会#13\n",
    "\n",
    "## Chapter 7. Multifactor Models and Performance Measures を読む\n",
    "\n",
    "* Date: 2019/12/06(Fri) 19:30 - @Google Meet\n",
    "* 発表者：2casa\n",
    "\n",
    "## 自己紹介\n",
    "\n",
    "* 2casa（つかさ）\n",
    "  * Twitter : https://twitter.com/moscow_ii\n",
    "  * Github : https://github.com/2casa\n",
    "  \n",
    "* 某Fintech系Startupに転職したものの、最近は非エンジニアな仕事（書類作成）ばかり。\n",
    "\n",
    "* References\n",
    "  * Fundamental Factor Models\n",
    "  * [www.quantopian.com/lectures](https://www.quantopian.com/lectures)\n",
    "  * [github.com/quantopian/research_public](https://github.com/quantopian/research_public)\n",
    "  \n",
    " \n",
    "  "
   ]
  },
  {
   "cell_type": "markdown",
   "metadata": {},
   "source": [
    "## 復習\n",
    "\n",
    "CAPMの主張：株式の期待収益率は、市場の期待収益率との間に以下の関係が成り立つ\n",
    "\n",
    "$$\n",
    "R_{IBM} = R_f + \\beta_{IBM}(R_{mkt} - R_f) \n",
    "$$\n",
    "\n",
    "\n",
    "* $R_{IBM}$ : IBMの期待収益率\n",
    "* $R_{mkt}$ : 市場の期待収益率\n",
    "* $R_f$ : 無リスク資産金利（RiskFreeRate）\n",
    "* $\\beta_{IBM}$ : IBMの市場リスク尺度\n",
    "\n",
    "\n",
    "IBMの期待収益率（左辺）が、市場の期待収益率と無リスク金利の差（「市場超過収益率」）という１つのリスク要因（ファクター）によって説明されるので、シングルファクターモデルと呼ばれる。\n",
    "\n",
    "マルチファクターモデルでは、ファクターの数を複数に拡張する。ファクターの数を複数に拡張すること自体には理論的な合理性はあるものの、そのファクターが何であるか？ということは要求されないため、ファクターの選択はサイエンスというよりもアート依り。\n",
    "\n",
    "[参考wikipedia:ファーマ＝フレンチの３ファクターモデル](https://ja.wikipedia.org/wiki/%E3%83%95%E3%82%A1%E3%83%BC%E3%83%9E-%E3%83%95%E3%83%AC%E3%83%B3%E3%83%81%E3%81%AE3%E3%83%95%E3%82%A1%E3%82%AF%E3%82%BF%E3%83%BC%E3%83%A2%E3%83%87%E3%83%AB)\n",
    "\n",
    "Fama-Frenchモデルは、CAPMを拡張することによって、以下のように表現される。\n",
    "\n",
    "$$ R_i = R_f + \\beta_{mkt}(R_{mkt} - R_f) + \\beta_{smb}SMB + \\beta_{hml}HML + \\epsilon$$\n",
    "\n",
    "\n",
    "右辺第二項までは、CAPMと同じ。第３項以降（SMB, HML）が新たに追加された項。\n",
    "要素が1つ（MKT）から、3つ（MKT, SMB, HML）に増えたので「マルチファクター」と呼ばれる。\n",
    "\n",
    "この中で不明なもの\n",
    "* SMB :  サイズファクター（小型株効果）に対する期待リターン\n",
    "* HML :  バリューファクター（バリュー株効果）に対する期待リターン\n",
    "* 各種$\\beta$ ：市場ファクター、サイズファクター、バリューファクターに対する、各銘柄の感応度（ベータ）\n",
    "\n",
    "### モデル構築手順\n",
    "\n",
    "1. SMB, HML の値を計算する\n",
    "　　* $R_{mkt}$ は、S&P500ETFのリターンだった。\n",
    "  * SMBは小型株をロング、大型株をショートしたペーパーポートフォリオを構築し、そのリターンを計測する 。\n",
    "  * HMLはバリュー株をロング、グロース株をショートする。\n",
    "    * PBR(株価純資産倍率＝株価/簿価)\n",
    "    * PBR<1 なら、時価が簿価よりも安い（割安）、PBR>1なら、簿価よりも時価が高い（プレミアムがついてる）\n",
    "      * HMLは PBRの逆数を取ることで、PBRが大きければ大きいほど割安、小さければ小さいほど割高、という指標に変換している。\n",
    "2. MKT, SMB, HML （ファクター）を説明変数、$R_i$ を目的変数として回帰分析を行うことでβを推定する。"
   ]
  },
  {
   "cell_type": "markdown",
   "metadata": {},
   "source": [
    "### Portfolio Construction as an Asset Pricing Model\n",
    "\n",
    "First we import the relevant libraries."
   ]
  },
  {
   "cell_type": "code",
   "execution_count": null,
   "metadata": {},
   "outputs": [],
   "source": [
    "import pandas as pd\n",
    "import numpy as np\n",
    "from quantopian.pipeline import Pipeline\n",
    "from quantopian.pipeline.data import Fundamentals\n",
    "from quantopian.pipeline.factors import CustomFactor, Returns, Latest\n",
    "from quantopian.pipeline.classifiers import Classifier\n",
    "from quantopian.pipeline.filters import QTradableStocksUS\n",
    "from quantopian.research import run_pipeline\n",
    "import matplotlib.pyplot as plt"
   ]
  },
  {
   "cell_type": "markdown",
   "metadata": {},
   "source": []
  },
  {
   "cell_type": "code",
   "execution_count": null,
   "metadata": {},
   "outputs": [],
   "source": [
    "# 4factorで使います.\n",
    "class Momentum(CustomFactor):\n",
    "    # will give us the returns from last month\n",
    "    inputs = [Returns(window_length=20)]\n",
    "    window_length = 20\n",
    "    \n",
    "    def compute(self, today, assets, out, lag_returns):\n",
    "        out[:] = lag_returns[0]\n",
    "\n",
    "def make_pipeline():\n",
    "    # define our fundamental factor pipeline\n",
    "    pipe = Pipeline()\n",
    "    \n",
    "    # 時価総額\n",
    "    market_cap = Latest([Fundamentals.market_cap])\n",
    "    # 簿価時価比率（Quantopianでは、時価簿価比率（PBR）として収録されているので、逆数をとります）\n",
    "    book_to_price = 1/Latest([Fundamentals.pb_ratio])\n",
    "    # モメンタム（4factor）\n",
    "    momentum = Momentum()\n",
    "    # R_i として日次リターンをとります\n",
    "    returns = Returns(window_length=2)\n",
    "    \n",
    "    # 時価総額、簿価時価比率でランキングする\n",
    "    market_cap_rank = market_cap.rank(mask=QTradableStocksUS())\n",
    "    book_to_price_rank = book_to_price.rank(mask=QTradableStocksUS())\n",
    "    \n",
    "    # モメンタムでランキングする（４factors)\n",
    "    momentum_rank = momentum.rank(mask=QTradableStocksUS())\n",
    "    \n",
    "    # Quantopian仕様\n",
    "    #biggest = market_cap_rank.top(1000)\n",
    "    #smallest = market_cap_rank.bottom(1000)\n",
    "    #highpb = book_to_price_rank.top(1000)\n",
    "    #lowpb = book_to_price_rank.bottom(1000)\n",
    "    #top = momentum_rank.top(1000)\n",
    "    #bottom = momentum_rank.bottom(1000)\n",
    "    \n",
    "    # PythonForFinance仕様()\n",
    "    biggest = market_cap.percentile_between(50,100)\n",
    "    smallest = market_cap.percentile_between(0,50)\n",
    "    highpb = book_to_price.percentile_between(70,100)\n",
    "    midpb = book_to_price.percentile_between(30,70)\n",
    "    lowpb = book_to_price.percentile_between(0,30)\n",
    "    top = momentum.percentile_between(50,100)\n",
    "    bottom = momentum.percentile_between(0,50)\n",
    "    \n",
    "    \n",
    "    # Define our universe, screening out anything that isn't in the top or bottom\n",
    "    universe = QTradableStocksUS() & (biggest | smallest | highpb | lowpb | top | bottom)\n",
    "    \n",
    "    pipe = Pipeline(\n",
    "        columns = {\n",
    "            'market_cap':market_cap,\n",
    "            'book_to_price':book_to_price,\n",
    "            'momentum':momentum,\n",
    "            'Returns':returns,\n",
    "            'market_cap_rank':market_cap_rank,\n",
    "            'book_to_price_rank':book_to_price_rank,\n",
    "            'momentum_rank':momentum_rank,\n",
    "            'biggest':biggest,\n",
    "            'smallest':smallest,\n",
    "            'highpb':highpb,\n",
    "            'midpb':midpb,\n",
    "            'lowpb':lowpb,\n",
    "            'top':top,\n",
    "            'bottom':bottom\n",
    "        },\n",
    "        screen=universe\n",
    "    )\n",
    "    \n",
    "    return pipe\n",
    "\n",
    "# Initializing the pipe\n",
    "pipe = make_pipeline()\n",
    "\n",
    "# Now let's start the pipeline\n",
    "start_date, end_date = '2016-01-01', '2016-12-31' \n",
    "\n",
    "results = run_pipeline(pipe, start_date, end_date)\n",
    "\n",
    "results.head()"
   ]
  },
  {
   "cell_type": "markdown",
   "metadata": {},
   "source": [
    "Now we can go through the data and build the factor portfolios we want"
   ]
  },
  {
   "cell_type": "code",
   "execution_count": null,
   "metadata": {},
   "outputs": [],
   "source": [
    "#　ポートフォリオのリターンを計測、、、してるのかと思いきや、リターンの平均を取ることで代用しているっぽい。\n",
    "R_biggest = results[results.biggest]['Returns'].groupby(level=0).mean()\n",
    "R_smallest = results[results.smallest]['Returns'].groupby(level=0).mean()\n",
    "\n",
    "R_highpb = results[results.highpb]['Returns'].groupby(level=0).mean()\n",
    "R_lowpb = results[results.lowpb]['Returns'].groupby(level=0).mean()\n",
    "\n",
    "R_top = results[results.top]['Returns'].groupby(level=0).mean()\n",
    "R_bottom = results[results.bottom]['Returns'].groupby(level=0).mean()\n",
    "\n",
    "# risk-free proxy\n",
    "R_F = get_pricing('BIL', fields='price', start_date=start_date, end_date=end_date).pct_change()[1:]\n",
    "\n",
    "# find it's beta against market\n",
    "M = get_pricing('SPY', start_date=start_date, end_date=end_date, fields='price').pct_change()[1:]\n",
    "\n",
    "# Defining our final factors\n",
    "EXMRKT = M - R_F\n",
    "SMB = R_smallest - R_biggest # small minus big\n",
    "HML = R_highpb - R_lowpb # high minus low\n",
    "MOM = R_top - R_bottom # momentum"
   ]
  },
  {
   "cell_type": "markdown",
   "metadata": {},
   "source": [
    "Now that we've constructed our portfolios, let's look at our performance if we were to hold each one."
   ]
  },
  {
   "cell_type": "code",
   "execution_count": null,
   "metadata": {},
   "outputs": [],
   "source": [
    "plt.plot(SMB.index, SMB.values)\n",
    "plt.ylabel('Daily Percent Return')\n",
    "plt.legend(['SMB Portfolio Returns']);"
   ]
  },
  {
   "cell_type": "code",
   "execution_count": null,
   "metadata": {},
   "outputs": [],
   "source": [
    "plt.plot(HML.index, HML.values)\n",
    "plt.ylabel('Daily Percent Return')\n",
    "plt.legend(['HML Portfolio Returns']);"
   ]
  },
  {
   "cell_type": "code",
   "execution_count": null,
   "metadata": {},
   "outputs": [],
   "source": [
    "plt.plot(MOM.index, MOM.values)\n",
    "plt.ylabel('Daily Percent Return')\n",
    "plt.legend(['MOM Portfolio Returns']);"
   ]
  },
  {
   "cell_type": "markdown",
   "metadata": {},
   "source": [
    "Now, as we did in the CAPM lecture, we'll calculate the risk premia on each of these factors using the Fama-Macbeth regressions.\n",
    "\n",
    "Fama-Macbeth回帰を行うことで、それぞれのファクターに対する感応度を計算します。\n",
    "\n"
   ]
  },
  {
   "cell_type": "code",
   "execution_count": null,
   "metadata": {},
   "outputs": [],
   "source": [
    "import itertools\n",
    "import statsmodels.api as sm\n",
    "from statsmodels import regression,stats\n",
    "import scipy"
   ]
  },
  {
   "cell_type": "markdown",
   "metadata": {},
   "source": [
    "Our asset returns data is asset and date specific, whereas our factor portfolio returns are only date specific. Therefore, we'll need to spread each day's portfolio return across all the assets for which we have data for on that day.\n",
    "\n",
    "個別銘柄のリターン情報というのは、$R_{i,t}$、つまり、「銘柄コード」と「時刻」の２つの添字によって構成されます。（２次元）\n",
    "一方で、SMB、HMLのポートフォリオリターンは、$SMB_{t}$、つまり、「時刻」という１つの添字によって構成されます。（１次元）\n",
    "したがって各営業日ごとに、ファクターポートフォリオのデータを個別銘柄に対して拡張する必要があります。\n",
    "\n"
   ]
  },
  {
   "cell_type": "code",
   "execution_count": null,
   "metadata": {},
   "outputs": [],
   "source": [
    "data = results[['Returns']].set_index(results.index)\n",
    "asset_list_sizes = [group[1].size for group in data.groupby(level=0)]\n",
    "\n",
    "# Spreading the factor portfolio data across all assets for each day\n",
    "SMB_column = [[SMB.loc[group[0]]] * size for group, size \\\n",
    "              in zip(data.groupby(level=0), asset_list_sizes)]\n",
    "data['SMB'] = list(itertools.chain(*SMB_column))\n",
    "\n",
    "HML_column = [[HML.loc[group[0]]] * size for group, size \\\n",
    "              in zip(data.groupby(level=0), asset_list_sizes)]\n",
    "data['HML'] = list(itertools.chain(*HML_column))\n",
    "\n",
    "MOM_column = [[MOM.loc[group[0]]] * size for group, size \\\n",
    "              in zip(data.groupby(level=0), asset_list_sizes)]\n",
    "data['MOM'] = list(itertools.chain(*MOM_column))\n",
    "\n",
    "EXMRKT_column = [[EXMRKT.loc[group[0]]]*size if group[0] in EXMRKT.index else [None]*size \\\n",
    "                 for group, size in zip(data.groupby(level=0), asset_list_sizes)]\n",
    "\n",
    "data['EXMRKT'] = list(itertools.chain(*EXMRKT_column))\n",
    "\n",
    "data = sm.add_constant(data.dropna())\n",
    "\n",
    "# Our list of assets from pipeline\n",
    "assets = data.index.levels[1].unique()\n",
    "\n",
    "# gathering our data to be asset-specific\n",
    "Y = [data.xs(asset, level=1)['Returns'] for asset in assets] \n",
    "X = [data.xs(asset, level=1)[['EXMRKT','SMB', 'HML', 'MOM', 'const']] for asset in assets]\n",
    "\n",
    "# First regression step: estimating the betas\n",
    "reg_results = [regression.linear_model.OLS(y, x).fit().params \\\n",
    "               for y, x in zip(Y, X) if not(x.empty or y.empty)]\n",
    "indices = [asset for y, x, asset in zip(Y, X, assets) if not(x.empty or y.empty)]\n",
    "\n",
    "betas = pd.DataFrame(reg_results, index=indices)\n",
    "betas = sm.add_constant(betas.drop('const', axis=1))\n",
    "\n",
    "R = data['Returns'].mean(axis=0, level=1)\n",
    "\n",
    "# Second regression step: estimating the risk premia\n",
    "risk_free_rate = np.mean(R_F)\n",
    "\n",
    "final_results = regression.linear_model.OLS(R - risk_free_rate, betas).fit()\n",
    "\n",
    "final_results.summary()"
   ]
  },
  {
   "cell_type": "markdown",
   "metadata": {},
   "source": [
    "#### Returns Prediction\n",
    "As discussed in the CAPM lecture, factor modeling can be used to predict future returns based on current fundamental factors. As well, it could be used to determine when an asset may be mispriced in order to arbitrage the difference, as shown in the CAPM lecture.\n",
    "\n",
    "Modeling future returns is accomplished by offsetting the returns in the regression, so that rather than predict for current returns, you are predicting for future returns. Once you have a predictive model, the most canonical way to create a strategy is to attempt a long-short equity approach."
   ]
  }
 ],
 "metadata": {
  "kernelspec": {
   "display_name": "Python 2",
   "language": "python",
   "name": "python2"
  },
  "language_info": {
   "codemirror_mode": {
    "name": "ipython",
    "version": 2
   },
   "file_extension": ".py",
   "mimetype": "text/x-python",
   "name": "python",
   "nbconvert_exporter": "python",
   "pygments_lexer": "ipython2",
   "version": "2.7.12"
  }
 },
 "nbformat": 4,
 "nbformat_minor": 2
}
