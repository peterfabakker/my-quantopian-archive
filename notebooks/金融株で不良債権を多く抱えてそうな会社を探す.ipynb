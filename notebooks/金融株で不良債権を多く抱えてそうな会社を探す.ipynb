{
 "cells": [
  {
   "cell_type": "markdown",
   "metadata": {},
   "source": [
    "## 2008-2010に大きく株価を下げた会社をピックアップ\n",
    "+ [リーマン・ショック - Wikipedia](https://ja.wikipedia.org/wiki/%E3%83%AA%E3%83%BC%E3%83%9E%E3%83%B3%E3%83%BB%E3%82%B7%E3%83%A7%E3%83%83%E3%82%AF)\n",
    "    + 2007年のアメリカ合衆国の住宅バブル崩壊をきっかけとして、サブプライム住宅ローン危機を始め、プライムローン、オークション・レート証券、カードローン関連債券など多分野にわたる資産価格の暴落が起こっていた。\n",
    "\n",
    "\n",
    "## 悪い会社リスト\n",
    "+ Reginal Bank: {'BPOP', 'FHN', 'FITB', 'HBAN', 'RF', 'WBS'}\n",
    "+ Savings & Cooperative Banks: {'FBC', 'NWBI', 'PBCT', 'WAFD'}\n",
    "+ Specialty Finance: {'CIT', 'HTH'} ← Morgage \n",
    "+ Credit Services : {'AXP', 'COF', 'SLM'}\n",
    "+ Insurance - Property & Casualty: {'CNA', 'MBI', 'STC'}\n"
   ]
  },
  {
   "cell_type": "code",
   "execution_count": null,
   "metadata": {},
   "outputs": [],
   "source": [
    "import numpy as np\n",
    "import pandas as pd \n",
    "\n",
    "from quantopian.pipeline import Pipeline\n",
    "from quantopian.research import run_pipeline\n",
    "from quantopian.pipeline.filters import QTradableStocksUS, StaticAssets\n",
    "\n",
    "from quantopian.pipeline.data import USEquityPricing\n",
    "\n",
    "from quantopian.pipeline.data.morningstar import Fundamentals\n",
    "\n",
    "def make_pipeline():\n",
    "    \n",
    "    base_universe = QTradableStocksUS()\n",
    "    myassets = StaticAssets(symbols(['BPOP', 'FHN', 'FITB', 'HBAN', 'RF', 'WBS', 'FBC', 'NWBI', 'PBCT', 'WAFD', 'CIT', 'HTH', 'AXP', 'COF', 'SLM','CNA', 'MBI', 'STC']))\n",
    "    \n",
    "    close_price = USEquityPricing.close.latest\n",
    "    \n",
    "    # sector code \n",
    "    morningstar_industry_group_code = Fundamentals.morningstar_industry_group_code.latest\n",
    "    morningstar_industry_code = Fundamentals.morningstar_industry_code.latest\n",
    "    mortgage_and_consumerloans = Fundamentals.mortgage_and_consumerloans.latest\n",
    "    mortgage_loan = Fundamentals.mortgage_loan.latest\n",
    "    total_assets = Fundamentals.total_assets.latest\n",
    "    financial_health_grade = Fundamentals.financial_health_grade.latest\n",
    "    \n",
    "    return Pipeline(\n",
    "        columns = {\n",
    "            'close_price': close_price,\n",
    "            'morningstar_industry_code':morningstar_industry_code, \n",
    "            'morningstar_industry_group_code':morningstar_industry_group_code,\n",
    "            'mortgage_and_consumerloans':mortgage_and_consumerloans, \n",
    "            'mortgage_loan':mortgage_loan, \n",
    "            'financial_health_grade':financial_health_grade,\n",
    "            \n",
    "        },\n",
    "        \n",
    "        screen=base_universe\n",
    "    )\n",
    " \n",
    "    \n",
    "pipeline_output = run_pipeline(\n",
    "    make_pipeline(),\n",
    "    start_date='2007-01-01',\n",
    "    end_date='2020-05-01'\n",
    ")\n",
    "\n",
    "pipeline_output.tail(10)\n"
   ]
  },
  {
   "cell_type": "markdown",
   "metadata": {},
   "source": [
    "## Fランクの株を見つけてみる"
   ]
  },
  {
   "cell_type": "code",
   "execution_count": null,
   "metadata": {},
   "outputs": [],
   "source": [
    "## F\n",
    "rank_F = pipeline_output.loc[\"2020-05-01\"][\"financial_health_grade\"][pipeline_output.loc[\"2020-05-01\"][\"financial_health_grade\"]==\"F\"].index.get_level_values(1).tolist()"
   ]
  },
  {
   "cell_type": "code",
   "execution_count": null,
   "metadata": {},
   "outputs": [],
   "source": [
    "idx = pd.IndexSlice\n",
    "pipeline_output.loc[idx[:,rank_F],:][\"financial_health_grade\"].unstack()\n",
    "\n"
   ]
  },
  {
   "cell_type": "code",
   "execution_count": null,
   "metadata": {},
   "outputs": [],
   "source": [
    "# 10320050 : Banks - Regional - US\n",
    "df = rank_F[pipeline_output[\"morningstar_industry_code\"]==10326060]"
   ]
  },
  {
   "cell_type": "code",
   "execution_count": null,
   "metadata": {},
   "outputs": [],
   "source": [
    "# asset name を見たい場合\n",
    "df.loc[\"2007-01-03\"].index.get_level_values(level=1).to_series().apply(lambda x: x.asset_name)"
   ]
  },
  {
   "cell_type": "code",
   "execution_count": null,
   "metadata": {},
   "outputs": [],
   "source": [
    "# 2007-2010 の株価推移を確認\n",
    "df_cumsum = df[\"close_price\"].unstack()[\"2007\":\"2010\"].dropna(axis=1,how=\"all\").fillna(method=\"ffill\").pct_change().iloc[1:].cumsum()\n"
   ]
  },
  {
   "cell_type": "code",
   "execution_count": null,
   "metadata": {},
   "outputs": [],
   "source": [
    "# describe してデータを取得\n",
    "# 当該期間中に上場したり、非上場になったりしてデータが揃っていないので１つずつForLoopで回している\n",
    "d = dict()\n",
    "for sym in df_cumsum.columns:\n",
    "    d[sym] = df_cumsum[sym].dropna().describe()\n",
    "    "
   ]
  },
  {
   "cell_type": "code",
   "execution_count": null,
   "metadata": {},
   "outputs": [],
   "source": [
    "# まだ生きている会社のリストを取得\n",
    "alives = pipeline_output.xs(\"2020-05-01\", level=0).index.to_series().apply(lambda x: x.symbol).tolist()\n"
   ]
  },
  {
   "cell_type": "code",
   "execution_count": null,
   "metadata": {},
   "outputs": [],
   "source": [
    "# 調査期間中に、最も株価が落ちた会社で、現在も上場している会社を取得\n",
    "set(pd.DataFrame(d).T.sort_values(by=\"min\").head(5).index.to_series().apply(lambda x: x.symbol).tolist()) & set(alives)\n"
   ]
  },
  {
   "cell_type": "markdown",
   "metadata": {},
   "source": [
    "## ここ数年でmortgage loan の比率が total assets に対して増えている会社を探す\n",
    "\n",
    "+ `mortgage_loan`: This is a lien on real estate to protect a lender. This item is typically available for bank industry.\n"
   ]
  },
  {
   "cell_type": "code",
   "execution_count": null,
   "metadata": {},
   "outputs": [],
   "source": [
    "def make_pipeline():\n",
    "    \n",
    "    myassets = StaticAssets(symbols(['BPOP', 'FHN', 'FITB', 'HBAN', 'RF', 'WBS', 'FBC', 'NWBI', 'PBCT', 'WAFD', 'CIT', 'HTH', 'AXP', 'COF', 'SLM','CNA', 'MBI', 'STC']))\n",
    "    \n",
    "    close_price = USEquityPricing.close.latest\n",
    "    \n",
    "    # sector code \n",
    "    morningstar_industry_group_code = Fundamentals.morningstar_industry_group_code.latest\n",
    "    morningstar_industry_code = Fundamentals.morningstar_industry_code.latest\n",
    "    mortgage_and_consumerloans = Fundamentals.mortgage_and_consumerloans.latest\n",
    "    mortgage_loan = Fundamentals.mortgage_loan.latest\n",
    "    total_assets = Fundamentals.total_assets.latest\n",
    "    stockholders_equity = Fundamentals.stockholders_equity.latest\n",
    "    financial_health_grade = Fundamentals.financial_health_grade.latest\n",
    "    \n",
    "    return Pipeline(\n",
    "        columns = {\n",
    "            'close_price': close_price,\n",
    "            'morningstar_industry_code':morningstar_industry_code, \n",
    "            'morningstar_industry_group_code':morningstar_industry_group_code,\n",
    "            'mortgage_and_consumerloans':mortgage_and_consumerloans, \n",
    "            'mortgage_loan':mortgage_loan, \n",
    "            'total_assets':total_assets,\n",
    "            'stockholders_equity':stockholders_equity,\n",
    "            'financial_health_grade':financial_health_grade,\n",
    "        },\n",
    "        screen=myassets\n",
    "    )\n",
    " \n",
    "    \n",
    "pipeline_output = run_pipeline(\n",
    "    make_pipeline(),\n",
    "    start_date='2016-01-01',\n",
    "    end_date='2020-05-01'\n",
    ")\n",
    "\n",
    "pipeline_output.tail(10)\n"
   ]
  },
  {
   "cell_type": "code",
   "execution_count": null,
   "metadata": {},
   "outputs": [],
   "source": [
    "pipeline_output[\"mortgage_loan_asset_ratio\"] = pipeline_output[\"mortgage_loan\"]/pipeline_output[\"total_assets\"]\n",
    "pipeline_output[\"stockholders_equity_ratio\"] = pipeline_output[\"stockholders_equity\"]/pipeline_output[\"total_assets\"]"
   ]
  },
  {
   "cell_type": "code",
   "execution_count": null,
   "metadata": {},
   "outputs": [],
   "source": [
    "pipeline_output[\"stockholders_equity_ratio\"].unstack().iloc[-1].sort_values()"
   ]
  },
  {
   "cell_type": "code",
   "execution_count": null,
   "metadata": {},
   "outputs": [],
   "source": [
    "pipeline_output[\"mortgage_loan_asset_ratio\"].unstack().plot()"
   ]
  },
  {
   "cell_type": "code",
   "execution_count": null,
   "metadata": {},
   "outputs": [],
   "source": [
    "pipeline_output.xs"
   ]
  }
 ],
 "metadata": {
  "kernelspec": {
   "display_name": "Python 3.5",
   "language": "python",
   "name": "py35"
  },
  "language_info": {
   "codemirror_mode": {
    "name": "ipython",
    "version": 3
   },
   "file_extension": ".py",
   "mimetype": "text/x-python",
   "name": "python",
   "nbconvert_exporter": "python",
   "pygments_lexer": "ipython3",
   "version": "3.5.9"
  }
 },
 "nbformat": 4,
 "nbformat_minor": 2
}
