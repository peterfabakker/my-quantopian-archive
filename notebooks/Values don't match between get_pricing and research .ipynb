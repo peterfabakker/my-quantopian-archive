{
 "cells": [
  {
   "cell_type": "code",
   "execution_count": null,
   "metadata": {},
   "outputs": [],
   "source": [
    "from quantopian.pipeline.data.builtin import USEquityPricing  \n",
    "import pandas as pd  \n",
    "from quantopian.pipeline import CustomFactor, Pipeline  \n",
    "from quantopian.research import run_pipeline  \n",
    "from quantopian.pipeline.factors import SimpleMovingAverage\n",
    "from quantopian.pipeline.filters import StaticSids\n",
    "\n",
    "security = symbols(8554)  \n",
    "\n",
    "def make_pipeline():  \n",
    "    latest_close = USEquityPricing.close.latest  \n",
    "    latest_open = USEquityPricing.open.latest  \n",
    "\n",
    "    \n",
    "    return Pipeline(  \n",
    "        columns = { 'latest_close':latest_close,\n",
    "                  'latest_open':latest_open, },  \n",
    "        screen = StaticSids([security])\n",
    "    )\n",
    "\n",
    "result = run_pipeline(make_pipeline(), '2017-11-30', '2017-12-13')\n",
    "result = result.reset_index().set_index('level_0')  \n",
    "\n",
    "df=get_pricing(security, start_date='2017-11-30', end_date='2017-12-13',\n",
    "            symbol_reference_date=None, frequency='daily', handle_missing='raise')\n",
    "\n",
    "pd.concat([result[\"latest_open\"], df[\"open_price\"], result[\"latest_close\"], df[\"close_price\"], ], axis=1)"
   ]
  }
 ],
 "metadata": {
  "kernelspec": {
   "display_name": "Python 2",
   "language": "python",
   "name": "python2"
  },
  "language_info": {
   "codemirror_mode": {
    "name": "ipython",
    "version": 2
   },
   "file_extension": ".py",
   "mimetype": "text/x-python",
   "name": "python",
   "nbconvert_exporter": "python",
   "pygments_lexer": "ipython2",
   "version": "2.7.12"
  }
 },
 "nbformat": 4,
 "nbformat_minor": 2
}
