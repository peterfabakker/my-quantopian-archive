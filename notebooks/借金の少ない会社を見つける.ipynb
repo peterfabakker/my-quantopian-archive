{
 "cells": [
  {
   "cell_type": "markdown",
   "metadata": {},
   "source": [
    "## 借金の少ない会社を見つける\n",
    "\n",
    "### Todo \n",
    "\n",
    "+ 会社リストで、一番底の跡に株価がどのように戻ったか、確認。\n",
    "+ セクターごとに見る\n",
    "+ ランキングを入れる\n"
   ]
  },
  {
   "cell_type": "code",
   "execution_count": null,
   "metadata": {},
   "outputs": [],
   "source": [
    "import numpy as np\n",
    "\n",
    "# Import Pipeline class and datasets\n",
    "from quantopian.pipeline import Pipeline\n",
    "from quantopian.pipeline.data import USEquityPricing\n",
    "\n",
    "from quantopian.pipeline.data.morningstar import Fundamentals\n",
    "\n",
    "from quantopian.pipeline.data.factset import Fundamentals as factst_funda\n",
    "from quantopian.pipeline.filters import Q500US, StaticSids, StaticAssets\n",
    "\n",
    "# Import built-in trading universe\n",
    "from quantopian.pipeline.filters import QTradableStocksUS\n",
    "\n",
    "\n",
    "def make_pipeline():\n",
    "    # Create a reference to our trading universe\n",
    "    base_universe = QTradableStocksUS()\n",
    "\n",
    "    # Get latest closing price\n",
    "    close_price = USEquityPricing.close.latest\n",
    "    \n",
    "    #current_liabilities\n",
    "    #The debts or obligations of the firm that are due within one year.\n",
    "    current_liabilities = Fundamentals.current_liabilities.latest\n",
    "    \n",
    "    #total_assets\n",
    "    #The aggregate amount of probable future economic benefits obtained or controlled by a particular enterprise as a result of past transactions or events.\n",
    "    total_assets = Fundamentals.total_assets.latest\n",
    "    market_cap = Fundamentals.market_cap.latest\n",
    "    morningstar_industry_group_code = Fundamentals.morningstar_industry_group_code.latest\n",
    "    morningstar_industry_code = Fundamentals.morningstar_industry_code.latest\n",
    "    total_liabilities_net_minority_interest = Fundamentals.total_liabilities_net_minority_interest.latest\n",
    "    operating_income = Fundamentals.operating_income.latest\n",
    "    interest_expense = Fundamentals.interest_expense.latest\n",
    "    cash_and_cash_equivalents = Fundamentals.cash_and_cash_equivalents.latest\n",
    "    current_assets = Fundamentals.current_assets.latest\n",
    "    current_liabilities = Fundamentals.current_liabilities.latest\n",
    "    current_ratio = Fundamentals.current_ratio.latest\n",
    "    \n",
    "    # interest_expense\n",
    "\n",
    "    myassets = StaticAssets(symbols([\"PETS\",\"SLP\"]))#'AAPL', 'FB', 'MSFT', 'AMZN', 'GOOG', 'KO'\n",
    "    \n",
    "    # Return Pipeline containing close_price and\n",
    "    # sentiment_score that has our trading universe as screen\n",
    "    return Pipeline(\n",
    "        columns={\n",
    "            'close_price': close_price,\n",
    "#             'current_liabilities':current_liabilities, \n",
    "            'total_assets':total_assets, \n",
    "            'cash_and_cash_equivalents':cash_and_cash_equivalents,\n",
    "            'current_assets':current_assets,\n",
    "            'liab/asset':total_liabilities_net_minority_interest/total_assets,\n",
    "            'cash/asset':cash_and_cash_equivalents/total_assets,\n",
    "            'market_cap':market_cap / 1000000000,\n",
    "            'morningstar_industry_group_code':morningstar_industry_group_code,\n",
    "            'morningstar_industry_code':morningstar_industry_code,\n",
    "            'total_liabilities_net_minority_interest': total_liabilities_net_minority_interest, \n",
    "            'operating_income':operating_income, \n",
    "            'interest_expense':interest_expense,\n",
    "            'current_liabilities':current_liabilities, \n",
    "            'current_ratio':current_ratio,\n",
    "            \n",
    "        },\n",
    "        screen=base_universe #base_universe #myassets\n",
    "    )\n",
    "\n",
    "# Import run_pipeline method\n",
    "from quantopian.research import run_pipeline\n",
    "\n",
    "# Execute pipeline created by make_pipeline\n",
    "# between start_date and end_date\n",
    "pipeline_output = run_pipeline(\n",
    "    make_pipeline(),\n",
    "    start_date='2019-01-01',\n",
    "    end_date='2019-03-30'\n",
    ")\n",
    "\n",
    "# Display last 10 rows\n",
    "pipeline_output.tail(10)"
   ]
  },
  {
   "cell_type": "code",
   "execution_count": null,
   "metadata": {},
   "outputs": [],
   "source": [
    "liab_asset = pipeline_output.loc[\"2020-04-01\"][[\"close_price\", \"liab/asset\", \"market_cap\", \"morningstar_industry_group_code\",\"morningstar_industry_code\", \"operating_income\", \"interest_expense\"]].sort_values(by=\"liab/asset\")"
   ]
  },
  {
   "cell_type": "code",
   "execution_count": null,
   "metadata": {},
   "outputs": [],
   "source": [
    "liab_asset.dropna().groupby(\"morningstar_industry_group_code\")[[\"liab/asset\", \"market_cap\", \"operating_income\"]].mean().sort_values(by=\"liab/asset\")"
   ]
  },
  {
   "cell_type": "code",
   "execution_count": null,
   "metadata": {},
   "outputs": [],
   "source": [
    "by_group = list(liab_asset[(liab_asset[\"liab/asset\"]<0.20) &\n",
    "           (liab_asset[\"operating_income\"]>0) &\n",
    "           (liab_asset[\"morningstar_industry_group_code\"]!=10420)& \n",
    "           (liab_asset[\"morningstar_industry_group_code\"]!=10310)&                 \n",
    "           (liab_asset[\"morningstar_industry_group_code\"]!=10150)                \n",
    "                          ].sort_values(by=\"liab/asset\").dropna().groupby(by=\"morningstar_industry_group_code\"))"
   ]
  },
  {
   "cell_type": "code",
   "execution_count": null,
   "metadata": {},
   "outputs": [],
   "source": [
    "len(liab_asset[(liab_asset[\"liab/asset\"]<0.20) &\n",
    "           (liab_asset[\"operating_income\"]>0) &\n",
    "           (liab_asset[\"morningstar_industry_group_code\"]!=10420)& \n",
    "           (liab_asset[\"morningstar_industry_group_code\"]!=10310)&                 \n",
    "           (liab_asset[\"morningstar_industry_group_code\"]!=10150)].sort_values(by=\"liab/asset\").dropna())"
   ]
  },
  {
   "cell_type": "code",
   "execution_count": null,
   "metadata": {},
   "outputs": [],
   "source": [
    "[code for code, df in by_group]"
   ]
  },
  {
   "cell_type": "code",
   "execution_count": null,
   "metadata": {},
   "outputs": [],
   "source": [
    "# 6 は外した。バイオだから\n",
    "by_group[1][1]"
   ]
  },
  {
   "cell_type": "markdown",
   "metadata": {},
   "source": [
    "## 資産の中に現金及び現金同等物が含まれている比率\n",
    "\n",
    "+ [current_ratio](https://www.quantopian.com/docs/data-reference/morningstar_fundamentals#current-ratio)：Current Asst / Current Liabilities . 2以上（流動性の借り入れの二倍以上の流動性現金等をもっている）\n",
    "+ operating_income\t＞ Positive \n",
    "+ 'cash/asset' > 0.5 \n",
    "\n"
   ]
  },
  {
   "cell_type": "code",
   "execution_count": null,
   "metadata": {},
   "outputs": [],
   "source": [
    "df_current_asset_lib = pipeline_output.loc[\"2019-04-01\"]\n",
    "df_current_asset_lib = df_current_asset_lib[(df_current_asset_lib[\"current_ratio\"] >2) & \n",
    "                                            (df_current_asset_lib[\"operating_income\"] >0) &\n",
    "                                            (df_current_asset_lib['cash/asset'] > 0.5 )\n",
    "                                           ].sort_values(by=[\"current_ratio\",  'cash/asset'], ascending=False)\n",
    "df_current_asset_lib"
   ]
  },
  {
   "cell_type": "code",
   "execution_count": null,
   "metadata": {},
   "outputs": [],
   "source": []
  },
  {
   "cell_type": "code",
   "execution_count": null,
   "metadata": {},
   "outputs": [],
   "source": []
  }
 ],
 "metadata": {
  "kernelspec": {
   "display_name": "Python 3.5",
   "language": "python",
   "name": "py35"
  },
  "language_info": {
   "codemirror_mode": {
    "name": "ipython",
    "version": 3
   },
   "file_extension": ".py",
   "mimetype": "text/x-python",
   "name": "python",
   "nbconvert_exporter": "python",
   "pygments_lexer": "ipython3",
   "version": "3.5.9"
  }
 },
 "nbformat": 4,
 "nbformat_minor": 2
}
