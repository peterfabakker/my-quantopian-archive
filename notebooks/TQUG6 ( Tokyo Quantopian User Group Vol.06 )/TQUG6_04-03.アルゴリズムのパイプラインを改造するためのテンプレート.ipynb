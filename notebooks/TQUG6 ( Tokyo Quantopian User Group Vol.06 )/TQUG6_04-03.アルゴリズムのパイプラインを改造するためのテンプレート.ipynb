{
 "cells": [
  {
   "cell_type": "markdown",
   "metadata": {},
   "source": [
    "# アルゴリズムのパイプラインを改造するためのテンプレート\n",
    "\n",
    "\n",
    "## はじめに\n",
    "このNotebookは、04-02.で試してみたパイプラインを改造し、Part3.で学習したAlphaLensを使ってアルファのチューニングを行うためのテンプレートです\n",
    "\n",
    "### ちょっとしたTips\n",
    "アルゴリズムのパイプラインを改造する場合、パイプラインのカラムには、アルファのみ入れるようにクセをつけておくと、get_clean_factor_and_forward_returnsの引数処理が汎用的になります。\n"
   ]
  },
  {
   "cell_type": "markdown",
   "metadata": {},
   "source": [
    "## 下準備１：（必須）必要なパッケージのインポート\n",
    "アルファ（ファクター）の構築に必要なパッケージと、Alphalensの利用に必要なパッケージのインポートを行います。\n",
    "Alphalens 関連のパッケージ以外は、ここまでのNotebookで扱ってきたものです。\n",
    "必要に応じてパッケージを追加してください。\n"
   ]
  },
  {
   "cell_type": "code",
   "execution_count": null,
   "metadata": {},
   "outputs": [],
   "source": [
    "# Notebook上でパイプラインを実行する上で必要なパッケージ\n",
    "from quantopian.pipeline import Pipeline\n",
    "from quantopian.research import run_pipeline\n",
    "\n",
    "# ファクター \n",
    "from quantopian.pipeline.factors import SimpleMovingAverage\n",
    "from quantopian.pipeline.data.psychsignal import stocktwits\n",
    "from quantopian.pipeline.data import Fundamentals\n",
    "\n",
    "# ユニバース\n",
    "from quantopian.pipeline.filters import QTradableStocksUS\n",
    "\n",
    "# Alphalens\n",
    "from alphalens.tears import create_information_tear_sheet\n",
    "from alphalens.utils import get_clean_factor_and_forward_returns\n"
   ]
  },
  {
   "cell_type": "markdown",
   "metadata": {},
   "source": [
    "## 下準備２：（オプション）変数などの指定（オプション）\n",
    "\n",
    "make_pipeline()の外側で指定している変数を参照しているような場合には、以下のブロックで指定します。\n"
   ]
  },
  {
   "cell_type": "code",
   "execution_count": null,
   "metadata": {},
   "outputs": [],
   "source": [
    "# Alphalensの分析期間をデフォルト（1D,5D,10D）から変えたいときに利用\n",
    "periods = (1, 5, 20)\n",
    "\n",
    "# 変数の指定があれば、ここで便宜的にセットしてしまう\n"
   ]
  },
  {
   "cell_type": "markdown",
   "metadata": {},
   "source": [
    "## メイン作業：make_pipline() を貼り付け\n",
    "\n",
    "make_pipeline()のロジックをコピペします。**以上で作業は終了です**。\n"
   ]
  },
  {
   "cell_type": "code",
   "execution_count": null,
   "metadata": {},
   "outputs": [],
   "source": [
    "from quantopian.pipeline.data import factset\n",
    " \n",
    "OUTLIER_THRESHOLD = 3 # Maximum zscore that is not an outlier\n",
    "ZERO_THRESHOLD = 0.1 # Minimum zscore we allow before dropping security\n",
    " \n",
    "    \n",
    "def make_pipeline():\n",
    "    # Setting up the variables\n",
    "    # marketcap に対して売上が比較的小さい会社を買う（過去一年）\n",
    "    \n",
    "    revenue_ltm = factset.Fundamentals.sales_ltm.latest/\\\n",
    "                  factset.Fundamentals.mkt_val_public.latest\n",
    "    fcf = factset.Fundamentals.free_cf_fcfe_qf.latest / \\\n",
    "                   factset.Fundamentals.entrpr_val_qf.latest\n",
    "    \n",
    "    alpha_factor = revenue_ltm.log() + fcf.log()\n",
    "    \n",
    "    # Standardized logic for each input factor after this point\n",
    "    alpha_w = alpha_factor.winsorize(\n",
    "        min_percentile=0.10,\n",
    "        max_percentile=0.98,\n",
    "        mask=QTradableStocksUS() & (revenue_ltm > 0) & alpha_factor.isfinite()\n",
    "    )\n",
    "    alpha_z = alpha_w.zscore()\n",
    "    \n",
    "    outlier_filter = alpha_z.abs() < OUTLIER_THRESHOLD\n",
    "    non_zero_filter = alpha_z.abs() > ZERO_THRESHOLD\n",
    "    \n",
    "    universe = QTradableStocksUS() & \\\n",
    "               outlier_filter & \\\n",
    "               non_zero_filter\n",
    " \n",
    "    pipe = Pipeline(\n",
    "        columns={\n",
    "            'alpha_z': alpha_z,\n",
    "        },\n",
    "        screen=universe\n",
    "    )\n",
    "    return pipe"
   ]
  },
  {
   "cell_type": "markdown",
   "metadata": {},
   "source": [
    "# アルファの予測精度分析\n",
    "コード変更不要"
   ]
  },
  {
   "cell_type": "code",
   "execution_count": null,
   "metadata": {},
   "outputs": [],
   "source": [
    "# Alphalens で分析させる期間（直近から２年分を指定）\n",
    "import datetime\n",
    "start_date = \"2016-1-1\"#(datetime.datetime.now() - datetime.timedelta(days=250)).strftime('%Y-%m-%d')\n",
    "end_date   = \"2018-1-1\"#(datetime.datetime.now() - datetime.timedelta(days=3)).strftime('%Y-%m-%d')\n",
    "\n",
    "# パイプライン実行\n",
    "pipeline_output = run_pipeline(make_pipeline(), start_date, end_date)\n",
    "\n",
    "# Alphalenseで必要なデータの準備と実行（この３行を変える必要は多分殆どない）\n",
    "pricing_data = get_pricing(pipeline_output.index.levels[1], start_date, end_date, fields='open_price')\n",
    "factor_data = get_clean_factor_and_forward_returns(factor=pipeline_output,\n",
    "                                                            prices=pricing_data,\n",
    "                                                            periods=periods)\n",
    "create_information_tear_sheet(factor_data)"
   ]
  },
  {
   "cell_type": "markdown",
   "metadata": {},
   "source": [
    "# リターン分析\n",
    "コード変更不要\n"
   ]
  },
  {
   "cell_type": "code",
   "execution_count": null,
   "metadata": {},
   "outputs": [],
   "source": [
    "from alphalens.tears import create_returns_tear_sheet\n",
    "create_returns_tear_sheet(factor_data)"
   ]
  },
  {
   "cell_type": "markdown",
   "metadata": {},
   "source": [
    "## 最後に\n",
    "納得のいくパイプラインが出来上がったら、Algorithmの方に張り付けてバックテストを実行する。\n"
   ]
  }
 ],
 "metadata": {
  "kernelspec": {
   "display_name": "Python 2",
   "language": "python",
   "name": "python2"
  },
  "language_info": {
   "codemirror_mode": {
    "name": "ipython",
    "version": 2
   },
   "file_extension": ".py",
   "mimetype": "text/x-python",
   "name": "python",
   "nbconvert_exporter": "python",
   "pygments_lexer": "ipython2",
   "version": "2.7.12"
  }
 },
 "nbformat": 4,
 "nbformat_minor": 2
}
