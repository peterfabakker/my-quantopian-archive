{
 "cells": [
  {
   "cell_type": "markdown",
   "metadata": {},
   "source": [
    "#[1. Getting Started](https://quantopian-doc.readthedocs.io/ja/latest/tutorial/index.html)\n",
    "\n"
   ]
  },
  {
   "cell_type": "markdown",
   "metadata": {},
   "source": [
    "### [1.1. 取引アルゴリズムとは？](https://quantopian-doc.readthedocs.io/ja/latest/tutorial/1_getting_started_lesson1.html)\n",
    "\n",
    "1. 過去のデータについて数学的、統計的に分析\n",
    "1. 分析に基づいてモデル作成\n",
    "1. 取引の意思決定をするコンピュータプログラムを書く\n",
    "\n"
   ]
  },
  {
   "cell_type": "markdown",
   "metadata": {},
   "source": [
    "### [1.2. 何から始めればいいですか？](https://quantopian-doc.readthedocs.io/ja/latest/tutorial/1_getting_started_lesson1.html#id2)\n",
    "\n",
    "+ Quantopian Researchで、過去データ分析\n",
    "    + データはQuantoppianが用意しているこのJupyterNotebook環境を使えば無料で使える\n",
    "    + ローカルPCではアクセス不可\n",
    "    "
   ]
  },
  {
   "cell_type": "code",
   "execution_count": null,
   "metadata": {},
   "outputs": [],
   "source": [
    "from quantopian.research import prices, symbols\n",
    "import pandas as pd\n",
    "\n",
    "# AAPL の過去の価格データを取得する\n",
    "aapl_close = prices(\n",
    "    assets=symbols('AAPL'),\n",
    "    start='2013-01-01',\n",
    "    end='2016-01-01',\n",
    ")\n",
    "\n",
    "# AAPL の価格データより20日と50日の移動平均を算出する\n",
    "aapl_sma20 = aapl_close.rolling(20).mean()\n",
    "aapl_sma50 = aapl_close.rolling(50).mean()\n",
    "\n",
    "# 結果を結合して pandas の DataFrameに入れ、描画する\n",
    "pd.DataFrame({\n",
    "    'AAPL': aapl_close,\n",
    "    'SMA20': aapl_sma20,\n",
    "    'SMA50': aapl_sma50\n",
    "}).plot(\n",
    "    title='AAPL Close Price / SMA Crossover'\n",
    ");"
   ]
  },
  {
   "cell_type": "markdown",
   "metadata": {},
   "source": [
    "### [1.3. データを探す](https://quantopian-doc.readthedocs.io/ja/latest/tutorial/1_getting_started_lesson2.html)\n",
    "\n",
    "+ Quantopianには2002年〜今日現在までの、8000株以上の米国株データを用意してある\n",
    "+ 分足と日足\n",
    "    + 注意：後ほど紹介する Pipeline では日足のみ利用可\n",
    "+ データは pandasの Series / DataFrame \n",
    "\n"
   ]
  },
  {
   "cell_type": "code",
   "execution_count": null,
   "metadata": {},
   "outputs": [],
   "source": [
    "from quantopian.research import returns, symbols\n",
    "\n",
    "# 時間範囲を指定\n",
    "period_start = '2014-01-01'\n",
    "period_end = '2014-12-31'\n",
    "\n",
    "# 上記の時間範囲で、AAPLのリターンデータを照会する\n",
    "aapl_returns = returns(\n",
    "    #assets=symbols('AAPL'), \n",
    "    assets=symbols(['AAPL', \"FB\"]), \n",
    "    start=period_start,\n",
    "    end=period_end,\n",
    ")\n",
    "\n",
    "# 最初の10行のみ表示\n",
    "aapl_returns.head(10)"
   ]
  },
  {
   "cell_type": "markdown",
   "metadata": {},
   "source": [
    "+ [Quantopian Docs: Data Reference Overview](https://www.quantopian.com/docs/data-reference/overview)\n",
    "+ 企業のファンダメンタルズやセンチメント分析、マクロ経済指標など様々なデータセットがある\n",
    "+ 多数のデータにアクセスする時は `Pipeline` を使う\n",
    "    + pipeline については後半に詳しく行います\n"
   ]
  },
  {
   "cell_type": "markdown",
   "metadata": {},
   "source": [
    "### [1.4. Pipeline API](https://quantopian-doc.readthedocs.io/ja/latest/tutorial/1_getting_started_lesson3.html)\n",
    "\n",
    "+ Pipelineとは、Quantopianで使えるデータを効率よく分析するための強力なツール\n",
    "+ 基本的な使い方\n",
    "    1. `Pipeline` を使ってほしいデータを挿入したり、フィルタリングしたりする\n",
    "    1. `run_pipeline` に、１と評価期間を渡しデータを取得\n",
    "\n"
   ]
  },
  {
   "cell_type": "code",
   "execution_count": null,
   "metadata": {},
   "outputs": [],
   "source": [
    "from quantopian.pipeline import Pipeline\n",
    "\n",
    "def make_pipeline():\n",
    "    # 空の Pipeline を作成し返す。\n",
    "    return Pipeline()\n",
    "make_pipeline()"
   ]
  },
  {
   "cell_type": "markdown",
   "metadata": {},
   "source": [
    "+ `Pipeline()` の中にほしいデータを追加していけばデータが取得出来る"
   ]
  },
  {
   "cell_type": "code",
   "execution_count": null,
   "metadata": {},
   "outputs": [],
   "source": [
    "from quantopian.pipeline import Pipeline\n",
    "from quantopian.research import run_pipeline\n",
    "\n",
    "# Quantopianで使える全株式データ\n",
    "from quantopian.pipeline.data import USEquityPricing\n",
    "\n",
    "def make_pipeline():\n",
    "    # 日々の最終価格を取得\n",
    "    close_price = USEquityPricing.close.latest\n",
    "\n",
    "    # 上記のデータを Pipeline に入れて返す\n",
    "    return Pipeline(\n",
    "        columns={\n",
    "            'close_price': close_price,\n",
    "        }\n",
    "    )\n",
    "\n",
    "pipeline_output = run_pipeline(\n",
    "    make_pipeline(),\n",
    "    \"2020-01-01\",\n",
    "    \"2020-01-10\",\n",
    ")"
   ]
  },
  {
   "cell_type": "code",
   "execution_count": null,
   "metadata": {},
   "outputs": [],
   "source": [
    "pipeline_output.head(10)"
   ]
  },
  {
   "cell_type": "markdown",
   "metadata": {},
   "source": [
    "+ **Pipelineでできること**\n",
    "    + 色々なデータにアクセス\n",
    "        + 日々のClose\n",
    "        + stocktwitsのセンチメントデータ（注：２０２０年５月までしかない）\n",
    "\n",
    "    + データの加工\n",
    "        + 移動平均\n",
    "\n",
    "    + データのフィルタリング（`screen` オプションに渡す）\n",
    "        + [QTradableStocksUS](https://www.quantopian.com/docs/api-reference/pipeline-api-reference#quantopian.pipeline.filters.QTradableStocksUS)\n",
    "            + Quantopianが、独自の基準を定めてフィルタリングした株式銘柄リスト\n",
    "            + この銘柄リストを使えば安心して取引出来る（とQuantopianが選定）\n",
    "            + 毎日評価されるので、常に同じ銘柄リストではない。\n",
    "        + [.top](https://www.quantopian.com/docs/api-reference/pipeline-api-reference#zipline.pipeline.Factor.top), [.bottom](https://www.quantopian.com/docs/api-reference/pipeline-api-reference#zipline.pipeline.Factor.bottom)\n",
    "            + とある結果を受けて、その上位および下位をｎ個取得する時のメソッド\n",
    "\n",
    "\n"
   ]
  },
  {
   "cell_type": "code",
   "execution_count": null,
   "metadata": {},
   "outputs": [],
   "source": []
  },
  {
   "cell_type": "code",
   "execution_count": null,
   "metadata": {},
   "outputs": [],
   "source": [
    "from quantopian.research import run_pipeline\n",
    "from quantopian.pipeline import Pipeline\n",
    "from quantopian.pipeline.data import USEquityPricing\n",
    "from quantopian.pipeline.data.psychsignal import stocktwits\n",
    "\n",
    "# 移動平均を計算する関数をインポート\n",
    "from quantopian.pipeline.factors import SimpleMovingAverage\n",
    "\n",
    "# 組み込みトレーディング・ユニバースをインポート\n",
    "from quantopian.pipeline.filters import QTradableStocksUS\n",
    "\n",
    "\n",
    "def make_pipeline():\n",
    "    # トレーディング・ユニバースへの参照を作成\n",
    "    base_universe = QTradableStocksUS()\n",
    "\n",
    "    # 日々の最終価格を取得\n",
    "    close_price = USEquityPricing.close.latest\n",
    "\n",
    "    # bull_minus_bearスコアの3日移動平均を演算\n",
    "    sentiment_score = SimpleMovingAverage(\n",
    "        inputs=[stocktwits.bull_minus_bear],\n",
    "        window_length=3,\n",
    "    )\n",
    "\n",
    "    # pipelineに、最終価格と、センチメントスコア、スクリーニングとして、トレーディング・ユニバースを入れて返す\n",
    "    return Pipeline(\n",
    "        columns={\n",
    "            'close_price': close_price,\n",
    "            'sentiment_score': sentiment_score,\n",
    "        },\n",
    "        screen=base_universe\n",
    "    )\n",
    "\n",
    "\n",
    "pipeline_output = run_pipeline(\n",
    "    make_pipeline(),\n",
    "    \"2020-01-01\",\n",
    "    \"2020-01-10\",\n",
    ")\n",
    "\n"
   ]
  },
  {
   "cell_type": "code",
   "execution_count": null,
   "metadata": {},
   "outputs": [],
   "source": [
    "pipeline_output.tail(10)"
   ]
  },
  {
   "cell_type": "markdown",
   "metadata": {},
   "source": [
    "### [1.5. 戦略定義](https://quantopian-doc.readthedocs.io/ja/latest/tutorial/1_getting_started_lesson4.html), [1.6. 戦略分析](https://quantopian-doc.readthedocs.io/ja/latest/tutorial/1_getting_started_lesson4.html#id2)\n",
    "\n",
    "\n",
    "+ ロングショート戦略\n",
    "    + 今後最も上昇すると思われる銘柄（群）を買い、下落すると思われる銘柄（群）を売る\n",
    "    + 価格変化の差が利益\n",
    "+ stocktwits の `bull_minus_bear`データ\n",
    "    + https://stocktwits.com/symbol/MSFT\n",
    "    + 各銘柄に対して bullish なメッセージと bearish なメッセージをカウントし、 bullish - bearish することで投資家がどのくらいその銘柄にたいして強気なのかをスコア化\n",
    "    + （残念ながら、２０２０年５月までのデータしかありません）\n",
    "+ 戦略の為の調査\n",
    "    + **このセンチメントデータの３日移動平均がその後の値動きに関係あるのではないか？**\n",
    "\n",
    "    \n",
    "   \n"
   ]
  },
  {
   "cell_type": "markdown",
   "metadata": {},
   "source": [
    "+ データ分析のポイント\n",
    "    + ロングショート戦略したいので、全センチメントデータは必要無い\n",
    "    + [.top](https://www.quantopian.com/docs/api-reference/pipeline-api-reference#zipline.pipeline.Factor.top), [.bottom](https://www.quantopian.com/docs/api-reference/pipeline-api-reference#zipline.pipeline.Factor.bottom)を使って、上位および下位350銘柄を毎日評価してみよう"
   ]
  },
  {
   "cell_type": "code",
   "execution_count": null,
   "metadata": {},
   "outputs": [],
   "source": []
  },
  {
   "cell_type": "code",
   "execution_count": null,
   "metadata": {},
   "outputs": [],
   "source": [
    "from quantopian.pipeline import Pipeline\n",
    "from quantopian.pipeline.data import USEquityPricing\n",
    "from quantopian.pipeline.data.psychsignal import stocktwits\n",
    "\n",
    "# 移動平均を計算する関数をインポート\n",
    "from quantopian.pipeline.factors import SimpleMovingAverage\n",
    "\n",
    "# 組み込みトレーディング・ユニバースをインポート\n",
    "from quantopian.pipeline.filters import QTradableStocksUS\n",
    "\n",
    "\n",
    "def make_pipeline():\n",
    "    # トレーディング・ユニバースへの参照を作成\n",
    "    base_universe = QTradableStocksUS()\n",
    "\n",
    "    # 日々の最終価格を取得\n",
    "    close_price = USEquityPricing.close.latest\n",
    "\n",
    "    # bull_minus_bearスコアの3日移動平均を演算\n",
    "    sentiment_score = SimpleMovingAverage(\n",
    "        inputs=[stocktwits.bull_minus_bear],\n",
    "        window_length=3,\n",
    "    )\n",
    "    \n",
    "    # センチメントスコアに基づいて上位下位350銘柄のみを取得するフィルターを作成\n",
    "    top_bottom_scores = (\n",
    "        sentiment_score.top(350) | sentiment_score.bottom(350)\n",
    "    )\n",
    "\n",
    "    # pipelineに、最終価格と、センチメントスコア、スクリーニングとして、トレーディング・ユニバースを入れて返す\n",
    "    return Pipeline(\n",
    "        columns={\n",
    "            'close_price': close_price,\n",
    "            'sentiment_score': sentiment_score,\n",
    "        },\n",
    "        #フィルタリングする機能は screen に入れる\n",
    "        screen=base_universe & top_bottom_scores\n",
    "    )\n",
    "\n",
    "\n",
    "pipeline_output_filtered = run_pipeline(\n",
    "    make_pipeline(),\n",
    "    \"2020-01-01\",\n",
    "    \"2020-01-10\",\n",
    ")\n"
   ]
  },
  {
   "cell_type": "code",
   "execution_count": null,
   "metadata": {},
   "outputs": [],
   "source": [
    "pipeline_output_filtered.head(10)"
   ]
  },
  {
   "cell_type": "markdown",
   "metadata": {},
   "source": [
    "+ 350 だとおもっていたのですが、なぜかそれよりずっと少なくフィルターされている\n",
    "+ top / bottom の仕様をしっかり見ないとわからないけど、気力がないので誰かお願いしますm(_ _)m"
   ]
  },
  {
   "cell_type": "code",
   "execution_count": null,
   "metadata": {},
   "outputs": [],
   "source": [
    "len(pipeline_output.loc[\"2020-01-02\"]), len(pipeline_output_filtered.loc[\"2020-01-02\"])"
   ]
  },
  {
   "cell_type": "markdown",
   "metadata": {},
   "source": [
    "+ [Alphalens](https://www.quantopian.com/lectures/factor-analysis-with-alphalens) を使って、戦略が有効か確かめる。\n",
    "+ 必要なデータ\n",
    "    + 数年分のファクターデータ（ファクターデータとはここでいう `sentiment_score`）\n",
    "    + その間の株価データ\n",
    "    \n"
   ]
  },
  {
   "cell_type": "code",
   "execution_count": null,
   "metadata": {},
   "outputs": [],
   "source": [
    "# 評価する期間を指定\n",
    "period_start = '2013-01-01'\n",
    "period_end = '2016-01-01'\n",
    "\n",
    "# ファクターデータを取得\n",
    "pipeline_output_filtered = run_pipeline(\n",
    "    make_pipeline(),\n",
    "    start_date=period_start,\n",
    "    end_date=period_end\n",
    ")"
   ]
  },
  {
   "cell_type": "code",
   "execution_count": null,
   "metadata": {},
   "outputs": [],
   "source": [
    "pipeline_output_filtered.head()"
   ]
  },
  {
   "cell_type": "code",
   "execution_count": null,
   "metadata": {},
   "outputs": [],
   "source": [
    "pipeline_output_filtered.index.levels[1].unique()"
   ]
  },
  {
   "cell_type": "code",
   "execution_count": null,
   "metadata": {},
   "outputs": [],
   "source": [
    "# 株価データを取得するために prices 関数をインポート\n",
    "from quantopian.research import prices\n",
    "\n",
    "# pipeline が出力した dataframe の index から銘柄リストを取得し、\n",
    "# unique 関数を使って、重複しないリストに変換\n",
    "asset_list = pipeline_output_filtered.index.levels[1].unique()\n",
    "\n",
    "# 銘柄リストに入っている銘柄全てに対して、指定期間の価格を取得します。\n",
    "asset_prices = prices(\n",
    "    asset_list,\n",
    "    start=period_start,\n",
    "    end=period_end\n",
    ")\n"
   ]
  },
  {
   "cell_type": "code",
   "execution_count": null,
   "metadata": {},
   "outputs": [],
   "source": [
    "asset_prices.head()"
   ]
  },
  {
   "cell_type": "markdown",
   "metadata": {},
   "source": [
    "+ [get_clean_factor_and_forward_returns](https://www.quantopian.com/docs/api-reference/alphalens-api-reference#alphalens.utils.get_clean_factor_and_forward_returns)\n",
    "+ ファクターデータと価格データを組み合わせる\n",
    "+ ファクターデータを順位付けて分類し、**数日間にわたり銘柄を保有したら、収益がいくらになるか**を（複数の評価基準日に対して）計算\n"
   ]
  },
  {
   "cell_type": "code",
   "execution_count": null,
   "metadata": {},
   "outputs": [],
   "source": [
    "# Alphalens インポート\n",
    "import alphalens as al\n",
    "\n",
    "# センチメントスコアに基づいて、quantileに指定された分位数にわける\n",
    "factor_data = al.utils.get_clean_factor_and_forward_returns(\n",
    "    factor=pipeline_output_filtered['sentiment_score'],\n",
    "    prices=asset_prices,\n",
    "    quantiles=2,# top と bottom しか持っていないのだから、2つに分ければいい。\n",
    "    periods=(1,5,10),\n",
    ")\n",
    "\n",
    "# 上から5行を表示\n"
   ]
  },
  {
   "cell_type": "code",
   "execution_count": null,
   "metadata": {},
   "outputs": [],
   "source": [
    "factor_data.head(10)"
   ]
  },
  {
   "cell_type": "markdown",
   "metadata": {},
   "source": [
    "+ この `factor_data` を、alphalensが提供する描画ツールで可視化する\n",
    "+ その結果をみて考えた戦略がワークするかどうか考える"
   ]
  },
  {
   "cell_type": "code",
   "execution_count": null,
   "metadata": {},
   "outputs": [],
   "source": [
    "# ファクターの四分位別に、平均を算出\n",
    "mean_return_by_q, std_err_by_q = al.performance.mean_return_by_quantile(factor_data)\n",
    "\n"
   ]
  },
  {
   "cell_type": "code",
   "execution_count": null,
   "metadata": {},
   "outputs": [],
   "source": [
    "mean_return_by_q"
   ]
  },
  {
   "cell_type": "code",
   "execution_count": null,
   "metadata": {},
   "outputs": [],
   "source": [
    "std_err_by_q"
   ]
  },
  {
   "cell_type": "code",
   "execution_count": null,
   "metadata": {},
   "outputs": [],
   "source": [
    "mean_return_by_q.apply(\n",
    "        al.utils.rate_of_return, # 1D,5D,10Dを全て１D毎の伸び率に変換。着実に伸びているかどうかを確認出来る。\n",
    "        axis=0,\n",
    "        args=('1D',)\n",
    "    )\n"
   ]
  },
  {
   "cell_type": "code",
   "execution_count": null,
   "metadata": {},
   "outputs": [],
   "source": [
    "# ⇑を描画\n",
    "al.plotting.plot_quantile_returns_bar(\n",
    "    mean_return_by_q.apply(\n",
    "        al.utils.rate_of_return,\n",
    "        axis=0,\n",
    "        args=('1D',)\n",
    "    )\n",
    ")"
   ]
  },
  {
   "cell_type": "markdown",
   "metadata": {},
   "source": [
    "+ 試しに、5日間保有するして、その場合の累積収益を見る"
   ]
  },
  {
   "cell_type": "code",
   "execution_count": null,
   "metadata": {},
   "outputs": [],
   "source": [
    "# ファクターでウェイト付けしたロングショートのポートフォリオを収益を算出\n",
    "ls_factor_returns = al.performance.factor_returns(factor_data)\n"
   ]
  },
  {
   "cell_type": "code",
   "execution_count": null,
   "metadata": {},
   "outputs": [],
   "source": [
    "ls_factor_returns.head()"
   ]
  },
  {
   "cell_type": "code",
   "execution_count": null,
   "metadata": {},
   "outputs": [],
   "source": [
    "# 5日間保有した場合の累積収益を描画\n",
    "al.plotting.plot_cumulative_returns(\n",
    "    ls_factor_returns['5D'], \n",
    "    '5D', # period \n",
    "    freq=\"BD\", #pd.tseries.offsets.BDay()\n",
    ")"
   ]
  },
  {
   "cell_type": "markdown",
   "metadata": {},
   "source": [
    "+ この結果をみて：\n",
    "    + ドローダウンが大きい\n",
    "    + コスト、マーケットインパクトまだ考えていない\n",
    "+ **【結論】有望ではない**\n",
    "+ チュートリアルなのでこのままの戦略でバックテストに入ります\n",
    "+ https://www.quantopian.com/algorithms"
   ]
  },
  {
   "cell_type": "markdown",
   "metadata": {},
   "source": [
    "### [1.7. Algorithm API](https://quantopian-doc.readthedocs.io/ja/latest/tutorial/1_getting_started_lesson5.html), [1.8. アルゴリズムにおけるデータ処理](https://quantopian-doc.readthedocs.io/ja/latest/tutorial/1_getting_started_lesson6.html), [1.9. ポートフォリオマネジメント](https://quantopian-doc.readthedocs.io/ja/latest/tutorial/1_getting_started_lesson7.html), [1.10. リスクマネジメント](https://quantopian-doc.readthedocs.io/ja/latest/tutorial/1_getting_started_lesson7.html#id2)\n",
    "\n",
    "\n"
   ]
  },
  {
   "cell_type": "markdown",
   "metadata": {},
   "source": [
    "下記のコードは、`Research > Algorithm > New Algorithm` でエディタを開き、貼り付けて実行して下さい。\n",
    "\n",
    "```python \n",
    "# Algorithm API インポート\n",
    "import quantopian.algorithm as algo\n",
    "\n",
    "# Optimize API インポート\n",
    "# ファクターを使ってポートフォリオを組み上げていくときに、指定された制約条件を考慮した上で\n",
    "# リターンを最大化するお手伝いをしてくれるライブラリ\n",
    "# ユーザーはポジションサイズやレバレッジの制約ルールなどを渡すだけであとはこのライブラリがいい感じに\n",
    "# ファクターに従ってポートフォリオを構築してくれる\n",
    "import quantopian.optimize as opt\n",
    "\n",
    "# Pipeline  インポート\n",
    "from quantopian.pipeline import Pipeline\n",
    "from quantopian.pipeline.data.psychsignal import stocktwits\n",
    "from quantopian.pipeline.factors import SimpleMovingAverage\n",
    "\n",
    "# built-in universe と Risk API method インポート\n",
    "from quantopian.pipeline.filters import QTradableStocksUS\n",
    "from quantopian.pipeline.experimental import risk_loading_pipeline\n",
    "\n",
    "\n",
    "def initialize(context):\n",
    "    # 制約パラメータ\n",
    "   \n",
    "    context.max_leverage = 1.0\n",
    "    context.max_pos_size = 0.015\n",
    "    context.max_turnover = 0.95\n",
    "\n",
    "    # data pipelines を取り付ける\n",
    "    algo.attach_pipeline(\n",
    "        make_pipeline(),\n",
    "        'data_pipe'\n",
    "    )\n",
    "    algo.attach_pipeline(\n",
    "        risk_loading_pipeline(),\n",
    "        'risk_pipe'\n",
    "    )\n",
    "\n",
    "    # rebalance 関数をスケジュール\n",
    "    algo.schedule_function(\n",
    "        rebalance,\n",
    "        algo.date_rules.week_start(),\n",
    "        algo.time_rules.market_open(),\n",
    "    )\n",
    "\n",
    "\n",
    "def before_trading_start(context, data):\n",
    "    # pipeline出力を取得し、contextに格納する。\n",
    "    context.pipeline_data = algo.pipeline_output('data_pipe')\n",
    "\n",
    "    context.risk_factor_betas = algo.pipeline_output('risk_pipe')\n",
    "\n",
    "\n",
    "# Pipeline definition\n",
    "# Researchで構築したデータパイプラインをアルゴリズムに統合\n",
    "def make_pipeline():\n",
    "\n",
    "    sentiment_score = SimpleMovingAverage(\n",
    "        inputs=[stocktwits.bull_minus_bear],\n",
    "        window_length=3,\n",
    "        # filtering \n",
    "        mask=QTradableStocksUS() \n",
    "    )\n",
    "\n",
    "    return Pipeline(\n",
    "        columns={\n",
    "            'sentiment_score': sentiment_score,\n",
    "        },\n",
    "        # つまり、sentiment_scoreが null ではない銘柄は全部投資対象に入れる\n",
    "        screen=sentiment_score.notnull()\n",
    "    )\n",
    "\n",
    "\n",
    "def rebalance(context, data):\n",
    "    # pipeline 出力から alpha を取り出す\n",
    "    alpha = context.pipeline_data.sentiment_score\n",
    "\n",
    "    if not alpha.empty:\n",
    "        # MaximizeAlpha objective 作成\n",
    "        # alpha（つまりsentiment_score）でウェイトをつける\n",
    "        objective = opt.MaximizeAlpha(alpha)\n",
    "\n",
    "        # ポジションサイズ制約\n",
    "        # with_equal_bounds を使うと、どんなに小さなalphaであってもポートフォリオに組み込む\n",
    "        # という設定。つまり大きなalphaの銘柄に大きく偏ったポートフォリオにならない。\n",
    "        constrain_pos_size = opt.PositionConcentration.with_equal_bounds(\n",
    "            -context.max_pos_size, # min\n",
    "            context.max_pos_size # max \n",
    "        )\n",
    "\n",
    "        # ターゲットポートフォリオレバレッジ制約\n",
    "        # ポートフォリオのウェイトが、max_leverage 以下になるように制約\n",
    "        max_leverage = opt.MaxGrossExposure(context.max_leverage)\n",
    "\n",
    "        # ロング（買い持ち）とショート（売り持ち）のサイズをだいたい同じに合わせる\n",
    "        dollar_neutral = opt.DollarNeutral()\n",
    "\n",
    "        # ポートフォリオの出来高の制約\n",
    "        # MaxTurnoverに関するドキュメントがないのでなんだか良くわからない\n",
    "        # どうしてDocがないの？という質問がForumにあった。\n",
    "        # https://www.quantopian.com/posts/optimize-api-maxturnover-constraint-is-it-supported#5a3be89765ca177fe452db6d\n",
    "        # 答えも不明瞭\n",
    "        max_turnover = opt.MaxTurnover(context.max_turnover)\n",
    "\n",
    "        # ターゲットポートフォリオのリスクエクスポージャーを制限する。\n",
    "        \n",
    "        # 2casa さんのありがたい教えによると（https://github.com/tokyoquantopian/TQUG6_20181215/blob/master/TQUG6_04-01.%E3%82%A2%E3%83%AB%E3%82%B4%E3%83%AA%E3%82%BA%E3%83%A0%E3%81%AB%E3%82%88%E3%82%8B%E3%83%90%E3%83%83%E3%82%AF%E3%83%86%E3%82%B9%E3%83%88.ipynb)\n",
    "        # アルファ以外のファクターを取らないようにすることで、純粋に自分が意図するファクターにのみ\n",
    "        # 投資を行っていることを保証するため、リスクモデルエクスポージャ制約を入れる\n",
    "        # ということ。\n",
    "        # デフォルト値は、セクターエクスポージャーの最大値は0.2\n",
    "        # スタイルエクスポージャーの最大値は0.4\n",
    "        factor_risk_constraints = opt.experimental.RiskModelExposure(\n",
    "            context.risk_factor_betas,\n",
    "            # 将来のリリースで RiskModelExposure のデフォルトが変更された場合にも対応。デフォルト設定もopt.Newest\n",
    "            version=opt.Newest \n",
    "        )\n",
    "\n",
    "        # 目的関数と制約リストを使ってポートフォリオをリバランスする\n",
    "        algo.order_optimal_portfolio(\n",
    "            objective=objective,\n",
    "            constraints=[\n",
    "                constrain_pos_size,\n",
    "                max_leverage,\n",
    "                dollar_neutral,\n",
    "                max_turnover,\n",
    "                factor_risk_constraints,\n",
    "            ]\n",
    "        )\n",
    "```        "
   ]
  },
  {
   "cell_type": "markdown",
   "metadata": {},
   "source": [
    "### [1.11. バックテスト で分析する — Quantopian 日本語翻訳プロジェクト ドキュメント](https://quantopian-doc.readthedocs.io/ja/latest/tutorial/1_getting_started_lesson8.html)\n",
    "\n",
    "+ 上記コードを `FullBacktest` したあとに、\"Notebook\"タブをクリック\n"
   ]
  }
 ],
 "metadata": {
  "kernelspec": {
   "display_name": "Python 3.5",
   "language": "python",
   "name": "py35"
  },
  "language_info": {
   "codemirror_mode": {
    "name": "ipython",
    "version": 3
   },
   "file_extension": ".py",
   "mimetype": "text/x-python",
   "name": "python",
   "nbconvert_exporter": "python",
   "pygments_lexer": "ipython3",
   "version": "3.5.9"
  }
 },
 "nbformat": 4,
 "nbformat_minor": 2
}
