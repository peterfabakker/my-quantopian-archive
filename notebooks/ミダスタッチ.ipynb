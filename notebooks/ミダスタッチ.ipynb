{
 "cells": [
  {
   "cell_type": "markdown",
   "metadata": {},
   "source": [
    "## Midas touch されそうな銘柄を探す\n",
    "+ [ミダース - Wikipedia](https://ja.wikipedia.org/wiki/%E3%83%9F%E3%83%80%E3%83%BC%E3%82%B9)\n",
    "    + ギリシア神話の中でミダース（古希: Μίδας, Midās）は、プリュギア（Phrygia）の都市ペシヌス（Pessinus）の王。長母音を省略してミダスとも表記される。触ったもの全てを黄金に変える能力（\"Midas touch\"）のため広く知られている。\n",
    "    \n",
    "+ 埋蔵量が多い\n",
    "+ 今まではコストが高かったので株価が低く評価されていた銘柄\n",
    "+ カントリーリスクがなるべく無い\n"
   ]
  },
  {
   "cell_type": "markdown",
   "metadata": {},
   "source": [
    "### Gold Miners に関するメモ\n",
    "\n",
    "+ [RANKED: Top 10 lowest cost gold mines in the world Q1 - MINING.COM](https://www.mining.com/featured-article/ranked-top-10-lowest-cost-gold-mines-in-the-world-q1/)\n",
    "    + AISC指標は、鉱山の操業効率のベンチマーク\n",
    "    + 鉱山の経済性\n"
   ]
  },
  {
   "cell_type": "code",
   "execution_count": null,
   "metadata": {},
   "outputs": [],
   "source": [
    "import numpy as np\n",
    "\n",
    "# Import Pipeline class and datasets\n",
    "from quantopian.pipeline import Pipeline\n",
    "from quantopian.pipeline.data import USEquityPricing\n",
    "\n",
    "from quantopian.pipeline.data.morningstar import Fundamentals\n",
    "\n",
    "from quantopian.pipeline.data.factset import Fundamentals as factst_funda\n",
    "from quantopian.pipeline.filters import Q500US, StaticSids, StaticAssets\n",
    "\n",
    "# Import built-in trading universe\n",
    "from quantopian.pipeline.filters import QTradableStocksUS\n",
    "\n",
    "# The 10 Biggest Gold Mining Stocks\n",
    "# https://www.fool.com/investing/the-10-biggest-gold-mining-stocks.aspx\n",
    "    \n",
    "gold_tickers = ['AEM', 'AGI', 'ALO', 'AU', 'BVN', 'DRD', 'EGO',\n",
    "                'FCX',  'GFI', 'GOLD', 'HMY', 'KGC', 'KL',\n",
    "                 'NEM',  'SBSW'] #'NG','GDX', 'GLD'\n",
    "\n",
    "def make_pipeline():\n",
    "    # Create a reference to our trading universe\n",
    "    base_universe = QTradableStocksUS()\n",
    "\n",
    "    # Get latest closing price\n",
    "    close_price = USEquityPricing.close.latest\n",
    "    \n",
    "    #current_liabilities\n",
    "    #The debts or obligations of the firm that are due within one year.\n",
    "    current_liabilities = Fundamentals.current_liabilities.latest\n",
    "    \n",
    "    #total_assets\n",
    "    #The aggregate amount of probable future economic benefits obtained or controlled by a particular enterprise as a result of past transactions or events.\n",
    "    total_assets = Fundamentals.total_assets.latest\n",
    "    market_cap = Fundamentals.market_cap.latest\n",
    "    morningstar_industry_group_code = Fundamentals.morningstar_industry_group_code.latest\n",
    "    morningstar_industry_code = Fundamentals.morningstar_industry_code.latest\n",
    "    total_liabilities_net_minority_interest = Fundamentals.total_liabilities_net_minority_interest.latest\n",
    "    operating_income = Fundamentals.operating_income.latest\n",
    "    interest_expense = Fundamentals.interest_expense.latest\n",
    "    cash_and_cash_equivalents = Fundamentals.cash_and_cash_equivalents.latest\n",
    "    current_assets = Fundamentals.current_assets.latest\n",
    "    current_liabilities = Fundamentals.current_liabilities.latest\n",
    "    current_ratio = Fundamentals.current_ratio.latest\n",
    "    \n",
    "    enterprise_value = Fundamentals.enterprise_value.latest\n",
    "    ebitda = Fundamentals.ebitda.latest\n",
    "    enterprise_multiple = enterprise_value / ebitda\n",
    "\n",
    "    \n",
    "    # interest_expense\n",
    "\n",
    "    myassets = StaticAssets(symbols(gold_tickers + [\"GLD\"]))\n",
    "    \n",
    "    # Return Pipeline containing close_price and\n",
    "    # sentiment_score that has our trading universe as screen\n",
    "    return Pipeline(\n",
    "        columns={\n",
    "            'close_price': close_price,\n",
    "            'enterprise_multiple':enterprise_multiple,\n",
    "#             'current_liabilities':current_liabilities, \n",
    "#             'total_assets':total_assets, \n",
    "#             'cash_and_cash_equivalents':cash_and_cash_equivalents,\n",
    "#             'current_assets':current_assets,\n",
    "#             'liab/asset':total_liabilities_net_minority_interest/total_assets,\n",
    "#             'cash/asset':cash_and_cash_equivalents/total_assets,\n",
    "#             'market_cap':market_cap / 1000000000,\n",
    "#             'morningstar_industry_group_code':morningstar_industry_group_code,\n",
    "#             'morningstar_industry_code':morningstar_industry_code,\n",
    "#             'total_liabilities_net_minority_interest': total_liabilities_net_minority_interest, \n",
    "#             'operating_income':operating_income, \n",
    "#             'interest_expense':interest_expense,\n",
    "#             'current_liabilities':current_liabilities, \n",
    "#             'current_ratio':current_ratio,\n",
    "            \n",
    "        },\n",
    "        screen=myassets #base_universe #myassets\n",
    "    )\n",
    "\n",
    "# Import run_pipeline method\n",
    "from quantopian.research import run_pipeline\n",
    "\n",
    "# Execute pipeline created by make_pipeline\n",
    "# between start_date and end_date\n",
    "pipeline_output = run_pipeline(\n",
    "    make_pipeline(),\n",
    "    start_date='2015-09-01',\n",
    "    end_date='2020-05-01'\n",
    ")\n",
    "\n",
    "# Display last 10 rows\n",
    "pipeline_output.tail(10)"
   ]
  },
  {
   "cell_type": "code",
   "execution_count": null,
   "metadata": {},
   "outputs": [],
   "source": [
    "pipeline_output[\"enterprise_multiple\"].unstack().describe().T.sort_values(by=\"mean\")"
   ]
  },
  {
   "cell_type": "code",
   "execution_count": null,
   "metadata": {},
   "outputs": [],
   "source": [
    "pipeline_output[\"enterprise_multiple\"].unstack().plot()"
   ]
  },
  {
   "cell_type": "code",
   "execution_count": null,
   "metadata": {},
   "outputs": [],
   "source": [
    "x = gold_tickers.copy()\n",
    "n = len(x)\n",
    "yoko = 3\n",
    "tate = int(n / yoko) + 1 \n",
    "print(tate, yoko)\n",
    "\n",
    "#pipeline_output[\"enterprise_multiple\"].unstack().plot(subplots=True, layout=(tate, yoko), figsize=(20,20), ylim=(-100,200))"
   ]
  },
  {
   "cell_type": "code",
   "execution_count": null,
   "metadata": {},
   "outputs": [],
   "source": [
    "import matplotlib.pyplot as plt \n",
    "\n",
    "fig = plt.figure(figsize=(20,30))\n",
    "plt.subplots_adjust()\n",
    "\n",
    "for i, ticker in enumerate(gold_tickers):\n",
    "    ax = fig.add_subplot(tate, yoko, i+1)\n",
    "    ax.set_title(ticker)\n",
    "    ax1 = ax.twinx()\n",
    "    ax.plot(pipeline_output[\"enterprise_multiple\"].xs(symbols(ticker), level=1),color=\"#002a83\")\n",
    "    ax.set_ylim(-100,200)\n",
    "    ax1.plot(pipeline_output[\"close_price\"].xs(symbols(\"GLD\"), level=1), color=\"#e50000\", alpha=0.3)\n",
    "    \n"
   ]
  }
 ],
 "metadata": {
  "kernelspec": {
   "display_name": "Python 3.5",
   "language": "python",
   "name": "py35"
  },
  "language_info": {
   "codemirror_mode": {
    "name": "ipython",
    "version": 3
   },
   "file_extension": ".py",
   "mimetype": "text/x-python",
   "name": "python",
   "nbconvert_exporter": "python",
   "pygments_lexer": "ipython3",
   "version": "3.5.9"
  }
 },
 "nbformat": 4,
 "nbformat_minor": 2
}
