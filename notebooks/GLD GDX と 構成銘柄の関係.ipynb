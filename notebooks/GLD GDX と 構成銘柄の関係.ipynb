{
 "cells": [
  {
   "cell_type": "markdown",
   "metadata": {},
   "source": [
    "+ GDXとGDXの構成銘柄が決算のタイミングでどのように関係するか\n",
    "\n",
    "\n",
    "Name|Symbol|% Assets|次回決算日\n",
    "---|---|---|---\n",
    "Newmont Corp|NEM|15.40%|2020/04/21\n",
    "Barrick Gold Corp|ABX.TO|13.51%|2020/05/05\n",
    "Franco-Nevada Corp|FNV.TO|7.78%|2020/05/06\n",
    "Wheaton Precious Metals Corp|WPM.TO|5.73%|2020/05/06\n",
    "Kirkland Lake Gold Ltd|KL.TO|4.94%|2020/04/30\n",
    "Newcrest Mining Ltd|NCM.AX|4.36%|2020/08/17\n",
    "Anglogold Ashanti Ltd ADR|AU.JO|4.19%|\n",
    "Agnico Eagle Mines Ltd|AEM.TO|3.96%|\n",
    "Royal Gold Inc|RGLD|3.49%|\n",
    "Kinross Gold Corp|K.TO|3.03%|\n",
    "\n",
    "+ [Newmont Mining Calendar | Markets Insider](https://markets.businessinsider.com/stocks/nem/events)\n",
    "+ [Barrick Gold Calendar | Markets Insider](https://markets.businessinsider.com/stocks/gold/events)\n",
    "\n",
    "\n",
    "+ ここ4回のNEM\n",
    "\n",
    "FISCAL QUARTER END|DATE REPORTED|EARNINGS PER SHARE*|CONSENSUS EPS* FORECAST|% SURPRISE\n",
    "---|---|---|---|---\n",
    "Dec 2019|02/20/2020|0.5|0.48|4.17\n",
    "Sep 2019|11/05/2019|0.36|0.4|-10\n",
    "Jun 2019|07/25/2019|0.12|0.23|-47.83\n",
    "Mar 2019|04/25/2019|0.33|0.26|26.92\n"
   ]
  },
  {
   "cell_type": "code",
   "execution_count": null,
   "metadata": {},
   "outputs": [],
   "source": []
  },
  {
   "cell_type": "code",
   "execution_count": null,
   "metadata": {},
   "outputs": [],
   "source": [
    "import numpy as np\n",
    "\n",
    "from datetime import datetime\n",
    "import pandas as pd\n",
    "from quantopian.pipeline.filters import Q500US, StaticSids, StaticAssets\n",
    "\n",
    "nemdates = \"02/20/2020, 11/05/2019, 07/25/2019, 04/25/2019\"\n",
    "s_nemdates = pd.to_datetime(pd.Series(nemdates.split(\",\")))\n",
    "\n",
    "\n",
    "# Import Pipeline class and datasets\n",
    "from quantopian.pipeline import Pipeline\n",
    "from quantopian.pipeline.data import USEquityPricing\n",
    "from quantopian.pipeline.data.psychsignal import stocktwits\n",
    "from quantopian.pipeline.data.morningstar import Fundamentals\n",
    "from quantopian.pipeline.data.factset import Fundamentals as factst_funda\n",
    "\n",
    "# Import built-in trading universe\n",
    "from quantopian.pipeline.filters import QTradableStocksUS\n",
    "\n",
    "\n",
    "def make_pipeline():\n",
    "    close_price = USEquityPricing.close.latest\n",
    "    myassets = StaticAssets(symbols([\"NEM\", \"GDX\", \"GLD\", \"SPY\"])) #\"ABX\", \"FNV\", \"WPM\", \"KL\",\n",
    "\n",
    "    return Pipeline(\n",
    "        columns={\n",
    "            'close_price': close_price,\n",
    "        },\n",
    "        screen=myassets\n",
    "    )\n",
    "\n",
    "# Import run_pipeline method\n",
    "from quantopian.research import run_pipeline\n",
    "\n",
    "# Execute pipeline created by make_pipeline\n",
    "# between start_date and end_date\n",
    "pipeline_output = run_pipeline(\n",
    "    make_pipeline(),\n",
    "    start_date='2019-01-01',\n",
    "    end_date='2020-04-01'\n",
    ")\n",
    "\n",
    "# Display last 10 rows\n",
    "pipeline_output.tail(10)"
   ]
  },
  {
   "cell_type": "code",
   "execution_count": null,
   "metadata": {},
   "outputs": [],
   "source": [
    "pipeline_output.unstack()\n",
    "d = dict()\n",
    "for date in s_nemdates.sort_values():\n",
    "    before = pipeline_output.unstack().loc[:date].tail(10)\n",
    "    after = pipeline_output.unstack().loc[date:].head(10)\n",
    "    concat = pd.concat([before, after]).drop_duplicates()\n",
    "    x = concat.pct_change()\n",
    "    d[date] = x\n",
    "    ax = x.plot()\n",
    "    ax.axvline(date, color=\"red\")\n",
    "    \n",
    "    \n"
   ]
  },
  {
   "cell_type": "code",
   "execution_count": null,
   "metadata": {},
   "outputs": [],
   "source": [
    "before = pipeline_output.unstack().loc[:date].tail(10)\n",
    "after = pipeline_output.unstack().loc[date:].head(10)\n",
    "concat = pd.concat([before, after]).drop_duplicates()\n",
    "concat"
   ]
  }
 ],
 "metadata": {
  "kernelspec": {
   "display_name": "Python 3.5",
   "language": "python",
   "name": "py35"
  },
  "language_info": {
   "codemirror_mode": {
    "name": "ipython",
    "version": 3
   },
   "file_extension": ".py",
   "mimetype": "text/x-python",
   "name": "python",
   "nbconvert_exporter": "python",
   "pygments_lexer": "ipython3",
   "version": "3.5.9"
  }
 },
 "nbformat": 4,
 "nbformat_minor": 2
}
