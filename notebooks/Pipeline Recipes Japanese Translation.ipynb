{
 "cells": [
  {
   "cell_type": "code",
   "execution_count": null,
   "metadata": {},
   "outputs": [],
   "source": [
    "from quantopian.pipeline import Pipeline\n",
    "from quantopian.research import run_pipeline\n",
    "from quantopian.pipeline.data.user_53a9f7f7a254c3731a000070 import mytestvixdata\n",
    "\n",
    "from quantopian.pipeline.data.builtin import USEquityPricing\n",
    "from quantopian.pipeline.factors import SimpleMovingAverage\n",
    "\n",
    "from quantopian.pipeline.filters import StaticAssets\n",
    "\n",
    "my_symbols = StaticAssets(symbols([\"AAPL\", \"VXX\"]))\n",
    "\n",
    "close = USEquityPricing.close\n",
    "\n",
    "pipe = Pipeline(\n",
    "    columns={\n",
    "        'my_dataset': mytestvixdata.vixopen.latest,\n",
    "        'close':close.latest,\n",
    "    },\n",
    "    #screen=mytestvixdata.vixopen.latest.notnull()\n",
    "    screen=my_symbols,\n",
    ")\n",
    "df = run_pipeline(pipe, '2019-08-02', '2019-10-18')\n",
    "df.tail()"
   ]
  },
  {
   "cell_type": "markdown",
   "metadata": {},
   "source": [
    "[Quantopian Docs: Pipeline Recipes](https://www.quantopian.com/docs/recipes/pipeline-recipes#pipeline-recipes)\n",
    "を意訳してみました。ご査収ください。"
   ]
  },
  {
   "cell_type": "markdown",
   "metadata": {},
   "source": [
    "## Pipeline Recipes\n",
    "\n",
    "pipleine を使うと、自分が取得したいアセット（銘柄）を指定して、初期化するのが通常の使い方ですが、\n",
    "\n",
    "なにも指定しなくても初期化はできます。\n",
    "\n",
    "この場合は、指定された日付と、Quantopianが提供できる**全ての**アセットのマルチインデックスの空DataFrameが返ります\n"
   ]
  },
  {
   "cell_type": "code",
   "execution_count": null,
   "metadata": {},
   "outputs": [],
   "source": [
    "from quantopian.pipeline import Pipeline\n",
    "pipe = Pipeline()\n",
    "df = run_pipeline(pipe, '2019-10-17', '2019-10-18')\n",
    "df"
   ]
  },
  {
   "cell_type": "markdown",
   "metadata": {},
   "source": [
    "Pipelineは、`colomns`, `screen`, `domain` のいずれかのオプションを取って、フィルタリング（スクリーニング）できます。\n",
    "\n",
    "たとえば、`US_EQUITIES` は上場されている全ての米株リストを取得できます。（Quantopianでは米株を扱うことができますので、実質上記のコードと同じ結果になります）\n"
   ]
  },
  {
   "cell_type": "code",
   "execution_count": null,
   "metadata": {},
   "outputs": [],
   "source": [
    "\n",
    "from quantopian.pipeline.domain import US_EQUITIES\n",
    "\n",
    "pipe = Pipeline(domain=US_EQUITIES)\n",
    "df = run_pipeline(pipe, '2019-10-17', '2019-10-18')\n",
    "df"
   ]
  },
  {
   "cell_type": "markdown",
   "metadata": {},
   "source": [
    "[QTradableStocksUS](https://www.quantopian.com/docs/api-reference/pipeline-api-reference#quantopian.pipeline.filters.QTradableStocksUS) を使うと、Quantopian がコンテストで指定しているアセットだけを取得できます。（詳しくはリンク先をご覧ください）\n"
   ]
  },
  {
   "cell_type": "code",
   "execution_count": null,
   "metadata": {},
   "outputs": [],
   "source": [
    "from quantopian.pipeline import Pipeline\n",
    "from quantopian.pipeline.filters import QTradableStocksUS\n",
    "\n",
    "qtu = QTradableStocksUS()\n",
    "\n",
    "# Define a pipeline and filter the output down to the QTradableStocksUS.\n",
    "pipe = Pipeline(\n",
    "    screen=qtu\n",
    ")\n",
    "df = run_pipeline(pipe, '2019-10-17', '2019-10-18')\n",
    "df"
   ]
  },
  {
   "cell_type": "markdown",
   "metadata": {},
   "source": [
    "rows の数が、さっきよりだいぶ減ったのがわかると思います。"
   ]
  },
  {
   "cell_type": "markdown",
   "metadata": {},
   "source": [
    "### built-in factors を使う\n",
    "\n",
    "Quantopianでは、様々な built-in factors メソッドが用意されています。\n",
    "たとえば、Daily ReturnやRSI、VWAPといった通常ユーザーがアセットのデータを使って計算しなくては行けないFactor（とココでは呼びます）も、メソッドと引数（必要であれば）を渡すだけで、全銘柄に対し算出して結果を出力してくれます。どのようなビルトインがあるかは、こちらのレファレンスを参照してください。\n",
    "\n",
    "[Quantopian Docs: Pipeline Reference built-in-factors](https://www.quantopian.com/docs/api-reference/pipeline-api-reference#built-in-factors)\n",
    "\n"
   ]
  },
  {
   "cell_type": "code",
   "execution_count": null,
   "metadata": {},
   "outputs": [],
   "source": [
    "from quantopian.pipeline import Pipeline\n",
    "\n",
    "# 使いたいファクターをインポート\n",
    "from quantopian.pipeline.factors import DailyReturns, Returns, SimpleBeta\n",
    "\n",
    "# Daily Return (前日の終値から今日の終値までの変化率)を取得するための関数\n",
    "# option で、inputs と window_length を渡すことができる。\n",
    "# 何も渡さない場合は、inputs=[EquityPricing.close], window_length=2\n",
    "# このようにインスタンス化したものを用意する\n",
    "daily_returns = DailyReturns()\n",
    "\n",
    "# Returns は、指定された日数の終値の変化率を返す関数。\n",
    "# window_lengthという引数で日数を指定\n",
    "# オプションで、inputsを渡せる。\n",
    "# 下記の例は、６日間の変化率。\n",
    "returns_1w = Returns(window_length=6)\n",
    "\n",
    "# Only allowed_missing_percentage has a default value (0.25). We define target and\n",
    "# regression_length and override the default value for allowed_missing_percentage.\n",
    "beta_to_spy = SimpleBeta(\n",
    "    target=symbols('SPY'),\n",
    "    regression_length=252,\n",
    "    allowed_missing_percentage=0.05\n",
    ")\n",
    "\n",
    "\n",
    "pipe = Pipeline(\n",
    "    columns={\n",
    "        'daily_returns': daily_returns,\n",
    "        'returns_1w': returns_1w,\n",
    "        'beta_to_spy': beta_to_spy,\n",
    "    }\n",
    ")"
   ]
  }
 ],
 "metadata": {
  "kernelspec": {
   "display_name": "Python 2",
   "language": "python",
   "name": "python2"
  },
  "language_info": {
   "codemirror_mode": {
    "name": "ipython",
    "version": 2
   },
   "file_extension": ".py",
   "mimetype": "text/x-python",
   "name": "python",
   "nbconvert_exporter": "python",
   "pygments_lexer": "ipython2",
   "version": "2.7.12"
  }
 },
 "nbformat": 4,
 "nbformat_minor": 2
}
