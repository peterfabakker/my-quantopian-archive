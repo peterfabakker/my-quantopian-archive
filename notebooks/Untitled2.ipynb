{
 "cells": [
  {
   "cell_type": "code",
   "execution_count": null,
   "metadata": {},
   "outputs": [],
   "source": [
    "# Pipeline class と USEquityPricing dataset　を import\n",
    "from quantopian.pipeline import Pipeline\n",
    "from quantopian.pipeline.data import USEquityPricing\n",
    "\n",
    "def make_pipeline():\n",
    "    # 日々の最終価格を取得\n",
    "    close_price = USEquityPricing.close.latest\n",
    "\n",
    "    # 上記のデータを Pipeline に入れて返す\n",
    "    return Pipeline(\n",
    "        columns={\n",
    "            'close_price': close_price,\n",
    "        }\n",
    "    )"
   ]
  }
 ],
 "metadata": {
  "kernelspec": {
   "display_name": "Python 3.5",
   "language": "python",
   "name": "py35"
  },
  "language_info": {
   "codemirror_mode": {
    "name": "ipython",
    "version": 3
   },
   "file_extension": ".py",
   "mimetype": "text/x-python",
   "name": "python",
   "nbconvert_exporter": "python",
   "pygments_lexer": "ipython3",
   "version": "3.5.9"
  }
 },
 "nbformat": 4,
 "nbformat_minor": 2
}
