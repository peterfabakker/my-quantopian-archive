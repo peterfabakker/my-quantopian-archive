{
 "cells": [
  {
   "cell_type": "markdown",
   "metadata": {},
   "source": [
    "# アナリストレーティングとリビジョンでマトリックスをつくってパフォーマンス分析\n",
    "\n",
    "[日本株のバブル相場、プロがひっそり儲けている「凄すぎる投資法」の正体（大川 智宏） | マネー現代 | 講談社（4/6）](https://gendai.ismedia.jp/articles/-/73281?page=4)\n",
    "\n",
    "![](https://gendai.ismcdn.jp/mwimgs/8/0/-/img_80795e31824430178f25792d311a24c757495.jpg)\n",
    "\n",
    "記事によると\n",
    "\n",
    "\n",
    "![](https://gendai.ismcdn.jp/mwimgs/e/0/-/img_e028d1d1cbff33aba8922596fb18d62859851.jpg)\n",
    "\n",
    "---\n",
    "\n",
    "[Quantopian Docs: FactSet Estimates - Consensus](https://www.quantopian.com/docs/data-reference/estimates_consensus#factset-estimates-consensus-data-reference)\n",
    "+ [Fields](https://www.quantopian.com/docs/data-reference/estimates_consensus#fields)\n",
    "    + `up` (dtype float64) - The number of estimates revised up within FactSet’s consensus window for the specified slice.\n",
    "    + `down` (dtype float64) - The number of estimates revised down within FactSet’s consensus window for the specified slice.\n",
    "    + `num_est` (dtype float64) - The number of estimates included in the consensus values, forecasted within FactSet’s consensus window for the specified slice.\n",
    "\n",
    "[Quantopian Docs: FactSet Estimates - Broker Recommendations](https://www.quantopian.com/docs/data-reference/estimates_recommendations)\n",
    "\n",
    "Rating|Description\n",
    "---|---\n",
    "1|Buy\n",
    "1.5|Overweight\n",
    "2|Hold\n",
    "2.5|Underweight\n",
    "3|Sell\n"
   ]
  },
  {
   "cell_type": "code",
   "execution_count": null,
   "metadata": {},
   "outputs": [],
   "source": []
  },
  {
   "cell_type": "code",
   "execution_count": null,
   "metadata": {},
   "outputs": [],
   "source": [
    "from quantopian.pipeline import Pipeline\n",
    "from quantopian.pipeline.data.factset.estimates import PeriodicConsensus\n",
    "from quantopian.pipeline.domain import US_EQUITIES\n",
    "from quantopian.research import run_pipeline\n",
    "\n",
    "fq1_eps_cons = PeriodicConsensus.slice('EPS', 'qf', 1)\n",
    "fq2_eps_cons = PeriodicConsensus.slice('EPS', 'qf', 2)\n",
    "\n",
    "fq1_eps_mean = fq1_eps_cons.mean.latest\n",
    "fq2_eps_mean = fq2_eps_cons.mean.latest\n",
    "\n",
    "estimated_growth_factor = (fq2_eps_mean - fq1_eps_mean) / fq1_eps_mean\n",
    "\n",
    "pipe = Pipeline(\n",
    "    columns={\n",
    "        'fq1_eps_mean':fq1_eps_mean,\n",
    "        'fq2_eps_mean':fq2_eps_mean,\n",
    "        'estimated_growth_factor': estimated_growth_factor,\n",
    "    },\n",
    "    domain=US_EQUITIES,\n",
    "    screen=estimated_growth_factor.notnull(),\n",
    ")\n",
    "\n",
    "\n",
    "df = run_pipeline(pipe, '2018-05-05', '2019-05-05')\n"
   ]
  },
  {
   "cell_type": "code",
   "execution_count": null,
   "metadata": {},
   "outputs": [],
   "source": [
    "from quantopian.pipeline import Pipeline\n",
    "import quantopian.pipeline.data.factset.estimates as fe\n",
    "from quantopian.pipeline.domain import US_EQUITIES\n",
    "from quantopian.research import run_pipeline\n",
    "\n",
    "# Create a reference to the ConsensusRecommendations dataset.\n",
    "fe_rec = fe.ConsensusRecommendations\n",
    "\n",
    "# Create a pipeline that gets the most recent recommendations for\n",
    "# all US equities.\n",
    "pipe = Pipeline(\n",
    "    columns={\n",
    "        'rec_buy': fe_rec.buy.latest,\n",
    "        'rec_overweight': fe_rec.over.latest,\n",
    "        'rec_hold': fe_rec.hold.latest,\n",
    "        'rec_underweight': fe_rec.under.latest,\n",
    "        'rec_sell': fe_rec.sell.latest,\n",
    "        'rec_total': fe_rec.total.latest,\n",
    "        'no_rec': fe_rec.no_rec.latest,\n",
    "        'rec_mark': fe_rec.mark.latest,\n",
    "        'rec_asof': fe_rec.asof_date.latest,\n",
    "        'rec_ts': fe_rec.timestamp.latest,\n",
    "    },\n",
    "    domain=US_EQUITIES,\n",
    "    screen=fe_rec.total.latest.notnull(),\n",
    ")\n",
    "\n",
    "# Run the pipeline over a year and print the first few rows of the result.\n",
    "df = run_pipeline(pipe,'2004-05-05', '2019-05-05')"
   ]
  },
  {
   "cell_type": "code",
   "execution_count": null,
   "metadata": {},
   "outputs": [],
   "source": [
    "df.head()"
   ]
  }
 ],
 "metadata": {
  "kernelspec": {
   "display_name": "Python 3.5",
   "language": "python",
   "name": "py35"
  },
  "language_info": {
   "codemirror_mode": {
    "name": "ipython",
    "version": 3
   },
   "file_extension": ".py",
   "mimetype": "text/x-python",
   "name": "python",
   "nbconvert_exporter": "python",
   "pygments_lexer": "ipython3",
   "version": "3.5.9"
  }
 },
 "nbformat": 4,
 "nbformat_minor": 2
}
