{
 "cells": [
  {
   "cell_type": "markdown",
   "metadata": {},
   "source": [
    "## 格付けが下位だが、株価が下がっていない銘柄を探す\n",
    "\n",
    "+ 年初来で見て、格付けがDだが同セクターで十分下がっていないように見える銘柄を探す\n",
    "+ `financial_health_grade = Fundamentals.financial_health_grade.latest`\n",
    "    + https://www.quantopian.com/docs/data-reference/morningstar_fundamentals#financial-health-grade\n",
    "    + Instead of using accounting-based ratios to formulate a measure to reflect the financial health of a firm, we use structural or contingent claim models. Structural models take advantage of both market information and accounting financial information. The firm's equity in such models is viewed as a call option on the value of the firm's assets. If the value of the assets is not sufficient to cover the firm's liabilities (the strike price), default is expected to occur, and the call option expires worthless and the firm is turned over to its creditors. To estimate a distance to default, the value of the firm's liabilities is obtained from the firm's latest balance sheet and incorporated into the model. We then rank the calculated distance to default and award 10% of the universe A's, 20% B's, 40% C's, 20% D's, and 10% F's. Morningstar calculates this figure in-house on a daily basis.\n",
    "    + デフォルトまでの距離をランク付けし、ユニバースの10%をA、20%をB、40%をC、20%をD、10%をFとします。モーニングスターはこの数値を毎日自社で計算しています。\n",
    "    "
   ]
  },
  {
   "cell_type": "code",
   "execution_count": null,
   "metadata": {},
   "outputs": [],
   "source": [
    "MORNINGSTAR_INDUSTRY_GROUP_CODES_after_Nov2019 =  {10110: 'Agricultural Inputs',\n",
    " 10120: 'Building Materials',\n",
    " 10130: 'Chemicals,Specialty Chemicals',\n",
    " 10140: 'Lumber & Wood Production,Paper & Paper Products',\n",
    " 10150: 'Aluminum,Copper,Other Industrial Metals & Mining,Gold,Silver,Other Precious Metals & Mining',\n",
    " 10160: 'Coking Coal,Steel',\n",
    " 10200: 'Auto & Truck Dealerships,Auto Manufacturers,Auto Parts,Recreational Vehicles',\n",
    " 10220: 'Furnishings, Fixtures & Appliances',\n",
    " 10230: 'Residential Construction',\n",
    " 10240: 'Textile Manufacturing,Apparel Manufacturing,Footwear & Accessories',\n",
    " 10250: 'Packaging & Containers',\n",
    " 10260: 'Personal Services',\n",
    " 10270: 'Restaurants',\n",
    " 10280: 'Apparel Retail,Department Stores,Home Improvement Retail,Luxury Goods,Internet Retail,Specialty Retail',\n",
    " 10290: 'Gambling,Leisure,Lodging,Resorts & Casinos,Travel Services',\n",
    " 10310: 'Asset Management',\n",
    " 10320: 'Banks—Diversified,Banks—Regional,Mortgage Finance',\n",
    " 10330: 'Capital Markets,Financial Data & Stock Exchanges',\n",
    " 10340: 'Insurance—Life,Insurance—Property & Casualty,Insurance—Reinsurance,Insurance—Specialty,Insurance Brokers,Insurance—Diversified',\n",
    " 10350: 'Shell Companies,Financial Conglomerates',\n",
    " 10360: 'Credit Services',\n",
    " 10410: 'Real Estate—Development,Real Estate Services,Real Estate—Diversified',\n",
    " 10420: 'REIT—Healthcare Facilities,REIT—Hotel & Motel,REIT—Industrial,REIT—Office,REIT—Residential,REIT—Retail,REIT—Mortgage,REIT—Specialty,REIT—Diversified',\n",
    " 20510: 'Beverages—Brewers,Beverages—Wineries & Distilleries',\n",
    " 20520: 'Beverages—Non-Alcoholic',\n",
    " 20525: 'Confectioners,Farm Products,Household & Personal Products,Packaged Foods',\n",
    " 20540: 'Education & Training Services',\n",
    " 20550: 'Discount Stores,Food Distribution,Grocery Stores',\n",
    " 20560: 'Tobacco',\n",
    " 20610: 'Biotechnology',\n",
    " 20620: 'Drug Manufacturers—General,Drug Manufacturers—Specialty & Generic',\n",
    " 20630: 'Healthcare Plans',\n",
    " 20645: 'Medical Care Facilities,Pharmaceutical Retailers,Health Information Services',\n",
    " 20650: 'Medical Devices,Medical Instruments & Supplies',\n",
    " 20660: 'Diagnostics & Research',\n",
    " 20670: 'Medical Distribution',\n",
    " 20710: 'Utilities—Independent Power Producers,Utilities—Renewable',\n",
    " 20720: 'Utilities—Regulated Water,Utilities—Regulated Electric,Utilities—Regulated Gas,Utilities—Diversified',\n",
    " 30810: 'Telecom Services',\n",
    " 30820: 'Advertising Agencies,Publishing,Broadcasting,Entertainment',\n",
    " 30830: 'Internet Content & Information,Electronic Gaming & Multimedia',\n",
    " 30910: 'Oil & Gas Drilling,Oil & Gas E&P,Oil & Gas Integrated,Oil & Gas Midstream,Oil & Gas Refining & Marketing,Oil & Gas Equipment & Services',\n",
    " 30920: 'Thermal Coal,Uranium',\n",
    " 31010: 'Aerospace & Defense',\n",
    " 31020: 'Specialty Business Services,Consulting Services,Rental & Leasing Services,Security & Protection Services,Staffing & Employment Services',\n",
    " 31030: 'Conglomerates',\n",
    " 31040: 'Engineering & Construction,Infrastructure Operations,Building Products & Equipment',\n",
    " 31050: 'Farm & Heavy Construction Machinery',\n",
    " 31060: 'Industrial Distribution',\n",
    " 31070: 'Business Equipment & Supplies,Specialty Industrial Machinery,Metal Fabrication,Pollution & Treatment Controls,Tools & Accessories,Electrical Equipment & Parts',\n",
    " 31080: 'Airports & Air Services,Airlines,Railroads,Marine Shipping,Trucking,Integrated Freight & Logistics',\n",
    " 31090: 'Waste Management',\n",
    " 31110: 'Information Technology Services,Software—Application,Software—Infrastructure',\n",
    " 31120: 'Communication Equipment,Computer Hardware,Consumer Electronics,Electronic Components,Electronics & Computer Distribution,Scientific & Technical Instruments',\n",
    " 31130: 'Semiconductor Equipment & Materials,Semiconductors,Solar'}\n"
   ]
  },
  {
   "cell_type": "markdown",
   "metadata": {},
   "source": [
    "## 銘柄探し"
   ]
  },
  {
   "cell_type": "code",
   "execution_count": null,
   "metadata": {},
   "outputs": [],
   "source": [
    "import numpy as np\n",
    "import pandas as pd \n",
    "\n",
    "\n",
    "from quantopian.pipeline import Pipeline\n",
    "from quantopian.research import run_pipeline\n",
    "from quantopian.pipeline.filters import QTradableStocksUS, StaticAssets\n",
    "\n",
    "from quantopian.pipeline.data import USEquityPricing\n",
    "from quantopian.pipeline.factors import Returns\n",
    "\n",
    "from quantopian.pipeline.data.morningstar import Fundamentals\n",
    "\n",
    "def make_pipeline():\n",
    "    \n",
    "    base_universe = QTradableStocksUS()\n",
    "    close_price = USEquityPricing.close.latest\n",
    "    \n",
    "    # sector code \n",
    "    morningstar_industry_group_code = Fundamentals.morningstar_industry_group_code.latest\n",
    "    morningstar_industry_code = Fundamentals.morningstar_industry_code.latest\n",
    "    financial_health_grade = Fundamentals.financial_health_grade.latest\n",
    "    prev_change = Returns(inputs = [USEquityPricing.close], window_length=2)\n",
    "    \n",
    "    \n",
    "    return Pipeline(\n",
    "        columns = {\n",
    "            'close_price': close_price,\n",
    "            'morningstar_industry_code':morningstar_industry_code, \n",
    "            'morningstar_industry_group_code':morningstar_industry_group_code,\n",
    "            'financial_health_grade':financial_health_grade,\n",
    "#             'prev_change':prev_change, \n",
    "        },\n",
    "        \n",
    "        screen=base_universe\n",
    "    )\n",
    " \n",
    "start_date='2020-02-17'\n",
    "end_date='2020-10-08'\n",
    "    \n",
    "pipeline_output = run_pipeline(\n",
    "    make_pipeline(),\n",
    "    start_date=start_date,\n",
    "    end_date=end_date,\n",
    ")\n",
    "\n"
   ]
  },
  {
   "cell_type": "markdown",
   "metadata": {},
   "source": [
    "## ランキングで確認する。\n",
    "+ 取得したデータの最終日のランキングを確認\n",
    "+ A-Fに何社入っているか\n",
    "\n"
   ]
  },
  {
   "cell_type": "code",
   "execution_count": null,
   "metadata": {},
   "outputs": [],
   "source": [
    "lastdate = pipeline_output.index.get_level_values(0)[-1]\n",
    "print(lastdate)\n",
    "df_lastdate = pipeline_output.loc[lastdate]\n",
    "\n",
    "def get_tickers_by_ranking(df, label):\n",
    "    df_rank = df[df[\"financial_health_grade\"] == label]\n",
    "    tickers = df_rank.index\n",
    "    return tickers \n",
    "\n",
    "A = get_tickers_by_ranking(df_lastdate, \"A\")\n",
    "B = get_tickers_by_ranking(df_lastdate, \"B\")\n",
    "C = get_tickers_by_ranking(df_lastdate, \"C\")\n",
    "D = get_tickers_by_ranking(df_lastdate, \"D\")\n",
    "F = get_tickers_by_ranking(df_lastdate, \"F\")\n",
    "NA = get_tickers_by_ranking(df_lastdate, np.nan) # 格付けされていない銘柄もある\n",
    "\n",
    "len(A), len(B), len(C), len(D), len(F) "
   ]
  },
  {
   "cell_type": "code",
   "execution_count": null,
   "metadata": {},
   "outputs": [],
   "source": [
    "A.map(lambda x: x.asset_name)"
   ]
  },
  {
   "cell_type": "markdown",
   "metadata": {},
   "source": [
    "## 格付けごとに株価推移\n",
    "+ 上記で使った `pipeline` を使ってもいいが、銘柄によっては この時期に `QTradableStocksUS` に出たり入ったりしている銘柄もあるので、`price` を使う\n",
    "+ ランキングごとに終値を取得し、前日比の平均を描画する。"
   ]
  },
  {
   "cell_type": "code",
   "execution_count": null,
   "metadata": {},
   "outputs": [],
   "source": [
    "from quantopian.research import prices, symbols\n",
    "\n",
    "\n",
    "close_price_A = prices(assets=A,start=start_date, end=end_date,)\n",
    "close_price_B = prices(assets=B,start=start_date, end=end_date,)\n",
    "close_price_C = prices(assets=C,start=start_date, end=end_date,)\n",
    "close_price_D = prices(assets=D,start=start_date, end=end_date,)\n",
    "close_price_F = prices(assets=F,start=start_date, end=end_date,)\n",
    "close_price_NA = prices(assets=NA,start=start_date, end=end_date,)\n",
    "close_price_SPY = prices(assets=\"SPY\",start=start_date, end=end_date,)\n"
   ]
  },
  {
   "cell_type": "code",
   "execution_count": null,
   "metadata": {},
   "outputs": [],
   "source": [
    "close_price_NA.head(3)"
   ]
  },
  {
   "cell_type": "code",
   "execution_count": null,
   "metadata": {},
   "outputs": [],
   "source": [
    "close_price_A.pct_change().mean(axis=1).cumsum().plot(label=\"A\", legend=True)\n",
    "close_price_B.pct_change().mean(axis=1).cumsum().plot(label=\"B\", legend=True)\n",
    "close_price_C.pct_change().mean(axis=1).cumsum().plot(label=\"C\", legend=True)\n",
    "close_price_D.pct_change().mean(axis=1).cumsum().plot(label=\"D\", legend=True)\n",
    "close_price_F.pct_change().mean(axis=1).cumsum().plot(label=\"F\", legend=True)\n",
    "close_price_NA.pct_change().mean(axis=1).cumsum().plot(label=\"NA\", legend=True)\n",
    "close_price_SPY.pct_change().cumsum().plot(label=\"SPY\", legend=True, linewidth=3, color='#e4007f')\n",
    "\n"
   ]
  },
  {
   "cell_type": "code",
   "execution_count": null,
   "metadata": {},
   "outputs": [],
   "source": [
    "close_price_A.pct_change().mean(axis=1).sum()"
   ]
  },
  {
   "cell_type": "code",
   "execution_count": null,
   "metadata": {},
   "outputs": [],
   "source": [
    "close_price_F.pct_change().mean(axis=1).sum()"
   ]
  },
  {
   "cell_type": "code",
   "execution_count": null,
   "metadata": {},
   "outputs": [],
   "source": [
    "close_price_F.pct_change().dropna().describe().T"
   ]
  },
  {
   "cell_type": "code",
   "execution_count": null,
   "metadata": {},
   "outputs": [],
   "source": [
    "close_price_F.drop(symbols(\"WLL\"), axis=1).pct_change().cumsum().dropna().plot()#.describe().T"
   ]
  },
  {
   "cell_type": "markdown",
   "metadata": {},
   "source": [
    "## セクターごとにカウント\n",
    "\n",
    "+ セクターごとにランキングの比率を確認\n",
    "+ セクター構成銘柄数のバラツキが大きすぎるので、数が大きいセクタに関しては何かしらの事が言えるかもしれない"
   ]
  },
  {
   "cell_type": "code",
   "execution_count": null,
   "metadata": {},
   "outputs": [],
   "source": [
    "#sector_count = df_lastdate.groupby(\"morningstar_industry_group_code\")[\"morningstar_industry_code\"].count()\n",
    "#\n",
    "#df_lastdate.groupby([\"financial_health_grade\",\"morningstar_industry_code\" ])[\"close_price\"].count().xs(\"A\", level=0)\n",
    "\n",
    "by_sector = df_lastdate.groupby([\"morningstar_industry_group_code\" ])[\"close_price\"].count()\n",
    "by_sector_ranking = df_lastdate.groupby([\"financial_health_grade\",\"morningstar_industry_group_code\" ])[\"close_price\"].count()\n",
    "\n",
    "sector_A = by_sector_ranking.xs(\"A\", level=0)\n",
    "sector_B = by_sector_ranking.xs(\"B\", level=0)\n",
    "sector_C = by_sector_ranking.xs(\"C\", level=0)\n",
    "sector_D = by_sector_ranking.xs(\"D\", level=0)\n",
    "sector_F = by_sector_ranking.xs(\"F\", level=0)\n",
    "sector_NA = by_sector_ranking.xs(np.nan, level=0)\n",
    "\n",
    "df_by_sector = pd.DataFrame({\"A\" : sector_A / by_sector,\n",
    "              \"B\" : sector_B / by_sector,\n",
    "              \"C\" : sector_C / by_sector,\n",
    "              \"D\" : sector_D / by_sector,\n",
    "              \"F\" : sector_F / by_sector,\n",
    "              \"NA\" : sector_NA / by_sector,\n",
    "             })\n",
    "              \n",
    "# 当該セクターに入っている銘柄数が多い順に並び替え\n",
    "df_by_sector.loc[by_sector.sort_values(ascending=False).index]\n"
   ]
  },
  {
   "cell_type": "code",
   "execution_count": null,
   "metadata": {},
   "outputs": [],
   "source": [
    "df_by_sector.sort_values(by=\"D\", ascending=False).head(10)"
   ]
  },
  {
   "cell_type": "code",
   "execution_count": null,
   "metadata": {},
   "outputs": [],
   "source": []
  },
  {
   "cell_type": "markdown",
   "metadata": {},
   "source": [
    "## 10320（Bank）でDランクの銘柄で他より戻っている銘柄を探す\n"
   ]
  },
  {
   "cell_type": "code",
   "execution_count": null,
   "metadata": {},
   "outputs": [],
   "source": [
    "def get_price_by_rank_and_sector(df_origin, rank, sector_number, start, end):\n",
    "    \n",
    "    symbols = df_origin[(df_origin[\"financial_health_grade\"] == rank) & \n",
    "                        (df_origin[\"morningstar_industry_group_code\"] == sector_number)].index\n",
    "    \n",
    "    return  prices(assets=symbols,start=start, end=end,)\n",
    "\n",
    "df_Bank_D = get_price_by_rank_and_sector(df_lastdate, \"D\", 31080, start_date,end_date)\n",
    "df_Bank_D"
   ]
  },
  {
   "cell_type": "code",
   "execution_count": null,
   "metadata": {},
   "outputs": [],
   "source": [
    "df_Bank_D.pct_change().dropna().describe().T.sort_values(by=\"mean\", ascending=False).head()"
   ]
  },
  {
   "cell_type": "code",
   "execution_count": null,
   "metadata": {},
   "outputs": [],
   "source": [
    "stocks = df_Bank_D.pct_change().dropna().describe().T.sort_values(by=\"mean\", ascending=False).head(5).index\n",
    "df_Bank_D[stocks].pct_change().cumsum().plot()"
   ]
  },
  {
   "cell_type": "code",
   "execution_count": null,
   "metadata": {},
   "outputs": [],
   "source": [
    "stocks = df_Bank_D.pct_change().dropna().describe().T.sort_values(by=\"mean\", ascending=True).head(10).index\n",
    "df_Bank_D[stocks].pct_change().cumsum().plot()\n"
   ]
  },
  {
   "cell_type": "markdown",
   "metadata": {},
   "source": [
    "## セクターとして第二波のあとに戻りそうなセクター、死にそうなセクター\n",
    "\n",
    "+ Dに入っている中で、Restaurantなどは第二波がくると本当に厳しそう\n",
    "+ Dに入っている中で、第二波後もう一度大きくのびそう\n",
    "+ つまり、一波目のあと、（3/23）にSPと比べてどのくらい戻ったかを確認"
   ]
  },
  {
   "cell_type": "code",
   "execution_count": null,
   "metadata": {},
   "outputs": [],
   "source": [
    "# まずは全体を見る\n",
    "benchmark = close_price_SPY.apply(np.log).diff()\n",
    "\n",
    "df_rank_compare_sp = pd.DataFrame({\n",
    "    \"A\":close_price_A.apply(np.log).diff().mean(axis=1) - benchmark,\n",
    "    \"B\":close_price_B.apply(np.log).diff().mean(axis=1) - benchmark,\n",
    "    \"C\":close_price_C.apply(np.log).diff().mean(axis=1) - benchmark,\n",
    "    \"D\":close_price_D.apply(np.log).diff().mean(axis=1) - benchmark,\n",
    "    \"F\":close_price_F.apply(np.log).diff().mean(axis=1) - benchmark,})\n",
    "\n",
    "df_rank_compare_sp.cumsum().plot()\n",
    "\n"
   ]
  },
  {
   "cell_type": "code",
   "execution_count": null,
   "metadata": {},
   "outputs": [],
   "source": [
    "def make_pipeline_for_symbols(symbols):\n",
    "    \n",
    "    base_universe = StaticAssets(symbols)\n",
    "    close_price = USEquityPricing.close.latest\n",
    "    \n",
    "    # sector code \n",
    "    morningstar_industry_group_code = Fundamentals.morningstar_industry_group_code.latest\n",
    "    morningstar_industry_code = Fundamentals.morningstar_industry_code.latest\n",
    "    financial_health_grade = Fundamentals.financial_health_grade.latest\n",
    "    \n",
    "    return Pipeline(\n",
    "        columns = {\n",
    "            'close_price': close_price,\n",
    "            'morningstar_industry_code':morningstar_industry_code, \n",
    "            'morningstar_industry_group_code':morningstar_industry_group_code,\n",
    "            'financial_health_grade':financial_health_grade,\n",
    "        },\n",
    "        \n",
    "        screen=base_universe\n",
    "    )\n",
    " \n",
    "pipeline_output_D = run_pipeline(\n",
    "    make_pipeline_for_symbols(D),\n",
    "    start_date=start_date,\n",
    "    end_date=end_date\n",
    ")\n",
    "\n",
    "\n",
    "for key, grp in list(pipeline_output_D.groupby(\"morningstar_industry_group_code\")[\"close_price\"]):\n",
    "    if key != -1:\n",
    "        grp.unstack().apply(np.log).diff().cumsum().plot(\n",
    "            title=\"{} {}\".format(key,  MORNINGSTAR_INDUSTRY_GROUP_CODES_after_Nov2019[key]))\n",
    "\n",
    "# list(pipeline_output_D.groupby(\"morningstar_industry_group_code\")[\"close_price\"])[0][1].unstack()"
   ]
  }
 ],
 "metadata": {
  "kernelspec": {
   "display_name": "Python 3.5",
   "language": "python",
   "name": "py35"
  },
  "language_info": {
   "codemirror_mode": {
    "name": "ipython",
    "version": 3
   },
   "file_extension": ".py",
   "mimetype": "text/x-python",
   "name": "python",
   "nbconvert_exporter": "python",
   "pygments_lexer": "ipython3",
   "version": "3.5.10"
  }
 },
 "nbformat": 4,
 "nbformat_minor": 2
}
