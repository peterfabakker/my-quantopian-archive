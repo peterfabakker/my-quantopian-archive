{
 "cells": [
  {
   "cell_type": "code",
   "execution_count": null,
   "metadata": {},
   "outputs": [],
   "source": [
    "## ここは砂場なんで適当に使うところ\n",
    "\n",
    "from quantopian.pipeline import Pipeline, CustomFactor\n",
    "from quantopian.research import run_pipeline\n",
    "\n",
    "from quantopian.pipeline.data.builtin import USEquityPricing\n",
    "from quantopian.pipeline.filters import StaticAssets\n",
    "\n",
    "from quantopian.pipeline.classifiers.morningstar import Sector \n",
    "import quantopian.pipeline.classifiers.fundamentals as funda\n",
    "from quantopian.pipeline.data import Fundamentals, morningstar\n",
    "\n",
    "\n",
    "\n",
    "tickers = ['GD', 'COF', 'PHM', 'CVX', 'AGNC', 'SWN', 'CAT', 'NSC', 'HAL',\n",
    "       'SHW', 'T', 'VFC', 'NEM', 'JNPR', 'ADM', 'FCX', 'MO', 'IRBT',\n",
    "       'HAS', 'SWK', 'HES', 'GWW', 'AMTD', 'SIRI', 'HOG', 'ALGN', 'AAL',\n",
    "       'TROW', 'ABBV', 'RRC', 'LMT', 'YNDX', 'UTX', 'XLNX', 'DHI', 'CL',\n",
    "       'FFIV', 'EW', 'VZ', 'MMM', 'WHR', 'APC', 'RTN', 'XOM', 'TSLA',\n",
    "       'KMB', 'IP', 'NUE', 'EBAY', 'INTC', 'DFS', 'ITW', 'F', 'NOV',\n",
    "       'SNAP', 'UPS', 'ILMN', 'WY', 'TXN', 'BSX', 'VLO', 'TWTR', 'PYPL',\n",
    "       'ANTM', 'CLF', 'LRCX', 'FTV', 'CMCSA', 'V', 'LUV', 'AFL', 'MSFT',\n",
    "       'GT', 'GRUB', 'CMG', 'BIIB', 'CTXS', 'MAT', 'KO', 'HSY', 'TSCO',\n",
    "       'AMZN', 'FB', 'NOW', 'BA', 'BMY', 'COG', 'PG', 'SBUX']\n",
    "\n",
    "\n",
    "def make_pipeline():\n",
    "    close = USEquityPricing.close\n",
    "    \n",
    "    my_symbols = StaticAssets(symbols(tickers))\n",
    "    \n",
    "    \n",
    "    pipe = Pipeline(columns = {'close': close.latest,\n",
    "                               'market_cap':morningstar.valuation.market_cap.latest,\n",
    "                              'sector': Sector(),\n",
    "                              'industory': Fundamentals.morningstar_industry_group_code.latest\n",
    "                               \n",
    "                              },                             \n",
    "                    screen=my_symbols)\n",
    "    return pipe \n",
    "\n",
    "group_code_dict = {10101: 'Agriculture',\n",
    " 10102: 'Building Materials',\n",
    " 10103: 'Chemicals',\n",
    " 10104: 'Coal',\n",
    " 10105: 'Forest Products',\n",
    " 10106: 'Metals & Mining',\n",
    " 10107: 'Steel',\n",
    " 10208: 'Advertising & Marketing Services',\n",
    " 10209: 'Autos',\n",
    " 10210: 'Entertainment',\n",
    " 10211: 'Homebuilding & Construction',\n",
    " 10212: 'Manufacturing - Apparel & Furniture',\n",
    " 10213: 'Packaging & Containers',\n",
    " 10214: 'Personal Services',\n",
    " 10215: 'Publishing',\n",
    " 10216: 'Restaurants',\n",
    " 10217: 'Retail - Apparel & Specialty',\n",
    " 10218: 'Travel & Leisure',\n",
    " 10319: 'Asset Management',\n",
    " 10320: 'Banks',\n",
    " 10321: 'Brokers & Exchanges',\n",
    " 10322: 'Credit Services',\n",
    " 10323: 'Insurance',\n",
    " 10324: 'Insurance - Life',\n",
    " 10325: 'Insurance - Property & Casualty',\n",
    " 10326: 'Insurance - Specialty',\n",
    " 10427: 'Real Estate Services',\n",
    " 10428: 'REITs',\n",
    " 20529: 'Beverages - Alcoholic',\n",
    " 20530: 'Beverages - Non-Alcoholic',\n",
    " 20531: 'Consumer Packaged Goods',\n",
    " 20532: 'Education',\n",
    " 20533: 'Retail - Defensive',\n",
    " 20534: 'Tobacco Products',\n",
    " 20635: 'Biotechnology',\n",
    " 20636: 'Drug Manufacturers',\n",
    " 20637: 'Health Care Plans',\n",
    " 20638: 'Health Care Providers',\n",
    " 20639: 'Medical Devices',\n",
    " 20640: 'Medical Diagnostics & Research',\n",
    " 20641: 'Medical Distribution',\n",
    " 20642: 'Medical Instruments & Equipment',\n",
    " 20743: 'Utilities - Independent Power Producers',\n",
    " 20744: 'Utilities - Regulated',\n",
    " 30845: 'Communication Services',\n",
    " 30946: 'Oil & Gas - Drilling',\n",
    " 30947: 'Oil & Gas - E&P',\n",
    " 30948: 'Oil & Gas - Integrated',\n",
    " 30949: 'Oil & Gas - Midstream',\n",
    " 30950: 'Oil & Gas - Refining & Marketing',\n",
    " 30951: 'Oil & Gas - Services',\n",
    " 31052: 'Aerospace & Defense',\n",
    " 31053: 'Airlines',\n",
    " 31054: 'Business Services',\n",
    " 31055: 'Conglomerates',\n",
    " 31056: 'Consulting & Outsourcing',\n",
    " 31057: 'Employment Services',\n",
    " 31058: 'Engineering & Construction',\n",
    " 31059: 'Farm & Construction Machinery',\n",
    " 31060: 'Industrial Distribution',\n",
    " 31061: 'Industrial Products',\n",
    " 31062: 'Transportation & Logistics',\n",
    " 31063: 'Truck Manufacturing',\n",
    " 31064: 'Waste Management',\n",
    " 31165: 'Application Software',\n",
    " 31166: 'Communication Equipment',\n",
    " 31167: 'Computer Hardware',\n",
    " 31168: 'Online Media',\n",
    " 31169: 'Semiconductors'}\n",
    "\n",
    "results = run_pipeline(make_pipeline(), start_date='2019-4-1', end_date='2019-4-2')\n",
    "results = results.reset_index()\n",
    "results[\"sector\"] = results[\"sector\"].apply(lambda x: funda.Sector.SECTOR_NAMES[x] )\n",
    "results[\"symbol\"] = results[\"level_1\"].apply(lambda x: x.symbol)\n",
    "results[\"codegroup\"] = results[\"industory\"].apply(lambda x: group_code_dict[x] )\n",
    "results[\"market_cap\"] = results[\"market_cap\"] /  1000000000 #1b\n",
    "\n",
    "\n",
    "results\n"
   ]
  },
  {
   "cell_type": "code",
   "execution_count": null,
   "metadata": {},
   "outputs": [],
   "source": [
    "results[[\"symbol\", \"market_cap\"]].set_index(\"symbol\").to_dict()"
   ]
  },
  {
   "cell_type": "code",
   "execution_count": null,
   "metadata": {},
   "outputs": [],
   "source": [
    "from quantopian.pipeline.data.morningstar import Fundamentals\n",
    "from quantopian.pipeline import Pipeline\n",
    "from quantopian.pipeline.domain import US_EQUITIES\n",
    "from quantopian.research import run_pipeline\n",
    "from quantopian.pipeline.filters import StaticAssets\n",
    "from quantopian.pipeline.data import morningstar as mstar\n",
    "\n",
    "import pandas as pd \n",
    "import pytz\n",
    "\n",
    "my_fundamentals = {\n",
    "    'file_date1': Fundamentals.file_date.latest\n",
    "}\n",
    "\n",
    "my_stocks = StaticAssets(symbols(['AAPL', 'FB']))\n",
    "my_pipeline = Pipeline(\n",
    "    columns = my_fundamentals,\n",
    "    screen = my_stocks\n",
    ")\n",
    "\n",
    "my_data = run_pipeline(my_pipeline, '2017-1-1', '2019-10-31')\n",
    "dt = my_data.file_date1.unique()\n",
    "#[pd.to_datetime(t).tz_localize(pytz.timezone(\"UTC\")).tz_convert(\"US/Eastern\").strftime(\"%Y-%m-%d\") for t in dt]\n"
   ]
  },
  {
   "cell_type": "code",
   "execution_count": null,
   "metadata": {},
   "outputs": [],
   "source": [
    "dt"
   ]
  },
  {
   "cell_type": "code",
   "execution_count": null,
   "metadata": {},
   "outputs": [],
   "source": [
    "idx = pd.IndexSlice\n",
    "dt = my_data.loc[idx[:,[symbols(\"AAPL\")]],:].file_date1.unique()\n",
    "[pd.to_datetime(t).tz_localize(pytz.timezone(\"UTC\")).tz_convert(\"US/Eastern\").strftime(\"%Y-%m-%d\") for t in dt]\n",
    "\n",
    "\n"
   ]
  },
  {
   "cell_type": "code",
   "execution_count": null,
   "metadata": {},
   "outputs": [],
   "source": [
    "from quantopian.pipeline import Pipeline\n",
    "from quantopian.pipeline.data.factset import Fundamentals\n",
    "from quantopian.pipeline.domain import JP_EQUITIES #US_EQUITIES\n",
    "from quantopian.research import run_pipeline\n",
    "\n",
    "# 直近四半期の売上高を取得\n",
    "x = Fundamentals.bonds_below_invgr_af.latest\n",
    "y = Fundamentals.assets_oth.latest\n",
    "\n",
    "\n",
    "# パイプラインに追加\n",
    "pipe = Pipeline(\n",
    "    columns={\n",
    "        'x': x,\n",
    "#         'y': y,\n",
    "        \n",
    "    },\n",
    "    domain=JP_EQUITIES, #US_EQUITIES,\n",
    ")\n",
    "\n",
    "# この期間で実行\n",
    "df = run_pipeline(pipe, '2015-06-01', '2016-06-01')\n",
    "print(df.head())\n"
   ]
  },
  {
   "cell_type": "code",
   "execution_count": null,
   "metadata": {},
   "outputs": [],
   "source": [
    "df1 = df.unstack()\n",
    "df1.dropna(axis=1, how='all').head()"
   ]
  },
  {
   "cell_type": "code",
   "execution_count": null,
   "metadata": {},
   "outputs": [],
   "source": [
    "df1.loc[(df1!=0).any(axis=1)]"
   ]
  },
  {
   "cell_type": "code",
   "execution_count": null,
   "metadata": {},
   "outputs": [],
   "source": [
    "df1 = df.unstack()\n",
    "df1[\"x\"].iloc[:,:2].tail()/100000000"
   ]
  },
  {
   "cell_type": "code",
   "execution_count": null,
   "metadata": {},
   "outputs": [],
   "source": [
    "df1[\"y\"].iloc[:,:2].head()/100000000"
   ]
  },
  {
   "cell_type": "code",
   "execution_count": null,
   "metadata": {},
   "outputs": [],
   "source": [
    "equities = df.index.get_level_values(1)\n",
    "equities[0]"
   ]
  },
  {
   "cell_type": "code",
   "execution_count": null,
   "metadata": {},
   "outputs": [],
   "source": [
    "df.unstack()['x',  equities[0]].plot()\n",
    "df.unstack()['y',  equities[0]].plot()"
   ]
  },
  {
   "cell_type": "code",
   "execution_count": null,
   "metadata": {},
   "outputs": [],
   "source": [
    "df_aapl[\"flag\"] = df1[df1.columns[1]].diff() != float(0.0)"
   ]
  },
  {
   "cell_type": "code",
   "execution_count": null,
   "metadata": {},
   "outputs": [],
   "source": []
  }
 ],
 "metadata": {
  "kernelspec": {
   "display_name": "Python 2",
   "language": "python",
   "name": "python2"
  },
  "language_info": {
   "codemirror_mode": {
    "name": "ipython",
    "version": 2
   },
   "file_extension": ".py",
   "mimetype": "text/x-python",
   "name": "python",
   "nbconvert_exporter": "python",
   "pygments_lexer": "ipython2",
   "version": "2.7.12"
  }
 },
 "nbformat": 4,
 "nbformat_minor": 2
}
