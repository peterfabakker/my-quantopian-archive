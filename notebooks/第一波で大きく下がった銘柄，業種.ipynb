{
 "cells": [
  {
   "cell_type": "code",
   "execution_count": null,
   "metadata": {},
   "outputs": [],
   "source": [
    "MORNINGSTAR_INDUSTRY_GROUP_CODES_after_Nov2019 =  {10110: 'Agricultural Inputs',\n",
    " 10120: 'Building Materials',\n",
    " 10130: 'Chemicals,Specialty Chemicals',\n",
    " 10140: 'Lumber & Wood Production,Paper & Paper Products',\n",
    " 10150: 'Aluminum,Copper,Other Industrial Metals & Mining,Gold,Silver,Other Precious Metals & Mining',\n",
    " 10160: 'Coking Coal,Steel',\n",
    " 10200: 'Auto & Truck Dealerships,Auto Manufacturers,Auto Parts,Recreational Vehicles',\n",
    " 10220: 'Furnishings, Fixtures & Appliances',\n",
    " 10230: 'Residential Construction',\n",
    " 10240: 'Textile Manufacturing,Apparel Manufacturing,Footwear & Accessories',\n",
    " 10250: 'Packaging & Containers',\n",
    " 10260: 'Personal Services',\n",
    " 10270: 'Restaurants',\n",
    " 10280: 'Apparel Retail,Department Stores,Home Improvement Retail,Luxury Goods,Internet Retail,Specialty Retail',\n",
    " 10290: 'Gambling,Leisure,Lodging,Resorts & Casinos,Travel Services',\n",
    " 10310: 'Asset Management',\n",
    " 10320: 'Banks—Diversified,Banks—Regional,Mortgage Finance',\n",
    " 10330: 'Capital Markets,Financial Data & Stock Exchanges',\n",
    " 10340: 'Insurance—Life,Insurance—Property & Casualty,Insurance—Reinsurance,Insurance—Specialty,Insurance Brokers,Insurance—Diversified',\n",
    " 10350: 'Shell Companies,Financial Conglomerates',\n",
    " 10360: 'Credit Services',\n",
    " 10410: 'Real Estate—Development,Real Estate Services,Real Estate—Diversified',\n",
    " 10420: 'REIT—Healthcare Facilities,REIT—Hotel & Motel,REIT—Industrial,REIT—Office,REIT—Residential,REIT—Retail,REIT—Mortgage,REIT—Specialty,REIT—Diversified',\n",
    " 20510: 'Beverages—Brewers,Beverages—Wineries & Distilleries',\n",
    " 20520: 'Beverages—Non-Alcoholic',\n",
    " 20525: 'Confectioners,Farm Products,Household & Personal Products,Packaged Foods',\n",
    " 20540: 'Education & Training Services',\n",
    " 20550: 'Discount Stores,Food Distribution,Grocery Stores',\n",
    " 20560: 'Tobacco',\n",
    " 20610: 'Biotechnology',\n",
    " 20620: 'Drug Manufacturers—General,Drug Manufacturers—Specialty & Generic',\n",
    " 20630: 'Healthcare Plans',\n",
    " 20645: 'Medical Care Facilities,Pharmaceutical Retailers,Health Information Services',\n",
    " 20650: 'Medical Devices,Medical Instruments & Supplies',\n",
    " 20660: 'Diagnostics & Research',\n",
    " 20670: 'Medical Distribution',\n",
    " 20710: 'Utilities—Independent Power Producers,Utilities—Renewable',\n",
    " 20720: 'Utilities—Regulated Water,Utilities—Regulated Electric,Utilities—Regulated Gas,Utilities—Diversified',\n",
    " 30810: 'Telecom Services',\n",
    " 30820: 'Advertising Agencies,Publishing,Broadcasting,Entertainment',\n",
    " 30830: 'Internet Content & Information,Electronic Gaming & Multimedia',\n",
    " 30910: 'Oil & Gas Drilling,Oil & Gas E&P,Oil & Gas Integrated,Oil & Gas Midstream,Oil & Gas Refining & Marketing,Oil & Gas Equipment & Services',\n",
    " 30920: 'Thermal Coal,Uranium',\n",
    " 31010: 'Aerospace & Defense',\n",
    " 31020: 'Specialty Business Services,Consulting Services,Rental & Leasing Services,Security & Protection Services,Staffing & Employment Services',\n",
    " 31030: 'Conglomerates',\n",
    " 31040: 'Engineering & Construction,Infrastructure Operations,Building Products & Equipment',\n",
    " 31050: 'Farm & Heavy Construction Machinery',\n",
    " 31060: 'Industrial Distribution',\n",
    " 31070: 'Business Equipment & Supplies,Specialty Industrial Machinery,Metal Fabrication,Pollution & Treatment Controls,Tools & Accessories,Electrical Equipment & Parts',\n",
    " 31080: 'Airports & Air Services,Airlines,Railroads,Marine Shipping,Trucking,Integrated Freight & Logistics',\n",
    " 31090: 'Waste Management',\n",
    " 31110: 'Information Technology Services,Software—Application,Software—Infrastructure',\n",
    " 31120: 'Communication Equipment,Computer Hardware,Consumer Electronics,Electronic Components,Electronics & Computer Distribution,Scientific & Technical Instruments',\n",
    " 31130: 'Semiconductor Equipment & Materials,Semiconductors,Solar'}"
   ]
  },
  {
   "cell_type": "markdown",
   "metadata": {},
   "source": [
    "# 第一波で大きく下落した銘柄とセクターを調べる"
   ]
  },
  {
   "cell_type": "code",
   "execution_count": null,
   "metadata": {},
   "outputs": [],
   "source": [
    "import numpy as np\n",
    "\n",
    "from quantopian.pipeline import Pipeline\n",
    "from quantopian.pipeline.data.morningstar import Fundamentals\n",
    "from quantopian.pipeline.domain import US_EQUITIES\n",
    "from quantopian.research import run_pipeline\n",
    "from quantopian.pipeline.filters import Q500US, StaticSids, StaticAssets\n",
    "from quantopian.pipeline.filters import QTradableStocksUS\n",
    "from quantopian.pipeline.data import USEquityPricing\n",
    "from quantopian.pipeline.factors import Returns\n",
    "\n",
    "from quantopian.pipeline.classifiers.fundamentals import Sector\n",
    "\n",
    "\n",
    "def make_pipeline():\n",
    "    \n",
    "    base_universe = QTradableStocksUS()\n",
    "    close_price = USEquityPricing.close.latest\n",
    "\n",
    "    morningstar_industry_group_code = Fundamentals.morningstar_industry_group_code.latest\n",
    "    prev_change = Returns(inputs = [USEquityPricing.close], window_length=2)\n",
    "    financial_health_grade = Fundamentals.financial_health_grade.latest\n",
    "    \n",
    "    \n",
    "    \n",
    "    pipe = Pipeline(\n",
    "        columns={\n",
    "            'morningstar_industry_group_code':morningstar_industry_group_code, \n",
    "            'close_price':close_price, \n",
    "            \"prev_change\": prev_change,\n",
    "            'financial_health_grade':financial_health_grade,\n",
    "        },\n",
    "        \n",
    "        screen=base_universe,\n",
    "    )\n",
    "    return pipe \n",
    "\n",
    "df = run_pipeline(make_pipeline(), '2020-01-01', '2020-06-10')\n",
    "df[\"sector_name\"] = df[\"morningstar_industry_group_code\"].replace(MORNINGSTAR_INDUSTRY_GROUP_CODES_after_Nov2019)\n",
    "\n",
    "df.head()"
   ]
  },
  {
   "cell_type": "code",
   "execution_count": null,
   "metadata": {},
   "outputs": [],
   "source": [
    "df.groupby(\"sector_name\")[\"prev_change\"].sum().sort_values().plot(kind=\"bar\")\n",
    "\n"
   ]
  },
  {
   "cell_type": "code",
   "execution_count": null,
   "metadata": {},
   "outputs": [],
   "source": [
    "df.groupby(\"financial_health_grade\")[\"prev_change\"].sum().sort_values().plot(kind=\"bar\")"
   ]
  },
  {
   "cell_type": "code",
   "execution_count": null,
   "metadata": {},
   "outputs": [],
   "source": [
    "import pandas as pd\n",
    "df_20660 = pd.DataFrame(df[df[\"morningstar_industry_group_code\"] == 31080][\"prev_change\"].unstack().sum().sort_values(ascending=False))\n",
    "df_20660[\"asset name\"] = df_20660.index.map(lambda s: s.asset_name)"
   ]
  },
  {
   "cell_type": "code",
   "execution_count": null,
   "metadata": {},
   "outputs": [],
   "source": [
    "df[df[\"morningstar_industry_group_code\"] == 31080][\"prev_change\"].unstack()\n"
   ]
  },
  {
   "cell_type": "code",
   "execution_count": null,
   "metadata": {},
   "outputs": [],
   "source": []
  },
  {
   "cell_type": "code",
   "execution_count": null,
   "metadata": {},
   "outputs": [],
   "source": []
  },
  {
   "cell_type": "code",
   "execution_count": null,
   "metadata": {},
   "outputs": [],
   "source": []
  },
  {
   "cell_type": "code",
   "execution_count": null,
   "metadata": {},
   "outputs": [],
   "source": []
  },
  {
   "cell_type": "code",
   "execution_count": null,
   "metadata": {},
   "outputs": [],
   "source": []
  },
  {
   "cell_type": "code",
   "execution_count": null,
   "metadata": {},
   "outputs": [],
   "source": []
  },
  {
   "cell_type": "code",
   "execution_count": null,
   "metadata": {},
   "outputs": [],
   "source": []
  },
  {
   "cell_type": "code",
   "execution_count": null,
   "metadata": {},
   "outputs": [],
   "source": []
  },
  {
   "cell_type": "code",
   "execution_count": null,
   "metadata": {},
   "outputs": [],
   "source": []
  },
  {
   "cell_type": "code",
   "execution_count": null,
   "metadata": {},
   "outputs": [],
   "source": []
  },
  {
   "cell_type": "code",
   "execution_count": null,
   "metadata": {},
   "outputs": [],
   "source": []
  },
  {
   "cell_type": "code",
   "execution_count": null,
   "metadata": {},
   "outputs": [],
   "source": []
  },
  {
   "cell_type": "code",
   "execution_count": null,
   "metadata": {},
   "outputs": [],
   "source": []
  },
  {
   "cell_type": "code",
   "execution_count": null,
   "metadata": {},
   "outputs": [],
   "source": []
  },
  {
   "cell_type": "code",
   "execution_count": null,
   "metadata": {},
   "outputs": [],
   "source": []
  },
  {
   "cell_type": "code",
   "execution_count": null,
   "metadata": {},
   "outputs": [],
   "source": []
  },
  {
   "cell_type": "code",
   "execution_count": null,
   "metadata": {},
   "outputs": [],
   "source": []
  }
 ],
 "metadata": {
  "kernelspec": {
   "display_name": "Python 3.5",
   "language": "python",
   "name": "py35"
  }
 },
 "nbformat": 4,
 "nbformat_minor": 2
}
