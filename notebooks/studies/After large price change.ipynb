{
 "cells": [
  {
   "cell_type": "markdown",
   "metadata": {},
   "source": [
    " [必須事項 #251: 出来高が急に増えて価格が上がった株を素直に買ってみる - After large price change - Redmine](http://116.58.169.125:6101/issues/251)\n",
    " + [参照](https://vantagepointtrading.com/wp-content/uploads/2010/05/How-I-Made-2000000-in-the-Stock-Market.pdf)\n",
    " + いわゆる， Darvas Box \n",
    " + 急にVolumeが増えて価格が上昇した株をトレンドフォローするストラテジー\n",
    " + 定義１：どのくらいのボリュームからどのくらい上がったか？\n",
    " + 定義２：ホールド期間\n",
    " + 定義３：ポジションオープンのタイミング\n",
    " \n",
    " ![scale](https://www.evernote.com/shard/s6/sh/a6ca67c6-84e0-4559-8671-70b5287fb14b/d1b7dd0d631a9c30ea620bcbc4958047/res/da1a1b01-fd11-4135-adbf-7cbcb8ae87f8/How-I-Made-2000000-in-the-Stock-Market.pdf.jpg?resizeSmall&width=832\n",
    ")\n",
    "+ （A)のタイミングを確認したあと，（B)でホールドして，（C)でロスカットするも，その後の動きで，間違いないと思い，（D)でもう一度ロングしたそうです．\n",
    "+ VWAP１００くらいで定義１を検証してみる．\n",
    " "
   ]
  },
  {
   "cell_type": "markdown",
   "metadata": {},
   "source": [
    "# [Bulkowski's Darvas Box](http://thepatternsite.com/Darvas.html)\n",
    "\n",
    "+ ETFで，WeeklyScaleでトレードするとワークする（勝率49％で，年率10.5％）　\n",
    "+ DDでかい\n",
    "+ ストラテジー\n",
    "   \n",
    "    1. 過去一年のHighを見つけ，その後3日間（Highが出た日を含めたら4日間）がそのHighを超えていない銘柄を見つける\n",
    "    1. その期間のLowを確認\n",
    "    1. その後，終値がそのBoxの上限を突き抜けたら，次の日のOpenで買い，下限を抜けたら次の日のOpenで売る\n",
    "    1. 日中にBoxの下限上限を越えたが，CloseはBox内に収まった場合，新しくBoxを作成し直す\n",
    "        \n",
    "    \n",
    "    "
   ]
  },
  {
   "cell_type": "markdown",
   "metadata": {},
   "source": [
    "#  [Darvas Box (DBOX) | Linn Software](https://www.linnsoft.com/techind/darvas-box-dbox)\n",
    "\n",
    " ![msft](https://www.linnsoft.com/sites/default/files/techind/darvaschart.gif)"
   ]
  },
  {
   "cell_type": "code",
   "execution_count": null,
   "metadata": {},
   "outputs": [],
   "source": [
    "from quantopian.pipeline import Pipeline,CustomFactor\n",
    "from quantopian.research import run_pipeline\n",
    "from zipline.api import attach_pipeline, pipeline_output  \n",
    "from quantopian.pipeline.factors import AverageDollarVolume,Returns\n",
    "\n",
    "from quantopian.pipeline.data.builtin import USEquityPricing\n",
    "\n",
    "from quantopian.pipeline.filters import Q1500US, Q500US\n",
    "\n",
    "import numpy as np\n",
    "import pandas as pd\n",
    "import matplotlib.cm as cm\n"
   ]
  },
  {
   "cell_type": "code",
   "execution_count": null,
   "metadata": {},
   "outputs": [],
   "source": [
    "def initialize(context):\n",
    "    pype = make_pipeline()\n",
    "    attach_pipeline(pype, name='mypype')\n",
    "    \n",
    "\n",
    "class RollingMax(CustomFactor):\n",
    "    inputs = [USEquityPricing.high]\n",
    "    def compute(self, today, asset_ids, out, values): \n",
    "        out[:] = np.nanmax(values,axis=0) \n",
    "\n",
    "class RollingMin(CustomFactor):\n",
    "    inputs = [USEquityPricing.low]\n",
    "    def compute(self, today, asset_ids, out, values): \n",
    "        out[:] = np.nanmin(values,axis=0) \n",
    "\n",
    "class Continuously_true(CustomFactor):\n",
    "    window_safe = True\n",
    "    \n",
    "    def compute(self, today, asset_ids, out, values, ): \n",
    "        out[:] = np.all(values, axis=0) #np.all(values, axis=0)\n",
    "        \n",
    "        \n",
    "def make_pipeline():\n",
    "    base_universe = Q1500US()\n",
    "    close = USEquityPricing.close\n",
    "    volume = USEquityPricing.volume\n",
    "    rollingmax10 = RollingMax(window_length=10)\n",
    "    rollingmin10 = RollingMin(window_length=10)\n",
    "    dollar_volume = AverageDollarVolume(window_length=250)\n",
    "    yesterday_dollar_volume = AverageDollarVolume(window_length=1)\n",
    "    bikkuri_volume_change = yesterday_dollar_volume / dollar_volume - 1 \n",
    "    high_bikkuri_volume_change = bikkuri_volume_change.percentile_between(90, 100)\n",
    "    is_max = rollingmax10.eq(close)\n",
    "    ret = Returns(window_length=2)\n",
    "    \n",
    "    \n",
    "    #threedays_max = Continuously_true(inputs=[is_max], window_length=3)\n",
    "    \n",
    "    pipe = Pipeline(columns={'close': close.latest, \n",
    "                             'high': USEquityPricing.high.latest,\n",
    "                            'rollingmax10': rollingmax10,\n",
    "                            'rollingmin10': rollingmin10,\n",
    "                             'dollar_volume': dollar_volume,\n",
    "                             'yesterday_dollar_volume':yesterday_dollar_volume,\n",
    "                             'bikkuri_volume_change': bikkuri_volume_change, \n",
    "                             'return':ret,\n",
    "                            #'is_max': is_max,\n",
    "                             #'threedays_max': threedays_max,\n",
    "                            },\n",
    "                   screen=base_universe & high_bikkuri_volume_change )\n",
    "    return pipe \n",
    "\n",
    "\n",
    "results = run_pipeline(make_pipeline(), start_date='2015-1-1', end_date='2015-3-1')\n",
    "\n",
    "    "
   ]
  },
  {
   "cell_type": "code",
   "execution_count": null,
   "metadata": {},
   "outputs": [],
   "source": [
    "dates = results.index.get_level_values(0).unique()\n",
    "print dates[0]\n",
    "results.ix[dates[0]]"
   ]
  },
  {
   "cell_type": "code",
   "execution_count": null,
   "metadata": {},
   "outputs": [],
   "source": [
    "## sp500ish の銘柄を取得するだけのためにパイプライン\n",
    "\n",
    "def make_pipeline():\n",
    "    base_universe = Q500US()\n",
    "    close = USEquityPricing.close\n",
    "    pipe = Pipeline(\n",
    "        columns={'close': close.latest, },\n",
    "        screen=base_universe)\n",
    "    return pipe \n",
    "\n",
    "results = run_pipeline(make_pipeline(), start_date='2017-7-5', end_date='2017-7-6')\n",
    "\n",
    "stocks = results.ix['2017-07-05'].index\n",
    "print (len(stocks))\n",
    "data = get_pricing(stocks, start_date='2013-01-03', end_date='2017-01-03', \n",
    "                   frequency='daily', fields='price', handle_missing='raise')\n",
    "\n"
   ]
  },
  {
   "cell_type": "code",
   "execution_count": null,
   "metadata": {},
   "outputs": [],
   "source": [
    "data"
   ]
  },
  {
   "cell_type": "code",
   "execution_count": null,
   "metadata": {},
   "outputs": [],
   "source": [
    "df_pct_change = data.pct_change().ix[1:]\n",
    "df_2_5_change = data.ix[1:].pct_change(40)\n",
    "logreturn = (data / data.shift(1)).apply(np.log)\n",
    "df_vol = logreturn.rolling(window=5,center=False).std().ix[1:]"
   ]
  },
  {
   "cell_type": "code",
   "execution_count": null,
   "metadata": {},
   "outputs": [],
   "source": [
    "import matplotlib.pyplot as plt \n",
    "fig = plt.figure()\n",
    "ax = fig.add_subplot(1,1,1)\n",
    "ax.scatter(df_pct_change[symbols('HP')], \n",
    "               df_2_5_change[symbols('HP')],\n",
    "           c=df_vol[symbols('HP')],\n",
    "          \n",
    "          cmap=cm.Reds)\n"
   ]
  },
  {
   "cell_type": "code",
   "execution_count": null,
   "metadata": {},
   "outputs": [],
   "source": [
    "fig = plt.figure(figsize=(10,10))\n",
    "plt.subplots_adjust(left=None, bottom=None, right=None, top=None, wspace=0.2, hspace=0.4)\n",
    "\n",
    "data1 = data.ix[:, :10]\n",
    "\n",
    "\n",
    "df_pct_change = data1.pct_change().ix[1:]\n",
    "df_2_5_change = data1.ix[1:].pct_change(5)\n",
    "\n",
    "logreturn = (data1 / data1.shift(1)).apply(np.log)\n",
    "df_vol = logreturn.rolling(window=5,center=False).std().ix[1:]\n",
    "\n",
    "num = len(data1.columns)\n",
    "xs = 5\n",
    "ys = int(num/5)+1\n",
    "\n",
    "for i, c in enumerate(data1.columns):\n",
    "    x = i % xs\n",
    "    y = int(i/xs)+ys\n",
    "    ax = fig.add_subplot(xs, ys, i+1)\n",
    "    ax.set_title(c.symbol)\n",
    "    ax.scatter(df_pct_change[symbols(c)], \n",
    "               df_2_5_change[symbols(c)],\n",
    "               c=df_vol[symbols(c)],cmap=cm.Reds\n",
    "               )\n",
    "    "
   ]
  },
  {
   "cell_type": "code",
   "execution_count": null,
   "metadata": {},
   "outputs": [],
   "source": [
    "df_pct_change"
   ]
  },
  {
   "cell_type": "code",
   "execution_count": null,
   "metadata": {},
   "outputs": [],
   "source": [
    "df_2_5_change"
   ]
  },
  {
   "cell_type": "code",
   "execution_count": null,
   "metadata": {},
   "outputs": [],
   "source": [
    "df_pct_change = data1.pct_change()\n",
    "df_2_5_change = data1.pct_change(3).shift(-4)\n",
    "len(df_pct_change), len(df_2_5_change)"
   ]
  },
  {
   "cell_type": "code",
   "execution_count": null,
   "metadata": {},
   "outputs": [],
   "source": [
    "df_pct_change"
   ]
  },
  {
   "cell_type": "code",
   "execution_count": null,
   "metadata": {},
   "outputs": [],
   "source": [
    "df_2_5_change"
   ]
  },
  {
   "cell_type": "code",
   "execution_count": null,
   "metadata": {},
   "outputs": [],
   "source": [
    "fig = plt.figure(figsize=(10,10))\n",
    "plt.subplots_adjust(left=None, bottom=None, right=None, top=None, wspace=0.2, hspace=0.4)\n",
    "\n",
    "data1 = data.ix[:, :10]\n",
    "\n",
    "\n",
    "df_pct_change = data1.pct_change()\n",
    "df_2_5_change = data1.pct_change(3).shift(-4)\n",
    "\n",
    "# logreturn = (data1 / data1.shift(1)).apply(np.log)\n",
    "# df_vol = logreturn.rolling(window=5,center=False).std().ix[1:]\n",
    "\n",
    "num = len(data1.columns)\n",
    "xs = 5\n",
    "ys = int(num/5)+1\n",
    "\n",
    "for i, c in enumerate(data1.columns):\n",
    "    x = i % xs\n",
    "    y = int(i/xs)+ys\n",
    "    ax = fig.add_subplot(xs, ys, i+1)\n",
    "    ax.set_title(c.symbol)\n",
    "    ax.scatter(df_pct_change[symbols(c)], \n",
    "               df_2_5_change[symbols(c)],\n",
    "#                c=df_vol[symbols(c)],cmap=cm.Reds\n",
    "               )\n",
    "    "
   ]
  }
 ],
 "metadata": {
  "kernelspec": {
   "display_name": "Python 2",
   "language": "python",
   "name": "python2"
  },
  "language_info": {
   "codemirror_mode": {
    "name": "ipython",
    "version": 2
   },
   "file_extension": ".py",
   "mimetype": "text/x-python",
   "name": "python",
   "nbconvert_exporter": "python",
   "pygments_lexer": "ipython2",
   "version": "2.7.12"
  }
 },
 "nbformat": 4,
 "nbformat_minor": 2
}
