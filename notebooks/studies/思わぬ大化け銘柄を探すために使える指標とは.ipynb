{
 "cells": [
  {
   "cell_type": "markdown",
   "metadata": {},
   "source": [
    "[「思わぬ大化け銘柄」を探すために使える指標とは？(ZUU online) - ニュース・コラム - Yahoo!ファイナンス](https://news.finance.yahoo.co.jp/detail/20171113-00000003-zuuonline-bus_all)\n",
    "+ 株価がこれから上がる銘柄を探すには、いままでは出来高が少なかったものの直近で出来高が増えた銘柄、つまり「人気になったばかりの銘柄」を探す必要\n",
    "+ 出来高の「良い増加」、「悪い増加」\n",
    "    + 悪い増加:決算の悪化、粉飾決算や業務提携の解消など悪材料により売りたい人が多くなることによって起きる。株価がやすくても売りたいという人が増えるので、適正な価格で買いたい人が増えるまでは株価が下げていく可能性が高\n",
    "    + 良い増加「業績上方修正」と「株主還元の向上」\n",
    "+ 「普段から出来高が大きな銘柄」と「悪材料で出来高が増えた銘柄」を省く\n",
    "\n",
    "+ 2018/10/25\n",
    "    + 悪材料で出来高が増えた＝大きく下落して増えたのかも\n",
    "    \n",
    "\n"
   ]
  },
  {
   "cell_type": "code",
   "execution_count": null,
   "metadata": {},
   "outputs": [],
   "source": [
    "from quantopian.pipeline.data.builtin import USEquityPricing\n",
    "from quantopian.research import run_pipeline\n",
    "from quantopian.pipeline import Pipeline,CustomFilter\n",
    "from quantopian.pipeline.factors import CustomFactor\n",
    "from quantopian.pipeline.filters import Q500US\n",
    "from quantopian.pipeline.data import morningstar\n",
    "import numpy as np\n",
    "import pandas as pd \n",
    "import datetime \n",
    "\n",
    "from quantopian.pipeline.experimental import QTradableStocksUS"
   ]
  },
  {
   "cell_type": "code",
   "execution_count": null,
   "metadata": {},
   "outputs": [],
   "source": [
    "class Liquidity(CustomFactor): \n",
    "    inputs = [USEquityPricing.volume, morningstar.valuation.shares_outstanding] \n",
    "    window_length = 1\n",
    "    \n",
    "    def compute(self, today, assets, out, volume, shares): \n",
    "        out[:] = volume[-1]/shares[-1]\n",
    "        \n",
    "class LiquidityMA30(CustomFactor): \n",
    "    inputs = [USEquityPricing.volume, morningstar.valuation.shares_outstanding] \n",
    "    window_length = 31\n",
    "    \n",
    "    def compute(self, today, assets, out, volume, shares): \n",
    "        out[:] = np.mean(volume[:-1], axis=0) / np.mean(shares[:-1], axis=0) \n",
    "        \n",
    "class VolumeMA30(CustomFactor): \n",
    "    inputs = [USEquityPricing.volume,] \n",
    "    window_length = 31\n",
    "    \n",
    "    def compute(self, today, assets, out, volume): \n",
    "        out[:] = np.mean(volume[:-1], axis=0) \n",
    "\n",
    "class Diff5(CustomFactor): \n",
    "    inputs = [USEquityPricing.close,] \n",
    "    window_length = 5\n",
    "    \n",
    "    def compute(self, today, assets, out, price): \n",
    "        out[:] =price[-1]/price[-5]-1\n",
    "        \n",
    "        \n",
    "        \n",
    "def make_pipeline():\n",
    "    base_universe = QTradableStocksUS()\n",
    "    vol = USEquityPricing.volume\n",
    "    price = USEquityPricing.close\n",
    "    liquidity = Liquidity()\n",
    "    liquidityMA30 =LiquidityMA30()\n",
    "    volume30 = VolumeMA30()\n",
    "    shares =  morningstar.valuation.shares_outstanding\n",
    "    volume30_80p_90p = volume30.percentile_between(80, 90)\n",
    "    diff_5 = Diff5()\n",
    "    jump = diff_5 > 0.10\n",
    "    \n",
    "   # small_stocks = price <= 50\n",
    "    \n",
    "    pipe = Pipeline(\n",
    "        columns = {\n",
    "            'close': price.latest,\n",
    "            'volume': vol.latest,\n",
    "            'liquidity': liquidity,\n",
    "            'liquidityMA30':liquidityMA30,\n",
    "            'shares': shares.latest,\n",
    "            'volume30':volume30,\n",
    "            'diff_5':diff_5, \n",
    "        },\n",
    "        screen = base_universe & volume30_80p_90p & jump)\n",
    "    return pipe \n",
    "\n",
    "start_date = '2018-01-01'\n",
    "spy = get_pricing(\"SPY\", start_date=start_date,end_date= datetime.datetime.today())\n",
    "end_date = spy.dropna().index[-1]\n",
    "\n",
    "results = run_pipeline(make_pipeline(), \n",
    "                       start_date=start_date, \n",
    "                       end_date = end_date )\n"
   ]
  },
  {
   "cell_type": "code",
   "execution_count": null,
   "metadata": {},
   "outputs": [],
   "source": [
    "results"
   ]
  },
  {
   "cell_type": "code",
   "execution_count": null,
   "metadata": {},
   "outputs": [],
   "source": [
    "\n",
    "df = results.reset_index() \n",
    "df.plot(x=\"liquidity\", y = \"liquidityMA30\", kind = 'scatter')\n",
    "\n"
   ]
  },
  {
   "cell_type": "code",
   "execution_count": null,
   "metadata": {},
   "outputs": [],
   "source": [
    "df[(df.liquidity > 0.05) & (df.liquidity*2 > df.liquidityMA30)]\n",
    "\n",
    "\n"
   ]
  },
  {
   "cell_type": "code",
   "execution_count": null,
   "metadata": {},
   "outputs": [],
   "source": [
    "targets = get_pricing(df[(df.liquidity > 0.05) & (df.liquidity*2 > df.liquidityMA30)].level_1.unique(),\n",
    "           start_date = '2017-01-01',end_date = \"2017-11-15\", )\n",
    "\n",
    "price_change = targets['price'].pct_change()\n",
    "returns = targets['price'].pct_change().shift(-1)\n"
   ]
  },
  {
   "cell_type": "code",
   "execution_count": null,
   "metadata": {},
   "outputs": [],
   "source": [
    "l = list()\n",
    "for i,row in df[(df.liquidity > 0.05) & (df.liquidity*2 > df.liquidityMA30)].iterrows():\n",
    "    date, symbol,liquidity, liquidityMA30 = row.level_0, row.level_1, row.liquidity, row.liquidityMA30\n",
    "    l.append([liquidity, liquidityMA30, returns.loc[date, symbol], price_change.loc[date, symbol]])"
   ]
  },
  {
   "cell_type": "code",
   "execution_count": null,
   "metadata": {},
   "outputs": [],
   "source": [
    "x = pd.DataFrame(l, columns = [\"liquidity\", \"liquidityMA30\",\"Returns\",\"PriceChange\"])\n",
    "x[x.PriceChange < 0.1].plot(x=\"liquidity\", y=\"Returns\", kind=\"scatter\", c =\"PriceChange\", s=10)#s=x[\"PriceChange\"]*500\n"
   ]
  },
  {
   "cell_type": "code",
   "execution_count": null,
   "metadata": {},
   "outputs": [],
   "source": [
    "pd.DataFrame(l, columns = [\"liquidity\", \"liquidityMA30\",\"Returns\",\"PriceChange\"]).sort_values(by=\"PriceChange\",ascending=False)"
   ]
  }
 ],
 "metadata": {
  "kernelspec": {
   "display_name": "Python 2",
   "language": "python",
   "name": "python2"
  },
  "language_info": {
   "codemirror_mode": {
    "name": "ipython",
    "version": 2
   },
   "file_extension": ".py",
   "mimetype": "text/x-python",
   "name": "python",
   "nbconvert_exporter": "python",
   "pygments_lexer": "ipython2",
   "version": "2.7.12"
  }
 },
 "nbformat": 4,
 "nbformat_minor": 2
}
