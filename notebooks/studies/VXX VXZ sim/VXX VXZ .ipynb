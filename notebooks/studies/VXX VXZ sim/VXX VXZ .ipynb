{
 "cells": [
  {
   "cell_type": "markdown",
   "metadata": {},
   "source": [
    "### コンタンゴモデル\n",
    "\n",
    "元記事\n",
    "[A Very Different Kind of Trend Model | Following the Trend](http://www.followingthetrend.com/2016/11/a-very-different-kind-of-trend-model/)\n",
    "\n",
    "ザックリまとめる\n",
    "\n",
    "+ 先物とは，その商品を買っているのではなく期間を買っている．\n",
    "    + 期近の金価格と，期先の金価格が違うのはそういうこと．\n",
    "+ であれば，価格ではなく期間に注目するべき\n",
    "+ しかも期間は常に変わるので，期間をアニュアライズして考えるべきだ．\n",
    "\n",
    "よって\n",
    "1. 期近と期先の差を取る\n",
    "1. 残り期間を取得\n",
    "1. 残り期間をアニュアライズ\n",
    "1. 最初の取った差に↑の年率を掛ける\n",
    "1. それで，３％以上であれば，Long．-3％以下でアレばShort\n",
    "\n",
    "チェック事項\n",
    "+ Threshold は 3%? (商品に寄って違うかも）\n",
    "+ アニュアライズは250日？\n",
    "+ 何をLong何をShort？\n",
    "\n",
    "\n"
   ]
  },
  {
   "cell_type": "code",
   "execution_count": null,
   "metadata": {},
   "outputs": [],
   "source": [
    "import pandas as pd\n",
    "import numpy as np\n",
    "from quantopian.research.experimental import continuous_future, history\n",
    "\n",
    "start = \"2015-1-1\"\n",
    "end = \"2017-12-12\"\n"
   ]
  },
  {
   "cell_type": "code",
   "execution_count": null,
   "metadata": {},
   "outputs": [],
   "source": [
    "## 取得する先物の各限月のシンボルを取得\n",
    "def get_future_contract_info(root_symbol_name, year):\n",
    "    month_code = list(\"FGHJKMNQUVXZ\")\n",
    "    contracts = [root_symbol_name + code + str(year) for code in month_code]\n",
    "    l = list()\n",
    "    for c in contracts:\n",
    "        try:\n",
    "            sym = symbols(c)\n",
    "            l.append(sym.to_dict())\n",
    "            \n",
    "        except: \n",
    "            print \"NoSuchSymbols\", c\n",
    "    df_future_contracts = pd.DataFrame(l)\n",
    "    return df_future_contracts\n",
    "\n",
    "## 各限月のプライスを取得\n",
    "def get_daily_future_price(df_future_contracts, start, end):\n",
    "    syms = df_future_contracts[\"symbol\"].tolist()\n",
    "    df_future_prices = history(syms, fields='price', frequency='daily', \n",
    "                     start=start, end=end)\n",
    "    df_future_prices.columns = map(lambda x: x.symbol, df_future_prices.columns)\n",
    "    return df_future_prices \n",
    "\n",
    "## 残存期間を取得して追加\n",
    "def insert_remain_dates(df_future_prices, df_future_contracts):\n",
    "    l = list()\n",
    "    for date in df_future_prices.index:\n",
    "        for expiry in df_future_contracts[\"expiration_date\"]:\n",
    "            if date < expiry:\n",
    "                l.append(expiry)\n",
    "                break \n",
    "                \n",
    "    df_future_prices[\"Expiration\"] = l\n",
    "    df_future_prices[\"hoge\"] = df_future_prices.index\n",
    "    df_future_prices[\"Remain date\"] = df_future_prices[\"Expiration\"] - df_future_prices[\"hoge\"]\n",
    "    df_future_prices.drop(\"hoge\", axis=1, inplace=True)\n",
    "    return df_future_prices\n",
    "\n",
    "\n",
    "## ココを直すところから\n",
    "flatten = lambda *n: (e for a in n\n",
    "    for e in (flatten(*a) if isinstance(a, (tuple, list)) else (a,)))\n",
    "\n",
    "\n",
    "GC15 = get_future_contract_info(\"GC\", 15)      \n",
    "GC16 = get_future_contract_info(\"GC\", 16)      \n",
    "GC17 = get_future_contract_info(\"GC\", 17) \n",
    "\n",
    "df_gold_contracts = pd.concat(list((GC15, GC16, GC17)))\n",
    "\n",
    "\n",
    "df_gold_future = get_daily_future_price(df_gold_contracts, start, end)\n",
    "df_gold_future = insert_remain_dates(df_gold_future, df_gold_contracts)\n",
    "\n"
   ]
  },
  {
   "cell_type": "code",
   "execution_count": null,
   "metadata": {},
   "outputs": [],
   "source": [
    "\n",
    "# Continuous　Futureを取得して，アニュアルDiffを出す\n"
   ]
  },
  {
   "cell_type": "code",
   "execution_count": null,
   "metadata": {},
   "outputs": [],
   "source": [
    "def get_continuous_futures(root_symbol_name, start, end):\n",
    "    f1 = continuous_future(root_symbol_name)\n",
    "    f2 = continuous_future(root_symbol_name, offset=1)\n",
    "    f3 = continuous_future(root_symbol_name, offset=2)\n",
    "    continuous_futures = history([f1,f2,f3], fields='price', frequency='daily', start=start,  end=end)\n",
    "    continuous_futures.columns = map(lambda x:\"%s_%s\" % (x.root_symbol, x.offset + 1), \n",
    "                                     continuous_futures.columns)\n",
    "    return continuous_futures\n",
    "\n",
    "gc_continuous_future = get_continuous_futures(\"GC\", start, end)"
   ]
  },
  {
   "cell_type": "code",
   "execution_count": null,
   "metadata": {},
   "outputs": [],
   "source": [
    "gc_continuous_future2 = pd.concat([gc_continuous_future, df_gold_future[[\"Expiration\", \"Remain date\"]]], axis=1)\n"
   ]
  },
  {
   "cell_type": "code",
   "execution_count": null,
   "metadata": {},
   "outputs": [],
   "source": [
    "gc_continuous_future2[\"diff1\"] = (gc_continuous_future2[\"GC_2\"] / gc_continuous_future2[\"GC_1\"]).apply(np.log)\n",
    "gc_continuous_future2[\"diff2\"] = (gc_continuous_future2[\"GC_3\"] / gc_continuous_future2[\"GC_2\"]).apply(np.log)\n",
    "gc_continuous_future2[\"diff1 annualize\"]  = gc_continuous_future2[\"diff1\"] * gc_continuous_future2[\"Remain date\"].dt.days / 250\n",
    "gc_continuous_future2[\"diff2 annualize\"]  = gc_continuous_future2[\"diff2\"] * gc_continuous_future2[\"Remain date\"].dt.days / 250\n",
    "\n",
    "gc_continuous_future2[\"diff3\"] = (gc_continuous_future2[\"GC_3\"] / gc_continuous_future2[\"GC_1\"]).apply(np.log)\n",
    "gc_continuous_future2[\"diff3 annualize\"]  = gc_continuous_future2[\"diff3\"] * gc_continuous_future2[\"Remain date\"].dt.days / 250\n"
   ]
  },
  {
   "cell_type": "code",
   "execution_count": null,
   "metadata": {},
   "outputs": [],
   "source": [
    "gc_continuous_future2[\"GC_1_pct_change\"] = gc_continuous_future2[\"GC_1\"].pct_change()\n",
    "gc_continuous_future2[\"GC_2_pct_change\"] = gc_continuous_future2[\"GC_2\"].pct_change()\n",
    "gc_continuous_future2[\"GC_3_pct_change\"] = gc_continuous_future2[\"GC_3\"].pct_change()\n"
   ]
  },
  {
   "cell_type": "code",
   "execution_count": null,
   "metadata": {},
   "outputs": [],
   "source": [
    "import matplotlib.pyplot as plt \n",
    "import matplotlib.cm as cm\n",
    "\n",
    "fig, ax = plt.subplots()\n",
    "\n",
    "im = ax.scatter(gc_continuous_future2[\"diff1 annualize\"] - gc_continuous_future2[\"diff2 annualize\"]\n",
    "           , gc_continuous_future2[\"GC_1_pct_change\"] - gc_continuous_future2[\"GC_2_pct_change\"]\n",
    "           , c = gc_continuous_future2[\"Remain date\"].dt.days\n",
    "           , cmap = cm.Reds\n",
    "          \n",
    "           )\n",
    "fig.colorbar(im)\n",
    "plt.xlim(-0.004, 0.006)\n",
    "plt.ylim(-0.005,0.015)\n",
    "\n",
    "#gc_continuous_future2.plot.scatter(x = \"diff1 annualize\", y = \"GC_1_pct_change\" )"
   ]
  },
  {
   "cell_type": "code",
   "execution_count": null,
   "metadata": {},
   "outputs": [],
   "source": [
    "# gc_continuous_future2[[\"diff1 annualize\",]].plot(secondary_y = \"GC_1\")\n",
    "fig, ax = plt.subplots()\n",
    "ax.plot(gc_continuous_future2[\"diff2 annualize\"] - gc_continuous_future2[\"diff1 annualize\"],)\n",
    "ax2 = ax.twinx()\n",
    "ax2.plot(gld.price,c = 'red')\n"
   ]
  },
  {
   "cell_type": "code",
   "execution_count": null,
   "metadata": {},
   "outputs": [],
   "source": [
    "gld = get_pricing(\"GLD\", start_date=start, end_date=end)"
   ]
  },
  {
   "cell_type": "code",
   "execution_count": null,
   "metadata": {},
   "outputs": [],
   "source": [
    "\n",
    "gld.price.pct_change()[gc_continuous_future2[\"diff2 annualize\"] - gc_continuous_future2[\"diff1 annualize\"] < -0.003].cumsum().plot()"
   ]
  },
  {
   "cell_type": "code",
   "execution_count": null,
   "metadata": {},
   "outputs": [],
   "source": [
    "import pandas as pd\n",
    "(pd.date_range(\"2015-1-1\",\"2017-12-12\", ).year.strftime(\"\")"
   ]
  }
 ],
 "metadata": {
  "kernelspec": {
   "display_name": "Python 2",
   "language": "python",
   "name": "python2"
  },
  "language_info": {
   "codemirror_mode": {
    "name": "ipython",
    "version": 2
   },
   "file_extension": ".py",
   "mimetype": "text/x-python",
   "name": "python",
   "nbconvert_exporter": "python",
   "pygments_lexer": "ipython2",
   "version": "2.7.12"
  }
 },
 "nbformat": 4,
 "nbformat_minor": 2
}
