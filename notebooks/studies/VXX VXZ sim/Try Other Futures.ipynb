{
 "cells": [
  {
   "cell_type": "code",
   "execution_count": null,
   "metadata": {},
   "outputs": [],
   "source": [
    "## 他の商品でもやってみよう\n",
    "import pandas as pd\n",
    "import numpy as np\n",
    "from quantopian.research.experimental import continuous_future, history\n",
    "import matplotlib.pyplot as plt \n",
    "import matplotlib.cm as cm\n",
    "\n",
    "\n",
    "start = \"2015-1-1\"\n",
    "end = \"2017-12-12\"\n",
    "\n",
    "## 取得する先物の各限月のシンボルを取得\n",
    "def get_future_contract_info(root_symbol_name, years):\n",
    "    month_code = list(\"FGHJKMNQUVXZ\")\n",
    "    contracts = [root_symbol_name + code + str(year) for year in years for code in month_code]\n",
    "    l = list()\n",
    "    for c in contracts:\n",
    "        print \"Fetching \", c\n",
    "        try:\n",
    "            sym = symbols(c)\n",
    "            l.append(sym.to_dict())\n",
    "            \n",
    "        except: \n",
    "            print \"NoSuchSymbols\", c\n",
    "    df_future_contracts = pd.DataFrame(l)\n",
    "    return df_future_contracts\n",
    "\n",
    "## 各限月のプライスを取得\n",
    "def get_daily_future_price(df_future_contracts, start, end):\n",
    "    syms = df_future_contracts[\"symbol\"].tolist()\n",
    "    df_future_prices = history(syms, fields='price', frequency='daily', \n",
    "                     start=start, end=end)\n",
    "    df_future_prices.columns = map(lambda x: x.symbol, df_future_prices.columns)\n",
    "    return df_future_prices \n",
    "\n",
    "## 残存期間を取得して追加\n",
    "def insert_remain_dates(df_future_prices, df_future_contracts):\n",
    "    l = list()\n",
    "    for date in df_future_prices.index:\n",
    "        for expiry in df_future_contracts[\"expiration_date\"]:\n",
    "            if date < expiry:\n",
    "                l.append(expiry)\n",
    "                break \n",
    "                \n",
    "    df_future_prices[\"Expiration\"] = l\n",
    "    df_future_prices[\"hoge\"] = df_future_prices.index\n",
    "    df_future_prices[\"Remain date\"] = df_future_prices[\"Expiration\"] - df_future_prices[\"hoge\"]\n",
    "    df_future_prices.drop(\"hoge\", axis=1, inplace=True)\n",
    "    return df_future_prices\n",
    "\n",
    "\n",
    "def get_future_contract_information(root_symbol_name, start, end, years):\n",
    "    df_future_contract_information = get_future_contract_info(root_symbol_name, years)\n",
    "    df_future_contract_price = get_daily_future_price(df_future_contract_information, start, end)\n",
    "    df_future_contract_price = insert_remain_dates(df_future_contract_price, df_future_contract_information)\n",
    "    return df_future_contract_price\n",
    "    \n",
    "    \n",
    "def get_continuous_future_price(root_symbol_name, start, end):\n",
    "    f1 = continuous_future(root_symbol_name)\n",
    "    f2 = continuous_future(root_symbol_name, offset=1)\n",
    "    f3 = continuous_future(root_symbol_name, offset=2)\n",
    "    df_continuous_future_price = history([f1,f2,f3], fields='price', frequency='daily', start=start,  end=end)\n",
    "    df_continuous_future_price.columns = map(lambda x:\"%s_%s\" % (x.root_symbol, x.offset + 1), \n",
    "                                     df_continuous_future_price.columns)\n",
    "    return df_continuous_future_price\n",
    "\n",
    "def merge_and_insert_future_data(df_future_contract_price, df_continuous_future_price):\n",
    "    root = df_continuous_future_price.columns[0].split(\"_\")[0]\n",
    "    df_continuous_future_price2 = pd.concat([df_continuous_future_price, df_future_contract_price[[\"Expiration\", \"Remain date\"]]], axis=1)\n",
    "    \n",
    "    df_continuous_future_price2[\"diff1\"] = (df_continuous_future_price2[root+\"_2\"] / df_continuous_future_price2[root+\"_1\"]).apply(np.log)\n",
    "    df_continuous_future_price2[\"diff2\"] = (df_continuous_future_price2[root+\"_3\"] / df_continuous_future_price2[root+\"_2\"]).apply(np.log)\n",
    "    df_continuous_future_price2[\"diff3\"] = (df_continuous_future_price2[root+\"_3\"] / df_continuous_future_price2[root+\"_1\"]).apply(np.log)\n",
    "    \n",
    "    df_continuous_future_price2[\"diff1 annualize\"]  = df_continuous_future_price2[\"diff1\"] * df_continuous_future_price2[\"Remain date\"].dt.days / 250\n",
    "    df_continuous_future_price2[\"diff2 annualize\"]  = df_continuous_future_price2[\"diff2\"] * df_continuous_future_price2[\"Remain date\"].dt.days / 250\n",
    "    df_continuous_future_price2[\"diff3 annualize\"]  = df_continuous_future_price2[\"diff3\"] * df_continuous_future_price2[\"Remain date\"].dt.days / 250\n",
    "    \n",
    "    df_continuous_future_price2[root+\"_1_pct_change\"] = df_continuous_future_price2[root+\"_1\"].pct_change()\n",
    "    df_continuous_future_price2[root+\"_2_pct_change\"] = df_continuous_future_price2[root+\"_2\"].pct_change()\n",
    "    df_continuous_future_price2[root+\"_3_pct_change\"] = df_continuous_future_price2[root+\"_3\"].pct_change()\n",
    "\n",
    "    return df_continuous_future_price2\n",
    "\n",
    "    "
   ]
  },
  {
   "cell_type": "code",
   "execution_count": null,
   "metadata": {},
   "outputs": [],
   "source": [
    "root_symbol_name, start, end, years = 'CL', \"2015-1-1\", \"2017-12-12\", [15,16,17,18]\n",
    "CL_df_future_contract_price = get_future_contract_information(root_symbol_name, start, end, years)\n",
    "CL_df_continuous_future_price = get_continuous_future_price(root_symbol_name, start, end)\n",
    "CL_df_continuous_future_price2 = merge_and_insert_future_data(CL_df_future_contract_price, CL_df_continuous_future_price)"
   ]
  },
  {
   "cell_type": "code",
   "execution_count": null,
   "metadata": {},
   "outputs": [],
   "source": [
    "df = get_future_contract_info(\"CN\", [15,16,17])\n"
   ]
  },
  {
   "cell_type": "code",
   "execution_count": null,
   "metadata": {},
   "outputs": [],
   "source": [
    "l = list() \n",
    "for i, row in df[[\"expiration_date\", \"start_date\", \"symbol\"]].iterrows():\n",
    "    start = row[\"start_date\"]\n",
    "    end = row[\"expiration_date\"]\n",
    "    syms = row[\"symbol\"]\n",
    "    df_future_prices = history(syms, fields='price', frequency='daily', start=start, end=end)\n",
    "    l.append(df_future_prices)\n",
    "    \n"
   ]
  },
  {
   "cell_type": "code",
   "execution_count": null,
   "metadata": {},
   "outputs": [],
   "source": [
    "for df in l:\n",
    "    plt.plot(df[-30:].apply(np.log).pct_change().cumsum().tolist())\n",
    "    "
   ]
  },
  {
   "cell_type": "code",
   "execution_count": null,
   "metadata": {},
   "outputs": [],
   "source": [
    "fig, ax = plt.subplots()\n",
    "ax.plot(CL_df_continuous_future_price2[\"diff2 annualize\"] - CL_df_continuous_future_price2[\"diff1 annualize\"],)\n",
    "ax2 = ax.twinx()\n",
    "ax2.plot(uso.price,c = 'red')\n"
   ]
  },
  {
   "cell_type": "code",
   "execution_count": null,
   "metadata": {},
   "outputs": [],
   "source": [
    "uso = get_pricing(\"USO\", start_date=start, end_date=end)\n"
   ]
  },
  {
   "cell_type": "code",
   "execution_count": null,
   "metadata": {},
   "outputs": [],
   "source": [
    "fig, ax = plt.subplots()\n",
    "ax.scatter(CL_df_continuous_future_price2[\"diff2 annualize\"] - CL_df_continuous_future_price2[\"diff1 annualize\"]\n",
    "           , CL_df_continuous_future_price2[\"CL_1\"].pct_change()\n",
    "           ,c = CL_df_continuous_future_price2[\"Remain date\"].dt.days\n",
    "           ,cmap = cm.Reds\n",
    "          )\n",
    "#ax2 = ax.twinx()\n",
    "#ax2.plot(uso.price,c = 'red')\n",
    "\n"
   ]
  }
 ],
 "metadata": {
  "kernelspec": {
   "display_name": "Python 2",
   "language": "python",
   "name": "python2"
  },
  "language_info": {
   "codemirror_mode": {
    "name": "ipython",
    "version": 2
   },
   "file_extension": ".py",
   "mimetype": "text/x-python",
   "name": "python",
   "nbconvert_exporter": "python",
   "pygments_lexer": "ipython2",
   "version": "2.7.12"
  }
 },
 "nbformat": 4,
 "nbformat_minor": 2
}
