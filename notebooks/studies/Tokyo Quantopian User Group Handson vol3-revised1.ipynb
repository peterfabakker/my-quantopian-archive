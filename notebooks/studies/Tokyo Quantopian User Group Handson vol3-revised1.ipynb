{
 "cells": [
  {
   "cell_type": "markdown",
   "metadata": {
    "run_control": {
     "frozen": false,
     "read_only": false
    }
   },
   "source": [
    "### 参考文献\n",
    "\n",
    "+ [How to Build a Pairs Trading Strategy on Quantopian?](https://www.quantopian.com/posts/how-to-build-a-pairs-trading-strategy-on-quantopian)\n",
    "+ [CiNii 論文 -  共和分性に基づく最適ペアトレード](https://ci.nii.ac.jp/naid/120006224721/)\n",
    "\n",
    "\n",
    "# ペアトレーディング\n",
    "\n",
    "ペアトレーディング（以下ペアトレ）は，マーケットの暴騰や急落といった，急な変化に巻き込まれずに収益を上げていく方法として昔から使われてるストラテジーです。\n",
    "\n",
    "ここで、似通った性格を持つ銘柄Xと銘柄Yの２つの銘柄があり、長い期間で見ると、どちらの銘柄の価格もいつも大体同じような動きをしているものとしましょう。\n",
    "短い期間で見てみると、ときには違う動きをすることもあるかもしれませんが、いずれ同じような動きに戻ってくることを期待して、儲けることが出来そうだ，というのがペアトレの基本的な考え方です．どういうことでしょう？\n",
    "\n",
    "これを少し言い換えてみます。\n",
    "\n",
    "話を単純にするために、銘柄XとYの価格がほぼ同じくらいであるとします。そうすると、長期的に見て**Xの価格とYの価格の差**はゼロあたりになるはずですが、\n",
    "ときには、この差が大きくなることがあります。つまり、これは何らかの理由で**Xが大きく値上りしているか、Yが大きく値下がりしている**ということです。\n",
    "どちらかの銘柄の株価だけ先に動いたのであって、もう片方もいずれ追随していって、この差がまたなくなると考えられるならば、**Xを売りYを買う**というポジションを取り、\n",
    "そして，価格差がなくなったときに反対売買（Xを買い戻しYを売る）を行えば利益を確定できます。\n",
    "\n",
    "```python\n",
    "#（ココに上記の説明をする図を挿入したい）\n",
    "```\n",
    "\n",
    "\n",
    "この仕組みは、XとYの間の関係だけに基づいていますから、株式市場全体が勢い良く上昇していたり、下げていたりしていても、原理的には関係ありません。株式市場が勢い良く下げて、Xの価格が下がるときにはYの価格も下がるでしょうから、これらの２つの動きは相殺されることになります。\n",
    "\n",
    "一般的に，株式の価格はランダムウォーク（酔っぱらいのオジサン歩き＝どっちに動くか分からない）に従っており、予測することは出来ないと考えられます。\n",
    "しかし、２つの銘柄の株価の動きの違いに着目すると、組み合わせ次第では、一定の値の周りで変動するという現象がしばしば観測されます。\n",
    "これを平均回帰性といいますが、そのような銘柄の組み合わせを見つけて、ペアトレを実際にシミュレーションしていきましょう。\n",
    "\n",
    "このノートでは，Quantopian Research を使ってどのようにペアトレを構築していくかを学んで行きます．ノート修了時には，\n",
    "\n",
    "+ ペアトレ構築方法\n",
    "+ 銘柄ペアの探し方\n",
    "+ 銘柄ペアの評価方法\n",
    "+ 共和分とは何か\n",
    "+ どのように共和分をテストするか\n",
    "+ どのように取引シグナルを作るか\n",
    "+ python library pandas の機能の一部\n",
    "+ matplotlib の機能の一部\n",
    "\n",
    "を理解していることを目標にします．"
   ]
  },
  {
   "cell_type": "markdown",
   "metadata": {
    "run_control": {
     "frozen": false,
     "read_only": false
    }
   },
   "source": [
    "## 平均回帰性\n",
    "\n",
    "ペアトレでは<u>２つの銘柄の価格の差がだいたい一定の範囲に収まっていること</u>が必要です。\n",
    "いったん価格の差が開いても、元に戻る性質のことを、**平均回帰性**と言います。\n",
    "\n",
    ">メモ：もし、片方の銘柄だけ値上がりし続けたり、値下がりし続ける場合には、価格の差はどんどん広がって、大きな損をすることもあり得ます\n",
    "\n",
    "例を見てみましょう．\n",
    "金採掘会社関連銘柄のGDXとABXについて、2010/1/3から2017/12/31までの動きを見てみます。\n",
    "それぞれの株価のレベルが違うので、移動平均を取りながら価格の比を計算し、調整して差を取り、そしてその差の平均をプロットしてみました。\n"
   ]
  },
  {
   "cell_type": "code",
   "execution_count": null,
   "metadata": {
    "run_control": {
     "frozen": false,
     "read_only": false
    }
   },
   "outputs": [],
   "source": [
    "import numpy as np\n",
    "import math\n",
    "import pandas as pd\n",
    "import matplotlib.pyplot as plt\n",
    "\n",
    "def draw(x, y, term, start_date, end_date):\n",
    "    df = get_pricing([x, y], fields='price', start_date=start_date, end_date=end_date)\n",
    "    return draw_df(df, x, y, term)\n",
    "    \n",
    "def draw_df(df, x, y, term):\n",
    "    beta = df[x].rolling(window=term).mean()/df[y].rolling(window=term).mean()\n",
    "    df['spread'] = df[x] - beta*df[y]\n",
    "    df['spread mean'] = df[\"spread\"].mean()\n",
    "    df.plot()\n",
    "    return df\n",
    "    \n",
    "GDX = symbols('GDX')\n",
    "ABX = symbols('ABX')\n",
    "term = 60\n",
    "start_date='2010-01-03'\n",
    "end_date='2017-12-31'\n",
    "df_GDX_ABX = draw(GDX, ABX, term, start_date, end_date)"
   ]
  },
  {
   "cell_type": "markdown",
   "metadata": {
    "run_control": {
     "frozen": false,
     "read_only": false
    }
   },
   "source": [
    "赤線が２つの銘柄の差の動きです。\n",
    "ゼロの線を取り巻くように上下に動いていますね。\n",
    "\n",
    "なんかもう儲かる気がしませんか（笑）\n"
   ]
  },
  {
   "cell_type": "markdown",
   "metadata": {},
   "source": [
    "## ランダム・ウォークする株価\n",
    "\n",
    "本当に儲かる可能性のある銘柄のペアなのか、そうでないのかをチェックする方法があります。\n",
    "チェックして、大丈夫そうでも、実際には上手く行かないかもしれませんが、チェックして駄目なら、実際に駄目な可能性はぐっと高くなります。\n",
    "\n",
    "ここで、そのチェック方法を見ていきましょう。\n",
    "\n",
    "株価はランダムウォークするはずですから、まずは仮想の株価を２つ、シミュレーションで作ってみます。\n",
    "\n"
   ]
  },
  {
   "cell_type": "code",
   "execution_count": null,
   "metadata": {},
   "outputs": [],
   "source": [
    "def make_price_movement(init_price, average_return, volatility, num_units):\n",
    "    returns = np.random.normal(average_return/num_units, volatility/math.sqrt(num_units), num_units)\n",
    "    price_list = [init_price]\n",
    "    for x in returns:\n",
    "        price_list.append(price_list[-1]*(1.0+x))\n",
    "    return price_list\n",
    "\n",
    "INIT_PRICE = 10.0\n",
    "AVERAGE_RETURN = 0.05\n",
    "VOLATILITY = 0.2\n",
    "NUM_UNITS = 252 \n",
    "np.random.seed(10)\n",
    "\n",
    "price_movement1 = make_price_movement(INIT_PRICE, AVERAGE_RETURN, VOLATILITY, NUM_UNITS)\n",
    "price_movement2 = make_price_movement(INIT_PRICE, AVERAGE_RETURN, VOLATILITY, NUM_UNITS)\n",
    "df = pd.DataFrame({'random_x':price_movement1, 'random_y':price_movement2})\n",
    "df_randoms = draw_df(df, 'random_x', 'random_y', term)\n"
   ]
  },
  {
   "cell_type": "markdown",
   "metadata": {},
   "source": [
    "random_x と random_y は同じように動いているようには見えませんね．しかし，赤い線のspreadは，紫の線 spread mean の周りを動いているように見えます．\n",
    "\n",
    "**お互い関係のない乱数を2つ作っただけ**なのに，平均回帰性があるように見えるということは，どういうことでしょう？\n",
    "\n",
    "ペアトレは過去に観測されたspread同様，未来も同じように大きな差が生まれたら収束してくれる事を期待できないと，トレードできません．乱数で作ったペアでも平均回帰性が出るようでは，ペア探しに支障をきたしてしまいます．一体どうしたらよいのでしょう？\n",
    "\n"
   ]
  },
  {
   "cell_type": "markdown",
   "metadata": {
    "run_control": {
     "frozen": false,
     "read_only": false
    }
   },
   "source": [
    "## 共和分\n",
    "\n",
    "金鉱関連株同士のGDXとABXのように、実際に同じような性格をもって動くペアと、たまたま同じように動いて見えることがあるだけの、乱数で作ったペアの良し悪しを見分け、騙されないようにするには、どうしたら良いでしょうか。\n",
    "\n",
    "そのための分析方法として、**共和分**というものがあります。\n",
    "ここで、共和分を使って、確かめてみましょう．\n",
    "\n"
   ]
  },
  {
   "cell_type": "markdown",
   "metadata": {
    "run_control": {
     "frozen": false,
     "read_only": false
    }
   },
   "source": [
    "### 共和分をテストする\n",
    "\n",
    "python の統計モデルライブラリ [StatsModels](http://www.statsmodels.org/dev/index.html) の `statsmodels.tsa.stattools`の中にある [coint](http://www.statsmodels.org/dev/generated/statsmodels.tsa.stattools.coint.html) を使って、２つの時系列が共和分しているかどうか確認します。\n",
    "\n",
    "`coint(X,Y)` は３つの値 coint_t, p_value, crit_value を返します．\n",
    "\n",
    "そのなかの，p_value (p値)が小さければ小さいほど，2つの価格が共和分性を持つことを示します．\n",
    "一般的に、p値が0.05を下回っていれば、共和分性があると言って良いと言われています。\n"
   ]
  },
  {
   "cell_type": "code",
   "execution_count": null,
   "metadata": {
    "run_control": {
     "frozen": false,
     "read_only": false
    }
   },
   "outputs": [],
   "source": [
    "from statsmodels.tsa.stattools import coint\n",
    "# GDXとABXのケース\n",
    "coint_t, p_value, crit_value = coint(df_GDX_ABX[GDX], df_GDX_ABX[ABX])\n",
    "print 'GDXとADX:', p_value\n",
    "\n",
    "# 乱数のケース\n",
    "coint_t, p_value, crit_value = coint(price_movement1, price_movement2)\n",
    "print '２つの乱数:', p_value"
   ]
  },
  {
   "cell_type": "markdown",
   "metadata": {},
   "source": [
    "大きな違いが出ましたね。"
   ]
  },
  {
   "cell_type": "markdown",
   "metadata": {
    "run_control": {
     "frozen": false,
     "read_only": false
    }
   },
   "source": [
    "### 関連のありそうな銘柄とは\n",
    "\n",
    "それでは、共和分する銘柄ペアを探すには、どうしたら良いでしょうか。\n",
    "\n",
    "では，<font color=red>相場にある全銘柄でペアを作り，片っ端からその差の共和分を取得し，良いペアを探してみましょう!</font>\n",
    "とやりたいところですが，さすがに大変です。\n",
    "\n",
    "一般的に同じような値動きをする銘柄は，同じ業種の銘柄や同じ商品のサプライヤー等，経済的に関連がありそうな銘柄が似たような値動きをします（例：資生堂と花王（化粧品）や，村田製作所とアルプス電気（iphoneサプライヤ））。そこで，関連ありそうな銘柄を複数集めて，そこで総当りさせるコードを書いてみましょう。\n",
    "\n",
    "Quantopianでは，アメリカ株だけ取得可能ですので，ここでは金鉱株を集めて共和分を見ていきたいと思います．\n"
   ]
  },
  {
   "cell_type": "code",
   "execution_count": null,
   "metadata": {
    "run_control": {
     "frozen": false,
     "read_only": false
    }
   },
   "outputs": [],
   "source": [
    "import itertools\n",
    "\n",
    "def find_cointegrated_pairs(pair_list, start_date, end_date):\n",
    "    prices = get_pricing(pair_list, start_date=start_date, end_date=end_date, fields=\"price\", frequency=\"daily\")\n",
    "    prices.columns = map(lambda x: x.symbol, prices.columns)\n",
    "    pairs = list(itertools.combinations(pair_list, 2))\n",
    "    p_value_list = list()\n",
    "    for x, y in pairs:\n",
    "        _, p_value, _ = coint(prices[x], prices[y])\n",
    "        p_value_list.append([x, y, p_value])\n",
    "    return sorted(p_value_list, key=lambda x: x[2])  \n",
    "\n",
    "start_date = \"2011-01-01\"\n",
    "end_date = \"2018-01-01\"\n",
    "pairlist = ['AEM', 'GG', 'AUY', 'KGC', 'EGO', 'ABX', 'NEM', 'GDX']\n",
    "find_cointegrated_pairs(pairlist, start_date, end_date)"
   ]
  },
  {
   "cell_type": "markdown",
   "metadata": {
    "run_control": {
     "frozen": false,
     "read_only": false
    }
   },
   "source": [
    "p値が0.05を下回っている良さそうな組み合わせがありますね。さきほどのGDXとABXよりも、[ゴールドコープ【GG】](https://stocks.finance.yahoo.co.jp/us/detail/GG)と[エルドラド・ゴールド【EGO】](https://stocks.finance.yahoo.co.jp/us/detail/EGO)の方が良い値ですので、こちらに注目してみることにします。\n",
    "なお、違う期間を取って組み合わせを評価すれば、また違った結果が出てきますので、この組み合わせが一番いいとは限らないことに注意してください。"
   ]
  },
  {
   "cell_type": "code",
   "execution_count": null,
   "metadata": {
    "run_control": {
     "frozen": false,
     "read_only": false
    }
   },
   "outputs": [],
   "source": [
    "GG = symbols('GG')\n",
    "EGO = symbols('EGO')\n",
    "term = 60\n",
    "start_date='2010-01-03'\n",
    "end_date='2017-12-31'\n",
    "df_GG_EGO = draw(GG, EGO, term, start_date, end_date)"
   ]
  },
  {
   "cell_type": "markdown",
   "metadata": {},
   "source": [
    "良さそうな感じですね。\n",
    "では，この2つの銘柄を2011年から2017年末まで取得して，実際のシュミュレーションを行ってみましょう．\n"
   ]
  },
  {
   "cell_type": "markdown",
   "metadata": {},
   "source": [
    "（対比用）"
   ]
  },
  {
   "cell_type": "code",
   "execution_count": null,
   "metadata": {},
   "outputs": [],
   "source": [
    "GG = symbols('GG')\n",
    "NEM = symbols('NEM')\n",
    "term = 60\n",
    "start_date='2010-01-03'\n",
    "end_date='2017-12-31'\n",
    "df_GG_NEM = draw(GG, NEM, term, start_date, end_date)"
   ]
  },
  {
   "cell_type": "markdown",
   "metadata": {
    "run_control": {
     "frozen": false,
     "read_only": false
    }
   },
   "source": [
    "赤線は、移動平均からの価格差ですが、これが３以上なら、GGを売りEGOを買い，−３以下であればEGOを売りGGを買うというストラテジーを組んでみましょう。\n",
    "\n",
    "```python\n",
    "#質問-10から10まで横線を引く方法はないでしょうかね？\n",
    "```\n",
    "\n",
    "実際に取引するときには、取引の費用や、株の流動性なども問題になりますが、そういう点については、QuantopianのAlgorithmの機能が役に立ちます。ここでは、Algorithmで作業をする前に、ざっくりとした計算でストラテジーの様子を把握します。"
   ]
  },
  {
   "cell_type": "code",
   "execution_count": null,
   "metadata": {
    "run_control": {
     "frozen": false,
     "read_only": false
    }
   },
   "outputs": [],
   "source": [
    "x = symbols('GG')\n",
    "y = symbols('EGO')\n",
    "term = 60\n",
    "start_date='2010-01-03'\n",
    "end_date='2017-12-31'\n",
    "threshold = 3\n",
    "\n",
    "# 価格取得\n",
    "df = get_pricing([x, y], fields='price', start_date=start_date, end_date=end_date)\n",
    "\n",
    "# スプレッド計算\n",
    "beta = df[x].rolling(window=term).mean()/df[y].rolling(window=term).mean()\n",
    "df['spread'] = df[x] - beta*df[y]\n",
    "\n",
    "# 一定の値を超えたかどうかの判定\n",
    "df['above_threshold'] = df[\"spread\"] > threshold\n",
    "df['below_threshold'] = df[\"spread\"] < -threshold\n",
    "\n",
    "# ポジション保有判定\n",
    "df['position'] = 0\n",
    "# for i, row in df.iterrows():\n",
    "#     if row['above_threshold']:  # 閾値を超えたら取引開始\n",
    "#         row['position'] = 1\n",
    "#     elif row['below_threshold']:  # 閾値を下回ったら反対取引開始\n",
    "#         row['position'] = -1\n",
    "#     elif i > term:  # 移動平均計算期間は取引しない前提\n",
    "#         row['position'] = df['position'].loc[i-1] # 前の日の状態と同じにする\n",
    "df.loc[df['above_threshold'], 'position'] = 1\n",
    "df.loc[df['below_threshold'], 'position'] = -1\n",
    "\n",
    "\n",
    "        \n",
    "# 毎日至近の補充をする前提でざっくり利益の計算をする\n",
    "df[\"x_return\"] = df[x].pct_change().shift(-1)\n",
    "df[\"y_return\"] = df[y].pct_change().shift(-1)\n",
    "\n",
    "# 移動平均計算期間は取引しない前提\n",
    "df = df.iloc[term:]    \n",
    "\n",
    "df['pair_return'] = (df['x_return']-df['y_return']) * df['position']\n",
    "df['amount'] = (df['pair_return']+1.0).prod()"
   ]
  },
  {
   "cell_type": "code",
   "execution_count": null,
   "metadata": {},
   "outputs": [],
   "source": []
  },
  {
   "cell_type": "code",
   "execution_count": null,
   "metadata": {
    "run_control": {
     "frozen": false,
     "read_only": false
    }
   },
   "outputs": [],
   "source": [
    "spy = get_pricing(\"SPY\", start_date=start_date, end_date=end_date, fields='price', frequency='daily')    "
   ]
  },
  {
   "cell_type": "code",
   "execution_count": null,
   "metadata": {
    "run_control": {
     "frozen": false,
     "read_only": false
    }
   },
   "outputs": [],
   "source": [
    "df[\"amount\"].plot()\n",
    "spy.pct_change().cumprod().plot()\n"
   ]
  },
  {
   "cell_type": "markdown",
   "metadata": {
    "run_control": {
     "frozen": false,
     "read_only": false
    }
   },
   "source": [
    "うーーーーん・・・2015年以降はまあまあいいのですが，変動が激しくツライですし，これではSPYを黙って持っている方が全然ましということになります．\n",
    "\n",
    "と，なかなか人生うまく行かないわけですが，せっかくですので，みんなで手分けして良いストラテジーを探してみましょう．\n",
    "\n",
    "思いついた改良ポイントを紹介しますので，これをヒントに改良してみてもらってもよいですし，何かご自身で思いつくモノがあればやってみて下さい．\n",
    "\n",
    "(๑•̀ㅂ•́)و✧\n",
    "\n",
    "### 改良（？）ヒント\n",
    "\n",
    "+ 違うペアを探す\n",
    "+ 違う業種を探す [S&P 500 Map](https://finviz.com/map.ashx?t=sec)\n",
    "+ 複数ペアの組み合わせ\n",
    "+ term をもっと短く/長く\n",
    "+ 20日移動平均+ボリンジャーバンドの組み合わせ\n",
    "\n",
    "![](https://4.bp.blogspot.com/-zTvzECyWEsk/VwIjHWMdszI/AAAAAAAA5e4/W_kAnVythXoHGzGO3AkgrHImS3cpvMiuQ/s330/internet_kanki_man1.png)\n",
    "\n",
    "まあ人生そんなに上手く行くことはありません．\n"
   ]
  },
  {
   "cell_type": "markdown",
   "metadata": {
    "run_control": {
     "frozen": false,
     "read_only": false
    }
   },
   "source": [
    "## このあとは\n",
    "\n",
    "アルゴリズムでシミュレーションテンプレートを作っておく？\n"
   ]
  }
 ],
 "metadata": {
  "kernelspec": {
   "display_name": "Python 2",
   "language": "python",
   "name": "python2"
  },
  "language_info": {
   "codemirror_mode": {
    "name": "ipython",
    "version": 2
   },
   "file_extension": ".py",
   "mimetype": "text/x-python",
   "name": "python",
   "nbconvert_exporter": "python",
   "pygments_lexer": "ipython2",
   "version": "2.7.12"
  }
 },
 "nbformat": 4,
 "nbformat_minor": 2
}
