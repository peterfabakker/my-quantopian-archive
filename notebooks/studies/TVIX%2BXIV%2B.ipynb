{
 "cells": [
  {
   "cell_type": "markdown",
   "metadata": {},
   "source": [
    "# VIX ETFによるアーブ"
   ]
  },
  {
   "cell_type": "code",
   "execution_count": null,
   "metadata": {},
   "outputs": [],
   "source": [
    "from quantopian.interactive.data.quandl import cboe_vix\n",
    "from odo import odo\n",
    "import numpy as np\n",
    "import pandas as pd\n",
    "import matplotlib.pyplot as plt\n",
    "import matplotlib.cm as cm\n",
    "\n",
    "def get_vix():\n",
    "    df_vix = odo(cboe_vix, pd.DataFrame)\n",
    "    df_vix['asof_date'] = pd.to_datetime(df_vix['asof_date'])\n",
    "    df_vix = df_vix.set_index(['asof_date'])\n",
    "    df_vix.index.names = ['Date']\n",
    "    df_vix.index = df_vix.index.tz_localize('UTC')\n",
    "    df_vix = df_vix.sort_index()\n",
    "    df_vix = df_vix.rename(columns={'vix_open':'open_price', 'vix_high':'high', 'vix_low':'low','vix_close':'close_price',})\n",
    "    df_vix['price'] = df_vix['close_price']\n",
    "    return df_vix\n",
    "\n",
    "start = \"2013-1-1\"\n",
    "end = \"2017-8-11\"\n",
    "\n",
    "XIV = symbols('XIV')\n",
    "TVIX = symbols('TVIX')\n",
    "VXX = symbols('VXX')\n",
    "SPY = symbols('SPY')\n",
    "#\n",
    "p = get_pricing([XIV, TVIX, VXX, SPY], start_date=start, end_date=end, frequency='daily', fields=['open_price', 'high', 'low', 'close_price', 'volume', 'price',])\n",
    "df_vix = get_vix()"
   ]
  },
  {
   "cell_type": "markdown",
   "metadata": {},
   "source": [
    "## データ取得確認"
   ]
  },
  {
   "cell_type": "code",
   "execution_count": null,
   "metadata": {},
   "outputs": [],
   "source": [
    "fig = plt.figure(figsize=(12, 4))\n",
    "ax = fig.add_subplot(1,3,1)\n",
    "ax.plot(p['close_price'][SPY])\n",
    "ax = fig.add_subplot(1,3,2)\n",
    "ax.plot(df_vix['close_price'])\n",
    "ax = fig.add_subplot(1,3,3)\n",
    "ax.scatter(p['close_price'][XIV].pct_change(), p['close_price'][TVIX].pct_change())"
   ]
  },
  {
   "cell_type": "markdown",
   "metadata": {
    "collapsed": false,
    "scrolled": true
   },
   "source": [
    "## TVIXとXIVとのアービトラージ機会の確認"
   ]
  },
  {
   "cell_type": "code",
   "execution_count": null,
   "metadata": {},
   "outputs": [],
   "source": [
    "xiv_c = p['close_price'][XIV].pct_change()\n",
    "tvix_c = p['close_price'][TVIX].pct_change()\n",
    "ln_xiv_c = xiv_c.apply(lambda x: np.log(x+1.0))\n",
    "ln_tvix_c = tvix_c.apply(lambda x: np.log(x+1.0))\n",
    "vix = df_vix.ix[ln_tvix_c.index]['close_price']\n",
    "ln_vix = vix.apply(np.log)\n",
    "diff = -ln_xiv_c-ln_tvix_c*0.5\n",
    "plt.scatter(xiv_c, diff, c=ln_vix, cmap=cm.Reds )\n",
    "plt.colorbar()"
   ]
  },
  {
   "cell_type": "markdown",
   "metadata": {},
   "source": [
    "- XIVが1日でだいたい5%以上動くようなときには、XIVのショートとTVIXのショート（元本はXIVの半分）の組み合わせで収益がでそうということが確認できた"
   ]
  },
  {
   "cell_type": "code",
   "execution_count": null,
   "metadata": {},
   "outputs": [],
   "source": [
    "diff.hist(bins=50, alpha=0.3)\n",
    "(-ln_tvix_c).hist(bins=50, alpha=0.3)\n",
    "ln_xiv_c.hist(bins=50, alpha=0.3)"
   ]
  },
  {
   "cell_type": "markdown",
   "metadata": {},
   "source": [
    "- テイルが小さくなり、収益性が安定することが確認できる"
   ]
  },
  {
   "cell_type": "markdown",
   "metadata": {},
   "source": [
    "## VIXレベルとの関係"
   ]
  },
  {
   "cell_type": "code",
   "execution_count": null,
   "metadata": {},
   "outputs": [],
   "source": [
    "plt.scatter(vix, diff, c=ln_vix, cmap=cm.Reds)\n",
    "plt.colorbar()"
   ]
  },
  {
   "cell_type": "markdown",
   "metadata": {},
   "source": [
    "- VIXが17あたりからうえではかなり確実性高く大きく儲かるが、それ以下では損のケースが増える"
   ]
  },
  {
   "cell_type": "markdown",
   "metadata": {},
   "source": [
    "## VIXの推移と比較して、時期的な塊がないか、局面による違いがないかチェックする"
   ]
  },
  {
   "cell_type": "code",
   "execution_count": null,
   "metadata": {},
   "outputs": [],
   "source": [
    "plt.plot(vix.index, vix, zorder=1, alpha=0.2)\n",
    "plt.scatter(vix.index, vix, c=diff, s=8, cmap=cm.bwr)\n",
    "plt.clim(-0.005, 0.005)\n",
    "plt.colorbar()"
   ]
  },
  {
   "cell_type": "markdown",
   "metadata": {},
   "source": [
    "- VIXの下降局面で損がでやすい印象がある"
   ]
  },
  {
   "cell_type": "markdown",
   "metadata": {},
   "source": [
    "## VIXの変化率との関係をチェックする"
   ]
  },
  {
   "cell_type": "code",
   "execution_count": null,
   "metadata": {},
   "outputs": [],
   "source": [
    "fig = plt.figure(figsize=(12, 8))\n",
    "for i, n in enumerate([1, 2, 5, 10, 20]):\n",
    "    ax = fig.add_subplot(2,5,i+1)\n",
    "    ax.set_ylim((-0.025, 0.15))\n",
    "    ax.scatter(vix.pct_change(n).shift(1), diff, alpha=0.2)　# 当日を除く\n",
    "ax = fig.add_subplot(2,1,2)\n",
    "ax.set_ylim((-0.025, 0.05))\n",
    "ax.scatter(vix.pct_change(1), diff, alpha=0.3) # 当日"
   ]
  },
  {
   "cell_type": "markdown",
   "metadata": {},
   "source": [
    "- 前日比5%以上上がっているときはほとんど益が出るが、-1%から-10%あたりは損が出やすい。\n",
    "- 比較期間は当日１日だけが良さそうだが、これはXIVやTVIXの価格連動が一日単位なのと整合的。\n",
    "- 前日のVIXとは弱い逆相関が見られる。\n",
    "- VIXの上昇局面に強い傾向も確認できた。"
   ]
  },
  {
   "cell_type": "markdown",
   "metadata": {},
   "source": [
    "## 保有期間１日と日中だけの違い"
   ]
  },
  {
   "cell_type": "code",
   "execution_count": null,
   "metadata": {},
   "outputs": [],
   "source": [
    "Ln_intraday_xiv_c = (p['close_price'][XIV]/p['open_price'][XIV]).apply(np.log)\n",
    "Ln_intraday_tvix_c = (p['close_price'][TVIX]/p['open_price'][TVIX]).apply(np.log)\n",
    "intraday_diff = -Ln_intraday_xiv_c-Ln_intraday_tvix_c*0.5\n",
    "#plt.scatter(Ln_intraday_xiv_c, , c=ln_vix, cmap=cm.Reds )\n",
    "#plt.colorbar()\n",
    "print diff.mean(), intraday_diff.mean()\n",
    "diff.hist(bins=100, range=(-0.02, 0.05), color='blue', alpha=0.3)\n",
    "intraday_diff.hist(bins=100, range=(-0.02, 0.05), color='red', alpha=0.3)\n"
   ]
  },
  {
   "cell_type": "markdown",
   "metadata": {},
   "source": [
    "- 平均では１日より日中だけのほうが収益率は低いが、極端な収益が出る日を除くと、日中だけのほうが収益の確実性は高い。\n",
    "- 保有時間の短さ、夜間の情勢の見極めができる点では、日中だけで取引するのが良いと思われる。\n",
    "- ただし、日中だけの取引の場合、組み合わせポジションが約定できないリスクがある。"
   ]
  },
  {
   "cell_type": "markdown",
   "metadata": {},
   "source": [
    "## XIVとTVIXの比率とパフォーマンスの偏差の確認"
   ]
  },
  {
   "cell_type": "code",
   "execution_count": null,
   "metadata": {},
   "outputs": [],
   "source": [
    "std, intraday_std = list(), list()\n",
    "for m in range(40, 75):\n",
    "    d = (-ln_xiv_c-ln_tvix_c*m/100.0)\n",
    "    d_intraday = (-Ln_intraday_xiv_c-Ln_intraday_tvix_c*m/100.0)\n",
    "    std.append(d.mean()/d.std())\n",
    "    intraday_std.append(d_intraday.mean()/d_intraday.std())\n",
    "plt.plot(range(40, 75), std, color='blue')\n",
    "plt.plot(range(40, 75), intraday_std, color='red')"
   ]
  },
  {
   "cell_type": "markdown",
   "metadata": {},
   "source": [
    "- 日中だけのほう１日よりも偏差は小さく、安定的になることが確認できた。\n",
    "- 組み合わせ比率は0.5ではなく、0.55くらいか。ただし、ここでは対数の足し算で単純に比率をかけているだけであることに注意。"
   ]
  },
  {
   "cell_type": "markdown",
   "metadata": {},
   "source": [
    "## ボリュームとの関係の確認"
   ]
  },
  {
   "cell_type": "code",
   "execution_count": null,
   "metadata": {},
   "outputs": [],
   "source": [
    "ln_turnover_vxx= (p['close_price'][VXX]*p['volume'][VXX]).apply(np.log)\n",
    "ln_turnover_xiv= (p['close_price'][XIV]*p['volume'][XIV]).apply(np.log)\n",
    "ln_turnover_tvix= (p['close_price'][TVIX]*p['volume'][TVIX]).apply(np.log)\n",
    "fig = plt.figure(figsize=(12, 4))\n",
    "for i, t in enumerate([ln_turnover_vxx, ln_turnover_xiv, ln_turnover_tvix]):\n",
    "    ax = fig.add_subplot(3,4,i+1)\n",
    "    ax.set_ylim((-0.025, 0.15))\n",
    "    ax.scatter(t.shift(1), diff, alpha=0.3) # 前日\n",
    "    ax = fig.add_subplot(3,4,i+5)\n",
    "    ax.set_ylim((-0.025, 0.15))\n",
    "    ax.scatter(t, diff, alpha=0.3)\n",
    "    ax = fig.add_subplot(3,4,i+9)\n",
    "    ax.set_ylim((-0.025, 0.05))\n",
    "    ax.scatter(t.pct_change(10).shift(1), diff, alpha=0.3) # 前10日から前日にかけての変化\n",
    "ax = fig.add_subplot(3,4,4)\n",
    "ax.set_ylim((-0.025, 0.15))\n",
    "plt.scatter((ln_turnover_vxx-ln_turnover_xiv).shift(1), diff, alpha=0.3) # 前日\n",
    "ax = fig.add_subplot(3,4,8)\n",
    "ax.set_ylim((-0.025, 0.15))\n",
    "plt.scatter(ln_turnover_vxx-ln_turnover_xiv, diff, alpha=0.3)\n",
    "ax = fig.add_subplot(3,4,12)\n",
    "ax.set_ylim((-0.025, 0.05))\n",
    "ax.set_xlim((-5, 5))\n",
    "plt.scatter((ln_turnover_vxx-ln_turnover_xiv).pct_change(10).shift(1), diff, alpha=0.3) # 前10日から前日にかけての変化\n"
   ]
  },
  {
   "cell_type": "markdown",
   "metadata": {},
   "source": [
    "- 取引金額が大きい時のほうが収益が出る傾向がある。\n",
    "- 前日の取引金額はだいぶん相関が弱くなる\n",
    "- 前々日から前日への変化は使えないが、期間を長めに取ると少し傾向が出る"
   ]
  },
  {
   "cell_type": "markdown",
   "metadata": {},
   "source": [
    "# TODO"
   ]
  },
  {
   "cell_type": "markdown",
   "metadata": {},
   "source": [
    "- コンタンゴとの関係\n",
    "- 先物の出来高、特にVX1とVX2の比率とか残存期間とかとの関係\n",
    "- VX1の予測、VX2の予測でコンタンゴの動きを予測して比較\n",
    "- ここまでは当日の諸々の関係しか見ていないので、全日夜間までの動きとの関係を調べる\n",
    "- HMMでやってみる"
   ]
  },
  {
   "cell_type": "code",
   "execution_count": null,
   "metadata": {},
   "outputs": [],
   "source": [
    "plt.scatter(diff.shift(1),diff,alpha=0.3)"
   ]
  },
  {
   "cell_type": "code",
   "execution_count": null,
   "metadata": {},
   "outputs": [],
   "source": [
    "plt.scatter(diff.rolling(window=5).mean().shift(1),diff,alpha=0.3)"
   ]
  },
  {
   "cell_type": "code",
   "execution_count": null,
   "metadata": {},
   "outputs": [],
   "source": [
    "plt.scatter(diff.apply(abs).rolling(window=3).mean().shift(1),diff,alpha=0.1)"
   ]
  },
  {
   "cell_type": "code",
   "execution_count": null,
   "metadata": {},
   "outputs": [],
   "source": [
    "plt.scatter(p['close_price'][SPY].rolling(window=5).std().shift(1),diff,alpha=0.3)"
   ]
  },
  {
   "cell_type": "code",
   "execution_count": null,
   "metadata": {},
   "outputs": [],
   "source": [
    "etfs = [ 'LABD', ] #'VXX', 'XIV',\n",
    "start = \"2014-1-1\"\n",
    "end = \"2017-6-1\"\n",
    "\n",
    "df = get_pricing(etfs, start_date=start, end_date=end, frequency='minute', fields='price')\n",
    "df = df.rename(columns=dict([(s, s.symbol) for s in df.columns]))\n",
    "df.index =df.index.tz_convert(\"US/Eastern\")\n",
    "df = df.fillna(method=\"ffill\", axis=1)"
   ]
  },
  {
   "cell_type": "code",
   "execution_count": null,
   "metadata": {},
   "outputs": [],
   "source": [
    "def get_at_time(df, attime, dates=None):\n",
    "    x = df.at_time(attime)\n",
    "    x.index = x.index.date\n",
    "    if dates:\n",
    "        return x.ix[dates]\n",
    "    return x\n",
    "\n",
    "df_1600 = get_at_time(df, \"16:00\")\n",
    "df_0931 = get_at_time(df, \"09:31\", df_1600.index.tolist())\n",
    "\n",
    "array_0931 = get_at_time(df, \"09:31\", df_1600.index.tolist()).values\n",
    "array_1200 = get_at_time(df, \"12:00\", df_1600.index.tolist()).values\n",
    "array_1500 = get_at_time(df, \"15:00\", df_1600.index.tolist()).values\n",
    "array_1545 = get_at_time(df, \"15:45\", df_1600.index.tolist()).values\n",
    "array_1600 = df_1600.values\n",
    "array_prev_1600 = df_1600.shift(1).values"
   ]
  },
  {
   "cell_type": "code",
   "execution_count": null,
   "metadata": {},
   "outputs": [],
   "source": [
    "array_1545_1600 = array_1600 / array_1545 - 1\n",
    "\n",
    "array_prevclose_0931 = array_0931 / array_prev_1600 - 1\n",
    "array_prevclose_1200 = array_1200 / array_prev_1600 - 1\n",
    "array_prevclose_1545 = array_1545 / array_prev_1600 - 1\n"
   ]
  },
  {
   "cell_type": "code",
   "execution_count": null,
   "metadata": {},
   "outputs": [],
   "source": [
    "import matplotlib.pyplot as plt \n",
    "fig = plt.figure(figsize=(20,10))\n",
    "\n",
    "ax = fig.add_subplot(1,3,1)\n",
    "\n",
    "ax.scatter(array_prevclose_0931, \n",
    "          array_1545_1600, \n",
    "           alpha=0.3)\n",
    "ax.set_xlabel(\"prev close to 09:31\")\n",
    "ax.set_ylabel(\"15:45 to 16:00\")\n",
    "\n",
    "ax = fig.add_subplot(1,3,2)\n",
    "ax.scatter(array_prevclose_1200, \n",
    "          array_1545_1600, \n",
    "           alpha=0.3)\n",
    "ax.set_xlabel(\"prev close to 12:00\")\n",
    "ax.set_ylabel(\"15:45 to 16:00\")\n",
    "\n",
    "ax = fig.add_subplot(1,3,3)\n",
    "ax.scatter(array_prevclose_1545, \n",
    "          array_1545_1600, \n",
    "           alpha=0.3)\n",
    "ax.set_xlabel(\"prev close to 15:45\")\n",
    "\n"
   ]
  },
  {
   "cell_type": "code",
   "execution_count": null,
   "metadata": {},
   "outputs": [],
   "source": [
    "symbols('UPRO').ass"
   ]
  },
  {
   "cell_type": "code",
   "execution_count": null,
   "metadata": {},
   "outputs": [],
   "source": []
  }
 ],
 "metadata": {
  "kernelspec": {
   "display_name": "Python 2",
   "language": "python",
   "name": "python2"
  },
  "language_info": {
   "codemirror_mode": {
    "name": "ipython",
    "version": 2
   },
   "file_extension": ".py",
   "mimetype": "text/x-python",
   "name": "python",
   "nbconvert_exporter": "python",
   "pygments_lexer": "ipython2",
   "version": "2.7.12"
  }
 },
 "nbformat": 4,
 "nbformat_minor": 2
}
