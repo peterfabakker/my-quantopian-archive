{
 "cells": [
  {
   "cell_type": "markdown",
   "metadata": {},
   "source": [
    "### 参考文献\n",
    "\n",
    "+ [How to Build a Pairs Trading Strategy on Quantopian?](https://www.quantopian.com/posts/how-to-build-a-pairs-trading-strategy-on-quantopian)\n",
    "+ [CiNii 論文 -  共和分性に基づく最適ペアトレード](https://ci.nii.ac.jp/naid/120006224721/)\n",
    "\n",
    "\n",
    "# ペアトレーディング\n",
    "\n",
    "ペアトレーディングは，マーケットの暴騰や急落といった，急な変化に巻き込まれずに収益を上げていく方法として昔から使われてるストラテジーです\n",
    "\n",
    "ペアトレーディング（以下ペアトレ）とは，2つの銘柄XとYの価格差(**スプレッド**)が平均的には一定の値で推移しているが，**一時的に大きくなった時に，時間が経過すれば元の水準に戻ることを期待**してポジションを取るストラテジーです．\n",
    "\n",
    "**X-Y**の差はいつもある程度の範囲内であるのに，ある日スプレッドがいつもより大きくなった場合，**Xが大きく値上りしているかYが大きく値下がりしている**と考えられます．従って，その差がいつもの水準に戻る事を期待して，**Xを売りYを買う**ポジションを取ります．そして，スプレッドがいつもの水準に戻った時に，反対売買（Xを買い戻しYを売る）を行い利益を確定させます．\n",
    "\n",
    "一般的に，株式価格自体はランダムウォーク（酔っぱらいのオジサン歩き＝どっちに動くか分からない）に従い予測することは出来ないと考えられます．\n",
    "\n",
    "一方，価格のスプレッドは，一定値の周りで変動するという現象がしばしば観測されます．このような現象を**経済時系列における共和分性**といいます．\n",
    "\n",
    "株式価格のペアが共和分する場合，スプレッドは，**mean reversion** つまり，平均回帰性をもつと考えられます．この性質を使ったストラテジーがペアトレです．\n",
    "\n",
    "\n",
    "このノートでは，Quantopian Research を使ってどのようにペアトレを構築していくかを学んで行きます．ノート修了時には，\n",
    "\n",
    "+ ペアトレ構築方法\n",
    "+ 銘柄ペアの探し方\n",
    "+ 銘柄ペアの評価方法\n",
    "+ 共和分とは何か\n",
    "+ どのように共和分をテストするか\n",
    "+ どのように取引シグナルを作るか\n",
    "+ python library pandas の機能の一部\n",
    "+ matplotlib の機能の一部\n",
    "\n",
    "を理解していることを目標にします．"
   ]
  },
  {
   "cell_type": "markdown",
   "metadata": {},
   "source": [
    "## ペアトレーディングとは\n",
    "\n",
    "ペアトレーディングとは，価格差がだいたい一定値に収まる2つの銘柄を探し，価格差がいつもの水準よりも大きくなった時に，通常の価格差に戻る事を期待して，一方を買い一方を売り，価格差が戻った時にポジションを閉じるストラテジーです．\n",
    "\n",
    "ここでポイントになるのは**価格差がいつもだいたい一定値に収まる** というところです．\n",
    "\n",
    "例を出します．\n",
    "\n",
    "以下は金採掘会社関連銘柄GDXとABXの2013/1/3〜2013/9/3までの値動きとその差額，そして差額の平均をプロットしたものです．\n"
   ]
  },
  {
   "cell_type": "code",
   "execution_count": null,
   "metadata": {},
   "outputs": [],
   "source": [
    "df = get_pricing([\"GDX\",\"ABX\"], fields='price',start_date='2013-01-03', end_date='2013-09-03')\n",
    "df['spread'] = df[symbols(\"GDX\")] - df[symbols(\"ABX\")] \n",
    "df['spread mean'] = df[\"spread\"].mean()\n",
    "df.plot()"
   ]
  },
  {
   "cell_type": "markdown",
   "metadata": {},
   "source": [
    "spread が平均（約9.44）の周りを行ったり来たりしているのがわかります．\n",
    "\n",
    "このように一定値の近傍（きんぼう）で変動する現象を**共和分性を持つ**と言います．\n",
    "\n",
    "**価格差がいつもだいたい一定値に収まる＝共和分する**銘柄ペアを見つける事がペアトレの絶対条件になります．\n",
    "\n",
    "では，なぜ共和分する銘柄ペアでペアトレをすると安定的に儲かるのか，考えてみます．\n"
   ]
  },
  {
   "cell_type": "markdown",
   "metadata": {},
   "source": [
    "## 銘柄XとYで検証\n",
    "\n",
    "ここでは，XとYという偽の銘柄の株価時系列（ヒストリカルデータ）を作り，共和分性と確かめ，実際の取引シュミュレーションを行います．\n",
    "\n",
    "Data分析ライブラリのpandasや，描画ライブラリ matplotlib の使い方も一緒に学んで行きます．知らない人にとっては( ﾟдﾟ)!?となることもあると思いますので，遠慮せずお近くの優しいチューターさんに手を上げて聞いて下さい．\n",
    "\n",
    "### XとYの作り方\n",
    "\n",
    "XとYは同じような値動き（＝毎日同じような変化率で動く）をする銘柄でなくては行けません．\n",
    "\n",
    "したがって，まずはXを作りそれをベースにYを作って行きます．\n",
    "\n",
    "作り方は色々考えられますが，ココでは次の手順で作ってみます．\n",
    "\n",
    "1. ランダムな数値を正規分布に従って100個作成\n",
    "1. その数列をXの日々の変化率とし,その累積和をXの時系列データとする\n",
    "1. もうひとつランダムな数列を作る\n",
    "1. 時系列Xにこの数列を足して時系列Yとする\n"
   ]
  },
  {
   "cell_type": "code",
   "execution_count": null,
   "metadata": {},
   "outputs": [],
   "source": [
    "import numpy as np\n",
    "import pandas as pd\n",
    "\n",
    "import statsmodels\n",
    "from statsmodels.tsa.stattools import coint\n",
    "np.random.seed(107)\n",
    "\n",
    "import matplotlib.pyplot as plt"
   ]
  },
  {
   "cell_type": "code",
   "execution_count": null,
   "metadata": {},
   "outputs": [],
   "source": [
    "X_returns = np.random.normal(0,1,100) #平均０，分散１のランダムな数値を100個作成\n",
    "df = pd.DataFrame({\"X\":X_returns})\n",
    "df[\"X\"] = df[\"X\"].cumsum()\n",
    "\n",
    "some_noise = np.random.normal(0,1,100) \n",
    "df[\"Y\"] = df[\"X\"] + some_noise\n",
    "\n",
    "df.head()\n"
   ]
  },
  {
   "cell_type": "code",
   "execution_count": null,
   "metadata": {},
   "outputs": [],
   "source": [
    "df.plot()\n"
   ]
  },
  {
   "cell_type": "markdown",
   "metadata": {},
   "source": [
    "いい感じですね．もう少し本物らしくするために全体に50を足し, Yには更に5を足しておきましょう．（株価がマイナスというのはありませんので）\n"
   ]
  },
  {
   "cell_type": "code",
   "execution_count": null,
   "metadata": {},
   "outputs": [],
   "source": [
    "df = df+50\n",
    "df[\"Y\"] = df[\"Y\"]+5\n"
   ]
  },
  {
   "cell_type": "code",
   "execution_count": null,
   "metadata": {},
   "outputs": [],
   "source": [
    "df.plot()"
   ]
  },
  {
   "cell_type": "markdown",
   "metadata": {},
   "source": [
    "### 共和分とは\n",
    "\n",
    "X，Yが出来ました．\n",
    "\n",
    "次にこの2つの銘柄を使って，**共和分**について考えていきます．\n",
    "\n",
    "共和分とは，一定値の周りをウロウロするような現象のことでしたね．\n",
    "\n",
    "XとYが共和分性があるかどうか，確かめてみましょう．\n",
    "\n"
   ]
  },
  {
   "cell_type": "code",
   "execution_count": null,
   "metadata": {},
   "outputs": [],
   "source": [
    "df[\"spread\"] = df[\"Y\"] - df[\"X\"]\n",
    "df.head()"
   ]
  },
  {
   "cell_type": "code",
   "execution_count": null,
   "metadata": {},
   "outputs": [],
   "source": [
    "ax = df[\"spread\"].plot()\n",
    "ax.axhline(df[\"spread\"].mean(), color=\"red\", linestyle=\"--\")\n",
    "ax.set_title(\"cointegration test\")\n"
   ]
  },
  {
   "cell_type": "markdown",
   "metadata": {},
   "source": [
    "spread（青線）が，その平均線（赤い点線）の周りと行ったり来たりしています．スプレッドが一定値の近傍で変動しているということで，このXとYは共和分性があることが確認できました．\n",
    "\n",
    "次にこれを統計的に確認してみましょう．\n"
   ]
  },
  {
   "cell_type": "markdown",
   "metadata": {},
   "source": [
    "### 共和分をテストする\n",
    "\n",
    "python の統計モデルライブラリ [StatsModels](http://www.statsmodels.org/dev/index.html) の `statsmodels.tsa.stattools`の中にある [coint](http://www.statsmodels.org/dev/generated/statsmodels.tsa.stattools.coint.html) を使ってXとYが共和分しているかどうか確認します．\n",
    "\n",
    "`coint(X,Y)` は３つの値 coint_t, pvalue, crit_value を返します．\n",
    "\n",
    "そのなかの，pvalue が小さければ小さいほど，2つの価格は共和分性を持つことを示します．\n"
   ]
  },
  {
   "cell_type": "code",
   "execution_count": null,
   "metadata": {},
   "outputs": [],
   "source": [
    "coint_t, pvalue, crit_value = coint(df[\"X\"],df[\"Y\"])\n",
    "pvalue"
   ]
  },
  {
   "cell_type": "markdown",
   "metadata": {},
   "source": [
    "### 取引シュミュレーション\n",
    "\n",
    "では，私達のXとYでペアトレードをするとどうなるか．確認してみましょう．\n",
    "\n",
    "上記のcointegration testの描画から推察するに，だいたいXとYの差の平均である**5**を挟んで行ったり来たりしています．\n",
    "\n",
    "差は，**Y-X**で取得しましたので，平均より高い位置にあるということは，**Xがいつもより低すぎてYがいつもより高すぎる**\n",
    "ということになります．\n",
    "\n",
    "よって平均よりも**Spreadが上にある場合はXの買いYの売り，反対に下にある場合はXの売りYの買い**というストラテジーをとります，\n",
    "\n"
   ]
  },
  {
   "cell_type": "code",
   "execution_count": null,
   "metadata": {},
   "outputs": [],
   "source": [
    "## ここの説明は pandas 博士のみなさんにお願いしたい．\n",
    "df_test = df.copy()\n",
    "df_test[\"above mean\"] = df_test[\"spread\"] > df_test[\"spread\"].mean()\n",
    "df_test[\"X_return\"] = df_test[\"X\"].pct_change().shift(-1)\n",
    "df_test[\"Y_return\"] = df_test[\"Y\"].pct_change().shift(-1)\n",
    "df_test[\"PL\"] = (df_test[\"Y_return\"] - df_test[\"X_return\"]) * ~df_test[\"above mean\"] \\\n",
    "              + (df_test[\"X_return\"] - df_test[\"Y_return\"]) * df_test[\"above mean\"] "
   ]
  },
  {
   "cell_type": "code",
   "execution_count": null,
   "metadata": {},
   "outputs": [],
   "source": [
    "df_test[\"PL\"].dropna().describe()"
   ]
  },
  {
   "cell_type": "code",
   "execution_count": null,
   "metadata": {},
   "outputs": [],
   "source": [
    "df_test[\"PL\"].cumsum().plot()"
   ]
  },
  {
   "cell_type": "markdown",
   "metadata": {},
   "source": [
    "![](https://4.bp.blogspot.com/-zTvzECyWEsk/VwIjHWMdszI/AAAAAAAA5e4/W_kAnVythXoHGzGO3AkgrHImS3cpvMiuQ/s330/internet_kanki_man1.png)\n",
    "\n",
    "まあ人生そんなに上手く行くことはありません．\n",
    "\n",
    "でもこれで，共和分する銘柄ペアを探せばチャンスがあることがわかりました．\n",
    "\n",
    "では，<font color=red>相場にある全銘柄でペアを作り，片っ端からその差の共和分を取得し，良いペアを探してみましょう!</font>\n",
    "とやりたいところですが，さすがに大変なので，関連ありそうな銘柄を複数集めて，そこで総当りさせるコードを書いてみましょう．\n",
    "\n",
    "### 関連のありそうな銘柄とは\n",
    "\n",
    "一般的に同じような値動きをする銘柄は，同じ業種の銘柄や同じ商品のサプライヤー等，経済的に関連がありそうな銘柄が似たような値動きをします．（例：資生堂と花王（化粧品）や，村田製作所とアルプス電気（iphoneサプライヤ））\n",
    "\n",
    "Quantopianでは，アメリカ株だけ取得可能ですので，ここでは金鉱株を集めて共和分を見ていきたいと思います．\n",
    "\n"
   ]
  },
  {
   "cell_type": "code",
   "execution_count": null,
   "metadata": {},
   "outputs": [],
   "source": [
    "import itertools\n",
    "def find_cointegrated_pairs(pairlist, start_date=\"2011-1-1\", end_date=\"2018-1-1\",):\n",
    "    prices = get_pricing(pairlist, start_date=start_date, end_date=end_date, fields=\"price\", frequency=\"daily\")\n",
    "    prices.columns =map(lambda x: x.symbol, prices.columns)\n",
    "    pairs = list(itertools.combinations(pairlist, 2))\n",
    "\n",
    "    pvalue_list = list()\n",
    "    for a,b in pairs:\n",
    "        _,pvalue,_ = coint(prices[a], prices[b])\n",
    "        pvalue_list.append([a,b,pvalue])\n",
    "        \n",
    "    return sorted(pvalue_list, key=lambda x: x[2])  \n"
   ]
  },
  {
   "cell_type": "code",
   "execution_count": null,
   "metadata": {},
   "outputs": [],
   "source": [
    "pairlist = ['AEM', 'GG', 'AUY', 'KGC', 'EGO', 'ABX', 'NEM', 'GDX']\n",
    "find_cointegrated_pairs(pairlist)"
   ]
  },
  {
   "cell_type": "markdown",
   "metadata": {},
   "source": [
    "もちろん，私達のXとYほどではありませんが，[ゴールドコープ【GG】](https://stocks.finance.yahoo.co.jp/us/detail/GG)と[エルドラド・ゴールド【EGO】](https://stocks.finance.yahoo.co.jp/us/detail/EGO)は悪くない感じですね.\n",
    "\n",
    "では，この2つの銘柄を2011年から2017年末まで取得して，実際のシュミュレーションを行ってみましょう．\n"
   ]
  },
  {
   "cell_type": "code",
   "execution_count": null,
   "metadata": {},
   "outputs": [],
   "source": [
    "prices = get_pricing(['GG', 'EGO'], start_date=\"2011-1-1\", end_date=\"2017-12-31\", fields=\"price\", frequency=\"daily\")\n",
    "prices.columns =map(lambda x: x.symbol, prices.columns)\n",
    "prices.plot()"
   ]
  },
  {
   "cell_type": "code",
   "execution_count": null,
   "metadata": {},
   "outputs": [],
   "source": [
    "spread = prices[\"GG\"]- prices[\"EGO\"]\n",
    "ax = spread.plot()\n",
    "ax.axhline(spread.mean(), color=\"red\", linestyle=\"--\")\n"
   ]
  },
  {
   "cell_type": "markdown",
   "metadata": {},
   "source": [
    "私達のXとYのようには行かないようですね．\n",
    "\n",
    "では，**20日間のスプレッドの移動平均**を取って,それより上であればEGO買いGG売り，下であればEGO売りGG買いというストラテジーを組んでみましょう．\n",
    "\n",
    "まずはプロットしてみます\n"
   ]
  },
  {
   "cell_type": "code",
   "execution_count": null,
   "metadata": {},
   "outputs": [],
   "source": [
    "term = 20 \n",
    "spread.name = \"Spread\"\n",
    "ma = spread.rolling(term).mean()\n",
    "ma.name = \"{} mean\".format(term)\n",
    "ax = spread.plot()\n",
    "ma.plot(ax=ax)\n",
    "ax.legend()\n"
   ]
  },
  {
   "cell_type": "markdown",
   "metadata": {},
   "source": [
    "Spreadが20meanより上にある場合は，GGを売りEGOを買い，逆の場合は逆ポジションを持つというストラテジーになります"
   ]
  },
  {
   "cell_type": "code",
   "execution_count": null,
   "metadata": {},
   "outputs": [],
   "source": [
    "prices = get_pricing(['GG', 'EGO'], start_date=\"2008-1-1\", end_date=\"2018-1-1\", fields=\"price\", frequency=\"daily\")\n",
    "prices.columns =map(lambda x: x.symbol, prices.columns)\n",
    "\n",
    "prices[\"spread\"] = prices[\"GG\"]- prices[\"EGO\"]\n",
    "prices[\"spread MA {}\".format(term)] = prices[\"spread\"].rolling(term).mean()\n",
    "prices[\"above mean\"] = prices[\"spread\"] > prices[\"spread MA {}\".format(term)] \n",
    "prices[\"GG return\"] = prices[\"GG\"].pct_change().shift(-1)\n",
    "prices[\"EGO return\"] = prices[\"EGO\"].pct_change().shift(-1)\n"
   ]
  },
  {
   "cell_type": "code",
   "execution_count": null,
   "metadata": {},
   "outputs": [],
   "source": [
    "prices = prices.dropna()\n",
    "prices[\"PL\"] = (prices[\"EGO return\"] - prices[\"GG return\"]) * ~prices[\"above mean\"] \\\n",
    "             + (prices[\"GG return\"] - prices[\"EGO return\"]) * prices[\"above mean\"]\n",
    "spy = get_pricing(\"SPY\", start_date=prices.index[0], end_date=prices.index[-1], fields='price', frequency='daily')    "
   ]
  },
  {
   "cell_type": "code",
   "execution_count": null,
   "metadata": {},
   "outputs": [],
   "source": [
    "prices[\"PL\"].cumsum().plot()\n",
    "spy.pct_change().cumsum().plot()\n"
   ]
  },
  {
   "cell_type": "markdown",
   "metadata": {},
   "source": [
    "うーーーーん・・・2015年以降はまあまあいいのですが，変動が激しくツライですし，これではSPYを黙って持っている方が全然ましということになります．\n",
    "\n",
    "と，なかなか人生うまく行かないわけですが，せっかくですので，みんなで手分けして良いストラテジーを探してみましょう．\n",
    "\n",
    "思いついた改良ポイントを紹介しますので，これをヒントに改良してみてもらってもよいですし，何かご自身で思いつくモノがあればやってみて下さい．\n",
    "\n",
    "(๑•̀ㅂ•́)و✧\n",
    "\n",
    "### 改良（？）ヒント\n",
    "\n",
    "+ 違うペアを探す\n",
    "+ 違う業種を探す [S&P 500 Map](https://finviz.com/map.ashx?t=sec)\n",
    "+ 複数ペアの組み合わせ\n",
    "+ term をもっと短く/長く\n",
    "+ 20日移動平均+ボリンジャーバンドの組み合わせ\n",
    "\n"
   ]
  },
  {
   "cell_type": "markdown",
   "metadata": {},
   "source": [
    "## このあとは\n",
    "\n",
    "アルゴリズムでシミュレーションテンプレートを作っておく？\n"
   ]
  }
 ],
 "metadata": {
  "kernelspec": {
   "display_name": "Python 2",
   "language": "python",
   "name": "python2"
  },
  "language_info": {
   "codemirror_mode": {
    "name": "ipython",
    "version": 2
   },
   "file_extension": ".py",
   "mimetype": "text/x-python",
   "name": "python",
   "nbconvert_exporter": "python",
   "pygments_lexer": "ipython2",
   "version": "2.7.12"
  }
 },
 "nbformat": 4,
 "nbformat_minor": 2
}
