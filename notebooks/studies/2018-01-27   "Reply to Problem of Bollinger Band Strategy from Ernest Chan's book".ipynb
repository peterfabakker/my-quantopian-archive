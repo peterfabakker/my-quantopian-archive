{
 "cells": [
  {
   "cell_type": "code",
   "execution_count": null,
   "metadata": {},
   "outputs": [],
   "source": [
    "import pandas as pd\n",
    "import numpy as np\n",
    "import statsmodels.api as sm \n",
    "import matplotlib.pyplot as plt\n",
    "\n",
    "df = get_pricing([\"EWA\", \"EWC\"], start_date=\"11/27/2010\", end_date=\"11/27/2017\", fields=\"price\")\n",
    "df.columns = map(lambda x: x.symbol, df.columns)\n",
    "df_change = df.pct_change()"
   ]
  },
  {
   "cell_type": "markdown",
   "metadata": {
    "collapsed": false
   },
   "source": [
    "## ボリンジャーバンドでペアトレード\n",
    "    "
   ]
  },
  {
   "cell_type": "code",
   "execution_count": null,
   "metadata": {},
   "outputs": [],
   "source": [
    "fig = plt.figure(figsize=(20,20))\n",
    "ax1 = fig.add_subplot(311)\n",
    "ax2 = fig.add_subplot(312)\n",
    "ax3 = fig.add_subplot(313)\n",
    "\n",
    "df_change.plot(kind=\"scatter\", x =\"EWA\", y=\"EWC\", ax=ax1)\n",
    "df.plot(ax=ax2)\n",
    "s_ratio = (df[\"EWA\"] / df[\"EWC\"])\n",
    "s_ratio_mean = s_ratio.rolling(20).mean()\n",
    "s_ratio.std = s_ratio.rolling(20).std()\n",
    "\n",
    "s_ratio.plot(ax=ax3)\n",
    "s_ratio_mean.plot(ax=ax3)\n",
    "(s_ratio_mean + s_ratio.std).plot(ax=ax3)\n",
    "(s_ratio_mean - s_ratio.std).plot(ax=ax3)\n",
    "\n",
    "ax3.axhline((df[\"EWA\"] / df[\"EWC\"]).mean())\n",
    "\n"
   ]
  },
  {
   "cell_type": "code",
   "execution_count": null,
   "metadata": {},
   "outputs": [],
   "source": [
    "df_tmp = df\n",
    "df_tmp[\"EWA_dayreturn\"] = df_tmp[\"EWA\"].pct_change().shift(-1)\n",
    "df_tmp[\"EWC_dayreturn\"] = df_tmp[\"EWC\"].pct_change().shift(-1)\n",
    "\n",
    "\n",
    "df_tmp[\"EWA/EWC\"] = df_tmp[\"EWA\"] / df_tmp[\"EWC\"]\n",
    "df_tmp[\"EWA/EWC ma20\"] = df_tmp[\"EWA/EWC\"].rolling(20).mean()\n",
    "df_tmp[\"EWA/EWC std20\"] = df_tmp[\"EWA/EWC\"].rolling(20).std()\n",
    "df_tmp[\"upper band\"] = df_tmp[\"EWA/EWC ma20\"]+df_tmp[\"EWA/EWC std20\"] \n",
    "df_tmp[\"lower band\"] = df_tmp[\"EWA/EWC ma20\"]-df_tmp[\"EWA/EWC std20\"] \n",
    "df_tmp[[\"EWA/EWC\", \"EWA/EWC ma20\",\"upper band\", \"lower band\" ]].plot()\n"
   ]
  },
  {
   "cell_type": "code",
   "execution_count": null,
   "metadata": {},
   "outputs": [],
   "source": [
    "df_tmp.ix[\"2011\":\"2012\"][[\"EWA/EWC\", \"EWA/EWC ma20\",\"upper band\", \"lower band\" ]].plot()"
   ]
  },
  {
   "cell_type": "code",
   "execution_count": null,
   "metadata": {},
   "outputs": [],
   "source": [
    "df_tmp[\"GoShort\"] = df_tmp[\"EWA/EWC\"] > df[\"upper band\"]\n",
    "df_tmp[\"GoLong\"] = df_tmp[\"EWA/EWC\"] < df[\"lower band\"]\n",
    "\n",
    "df_tmp[\"PLShort\"] = df_tmp[\"EWA_dayreturn\"]*df_tmp[\"GoShort\"]*-1 + df_tmp[\"EWC_dayreturn\"]*df_tmp[\"GoShort\"]\n",
    "df_tmp[\"PLLong\"] =  df_tmp[\"EWA_dayreturn\"]*df_tmp[\"GoLong\"] + df_tmp[\"EWC_dayreturn\"]*df_tmp[\"GoLong\"]*-1\n",
    "\n",
    "df_tmp[\"PL\"] = df_tmp[\"PLShort\"]  + df_tmp[\"PLLong\"]\n",
    "\n"
   ]
  },
  {
   "cell_type": "code",
   "execution_count": null,
   "metadata": {},
   "outputs": [],
   "source": [
    "df_tmp[\"PL\"].cumsum().plot() "
   ]
  },
  {
   "cell_type": "markdown",
   "metadata": {},
   "source": [
    "## 過去二十日間の最小二乗法\n",
    "\n",
    "1. USOとGLDの過去二十日間の最小二乗法で傾きを取得\n",
    "1. 取得した傾きをGLDにかけて，期待値よりもどのくらい外れているかを port_value に格納\n",
    "1. \n",
    "    + -1 < zscore < 1 であればNo Position\n",
    "    + zscore < -1 であれば，Long Spread（Long USO, Short GLD) \n",
    "    + 1 < zscore であれば，Short Spread（Long GLD, Short USO) \n",
    "        "
   ]
  },
  {
   "cell_type": "code",
   "execution_count": null,
   "metadata": {},
   "outputs": [],
   "source": [
    "df = get_pricing([\"EWA\", \"EWC\"],start_date=\"11/27/2010\", end_date=\"11/27/2017\",  fields=\"price\")\n",
    "df.columns = map(lambda x: x.symbol, df.columns)\n",
    "df_change = df.pct_change()\n",
    "df[\"EWA_dayreturn\"] = df[\"EWA\"].pct_change().shift(-1)\n",
    "df[\"EWC_dayreturn\"] = df[\"EWC\"].pct_change().shift(-1)\n",
    "\n"
   ]
  },
  {
   "cell_type": "code",
   "execution_count": null,
   "metadata": {},
   "outputs": [],
   "source": [
    "# 1\n",
    "def get_hedge_ratio(df):\n",
    "    ewa = df[\"EWA\"].values\n",
    "    ewc = df[\"EWC\"].values\n",
    "    price1 = ewa\n",
    "    price2 = sm.add_constant(ewc)\n",
    "    a, hedge_ratio = sm.OLS(price1,price2).fit().params\n",
    "    return a, hedge_ratio\n",
    "\n",
    "num = 20\n",
    "l = list()\n",
    "for i in range(len(df)):\n",
    "    df_tmp = df.iloc[:i].tail(num)\n",
    "    \n",
    "    if len(df_tmp) == num:\n",
    "        l.append(get_hedge_ratio(df_tmp)[1])\n",
    "    else:\n",
    "        l.append(0)\n",
    "df[\"hedge_ratio\"] = l\n"
   ]
  },
  {
   "cell_type": "code",
   "execution_count": null,
   "metadata": {},
   "outputs": [],
   "source": [
    "# 2 \n",
    "df[\"port_value\"] = df[\"EWA\"] - df[\"EWC\"] * df[\"hedge_ratio\"]\n",
    "df[\"port_value_ma20\"] = df[\"port_value\"].rolling(20).mean()\n",
    "df[\"port_value_std20\"] = df[\"port_value\"].rolling(20).std()\n",
    "df[\"port_value_zscore\"] = (df[\"port_value\"] - df[\"port_value_ma20\"] )/df[\"port_value_std20\"] \n",
    "\n"
   ]
  },
  {
   "cell_type": "code",
   "execution_count": null,
   "metadata": {},
   "outputs": [],
   "source": [
    "df[\"GoShort\"] = df[\"port_value_zscore\"] > 1\n",
    "df[\"GoLong\"] = df[\"port_value_zscore\"] < -1"
   ]
  },
  {
   "cell_type": "code",
   "execution_count": null,
   "metadata": {},
   "outputs": [],
   "source": [
    "df[\"PLShort\"] = df[\"EWA_dayreturn\"]*df[\"GoShort\"]*-1 + df[\"EWC_dayreturn\"]*df[\"GoShort\"]*df[\"hedge_ratio\"]\n",
    "df[\"PLLong\"] =  df[\"EWA_dayreturn\"]*df[\"GoLong\"] + df[\"EWC_dayreturn\"]*df[\"GoLong\"]*df[\"hedge_ratio\"]*-1\n",
    "df[\"PL\"] = df[\"PLShort\"]  + df[\"PLLong\"]\n"
   ]
  },
  {
   "cell_type": "code",
   "execution_count": null,
   "metadata": {},
   "outputs": [],
   "source": [
    "df[\"PL\"].iloc[40:].cumsum().plot()"
   ]
  },
  {
   "cell_type": "code",
   "execution_count": null,
   "metadata": {},
   "outputs": [],
   "source": [
    "a1 =  df_change.EWA.values[1:]\n",
    "a2 =  df_change.EWC.values[1:]\n",
    "\n",
    "nsample = a1.size\n",
    "X = np.column_stack((np.repeat(1, nsample), a1))\n",
    "model = sm.OLS(a2, X)\n",
    "results = model.fit()"
   ]
  },
  {
   "cell_type": "code",
   "execution_count": null,
   "metadata": {},
   "outputs": [],
   "source": [
    "# パラメータの推定値を取得\n",
    "\n",
    "a, b = results.params\n",
    "\n",
    "# プロットを表示\n",
    "plt.plot(a1, a2, 'o')\n",
    "plt.plot(a1, a+b*a1)\n",
    "plt.title(\"a={:8.3f}, b={:8.3f}\".format(a,b))\n",
    "\n",
    "plt.show()\n",
    "\n"
   ]
  },
  {
   "cell_type": "code",
   "execution_count": null,
   "metadata": {},
   "outputs": [],
   "source": [
    "def get_hedge_ratio(x, y):\n",
    "    \n",
    "    nsample = x.size\n",
    "    X = np.column_stack((np.repeat(1, nsample), x))\n",
    "    model = sm.OLS(y, X)\n",
    "    results = model.fit()\n",
    "    a, b = results.params\n",
    "    return a, b \n",
    "\n",
    "num = 20\n",
    "l = list()\n",
    "for i in range(len(df_change)):\n",
    "    df_tmp = df_change.iloc[:i].tail(num)\n",
    "    \n",
    "    if len(df_tmp) >= num:\n",
    "        x = df_tmp[\"EWA\"].values\n",
    "        y = df_tmp[\"EWC\"].values\n",
    "        l.append(get_hedge_ratio(x,y)[1])\n",
    "    else:\n",
    "        l.append(0)\n",
    "\n",
    "s = pd.Series(l, name=\"hedge_ratio\", index = df.index)\n",
    "s.plot()\n",
    "        "
   ]
  },
  {
   "cell_type": "code",
   "execution_count": null,
   "metadata": {},
   "outputs": [],
   "source": [
    "## 20日の移動平均．STD,．ZSCOREをだして， \n",
    "## -1 < zscore < 1 ではNo Position\n",
    "## -1 > zscore : Long\n",
    "## 1 < zscore : Short \n"
   ]
  },
  {
   "cell_type": "code",
   "execution_count": null,
   "metadata": {},
   "outputs": [],
   "source": [
    "df_mean = df.rolling(20).mean()\n",
    "df_std = df.rolling(20).std()\n",
    "df_zscore = (df - df_mean) / df_std "
   ]
  },
  {
   "cell_type": "code",
   "execution_count": null,
   "metadata": {},
   "outputs": [],
   "source": [
    "df_zscore.plot(x = \"EWA\", y = \"EWC\", kind=\"scatter\")"
   ]
  },
  {
   "cell_type": "code",
   "execution_count": null,
   "metadata": {},
   "outputs": [],
   "source": [
    "\n",
    "\n",
    "df_tmp = df.iloc[30:].tail(20)\n",
    "\n",
    "a,b = get_hedge_ratio(df_tmp.EWA.values,df_tmp.EWC.values,)\n",
    "a1=df_tmp.EWA\n",
    "a2=df_tmp.EWC\n",
    "plt.plot(a1, a2, 'o')\n",
    "plt.plot(a1, a+b*a1)\n",
    "plt.title(\"a={:8.3f}, b={:8.3f}\".format(a,b))\n",
    "\n",
    "plt.show()\n",
    "\n",
    "\n"
   ]
  },
  {
   "cell_type": "code",
   "execution_count": null,
   "metadata": {},
   "outputs": [],
   "source": [
    "# パラメータの推定値を取得\n",
    "\n",
    "a, b = results.params\n",
    "\n",
    "# プロットを表示\n",
    "plt.plot(a1, a2, 'o')\n",
    "plt.plot(a1, a+b*a1)\n",
    "plt.title(\"a={:8.3f}, b={:8.3f}\".format(a,b))\n",
    "\n",
    "plt.show()\n",
    "\n"
   ]
  },
  {
   "cell_type": "code",
   "execution_count": null,
   "metadata": {},
   "outputs": [],
   "source": [
    "df = pd.concat([df, s], axis=1)\n",
    "df[\"port_value\"] = df[\"EWC\"] * df[\"hedge_ratio\"]"
   ]
  },
  {
   "cell_type": "code",
   "execution_count": null,
   "metadata": {},
   "outputs": [],
   "source": [
    "((df.port_value - df.port_value.mean()) / df.port_value.std()).plot()"
   ]
  },
  {
   "cell_type": "code",
   "execution_count": null,
   "metadata": {},
   "outputs": [],
   "source": [
    "\n",
    "import pandas as pd\n",
    "import numpy as np\n",
    "import statsmodels.api as sm \n",
    "import matplotlib.pyplot as plt\n",
    "\n",
    "df = get_pricing([\"USO\", \"GLD\",\"SPY\"],start_date=\"5/26/2006\", end_date=\"4/9/2012\",  fields=\"price\")\n",
    "df.columns = map(lambda x: x.symbol, df.columns)\n",
    "df_change = df.pct_change()\n",
    "df[\"USO_dayreturn\"] = df[\"USO\"].pct_change().shift(-1)\n",
    "df[\"GLD_dayreturn\"] = df[\"GLD\"].pct_change().shift(-1)\n",
    "df[\"SPY_dayreturn\"] = df.SPY.pct_change().shift(-1)\n",
    "\n",
    "# 1\n",
    "def get_hedge_ratio(df):\n",
    "    USO = df[\"USO\"].values\n",
    "    GLD = df[\"GLD\"].values\n",
    "    price1 = USO\n",
    "    price2 = sm.add_constant(GLD)\n",
    "    a, hedge_ratio = sm.OLS(price1,price2).fit().params\n",
    "    return a, hedge_ratio\n",
    "\n",
    "num = 20\n",
    "l = list()\n",
    "for i in range(len(df)):\n",
    "    df_tmp = df.iloc[:i].tail(num)\n",
    "    \n",
    "    if len(df_tmp) == num:\n",
    "        l.append(get_hedge_ratio(df_tmp)[1])\n",
    "    else:\n",
    "        l.append(0)\n",
    "df[\"hedge_ratio\"] = l\n",
    "\n",
    "\n",
    "# 2 \n",
    "df[\"port_value\"] = df[\"USO\"] - df[\"GLD\"] * df[\"hedge_ratio\"]\n",
    "df[\"port_value_ma20\"] = df[\"port_value\"].rolling(20).mean()\n",
    "df[\"port_value_std20\"] = df[\"port_value\"].rolling(20).std()\n",
    "df[\"port_value_zscore\"] = (df[\"port_value\"] - df[\"port_value_ma20\"] )/df[\"port_value_std20\"] \n",
    "\n",
    "\n",
    "df[\"GoShort\"] = df[\"port_value_zscore\"] > 1\n",
    "df[\"GoLong\"] = df[\"port_value_zscore\"] < -1\n",
    "\n",
    "\n",
    "df[\"PLShort\"] = df[\"USO_dayreturn\"]*df[\"GoShort\"]*-1 + df[\"GLD_dayreturn\"]*df[\"GoShort\"]*df[\"hedge_ratio\"]\n",
    "df[\"PLLong\"] =  df[\"USO_dayreturn\"]*df[\"GoLong\"] + df[\"GLD_dayreturn\"]*df[\"GoLong\"]*df[\"hedge_ratio\"]*-1\n",
    "df[\"PL\"] = df[\"PLShort\"]  + df[\"PLLong\"]\n",
    "\n",
    "df[[\"PL\",\"SPY_dayreturn\"]].iloc[40:].cumsum().plot()\n"
   ]
  },
  {
   "cell_type": "markdown",
   "metadata": {
    "collapsed": true
   },
   "source": [
    "# メモ\n",
    "\n",
    "+ そもそもどうしてペアトレードなのか？\n",
    "+ ペアトレードとは（mean reversion) \n",
    "+ ペアの選び方\n",
    "+ 良いトレードとは\n",
    "+ （相場の状況に影響されずに利益が得られますよ）\n",
    "+ ペアの終焉\n"
   ]
  },
  {
   "cell_type": "code",
   "execution_count": null,
   "metadata": {},
   "outputs": [],
   "source": [
    "df.columns"
   ]
  },
  {
   "cell_type": "code",
   "execution_count": null,
   "metadata": {},
   "outputs": [],
   "source": []
  },
  {
   "cell_type": "code",
   "execution_count": null,
   "metadata": {},
   "outputs": [],
   "source": [
    "df = get_pricing([\"EWA\", \"EWC\"], fields=\"price\", frequency=\"daily\", start_date=\"2006-1-1\", end_date=\"2017-12-31\")\n",
    "df.columns = map(lambda x: x.symbol, df.columns)"
   ]
  },
  {
   "cell_type": "code",
   "execution_count": null,
   "metadata": {},
   "outputs": [],
   "source": [
    "df[\"EWA/EWC\"] = df[\"EWA\"] / df[\"EWC\"]"
   ]
  },
  {
   "cell_type": "code",
   "execution_count": null,
   "metadata": {},
   "outputs": [],
   "source": [
    "fig = plt.figure()\n",
    "ax1 = fig.add_subplot(211)\n",
    "ax2 = fig.add_subplot(212)\n",
    "\n",
    "ax1.plot(df.index, df[\"EWA\"], label=\"EWA\")\n",
    "ax1.plot(df.index, df[\"EWC\"], label=\"EWC\")\n",
    "ax2.plot(df.index, df[\"EWA/EWC\"], c=\"red\", label=\"EWA/EWC\")\n",
    "\n",
    "ax1.legend()\n",
    "ax2.legend()\n",
    "\n",
    "ax2.axhline(df[\"EWA/EWC\"].mean(), linestyle=\"--\")\n",
    "\n"
   ]
  },
  {
   "cell_type": "code",
   "execution_count": null,
   "metadata": {},
   "outputs": [],
   "source": [
    "df[\"EWA_dayreturn\"] = df[\"EWA\"].pct_change().shift(-1)\n",
    "df[\"EWC_dayreturn\"] = df[\"EWC\"].pct_change().shift(-1)\n",
    "df[\"Short\"] = df[\"EWA/EWC\"] > 0.75\n",
    "df[\"Long\"] = df[\"EWA/EWC\"] < 0.6\n"
   ]
  },
  {
   "cell_type": "code",
   "execution_count": null,
   "metadata": {},
   "outputs": [],
   "source": [
    "(df.loc[:\"2012\"][\"EWA_dayreturn\"][df[\"Short\"]]*-1 + df.loc[:\"2012\"][\"EWC_dayreturn\"][df[\"Short\"]]).cumsum().plot()"
   ]
  },
  {
   "cell_type": "code",
   "execution_count": null,
   "metadata": {},
   "outputs": [],
   "source": [
    "(df[\"EWA_dayreturn\"][df[\"Short\"]]*-1 + df[\"EWC_dayreturn\"][df[\"Short\"]]).cumsum().plot()"
   ]
  },
  {
   "cell_type": "code",
   "execution_count": null,
   "metadata": {},
   "outputs": [],
   "source": [
    "df.head()"
   ]
  },
  {
   "cell_type": "code",
   "execution_count": null,
   "metadata": {},
   "outputs": [],
   "source": [
    "term = 20\n",
    "adf[\"EWA/EWC_MA20\"] = df[\"EWA/EWC\"].rolling(term).mean()\n",
    "#df_tmp = df.loc[:\"2010\"].copy()\n",
    "df_tmp = df.copy()\n",
    "df_tmp[\"EWA/EWC\"].rolling(term).mean().plot()\n",
    "df_tmp[\"EWA/EWC\"].plot()"
   ]
  },
  {
   "cell_type": "code",
   "execution_count": null,
   "metadata": {},
   "outputs": [],
   "source": [
    "df_tmp[\"upper\"] = df_tmp[\"EWA/EWC\"] > "
   ]
  },
  {
   "cell_type": "code",
   "execution_count": null,
   "metadata": {},
   "outputs": [],
   "source": [
    "df_tmp[\"upper\"] = df_tmp[\"EWA/EWC\"] > df_tmp[\"EWA/EWC_MA20\"]\n",
    "df_tmp[\"lower\"] = df_tmp[\"EWA/EWC\"] < df_tmp[\"EWA/EWC_MA20\"]\n",
    "df_tmp[\"longSpread\"] =  df_tmp[\"EWA_dayreturn\"] * -1 * df_tmp[\"upper\"] + df_tmp[\"EWC_dayreturn\"]  * df_tmp[\"upper\"]\n",
    "df_tmp[\"shortSpread\"] =  df_tmp[\"EWA_dayreturn\"] * df_tmp[\"lower\"] + df_tmp[\"EWC_dayreturn\"] * -1 * df_tmp[\"lower\"]\n",
    "df_tmp[[\"longSpread\", \"shortSpread\"]].cumsum().sum(axis=1).plot()\n"
   ]
  },
  {
   "cell_type": "code",
   "execution_count": null,
   "metadata": {},
   "outputs": [],
   "source": [
    "sym1=\"GDX\"\n",
    "sym2=\"ABX\"\n",
    "term = 20\n",
    "start = \"11/27/2010\"\n",
    "end = \"11/27/2017\"\n",
    "\n",
    "\n",
    "df = get_pricing([sym1, sym2], start_date=start, end_date=, fields=\"price\")\n",
    "df.columns = map(lambda x: x.symbol, df.columns)\n",
    "\n",
    "df[\"{}_dayreturn\".format(sym1)] = df[sym1].pct_change().shift(-1)\n",
    "df[\"{}_dayreturn\".format(sym2)] = df[sym2].pct_change().shift(-1)\n",
    "\n",
    "df[\"ratio\"] = df[sym1]/df[sym2]\n",
    "\n",
    "\n",
    "df[\"ma\"] = df[\"ratio\"].rolling(term).mean()\n",
    "df[\"std\"] = df[\"ratio\"].rolling(term).std()\n",
    "df[\"zscore\"] = (df[\"ratio\"] -df[\"ma\"] )/df[\"std\"]\n",
    "\n",
    "df[\"flag\"] = df[\"ratio\"] > df[\"ma\"]\n",
    "df[\"upper band\"] = df[\"ma\"] + df[\"std\"]\n",
    "df[\"lower band\"] = df[\"ma\"] - df[\"std\"]\n"
   ]
  },
  {
   "cell_type": "code",
   "execution_count": null,
   "metadata": {},
   "outputs": [],
   "source": [
    "df[\"ratio\"].pct_change().plot.box()"
   ]
  },
  {
   "cell_type": "code",
   "execution_count": null,
   "metadata": {},
   "outputs": [],
   "source": [
    "df.loc[\"2016\":][[\"ratio\", \"ma\",\"upper band\", \"lower band\", \"zscore\"]].plot(secondary_y = \"zscore\")"
   ]
  },
  {
   "cell_type": "code",
   "execution_count": null,
   "metadata": {},
   "outputs": [],
   "source": [
    "df.loc[\"2016\":][\"zscore\"].mean()"
   ]
  },
  {
   "cell_type": "code",
   "execution_count": null,
   "metadata": {},
   "outputs": [],
   "source": [
    "df[\"pl long\"] = df[\"flag\"] * (df[\"EWA_dayreturn\"] * -1 +  df[\"EWC_dayreturn\"] ) \n",
    "df[\"pl short\"] = ~df[\"flag\"] * (df[\"EWA_dayreturn\"]  +  df[\"EWC_dayreturn\"] * -1 ) \n",
    "    "
   ]
  },
  {
   "cell_type": "code",
   "execution_count": null,
   "metadata": {},
   "outputs": [],
   "source": [
    "df[\"pl\"] = df[\"pl long\"]+df[\"pl short\"]\n",
    "df[\"pl\"].cumsum().plot()"
   ]
  },
  {
   "cell_type": "code",
   "execution_count": null,
   "metadata": {},
   "outputs": [],
   "source": []
  }
 ],
 "metadata": {
  "kernelspec": {
   "display_name": "Python 2",
   "language": "python",
   "name": "python2"
  },
  "language_info": {
   "codemirror_mode": {
    "name": "ipython",
    "version": 2
   },
   "file_extension": ".py",
   "mimetype": "text/x-python",
   "name": "python",
   "nbconvert_exporter": "python",
   "pygments_lexer": "ipython2",
   "version": "2.7.12"
  }
 },
 "nbformat": 4,
 "nbformat_minor": 2
}
