{
 "cells": [
  {
   "cell_type": "code",
   "execution_count": null,
   "metadata": {},
   "outputs": [],
   "source": [
    "from quantopian.pipeline import Pipeline, CustomFactor\n",
    "from quantopian.research import run_pipeline\n",
    "from quantopian.pipeline.factors import AverageDollarVolume, SimpleMovingAverage, Returns, Latest\n",
    "from quantopian.pipeline.filters import Q500US, StaticAssets\n",
    "from quantopian.interactive.data.quandl import yahoo_index_vix\n",
    "from quantopian.pipeline.filters import StaticAssets\n",
    "from quantopian.pipeline.data.builtin import USEquityPricing\n",
    "\n",
    "from quantopian.pipeline.classifiers.morningstar import Sector, SuperSector\n",
    "\n",
    "# PIPELINE を使うとき\n",
    "from quantopian.pipeline.data.psychsignal import stocktwits_free as st\n",
    "\n",
    "from zipline.utils.tradingcalendar import trading_day  \n",
    "from pandas import date_range \n",
    "import pandas as pd\n",
    "import numpy as np\n",
    "import matplotlib.pyplot as plt\n",
    "\n",
    "class CloseOnN(CustomFactor):  \n",
    "    # Define inputs\n",
    "    inputs = [USEquityPricing.close]\n",
    "    window_length = 2 \n",
    "    \n",
    "    def compute(self, today, assets, out, close):  \n",
    "        out[:] = close[0]\n",
    "        "
   ]
  },
  {
   "cell_type": "markdown",
   "metadata": {},
   "source": [
    "# キラキラ銘柄とは\n",
    "+ stocktwit でよくネタにされている銘柄\n",
    "+ 過去二年総合と，各月総合，MA30日等を見てみようと思う"
   ]
  },
  {
   "cell_type": "code",
   "execution_count": null,
   "metadata": {},
   "outputs": [],
   "source": [
    "#過去二年間総合TOP100＼(^o^)／\n",
    "\n",
    "def my_pipe():\n",
    "    pipe = Pipeline()\n",
    "    pipe.add(st.bull_bear_msg_ratio .latest, 'bull_bear_msg_ratio')\n",
    "    pipe.add(st.bull_scored_messages .latest, 'bull_scored_messages')\n",
    "    pipe.add(st.bear_scored_messages .latest, 'bear_scored_messages')\n",
    "    pipe.add(st.total_scanned_messages .latest, 'total_scanned_messages')\n",
    "    pipe.add(st.bearish_intensity .latest, 'bearish_intensity')\n",
    "    pipe.add(st.bullish_intensity .latest, 'bullish_intensity')\n",
    "    pipe.add(Sector(), 'sector')\n",
    "    \n",
    "    pipe.set_screen( Q500US())\n",
    "    return pipe\n",
    "\n",
    "\n",
    "def only_spy():\n",
    "    pipe = Pipeline()\n",
    "    pipe.add(st.bull_bear_msg_ratio .latest, 'bull_bear_msg_ratio')\n",
    "    pipe.add(st.bull_scored_messages .latest, 'bull_scored_messages')\n",
    "    pipe.add(st.bear_scored_messages .latest, 'bear_scored_messages')\n",
    "    pipe.add(st.total_scanned_messages .latest, 'total_scanned_messages')\n",
    "    pipe.add(st.bearish_intensity .latest, 'bearish_intensity')\n",
    "    pipe.add(st.bullish_intensity .latest, 'bullish_intensity')\n",
    "#     pipe.add(Sector(), 'sector')\n",
    "    \n",
    "    spy = StaticAssets(symbols(['SPY']))\n",
    "    pipe.set_screen(spy)\n",
    "    return pipe\n",
    "\n",
    "    "
   ]
  },
  {
   "cell_type": "code",
   "execution_count": null,
   "metadata": {},
   "outputs": [],
   "source": [
    "pipe = my_pipe()\n",
    "#pipe = only_spy()\n",
    "pipe_output =  run_pipeline(pipe, start_date=\"2016-1-1\", end_date=\"2017-8-1\")\n"
   ]
  },
  {
   "cell_type": "markdown",
   "metadata": {},
   "source": [
    "# ココ一年で一番StockTwitでキラキラさらた銘柄は！"
   ]
  },
  {
   "cell_type": "code",
   "execution_count": null,
   "metadata": {},
   "outputs": [],
   "source": [
    "idx = pd.IndexSlice\n",
    "l = list()\n",
    "for sid in pipe_output.index.get_level_values(1).unique():\n",
    "    l.append((sid,\n",
    "              pipe_output.loc[idx[:, sid,], \"total_scanned_messages\"].sum(),\n",
    "              pipe_output.loc[idx[:, sid,], \"bullish_intensity\"].mean(),\n",
    "              pipe_output.loc[idx[:, sid,], \"bearish_intensity\"].mean(),\n",
    "              \n",
    "             ))\n",
    "df = pd.DataFrame(l, columns=[\"sid\", \"total_scanned_messages\",\"bullish_intensity\",\"bearish_intensity\"])\n",
    "df = df.set_index(\"sid\")\n",
    "df.sort_values(by=\"total_scanned_messages\",ascending=False).head(10)"
   ]
  },
  {
   "cell_type": "markdown",
   "metadata": {},
   "source": [
    "# AMDさんでした．おめでとうございますー＼(^o^)／"
   ]
  },
  {
   "cell_type": "code",
   "execution_count": null,
   "metadata": {},
   "outputs": [],
   "source": [
    "sids = df.sort_values(by=\"total_scanned_messages\",ascending=False).head(10).index\n",
    "sids"
   ]
  },
  {
   "cell_type": "markdown",
   "metadata": {},
   "source": [
    "#Top10のマンスリーの動きを見てみよう"
   ]
  },
  {
   "cell_type": "code",
   "execution_count": null,
   "metadata": {},
   "outputs": [],
   "source": [
    "df_msgs = pipe_output[\"total_scanned_messages\"].unstack(level=-1)\n",
    "df_msgs.groupby(pd.TimeGrouper(freq='M')).sum()[sids].ix[:\"2017-07\"].plot(kind='bar')\n"
   ]
  },
  {
   "cell_type": "markdown",
   "metadata": {},
   "source": [
    "#AMDさんの話は今年になってからですね．理由はアレですね．四半期で見てもすごいです．"
   ]
  },
  {
   "cell_type": "code",
   "execution_count": null,
   "metadata": {},
   "outputs": [],
   "source": [
    "df_msgs.groupby(pd.TimeGrouper(freq='BQ')).sum()[sids].plot(kind='bar')"
   ]
  },
  {
   "cell_type": "code",
   "execution_count": null,
   "metadata": {},
   "outputs": [],
   "source": []
  },
  {
   "cell_type": "code",
   "execution_count": null,
   "metadata": {},
   "outputs": [],
   "source": []
  },
  {
   "cell_type": "code",
   "execution_count": null,
   "metadata": {},
   "outputs": [],
   "source": []
  }
 ],
 "metadata": {
  "kernelspec": {
   "display_name": "Python 2",
   "language": "python",
   "name": "python2"
  },
  "language_info": {
   "codemirror_mode": {
    "name": "ipython",
    "version": 2
   },
   "file_extension": ".py",
   "mimetype": "text/x-python",
   "name": "python",
   "nbconvert_exporter": "python",
   "pygments_lexer": "ipython2",
   "version": "2.7.12"
  }
 },
 "nbformat": 4,
 "nbformat_minor": 2
}
