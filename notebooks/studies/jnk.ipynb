{
 "cells": [
  {
   "cell_type": "code",
   "execution_count": null,
   "metadata": {},
   "outputs": [],
   "source": [
    "from quantopian.pipeline.data.builtin import USEquityPricing\n",
    "from quantopian.research import run_pipeline\n",
    "from quantopian.pipeline import Pipeline\n",
    "from quantopian.pipeline.factors import DailyReturns,SimpleMovingAverage\n",
    "from quantopian.pipeline.experimental import QTradableStocksUS\n",
    "\n",
    "from collections import Counter\n",
    "import pandas as pd\n",
    "import matplotlib.pyplot as plt \n",
    "import matplotlib.cm as cm\n",
    "\n",
    "def make_pipeline():\n",
    "    # Quantopian 側で用意してくれている，トレーダブルな銘柄リストに入っている銘柄だけで検証します．詳しくは\n",
    "    # https://www.quantopian.com/posts/working-on-our-best-universe-yet-qtradablestocksus\n",
    "    universe = QTradableStocksUS()\n",
    "    dayreturn = DailyReturns(inputs = [USEquityPricing.close])\n",
    "    # 且つペニーストックは外します．ココを外さないと結果は違うかもしれません．\n",
    "    sma30 = SimpleMovingAverage(inputs = [USEquityPricing.close],window_length=30)\n",
    "    not_penny = sma30 > 10\n",
    "    \n",
    "    pipe = Pipeline()\n",
    "    pipe.add(dayreturn, 'dayreturn')\n",
    "    pipe.set_screen(universe & not_penny)\n",
    "    return pipe\n",
    "\n"
   ]
  },
  {
   "cell_type": "code",
   "execution_count": null,
   "metadata": {},
   "outputs": [],
   "source": [
    "results = run_pipeline(make_pipeline(),start_date=\"2010-1-1\", end_date=\"2018-2-22\" )\n",
    "#results[\"initial\"] = [sym.symbol[0]  for sym in results.index.get_level_values(1)]\n",
    "#results[\"count\"] = [len(sym.symbol) for sym in results.index.get_level_values(1)]\n",
    "\n",
    "#by_initial = results.groupby(by=\"initial\")\n",
    "#by_initial.median().plot(kind=\"bar\")\n",
    "\n",
    "# by_initial.median().loc[list(\"CSAPEMFBITD\")].plot(kind=\"bar\")\n",
    "# by_count = results.groupby(by=\"count\")\n",
    "# by_count.median().plot(kind=\"bar\")\n"
   ]
  },
  {
   "cell_type": "code",
   "execution_count": null,
   "metadata": {},
   "outputs": [],
   "source": [
    "results[\"initial\"] = [sym.symbol[0]  for sym in results.index.get_level_values(1)]\n",
    "results[\"count\"] = [len(sym.symbol) for sym in results.index.get_level_values(1)]"
   ]
  },
  {
   "cell_type": "code",
   "execution_count": null,
   "metadata": {},
   "outputs": [],
   "source": [
    "syms = [sym.symbol for sym in results.index.get_level_values(1).unique()]\n",
    "data = [sym[0] for sym in syms]\n",
    "\n",
    "counter = Counter(data)\n",
    "df_initials = pd.DataFrame(counter.most_common(), columns=[\"initial\", \"count\"])\n",
    "df_initials[\"pct\"] = df_initials[\"count\"] / df_initials[\"count\"].sum()\n",
    "df_initials.sort_values(by=\"pct\", ascending=False)\n",
    "\n"
   ]
  },
  {
   "cell_type": "code",
   "execution_count": null,
   "metadata": {},
   "outputs": [],
   "source": [
    "results[\"initial\"] = [sym.symbol[0]  for sym in results.index.get_level_values(1)]\n",
    "results[\"count\"] = [len(sym.symbol) for sym in results.index.get_level_values(1)]\n",
    "\n",
    "by_initial = results.groupby(by=\"initial\")\n",
    "by_initial[\"dayreturn\"].median().plot(kind=\"bar\")"
   ]
  },
  {
   "cell_type": "code",
   "execution_count": null,
   "metadata": {},
   "outputs": [],
   "source": [
    "by_initial.median()[list(\"CASMPTBENR\")].plot(kind=\"bar\")"
   ]
  },
  {
   "cell_type": "code",
   "execution_count": null,
   "metadata": {},
   "outputs": [],
   "source": [
    "by_count = results.groupby(by=\"count\")\n",
    "by_count.median().plot(kind=\"bar\")"
   ]
  },
  {
   "cell_type": "code",
   "execution_count": null,
   "metadata": {},
   "outputs": [],
   "source": [
    "syms = results.loc[\"2018-1-2\"].index.get_level_values(1).unique()\n",
    "syms = [sym.symbol for sym in syms]"
   ]
  },
  {
   "cell_type": "code",
   "execution_count": null,
   "metadata": {},
   "outputs": [],
   "source": [
    "from collections import Counter\n",
    "data = [sym[0] for sym in syms]\n",
    "\n",
    "counter = Counter(data)\n",
    "df_initials = pd.DataFrame(counter.most_common(), columns=[\"initial\", \"count\"])\n",
    "df_initials[\"pct\"] = df_initials[\"count\"] / df_initials[\"count\"].sum()\n",
    "df_initials.sort_values(by=\"pct\", ascending=False)"
   ]
  },
  {
   "cell_type": "code",
   "execution_count": null,
   "metadata": {},
   "outputs": [],
   "source": [
    "df_initials[\"count\"].sum()"
   ]
  },
  {
   "cell_type": "code",
   "execution_count": null,
   "metadata": {},
   "outputs": [],
   "source": [
    "results[results[\"sector\"] == 206][\"five_days_return\"].dropna().hist(bins=100)\n",
    "results[results[\"sector\"] == 311][\"five_days_return\"].dropna().hist(bins=100)"
   ]
  },
  {
   "cell_type": "code",
   "execution_count": null,
   "metadata": {},
   "outputs": [],
   "source": [
    "results[\"dayofweek\"] = results.index.get_level_values(0).dayofweek\n"
   ]
  },
  {
   "cell_type": "code",
   "execution_count": null,
   "metadata": {},
   "outputs": [],
   "source": [
    "results[results['dayofweek'] == 2][\"five_days_return\"].dropna().hist(bins=500, color=\"#5F9BFF\",)\n",
    "results[results['dayofweek'] == 4][\"five_days_return\"].dropna().hist(bins=500, alpha=.5, color=\"#F8766D\",)\n"
   ]
  },
  {
   "cell_type": "code",
   "execution_count": null,
   "metadata": {},
   "outputs": [],
   "source": [
    "results[(results['dayofweek'] == 2) & (results[\"sector\"] == 311)][\"five_days_return\"].dropna().hist(bins=100, color=\"#5F9BFF\",)\n",
    "results[(results['dayofweek'] == 4) & (results[\"sector\"] == 311)][\"five_days_return\"].dropna().hist(bins=100, alpha=.5, color=\"#F8766D\",)\n"
   ]
  },
  {
   "cell_type": "code",
   "execution_count": null,
   "metadata": {},
   "outputs": [],
   "source": [
    "df = get_pricing([\"UCO\", \"USO\"], fields='price')\n",
    "df.columns =map(lambda x: x.symbol, df.columns)"
   ]
  },
  {
   "cell_type": "code",
   "execution_count": null,
   "metadata": {},
   "outputs": [],
   "source": [
    "(df.UCO / df.USO ).plot()"
   ]
  },
  {
   "cell_type": "code",
   "execution_count": null,
   "metadata": {},
   "outputs": [],
   "source": [
    "df = get_pricing([\"NUGT\", \"DUST\"], fields='price', frequency='minute', start_date='2018-01-03', end_date='2018-10-20',)\n"
   ]
  },
  {
   "cell_type": "code",
   "execution_count": null,
   "metadata": {},
   "outputs": [],
   "source": [
    "#df.index = df.index.apply(lambda x: x.tz_localize(\"Japan\").tz_convert('US/Eastern'))\n",
    "def convert_to_ustime(df):\n",
    "    df[\"date\"] = df.index\n",
    "    df[\"date\"] = df[\"date\"].apply(lambda x: x.tz_convert('US/Eastern'))\n",
    "    df = df.reset_index()\n",
    "    df = df.set_index(\"date\")\n",
    "    df = df.drop(\"index\", axis=1)\n",
    "    return df \n"
   ]
  },
  {
   "cell_type": "code",
   "execution_count": null,
   "metadata": {},
   "outputs": [],
   "source": [
    "df_ustime = convert_to_ustime(df)\n"
   ]
  },
  {
   "cell_type": "code",
   "execution_count": null,
   "metadata": {},
   "outputs": [],
   "source": [
    "s = \"\"\"\n",
    " BRZU\n",
    " CURE\n",
    " DFEN\n",
    " DPK\n",
    " DPST\n",
    " DRIP\n",
    " DRN\n",
    " DRV\n",
    " DUSL\n",
    " DUST\n",
    " DZK\n",
    " EDC\n",
    " EDZ\n",
    " ERX\n",
    " ERY\n",
    " EURL\n",
    " EUXL\n",
    " FAS\n",
    " FAZ\n",
    " GASL\n",
    " GASX\n",
    " GUSH\n",
    " INDL\n",
    " JDST\n",
    " JNUG\n",
    " JPNL\n",
    " KORU\n",
    " LABD\n",
    " LABU\n",
    " LBJ\n",
    " MEXX\n",
    " MIDU\n",
    " MIDZ\n",
    " NAIL\n",
    " NUGT\n",
    " PILL\n",
    " RETL\n",
    " RUSL\n",
    " RUSS\n",
    " SOXL\n",
    " SOXS\n",
    " SPXL\n",
    " SPXS\n",
    " TECL\n",
    " TECS\n",
    " TMF\n",
    " TMV\n",
    " TNA\n",
    " TPOR\n",
    " TYD\n",
    " TYO\n",
    " TZA\n",
    " UBOT\n",
    " UTSL\n",
    " WDRW\n",
    " YANG\n",
    " YINN\n",
    "\"\"\"\n",
    "direxion_3x = [ticker.strip() for ticker in s.split()]\n",
    "df = get_pricing(direxion_3x, fields='price', frequency='minute', start_date='2017-10-03', end_date='2018-10-20',)\n",
    "\n",
    "df = convert_to_ustime(df)\n",
    "    "
   ]
  },
  {
   "cell_type": "code",
   "execution_count": null,
   "metadata": {},
   "outputs": [],
   "source": [
    "df_1600 = df.at_time(\"16:00\")\n",
    "df_1545 = df.at_time(\"15:45\")\n",
    "df_1550 = df.at_time(\"15:50\")\n"
   ]
  },
  {
   "cell_type": "code",
   "execution_count": null,
   "metadata": {},
   "outputs": [],
   "source": []
  },
  {
   "cell_type": "code",
   "execution_count": null,
   "metadata": {},
   "outputs": [],
   "source": [
    "df_return = df_1600.reset_index().drop(\"date\", axis=1) / df_1550.reset_index().drop(\"date\", axis=1) - 1 "
   ]
  },
  {
   "cell_type": "code",
   "execution_count": null,
   "metadata": {},
   "outputs": [],
   "source": [
    "df_overnight = df_1600.reset_index().drop(\"date\", axis=1).shift(1) / df_1550.reset_index().drop(\"date\", axis=1) - 1 "
   ]
  },
  {
   "cell_type": "code",
   "execution_count": null,
   "metadata": {},
   "outputs": [],
   "source": [
    "df_overnight.head()"
   ]
  },
  {
   "cell_type": "code",
   "execution_count": null,
   "metadata": {},
   "outputs": [],
   "source": [
    "df_return.head()"
   ]
  },
  {
   "cell_type": "code",
   "execution_count": null,
   "metadata": {},
   "outputs": [],
   "source": [
    "fig = plt.figure(figsize=(20,20))\n",
    "plt.subplots_adjust(left=None, bottom=None, right=None, top=None, wspace=0.2, hspace=0.4)\n",
    "num = len(df.columns)\n",
    "xs = 10\n",
    "ys = int(num/10)+1\n",
    "for i, c in enumerate(df.columns):\n",
    "    x = i % xs\n",
    "    y = int(i/xs)+ys\n",
    "    ax = fig.add_subplot(xs, ys, i+1)\n",
    "    ax.set_title(c.symbol)\n",
    "    ax.scatter(df_overnight[symbols(c)], \n",
    "               df_return[symbols(c)], alpha=0.3)\n",
    "    \n",
    "    "
   ]
  },
  {
   "cell_type": "code",
   "execution_count": null,
   "metadata": {},
   "outputs": [],
   "source": [
    "df_vol = get_pricing(direxion_3x, fields='volume', frequency='minute', start_date='2017-10-03', end_date='2018-10-20',)\n",
    "df_vol = convert_to_ustime(df_vol)\n",
    "df_vol[\"minute\"] = df_vol.index.strftime(\"%H:%M\") "
   ]
  },
  {
   "cell_type": "code",
   "execution_count": null,
   "metadata": {},
   "outputs": [],
   "source": [
    "df_vol.groupby(\"minute\").sum()\n",
    "q = df_vol.groupby(\"minute\").quantile(0.5)\n",
    "\n",
    "grouped = df_vol.groupby(\"minute\").sum()"
   ]
  },
  {
   "cell_type": "code",
   "execution_count": null,
   "metadata": {},
   "outputs": [],
   "source": [
    "fig = plt.figure(figsize=(40,100))\n",
    "plt.subplots_adjust(left=None, bottom=None, right=None, top=None, wspace=0.2, hspace=0.4)\n",
    "num = len(df.columns)\n",
    "xs = 40\n",
    "ys = int(num/40)+1\n",
    "\n",
    "left=list(range(len(grouped)))\n",
    "\n",
    "\n",
    "\n",
    "for i, c in enumerate(df.columns):\n",
    "    x = i % xs\n",
    "    y = int(i/xs)+ys\n",
    "    ax = fig.add_subplot(xs, ys, i+1)\n",
    "    ax.set_title(c.symbol)\n",
    "    ax.bar(left=left, height=grouped[symbols(c)],)\n",
    "    \n",
    "    "
   ]
  },
  {
   "cell_type": "code",
   "execution_count": null,
   "metadata": {},
   "outputs": [],
   "source": [
    "#grouped = df_vol.groupby(\"minute\").sum()\n",
    "c = grouped.columns\n"
   ]
  },
  {
   "cell_type": "code",
   "execution_count": null,
   "metadata": {},
   "outputs": [],
   "source": [
    "grouped[c[28]].plot(kind=\"bar\", title=c[28], color=\"red\")"
   ]
  },
  {
   "cell_type": "code",
   "execution_count": null,
   "metadata": {},
   "outputs": [],
   "source": [
    "i = 28\n",
    "q[c[i]][-20:].plot(kind=\"bar\", title=c[i])"
   ]
  },
  {
   "cell_type": "code",
   "execution_count": null,
   "metadata": {},
   "outputs": [],
   "source": [
    "i = 9\n",
    "grouped[c[i]].plot(kind=\"bar\", title=c[i], color=\"red\")"
   ]
  },
  {
   "cell_type": "code",
   "execution_count": null,
   "metadata": {},
   "outputs": [],
   "source": [
    "i = 9\n",
    "q[c[i]][-20:].plot(kind=\"bar\", title=c[i])"
   ]
  },
  {
   "cell_type": "code",
   "execution_count": null,
   "metadata": {},
   "outputs": [],
   "source": [
    "i =11\n",
    "grouped[c[i]].plot(kind=\"bar\", title=c[i], color='red')\n"
   ]
  },
  {
   "cell_type": "code",
   "execution_count": null,
   "metadata": {},
   "outputs": [],
   "source": [
    "i = 11\n",
    "q[c[i]][-20:].plot(kind=\"bar\", title=c[i])"
   ]
  },
  {
   "cell_type": "code",
   "execution_count": null,
   "metadata": {},
   "outputs": [],
   "source": [
    "i =12\n",
    "grouped[c[i]].plot(kind=\"bar\", title=c[i], color='red')\n"
   ]
  },
  {
   "cell_type": "code",
   "execution_count": null,
   "metadata": {},
   "outputs": [],
   "source": [
    "i = 12\n",
    "q[c[i]][-20:].plot(kind=\"bar\", title=c[i])"
   ]
  },
  {
   "cell_type": "code",
   "execution_count": null,
   "metadata": {},
   "outputs": [],
   "source": [
    "i =13\n",
    "grouped[c[i]].plot(kind=\"bar\", title=c[i], color='red')"
   ]
  },
  {
   "cell_type": "code",
   "execution_count": null,
   "metadata": {},
   "outputs": [],
   "source": [
    "i = 13\n",
    "q[c[i]][-20:].plot(kind=\"bar\", title=c[i])"
   ]
  },
  {
   "cell_type": "code",
   "execution_count": null,
   "metadata": {},
   "outputs": [],
   "source": [
    "i =14\n",
    "grouped[c[i]].plot(kind=\"bar\", title=c[i], color='red')"
   ]
  },
  {
   "cell_type": "code",
   "execution_count": null,
   "metadata": {},
   "outputs": [],
   "source": [
    "i = 14\n",
    "q[c[i]][-20:].plot(kind=\"bar\", title=c[i])"
   ]
  },
  {
   "cell_type": "code",
   "execution_count": null,
   "metadata": {},
   "outputs": [],
   "source": [
    "i =17\n",
    "grouped[c[i]].plot(kind=\"bar\", title=c[i], color='red')"
   ]
  },
  {
   "cell_type": "code",
   "execution_count": null,
   "metadata": {},
   "outputs": [],
   "source": [
    "i = 17\n",
    "q[c[i]][-20:].plot(kind=\"bar\", title=c[i])"
   ]
  },
  {
   "cell_type": "code",
   "execution_count": null,
   "metadata": {},
   "outputs": [],
   "source": [
    "i =18\n",
    "grouped[c[i]].plot(kind=\"bar\", title=c[i], color='red')"
   ]
  },
  {
   "cell_type": "code",
   "execution_count": null,
   "metadata": {},
   "outputs": [],
   "source": [
    "i = 18\n",
    "q[c[i]][-20:].plot(kind=\"bar\", title=c[i])"
   ]
  },
  {
   "cell_type": "code",
   "execution_count": null,
   "metadata": {},
   "outputs": [],
   "source": [
    "i =21\n",
    "grouped[c[i]].plot(kind=\"bar\", title=c[i], color='red')"
   ]
  },
  {
   "cell_type": "code",
   "execution_count": null,
   "metadata": {},
   "outputs": [],
   "source": [
    "i = 21\n",
    "q[c[i]][-20:].plot(kind=\"bar\", title=c[i])"
   ]
  },
  {
   "cell_type": "code",
   "execution_count": null,
   "metadata": {},
   "outputs": [],
   "source": [
    "i =24\n",
    "grouped[c[i]].plot(kind=\"bar\", title=c[i], color='red')"
   ]
  },
  {
   "cell_type": "code",
   "execution_count": null,
   "metadata": {},
   "outputs": [],
   "source": [
    "i = 24\n",
    "q[c[i]][-20:].plot(kind=\"bar\", title=c[i])"
   ]
  },
  {
   "cell_type": "code",
   "execution_count": null,
   "metadata": {},
   "outputs": [],
   "source": [
    "i =27\n",
    "grouped[c[i]].plot(kind=\"bar\", title=c[i], color='red')"
   ]
  },
  {
   "cell_type": "code",
   "execution_count": null,
   "metadata": {},
   "outputs": [],
   "source": [
    "i = 27\n",
    "q[c[i]][-20:].plot(kind=\"bar\", title=c[i])"
   ]
  },
  {
   "cell_type": "code",
   "execution_count": null,
   "metadata": {},
   "outputs": [],
   "source": [
    "i =34\n",
    "grouped[c[i]].plot(kind=\"bar\", title=c[i], color='red')"
   ]
  },
  {
   "cell_type": "code",
   "execution_count": null,
   "metadata": {},
   "outputs": [],
   "source": [
    "i = 34\n",
    "q[c[i]][-20:].plot(kind=\"bar\", title=c[i])"
   ]
  },
  {
   "cell_type": "code",
   "execution_count": null,
   "metadata": {},
   "outputs": [],
   "source": [
    "i =37\n",
    "grouped[c[i]].plot(kind=\"bar\", title=c[i], color='red')"
   ]
  },
  {
   "cell_type": "code",
   "execution_count": null,
   "metadata": {},
   "outputs": [],
   "source": [
    "i = 37\n",
    "q[c[i]][-20:].plot(kind=\"bar\", title=c[i])"
   ]
  },
  {
   "cell_type": "code",
   "execution_count": null,
   "metadata": {},
   "outputs": [],
   "source": [
    "i =39\n",
    "grouped[c[i]].plot(kind=\"bar\", title=c[i], color='red')"
   ]
  },
  {
   "cell_type": "code",
   "execution_count": null,
   "metadata": {},
   "outputs": [],
   "source": [
    "i = 39\n",
    "q[c[i]][-20:].plot(kind=\"bar\", title=c[i])"
   ]
  },
  {
   "cell_type": "code",
   "execution_count": null,
   "metadata": {},
   "outputs": [],
   "source": [
    "i =40\n",
    "grouped[c[i]].plot(kind=\"bar\", title=c[i], color='red')"
   ]
  },
  {
   "cell_type": "code",
   "execution_count": null,
   "metadata": {},
   "outputs": [],
   "source": [
    "i = 40\n",
    "q[c[i]][-20:].plot(kind=\"bar\", title=c[i])"
   ]
  },
  {
   "cell_type": "code",
   "execution_count": null,
   "metadata": {},
   "outputs": [],
   "source": [
    "i =41\n",
    "grouped[c[i]].plot(kind=\"bar\", title=c[i], color='red')"
   ]
  },
  {
   "cell_type": "code",
   "execution_count": null,
   "metadata": {},
   "outputs": [],
   "source": [
    "i = 41\n",
    "q[c[i]][-20:].plot(kind=\"bar\", title=c[i])"
   ]
  },
  {
   "cell_type": "code",
   "execution_count": null,
   "metadata": {},
   "outputs": [],
   "source": [
    "i =42\n",
    "grouped[c[i]].plot(kind=\"bar\", title=c[i], color='red')"
   ]
  },
  {
   "cell_type": "code",
   "execution_count": null,
   "metadata": {},
   "outputs": [],
   "source": [
    "01i = 42\n",
    "q[c[i]][-20:].plot(kind=\"bar\", title=c[i])"
   ]
  },
  {
   "cell_type": "code",
   "execution_count": null,
   "metadata": {},
   "outputs": [],
   "source": [
    "i =43\n",
    "grouped[c[i]].plot(kind=\"bar\", title=c[i], color='red')"
   ]
  },
  {
   "cell_type": "code",
   "execution_count": null,
   "metadata": {},
   "outputs": [],
   "source": [
    "i = 43\n",
    "q[c[i]][-30:].plot(kind=\"bar\", title=c[i])"
   ]
  },
  {
   "cell_type": "code",
   "execution_count": null,
   "metadata": {},
   "outputs": [],
   "source": [
    "i =44\n",
    "grouped[c[i]].plot(kind=\"bar\", title=c[i], color='red')"
   ]
  },
  {
   "cell_type": "code",
   "execution_count": null,
   "metadata": {},
   "outputs": [],
   "source": [
    "i = 44\n",
    "q[c[i]][-30:].plot(kind=\"bar\", title=c[i])"
   ]
  },
  {
   "cell_type": "code",
   "execution_count": null,
   "metadata": {},
   "outputs": [],
   "source": [
    "i =45\n",
    "grouped[c[i]].plot(kind=\"bar\", title=c[i], color='red')"
   ]
  },
  {
   "cell_type": "code",
   "execution_count": null,
   "metadata": {},
   "outputs": [],
   "source": [
    "i = 45\n",
    "q[c[i]][-20:].plot(kind=\"bar\", title=c[i])"
   ]
  },
  {
   "cell_type": "code",
   "execution_count": null,
   "metadata": {},
   "outputs": [],
   "source": [
    "i =46\n",
    "grouped[c[i]].plot(kind=\"bar\", title=c[i], color='red')"
   ]
  },
  {
   "cell_type": "code",
   "execution_count": null,
   "metadata": {},
   "outputs": [],
   "source": [
    "i = 46\n",
    "q[c[i]][-70:].plot(kind=\"bar\", title=c[i])"
   ]
  },
  {
   "cell_type": "code",
   "execution_count": null,
   "metadata": {},
   "outputs": [],
   "source": [
    "i =47\n",
    "grouped[c[i]].plot(kind=\"bar\", title=c[i], color='red')"
   ]
  },
  {
   "cell_type": "code",
   "execution_count": null,
   "metadata": {},
   "outputs": [],
   "source": [
    "i = 47\n",
    "q[c[i]][-20:].plot(kind=\"bar\", title=c[i])"
   ]
  },
  {
   "cell_type": "code",
   "execution_count": null,
   "metadata": {},
   "outputs": [],
   "source": [
    "i =51\n",
    "grouped[c[i]].plot(kind=\"bar\", title=c[i], color='red')"
   ]
  },
  {
   "cell_type": "code",
   "execution_count": null,
   "metadata": {},
   "outputs": [],
   "source": [
    "i = 51\n",
    "q[c[i]][-20:].plot(kind=\"bar\", title=c[i])"
   ]
  },
  {
   "cell_type": "code",
   "execution_count": null,
   "metadata": {},
   "outputs": [],
   "source": [
    "i =55\n",
    "grouped[c[i]].plot(kind=\"bar\", title=c[i], color='red')"
   ]
  },
  {
   "cell_type": "code",
   "execution_count": null,
   "metadata": {},
   "outputs": [],
   "source": [
    "i = 55\n",
    "q[c[i]][-20:].plot(kind=\"bar\", title=c[i])"
   ]
  },
  {
   "cell_type": "code",
   "execution_count": null,
   "metadata": {},
   "outputs": [],
   "source": [
    "i =56\n",
    "grouped[c[i]].plot(kind=\"bar\", title=c[i], color='red')"
   ]
  },
  {
   "cell_type": "code",
   "execution_count": null,
   "metadata": {},
   "outputs": [],
   "source": [
    "i = 56\n",
    "q[c[i]][-20:].plot(kind=\"bar\", title=c[i])"
   ]
  },
  {
   "cell_type": "code",
   "execution_count": null,
   "metadata": {},
   "outputs": [],
   "source": [
    "i =40\n",
    "grouped[c[i]].plot(kind=\"bar\", title=c[i], color='red')"
   ]
  },
  {
   "cell_type": "code",
   "execution_count": null,
   "metadata": {},
   "outputs": [],
   "source": [
    "i = 39\n",
    "q[c[i]][-60:].plot(kind=\"bar\", title=c[i])"
   ]
  },
  {
   "cell_type": "code",
   "execution_count": null,
   "metadata": {},
   "outputs": [],
   "source": [
    "def make_date_index(s, name):\n",
    "    dates = s.index.to_series().apply(lambda x: x.strftime(\"%Y%m%d\"))\n",
    "    df = pd.DataFrame({name:s,\n",
    "                      \"dates\":dates})\n",
    "    df = df.reset_index().drop(\"date\", axis=1)\n",
    "    df = df.set_index(\"dates\")\n",
    "\n",
    "    return df\n",
    "\n",
    "def make_std(s, start=\"9:31\", end=\"15:30\"):\n",
    "    l = list()\n",
    "    for date, g in s.groupby(pd.TimeGrouper(freq='D')):\n",
    "        std = g.between_time(start, end).pct_change().std()\n",
    "        if std > 0:\n",
    "            l.append((date.strftime(\"%Y%m%d\"), std))\n",
    "    df_std = pd.DataFrame(l).rename(columns={0:\"date\", 1:\"std\"}, ).set_index(\"date\")\n",
    "    return df_std\n",
    "\n",
    "\n",
    "\n",
    "x = df[symbols(\"TECS\")].copy()\n",
    "\n",
    "x_0931 = x.at_time(\"09:31\")\n",
    "x_1541 = x.at_time(\"15:41\")\n",
    "x_1546 = x.at_time(\"15:46\")\n",
    "x_1549 = x.at_time(\"15:49\")\n",
    "x_1550 = x.at_time(\"15:50\")\n",
    "x_1551 = x.at_time(\"15:51\")\n",
    "x_1559 = x.at_time(\"15:59\")\n",
    "x_1600 = x.at_time(\"16:00\")\n",
    "\n",
    "x_0931 = make_date_index(x_0931, \"0931\")\n",
    "x_1541 = make_date_index(x_1541, \"1541\")\n",
    "x_1546 = make_date_index(x_1546, \"1546\")\n",
    "\n",
    "x_1549 = make_date_index(x_1549, \"1549\")\n",
    "x_1550 = make_date_index(x_1550, \"1550\")\n",
    "x_1551 = make_date_index(x_1551, \"1551\")\n",
    "x_1559 = make_date_index(x_1559, \"1559\")\n",
    "x_1600 = make_date_index(x_1600, \"1600\")\n",
    "\n",
    "x_std = make_std(x)\n",
    "\n",
    "df_test = pd.concat([x_0931, x_1541, x_1546, x_1549, x_1550, x_1551,x_1559, x_1600, x_std], axis=1)\n",
    "\n",
    "df_test[\"pre_1600\"] = df_test[\"1600\"].shift(1)\n",
    "\n",
    "df_test[\"pre_1600-1541\"] = df_test[\"1541\"] / df_test[\"pre_1600\"] - 1\n",
    "df_test[\"pre_1600-1546\"] = df_test[\"1546\"] / df_test[\"pre_1600\"] - 1\n",
    "\n",
    "df_test[\"pre_1600-1549\"] = df_test[\"1549\"] / df_test[\"pre_1600\"] - 1\n",
    "df_test[\"pre_1600-1550\"] = df_test[\"1550\"] / df_test[\"pre_1600\"] - 1\n",
    "df_test[\"pre_1600-1551\"] = df_test[\"1551\"] / df_test[\"pre_1600\"] - 1\n",
    "\n",
    "df_test[\"0931-1550\"] = df_test[\"1550\"] / df_test[\"0931\"] - 1\n",
    "df_test[\"1541-1550\"] = df_test[\"1550\"] / df_test[\"1541\"] - 1\n",
    "\n",
    "df_test[\"1549-1550\"] = df_test[\"1550\"] / df_test[\"1549\"] - 1\n",
    "df_test[\"1550-1551\"] = df_test[\"1551\"] / df_test[\"1550\"] - 1\n",
    "df_test[\"1551-1559\"] = df_test[\"1559\"] / df_test[\"1551\"] - 1\n",
    "\n",
    "df_test[\"1550-1600\"] = df_test[\"1600\"] / df_test[\"1550\"] - 1\n",
    "df_test[\"1551-1600\"] = df_test[\"1600\"] / df_test[\"1551\"] - 1\n",
    "\n",
    "#plt.scatter(x=df_test[\"pre_1600-1549\"], y = df_test[\"1550-1600\"], color=\"blue\")\n",
    "#plt.scatter(x=df_test[\"pre_1600-1549\"], y = df_test[\"1550-1551\"], color=\"red\")\n",
    "#plt.scatter(x=df_test[\"pre_1600-1551\"], y = df_test[\"1551-1600\"], color=\"magenta\")\n",
    "#plt.scatter(x=df_test[\"pre_1600-1550\"], y = df_test[\"1551-1559\"], color=\"black\")\n",
    "#plt.scatter(x=df_test[\"pre_1600-1546\"], y = df_test[\"1551-1559\"], color=\"black\")\n",
    "    \n",
    "\n",
    "fig = plt.figure()\n",
    "im = plt.scatter(x=df_test[\"pre_1600-1550\"], y = df_test[\"1551-1559\"],\n",
    "                 c=df_test[\"1541-1550\"],\n",
    "                 linewidths=0, alpha=1, \n",
    "                 cmap=cm.Reds)\n",
    "fig.colorbar(im)\n"
   ]
  },
  {
   "cell_type": "code",
   "execution_count": null,
   "metadata": {},
   "outputs": [],
   "source": [
    "\n",
    "((df_test[\"pre_1600-1550\"]>0.05)*1.0 * df_test[\"1551-1559\"]).cumsum().plot()"
   ]
  },
  {
   "cell_type": "code",
   "execution_count": null,
   "metadata": {},
   "outputs": [],
   "source": [
    "\n",
    "x = df[symbols(\"SOXS\")].copy()\n",
    "\n"
   ]
  },
  {
   "cell_type": "code",
   "execution_count": null,
   "metadata": {},
   "outputs": [],
   "source": [
    "df_test"
   ]
  },
  {
   "cell_type": "code",
   "execution_count": null,
   "metadata": {},
   "outputs": [],
   "source": [
    "spy = get_pricing(\"SPY\", start_date=\"2002-01-02\", end_date=\"2018-1-1\")\n",
    "spy.head()"
   ]
  },
  {
   "cell_type": "code",
   "execution_count": null,
   "metadata": {},
   "outputs": [],
   "source": [
    "#spy[\"week num\"] = spy.index.isocalendar()[1]\n",
    "\n",
    "spy[\"date\"] = spy.index\n",
    "spy[\"week num\"] =spy[\"date\"].apply(lambda x: x.isocalendar()[1])\n",
    "spy[\"day return\"] = spy[\"close_price\"].pct_change()\n",
    "spy.groupby(by=\"week num\").sum()[\"day return\"].plot(kind=\"bar\")"
   ]
  },
  {
   "cell_type": "code",
   "execution_count": null,
   "metadata": {},
   "outputs": [],
   "source": [
    "spy.groupby(by=\"week num\").mean()[\"day return\"].plot(kind=\"bar\")\n"
   ]
  },
  {
   "cell_type": "code",
   "execution_count": null,
   "metadata": {},
   "outputs": [],
   "source": [
    "import pandas as pd\n",
    "#spy[spy[\"week num\"]==48][\"day return\"].groupby(pd.TimeGrouper(freq='12M')).sum().plot(kind=\"bar\")\n",
    "spy[spy[\"week num\"]==49][\"day return\"].groupby(pd.TimeGrouper(freq='12M')).sum().plot(kind=\"bar\", color=\"green\")\n"
   ]
  },
  {
   "cell_type": "code",
   "execution_count": null,
   "metadata": {},
   "outputs": [],
   "source": [
    "spy.loc[\"2002\"][\"close_price\"].plot()"
   ]
  },
  {
   "cell_type": "code",
   "execution_count": null,
   "metadata": {},
   "outputs": [],
   "source": [
    "vol = \"\"\"\n",
    "VXX\n",
    "TVIX\n",
    "SVXY\n",
    "UVXY\n",
    "VXXB\n",
    "VIXY\n",
    "ZIV\n",
    "VIXM\n",
    "VXZ\n",
    "UOCT\n",
    "VIIX\n",
    "BOCT\n",
    "POCT\n",
    "UJUL\n",
    "VXZB\n",
    "EXIV\n",
    "XVZ\n",
    "PJUL\n",
    "EVIX\n",
    "BJUL\n",
    "\"\"\"\n",
    "vol = vol.split()\n",
    "\n",
    "etf = \"\"\"\n",
    "SPY\n",
    "IVV\n",
    "VOO\n",
    "VTI\n",
    "VEA\n",
    "QQQ\n",
    "EFA\n",
    "VWO\n",
    "IEFA\n",
    "IEMG\n",
    "IJH\n",
    "VTV\n",
    "IWM\n",
    "IWF\n",
    "IJR\n",
    "IWD\n",
    "VUG\n",
    "VIG\n",
    "EEM\n",
    "XLF\n",
    "VO\n",
    "VB\n",
    "VYM\n",
    "VEU\n",
    "DIA\n",
    "IVW\n",
    "XLV\n",
    "VGT\n",
    "USMV\n",
    "XLK\n",
    "MDY\n",
    "IWB\n",
    "DVY\n",
    "IWR\n",
    "SDY\n",
    "EWJ\n",
    "ITOT\n",
    "SCHF\n",
    "IVE\n",
    "XLE\n",
    "RSP\n",
    "SCHX\n",
    "VGK\n",
    "XLY\n",
    "VV\n",
    "SCHB\n",
    "VBR\n",
    "IXUS\n",
    "\"\"\"\n",
    "etf = etf.split()"
   ]
  },
  {
   "cell_type": "code",
   "execution_count": null,
   "metadata": {},
   "outputs": [],
   "source": [
    "syms = list(set(etf) - set(vol))\n",
    "\n",
    "\n",
    "df = get_pricing(syms, fields='close_price', start_date=\"2008-1-1\", end_date=\"2010-1-1\")"
   ]
  },
  {
   "cell_type": "code",
   "execution_count": null,
   "metadata": {},
   "outputs": [],
   "source": [
    "print syms"
   ]
  },
  {
   "cell_type": "code",
   "execution_count": null,
   "metadata": {},
   "outputs": [],
   "source": [
    "df = df.dropna(axis=1)"
   ]
  },
  {
   "cell_type": "code",
   "execution_count": null,
   "metadata": {},
   "outputs": [],
   "source": [
    "df_describe = df.pct_change().dropna().describe()"
   ]
  },
  {
   "cell_type": "code",
   "execution_count": null,
   "metadata": {},
   "outputs": [],
   "source": [
    "import matplotlib.pyplot as plt \n",
    "df_describe.loc['mean'].plot(kind=\"bar\")\n",
    "\n"
   ]
  },
  {
   "cell_type": "code",
   "execution_count": null,
   "metadata": {},
   "outputs": [],
   "source": [
    "df_describe.loc['std'].plot(kind=\"bar\")\n"
   ]
  },
  {
   "cell_type": "code",
   "execution_count": null,
   "metadata": {},
   "outputs": [],
   "source": [
    "df_vwo = get_pricing(\"VWO\", start_date=\"2008-1-1\", end_date=\"2010-1-1\")\n",
    "df_vwo[[\"price\", \"volume\"]].plot(secondary_y=\"volume\")\n"
   ]
  },
  {
   "cell_type": "code",
   "execution_count": null,
   "metadata": {},
   "outputs": [],
   "source": [
    "\n",
    "df_xlf = get_pricing(\"XLF\", start_date=\"2008-1-1\", end_date=\"2010-1-1\")\n",
    "df_xlf[[\"price\", \"volume\"]].plot(secondary_y=\"volume\")"
   ]
  },
  {
   "cell_type": "code",
   "execution_count": null,
   "metadata": {},
   "outputs": [],
   "source": []
  },
  {
   "cell_type": "code",
   "execution_count": null,
   "metadata": {},
   "outputs": [],
   "source": [
    "df_describe.columns[0].symbol"
   ]
  }
 ],
 "metadata": {
  "kernelspec": {
   "display_name": "Python 2",
   "language": "python",
   "name": "python2"
  },
  "language_info": {
   "codemirror_mode": {
    "name": "ipython",
    "version": 2
   },
   "file_extension": ".py",
   "mimetype": "text/x-python",
   "name": "python",
   "nbconvert_exporter": "python",
   "pygments_lexer": "ipython2",
   "version": "2.7.12"
  }
 },
 "nbformat": 4,
 "nbformat_minor": 2
}
