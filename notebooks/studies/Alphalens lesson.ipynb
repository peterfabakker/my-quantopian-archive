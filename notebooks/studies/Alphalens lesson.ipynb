{
 "cells": [
  {
   "cell_type": "markdown",
   "metadata": {},
   "source": [
    "## Alphalens の勉強\n",
    "\n",
    "https://www.quantopian.com/posts/alphalens-a-new-tool-for-analyzing-alpha-factors\n"
   ]
  },
  {
   "cell_type": "code",
   "execution_count": null,
   "metadata": {},
   "outputs": [],
   "source": [
    "import numpy as np\n",
    "from quantopian.research import run_pipeline\n",
    "from quantopian.pipeline import Pipeline\n",
    "from quantopian.pipeline.data.builtin import USEquityPricing\n",
    "from quantopian.pipeline.factors import CustomFactor, Returns, AverageDollarVolume, \n",
    "from quantopian.pipeline.classifiers.morningstar import Sector\n",
    "from quantopian.pipeline.filters import Q500US\n",
    "MORNINGSTAR_SECTOR_CODES = {\n",
    "     -1: 'Misc',\n",
    "    101: 'Basic Materials',\n",
    "    102: 'Consumer Cyclical',\n",
    "    103: 'Financial Services',\n",
    "    104: 'Real Estate',\n",
    "    205: 'Consumer Defensive',\n",
    "    206: 'Healthcare',\n",
    "    207: 'Utilities',\n",
    "    308: 'Communication Services',\n",
    "    309: 'Energy',\n",
    "    310: 'Industrials',\n",
    "    311: 'Technology' ,    \n",
    "}\n"
   ]
  },
  {
   "cell_type": "markdown",
   "metadata": {},
   "source": [
    "### 自分のCustom Factorを定義"
   ]
  },
  {
   "cell_type": "code",
   "execution_count": null,
   "metadata": {},
   "outputs": [],
   "source": [
    "class LowVol(CustomFactor):\n",
    "    inputs = [Returns(window_length=2)] # 前日比\n",
    "    window_length=25\n",
    "    \n",
    "    def compute(self, today, assets, out, close):\n",
    "        out[:] = -np.nanstd(close, axis=0) # NaN を無視してStdを計算\n"
   ]
  },
  {
   "cell_type": "markdown",
   "metadata": {},
   "source": [
    "### 自分のUniverseを定義"
   ]
  },
  {
   "cell_type": "code",
   "execution_count": null,
   "metadata": {},
   "outputs": [],
   "source": [
    "universe = Q500US()"
   ]
  },
  {
   "cell_type": "markdown",
   "metadata": {},
   "source": [
    "### 自分のPipelineを作成"
   ]
  },
  {
   "cell_type": "code",
   "execution_count": null,
   "metadata": {},
   "outputs": [],
   "source": [
    "pipe_low_vol = Pipeline()\n",
    "pipe_low_vol.add(LowVol(mask=universe), \"LowVol\")\n",
    "pipe_low_vol.add( Sector(mask=universe), \"Sector\")\n",
    "pipe_low_vol.set_screen(universe)\n"
   ]
  },
  {
   "cell_type": "markdown",
   "metadata": {},
   "source": [
    "### Pipeline 実行"
   ]
  },
  {
   "cell_type": "code",
   "execution_count": null,
   "metadata": {},
   "outputs": [],
   "source": [
    "results = run_pipeline(pipe_low_vol, '2015-6-30', '2016-6-30')"
   ]
  },
  {
   "cell_type": "markdown",
   "metadata": {},
   "source": [
    "### 価格データを取得\n",
    "+ Pipelineよりも少し長いデータを取得して，将来のReturn も結果に反映できるように，別件で価格を取得"
   ]
  },
  {
   "cell_type": "code",
   "execution_count": null,
   "metadata": {},
   "outputs": [],
   "source": [
    "assets = results.index.levels[1].unique()\n",
    "pricing = get_pricing(assets, start_date='2015-6-30', end_date='2016-7-30', fields='open_price')"
   ]
  },
  {
   "cell_type": "markdown",
   "metadata": {},
   "source": [
    "### Alphalens tear sheet を作ろう"
   ]
  },
  {
   "cell_type": "code",
   "execution_count": null,
   "metadata": {},
   "outputs": [],
   "source": [
    "import alphalens\n",
    "factor_data = alphalens.utils.get_clean_factor_and_forward_returns(\n",
    "    results['LowVol'],\n",
    "    pricing, \n",
    "    quantiles=5,\n",
    "    groupby=results['Sector'],\n",
    "    periods=(1,5,10))"
   ]
  },
  {
   "cell_type": "markdown",
   "metadata": {},
   "source": [
    " ##[get_clean_factor_and_forward_returns](http://quantopian.github.io/alphalens/alphalens.html?highlight=get_clean_factor_and_forward_returns#alphalens.utils.get_clean_factor_and_forward_returns)\n",
    " \n",
    "**パラメタ**\n",
    "+ **factor**, Multiindex (date, asset) の**1ファクター**データ．\n",
    "+ **prices**, date をindex， assets を columns に持つDataFrame．**ルックアヘッドバイアスを防ぐ為に，ファクターが作られたTimePeriodと同じでなくてはならず，また，Factorよりも長めのデータを渡す必要がある．**\n",
    "+ **groupby**=None, Multiindex (date, asset) の1ファクターデータ，もしくは，辞書．辞書の場合は，Keｙにasset\n",
    "+ **by_group**=False, Trueの場合は，グループ毎に統計演算する．\n",
    "+ **quantiles**=5, Intもしくは，Floatのリスト．intの場合は，その数でファクターを等分位.リスト（例；[0, .10, .5, .90, 1.] or [.05, .5, .95]）は，その区切りで分ける．わけた分位毎に結果を出す　**quantile もしくは bin のどちらかのみNone**\n",
    "+ **bins**=None, Intもしくは，Floatのリスト．intの場合はbin数．リスト（例； [-4, -2, -0.5, 0, 10]）の場合はそれでBinをつくる．\n",
    "    + 注意！**bins=**を指定するときは必ず **quantiles=None** を明示しないと，例外が発生する\n",
    "+ **periods**=(1, 5, 10), intのリスト．何日後のリターンを見るか．（デフォルトだと，翌日，5日後，10日後）\n",
    "+ **filter_zscore**=20, int もしくは float. リターンをz値でフィルターする．このハズレ値フィルタリングは，ルックアヘッドバイアスしてしまう可能性がある．\n",
    "+ **groupby_labels**=None．それぞれのグループに別名を付けたいときつかう. None の場合は ”factor” になる\n",
    "\n",
    "**返り値**\n",
    "\n",
    "Multiindex (date, asset) ，のDataFrameで，パラメータで渡した結果が，コラムに入っているデータ\n",
    "\n",
    "> factor_data.head()\n",
    " \n",
    "date|asset|1|5|10|factor|group|factor_quantile\n",
    "---|---|---|---|---|---|---|---\n",
    "2015-06-30 00:00:00+00:00|Equity(2 [ARNC])|-0.021778|-0.043644|-0.059313|-0.008829|101|5\n",
    "|Equity(24 [AAPL])|0.010597|-0.008679|0.001195|-0.008808|311|5\n",
    "|Equity(62 [ABT])|-0.002225|0.004637|0.01152|-0.009697|206|4\n",
    "|Equity(67 [ADSK])|-0.009787|0.031904|0.0413|-0.013364|311|2\n",
    "|Equity(76 [TAP])|-0.01249|-0.013334|0.007296|-0.012557|205|2\n",
    "\n",
    "\n"
   ]
  },
  {
   "cell_type": "markdown",
   "metadata": {},
   "source": [
    " ##[create_full_tear_sheet](http://quantopian.github.io/alphalens/alphalens.html?highlight=create_full_tear_sheet#alphalens.tears.create_full_tear_sheet)\n",
    " \n",
    "1ファクターを評価するためのティアシートを作成\n",
    "\n",
    "**パラメタ**\n",
    "\n",
    "+ **factor_data**：MultiindexのDataFrame．get_clean_factor_and_forward_returnsの返り値のようなデータ．\n",
    "+ **long_short**=True, Long Short両方あるストラテジーか？\n",
    "+ **group_adjust**=False, ICを計算する前に，グループ毎のリターンを個別に戻すか？\n",
    "+ **by_group**=False　グループごとに結果をだすか？\n"
   ]
  },
  {
   "cell_type": "code",
   "execution_count": null,
   "metadata": {},
   "outputs": [],
   "source": [
    "alphalens.tears.create_full_tear_sheet(factor_data, by_group=True)"
   ]
  },
  {
   "cell_type": "markdown",
   "metadata": {},
   "source": [
    "# よくあるエラー集"
   ]
  },
  {
   "cell_type": "markdown",
   "metadata": {},
   "source": [
    "エラー：<font color=red>ValueError: Bin edges must be unique: array([  0.,   0.,   0.,   0.,   0.,  10.])</font>\n",
    "\n",
    "解決： bins = を指定して， quantiles=None, を明示する． quantiles=None, はデフォルトなんだけど，binを指定するときは明示しないと何故か例外を返す\n",
    "\n",
    "\n",
    "参照： [No objects to concatenate，using alaphalens to analysing my own factor](https://www.quantopian.com/posts/no-objects-to-concatenate-using-alaphalens-to-analysing-my-own-factor#59a6ba1c5b2059000dfa91b3)\n"
   ]
  }
 ],
 "metadata": {
  "kernelspec": {
   "display_name": "Python 2",
   "language": "python",
   "name": "python2"
  },
  "language_info": {
   "codemirror_mode": {
    "name": "ipython",
    "version": 2
   },
   "file_extension": ".py",
   "mimetype": "text/x-python",
   "name": "python",
   "nbconvert_exporter": "python",
   "pygments_lexer": "ipython2",
   "version": "2.7.12"
  }
 },
 "nbformat": 4,
 "nbformat_minor": 2
}
