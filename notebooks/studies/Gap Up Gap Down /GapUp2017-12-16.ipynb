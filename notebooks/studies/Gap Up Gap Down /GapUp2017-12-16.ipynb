{
 "cells": [
  {
   "cell_type": "code",
   "execution_count": null,
   "metadata": {},
   "outputs": [],
   "source": [
    "from quantopian.pipeline import Pipeline,CustomFilter\n",
    "from quantopian.pipeline.factors import CustomFactor\n",
    "from quantopian.pipeline.data.builtin import USEquityPricing\n",
    "from quantopian.research import run_pipeline\n",
    "\n",
    "from quantopian.pipeline.filters import Q1500US, Q500US\n",
    "from quantopian.pipeline.experimental import QTradableStocksUS\n",
    "from quantopian.pipeline.factors import AverageDollarVolume\n",
    "from quantopian.pipeline.classifiers.morningstar import Sector, SuperSector\n",
    "\n",
    "\n",
    "import pandas as pd\n",
    "import numpy as np \n",
    "\n",
    "class ValueDayBeforeYesterday(CustomFactor):\n",
    "    window_length = 2\n",
    "    def compute(self, today, assets, out, values):\n",
    "        out[:] = values[0]\n",
    "        \n",
    "class ValueDayBeforeYesterday_log(CustomFactor):\n",
    "    window_length = 2\n",
    "    def compute(self, today, assets, out, values):\n",
    "        out[:] = np.log(values[0])\n",
    "\n",
    "class MAValueChange(CustomFactor):\n",
    "    def compute(self, today, assets, out, values):\n",
    "        mean = pd.DataFrame(values).pct_change().mean()#.apply(np.log)\n",
    "        out[:] = mean.values\n",
    "        \n",
    "    \n",
    "        \n",
    "\n",
    "def make_pipeline():\n",
    "    pipe = Pipeline()\n",
    "    \n",
    "    base_universe = QTradableStocksUS()\n",
    "    day_before_yesterday_close = ValueDayBeforeYesterday(inputs = [USEquityPricing.close])\n",
    "    day_before_yesterday_volume = ValueDayBeforeYesterday(inputs = [USEquityPricing.volume])\n",
    "    day_before_yesterday_volume_log = ValueDayBeforeYesterday_log(inputs = [USEquityPricing.volume])\n",
    "    \n",
    "    \n",
    "    ma3_value_change = MAValueChange(inputs = [USEquityPricing.close], window_length=3)\n",
    "    \n",
    "    \n",
    "    dollar_volume = AverageDollarVolume(window_length=30)\n",
    "    high_dollar_volume = dollar_volume.percentile_between(98, 100)\n",
    "    sector = Sector()\n",
    "    \n",
    "    pipe.add(day_before_yesterday_close, 'close_2days_before')\n",
    "    pipe.add(day_before_yesterday_volume, 'volume_2days_before')\n",
    "    pipe.add(USEquityPricing.close.latest, 'close_prev_day')\n",
    "    pipe.add(ma3_value_change, 'ma3_value_change')\n",
    "    pipe.add(sector, 'sector')\n",
    "    pipe.add(np.log(day_before_yesterday_volume * day_before_yesterday_close), 'volume_2days_turnover_log')\n",
    "    \n",
    "    pipe.set_screen(high_dollar_volume & base_universe & (ma3_value_change < 0))\n",
    "    return pipe\n",
    "\n",
    "pipeline_results = run_pipeline(make_pipeline(), start_date='2017-1-1', end_date='2017-12-12')"
   ]
  },
  {
   "cell_type": "code",
   "execution_count": null,
   "metadata": {},
   "outputs": [],
   "source": [
    "def fetch_todays_min_data(pipeline_results):\n",
    "    dates = pipeline_results.index.get_level_values(0).unique()\n",
    "    d = dict()\n",
    "    for date in dates:\n",
    "        tickers = pipeline_results.loc[date].index \n",
    "        d[date] = get_pricing(tickers, start_date=date, end_date=date, frequency='minute')\n",
    "    return d\n",
    "\n",
    "daily_min_data =  fetch_todays_min_data(pipeline_results)"
   ]
  },
  {
   "cell_type": "code",
   "execution_count": null,
   "metadata": {},
   "outputs": [],
   "source": [
    "daily_min_data[daily_min_data.keys()[0]]\n"
   ]
  },
  {
   "cell_type": "code",
   "execution_count": null,
   "metadata": {},
   "outputs": [],
   "source": [
    "\n",
    "def merge_all(pipeline_results,daily_min_data):\n",
    "    dates = pipeline_results.index.get_level_values(0).unique()\n",
    "    d = dict()\n",
    "    for date in dates:\n",
    "        d[date]  = merged(pipeline_results.loc[date],\n",
    "                         daily_min_data[date])\n",
    "    return d \n",
    "    \n",
    "def merged(df_pipeline_results, pan_min_data):\n",
    "    df_open_data = pan_min_data[\"open_price\"]\n",
    "    df_price = pan_min_data[\"price\"]\n",
    "    s_at_open = df_open_data.iloc[0].rename(\"09:30\")\n",
    "    s_at_entry = df_open_data.iloc[1].rename(\"09:31\")\n",
    "    s_at_1010 = df_price.iloc[39].rename(\"10:10\")\n",
    "    \n",
    "    s_at_0940 = df_price.iloc[9].rename(\"09:40\")\n",
    "    s_at_0950 = df_price.iloc[19].rename(\"09:50\")\n",
    "    s_at_1000 = df_price.iloc[29].rename(\"10:00\")\n",
    "    s_at_1020 = df_price.iloc[49].rename(\"10:20\")\n",
    "    s_at_1030 = df_price.iloc[59].rename(\"10:30\")\n",
    "    \n",
    "    \n",
    "    df = pd.concat([df_pipeline_results, s_at_open, s_at_entry,\n",
    "                    s_at_0940,s_at_0950,s_at_1000,\n",
    "                    s_at_1010, s_at_1020,s_at_1030], axis=1)\n",
    "    return df \n",
    "\n",
    "d = merge_all(pipeline_results,daily_min_data)"
   ]
  },
  {
   "cell_type": "code",
   "execution_count": null,
   "metadata": {},
   "outputs": [],
   "source": [
    "d[daily_min_data.keys()[0]]"
   ]
  },
  {
   "cell_type": "code",
   "execution_count": null,
   "metadata": {},
   "outputs": [],
   "source": [
    "def calc_gap(df_merged):\n",
    "    df_merged[\"gap_from_day_before_yesterday\"] = np.log(df_merged[\"09:30\"] / df_merged[\"close_2days_before\"])\n",
    "    df_merged[\"gap_from_yesterday\"] = np.log(df_merged[\"09:30\"] / df_merged[\"close_prev_day\"])\n",
    "    df_merged[\"change_0930_1010\"] = np.log(df_merged[\"10:10\"] / df_merged[\"09:31\"])\n",
    "    df_merged[\"change_0930_1030\"] = np.log(df_merged[\"10:30\"] / df_merged[\"09:31\"])\n",
    "    \n",
    "    df_merged[\"change_0930_0940\"] = np.log(df_merged[\"09:40\"] / df_merged[\"09:31\"])\n",
    "    df_merged[\"change_0930_0950\"] = np.log(df_merged[\"09:50\"] / df_merged[\"09:31\"])\n",
    "    df_merged[\"change_0930_1000\"] = np.log(df_merged[\"10:00\"] / df_merged[\"09:31\"])\n",
    "    df_merged[\"change_0930_1020\"] = np.log(df_merged[\"10:20\"] / df_merged[\"09:31\"])\n",
    "    df_merged[\"change_0930_1030\"] = np.log(df_merged[\"10:30\"] / df_merged[\"09:31\"])\n",
    "    \n",
    "    \n",
    "for date in d.keys():\n",
    "    calc_gap(d[date])"
   ]
  },
  {
   "cell_type": "code",
   "execution_count": null,
   "metadata": {},
   "outputs": [],
   "source": [
    "df = pd.concat(d)\n"
   ]
  },
  {
   "cell_type": "code",
   "execution_count": null,
   "metadata": {},
   "outputs": [],
   "source": [
    "df.columns"
   ]
  },
  {
   "cell_type": "code",
   "execution_count": null,
   "metadata": {},
   "outputs": [],
   "source": [
    "df[(df[\"gap_from_day_before_yesterday\"] > 0.05)\n",
    "  & (df['ma3_value_change'] > 0)].plot.scatter(x = 'gap_from_day_before_yesterday', y ='change_0930_1020', c = \"ma3_value_change\")"
   ]
  },
  {
   "cell_type": "code",
   "execution_count": null,
   "metadata": {},
   "outputs": [],
   "source": [
    "df[(df[\"gap_from_day_before_yesterday\"] > 0.05)][[u'change_0930_0940','change_0930_0950', 'change_0930_1000',\n",
    "    'change_0930_1010', u'change_0930_1020', 'change_0930_1030']].describe().loc[\"mean\"].plot(kind='bar')"
   ]
  },
  {
   "cell_type": "code",
   "execution_count": null,
   "metadata": {},
   "outputs": [],
   "source": [
    "df[(df[\"gap_from_day_before_yesterday\"] > 0.05) & (df['ma3_value_change'] < 0)].plot(\n",
    "    kind = 'scatter', x = 'gap_from_day_before_yesterday', y ='change_0930_1010', c = 'sector')"
   ]
  },
  {
   "cell_type": "code",
   "execution_count": null,
   "metadata": {},
   "outputs": [],
   "source": [
    "## Quantopian Research \n",
    "\n",
    "from quantopian.pipeline.data.builtin import USEquityPricing  \n",
    "import pandas as pd  \n",
    "from quantopian.pipeline import CustomFactor, Pipeline  \n",
    "from quantopian.research import run_pipeline  \n",
    "from quantopian.pipeline.filters import StaticSids\n",
    "\n",
    "# SPYで検証\n",
    "security = symbols(8554)  \n",
    "\n",
    "def make_pipeline():\n",
    "    # USEquityPricing の終値と始値の最新を取得してPipelineに流す\n",
    "    latest_close = USEquityPricing.close.latest  \n",
    "    latest_open = USEquityPricing.open.latest  \n",
    "    return Pipeline(  \n",
    "        columns = { 'Pipeline_close':latest_close,\n",
    "                  'Pipeline_open':latest_open, },  \n",
    "        screen = StaticSids([security])\n",
    "    )\n",
    "\n",
    "result = run_pipeline(make_pipeline(), '2017-11-30', '2017-12-13')\n",
    "# multiindex を single index にする。\n",
    "result = result.reset_index().set_index('level_0')  \n",
    "\n",
    "# get_pricing を使って同期間のデータを取得\n",
    "df=get_pricing(security, start_date='2017-11-30', end_date='2017-12-13',\n",
    "            symbol_reference_date=None, frequency='daily', handle_missing='raise')\n",
    "df = df.rename(columns = {\"open_price\": \"get_pricing_open\", \"close_price\": \"get_pricing_close\", })\n",
    "\n",
    "# concatして比べる\n",
    "pd.concat([result[\"Pipeline_open\"], df[\"get_pricing_open\"], result[\"Pipeline_close\"], df[\"get_pricing_close\"], ], axis=1)\n",
    "\n"
   ]
  }
 ],
 "metadata": {
  "kernelspec": {
   "display_name": "Python 2",
   "language": "python",
   "name": "python2"
  },
  "language_info": {
   "codemirror_mode": {
    "name": "ipython",
    "version": 2
   },
   "file_extension": ".py",
   "mimetype": "text/x-python",
   "name": "python",
   "nbconvert_exporter": "python",
   "pygments_lexer": "ipython2",
   "version": "2.7.12"
  }
 },
 "nbformat": 4,
 "nbformat_minor": 2
}
