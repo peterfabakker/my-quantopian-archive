{
 "cells": [
  {
   "cell_type": "code",
   "execution_count": null,
   "metadata": {},
   "outputs": [],
   "source": [
    "from quantopian.research import run_pipeline\n",
    "from quantopian.pipeline import Pipeline,CustomFilter\n",
    "from quantopian.pipeline.factors import CustomFactor\n",
    "\n",
    "from quantopian.pipeline.experimental import QTradableStocksUS\n",
    "from quantopian.pipeline.data.builtin import USEquityPricing\n",
    "\n",
    "import pandas as pd\n",
    "import numpy as np \n",
    "import matplotlib.pyplot as plt\n",
    "\n",
    "class ValueDayBeforeYesterday(CustomFactor):\n",
    "    window_length = 2\n",
    "    def compute(self, today, assets, out, values):\n",
    "        out[:] = values[0]\n",
    "        \n",
    "        \n",
    "def make_pipeline():\n",
    "    pipe = Pipeline()\n",
    "    base_universe = QTradableStocksUS()\n",
    "    pipe.add(USEquityPricing.close.latest, 'close')\n",
    "    pipe.add(ValueDayBeforeYesterday(inputs = [USEquityPricing.close]), 'prev_close')\n",
    "    pipe.add(ValueDayBeforeYesterday(inputs = [USEquityPricing.high]), 'prev_high')\n",
    "    pipe.add(USEquityPricing.open.latest, 'open')\n",
    "    \n",
    "    \n",
    "    pipe.set_screen(base_universe)\n",
    "    return pipe\n",
    "\n"
   ]
  },
  {
   "cell_type": "code",
   "execution_count": null,
   "metadata": {},
   "outputs": [],
   "source": [
    "start_date='2013-1-1'\n",
    "end_date='2018-1-31'\n",
    "pipeline_results = run_pipeline(make_pipeline(), start_date=start_date, end_date=end_date)"
   ]
  },
  {
   "cell_type": "code",
   "execution_count": null,
   "metadata": {},
   "outputs": [],
   "source": [
    "## ValueDayBeforeYesterdayが正しいかどうか確認\n",
    "## closeとprev_closeを見比べる\n",
    "idx = pd.IndexSlice\n",
    "pipeline_results.loc[idx[:,[symbols(\"AAPL\")]],:].head()\n"
   ]
  },
  {
   "cell_type": "code",
   "execution_count": null,
   "metadata": {},
   "outputs": [],
   "source": [
    "df = pipeline_results.copy()"
   ]
  },
  {
   "cell_type": "code",
   "execution_count": null,
   "metadata": {},
   "outputs": [],
   "source": [
    "df[\"Change PrevHigh to Open\"] = df[\"open\"]/df[\"prev_high\"]-1\n",
    "df[\"Change PrevClose to Open\"] = df[\"open\"]/df[\"prev_close\"]-1\n",
    "\n",
    "thread = 0.05\n",
    "df[\"GU from PrevHigh\"] = df[\"Change PrevHigh to Open\"] > thread\n",
    "df[\"GU from PrevClose\"] = df[\"Change PrevClose to Open\"] > thread\n"
   ]
  },
  {
   "cell_type": "code",
   "execution_count": null,
   "metadata": {},
   "outputs": [],
   "source": [
    "count_high = df[\"GU from PrevHigh\"][df[\"GU from PrevHigh\"]].groupby(level=0).count()\n",
    "count_close = df[\"GU from PrevClose\"][df[\"GU from PrevClose\"]].groupby(level=0).count()\n",
    "spy = get_pricing(\"spy\", start_date=count_high.index[0],end_date=count_high.index[-1],\n",
    "                  fields=\"price\",)\n",
    "\n",
    "df_count = pd.concat([count_high, count_close, spy], axis=1)"
   ]
  },
  {
   "cell_type": "code",
   "execution_count": null,
   "metadata": {},
   "outputs": [],
   "source": [
    "df_count[\"spy_return\"] = df_count[symbols(\"spy\")].pct_change()"
   ]
  },
  {
   "cell_type": "code",
   "execution_count": null,
   "metadata": {},
   "outputs": [],
   "source": [
    "df_count.plot(kind=\"scatter\", x = \"GU from PrevHigh\", y = \"GU from PrevClose\")"
   ]
  },
  {
   "cell_type": "code",
   "execution_count": null,
   "metadata": {},
   "outputs": [],
   "source": [
    "df_count[\"2013\"].drop([\"spy_return\"], axis=1).plot(secondary_y=symbols(\"SPY\"))"
   ]
  },
  {
   "cell_type": "code",
   "execution_count": null,
   "metadata": {},
   "outputs": [],
   "source": [
    "dates = df[df[\"GU from PrevHigh\"]].index.get_level_values(0).unique()\n"
   ]
  },
  {
   "cell_type": "code",
   "execution_count": null,
   "metadata": {},
   "outputs": [],
   "source": [
    "df[df[\"GU from PrevHigh\"]].ix[dates[0]]"
   ]
  },
  {
   "cell_type": "code",
   "execution_count": null,
   "metadata": {},
   "outputs": [],
   "source": [
    "minutes_data = []\n",
    "merged_data = []\n",
    "dates = df[df[\"GU from PrevClose\"]].index.get_level_values(0).unique()\n",
    "\n",
    "for date in dates[:100]:\n",
    "    target = get_pricing(df[df[\"GU from PrevClose\"]].ix[date].index, start_date=date, end_date=date, \n",
    "                         frequency='minute', fields=\"price\")\n",
    "    mn = target.pct_change().cumsum().describe().loc[\"min\"]\n",
    "    mx = target.pct_change().cumsum().describe().loc[\"max\"]\n",
    "    gu_high = df[df[\"GU from PrevClose\"]].ix[date]\n",
    "    merged = pd.concat([mn, mx, gu_high], axis=1)\n",
    "    minutes_data.append(target)\n",
    "    merged_data.append(merged)\n",
    "\n"
   ]
  },
  {
   "cell_type": "code",
   "execution_count": null,
   "metadata": {},
   "outputs": [],
   "source": [
    "plt.scatter( x = pd.concat(merged_data)[\"min\"], y = pd.concat(merged_data)[\"Change PrevClose to Open\"])\n",
    "plt.scatter( x = pd.concat(merged_data)[\"max\"], y = pd.concat(merged_data)[\"Change PrevClose to Open\"], c='red')"
   ]
  },
  {
   "cell_type": "code",
   "execution_count": null,
   "metadata": {},
   "outputs": [],
   "source": []
  }
 ],
 "metadata": {
  "kernelspec": {
   "display_name": "Python 2",
   "language": "python",
   "name": "python2"
  },
  "language_info": {
   "codemirror_mode": {
    "name": "ipython",
    "version": 2
   },
   "file_extension": ".py",
   "mimetype": "text/x-python",
   "name": "python",
   "nbconvert_exporter": "python",
   "pygments_lexer": "ipython2",
   "version": "2.7.12"
  }
 },
 "nbformat": 4,
 "nbformat_minor": 2
}
