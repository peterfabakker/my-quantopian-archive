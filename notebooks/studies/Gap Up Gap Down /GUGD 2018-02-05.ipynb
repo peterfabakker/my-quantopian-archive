{
 "cells": [
  {
   "cell_type": "markdown",
   "metadata": {},
   "source": [
    "+ 暴落後GUの数が急激に増えているように見える\n",
    "1. 実際増えているのか？\n",
    "1. FD率はどのくらいか"
   ]
  },
  {
   "cell_type": "code",
   "execution_count": null,
   "metadata": {},
   "outputs": [],
   "source": [
    "from quantopian.research import run_pipeline\n",
    "from quantopian.pipeline import Pipeline,CustomFilter\n",
    "from quantopian.pipeline.factors import CustomFactor\n",
    "\n",
    "from quantopian.pipeline.experimental import QTradableStocksUS\n",
    "from quantopian.pipeline.data.builtin import USEquityPricing\n",
    "\n",
    "import pandas as pd\n",
    "import numpy as np \n",
    "import matplotlib.pyplot as plt\n",
    "\n",
    "class ValueDayBeforeYesterday(CustomFactor):\n",
    "    window_length = 2\n",
    "    def compute(self, today, assets, out, values):\n",
    "        out[:] = values[0]\n",
    "\n",
    "class Gap(CustomFactor): \n",
    "    window_length = 2\n",
    "    def compute(self, today, assets, out, values1, values2):\n",
    "        out[:] = values2[-1] / values1[0]-1\n",
    "        \n",
    "def make_pipeline():\n",
    "    pipe = Pipeline()\n",
    "    base_universe = QTradableStocksUS()\n",
    "    \n",
    "    prev_close = ValueDayBeforeYesterday(inputs = [USEquityPricing.close])\n",
    "    prev_high = ValueDayBeforeYesterday(inputs = [USEquityPricing.high])\n",
    "    pipe.add(USEquityPricing.close.latest, 'close')\n",
    "    pipe.add(prev_close, 'prev_close')\n",
    "    pipe.add(prev_high, 'prev_high')\n",
    "    pipe.add(USEquityPricing.open.latest, 'open')\n",
    "    gap_up = Gap(inputs = [USEquityPricing.open, USEquityPricing.close])\n",
    "    gapup_over5p = gap_up > 0.05\n",
    "    pipe.add(gap_up, \"gap_up\")\n",
    "    pipe.add(gapup_over5p, \"gapup_over5p\")\n",
    "    \n",
    "    pipe.set_screen(base_universe)\n",
    "    return pipe\n",
    "\n"
   ]
  },
  {
   "cell_type": "code",
   "execution_count": null,
   "metadata": {},
   "outputs": [],
   "source": [
    "start_date='2013-1-1'\n",
    "end_date='2018-1-31'\n",
    "pipeline_results = run_pipeline(make_pipeline(), start_date=start_date, end_date=end_date)\n",
    "spy = get_pricing(\"spy\", start_date=start_date, end_date=end_date,fields=\"price\",frequency='daily')"
   ]
  },
  {
   "cell_type": "code",
   "execution_count": null,
   "metadata": {},
   "outputs": [],
   "source": [
    "cnt = pipeline_results[pipeline_results[\"gapup_over5p\"]].groupby(level=0).count()[\"gapup_over5p\"]\n",
    "df = pd.concat([spy, cnt], axis=1)\n",
    "df[\"spy return\"] = df[symbols(\"spy\")].pct_change()"
   ]
  },
  {
   "cell_type": "code",
   "execution_count": null,
   "metadata": {},
   "outputs": [],
   "source": [
    "\n",
    "df.plot(y =\"gapup_over5p\", x=\"spy return\", kind='scatter')"
   ]
  },
  {
   "cell_type": "code",
   "execution_count": null,
   "metadata": {},
   "outputs": [],
   "source": [
    "pd.concat([spy, cnt], axis=1).plot(secondary_y=\"gapup_over5p\")"
   ]
  },
  {
   "cell_type": "code",
   "execution_count": null,
   "metadata": {},
   "outputs": [],
   "source": []
  },
  {
   "cell_type": "code",
   "execution_count": null,
   "metadata": {},
   "outputs": [],
   "source": [
    "df[\"2014/10/1\":\"2014/12/31\"].plot(secondary_y=\"gapup_over5p\")"
   ]
  },
  {
   "cell_type": "code",
   "execution_count": null,
   "metadata": {},
   "outputs": [],
   "source": [
    "plt.scatter(x = df[\"spy return\"].shift(1), y =df[\"gapup_over5p\"] )"
   ]
  },
  {
   "cell_type": "code",
   "execution_count": null,
   "metadata": {},
   "outputs": [],
   "source": []
  },
  {
   "cell_type": "markdown",
   "metadata": {},
   "source": [
    "### ↑前日のSPYのリターンが大きい方が次の日GAPUP銘柄が増える？"
   ]
  },
  {
   "cell_type": "code",
   "execution_count": null,
   "metadata": {},
   "outputs": [],
   "source": [
    "df[\"prev spy return\"] = df[\"spy return\"].shift(1)"
   ]
  },
  {
   "cell_type": "code",
   "execution_count": null,
   "metadata": {},
   "outputs": [],
   "source": [
    "def get_gapup_filldown(pipeline_results, dates):\n",
    "    \"\"\"\n",
    "    pipeline_resultsからdates のデータだけ抜き出し，\n",
    "    さらに，gapup > 5% した銘柄だけを取得\n",
    "    その銘柄の分足データをGetし，\n",
    "    09：01とその後を比較．\n",
    "    全データをDataFrame化して，転置し，コラムにt分，indexに銘柄名が来るようにする\n",
    "    \"\"\"\n",
    "    df_targets = pipeline_results.ix[dates]\n",
    "    l = list()\n",
    "    for date in dates: \n",
    "        tickers = df_targets[df_targets[\"gapup_over5p\"]].ix[date].index \n",
    "        x = get_pricing(tickers, start_date=date, end_date=date, fields='price', frequency='minute')\n",
    "        y = x / x.iloc[0] - 1\n",
    "        l.append(y.reset_index().drop(\"index\", axis=1))\n",
    "       \n",
    "    dfT = pd.concat(l, axis=1).T \n",
    "    return dfT \n"
   ]
  },
  {
   "cell_type": "code",
   "execution_count": null,
   "metadata": {},
   "outputs": [],
   "source": [
    "dates = df[df[\"prev spy return\"]<-0.02].index\n",
    "dfT = get_gapup_filldown(pipeline_results, dates)\n",
    "dfT.plot.scatter(x=10,y=40)"
   ]
  },
  {
   "cell_type": "code",
   "execution_count": null,
   "metadata": {},
   "outputs": [],
   "source": [
    "## \n",
    "dates = df[df[\"prev spy return\"]>0.02].index\n",
    "dfT = get_gapup_filldown(pipeline_results, dates)\n",
    "dfT.plot.scatter(x=10,y=40)\n"
   ]
  },
  {
   "cell_type": "code",
   "execution_count": null,
   "metadata": {},
   "outputs": [],
   "source": [
    "dates = df[\"gapup_over5p\"].sort_values(ascending=False)[:100].index\n",
    "dfT = get_gapup_filldown(pipeline_results, dates)\n",
    "dfT.plot.scatter(x=30,y=70)"
   ]
  },
  {
   "cell_type": "markdown",
   "metadata": {
    "collapsed": true
   },
   "source": [
    "+ ⇑から判断するに\n",
    "+ GAPUP５％以上が160以上あった場合（：100はだいたい160以上だったので）\n",
    "+ Open３０分で，６％以上上がった銘柄と５％下がった銘柄は，トレンド通りポジションを持って\n",
    "+ Open７０分後にクローズ\n",
    "\n",
    "+ 結果．勝てない.アルゴリズムはこちら https://www.quantopian.com/algorithms/5a780935c25e40000fbf4b9b\n"
   ]
  },
  {
   "cell_type": "code",
   "execution_count": null,
   "metadata": {},
   "outputs": [],
   "source": []
  },
  {
   "cell_type": "code",
   "execution_count": null,
   "metadata": {},
   "outputs": [],
   "source": []
  },
  {
   "cell_type": "code",
   "execution_count": null,
   "metadata": {},
   "outputs": [],
   "source": []
  },
  {
   "cell_type": "code",
   "execution_count": null,
   "metadata": {},
   "outputs": [],
   "source": []
  },
  {
   "cell_type": "code",
   "execution_count": null,
   "metadata": {},
   "outputs": [],
   "source": []
  },
  {
   "cell_type": "code",
   "execution_count": null,
   "metadata": {},
   "outputs": [],
   "source": []
  },
  {
   "cell_type": "code",
   "execution_count": null,
   "metadata": {},
   "outputs": [],
   "source": []
  },
  {
   "cell_type": "code",
   "execution_count": null,
   "metadata": {},
   "outputs": [],
   "source": []
  },
  {
   "cell_type": "code",
   "execution_count": null,
   "metadata": {},
   "outputs": [],
   "source": []
  }
 ],
 "metadata": {
  "kernelspec": {
   "display_name": "Python 2",
   "language": "python",
   "name": "python2"
  },
  "language_info": {
   "codemirror_mode": {
    "name": "ipython",
    "version": 2
   },
   "file_extension": ".py",
   "mimetype": "text/x-python",
   "name": "python",
   "nbconvert_exporter": "python",
   "pygments_lexer": "ipython2",
   "version": "2.7.12"
  }
 },
 "nbformat": 4,
 "nbformat_minor": 2
}
