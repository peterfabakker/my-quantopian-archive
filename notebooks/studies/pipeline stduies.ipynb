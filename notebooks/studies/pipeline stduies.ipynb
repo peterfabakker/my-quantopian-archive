{
 "cells": [
  {
   "cell_type": "code",
   "execution_count": null,
   "metadata": {},
   "outputs": [],
   "source": [
    "from quantopian.pipeline import Pipeline,CustomFilter\n",
    "from quantopian.research import run_pipeline\n",
    "\n",
    "from quantopian.pipeline.data.builtin import USEquityPricing\n",
    "from quantopian.pipeline.factors import SimpleMovingAverage, AverageDollarVolume\n",
    "from quantopian.research import run_pipeline\n",
    "from quantopian.pipeline.filters import Q500US\n",
    "\n",
    "from quantopian.pipeline.filters import StaticAssets\n",
    "\n",
    "import pandas as pd"
   ]
  },
  {
   "cell_type": "code",
   "execution_count": null,
   "metadata": {},
   "outputs": [],
   "source": [
    "def make_pipeline():\n",
    "    pipe = Pipeline()\n",
    "    return pipe \n",
    "\n"
   ]
  },
  {
   "cell_type": "code",
   "execution_count": null,
   "metadata": {},
   "outputs": [],
   "source": [
    "from quantopian.pipeline import Pipeline, CustomFactor\n",
    "from quantopian.research import run_pipeline\n",
    "\n",
    "from quantopian.pipeline.data.builtin import USEquityPricing\n",
    "from quantopian.pipeline.filters import StaticAssets\n",
    "\n",
    "import numpy \n",
    "\n",
    "class StdDev(CustomFactor):\n",
    "    def compute(self, today, asset_ids, out, values): \n",
    "        out[:] = numpy.nanstd(values, axis=0)\n",
    "        \n",
    "\n",
    "def make_pipeline():\n",
    "    close = USEquityPricing.close\n",
    "    sma10 = SimpleMovingAverage(inputs=[USEquityPricing.close], window_length=10)\n",
    "    stdev10 = StdDev(inputs=[close], window_length=10)\n",
    "    my_symbols = StaticAssets(symbols(['STZ', 'MON', 'WBA', 'DAL', 'JPM', 'WFC', 'SPY']))\n",
    "\n",
    "    \n",
    "    pipe = Pipeline(columns = {'sma10': sma10,\n",
    "                               'close': close.latest ,\n",
    "                               'stdev10': stdev10\n",
    "                              },\n",
    "                   screen=my_symbols)\n",
    "    return pipe \n",
    "\n",
    "results = run_pipeline(make_pipeline(), start_date='2017-1-5', end_date='2017-1-17')\n"
   ]
  },
  {
   "cell_type": "code",
   "execution_count": null,
   "metadata": {},
   "outputs": [],
   "source": [
    "df = local_csv(\"nasdaq_earning_calendar.csv\", date_column=\":Time\", use_date_column_as_index=True)\n",
    "results.reset_index"
   ]
  },
  {
   "cell_type": "code",
   "execution_count": null,
   "metadata": {},
   "outputs": [],
   "source": [
    "results['Symbol'] = [s.symbol for s in results.index.get_level_values(1)]\n",
    "results['ExDate'] = pd.Series()\n",
    "dates = results.index.get_level_values(0).unique()\n",
    "\n",
    "for date in dates:\n",
    "    print date\n",
    "    s_earning = df.ix[date]['Symbol']\n",
    "    \n",
    "    \n",
    "    if type(s_earning) ==  str:#pd.core.series.Series:\n",
    "        s_earning = [s_earning]\n",
    "        \n",
    "    \n",
    "    for s in s_earning:\n",
    "        print s, results.ix[date]['Symbol'].tolist()\n",
    "        if s in results.ix[date]['Symbol'].tolist():\n",
    "            \n",
    "            results.iloc[date]['ExDate'] = True\n",
    "results"
   ]
  },
  {
   "cell_type": "code",
   "execution_count": null,
   "metadata": {},
   "outputs": [],
   "source": [
    "s_earning = df.ix[dates[1]]['Symbol']\n",
    "if type(s_earning) ==  str:#pd.core.series.Series:\n",
    "    s_earning = [s_earning]\n",
    "\n",
    "print(s_earning)\n",
    "for s in s_earning:\n",
    "    if s in results.ix[dates[1]]['Symbol']:\n",
    "        results.iloc[dates[1]]['ExDate'] = True\n",
    "\n",
    "    \n",
    "results    \n",
    "#df[df[\":sp500?\"]].sort_index().ix[\"2017-1-1\":]\n"
   ]
  },
  {
   "cell_type": "code",
   "execution_count": null,
   "metadata": {},
   "outputs": [],
   "source": [
    "import numpy as np\n",
    "class SidInList(CustomFilter):\n",
    "    \"\"\"\n",
    "    Filter returns True for any SID included in parameter tuple passed at creation.\n",
    "    Usage: my_filter = SidInList(sid_list=(23911, 46631))\n",
    "    \"\"\"    \n",
    "    inputs = []\n",
    "    window_length = 1\n",
    "    params = ('sid_list',)\n",
    "\n",
    "    def compute(self, today, assets, out, sid_list):\n",
    "        out[:] = np.in1d(assets, sid_list)\n",
    "\n",
    "def make_pipeline():\n",
    "    include_filter = SidInList(sid_list = (24, 8554)) # SID for APPL and SPY\n",
    "    pipe = Pipeline(\n",
    "        screen = include_filter\n",
    "    )\n",
    "    return pipe \n",
    "        \n",
    "# include_filter = SidInList(sid_list = (24, 8554)) # SID for APPL and SPY\n",
    "\n",
    "# pipe = Pipeline()\n",
    "# pipe.set_screen(include_filter)\n",
    "\n",
    "results = run_pipeline(pipe, '2016-07-01', '2016-07-01')\n",
    "    \n",
    "results\n"
   ]
  },
  {
   "cell_type": "code",
   "execution_count": null,
   "metadata": {},
   "outputs": [],
   "source": []
  },
  {
   "cell_type": "code",
   "execution_count": null,
   "metadata": {},
   "outputs": [],
   "source": []
  }
 ],
 "metadata": {
  "kernelspec": {
   "display_name": "Python 2",
   "language": "python",
   "name": "python2"
  },
  "language_info": {
   "codemirror_mode": {
    "name": "ipython",
    "version": 2
   },
   "file_extension": ".py",
   "mimetype": "text/x-python",
   "name": "python",
   "nbconvert_exporter": "python",
   "pygments_lexer": "ipython2",
   "version": "2.7.12"
  }
 },
 "nbformat": 4,
 "nbformat_minor": 2
}
