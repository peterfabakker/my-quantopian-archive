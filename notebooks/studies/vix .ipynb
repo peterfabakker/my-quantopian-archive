{
 "cells": [
  {
   "cell_type": "code",
   "execution_count": null,
   "metadata": {},
   "outputs": [],
   "source": [
    "# vix 系のデータにアクセスする方法\n",
    "# 1. Research　（大きいデータを扱うときやプロットをガンガンやりたい場合に便利）\n",
    "# 2. Research と Backtest (pipeline経由)　（カスタムファクターとか使ってバックテストするのに便利）\n",
    "\n"
   ]
  },
  {
   "cell_type": "code",
   "execution_count": null,
   "metadata": {},
   "outputs": [],
   "source": [
    "# 2 から\n",
    "# Algorithmでサードパーティのデータを使うには pipeline を使うしかない\n",
    "from quantopian.pipeline.data.quandl import yahoo_index_vix\n",
    "# を宣言して， initialize で，pipelineに add する．"
   ]
  },
  {
   "cell_type": "code",
   "execution_count": null,
   "metadata": {},
   "outputs": [],
   "source": [
    "from quantopian.pipeline import Pipeline \n",
    "from quantopian.research import run_pipeline\n",
    "from quantopian.pipeline.factors import AverageDollarVolume, CustomFactor\n",
    "from quantopian.pipeline.data.quandl import yahoo_index_vix\n",
    "from quantopian.pipeline.data.quandl import cboe_vix"
   ]
  },
  {
   "cell_type": "code",
   "execution_count": null,
   "metadata": {},
   "outputs": [],
   "source": [
    "for clm in cboe_vix.columns:\n",
    "    print clm, dir(clm)"
   ]
  },
  {
   "cell_type": "code",
   "execution_count": null,
   "metadata": {},
   "outputs": [],
   "source": [
    "import pandas as pd\n",
    "pipe = Pipeline()\n",
    "class VIX(CustomFactor):  \n",
    "    inputs = [yahoo_index_vix.adjusted_close, yahoo_index_vix.volume]  \n",
    "    window_length = 1 \n",
    "    \n",
    "    def compute(self, today, assets, out, adj_close, volume):  \n",
    "        out[:].adj_close = adj_close\n",
    "        out[:].volume = volume\n",
    "        \n",
    "pipe.add(VIX(), 'vix')"
   ]
  },
  {
   "cell_type": "code",
   "execution_count": null,
   "metadata": {},
   "outputs": [],
   "source": [
    "from quantopian.interactive.data.quandl import cboe_vix \n",
    "from quantopian.interactive.data.quandl import cboe_vxv\n",
    "# import data operations \n",
    "# odo を使うと色々なデータを簡単に好きなフォーマットに変えてくれる\n",
    "from odo import odo\n",
    "# import other libraries we will use\n",
    "import pandas as pd\n",
    "\n",
    "# odo を 使ってquandl データcboe_vix をpandas dataframe に変更\n",
    "vix = odo(cboe_vix, pd.DataFrame)\n",
    "vxx  = odo(cboe_vxv, pd.DataFrame)\n",
    "cboe_vxv.close\n"
   ]
  },
  {
   "cell_type": "code",
   "execution_count": null,
   "metadata": {},
   "outputs": [],
   "source": [
    "import pandas as pd \n",
    "vixUrl = 'http://www.cboe.com/publish/scheduledtask/mktdata/datahouse/vixcurrent.csv'\n",
    "vxstUrl = 'http://www.cboe.com/publish/scheduledtask/mktdata/datahouse/vxstcurrent.csv'\n",
    "vxvUrl = 'http://www.cboe.com/publish/scheduledtask/mktdata/datahouse/vxvdailyprices.csv'\n",
    "vxmtUrl = 'http://www.cboe.com/publish/scheduledtask/mktdata/datahouse/vxmtdailyprices.csv'\n",
    "vvixUrl = 'http://www.cboe.com/publish/scheduledtask/mktdata/datahouse/vvixtimeseries.csv'\n",
    "\n",
    "vix=pd.read_csv(vixUrl,  skiprows=[0], index_col = \"Date\", parse_dates=True)\n"
   ]
  }
 ],
 "metadata": {
  "kernelspec": {
   "display_name": "Python 2",
   "language": "python",
   "name": "python2"
  },
  "language_info": {
   "codemirror_mode": {
    "name": "ipython",
    "version": 2
   },
   "file_extension": ".py",
   "mimetype": "text/x-python",
   "name": "python",
   "nbconvert_exporter": "python",
   "pygments_lexer": "ipython2",
   "version": "2.7.12"
  }
 },
 "nbformat": 4,
 "nbformat_minor": 2
}
