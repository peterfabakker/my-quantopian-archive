{
 "cells": [
  {
   "cell_type": "code",
   "execution_count": null,
   "metadata": {},
   "outputs": [],
   "source": [
    "vxst = local_csv(\"vxstcurrent.csv\", skiprows=[0,1,2],date_column=\"Date\", use_date_column_as_index=True,  )#"
   ]
  },
  {
   "cell_type": "code",
   "execution_count": null,
   "metadata": {},
   "outputs": [],
   "source": [
    "vxx = get_pricing(\"vxx\", start_date=vxst.index[0], end_date=vxst.index[-1], fields=\"price\")\n",
    "vxst[\"vxx\"] = vxx\n"
   ]
  },
  {
   "cell_type": "code",
   "execution_count": null,
   "metadata": {},
   "outputs": [],
   "source": [
    "vxst[[\"Close\", \"vxx\"]].loc[\"2017-1-1\":].plot(secondary_y = \"vxx\")"
   ]
  },
  {
   "cell_type": "code",
   "execution_count": null,
   "metadata": {},
   "outputs": [],
   "source": [
    "vxx[\"overnight\"] = vxx[\"open_price\"].shift(-1) / vxx[\"price\"]-1\n",
    "vxx[\"next daytime return\"] = (vxx[\"price\"] / vxx[\"open_price\"] - 1).shift(-1)"
   ]
  },
  {
   "cell_type": "code",
   "execution_count": null,
   "metadata": {},
   "outputs": [],
   "source": [
    "vxx.plot(x=\"vxst change\", y=\"next daytime return\", kind=\"scatter\", c =\"vxst\")"
   ]
  },
  {
   "cell_type": "code",
   "execution_count": null,
   "metadata": {},
   "outputs": [],
   "source": [
    "vxx[[\"price\", \"vxst\"]].loc[\"2017-1-1\":].plot(secondary_y=\"vxst\")"
   ]
  }
 ],
 "metadata": {
  "kernelspec": {
   "display_name": "Python 2",
   "language": "python",
   "name": "python2"
  },
  "language_info": {
   "codemirror_mode": {
    "name": "ipython",
    "version": 2
   },
   "file_extension": ".py",
   "mimetype": "text/x-python",
   "name": "python",
   "nbconvert_exporter": "python",
   "pygments_lexer": "ipython2",
   "version": "2.7.12"
  }
 },
 "nbformat": 4,
 "nbformat_minor": 2
}
