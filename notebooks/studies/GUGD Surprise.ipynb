{
 "cells": [
  {
   "cell_type": "code",
   "execution_count": null,
   "metadata": {},
   "outputs": [],
   "source": [
    "from quantopian.pipeline.data.builtin import USEquityPricing\n",
    "from quantopian.pipeline.factors import SimpleMovingAverage,RSI\n",
    "from quantopian.research import run_pipeline\n",
    "from quantopian.pipeline import Pipeline,CustomFilter\n",
    "from quantopian.pipeline.factors import CustomFactor,RSI\n",
    "from quantopian.pipeline.data import morningstar\n",
    "from zipline import TradingAlgorithm  \n",
    "from quantopian.pipeline.filters import Q1500US, Q500US\n",
    "from quantopian.pipeline.factors import AverageDollarVolume\n",
    "from quantopian.pipeline.classifiers.morningstar import Sector, SuperSector\n",
    "#\n",
    "#from quantopian.pipeline.data.alpha_vertex import precog_top_500 as precog\n",
    "#\n",
    "import numpy as np\n",
    "import talib \n",
    "import pandas as pd \n",
    "import matplotlib.pyplot as plt \n",
    "import matplotlib.cm as cm\n",
    "from datetime import timedelta, datetime\n",
    "\n",
    "# For use in your algorithms\n",
    "# Using the full dataset in your pipeline algo\n",
    "from quantopian.pipeline.data.eventvestor import EarningsCalendar\n",
    "\n",
    "# To use built-in Pipeline factors for this dataset\n",
    "from quantopian.pipeline.factors.eventvestor import (\n",
    "BusinessDaysUntilNextEarnings,\n",
    "BusinessDaysSincePreviousEarnings\n",
    ")\n",
    "   "
   ]
  },
  {
   "cell_type": "code",
   "execution_count": null,
   "metadata": {},
   "outputs": [],
   "source": [
    "def make_pipeline():\n",
    "    close = USEquityPricing.close\n",
    "    open_ = USEquityPricing.open\n",
    "    high = USEquityPricing.high\n",
    "    low = USEquityPricing.low\n",
    "    \n",
    "    pipe = Pipeline(\n",
    "        columns = { 'close': close.latest,}, \n",
    "        screen = Q1500US())\n",
    "    return pipe \n",
    "\n",
    "\n",
    "df_surprise = local_csv(\"surprise.csv\", symbol_column=\"Symbol\", date_column=':Time', use_date_column_as_index=True,timezone='UTC' )\n",
    "df_surprise = df_surprise.ix[:\"2017-7-1\"] # 後ろにバッファをもたせる\n",
    "df_surprise = df_surprise[df_surprise[\":%Suprise\"] != 0]\n",
    "df_surprise = df_surprise.dropna()\n",
    "dates = df_surprise.sort_index().index.unique()\n",
    "spy = get_pricing(\"SPY\", start_date=dates[0], end_date= dates[-1].to_datetime() + timedelta(days=10), frequency='daily', fields='price')\n",
    "spy = spy.pct_change()\n",
    "market_dates = spy.index\n",
    "pipeline_results = run_pipeline(make_pipeline(), start_date=dates[0], end_date=dates[-1].to_datetime() + timedelta(days=10))\n"
   ]
  },
  {
   "cell_type": "code",
   "execution_count": null,
   "metadata": {},
   "outputs": [],
   "source": [
    "df_surprise.sort_index().tail()"
   ]
  },
  {
   "cell_type": "code",
   "execution_count": null,
   "metadata": {},
   "outputs": [],
   "source": [
    "\n",
    "results = list()\n",
    "month = 0\n",
    "for i, d in enumerate(market_dates):\n",
    "    if d.strftime(\"%m\") != month:\n",
    "        print d.strftime(\"%Y-%m-%d\") \n",
    "        month = d.strftime(\"%m\")\n",
    "    if d in dates:\n",
    "        try:\n",
    "            ## US1500 に入っている銘柄だけ取得\n",
    "            syms = df_surprise.ix[d][\"Symbol\"].apply(lambda x: x in pipeline_results.ix[d].index)\n",
    "            surprise = df_surprise.ix[d][syms]\n",
    "            surprise = surprise[[\"Symbol\",\":%Suprise\"]].reset_index(drop=True).set_index(\"Symbol\")\n",
    "            data = get_pricing(surprise.index, start_date=d ,end_date=market_dates[i+5],fields=\"price\")\n",
    "            data = data.pct_change().sub(spy.ix[data.index], axis=0)\n",
    "            data = data.reset_index(drop=True).T\n",
    "\n",
    "            results.append(pd.concat([surprise, data], axis=1,))\n",
    "            \n",
    "        except:\n",
    "            print \"Error Occurs on %s\" % d.strftime(\"%Y-%m-%d\")\n",
    "            #print syms \n",
    "            \n",
    "\n",
    "df = pd.concat(results)\n",
    "df[0]=0\n",
    "df = df.dropna()\n",
    "\n"
   ]
  },
  {
   "cell_type": "code",
   "execution_count": null,
   "metadata": {},
   "outputs": [],
   "source": [
    "df.tail()"
   ]
  },
  {
   "cell_type": "code",
   "execution_count": null,
   "metadata": {},
   "outputs": [],
   "source": [
    "x = df[((df[1] > 0.2) | (df[1] < -0.2))] # & (df[\":%Suprise\"] < 0) \n",
    "#x = df.drop(\":%Suprise\", axis=1)\n",
    "x.drop(\":%Suprise\", axis=1).T.plot(legend=False)\n",
    "x.drop(\":%Suprise\", axis=1).T.cumsum().plot(legend=False)\n",
    "import matplotlib.cm as cm\n",
    "fig = plt.figure()\n",
    "im = plt.scatter(x[1], x[2],\n",
    " c=x[\":%Suprise\"],\n",
    " linewidths=0, alpha=1, \n",
    " cmap=cm.copper # ここでカラーマップを指定\n",
    " )\n",
    "fig.colorbar(im)\n",
    "\n",
    "#x.plot(kind='scatter', x=1, y=2)\n",
    "\n"
   ]
  },
  {
   "cell_type": "code",
   "execution_count": null,
   "metadata": {},
   "outputs": [],
   "source": [
    "x.sort_values(by=\":%Suprise\")"
   ]
  },
  {
   "cell_type": "code",
   "execution_count": null,
   "metadata": {},
   "outputs": [],
   "source": [
    "df[df[1] < -0.25].drop(\":%Suprise\", axis=1).T.plot(legend=False)\n",
    "len(df)"
   ]
  },
  {
   "cell_type": "markdown",
   "metadata": {},
   "source": [
    "#~~earnings_calendar使用~~ USEquityPricingでプライスを取るとアジャストされていないデータということがわかったので，これは使わない"
   ]
  },
  {
   "cell_type": "code",
   "execution_count": null,
   "metadata": {},
   "outputs": [],
   "source": [
    "\n",
    "# Import necessary Pipeline modules\n",
    "from quantopian.pipeline import Pipeline\n",
    "from quantopian.research import run_pipeline\n",
    "from quantopian.pipeline.factors import AverageDollarVolume\n",
    "from quantopian.pipeline.factors import CustomFactor\n",
    "from quantopian.pipeline.data.builtin import USEquityPricing\n",
    "from quantopian.pipeline.filters import Q1500US, Q500US\n",
    "\n",
    "# For use in your algorithms\n",
    "# Using the full dataset in your pipeline algo\n",
    "from quantopian.pipeline.data.eventvestor import EarningsCalendar\n",
    "\n",
    "# To use built-in Pipeline factors for this dataset\n",
    "from quantopian.pipeline.factors.eventvestor import (\n",
    "BusinessDaysUntilNextEarnings,\n",
    "BusinessDaysSincePreviousEarnings\n",
    ")\n",
    "   \n",
    "def make_pipeline():\n",
    "    close = BusinessDaysSincePreviousEarnings()\n",
    "    \n",
    "    pipe = Pipeline(\n",
    "        columns = { 'pe': pe, }, \n",
    "        screen = Q500US()\n",
    "                   )\n",
    "    return pipe \n",
    "\n",
    "results = run_pipeline(make_pipeline(), start_date='2007-01-01', end_date='2015-07-19')\n"
   ]
  },
  {
   "cell_type": "code",
   "execution_count": null,
   "metadata": {},
   "outputs": [],
   "source": [
    "df = results[results[\"pe\"] == 0]\n",
    "#dates = df.index.get_level_values(0).unique()\n",
    "spy = get_pricing(\"SPY\", start_date=dates[0], \n",
    "                  end_date= dates[-1].to_datetime() + timedelta(days=10), \n",
    "                  frequency='daily', fields='price')\n",
    "\n",
    "spy = spy.pct_change()\n",
    "dates = spy.index\n",
    "l = list()\n",
    "for i, date in enumerate( dates[:30]):\n",
    "    try:\n",
    "        syms = df.ix[date].index \n",
    "        data = get_pricing(\n",
    "            syms, start_date=date, end_date=dates[i+5], frequency='daily', fields='price')\n",
    "        data = data.pct_change().sub(spy.ix[data.index], axis=0)\n",
    "        data = data.reset_index(drop=True).T\n",
    "        l.append(data)\n",
    "            \n",
    "    except:\n",
    "        print date.strftime(\"%Y-%m-%d\")\n",
    "            \n",
    "        \n",
    "    \n",
    "    "
   ]
  },
  {
   "cell_type": "code",
   "execution_count": null,
   "metadata": {},
   "outputs": [],
   "source": [
    "x = pd.concat(l)\n",
    "x[0] = 0\n",
    "\n",
    "x[(x[1]<-0.02)].plot(kind='scatter', x=1, y = 2) #(x[1]>0.02) | \n",
    "x.plot(kind='scatter', x=1, y = 2)"
   ]
  },
  {
   "cell_type": "code",
   "execution_count": null,
   "metadata": {},
   "outputs": [],
   "source": [
    "x.describe()\n"
   ]
  },
  {
   "cell_type": "code",
   "execution_count": null,
   "metadata": {},
   "outputs": [],
   "source": [
    "x[['return','return2','return3','return4']].T.plot(legend=False)\n",
    "x.plot(kind='scatter', x='return', y='return2')"
   ]
  },
  {
   "cell_type": "code",
   "execution_count": null,
   "metadata": {},
   "outputs": [],
   "source": [
    "x = df.copy()\n",
    "all_dates = x.index.get_level_values(0).unique()\n",
    "\n",
    "spy = get_pricing(\"spy\", start_date=all_dates[0], end_date=all_dates[-1], frequency='daily', fields='close_price')\n",
    "spy = spy.pct_change()\n",
    "\n",
    "l = list()\n",
    "for date in x.index.get_level_values(0).unique():\n",
    "    try:\n",
    "        df = x.ix[date]\n",
    "        data = get_pricing(df.index.tolist(),\n",
    "                       start_date=date, \n",
    "                       end_date=all_dates[all_dates.get_loc(date) + 3],\n",
    "                       frequency = 'daily',\n",
    "                       fields='close_price')\n",
    "        change = data.pct_change()\n",
    "        change = change.subtract(spy[data.index], axis=0)\n",
    "        df[\"return2\"] = change.ix[1]\n",
    "        \n",
    "    except:\n",
    "        pass\n",
    "    l.append(df) #.reset_index(drop=True)\n",
    "    \n",
    "\n"
   ]
  },
  {
   "cell_type": "code",
   "execution_count": null,
   "metadata": {},
   "outputs": [],
   "source": [
    "df = results[results[\"pe\"] == 0]\n",
    "df"
   ]
  }
 ],
 "metadata": {
  "kernelspec": {
   "display_name": "Python 2",
   "language": "python",
   "name": "python2"
  },
  "language_info": {
   "codemirror_mode": {
    "name": "ipython",
    "version": 2
   },
   "file_extension": ".py",
   "mimetype": "text/x-python",
   "name": "python",
   "nbconvert_exporter": "python",
   "pygments_lexer": "ipython2",
   "version": "2.7.12"
  }
 },
 "nbformat": 4,
 "nbformat_minor": 2
}
