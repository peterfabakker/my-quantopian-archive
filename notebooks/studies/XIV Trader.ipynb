{
 "cells": [
  {
   "cell_type": "code",
   "execution_count": null,
   "metadata": {},
   "outputs": [],
   "source": [
    "import pandas as pd \n",
    "import numpy as np\n",
    "from quantopian.research.experimental import continuous_future, history\n"
   ]
  },
  {
   "cell_type": "markdown",
   "metadata": {},
   "source": [
    "## 下準備\n",
    "\n",
    "↓のコードをローカルで回して\n",
    "\n",
    "1. [local_csv  自分のcsvをuploadしてResearchでつかう方法](https://www.evernote.com/Home.action#b=177d468e-bf46-408c-8f29-97655b654be5&st=p&x=upload&n=d2da4976-e9bb-42b9-bbd6-d2eeaf04ad18&t=c764b10c-336b-4f13-935d-163fe561711c)\n",
    "にしたがって，データをQuantopianにUplaodする\n",
    "1. /home/chidori/vxx-overnight-temp-fix/data/cboe/VX/expiry_dates.csv もアップロード"
   ]
  },
  {
   "cell_type": "markdown",
   "metadata": {},
   "source": [
    "```\n",
    "import pandas as pd \n",
    "vixUrl = 'http://www.cboe.com/publish/scheduledtask/mktdata/datahouse/vixcurrent.csv'\n",
    "vxstUrl = 'http://www.cboe.com/publish/scheduledtask/mktdata/datahouse/vxstcurrent.csv'\n",
    "vxvUrl = 'http://www.cboe.com/publish/scheduledtask/mktdata/datahouse/vxvdailyprices.csv'\n",
    "vxmtUrl = 'http://www.cboe.com/publish/scheduledtask/mktdata/datahouse/vxmtdailyprices.csv'\n",
    "vvixUrl = 'http://www.cboe.com/publish/scheduledtask/mktdata/datahouse/vvixtimeseries.csv'\n",
    "\n",
    "vix=pd.read_csv(vixUrl,  skiprows=[0], index_col = \"Date\", parse_dates=True)\n",
    "vxst=pd.read_csv(vxstUrl,  skiprows=[0,1,2], index_col = \"Date\", parse_dates=True)\n",
    "vxmt=pd.read_csv(vxmtUrl,  skiprows=[0,1], index_col = \"Date\", parse_dates=True)\n",
    "vvix=pd.read_csv(vvixUrl,  skiprows=[0], index_col = \"Date\", parse_dates=True)\n",
    "\n",
    "vxv=pd.read_csv(vxvUrl,  skiprows=[0,1], parse_dates=True)\n",
    "vxv = vxv.set_index(\"Unnamed: 0\")\n",
    "vxv.index = pd.to_datetime(vxv.index)\n",
    "vxv.index.name = \"Date\"\n",
    "vix = vix.rename(columns={'VIX Open': 'Open',\n",
    "                    'VIX High': 'High',\n",
    "                    'VIX Low': 'Low',\n",
    "                    'VIX Close': 'Close',\n",
    "                   })\n",
    "\n",
    "vxv.to_csv(\"vxv.csv\")\n",
    "vxst.to_csv(\"vxst.csv\")\n",
    "vxmt.to_csv(\"vxmt.csv\")\n",
    "vvix.to_csv(\"vvix.csv\")\n",
    "vix.to_csv(\"vix.csv\")\n",
    "```"
   ]
  },
  {
   "cell_type": "markdown",
   "metadata": {},
   "source": [
    "## 注意\n",
    "\n",
    "VXSTのファイルに，”*4/20/2011”みたいな，Dateに不要な文字列が入っていたりするので，入っていたら↓のLocal Csvの読み込みで失敗するので，ファイル自体を確認して下さい"
   ]
  },
  {
   "cell_type": "code",
   "execution_count": null,
   "metadata": {},
   "outputs": [],
   "source": [
    "vix = local_csv(\"vix.csv\", date_column=\"Date\", use_date_column_as_index=True)\n",
    "vxv = local_csv(\"vxv.csv\", date_column=\"Date\", use_date_column_as_index=True)\n",
    "vxmt = local_csv(\"vxmt.csv\", date_column=\"Date\", use_date_column_as_index=True)\n",
    "vvix = local_csv(\"vvix.csv\", date_column=\"Date\", use_date_column_as_index=True)\n",
    "vxst = local_csv(\"vxst.csv\", date_column=\"Date\", use_date_column_as_index=True)\n",
    "expiry_dates = local_csv(\"expiry_dates.csv\")\n",
    "expiry_dates = pd.to_datetime(expiry_dates[\"vx1\"])\n"
   ]
  },
  {
   "cell_type": "code",
   "execution_count": null,
   "metadata": {},
   "outputs": [],
   "source": [
    "def  rename_columns(df, prefix):\n",
    "    new = [(c, prefix + \"_\" + c.upper()  ) for c in df.columns]\n",
    "    df = df.rename(columns=dict(new))\n",
    "    return df \n",
    "\n",
    "vix = rename_columns(vix, \"VIX\")\n",
    "vxv = rename_columns(vxv, \"VXV\")\n",
    "vxmt = rename_columns(vxmt, \"VXMT\")\n",
    "# vvix = rename_columns(vvix, \"VVIX\")\n",
    "vxst = rename_columns(vxst, \"VXST\")\n"
   ]
  },
  {
   "cell_type": "code",
   "execution_count": null,
   "metadata": {},
   "outputs": [],
   "source": [
    "df = pd.concat([vix, vxv, vxmt, vvix, vxst], axis=1).dropna()\n",
    "start = df.index[0]\n",
    "stop =  df.index[-1]\n",
    "xiv = get_pricing(\"XIV\", start, stop)\n",
    "vxx = get_pricing(\"VXX\", start, stop)\n",
    "spy = get_pricing(\"spy\", start, stop)\n",
    "df[\"XIV_CLOSE\"] = xiv[\"price\"]\n",
    "df[\"VXX_CLOSE\"] = vxx[\"price\"]\n",
    "df[\"SPY_CLOSE\"] = spy[\"price\"]\n",
    "\n",
    "vx1 = continuous_future('VX')\n",
    "vx2 = continuous_future('VX', offset=1)\n",
    "vx1_pricing = history(vx1, fields='price', frequency='daily', start_date=start, end_date=stop)\n",
    "vx2_pricing = history(vx2, fields='price', frequency='daily', start_date=start, end_date=stop)\n",
    "vx1_pricing.name = \"VX1\"\n",
    "vx2_pricing.name = \"VX2\"\n",
    "\n",
    "df = df[[\"SPY_CLOSE\",\"VIX_CLOSE\", \"VVIX\",\"VXV_CLOSE\", \"VXMT_CLOSE\", \"VXST_CLOSE\", \"VXX_CLOSE\", \"XIV_CLOSE\"]]\n",
    "df = pd.concat([df, vx1_pricing, vx2_pricing], axis=1)\n",
    "df = df.dropna()"
   ]
  },
  {
   "cell_type": "code",
   "execution_count": null,
   "metadata": {},
   "outputs": [],
   "source": [
    "df[\"SPY_LN_RETURN\"] = df[\"SPY_CLOSE\"].apply(np.log).pct_change()\n",
    "df[\"SPY_MSTD5\"] = pd.rolling_std(df[\"SPY_LN_RETURN\"], 5).shift(1)\n",
    "\n",
    "\n",
    "df[\"VIX_LN_RETURN\"] =  df[\"VIX_CLOSE\"].apply(np.log).pct_change()\n",
    "df[\"VIX_MSTD10\"] = pd.rolling_std(df[\"VIX_LN_RETURN\"], 10).shift(1)\n"
   ]
  },
  {
   "cell_type": "code",
   "execution_count": null,
   "metadata": {},
   "outputs": [],
   "source": [
    "df[\"CONTANGO\"] = df[\"VX2\"] / df[\"VX1\"] \n"
   ]
  },
  {
   "cell_type": "markdown",
   "metadata": {},
   "source": [
    "\n",
    "## IV 計算\n",
    "\n",
    "IV = 前日のIV*Current Index Factor - Current Investor Fee\n",
    "\n",
    "Current Index Factor = 現在のVX1 VX2 の取引価格 / 前日のVX1 VX2\n"
   ]
  },
  {
   "cell_type": "code",
   "execution_count": null,
   "metadata": {},
   "outputs": [],
   "source": [
    "def iv(df, prev_rolldate, current_rolldate):\n",
    "    # prev_rolldate = expiry_dates[113]\n",
    "    # current_rolldate = expiry_dates[114]\n",
    "    x = df.ix[prev_rolldate:current_rolldate]\n",
    "\n",
    "    x[\"VX1 CIF\"] = x[\"VX1\"] / x[\"VX1\"].shift(-1) \n",
    "    x[\"VX2 CIF\"] = x[\"VX2\"] / x[\"VX2\"].shift(-1) \n",
    "    x[\"Fee\"] =  0.89 / 100 ** 1/365 \n",
    "\n",
    "    x[\"CntToRollDate\"] = range(len(x))\n",
    "    x[\"RemainDateRatio\"] = x[\"CntToRollDate\"] / len(x)\n",
    "    x[\"VXX.IV\"] = x[\"VX1\"] * x[\"VX1 CIF\"] * (1-x[\"RemainDateRatio\"] ) +  x[\"VX2\"] * x[\"VX2 CIF\"] * x[\"RemainDateRatio\"]  - x[\"Fee\"]\n",
    "    x[\"XIV.IV\"] = x[\"VX2\"] * x[\"VX2 CIF\"] * (1-x[\"RemainDateRatio\"] ) +  x[\"VX1\"] * x[\"VX1 CIF\"] * x[\"RemainDateRatio\"]  - x[\"Fee\"]    \n",
    "    return x \n",
    "\n"
   ]
  },
  {
   "cell_type": "code",
   "execution_count": null,
   "metadata": {},
   "outputs": [],
   "source": [
    "prev_rolldate = expiry_dates[113]\n",
    "current_rolldate = expiry_dates[114]\n",
    "z = iv(df, prev_rolldate, current_rolldate)"
   ]
  },
  {
   "cell_type": "code",
   "execution_count": null,
   "metadata": {},
   "outputs": [],
   "source": [
    "z[['XIV.IV','XIV_CLOSE' ]].plot(secondary_y = 'XIV_CLOSE')"
   ]
  }
 ],
 "metadata": {
  "kernelspec": {
   "display_name": "Python 2",
   "language": "python",
   "name": "python2"
  },
  "language_info": {
   "codemirror_mode": {
    "name": "ipython",
    "version": 2
   },
   "file_extension": ".py",
   "mimetype": "text/x-python",
   "name": "python",
   "nbconvert_exporter": "python",
   "pygments_lexer": "ipython2",
   "version": "2.7.12"
  }
 },
 "nbformat": 4,
 "nbformat_minor": 2
}
