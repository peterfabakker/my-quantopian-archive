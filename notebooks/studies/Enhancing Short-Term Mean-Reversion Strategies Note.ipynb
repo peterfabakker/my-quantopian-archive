{
 "cells": [
  {
   "cell_type": "markdown",
   "metadata": {},
   "source": [
    "【メモ】[Enhancing Short-Term Mean-Reversion Strategies](https://www.quantopian.com/posts/enhancing-short-term-mean-reversion-strategies-1?utm_source=forum-content&utm_medium=twitter&utm_campaign=enhancing-short-term-mean-reversion-strategies-1)\n"
   ]
  },
  {
   "cell_type": "code",
   "execution_count": null,
   "metadata": {},
   "outputs": [],
   "source": [
    "from quantopian.pipeline.data.builtin import USEquityPricing\n",
    "from quantopian.research import run_pipeline\n",
    "from quantopian.pipeline import Pipeline,CustomFilter\n",
    "from quantopian.pipeline.factors import CustomFactor, Latest, SimpleMovingAverage, Returns, AnnualizedVolatility\n",
    "from quantopian.pipeline.filters import Q500US\n",
    "from quantopian.pipeline.data import morningstar\n",
    "from quantopian.pipeline.classifiers.morningstar import Sector \n",
    "from quantopian.pipeline.data.eventvestor import EarningsCalendar\n",
    "from quantopian.pipeline.factors.eventvestor import (\n",
    "BusinessDaysUntilNextEarnings,\n",
    "BusinessDaysSincePreviousEarnings\n",
    ")\n",
    "\n",
    "import pandas as pd \n",
    "import numpy as np"
   ]
  },
  {
   "cell_type": "markdown",
   "metadata": {},
   "source": [
    "+ FairValueでLow Volの場合Short Term Mean Reversionが効くようだ\n",
    "+ Fair Value = EV/EBITDARatioが０に近い．\n",
    "+ 0以上どこかの大企業（AAPLとか）くらい，みたいなFilterをかけるといいかもしれない\n"
   ]
  },
  {
   "cell_type": "code",
   "execution_count": null,
   "metadata": {},
   "outputs": [],
   "source": []
  },
  {
   "cell_type": "code",
   "execution_count": null,
   "metadata": {},
   "outputs": [],
   "source": [
    "pipe = Pipeline()\n",
    "pipe.set_screen(Q500US())\n",
    "\n",
    "pipe.add(Latest(inputs=[USEquityPricing.close]), \"Latest\") ## pipe.add(USEquityPricing.close.latest, 'close') \n",
    "pipe.add(Returns(window_length=2), \"Return\") ## 前日クローズから本日のクローズまで\n",
    "pipe.add(Returns(window_length=6), \"5dayReturn\") ## 前日クローズから本日のクローズまで\n",
    "#pipe.add(Returns(window_length=3) - Returns(window_length=2), \"Return as of 2days before\") ## 2日前クローズから前日のクローズまで\n",
    "pipe.add(AnnualizedVolatility(window_length=6), \"Vol5day\")\n",
    "\n",
    "# BusinessDaysSincePreviousEarningsは，前回の決算日から何日過ぎているかをIntで返す．1であれば前日が決算日だったということ\n",
    "# 無料じゃなかった\n",
    "# pipe.add(EarningsCalendar.previous_announcement.latest, 'previous_announcement')\n",
    "# pipe.add(EarningsCalendar.next_announcement.latest, 'next_announcement')\n",
    "# pipe.add(BusinessDaysSincePreviousEarnings(), \"business_days_since\")\n",
    "\n",
    "\n",
    "    \n",
    "\n",
    "pipe.add(Sector(), \"Sector\")\n",
    "\n",
    "pipe.add(morningstar.valuation_ratios.ev_to_ebitda.latest, \"EV/EBITDA ratio\")\n",
    "\n",
    "results = run_pipeline(pipe, start_date=\"2016-11-1\", end_date=\"2017-11-15\")"
   ]
  },
  {
   "cell_type": "code",
   "execution_count": null,
   "metadata": {},
   "outputs": [],
   "source": [
    "idx = pd.IndexSlice\n",
    "results.loc[idx[:,[symbols(\"AAPL\")]],:]\n",
    "\n"
   ]
  },
  {
   "cell_type": "markdown",
   "metadata": {},
   "source": [
    "[野村證券 | EV/EBITDA倍率（証券用語解説集）](http://www.nomura.co.jp/terms/japan/i/ev_ebitda.html)\n",
    "> EV（企業価値）がEBITDAの何倍になっているかを表す指標で、企業の買収に必要な時価総額と、買収後の純負債の返済に必要な金額を、EBITDAの何年分で賄えるかを表す。簡易買収倍率とも呼ばれている。\n",
    "企業活動において、電機・機械、自動車などの産業は、世界規模で企業活動をおこなっているため、株価を比較する際に共通の尺度が必要となる。現在、世界的な株価比較の尺度として、EV/EBITDA倍率が広く使われている。\n",
    "\n",
    "[野村證券 | EV（証券用語解説集）](http://www.nomura.co.jp/terms/english/e/ev.html)\n",
    "> Enterprise Valueの略称で和訳は企業価値。会社が生み出す将来のフリーキャッシュフローを割引いた現在価値のことをいう。"
   ]
  },
  {
   "cell_type": "code",
   "execution_count": null,
   "metadata": {},
   "outputs": [],
   "source": [
    "results[(results[\"EV/EBITDA ratio\"] < 20) & (results[\"EV/EBITDA ratio\"] > 0)].ix[\"2017-11-1\"].sort_values(by=\"Vol5day\")[\"EV/EBITDA ratio\"].plot(kind=\"hist\", alpha=.5)"
   ]
  },
  {
   "cell_type": "code",
   "execution_count": null,
   "metadata": {},
   "outputs": [],
   "source": [
    "results[(results[\"EV/EBITDA ratio\"] < 10) & (results[\"EV/EBITDA ratio\"] > 0) & (results[\"Vol5day\"] < 0.5)][\"Vol5day\"].plot(kind=\"hist\")"
   ]
  },
  {
   "cell_type": "code",
   "execution_count": null,
   "metadata": {},
   "outputs": [],
   "source": [
    "aapl = results.loc[idx[:,[symbols(\"AAPL\")]],:]\n"
   ]
  },
  {
   "cell_type": "code",
   "execution_count": null,
   "metadata": {},
   "outputs": [],
   "source": [
    "aapl[[\"Latest\", \"EV/EBITDA ratio\"]].apply(np.log).plot(secondary_y = \"Latest\")"
   ]
  },
  {
   "cell_type": "code",
   "execution_count": null,
   "metadata": {},
   "outputs": [],
   "source": [
    "symbols = results.ix[\"2017-11-1\"].index\n",
    "prices = get_pricing(symbols, start_date=\"2017-11-1\", end_date=\"2017-11-8\", fields=\"price\")"
   ]
  },
  {
   "cell_type": "code",
   "execution_count": null,
   "metadata": {},
   "outputs": [],
   "source": [
    "daily_rets=np.log(prices/prices.shift(1))\n"
   ]
  },
  {
   "cell_type": "code",
   "execution_count": null,
   "metadata": {},
   "outputs": [],
   "source": [
    "rets=(prices.iloc[-2] - prices.iloc[0]) / prices.iloc[0]"
   ]
  },
  {
   "cell_type": "code",
   "execution_count": null,
   "metadata": {},
   "outputs": [],
   "source": [
    "stdevs=daily_rets.std(axis=0)\n"
   ]
  },
  {
   "cell_type": "code",
   "execution_count": null,
   "metadata": {},
   "outputs": [],
   "source": [
    "results[(results[\"EV/EBITDA ratio\"] > 0 )  & (results[\"EV/EBITDA ratio\"] < 10 ) & (results[\"Vol5day\"] < 0.2)].ix[\"2017-11-2\"].sort_values(by=[\"EV/EBITDA ratio\", \"Vol5day\"], ascending=[True,True])"
   ]
  },
  {
   "cell_type": "code",
   "execution_count": null,
   "metadata": {},
   "outputs": [],
   "source": [
    "get_pricing(\"ZION\", start_date=\"2017-11-1\", end_date=\"2017-11-8\", fields=\"price\").plot()"
   ]
  }
 ],
 "metadata": {
  "kernelspec": {
   "display_name": "Python 2",
   "language": "python",
   "name": "python2"
  },
  "language_info": {
   "codemirror_mode": {
    "name": "ipython",
    "version": 2
   },
   "file_extension": ".py",
   "mimetype": "text/x-python",
   "name": "python",
   "nbconvert_exporter": "python",
   "pygments_lexer": "ipython2",
   "version": "2.7.12"
  }
 },
 "nbformat": 4,
 "nbformat_minor": 2
}
