{
 "cells": [
  {
   "cell_type": "code",
   "execution_count": null,
   "metadata": {},
   "outputs": [],
   "source": [
    "from quantopian.research.experimental import continuous_future, history\n",
    "import statsmodels.api as sm \n",
    "import statsmodels.tsa as tsa \n",
    "import pandas as pd\n",
    "import numpy as np\n",
    "\n",
    "import matplotlib.pyplot as plt \n",
    "import matplotlib.cm as cm\n",
    "\n",
    "\n",
    "root_symbol = 'VX'\n",
    "future0 = continuous_future(root_symbol)\n",
    "future1 = continuous_future(root_symbol, offset=1, )"
   ]
  },
  {
   "cell_type": "code",
   "execution_count": null,
   "metadata": {},
   "outputs": [],
   "source": [
    "df = history([future0,future1],  fields='price', frequency=\"daily\",\n",
    "                  start=\"2010-1-1\", end=\"2017-11-14\") #\"2017-11-15\"\n",
    "df = df.fillna(method=\"ffill\").dropna() \n",
    "df.columns = df.columns.map(lambda x: x.root_symbol + str(x.offset))\n"
   ]
  },
  {
   "cell_type": "code",
   "execution_count": null,
   "metadata": {},
   "outputs": [],
   "source": [
    "df['contango_ratio'] = (df['VX1'] - df['VX0'] ) / df['VX0']\n",
    "df['contango_ratio'].plot()"
   ]
  },
  {
   "cell_type": "code",
   "execution_count": null,
   "metadata": {},
   "outputs": [],
   "source": [
    "df[['VX0', 'VX1']].plot()"
   ]
  }
 ],
 "metadata": {
  "kernelspec": {
   "display_name": "Python 2",
   "language": "python",
   "name": "python2"
  },
  "language_info": {
   "codemirror_mode": {
    "name": "ipython",
    "version": 2
   },
   "file_extension": ".py",
   "mimetype": "text/x-python",
   "name": "python",
   "nbconvert_exporter": "python",
   "pygments_lexer": "ipython2",
   "version": "2.7.12"
  }
 },
 "nbformat": 4,
 "nbformat_minor": 2
}
