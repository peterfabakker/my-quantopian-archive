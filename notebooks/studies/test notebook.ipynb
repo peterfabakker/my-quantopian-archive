{
 "cells": [
  {
   "cell_type": "code",
   "execution_count": null,
   "metadata": {},
   "outputs": [],
   "source": [
    "df = get_pricing([\"JNK\",\"XLK\",],start_date='2013-12-31', end_date='2017-11-11', fields=\"price\")\n",
    "df = df.rename(columns=dict([(c, c.symbol) for c in df.columns])) \n",
    "df_return = np.log(df / df.shift(1))\n",
    "df_return[:].cumsum().plot()\n"
   ]
  },
  {
   "cell_type": "code",
   "execution_count": null,
   "metadata": {},
   "outputs": [],
   "source": [
    "df_return[\"JNK_XLK_5dCorr\"] = df_return[\"JNK\"].rolling(window=5).corr(other=df_return[\"XLK\"], )#pairwise=True\n",
    "df_return[\"JNK_cumsum\"] = df_return[\"JNK\"].cumsum()\n",
    "df_return[\"XLK_cumsum\"] = df_return[\"XLK\"].cumsum()"
   ]
  },
  {
   "cell_type": "code",
   "execution_count": null,
   "metadata": {},
   "outputs": [],
   "source": [
    "df_return[[\"JNK_cumsum\", \"XLK_cumsum\", \"JNK_XLK_5dCorr\"]].plot(secondary_y=\"JNK_XLK_5dCorr\")\n"
   ]
  },
  {
   "cell_type": "code",
   "execution_count": null,
   "metadata": {},
   "outputs": [],
   "source": [
    "df_return[\"JNK_XLK_5dCorr\"].plot(kind=\"hist\",bins=50)"
   ]
  },
  {
   "cell_type": "code",
   "execution_count": null,
   "metadata": {},
   "outputs": [],
   "source": [
    "df_return[\"cut_by_JNK_XLK_5dCorr\"] =  pd.cut(df_return[\"JNK_XLK_5dCorr\"], 5 , labels=range(5))"
   ]
  },
  {
   "cell_type": "code",
   "execution_count": null,
   "metadata": {},
   "outputs": [],
   "source": [
    "df_return[df_return[\"cut_by_JNK_XLK_5dCorr\"]==0]"
   ]
  },
  {
   "cell_type": "code",
   "execution_count": null,
   "metadata": {},
   "outputs": [],
   "source": [
    "import matplotlib.pyplot as plt \n",
    "fig = plt.figure()\n",
    "\n",
    "label = 0\n",
    "\n",
    "num = len(df_return[df_return[\"cut_by_JNK_XLK_5dCorr\"] == label].index)\n",
    "xs = 5\n",
    "ys = int(num/5)+1\n",
    "\n",
    "for i, idx in enumerate(df_return[df_return[\"cut_by_JNK_XLK_5dCorr\"] == label].index):\n",
    "    x = i % xs\n",
    "    y = int(i/xs) + ys\n",
    "    ax = fig.add_subplot(xs, ys, i+1)\n",
    "    ax.set_title(idx.strftime(\"%Y%m%d\"))\n",
    "    ax.tick_params(labelbottom='off')\n",
    "    ax.plot(df_return[[\"JNK\", \"XLK\"]][idx:].head(5))\n",
    "    \n",
    "    \n",
    "    \n",
    "    \n",
    "\n",
    "#df_return[[\"JNK\", \"QQQ\"]][df_return[df_return[\"cut_by_JNK_QQQ_5dCorr\"] == 0].index[0]:].head(30).plot()    "
   ]
  },
  {
   "cell_type": "code",
   "execution_count": null,
   "metadata": {},
   "outputs": [],
   "source": [
    "df_return[df_return[\"JNK_XLK_5dCorr\"] < df_return.dropna().quantile(0.1, )[\"JNK_XLK_5dCorr\"]]"
   ]
  },
  {
   "cell_type": "code",
   "execution_count": null,
   "metadata": {},
   "outputs": [],
   "source": [
    "x = df_return.dropna().quantile(0.05, )[\"JNK_XLK_5dCorr\"]\n",
    "df_return[\"JNK_XLK_5dCorr_lowCorr\"] = df_return[\"JNK_XLK_5dCorr\"] < x\n"
   ]
  },
  {
   "cell_type": "code",
   "execution_count": null,
   "metadata": {},
   "outputs": [],
   "source": [
    "df_return"
   ]
  },
  {
   "cell_type": "code",
   "execution_count": null,
   "metadata": {},
   "outputs": [],
   "source": [
    "df_return[[\"JNK_cumsum\", \"XLK_cumsum\", \"JNK_XLK_5dCorr_Q10percent\"]][\"2017\"].plot(secondary_y=\"JNK_XLK_5dCorr_lowCorr\")"
   ]
  },
  {
   "cell_type": "code",
   "execution_count": null,
   "metadata": {},
   "outputs": [],
   "source": [
    "df_return[df_return[\"JNK_XLK_5dCorr_lowCorr\"]]"
   ]
  },
  {
   "cell_type": "code",
   "execution_count": null,
   "metadata": {},
   "outputs": [],
   "source": [
    "df['JNK_change_from_5days_before'] = df['JNK'] / df['JNK'].shift(-5) - 1\n",
    "df['XLK_change_after_5days_future'] = df['JNK'].shift(5) / df['JNK'] - 1"
   ]
  },
  {
   "cell_type": "code",
   "execution_count": null,
   "metadata": {},
   "outputs": [],
   "source": [
    "df[\"2014-01-09\":].head()"
   ]
  },
  {
   "cell_type": "code",
   "execution_count": null,
   "metadata": {},
   "outputs": [],
   "source": [
    "df.loc[df_return[df_return[\"JNK_XLK_5dCorr_lowCorr\"]].index].plot(kind='scatter', \n",
    "                                                                  x = \"JNK_change_from_5days_before\",\n",
    "                                                                 y = \"XLK_change_after_5days_future\")"
   ]
  },
  {
   "cell_type": "code",
   "execution_count": null,
   "metadata": {},
   "outputs": [],
   "source": [
    "a = df.loc[df_return[df_return[\"JNK_XLK_5dCorr_lowCorr\"]].index]"
   ]
  },
  {
   "cell_type": "code",
   "execution_count": null,
   "metadata": {},
   "outputs": [],
   "source": [
    "a[(a.JNK_change_from_5days_before < 0) & (a.XLK_change_after_5days_future > 0)]"
   ]
  }
 ],
 "metadata": {
  "kernelspec": {
   "display_name": "Python 2",
   "language": "python",
   "name": "python2"
  },
  "language_info": {
   "codemirror_mode": {
    "name": "ipython",
    "version": 2
   },
   "file_extension": ".py",
   "mimetype": "text/x-python",
   "name": "python",
   "nbconvert_exporter": "python",
   "pygments_lexer": "ipython2",
   "version": "2.7.12"
  }
 },
 "nbformat": 4,
 "nbformat_minor": 2
}
