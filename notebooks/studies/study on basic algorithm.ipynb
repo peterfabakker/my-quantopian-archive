{
 "cells": [
  {
   "cell_type": "code",
   "execution_count": null,
   "metadata": {},
   "outputs": [],
   "source": [
    "## https://www.quantopian.com/help#sample-algos から勉強します\n",
    "\n",
    "## いつナンどきでも initialize \n",
    "\n",
    "def initialize(context):\n",
    "    context.aapl = sid(24)\n",
    "    schedule_function(rebalance, date_rule=date_rules.every_day())\n",
    "\n",
    "    \n",
    "## rebalance 関数は quantopian でのポートフォリオでの演算や状態を決めるときの慣習関数名．\n",
    "## 今のポートフォリオ状態や，トレードするかどうかの条件，実際の取引など，普段GUIのポートフォリオ上で\n",
    "# 行っている作業をこの関数に定義する\n",
    "\n",
    "def rebalance(context, data):\n",
    "    # 過去5日分のデータを取得\n",
    "    price_history = data.history(\n",
    "        context.aapl, \n",
    "        filelds='price',\n",
    "        bar_count=5, \n",
    "        frequency='1d'\n",
    "    )\n",
    "    \n",
    "    average_price = price_history.mean()\n",
    "    current_price = data.current(context.aapl, 'price')\n",
    "    \n",
    "    # can_trade で True ＝ 最新のプライスがあり，マーケットに上場されていて，取引所の注意銘柄等に指定されていない銘柄\n",
    "    # したがって今，取引時間かどうかという事は示さない（ハズ）\n",
    "    if data.can_trade(context.aapl):\n",
    "        if current_price > (1.01 * average_price): \n",
    "            order_target_percent(context.aapl, 1): \n",
    "            log.info('Buying %s' % (context.aapl.symbol))\n",
    "        elif current_price < average_price:\n",
    "            order_target_percent(context.aapl, 0)\n",
    "            log.info('Selling %s' % (context.aapl.symbol))\n",
    "    \n",
    "    # record は描画で，引数の作りが特殊．下記2パタンどちらでもよく，オプション名がそのまま描画に使われる\n",
    "    # ただし，描画は5本まで\n",
    "    # record(series1_name=value1, series2_name=value2, ...)\n",
    "    # record('series1_name', value1, 'series2_name', value2, ...) \n",
    "    record(current_price=current_price, average_price=average_price)\n",
    "    \n",
    "    \n",
    "        \n",
    "    "
   ]
  },
  {
   "cell_type": "code",
   "execution_count": null,
   "metadata": {},
   "outputs": [],
   "source": []
  }
 ],
 "metadata": {
  "kernelspec": {
   "display_name": "Python 2",
   "language": "python",
   "name": "python2"
  },
  "language_info": {
   "codemirror_mode": {
    "name": "ipython",
    "version": 2
   },
   "file_extension": ".py",
   "mimetype": "text/x-python",
   "name": "python",
   "nbconvert_exporter": "python",
   "pygments_lexer": "ipython2",
   "version": "2.7.12"
  }
 },
 "nbformat": 4,
 "nbformat_minor": 2
}
