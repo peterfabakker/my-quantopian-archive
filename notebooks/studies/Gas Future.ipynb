{
 "cells": [
  {
   "cell_type": "markdown",
   "metadata": {},
   "source": [
    "# memo\n",
    "\n",
    "https://www.evernote.com/view/notebook/27d0d4e1-623f-46ef-80fc-600b075aa846?locale=ja#st=p&x=future%2520contango&n=27d0d4e1-623f-46ef-80fc-600b075aa846\n",
    "\n",
    "[A Very Different Kind of Trend Model | Following the Trend](http://www.followingthetrend.com/2016/11/a-very-different-kind-of-trend-model/ \"A Very Different Kind of Trend Model | Following the Trend\")\n",
    "\n",
    "[原油ETFの影響でWTI原油はコンタンゴになりやすい？！ - 原油投資情報サイト](http://crudeoil123.com/contango_due_to_crude_oil_etf/ \"原油ETFの影響でWTI原油はコンタンゴになりやすい？！ - 原油投資情報サイト\")\n"
   ]
  },
  {
   "cell_type": "code",
   "execution_count": null,
   "metadata": {},
   "outputs": [],
   "source": [
    "from quantopian.research.experimental import continuous_future, history\n",
    "import statsmodels.api as sm \n",
    "import statsmodels.tsa as tsa \n",
    "import pandas as pd\n",
    "import numpy as np\n",
    "\n",
    "import matplotlib.pyplot as plt \n",
    "import matplotlib.cm as cm\n",
    "\n",
    "\n",
    "root_symbol = 'NG'\n",
    "future0 = continuous_future(root_symbol)\n",
    "future1 = continuous_future(root_symbol, offset=1, )\n",
    "\n",
    "futures = history([future0,future1], fields=['price', 'contract'],frequency=\"daily\",\n",
    "                  start=\"2015-1-1\", end=\"2018-2-1\")\n",
    "\n",
    "futures.minor_axis = futures.minor_axis.map(lambda x: x.root_symbol + str(x.offset))\n",
    "f0 = futures.minor_axis[0]\n",
    "f1 = futures.minor_axis[1]\n",
    "pricing = futures[\"price\"]\n",
    "\n",
    "pricing[\"steepness\"] = pricing[f1] / pricing[f0] \n",
    "\n",
    "def get_expiration_date(contract):\n",
    "    return contract.expiration_date\n",
    "\n",
    "contract = futures['contract']\n",
    "\n",
    "contract[\"expiration_date\"] = contract[f0].apply(get_expiration_date)\n",
    "contract[\"date\"] = contract.index # memo1\n",
    "contract[\"remaining days\"] = (contract[\"expiration_date\"] - contract[\"date\"]).dt.days\n",
    "\n",
    "pricing[\"remaining days\"] = contract[\"remaining days\"]\n",
    "\n",
    "pricing[\"implied steepness\"] = pricing[\"steepness\"]/pricing[\"remaining days\"]"
   ]
  },
  {
   "cell_type": "code",
   "execution_count": null,
   "metadata": {},
   "outputs": [],
   "source": [
    "contract[\"expiration_date1\"] = contract[f1].apply(get_expiration_date)\n",
    "contract[\"remaining days1\"] = (contract[\"expiration_date1\"] - contract[\"date\"]).dt.days\n",
    "contract[\"contract term\"] = contract[\"remaining days1\"] - contract[\"remaining days\"]\n"
   ]
  },
  {
   "cell_type": "code",
   "execution_count": null,
   "metadata": {},
   "outputs": [],
   "source": [
    "pricing[\"contract term\"]  = contract[\"contract term\"] "
   ]
  },
  {
   "cell_type": "code",
   "execution_count": null,
   "metadata": {},
   "outputs": [],
   "source": [
    "pricing[\"annualize steepness\"] = pricing[\"steepness\"]*pricing[\"remaining days\"]/pricing[\"contract term\"]"
   ]
  },
  {
   "cell_type": "code",
   "execution_count": null,
   "metadata": {},
   "outputs": [],
   "source": [
    "pricing[[\"steepness\", \"annualize steepness\"]].plot(secondary_y =\"steepness\")"
   ]
  },
  {
   "cell_type": "code",
   "execution_count": null,
   "metadata": {},
   "outputs": [],
   "source": [
    "plt.plot(pricing[\"NG0\"] * pricing[\"remaining days\"]/pricing[\"contract term\"] + pricing[\"NG1\"] * (1-pricing[\"remaining days\"]/pricing[\"contract term\"] ))\n",
    "plt.plot(pricing[\"NG0\"], c='red')\n"
   ]
  },
  {
   "cell_type": "code",
   "execution_count": null,
   "metadata": {},
   "outputs": [],
   "source": [
    "pricing[\"synsetic NG0\"] = pricing[\"NG0\"] * pricing[\"remaining days\"]/pricing[\"contract term\"] + pricing[\"NG1\"] * (1-pricing[\"remaining days\"]/pricing[\"contract term\"] )"
   ]
  },
  {
   "cell_type": "code",
   "execution_count": null,
   "metadata": {},
   "outputs": [],
   "source": [
    "pricing[[\"synsetic NG0\", \"NG0\", \"NG1\", \"remaining days\"]].tail(300).plot(secondary_y=\"remaining days\")"
   ]
  },
  {
   "cell_type": "code",
   "execution_count": null,
   "metadata": {},
   "outputs": [],
   "source": [
    "pricing[\"diff steepness\"] = pricing[\"steepness\"] / pricing[\"steepness\"].shift(1)"
   ]
  },
  {
   "cell_type": "code",
   "execution_count": null,
   "metadata": {},
   "outputs": [],
   "source": [
    "pricing[[\"synsetic NG0\", \"diff steepness\"]].plot(secondary_y = \"diff steepness\")"
   ]
  },
  {
   "cell_type": "code",
   "execution_count": null,
   "metadata": {},
   "outputs": [],
   "source": [
    "start = pricing.index[0]\n",
    "end = pricing.index[-1]\n",
    "ung = get_pricing('UNG', start_date=start, end_date=end, fields='price')"
   ]
  },
  {
   "cell_type": "code",
   "execution_count": null,
   "metadata": {},
   "outputs": [],
   "source": [
    "plt.plot(ung.tail(100))\n",
    "plt.plot(pricing['synsetic NG0'].tail(100))"
   ]
  },
  {
   "cell_type": "code",
   "execution_count": null,
   "metadata": {},
   "outputs": [],
   "source": [
    "dftest = pricing.copy()\n",
    "dftest = dftest[['NG0', 'NG1', 'remaining days']]\n",
    "dftest['NG0'] = dftest['NG0'].apply(np.log)\n",
    "dftest['NG1'] = dftest['NG1'].apply(np.log)\n",
    "dftest['diff']= (dftest['NG1']-dftest['NG0'])"
   ]
  },
  {
   "cell_type": "code",
   "execution_count": null,
   "metadata": {},
   "outputs": [],
   "source": [
    "dftest['timedecays'] = dftest['diff']/dftest['remaining days']"
   ]
  },
  {
   "cell_type": "code",
   "execution_count": null,
   "metadata": {},
   "outputs": [],
   "source": [
    "dftest[['diff', 'timedecays']].plot()"
   ]
  },
  {
   "cell_type": "code",
   "execution_count": null,
   "metadata": {},
   "outputs": [],
   "source": [
    "dftest.plot(x=\"diff\", y=\"timedecays\", kind=\"scatter\", c=range(len(dftest.index)))#,  ylim=([-0.03,0.035])"
   ]
  },
  {
   "cell_type": "code",
   "execution_count": null,
   "metadata": {},
   "outputs": [],
   "source": [
    "dftest[[\"NG0\",\"NG1\", \"timedecays\"]].plot(secondary_y=\"timedecays\")"
   ]
  },
  {
   "cell_type": "code",
   "execution_count": null,
   "metadata": {},
   "outputs": [],
   "source": [
    "dftest[\"timedecays\"].hist(bins=100)"
   ]
  },
  {
   "cell_type": "code",
   "execution_count": null,
   "metadata": {},
   "outputs": [],
   "source": [
    "dftest[dftest['timedecays'] < 0][\"remaining days\"].hist()"
   ]
  },
  {
   "cell_type": "code",
   "execution_count": null,
   "metadata": {},
   "outputs": [],
   "source": [
    "dftest[(dftest['timedecays'] > 0.00) & (dftest['timedecays'] < 0.01) & (dftest[\"remaining days\"] == 5)]"
   ]
  },
  {
   "cell_type": "code",
   "execution_count": null,
   "metadata": {},
   "outputs": [],
   "source": [
    "dftest.loc[\"2017-12-22\":].head(30)[['NG0', 'NG1', 'diff']].plot(secondary_y = 'diff')"
   ]
  },
  {
   "cell_type": "code",
   "execution_count": null,
   "metadata": {},
   "outputs": [],
   "source": [
    "test = pricing[['NG0', 'NG1', 'remaining days']]\n"
   ]
  },
  {
   "cell_type": "code",
   "execution_count": null,
   "metadata": {},
   "outputs": [],
   "source": [
    "test['NG0 change'] = test[\"NG0\"].pct_change()\n",
    "test['NG1 change'] = test[\"NG1\"].pct_change()\n"
   ]
  },
  {
   "cell_type": "code",
   "execution_count": null,
   "metadata": {},
   "outputs": [],
   "source": [
    "\n",
    "idx = pd.IndexSlice\n",
    "\n",
    "test.groupby(by=\"remaining days\")[[\"NG0 change\", \"NG1 change\"]].describe().loc[idx[:,['count']],:]\n",
    "\n"
   ]
  },
  {
   "cell_type": "code",
   "execution_count": null,
   "metadata": {},
   "outputs": [],
   "source": [
    "contract.groupby(by=\"NG0\")[\"expiration_date\"].count()"
   ]
  },
  {
   "cell_type": "code",
   "execution_count": null,
   "metadata": {},
   "outputs": [],
   "source": [
    "contract"
   ]
  },
  {
   "cell_type": "code",
   "execution_count": null,
   "metadata": {},
   "outputs": [],
   "source": [
    "dir(future0)"
   ]
  },
  {
   "cell_type": "code",
   "execution_count": null,
   "metadata": {},
   "outputs": [],
   "source": [
    "future0.sid"
   ]
  },
  {
   "cell_type": "code",
   "execution_count": null,
   "metadata": {},
   "outputs": [],
   "source": [
    "contract['NG0'][0].sid\n"
   ]
  },
  {
   "cell_type": "code",
   "execution_count": null,
   "metadata": {},
   "outputs": [],
   "source": [
    "contract = futures['contract'].copy()"
   ]
  },
  {
   "cell_type": "code",
   "execution_count": null,
   "metadata": {},
   "outputs": [],
   "source": [
    "s = contract.groupby(by=\"NG0\")[[\"NG0\"]].count()"
   ]
  },
  {
   "cell_type": "code",
   "execution_count": null,
   "metadata": {},
   "outputs": [],
   "source": [
    "contract.merge(s, how='outer', left_on=\"NG0\", right_index=True)"
   ]
  },
  {
   "cell_type": "code",
   "execution_count": null,
   "metadata": {},
   "outputs": [],
   "source": [
    "contract[\"roll date?\"] = contract[\"NG0\"] != contract[\"NG0\"].shift(-1)"
   ]
  },
  {
   "cell_type": "code",
   "execution_count": null,
   "metadata": {},
   "outputs": [],
   "source": [
    "contract"
   ]
  },
  {
   "cell_type": "code",
   "execution_count": null,
   "metadata": {},
   "outputs": [],
   "source": [
    "def nan_or_1(x):\n",
    "    if x:\n",
    "        return np.nan\n",
    "    else: \n",
    "        return 1\n",
    "\n",
    "\n",
    "v = contract[\"roll date?\"].apply(nan_or_1).iloc[::-1] ## iloc[::-1] は index を reverse する一番簡単な方法\n",
    "n = np.isnan(v)\n",
    "a = ~n\n",
    "c = np.cumsum(a)\n",
    "d = np.diff(np.concatenate(([0.], c[n])))\n",
    "v[n] = -d\n",
    "np.cumsum(v).iloc[::-1]\n",
    "\n",
    "contract[\"roll date?\"] = np.cumsum(v).iloc[::-1]\n"
   ]
  },
  {
   "cell_type": "code",
   "execution_count": null,
   "metadata": {},
   "outputs": [],
   "source": [
    "contract"
   ]
  },
  {
   "cell_type": "code",
   "execution_count": null,
   "metadata": {},
   "outputs": [],
   "source": []
  }
 ],
 "metadata": {
  "kernelspec": {
   "display_name": "Python 2",
   "language": "python",
   "name": "python2"
  },
  "language_info": {
   "codemirror_mode": {
    "name": "ipython",
    "version": 2
   },
   "file_extension": ".py",
   "mimetype": "text/x-python",
   "name": "python",
   "nbconvert_exporter": "python",
   "pygments_lexer": "ipython2",
   "version": "2.7.12"
  }
 },
 "nbformat": 4,
 "nbformat_minor": 2
}
