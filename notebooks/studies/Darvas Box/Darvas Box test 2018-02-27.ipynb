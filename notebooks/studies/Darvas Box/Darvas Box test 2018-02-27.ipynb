{
 "cells": [
  {
   "cell_type": "markdown",
   "metadata": {},
   "source": [
    "2018/02/27Updated\n",
    "\n",
    "[Darvas Box Traps Elusive Returns](https://www.investopedia.com/articles/trading/08/darvas.asp)\n",
    "\n",
    "The rules can be explained so that modern tools like scanning software can identify trading candidates. To quantify the box, traders should look for stocks in which the difference between the high and the low price over **the past four weeks is less than 10% of the stock's high during that time**. As a formula, it can be written as:\n",
    "\n",
    "\n",
    "\n",
    "```(100 * ((High – Low) / High)) < 10```\n",
    "\n",
    "Traders can use a larger percentage to get more stocks on their potential buy lists. The buy should be taken at the market's open the morning after the stock closes outside the box by **at least half a point on a volume that is greater than the average 30-day volume**. The initial stop should be set a quarter point below the lowest price of the box. It should be raised as new boxes form, always a quarter point below the low.\n",
    "\n",
    "---\n",
    "\n",
    "box に入っている銘柄とは；\n",
    "+ 過去4週間のHLの差をHで割ったものが0.1以下\n",
    "\n",
    "box を抜けるとは，\n",
    "+ 終値がボックスの外に，50％突き抜ける\n",
    "+ 30日の出来高よりも多くの出来高がある\n",
    "\n",
    "Entry\n",
    "+ boxを抜けた次の日の朝\n"
   ]
  },
  {
   "cell_type": "code",
   "execution_count": null,
   "metadata": {},
   "outputs": [],
   "source": [
    "import pandas as pd\n",
    "import numpy as np\n",
    "from datetime import datetime, timedelta\n",
    "import matplotlib.pyplot as plt\n",
    "from __future__ import division \n",
    "\n",
    "from quantopian.pipeline import Pipeline,CustomFactor\n",
    "from quantopian.research import run_pipeline\n",
    "from quantopian.pipeline.data.builtin import USEquityPricing\n",
    "from quantopian.pipeline.filters.morningstar import Q1500US,Q500US\n",
    "from quantopian.pipeline.experimental import QTradableStocksUS\n",
    "\n",
    "from quantopian.pipeline.filters import StaticAssets\n",
    "\n",
    "\n",
    "from quantopian.pipeline.factors import DailyReturns, SimpleMovingAverage\n",
    "import alphalens\n",
    "\n",
    "dowlist = ['AAPL', 'AXP', 'BA', 'CAT', 'CSCO', 'CVX', 'DIS', 'DWDP', 'GE', 'GS',\n",
    " 'HD', 'IBM', 'INTC', 'JNJ', 'JPM', 'KO', 'MCD', 'MMM', 'MRK', 'MSFT', 'NKE', 'PFE',\n",
    " 'PG', 'TRV', 'UNH', 'UTX', 'V', 'VZ', 'WMT', 'XOM']\n",
    "\n",
    "class HighLowRatio(CustomFactor):\n",
    "    # 前日までのデータでhighlowratio\n",
    "    inputs = [ USEquityPricing.high, USEquityPricing.low]\n",
    "    \n",
    "    def compute(self, today, assets, out, high, low):\n",
    "        highest = np.nanmax(high[:-1],axis=0)\n",
    "        loweset = np.nanmin(low[:-1],axis=0)\n",
    "        high_low_ratio = (highest - loweset)/ highest \n",
    "        \n",
    "        out[:] = high_low_ratio #np.log(high_low_ratio) \n",
    "\n",
    "class PrevValue(CustomFactor):\n",
    "    window_length = 2\n",
    "    def compute(self, today, assets, out, value):\n",
    "        out[:] = value[0]\n",
    "\n",
    "class PrevMA(CustomFactor):\n",
    "    def compute(self, today, assets, out, value):\n",
    "        out[:] = np.nanmean(value[:-1], axis=0)\n",
    "    \n",
    "class ZSCORE(CustomFactor):\n",
    "    def compute(self, today, assets, out, value):\n",
    "        mean = np.nanmean(value, axis=0)\n",
    "        stdev = np.nanstd(value, axis=0)\n",
    "        out[:] = (value[-1] - mean) / stdev\n",
    "    \n",
    "def make_pipeline():\n",
    "    pipe = Pipeline()\n",
    "    HighLowRatio_4weeks = HighLowRatio(window_length=30)\n",
    "    PrevDay_High = PrevValue(inputs=[USEquityPricing.high])\n",
    "    PrevDay_Low = PrevValue(inputs=[USEquityPricing.low])\n",
    "    PrevMA30_Vol = PrevMA(inputs=[USEquityPricing.volume], window_length=31)\n",
    "    PrevMA30_Cls = PrevMA(inputs=[USEquityPricing.close], window_length=31)\n",
    "    PrevMA30_MarketCap = PrevMA30_Cls * PrevMA30_Vol\n",
    "    VolZScore30 = ZSCORE(inputs=[USEquityPricing.volume], window_length=30)\n",
    "\n",
    "    pipe.add(HighLowRatio_4weeks, 'HighLowRatio_4weeks')\n",
    "    pipe.add(USEquityPricing.close.latest, 'close')\n",
    "    pipe.add(USEquityPricing.volume.latest, 'volume')\n",
    "    pipe.add(PrevDay_High, 'PrevDay_High')\n",
    "    pipe.add(PrevDay_Low, 'PrevDay_Low')\n",
    "    pipe.add(PrevMA30_Vol, 'PrevMA30_Vol')\n",
    "    pipe.add(PrevMA30_MarketCap, 'PrevMA30_MarketCap')\n",
    "    pipe.add(VolZScore30, 'VolZScore30')\n",
    "    \n",
    "    my_symbols = StaticAssets(symbols(dowlist))\n",
    "    pipe.set_screen(my_symbols)\n",
    "    return pipe\n",
    "\n",
    "def make_pipeline2():\n",
    "    pipe = Pipeline()\n",
    "    HighLowRatio_4weeks = HighLowRatio(window_length=30)\n",
    "    pipe.add(HighLowRatio_4weeks, 'HighLowRatio_4weeks')\n",
    "    \n",
    "    my_symbols = StaticAssets(symbols(dowlist))\n",
    "    pipe.set_screen(my_symbols)\n",
    "    return pipe\n",
    "    "
   ]
  },
  {
   "cell_type": "code",
   "execution_count": null,
   "metadata": {},
   "outputs": [],
   "source": []
  },
  {
   "cell_type": "code",
   "execution_count": null,
   "metadata": {},
   "outputs": [],
   "source": [
    "start=\"2010-1-1\"\n",
    "end=\"2018-3-13\"\n",
    "results = run_pipeline(make_pipeline(), start_date= start, end_date=end, )\n",
    "inthebox = results[results[\"HighLowRatio_4weeks\"] < 0.1]\n",
    "inthebox[\"close/PrevDay_High\"] = inthebox[\"close\"]/inthebox[\"PrevDay_High\"] - 1\n",
    "inthebox[\"close/PrevDay_Low\"] = inthebox[\"close\"]/inthebox[\"PrevDay_Low\"] - 1 \n"
   ]
  },
  {
   "cell_type": "code",
   "execution_count": null,
   "metadata": {},
   "outputs": [],
   "source": [
    "symbol = \"CVX\"\n",
    "idx = pd.IndexSlice\n",
    "df = results.loc[idx[:,[symbols(symbol)]],:]\n",
    "# df = df[1000:1500]\n",
    "\n",
    "fig = plt.figure()\n",
    "ax1 = fig.add_subplot(211)\n",
    "ax2 = ax1.twinx()\n",
    "ax3 = fig.add_subplot(212)\n",
    "\n",
    "#ax = df[[\"close\", \"HighLowRatio_4weeks\",]][:].plot(secondary_y=\"close\")\n",
    "#ax.axhline(y=0.1, c='red')\n",
    "#ax.axhline(y=0.05, c='red')\n",
    "\n",
    "ax1.plot(df.close.values)\n",
    "ax2.plot(df[\"HighLowRatio_4weeks\"].values, c='red')\n",
    "ax2.axhline(y=-2.0, c='green')\n",
    "ax2.axhline(y=-3.0, c='green')\n",
    "\n",
    "ax3.plot(df[\"VolZScore30\"].values)\n",
    "\n"
   ]
  },
  {
   "cell_type": "code",
   "execution_count": null,
   "metadata": {},
   "outputs": [],
   "source": [
    "results.head(10).index.get_level_values(1).unique()\n"
   ]
  },
  {
   "cell_type": "code",
   "execution_count": null,
   "metadata": {},
   "outputs": [],
   "source": [
    "target = inthebox[(inthebox[\"close/PrevDay_Low\"] < -0.20) & (inthebox[\"PrevMA30_Vol\"] * 1.5 < inthebox[\"volume\"])]\n",
    "\n",
    "dates = target.index.get_level_values(0)\n",
    "\n",
    "for date in dates:\n",
    "    tickers = target.loc[date].index\n",
    "    df = get_pricing(tickers,start_date=date, end_date=date+ timedelta(days=10), fields='price',)\n",
    "    dayreturn = df.pct_change().cumsum()\n",
    "    plt.plot(dayreturn.as_matrix())\n",
    "    \n"
   ]
  },
  {
   "cell_type": "code",
   "execution_count": null,
   "metadata": {},
   "outputs": [],
   "source": [
    "target = inthebox[(inthebox[\"close/PrevDay_Low\"] < -0.20) & (inthebox[\"PrevMA30_Vol\"] * 1.5 < inthebox[\"volume\"])]\n",
    "alldates = results.index.get_level_values(0).unique()\n"
   ]
  },
  {
   "cell_type": "code",
   "execution_count": null,
   "metadata": {},
   "outputs": [],
   "source": [
    "hoge = dict()\n",
    "for (d,s), row in target.iterrows():\n",
    "    ## 次の日の午前中の値動き\n",
    "    i = alldates.get_loc(d) + 1\n",
    "    nextdate = alldates[i]\n",
    "    df = get_pricing(s, start_date=nextdate, end_date=nextdate, frequency='minute', fields='price')\n",
    "    minutereturn = df[:90].pct_change()\n",
    "    hoge[(d,s)] = minutereturn.as_matrix()\n",
    "    plt.plot(minutereturn.cumsum().as_matrix())\n",
    "    "
   ]
  },
  {
   "cell_type": "code",
   "execution_count": null,
   "metadata": {},
   "outputs": [],
   "source": [
    "std = pd.DataFrame(hoge).dropna().describe().loc['std']\n",
    "target['STD'] = std"
   ]
  },
  {
   "cell_type": "code",
   "execution_count": null,
   "metadata": {},
   "outputs": [],
   "source": [
    "target.plot(x =\"HighLowRatio_4weeks\", y = \"STD\", kind='scatter')"
   ]
  },
  {
   "cell_type": "code",
   "execution_count": null,
   "metadata": {},
   "outputs": [],
   "source": [
    "test = get_pricing([\"AAPL\", \"F\"])\n",
    "test"
   ]
  },
  {
   "cell_type": "code",
   "execution_count": null,
   "metadata": {},
   "outputs": [],
   "source": [
    "((test.high.rolling(window=20).max() - test.low.rolling(window=20).min())/test.high.rolling(window=20).max()).plot()"
   ]
  },
  {
   "cell_type": "code",
   "execution_count": null,
   "metadata": {},
   "outputs": [],
   "source": [
    "aapl = get_pricing(\"aapl\",start_date=\"2010-1-1\", end_date=\"2018-1-1\")\n",
    "aapl[\"high low ratio\"]  = (aapl.high.rolling(window=20).max() - aapl.low.rolling(window=20).min()) / aapl.high.rolling(window=20).max()"
   ]
  },
  {
   "cell_type": "code",
   "execution_count": null,
   "metadata": {},
   "outputs": [],
   "source": [
    "aapl[[\"price\", \"high low ratio\"]].plot(secondary_y = \"price\")\n"
   ]
  },
  {
   "cell_type": "code",
   "execution_count": null,
   "metadata": {},
   "outputs": [],
   "source": [
    "start=\"2010-1-1\"\n",
    "end=\"2018-3-13\"\n",
    "results = run_pipeline(make_pipeline2(), start_date= start, end_date=end, )\n",
    "\n"
   ]
  },
  {
   "cell_type": "code",
   "execution_count": null,
   "metadata": {},
   "outputs": [],
   "source": [
    "df = results.to_panel().HighLowRatio_4weeks"
   ]
  },
  {
   "cell_type": "code",
   "execution_count": null,
   "metadata": {},
   "outputs": [],
   "source": [
    "dia = get_pricing('DIA', start_date=df.index[0], end_date=df.index[-1], fields='price')\n",
    "df['DIA'] = dia"
   ]
  },
  {
   "cell_type": "code",
   "execution_count": null,
   "metadata": {},
   "outputs": [],
   "source": [
    "df.loc[:\"2010-06-30\"].plot(legend=False, secondary_y =\"DIA\")\n"
   ]
  }
 ],
 "metadata": {
  "kernelspec": {
   "display_name": "Python 2",
   "language": "python",
   "name": "python2"
  },
  "language_info": {
   "codemirror_mode": {
    "name": "ipython",
    "version": 2
   },
   "file_extension": ".py",
   "mimetype": "text/x-python",
   "name": "python",
   "nbconvert_exporter": "python",
   "pygments_lexer": "ipython2",
   "version": "2.7.12"
  }
 },
 "nbformat": 4,
 "nbformat_minor": 2
}
