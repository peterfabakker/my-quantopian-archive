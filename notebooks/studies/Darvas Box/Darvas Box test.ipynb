{
 "cells": [
  {
   "cell_type": "markdown",
   "metadata": {},
   "source": [
    "[Darvas Box Traps Elusive Returns](https://www.investopedia.com/articles/trading/08/darvas.asp)\n",
    "\n",
    "The rules can be explained so that modern tools like scanning software can identify trading candidates. To quantify the box, traders should look for stocks in which the difference between the high and the low price over **the past four weeks is less than 10% of the stock's high during that time**. As a formula, it can be written as:\n",
    "\n",
    "\n",
    "\n",
    "```(100 * ((High – Low) / High)) < 10```\n",
    "\n",
    "Traders can use a larger percentage to get more stocks on their potential buy lists. The buy should be taken at the market's open the morning after the stock closes outside the box by **at least half a point on a volume that is greater than the average 30-day volume**. The initial stop should be set a quarter point below the lowest price of the box. It should be raised as new boxes form, always a quarter point below the low.\n",
    "\n",
    "---\n",
    "\n",
    "box に入っている銘柄とは；\n",
    "+ 過去4週間のHLの差をHで割ったものが0.1以下\n",
    "\n",
    "box を抜けるとは，\n",
    "+ 終値がボックスの外に，50％突き抜ける\n",
    "+ 30日の出来高よりも多くの出来高がある\n",
    "\n",
    "Entry\n",
    "+ boxを抜けた次の日の朝\n"
   ]
  },
  {
   "cell_type": "markdown",
   "metadata": {},
   "source": [
    "# まずは，dukという銘柄だけでやってみる"
   ]
  },
  {
   "cell_type": "code",
   "execution_count": null,
   "metadata": {},
   "outputs": [],
   "source": [
    "import pandas as pd\n",
    "import numpy as np\n",
    "import matplotlib.pyplot as plt\n",
    "from __future__ import division \n",
    "\n",
    "from quantopian.pipeline import Pipeline,CustomFactor\n",
    "from quantopian.research import run_pipeline\n",
    "from quantopian.pipeline.data.builtin import USEquityPricing\n",
    "from quantopian.pipeline.filters.morningstar import Q1500US,Q500US\n",
    "from quantopian.pipeline.experimental import QTradableStocksUS\n",
    "\n",
    "from quantopian.pipeline.factors import DailyReturns, SimpleMovingAverage\n",
    "import alphalens\n",
    "\n",
    "\n",
    "#duk = get_pricing(\"duk\",\"2007-1-1\", \"2017-12-12\")\n"
   ]
  },
  {
   "cell_type": "code",
   "execution_count": null,
   "metadata": {},
   "outputs": [],
   "source": [
    "\n",
    "duk[\"return\"] = duk.price.pct_change()\n",
    "duk[\"M20_high\"] = duk.high.rolling(20).max()\n",
    "duk[\"M20_low\"] = duk.high.rolling(20).min()\n",
    "duk[\"MA30_vol\"] = duk.volume.rolling(30).mean()\n",
    "duk[\"high_low_ratio\"] = (duk[\"M20_high\"] - duk[\"M20_low\"]) / duk[\"M20_high\"]\n",
    "duk[\"volume_ratio\"] = duk[\"volume\"] / duk[\"MA30_vol\"] -1\n",
    "\n",
    "duk[\"in_the_box\"] =  duk[\"high_low_ratio\"] < 0.05\n",
    "duk[\"volume_enough\"] = duk[\"volume_ratio\"] > 0.5\n",
    "duk[\"M20_in_the_box\"] = duk.in_the_box.rolling(20).sum()\n",
    "duk[\"breakout_box\"] = (duk[\"M20_in_the_box\"].shift(1) == 20) & (duk[\"M20_in_the_box\"] != 20)\n"
   ]
  },
  {
   "cell_type": "code",
   "execution_count": null,
   "metadata": {},
   "outputs": [],
   "source": [
    "duk[\"intraday_return\"] = duk.close_price / duk.open_price - 1\n",
    "duk[\"5days_return\"] = duk.close_price.shift(-5) / duk.open_price - 1\n",
    "\n",
    "duk[\"prev_break\"] = duk.breakout_box.shift(1).replace(np.nan, False)\n",
    "duk[\"prev_volume_enough\"] = duk[\"volume_enough\"].shift(1).replace(np.nan, False)\n",
    "duk[\"prev_return\"] = duk[\"return\"].shift(1).replace(np.nan, 0) > 0"
   ]
  },
  {
   "cell_type": "code",
   "execution_count": null,
   "metadata": {},
   "outputs": [],
   "source": [
    "\n",
    "import matplotlib.pyplot as plt \n",
    "\n",
    "x = \"2008-2-23\"\n",
    "plt.plot(duk[:x].price)\n",
    "plt.plot(duk[:x].in_the_box.rolling(20).sum())\n",
    "plt.plot(duk[:x].breakout_box)"
   ]
  },
  {
   "cell_type": "markdown",
   "metadata": {},
   "source": [
    "## 20ではなくなったタイミングで、↑に抜けたか下に抜けたが、それでトレードシグナルとすればよい？"
   ]
  },
  {
   "cell_type": "code",
   "execution_count": null,
   "metadata": {},
   "outputs": [],
   "source": [
    "class HighLowRatio(CustomFactor):\n",
    "    inputs = [ USEquityPricing.high, USEquityPricing.low]\n",
    "    \n",
    "    def compute(self, today, assets, out, high, low):\n",
    "        highest = np.nanmax(high,axis=0)\n",
    "        loweset = np.nanmin(low,axis=0)\n",
    "        high_low_ratio = (highest - loweset)/ highest \n",
    "        \n",
    "        out[:] = high_low_ratio #np.log(high_low_ratio)\n",
    "\n",
    "class InBox(CustomFactor):\n",
    "    inputs = [ USEquityPricing.high, USEquityPricing.low]\n",
    "    window_length = 20\n",
    "    def compute(self, today, assets, out, high, low):\n",
    "        high_row_ratio = (high - low) / high\n",
    "        inthebox = (high_row_ratio < 0.05)\n",
    "        out[:] = np.sum(inthebox, axis=0)\n",
    "\n",
    "class MAVolume(CustomFactor):\n",
    "    inputs = [USEquityPricing.volume]\n",
    "    window_length = 21 \n",
    "    def computer(self, today, assets, out, volume):\n",
    "        #out[:] = \n",
    "        out[:] = volume[-1] / volume[:-1].mean()\n",
    "        \n",
    "class DarvasBoxBreakUp(CustomFactor):\n",
    "    inputs = [ USEquityPricing.high, USEquityPricing.low, USEquityPricing.close, USEquityPricing.volume]\n",
    "    window_length = 21\n",
    "    def compute(self, today, assets, out, high, low, close, volume):\n",
    "\n",
    "        high_row_ratio = (high - low) / high\n",
    "        inthebox = (high_row_ratio < 0.05)\n",
    "        vol_ma = volume[:-1].mean()\n",
    "        volume_enough = volume[-1] > vol_ma * 1.5\n",
    "\n",
    "        \n",
    "        box_until_prevday = np.sum(inthebox[:-1], axis=0)\n",
    "        box_until_today  = np.sum(inthebox[1:], axis=0)\n",
    "        \n",
    "        today_return = close[-1] / close[-2] - 1\n",
    "        breakbox = (box_until_prevday == 20) & (box_until_today != 20) & volume_enough\n",
    "        breakup = today_return > 0.0\n",
    "        out[:] = breakbox & breakup\n"
   ]
  },
  {
   "cell_type": "code",
   "execution_count": null,
   "metadata": {},
   "outputs": [],
   "source": [
    "\n",
    "pipe = Pipeline()\n",
    "\n",
    "pipe.set_screen(Q500US())\n",
    "pipe.add(SimpleMovingAverage(), \"MAVolume\")\n",
    "pipe.add(HighLowRatio(), \"HighLowRatio\")\n",
    "pipe.add(InBox(), \"InBox\")\n",
    "pipe.add(DarvasBoxBreakUp(), \"DarvasBoxBreakUp\")\n",
    "pipe.add(DailyReturns(), \"DailyReturns\")\n",
    "\n",
    "\n",
    "\n",
    "start = pd.datetime(2017,1,1)\n",
    "end = pd.datetime(2018,1,1)\n",
    "results = run_pipeline(pipe, start_date= start, end_date=end, chunksize=None)\n"
   ]
  },
  {
   "cell_type": "code",
   "execution_count": null,
   "metadata": {},
   "outputs": [],
   "source": [
    "fig = plt.figure()\n",
    "ax1 = fig.add_subplot(111)\n",
    "ax1.hist(results[\"HighLowRatio\"], bins=100, alpha=0.5, )\n"
   ]
  },
  {
   "cell_type": "code",
   "execution_count": null,
   "metadata": {},
   "outputs": [],
   "source": [
    "len(results[results[\"DarvasBoxBreakUp\"] ==1])\n"
   ]
  },
  {
   "cell_type": "code",
   "execution_count": null,
   "metadata": {},
   "outputs": [],
   "source": [
    "results[results[\"DarvasBoxBreakUp\"] ==1]"
   ]
  },
  {
   "cell_type": "code",
   "execution_count": null,
   "metadata": {},
   "outputs": [],
   "source": [
    "\n",
    "assets = results.index.levels[1].unique()  \n",
    "pricing = get_pricing(np.append(assets, [symbols(\"SPY\")]), start, end + pd.Timedelta(days=30), fields=\"open_price\")  \n"
   ]
  },
  {
   "cell_type": "code",
   "execution_count": null,
   "metadata": {},
   "outputs": [],
   "source": [
    "results = results.reset_index()"
   ]
  },
  {
   "cell_type": "code",
   "execution_count": null,
   "metadata": {},
   "outputs": [],
   "source": [
    "df_DarvasBoxBreakUp = results[results[\"DarvasBoxBreakUp\"] == 1]"
   ]
  },
  {
   "cell_type": "code",
   "execution_count": null,
   "metadata": {},
   "outputs": [],
   "source": [
    "df_DarvasBoxBreakUp#.iterrows().next()\n"
   ]
  },
  {
   "cell_type": "code",
   "execution_count": null,
   "metadata": {},
   "outputs": [],
   "source": [
    "#df_DarvasBoxBreakUp.iloc[0][\"level_1\"]\n",
    "pricing_return = pricing.pct_change().shift(-1)\n",
    "pricing_return5 = pricing.pct_change(5).shift(-5)\n",
    "pricing_return10 = pricing.pct_change(10).shift(-10)\n"
   ]
  },
  {
   "cell_type": "code",
   "execution_count": null,
   "metadata": {},
   "outputs": [],
   "source": [
    "l = list()\n",
    "spy = symbols(\"SPY\")\n",
    "for i, row in df_DarvasBoxBreakUp.iterrows():\n",
    "    l.append([pricing_return.loc[row[\"level_0\"], row[\"level_1\"],], \n",
    "              pricing_return5.loc[row[\"level_0\"], row[\"level_1\"],], \n",
    "              pricing_return10.loc[row[\"level_0\"], row[\"level_1\"],],\n",
    "             pricing_return.loc[row[\"level_0\"], spy,], \n",
    "              pricing_return5.loc[row[\"level_0\"], spy,], \n",
    "              pricing_return10.loc[row[\"level_0\"], spy,]\n",
    "             \n",
    "             ], \n",
    "             \n",
    "              )\n",
    "    "
   ]
  },
  {
   "cell_type": "code",
   "execution_count": null,
   "metadata": {},
   "outputs": [],
   "source": [
    "pd.DataFrame(l,columns=[\"return1\", \"return5\", \"return10\",\"spyreturn1\", \"spyreturn5\", \"spyreturn10\", ] ).cumsum().plot()"
   ]
  },
  {
   "cell_type": "code",
   "execution_count": null,
   "metadata": {},
   "outputs": [],
   "source": [
    "pricing_return"
   ]
  },
  {
   "cell_type": "code",
   "execution_count": null,
   "metadata": {},
   "outputs": [],
   "source": [
    "l = list()\n",
    "for i, row in results.iterrows():\n",
    "    if row[\"DarvasBoxBreakUp\"] > 0:\n",
    "        l.append(pricing_return.loc[row[\"level_0\"], row[\"level_1\"]],)\n",
    "    else:\n",
    "        l.append(0)\n",
    "        "
   ]
  },
  {
   "cell_type": "code",
   "execution_count": null,
   "metadata": {},
   "outputs": [],
   "source": [
    "results[\"return1\"] = l"
   ]
  },
  {
   "cell_type": "code",
   "execution_count": null,
   "metadata": {},
   "outputs": [],
   "source": [
    "df_DarvasBoxBreakUp.groupby(by=\"level_0\")[\"return1\"].count().rolling(10).sum().plot()"
   ]
  },
  {
   "cell_type": "code",
   "execution_count": null,
   "metadata": {},
   "outputs": [],
   "source": []
  }
 ],
 "metadata": {
  "kernelspec": {
   "display_name": "Python 2",
   "language": "python",
   "name": "python2"
  },
  "language_info": {
   "codemirror_mode": {
    "name": "ipython",
    "version": 2
   },
   "file_extension": ".py",
   "mimetype": "text/x-python",
   "name": "python",
   "nbconvert_exporter": "python",
   "pygments_lexer": "ipython2",
   "version": "2.7.12"
  }
 },
 "nbformat": 4,
 "nbformat_minor": 2
}
