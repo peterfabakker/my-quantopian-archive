{
 "cells": [
  {
   "cell_type": "code",
   "execution_count": null,
   "metadata": {},
   "outputs": [],
   "source": []
  },
  {
   "cell_type": "code",
   "execution_count": null,
   "metadata": {},
   "outputs": [],
   "source": [
    "from quantopian.pipeline import Pipeline\n",
    "from quantopian.research import run_pipeline\n",
    "from quantopian.pipeline.filters import Q1500US"
   ]
  },
  {
   "cell_type": "code",
   "execution_count": null,
   "metadata": {},
   "outputs": [],
   "source": [
    "from quantopian.pipeline import Pipeline\n",
    "from quantopian.research import run_pipeline\n",
    "from quantopian.pipeline.filters import Q1500US\n",
    "from quantopian.pipeline.factors import SimpleMovingAverage\n",
    "from quantopian.pipeline.data.builtin import USEquityPricing\n",
    "\n",
    "\n",
    "def make_pipeline():\n",
    "    \n",
    "    universe = (Q1500US())\n",
    "    mean_close_10 = SimpleMovingAverage(inputs=[USEquityPricing.close], window_length=10)\n",
    "    \n",
    "    pipe = Pipeline(\n",
    "        columns = {'10_day_mean_close': mean_close_10},\n",
    "        screen=universe)\n",
    "    #pipe = Pipeline()\n",
    "    \n",
    "    return pipe\n",
    "\n",
    "results = run_pipeline(make_pipeline(),start_date='2015-05-05', end_date='2016-05-05' )\n",
    "len(results)\n"
   ]
  },
  {
   "cell_type": "code",
   "execution_count": null,
   "metadata": {},
   "outputs": [],
   "source": [
    "results.head()"
   ]
  },
  {
   "cell_type": "code",
   "execution_count": null,
   "metadata": {},
   "outputs": [],
   "source": [
    "results.tail()"
   ]
  },
  {
   "cell_type": "code",
   "execution_count": null,
   "metadata": {},
   "outputs": [],
   "source": [
    "assets = results.index.levels[1].unique()"
   ]
  },
  {
   "cell_type": "code",
   "execution_count": null,
   "metadata": {},
   "outputs": [],
   "source": [
    "pricing = get_pricing(assets,start_date='2015-05-05', end_date='2016-05-05', fields='open_price'  )"
   ]
  },
  {
   "cell_type": "code",
   "execution_count": null,
   "metadata": {},
   "outputs": [],
   "source": [
    "pricing.head()"
   ]
  },
  {
   "cell_type": "code",
   "execution_count": null,
   "metadata": {},
   "outputs": [],
   "source": [
    "import alphalens \n",
    "alphalens.tears.create_factor_tear_sheet(factor=results['10_day_mean_close'], \n",
    "                                        prices=pricing, \n",
    "                                        quantiles=10, \n",
    "                                         periods=(1,5,10)\n",
    "                                        )"
   ]
  },
  {
   "cell_type": "code",
   "execution_count": null,
   "metadata": {},
   "outputs": [],
   "source": [
    "bt = get_backtest('590aff0e1f910765c7040cb0')#59052109ec57de662dfe4f35\n"
   ]
  },
  {
   "cell_type": "code",
   "execution_count": null,
   "metadata": {},
   "outputs": [],
   "source": [
    "bt.positions[bt.positions.sid==36144][['cost_basis', 'last_sale_price']].plot()\n"
   ]
  },
  {
   "cell_type": "code",
   "execution_count": null,
   "metadata": {},
   "outputs": [],
   "source": [
    "from quantopian.pipeline import Pipeline\n",
    "from quantopian.research import run_pipeline\n",
    "from quantopian.pipeline.filters.morningstar import Q1500US \n",
    "from quantopian.pipeline.data.sentdex import sentiment\n",
    "from quantopian.pipeline.data.morningstar import operation_ratios\n",
    "\n",
    "def  make_pipeline():\n",
    "    # Yes: operation_ratios.revenue_growth.latest \n",
    "    \n",
    "    testing_factor1 = operation_ratios.operation_margin.latest\n",
    "    testing_factor2 = operation_ratios.revenue_growth.latest\n",
    "    testing_factor3 = sentiment.sentiment_signal.latest\n",
    "    \n",
    "    universe = (Q1500US() \n",
    "                & testing_factor1.notnull()\n",
    "                & testing_factor2.notnull()\n",
    "                & testing_factor3.notnull())\n",
    "    \n",
    "    testing_factor1 = testing_factor1.rank(mask=universe, method='average')\n",
    "    testing_factor2 = testing_factor2.rank(mask=universe, method='average')\n",
    "    testing_factor3 = testing_factor3.rank(mask=universe, method='average')\n",
    "    \n",
    "    testing_factor = testing_factor1 + testing_factor2 + testing_factor3\n",
    "    \n",
    "    testing_quantile = testing_factor.quantiles(2)\n",
    "    \n",
    "    \n",
    "    pipe = Pipeline(columns={'testing_factor': testing_factor,\n",
    "                            'shorts': testing_quantile.eq(0),\n",
    "                            'longs':  testing_quantile.eq(1),},\n",
    "                    screen=universe)\n",
    "    \n",
    "    return pipe\n",
    "\n",
    "results = run_pipeline(make_pipeline(), start_date='2015-1-1', end_date='2016-1-1')\n",
    "results.head()"
   ]
  },
  {
   "cell_type": "code",
   "execution_count": null,
   "metadata": {},
   "outputs": [],
   "source": [
    "assets = results.index.levels[1].unique()\n",
    "pricing = get_pricing(assets, start_date='2015-1-1', end_date='2016-1-1', fields='open_price')\n",
    "len(pricing)"
   ]
  },
  {
   "cell_type": "code",
   "execution_count": null,
   "metadata": {},
   "outputs": [],
   "source": [
    "import alphalens\n",
    "\n",
    "alphalens.tears.create_factor_tear_sheet(factor=results['testing_factor'], \n",
    "                                        prices=pricing, \n",
    "                                        quantiles=2,\n",
    "                                        periods=(3,10,30))"
   ]
  }
 ],
 "metadata": {
  "kernelspec": {
   "display_name": "Python 2",
   "language": "python",
   "name": "python2"
  },
  "language_info": {
   "codemirror_mode": {
    "name": "ipython",
    "version": 2
   },
   "file_extension": ".py",
   "mimetype": "text/x-python",
   "name": "python",
   "nbconvert_exporter": "python",
   "pygments_lexer": "ipython2",
   "version": "2.7.12"
  }
 },
 "nbformat": 4,
 "nbformat_minor": 2
}
