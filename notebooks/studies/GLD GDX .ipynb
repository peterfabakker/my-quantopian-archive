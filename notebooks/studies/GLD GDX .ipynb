{
 "cells": [
  {
   "cell_type": "code",
   "execution_count": null,
   "metadata": {},
   "outputs": [],
   "source": [
    "import matplotlib.cm as cm\n",
    "import matplotlib.pyplot as plt\n",
    "\n",
    "\n",
    "pan = get_pricing([\"GDX\",\"GLD\", \"SPY\", \"VXX\", \"VXZ\"], start_date='2010-01-03', end_date='2017-06-27')\n",
    "pan[\"return\"] = pan.price.pct_change()\n",
    "df = pan[\"return\"]\n",
    "\n",
    "df[\"condition\"] = (df[symbols(\"GDX\")] < 0) & (df[symbols(\"GLD\")] > 0) #& (df[symbols(\"SPY\")] < 0) \n",
    "df[\"gld_shift_1\"] = df[symbols(\"GDX\")].shift(-1)\n",
    "\n",
    "df[df.condition].tail()\n",
    "\n",
    "\n",
    "df1 = df[df.condition]\n",
    "\n",
    "fig = plt.figure()\n",
    "im = plt.scatter(df1[symbols(\"GLD\")], \n",
    " df1.gld_shift_1, \n",
    " c=df1[symbols(\"VXZ\")], ## 配色を決定する三番目のデータ\n",
    " linewidths=0, alpha=1, \n",
    " cmap=cm.Reds # ここでカラーマップを指定\n",
    " )\n",
    "fig.colorbar(im)\n",
    "\n"
   ]
  },
  {
   "cell_type": "code",
   "execution_count": null,
   "metadata": {},
   "outputs": [],
   "source": [
    "df1 = df[df.condition]\n",
    "\n",
    "fig = plt.figure()\n",
    "im = plt.scatter(df1[symbols(\"GLD\")], \n",
    " df1.gld_shift_1, \n",
    " c=df1[symbols(\"VXZ\")], ## 配色を決定する三番目のデータ\n",
    " linewidths=0, alpha=1, \n",
    " cmap=cm.Reds # ここでカラーマップを指定\n",
    " )\n",
    "fig.colorbar(im)\n"
   ]
  }
 ],
 "metadata": {
  "kernelspec": {
   "display_name": "Python 2",
   "language": "python",
   "name": "python2"
  },
  "language_info": {
   "codemirror_mode": {
    "name": "ipython",
    "version": 2
   },
   "file_extension": ".py",
   "mimetype": "text/x-python",
   "name": "python",
   "nbconvert_exporter": "python",
   "pygments_lexer": "ipython2",
   "version": "2.7.12"
  }
 },
 "nbformat": 4,
 "nbformat_minor": 2
}
