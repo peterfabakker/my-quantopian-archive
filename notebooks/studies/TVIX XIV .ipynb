{
 "cells": [
  {
   "cell_type": "code",
   "execution_count": null,
   "metadata": {},
   "outputs": [],
   "source": [
    "import numpy as np\n",
    "import matplotlib.pyplot as plt\n",
    "\n",
    "start = \"2013-1-1\"\n",
    "end = \"2017-8-1\"\n",
    "bull_1x = \"SVXY\"\n",
    "bear_2x = \"UVXY\"\n",
    "\n",
    "df = get_pricing([bull_1x, bear_2x], start_date=start, end_date=end, frequency='daily', fields='price')\n",
    "df = df.rename(columns={symbols(bull_1x): \"Bull_1x\", symbols(bear_2x): \"Bear_2x\", },)\n",
    "\n",
    "df[\"BULL_CHANGE\"] = df.Bull_1x.pct_change().apply(lambda x: np.log(x+1.0))\n",
    "df[\"BEAR_CHANGE\"] = df.Bear_2x.pct_change().apply(lambda x: np.log(x+1.0))\n",
    "df[\"arv\"] =  - df.BULL_CHANGE - df.BEAR_CHANGE *0.5\n",
    "plt.scatter(df.BULL_CHANGE, df.arv)\n",
    "\n",
    "\n"
   ]
  },
  {
   "cell_type": "code",
   "execution_count": null,
   "metadata": {},
   "outputs": [],
   "source": [
    "(df.BULL_CHANGE + df.BEAR_CHANGE ).cumsum().plot()\n"
   ]
  },
  {
   "cell_type": "code",
   "execution_count": null,
   "metadata": {},
   "outputs": [],
   "source": [
    "start = \"2015-1-1\"\n",
    "end = \"2017-8-1\"\n",
    "\n",
    "xlist = ['SDS', 'SVXY', 'XIV', 'TZA', 'SQQQ', 'DUST', 'JDST']\n",
    "\n",
    "ylist = ['TQQQ', 'SSO', 'FAS', 'NUGT', 'QLD', 'UPRO', 'JNUG', 'TNA', 'UGAZ', 'LABU', 'UVXY', 'TVIX']\n",
    "\n",
    "\n",
    "\n",
    "etfs = xlist + ylist + ['SPY']\n",
    "\n",
    "df = get_pricing(etfs, start_date=start, end_date=end, frequency='daily', fields='price')\n",
    "df = df.rename(columns=dict([(symbols(x), x) for x in etfs]))\n",
    "#df = df.dropna()\n",
    "\n",
    "for etf in etfs:\n",
    "    try:\n",
    "        df[etf + \"_change\"] = df[etf].pct_change().apply(lambda x: np.log(x+1.0))\n",
    "    except:\n",
    "        print etf\n",
    "        pass\n",
    "    \n",
    "#df.dropna().describe()[[etf + \"_change\" for etf in etfs]]"
   ]
  },
  {
   "cell_type": "code",
   "execution_count": null,
   "metadata": {},
   "outputs": [],
   "source": [
    "\n",
    "fig = plt.figure(figsize=(20,20))\n",
    "plt.subplots_adjust(left=None, bottom=None, right=None, top=None, wspace=0.2, hspace=0.4)\n",
    "\n",
    "pairs = [(xticker,yticker) for yticker in ylist for xticker in  xlist]\n",
    "\n",
    "i =0\n",
    "pairs = pairs[i:i+100]\n",
    "num = len(pairs)\n",
    "print num\n",
    "xs = int(num/10)+1\n",
    "ys = 10\n",
    "i = 0\n",
    "\n",
    "for xticker,yticker in pairs:\n",
    "    x = i % xs\n",
    "    y = int(i/xs)+ys\n",
    "    ax = fig.add_subplot(xs, ys, i+1)\n",
    "    i += 1\n",
    "\n",
    "    \n",
    "#     df[\"arv\"] = df[bull_2x + \"_change\"]  + df[bear_1x + \"_change\"]\n",
    "#     ax.scatter(df[bear_1x + \"_change\"], df[\"arv\"], alpha=0.3)\n",
    "    df[\"arv\"] = (df[xticker + \"_change\"]  + df[yticker + \"_change\"]).cumsum().plot(ax=ax)\n",
    "    df.SPY_change.cumsum().plot(ax=ax)\n",
    "\n",
    "    ax.axis('off')\n",
    "    ax.set_title(xticker + \"_\" + yticker)\n",
    "    ax.axhline(0,color='k') # horizontal lines\n",
    "    ax.axvline(0, color='k') # vertical lines\n",
    "\n",
    "        "
   ]
  },
  {
   "cell_type": "code",
   "execution_count": null,
   "metadata": {},
   "outputs": [],
   "source": [
    "pairs = [(bull_2x, bear_1x) for bear_1x in base_list for bull_2x in  base_list]\n",
    "len(pairs)"
   ]
  },
  {
   "cell_type": "code",
   "execution_count": null,
   "metadata": {},
   "outputs": [],
   "source": [
    "(df.GDXJ_change + df.AGG_change ).cumsum().plot()\n",
    "df.SPY_change.cumsum().plot()\n"
   ]
  },
  {
   "cell_type": "code",
   "execution_count": null,
   "metadata": {},
   "outputs": [],
   "source": [
    "plt.scatter(df[\"VIIX_change\"] , df[\"VIIX_change\"]+ df[\"ZIV_change\"])"
   ]
  },
  {
   "cell_type": "code",
   "execution_count": null,
   "metadata": {},
   "outputs": [],
   "source": [
    "s = \"\"\"TQQQ\n",
    "SSO\n",
    "FAS\n",
    "NUGT\n",
    "QLD\n",
    "UPRO\n",
    "JNUG\n",
    "TNA\n",
    "UGAZ\n",
    "LABU\n",
    "UVXY\n",
    "TVIX\n",
    "\"\"\"\n",
    "s.split()"
   ]
  },
  {
   "cell_type": "code",
   "execution_count": null,
   "metadata": {},
   "outputs": [],
   "source": [
    "\n"
   ]
  }
 ],
 "metadata": {
  "kernelspec": {
   "display_name": "Python 2",
   "language": "python",
   "name": "python2"
  },
  "language_info": {
   "codemirror_mode": {
    "name": "ipython",
    "version": 2
   },
   "file_extension": ".py",
   "mimetype": "text/x-python",
   "name": "python",
   "nbconvert_exporter": "python",
   "pygments_lexer": "ipython2",
   "version": "2.7.12"
  }
 },
 "nbformat": 4,
 "nbformat_minor": 2
}
