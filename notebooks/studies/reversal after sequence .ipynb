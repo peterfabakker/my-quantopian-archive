{
 "cells": [
  {
   "cell_type": "code",
   "execution_count": null,
   "metadata": {},
   "outputs": [],
   "source": [
    "from quantopian.pipeline.data.builtin import USEquityPricing\n",
    "from quantopian.research import run_pipeline\n",
    "from quantopian.pipeline import Pipeline,CustomFilter\n",
    "from quantopian.pipeline.factors import CustomFactor\n",
    "from quantopian.pipeline.filters import Q500US\n",
    "from quantopian.pipeline.factors import Returns\n",
    "\n",
    "import numpy as np\n",
    "import pandas as pd \n",
    "import datetime "
   ]
  },
  {
   "cell_type": "code",
   "execution_count": null,
   "metadata": {},
   "outputs": [],
   "source": [
    "class ContinuouslyUp(CustomFactor):\n",
    "    inputs = [USEquityPricing.close]\n",
    "    def compute(self, today, asset_ids, out, values):\n",
    "        a = np.diff(values) / values[:,:-1]\n",
    "        out[:] = (a > 0).all() \n",
    "\n",
    "        \n",
    "def make_pipeline():\n",
    "    pipe = Pipeline()\n",
    "    close =  USEquityPricing.close.latest\n",
    "    five_days_up = ContinuouslyUp(window_length=5)\n",
    "    pipe.add(close, 'close_price')\n",
    "    pipe.add(five_days_up, 'continuously price up in last 5 days')\n",
    "    return pipe \n",
    "\n",
    "        \n",
    "        \n"
   ]
  },
  {
   "cell_type": "code",
   "execution_count": null,
   "metadata": {},
   "outputs": [],
   "source": [
    "results = run_pipeline(make_pipeline(), \n",
    "                       start_date='2015-1-1',\n",
    "                       end_date='2016-1-1')\n",
    "\n"
   ]
  },
  {
   "cell_type": "code",
   "execution_count": null,
   "metadata": {},
   "outputs": [],
   "source": [
    "results[resul]"
   ]
  }
 ],
 "metadata": {
  "kernelspec": {
   "display_name": "Python 2",
   "language": "python",
   "name": "python2"
  },
  "language_info": {
   "codemirror_mode": {
    "name": "ipython",
    "version": 2
   },
   "file_extension": ".py",
   "mimetype": "text/x-python",
   "name": "python",
   "nbconvert_exporter": "python",
   "pygments_lexer": "ipython2",
   "version": "2.7.12"
  }
 },
 "nbformat": 4,
 "nbformat_minor": 2
}
