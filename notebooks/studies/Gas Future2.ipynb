{
 "cells": [
  {
   "cell_type": "code",
   "execution_count": null,
   "metadata": {},
   "outputs": [],
   "source": [
    "from quantopian.research.experimental import continuous_future, history\n",
    "import numpy as np\n",
    "\n",
    "root_symbol = 'NG'\n",
    "future0 = continuous_future(root_symbol)\n",
    "future1 = continuous_future(root_symbol, offset=1, )\n",
    "\n",
    "futures = history([future0,future1], fields=['price', 'contract'],frequency=\"daily\",\n",
    "                  start=\"2017-1-1\", end=\"2018-2-1\")\n",
    "\n",
    "futures.minor_axis = futures.minor_axis.map(lambda x: x.root_symbol + str(x.offset))\n",
    "\n",
    "\n"
   ]
  },
  {
   "cell_type": "code",
   "execution_count": null,
   "metadata": {},
   "outputs": [],
   "source": [
    "\n",
    "def nan_or_1(x):\n",
    "    if x:\n",
    "        return np.nan\n",
    "    else: \n",
    "        return 1\n",
    "    \n",
    "def remaining_days(s_rolldate):\n",
    "    v = s_rolldate.apply(nan_or_1).iloc[::-1] ## iloc[::-1] は index を reverse する一番簡単な方法\n",
    "    n = np.isnan(v)\n",
    "    a = ~n\n",
    "    c = np.cumsum(a)\n",
    "    d = np.diff(np.concatenate(([0.], c[n])))\n",
    "    v[n] = -d\n",
    "    return np.cumsum(v).iloc[::-1]\n",
    "\n"
   ]
  },
  {
   "cell_type": "code",
   "execution_count": null,
   "metadata": {},
   "outputs": [],
   "source": [
    "contract = futures['contract']"
   ]
  },
  {
   "cell_type": "code",
   "execution_count": null,
   "metadata": {},
   "outputs": [],
   "source": [
    "contract[\"rolldate?\"] = contract[\"NG0\"] != contract[\"NG0\"].shift(-1)\n",
    "contract[\"remaining_days\"] = remaining_days(contract[\"rolldate?\"] )"
   ]
  },
  {
   "cell_type": "code",
   "execution_count": null,
   "metadata": {},
   "outputs": [],
   "source": [
    "contract"
   ]
  },
  {
   "cell_type": "code",
   "execution_count": null,
   "metadata": {},
   "outputs": [],
   "source": [
    "\n",
    "def nan_or_1(x):\n",
    "    if x:\n",
    "        return np.nan\n",
    "    else: \n",
    "        return 1\n",
    "    "
   ]
  },
  {
   "cell_type": "code",
   "execution_count": null,
   "metadata": {},
   "outputs": [],
   "source": [
    "v = contract[\"rolldate?\"].apply(nan_or_1).iloc[::-1]\n",
    "\n",
    "n = np.isnan(v)\n",
    "a = ~n\n",
    "c = np.cumsum(a)\n",
    "d = np.diff(np.concatenate(([0.], c[n])))\n",
    "v[n] = -d\n",
    "np.cumsum(v).iloc[::-1]\n",
    "\n",
    "contract[\"rolldate?\"] = np.cumsum(v).iloc[::-1]\n",
    "contract"
   ]
  },
  {
   "cell_type": "code",
   "execution_count": null,
   "metadata": {},
   "outputs": [],
   "source": []
  },
  {
   "cell_type": "code",
   "execution_count": null,
   "metadata": {},
   "outputs": [],
   "source": []
  }
 ],
 "metadata": {
  "kernelspec": {
   "display_name": "Python 2",
   "language": "python",
   "name": "python2"
  },
  "language_info": {
   "codemirror_mode": {
    "name": "ipython",
    "version": 2
   },
   "file_extension": ".py",
   "mimetype": "text/x-python",
   "name": "python",
   "nbconvert_exporter": "python",
   "pygments_lexer": "ipython2",
   "version": "2.7.12"
  }
 },
 "nbformat": 4,
 "nbformat_minor": 2
}
