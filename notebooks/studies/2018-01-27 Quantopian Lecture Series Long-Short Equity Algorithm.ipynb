{
 "cells": [
  {
   "cell_type": "code",
   "execution_count": null,
   "metadata": {},
   "outputs": [],
   "source": [
    "from quantopian.pipeline import Pipeline\n",
    "from quantopian.research import run_pipeline\n",
    "\n",
    "from quantopian.pipeline.factors import CustomFactor, SimpleMovingAverage\n",
    "from quantopian.pipeline.data.builtin import USEquityPricing\n",
    "from quantopian.pipeline.data import morningstar\n",
    "\n",
    "import numpy as np\n",
    "import pandas as pd\n",
    "\n",
    "\n"
   ]
  },
  {
   "cell_type": "code",
   "execution_count": null,
   "metadata": {},
   "outputs": [],
   "source": [
    "## Quantopian Help - Fundamentals https://www.quantopian.com/help/fundamentals#valuation\n",
    "   \n",
    "## enterprise_value : This number tells you what cash return you would get if you bought the entire company, including its debt. \n",
    "## ebit: Earnings minus expenses (excluding interest and tax expenses). \n",
    "\n",
    "\n",
    "class Value(CustomFactor):\n",
    "\n",
    "    inputs = [morningstar.income_statement.ebit,\n",
    "              morningstar.valuation.enterprise_value]\n",
    "    window_length = 1\n",
    "    \n",
    "    def compute(self, today, assets, out, ebit, ev):\n",
    "        out[:] = ebit[-1] / ev[-1]\n",
    "        \n",
    "        \n",
    "class Quality(CustomFactor):\n",
    "    \n",
    "    # Pre-declare inputs and window_length\n",
    "    inputs = [morningstar.operation_ratios.roe,]\n",
    "    window_length = 1\n",
    "    \n",
    "    def compute(self, today, assets, out, roe):\n",
    "        out[:] = roe[-1]\n",
    "        \n",
    "        \n",
    "class AvgDailyDollarVolumeTraded(CustomFactor):\n",
    "    inputs = [USEquityPricing.close, USEquityPricing.volume]\n",
    "    \n",
    "    def compute(self, today, assets, out, close_price, volume):\n",
    "        out[:] = np.mean(close_price * volume, axis=0)\n",
    "\n",
    "def make_pipeline():\n",
    "    pipe = Pipeline()\n",
    "\n",
    "    # Basic value and quality metrics.\n",
    "    value = Value()\n",
    "    pipe.add(value, \"value\")\n",
    "    quality = Quality()\n",
    "    pipe.add(quality, \"quality\")\n",
    "    \n",
    "    # We only want to trade relatively liquid stocks.\n",
    "    # Build a filter that only passes stocks that have $10,000,000 average\n",
    "    # daily dollar volume over the last 20 days.\n",
    "    dollar_volume = AvgDailyDollarVolumeTraded(window_length=20)\n",
    "    is_liquid = (dollar_volume > 10000000.0) #1e7\n",
    "    \n",
    "    # We also don't want to trade penny stocks, which we define as any stock with an\n",
    "    # average price of less than $5.00 over the last 200 days.\n",
    "    sma_200 = SimpleMovingAverage(inputs=[USEquityPricing.close], window_length=200)\n",
    "    not_a_penny_stock = (sma_200 > 5)\n",
    "    \n",
    "    # Before we do any other ranking, we want to throw away these assets.\n",
    "    initial_screen = (is_liquid & not_a_penny_stock)\n",
    "\n",
    "    # Construct and add a Factor representing the average rank of each asset by our \n",
    "    # value and quality metrics. \n",
    "    # By applying a mask to the rank computations, we remove any stocks that failed \n",
    "    # to meet our initial criteria **before** computing ranks.  This means that the \n",
    "    # stock with rank 10.0 is the 10th-lowest stock that passed `initial_screen`.\n",
    "    ## へえええーーー．\n",
    "    combined_rank = (\n",
    "        value.rank(mask=initial_screen) + \n",
    "        quality.rank(mask=initial_screen)\n",
    "    )\n",
    "    pipe.add(combined_rank, 'combined_rank')\n",
    "\n",
    "    # Build Filters representing the top and bottom 200 stocks by our combined ranking system.\n",
    "    # We'll use these as our tradeable universe each day.\n",
    "    longs = combined_rank.top(200)\n",
    "    shorts = combined_rank.bottom(200)\n",
    "    \n",
    "    # The final output of our pipeline should only include \n",
    "    # the top/bottom 200 stocks by our criteria.\n",
    "    pipe.set_screen(longs | shorts)\n",
    "    \n",
    "    pipe.add(longs, 'longs')\n",
    "    pipe.add(shorts, 'shorts')\n",
    "    \n",
    "    return pipe\n",
    "\n"
   ]
  },
  {
   "cell_type": "code",
   "execution_count": null,
   "metadata": {},
   "outputs": [],
   "source": [
    "pipe = make_pipeline()\n",
    "results = run_pipeline(pipe, start_date=\"2017-11-1\", end_date=\"2017-11-15\")\n"
   ]
  },
  {
   "cell_type": "code",
   "execution_count": null,
   "metadata": {},
   "outputs": [],
   "source": [
    "## 毎月第一営業日　Open　minutes=30\n",
    "## leveraged_etf_list 以外\n",
    "\n",
    "output = results.ix[\"2017-11-1\"]\n",
    "ranks = output[\"combined_rank\"]\n",
    "long_ranks = ranks[output['longs']]\n",
    "short_ranks = ranks[output['shorts']]\n",
    "long_weights = long_ranks / long_ranks.sum()\n",
    "short_weights = short_ranks / short_ranks.sum()\n",
    "\n",
    "\n",
    "    "
   ]
  },
  {
   "cell_type": "code",
   "execution_count": null,
   "metadata": {},
   "outputs": [],
   "source": [
    "終焉output.sort_values(by=\"combined_rank\").head()"
   ]
  },
  {
   "cell_type": "code",
   "execution_count": null,
   "metadata": {},
   "outputs": [],
   "source": [
    "long_weights.head()"
   ]
  },
  {
   "cell_type": "code",
   "execution_count": null,
   "metadata": {},
   "outputs": [],
   "source": [
    "## どうやって30日のシミュレーションをReserchでやる？\n",
    "## (これはぱんだ問題)\n",
    "\n",
    "results.groupby(results.index.get_level_values(0).month)"
   ]
  },
  {
   "cell_type": "code",
   "execution_count": null,
   "metadata": {},
   "outputs": [],
   "source": [
    "long_weights\n",
    "df_long = get_pricing(long_weights.index, start_date=\"2017-11-1\", end_date=\"2017-11-30\", \n",
    "                      fields=\"price\", frequency=\"daily\")\n",
    "df_short = get_pricing(short_weights.index, start_date=\"2017-11-1\", end_date=\"2017-11-30\", \n",
    "                      fields=\"price\", frequency=\"daily\")"
   ]
  },
  {
   "cell_type": "code",
   "execution_count": null,
   "metadata": {},
   "outputs": [],
   "source": [
    "(df_long.pct_change().sum()*long_weights).sum(), (df_short.pct_change().sum()*short_weights).sum()"
   ]
  },
  {
   "cell_type": "code",
   "execution_count": null,
   "metadata": {},
   "outputs": [],
   "source": [
    "df_long.pct_change().sum().plot(kind=\"bar\")"
   ]
  },
  {
   "cell_type": "code",
   "execution_count": null,
   "metadata": {},
   "outputs": [],
   "source": [
    "df_short.pct_change().sum().plot(kind=\"bar\")"
   ]
  },
  {
   "cell_type": "code",
   "execution_count": null,
   "metadata": {},
   "outputs": [],
   "source": [
    "df_long.pct_change().sum().sort_values().head(10)"
   ]
  },
  {
   "cell_type": "code",
   "execution_count": null,
   "metadata": {},
   "outputs": [],
   "source": [
    "idx = pd.IndexSlice\n",
    "results.loc[idx[:,[symbols(\"KEM\")]],:]\n"
   ]
  }
 ],
 "metadata": {
  "kernelspec": {
   "display_name": "Python 2",
   "language": "python",
   "name": "python2"
  },
  "language_info": {
   "codemirror_mode": {
    "name": "ipython",
    "version": 2
   },
   "file_extension": ".py",
   "mimetype": "text/x-python",
   "name": "python",
   "nbconvert_exporter": "python",
   "pygments_lexer": "ipython2",
   "version": "2.7.12"
  }
 },
 "nbformat": 4,
 "nbformat_minor": 2
}
