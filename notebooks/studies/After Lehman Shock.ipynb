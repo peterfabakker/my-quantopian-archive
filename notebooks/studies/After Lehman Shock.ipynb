{
 "cells": [
  {
   "cell_type": "code",
   "execution_count": null,
   "metadata": {},
   "outputs": [],
   "source": [
    "# Import necessary Pipeline modules\n",
    "from quantopian.pipeline import Pipeline, CustomFactor\n",
    "from quantopian.research import run_pipeline\n",
    "from quantopian.pipeline.filters.morningstar import Q500US\n",
    "from quantopian.pipeline.factors import AverageDollarVolume, Latest,Returns\n",
    "from quantopian.pipeline.factors.morningstar import MarketCap\n",
    "from quantopian.pipeline.data.builtin import USEquityPricing\n",
    "from quantopian.pipeline.classifiers.morningstar import Sector\n",
    "from quantopian.pipeline.data import morningstar\n",
    "from quantopian.interactive.data.eventvestor import dividends_free  as dataset\n",
    "\n",
    "from zipline.utils.tradingcalendar import trading_day  \n",
    "import pandas as pd \n",
    "import numpy as np\n",
    "from odo import odo\n",
    "import matplotlib.pyplot as plt\n",
    "import matplotlib.cm as cm\n"
   ]
  },
  {
   "cell_type": "code",
   "execution_count": null,
   "metadata": {},
   "outputs": [],
   "source": [
    "# Leamanショック頃\n",
    "start = \"2008-9-29\"\n",
    "end = \"2009-3-10\"\n",
    "spy = get_pricing(\"spy\", start_date=start, end_date=end, fields='price', frequency='daily')\n",
    "research_start_date = spy.pct_change().sort_values().index[0].date()\n",
    "print \"SPYが一番ネガティブになった日： \", research_start_date\n",
    "research_end_date = pd.date_range(research_start_date, periods=30, freq=trading_day)[-1].date()\n",
    "print \"調査期間：%s ~ %s\" % (research_start_date, research_end_date)\n"
   ]
  },
  {
   "cell_type": "code",
   "execution_count": null,
   "metadata": {},
   "outputs": [],
   "source": [
    "class DividendYield(CustomFactor):  \n",
    "    \"\"\"  \n",
    "    Computes (or rather fetches) dividend yield\n",
    "    \"\"\"  \n",
    "    inputs = [morningstar.valuation_ratios.dividend_yield]\n",
    "    window_length = 1\n",
    "    \n",
    "    def compute(self, today, assets, out, dividend_yield):  \n",
    "        out[:] = dividend_yield \n",
    "        \n",
    "pipe = Pipeline()\n",
    "pipe.add(Returns(window_length=2), \"Returns\")\n",
    "pipe.add(USEquityPricing.close.latest, \"Latest\")\n",
    "pipe.add(MarketCap(), \"MarketCap\")\n",
    "pipe.add(Sector(), \"Sector\")\n",
    "pipe.add(morningstar.valuation_ratios.pe_ratio.latest , \"PER\")\n",
    "pipe.add(morningstar.valuation_ratios.book_value_yield.latest, \"PBR\") # 本当にPBRかどうか怪しいので確認\n",
    "pipe.add(DividendYield(), 'DividendYield')\n",
    "\n",
    "pipe.set_screen(Q500US())        "
   ]
  },
  {
   "cell_type": "code",
   "execution_count": null,
   "metadata": {},
   "outputs": [],
   "source": [
    "result = run_pipeline(pipe, research_start_date, research_end_date)"
   ]
  },
  {
   "cell_type": "code",
   "execution_count": null,
   "metadata": {},
   "outputs": [],
   "source": []
  },
  {
   "cell_type": "code",
   "execution_count": null,
   "metadata": {},
   "outputs": [],
   "source": [
    "returns = result.Returns\n",
    "sum_returns_by_asset = returns.reset_index().groupby(['level_1']).sum().sort_values(by='Returns', ascending=False)\n"
   ]
  },
  {
   "cell_type": "code",
   "execution_count": null,
   "metadata": {},
   "outputs": [],
   "source": [
    "sum_returns_by_asset.plot(kind='bar', legend=False)\n",
    "print \"調査期間でのSP500っぽい銘柄のReturn\"\n"
   ]
  },
  {
   "cell_type": "code",
   "execution_count": null,
   "metadata": {},
   "outputs": [],
   "source": [
    "print \"調査開始日から90営業日でReturnのCumsumがポジティブになったSP500銘柄数\", \n",
    "len(sum_returns_by_asset[sum_returns_by_asset.Returns > 0])"
   ]
  },
  {
   "cell_type": "code",
   "execution_count": null,
   "metadata": {},
   "outputs": [],
   "source": [
    "returns_by_sector = result[['Returns', 'Sector']]\n",
    "\n",
    "sector_mappings = {  \n",
    "   101.0: \"Basic Materials\",  \n",
    "   102.0: \"Consumer Cyclical\",  \n",
    "   103.0: \"Financial Services\",  \n",
    "   104.0: \"Real Estate\",  \n",
    "   205.0: \"Consumer Defensive\",  \n",
    "   206.0: \"Healthcare\",  \n",
    "   207.0: \"Utilites\",  \n",
    "   308.0: \"Communication Services\",  \n",
    "   309.0: \"Energy\",  \n",
    "   310.0: \"Industrials\",  \n",
    "   311.0: \"Technology\"  \n",
    "}  \n",
    "sum_returns_by_sector = returns_by_sector.reset_index().groupby(['level_1']).mean().groupby(['Sector']).mean().rename(index= sector_mappings)\n",
    "sum_returns_by_sector.sort_values(by='Returns', ascending=False).plot(kind='bar')\n",
    "plt.title(\"return by setcor\")\n"
   ]
  },
  {
   "cell_type": "code",
   "execution_count": null,
   "metadata": {},
   "outputs": [],
   "source": [
    "returns_by_sector[returns_by_sector.Sector==207].reset_index().groupby(\"level_1\").sum().sort_values(by=\"Returns\")['Returns'].plot(kind='bar')\n",
    "plt.title(\"Utilites setcors\")\n",
    "\n",
    "# for sid in returns_by_sector[returns_by_sector.Sector==207].reset_index().groupby(\"level_1\").sum().index:\n",
    "#     print sid, sid.security_name"
   ]
  },
  {
   "cell_type": "code",
   "execution_count": null,
   "metadata": {},
   "outputs": [],
   "source": [
    "returns_by_pbr = result[['Returns', 'PBR', 'Sector']]\n",
    "returns_by_pbr = returns_by_pbr.reset_index().groupby(['level_1']).mean()\n",
    "returns_by_pbr.plot(x='PBR', y='Returns', kind='scatter', c='Sector', cmap=cm.Reds)\n",
    "plt.title(\"PBR vs Returns\")"
   ]
  },
  {
   "cell_type": "code",
   "execution_count": null,
   "metadata": {},
   "outputs": [],
   "source": [
    "returns_by_per = result[['Returns', 'PER', 'DividendYield']]\n",
    "returns_by_per = returns_by_per.reset_index().groupby(['level_1']).mean()#.groupby(['Sector']).sum().rename(index= sector_mappings)\n",
    "ax = returns_by_per.plot(x='PER', y='Returns', kind='scatter')#, c='DividendYield', cmap=cm.Reds)\n",
    "\n",
    "plt.xlim(0, 30)\n",
    "plt.title(\"PER vs Return\")\n",
    "\n"
   ]
  },
  {
   "cell_type": "code",
   "execution_count": null,
   "metadata": {},
   "outputs": [],
   "source": [
    "\n",
    "return_by_dy = result[['Returns', 'DividendYield', 'PER']]\n",
    "return_by_dy = return_by_dy.reset_index().groupby(['level_1']).mean()\n",
    "\n",
    "return_by_dy.plot(x='DividendYield', y='Returns', kind='scatter',)\n",
    "                 #c = 'PER', cmap=cm.Reds)\n",
    "plt.title(\"Dividend Yield vs Returns\")\n",
    "\n",
    "\n"
   ]
  },
  {
   "cell_type": "code",
   "execution_count": null,
   "metadata": {},
   "outputs": [],
   "source": [
    "return_3 = result[['Returns', 'DividendYield', 'PER', \"PBR\", \"MarketCap\", ]]\n",
    "return_3 = return_3.reset_index().groupby(['level_1']).mean()\n",
    "\n",
    "fig = plt.figure()\n",
    "plt.subplots_adjust(left=None, bottom=None, right=None, top=None, wspace=0.2, hspace=0.4)\n",
    "\n",
    "\n",
    "ax = fig.add_subplot(1,4,1)\n",
    "ax.scatter(return_3.DividendYield, return_3.Returns)\n",
    "ax.set_title('Dividend')\n",
    "\n",
    "ax = fig.add_subplot(1,4,2)\n",
    "ax.scatter(return_3.PER, return_3.Returns)\n",
    "ax.set_title('PER')\n",
    "\n",
    "ax = fig.add_subplot(1,4,3)\n",
    "ax.scatter(return_3.PBR, return_3.Returns)\n",
    "ax.set_title('PBR')\n",
    "\n",
    "ax = fig.add_subplot(1,4,4)\n",
    "ax.scatter(return_3.PBR, return_3.Returns)\n",
    "ax.set_title('MarketCap')\n",
    "\n"
   ]
  },
  {
   "cell_type": "code",
   "execution_count": null,
   "metadata": {},
   "outputs": [],
   "source": [
    "df = return_3.sort_values(by = 'Returns', ascending=False)\n",
    "\n",
    "idx = pd.IndexSlice\n",
    "result.loc[idx[:, df[df.Returns > 0].index], \"Returns\"]\n",
    "\n",
    "df[df.Returns > 0]#.reset_index()\n",
    "\n",
    "\n"
   ]
  }
 ],
 "metadata": {
  "kernelspec": {
   "display_name": "Python 2",
   "language": "python",
   "name": "python2"
  },
  "language_info": {
   "codemirror_mode": {
    "name": "ipython",
    "version": 2
   },
   "file_extension": ".py",
   "mimetype": "text/x-python",
   "name": "python",
   "nbconvert_exporter": "python",
   "pygments_lexer": "ipython2",
   "version": "2.7.12"
  }
 },
 "nbformat": 4,
 "nbformat_minor": 2
}
