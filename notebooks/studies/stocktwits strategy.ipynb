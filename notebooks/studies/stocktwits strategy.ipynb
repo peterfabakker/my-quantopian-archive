{
 "cells": [
  {
   "cell_type": "code",
   "execution_count": null,
   "metadata": {},
   "outputs": [],
   "source": [
    "## https://www.quantopian.com/posts/the-social-media-trader-mood-series-introduction のお勉強\n",
    "\n",
    "# Importing Data\n",
    "from __future__ import division\n",
    "import numpy as np\n",
    "import pandas as pd\n",
    "import scipy as sp\n",
    "from scipy import stats\n",
    "import pyfolio as pf\n",
    "import matplotlib.pyplot as plt\n",
    "import seaborn as sns\n",
    "from quantopian.pipeline import Pipeline\n",
    "from quantopian.pipeline import CustomFactor\n",
    "from quantopian.research import run_pipeline\n",
    "from quantopian.pipeline.data import morningstar\n",
    "from quantopian.pipeline.data.builtin import USEquityPricing\n",
    "from quantopian.pipeline.factors import Latest\n",
    "from itertools import chain\n",
    "from datetime import date\n",
    "from blaze import by, merge\n",
    "from odo import odo\n",
    "from quantopian.pipeline.classifiers.morningstar import Sector\n",
    "\n",
    "import alphalens\n",
    "\n",
    "SECTOR_NAMES = {\n",
    " 101: 'Basic Materials',\n",
    " 102: 'Consumer Cyclical',\n",
    " 103: 'Financial Services',\n",
    " 104: 'Real Estate',\n",
    " 205: 'Consumer Defensive',\n",
    " 206: 'Healthcare',\n",
    " 207: 'Utilities',\n",
    " 308: 'Communication Services',\n",
    " 309: 'Energy',\n",
    " 310: 'Industrials',\n",
    " 311: 'Technology' ,\n",
    "}\n",
    "\n",
    "# Plotting colors\n",
    "c = \"#38BB86\"\n",
    "\n",
    "# Fundamentals for sector data\n",
    "fundamentals = init_fundamentals()\n",
    "\n",
    "# Importing our Data/Sample Version \n",
    "# PsychSignal's Twitter & StockTwits with Retweets sample is available from 24 Aug 2009 - 09 Jan 2016\n",
    "from quantopian.interactive.data.psychsignal import aggregated_twitter_withretweets_stocktwits_free as dataset\n",
    "# from quantopian.interactive.data.psychsignal import aggregated_twitter_withretweets_stocktwits as dataset\n",
    "\n",
    "\n",
    "import warnings\n",
    "warnings.filterwarnings('ignore')"
   ]
  },
  {
   "cell_type": "code",
   "execution_count": null,
   "metadata": {},
   "outputs": [],
   "source": [
    "len(dataset.symbol.distinct())"
   ]
  },
  {
   "cell_type": "code",
   "execution_count": null,
   "metadata": {},
   "outputs": [],
   "source": [
    "dataset[:3]"
   ]
  },
  {
   "cell_type": "markdown",
   "metadata": {},
   "source": [
    "- **asof_date**:データを追加した日(apply to: 充当する). この日付が，このデータの日付．\n",
    "- **symbol**: \n",
    "- **source**: (全部同じ)\n",
    "- **bull_scored_messages**: PSアルゴリズムがスコアリングしたブルメッセージの数\n",
    "- **bear_scored_messages**: PSアルゴリズムがスコアリングしたベアメッセージの数\n",
    "- **bullish_intensity**: 0-4でスコアリングされた，それぞれのMSGのbull度．4が一番ブルブル．4はほとんど出てこない\n",
    "- **bearish_intensity**: 0-4でスコアリングされた，それぞれのMSGのbear度．4が一番ベアベア．4はほとんど出てこない\n",
    "- **total_scanned_messages**: PSに流されてきたmsgの数．PSのアルゴに組み入れられたかどうかは関係なしにすべてのかず\n",
    "- **timestamp**: PS側でデータを記録した時間\n",
    "- **bull_minus_bear**: [BULL - BEAR] 度．\n",
    "- **bull_bear_msg_ratio**: bull bear メッセージ比率\n",
    "- **sid**: \n"
   ]
  },
  {
   "cell_type": "code",
   "execution_count": null,
   "metadata": {},
   "outputs": [],
   "source": [
    "aaple = dataset[dataset.symbol == \"XIV\"]\n",
    "aaple"
   ]
  },
  {
   "cell_type": "code",
   "execution_count": null,
   "metadata": {},
   "outputs": [],
   "source": [
    "# historically にアップルのブルメッセージの数を点で表現\n",
    "df_aaple = odo(aaple.sort('asof_date'), pd.DataFrame)\n",
    "plt.plot(df_aaple.asof_date, df_aaple.bull_scored_messages, marker='.', linestyle='None', color='r')\n",
    "\n",
    "#30日の平均\n",
    "plt.plot(df_aaple.asof_date, df_aaple.bull_scored_messages.rolling(window=30,center=False).mean())\n",
    "\n",
    "ax = plt.twinx() \n",
    "price = get_pricing(\"XIV\", start_date=df_aaple.asof_date.iloc[0],  end_date=df_aaple.asof_date.iloc[-1], fields='price')\n",
    "ax.plot(price)"
   ]
  },
  {
   "cell_type": "code",
   "execution_count": null,
   "metadata": {},
   "outputs": [],
   "source": [
    "df_aaple.asof_date.iloc[-1]"
   ]
  },
  {
   "cell_type": "code",
   "execution_count": null,
   "metadata": {},
   "outputs": [],
   "source": []
  },
  {
   "cell_type": "code",
   "execution_count": null,
   "metadata": {},
   "outputs": [],
   "source": [
    "from quantopian.pipeline import Pipeline, CustomFactor\n",
    "from quantopian.research import run_pipeline\n",
    "from quantopian.pipeline.factors import AverageDollarVolume, SimpleMovingAverage, Returns, Latest\n",
    "from quantopian.pipeline.filters import Q500US, StaticAssets\n",
    "from quantopian.interactive.data.quandl import yahoo_index_vix\n",
    "from quantopian.pipeline.filters import StaticAssets\n",
    "from quantopian.pipeline.data.builtin import USEquityPricing\n",
    "from quantopian.pipeline.classifiers.morningstar import Sector\n",
    "\n",
    "\n",
    "# PIPELINE を使うとき\n",
    "from quantopian.pipeline.data.psychsignal import stocktwits_free as st\n",
    "\n",
    "from zipline.utils.tradingcalendar import trading_day  \n",
    "from pandas import date_range \n",
    "import pandas as pd\n",
    "from scipy import stats\n",
    "\n",
    "import numpy as np\n",
    "import matplotlib.pyplot as plt\n",
    "\n",
    "class CloseOnN(CustomFactor):  \n",
    "    # Define inputs\n",
    "    inputs = [USEquityPricing.close]\n",
    "    window_length = 2 \n",
    "    \n",
    "    def compute(self, today, assets, out, close):  \n",
    "        out[:] = close[0]\n",
    "\n",
    "class MassageMA(CustomFactor):\n",
    "    inputs = [st.total_scanned_messages]\n",
    "    window_length = 10\n",
    "    \n",
    "    def compute(self, today, assets, out, msgs):  \n",
    "        out[:] = msgs.mean()\n",
    "    \n",
    "\n"
   ]
  },
  {
   "cell_type": "code",
   "execution_count": null,
   "metadata": {},
   "outputs": [],
   "source": [
    "def my_pipe(asset_list):\n",
    "    pipe = Pipeline()\n",
    "    sma_10 = SimpleMovingAverage(inputs = [USEquityPricing.close], window_length=10)\n",
    "    sma_50 = SimpleMovingAverage(inputs = [USEquityPricing.close], window_length=50)\n",
    "\n",
    "    close = Latest(inputs = [USEquityPricing.close])\n",
    "    close_1 = CloseOnN(window_length = 1)\n",
    "    close_2 = CloseOnN(window_length = 2)\n",
    "    close_3 = CloseOnN(window_length = 3)\n",
    "    close_4 = CloseOnN(window_length = 4)\n",
    "    close_5 = CloseOnN(window_length = 5)\n",
    "\n",
    "    pipe.add(st.bull_bear_msg_ratio .latest, 'bull_bear_msg_ratio')\n",
    "    pipe.add(st.bull_scored_messages .latest, 'bull_scored_messages')\n",
    "    pipe.add(st.bear_scored_messages .latest, 'bear_scored_messages')\n",
    "    pipe.add(st.total_scanned_messages .latest, 'total_scanned_messages')\n",
    "    pipe.add(st.bearish_intensity .latest, 'bearish_intensity')\n",
    "    pipe.add(st.bullish_intensity .latest, 'bullish_intensity')\n",
    "\n",
    "    pipe.add(sma_10, \"sma_10\")\n",
    "    pipe.add(sma_50, \"sma_50\")\n",
    "    pipe.add(close, \"close\")\n",
    "\n",
    "    pipe.add(close_1, 'close_1')\n",
    "    pipe.add(close_2, 'close_2')\n",
    "    pipe.add(close_3, 'close_3')\n",
    "    pipe.add(close_4, 'close_4')\n",
    "    pipe.add(close_5, 'close_5')\n",
    "    pipe.add(Sector(), \"Sector\")\n",
    "\n",
    "#     myasset = StaticAssets(symbols(['AAPL', 'XLK']))\n",
    "#     myasset = StaticAssets(symbols(asset_list))\n",
    "    mymask = st.bull_bear_msg_ratio.latest > 1/0.35\n",
    "    pipe.set_screen(\n",
    "#         myasset\n",
    "         Q500US()\n",
    "#         & mymask\n",
    "#         & (sma_10 > sma_50) \n",
    "    #     & (st.bear_scored_messages.latest > 10)\n",
    "    #     & (st.bull_bear_msg_ratio.latest > 1.0 / 0.35)\n",
    "    )\n",
    "    return pipe\n",
    "\n",
    "def run_my_pipe(pipe, start, end):\n",
    "    print \"pipeline outputting... \"\n",
    "    pipe_output = run_pipeline(pipe, start_date=start, end_date=end)\n",
    "#     print \"making dataframe for messages ,,,\"\n",
    "#     dates = pipe_output.index.get_level_values(0).unique()\n",
    "#     dates = dates.tz_localize(None)\n",
    "    return pipe_output\n",
    "\n",
    "def to_panel(pipe_output):\n",
    "    pan = pipe_output.to_panel()\n",
    "    pan = pan.rename(minor_axis=dict([(x,x.symbol) for x in pan.minor_axis]))\n",
    "    return pan \n",
    "    \n",
    "def ln_price_change(pan, n):\n",
    "    df_close = pan.close \n",
    "    df = df_close.divide(df_close.shift(n)).apply(np.log)\n",
    "    return df\n",
    "\n",
    "def asset_etf_msg_ratio(pan, asset, etf):\n",
    "    df_msg = pan.total_scanned_messages\n",
    "    s_msg_ratio = df_msg[asset].apply(np.log) - df_msg[etf].apply(np.log) \n",
    "    return s_msg_ratio\n",
    "\n",
    "######### \n",
    "\n",
    "def make_data(asset_list):\n",
    "    pipe = my_pipe(asset_list)\n",
    "    pipe_output = run_my_pipe(pipe, \"2015-1-1\", \"2017-8-18\")\n",
    "    pan = to_panel(pipe_output)\n",
    "    print(\"make data done\")\n",
    "    return pan\n",
    "\n",
    "def plot(pan, asset, etf, n ):\n",
    "    print \"plotting %s and %s\" % (asset, etf)\n",
    "    df_change = ln_price_change(pan, n)\n",
    "    s_asset_etf_msg_ratio = asset_etf_msg_ratio(pan,  asset, etf)\n",
    "    df_change[\"msg_ratio\"] = s_asset_etf_msg_ratio   \n",
    "    df_change[\"msg_ratio_shift\"] = df_change[\"msg_ratio\"].shift(n)\n",
    "    ax = df_change.plot(kind='scatter', x=\"msg_ratio_shift\", y=asset)\n",
    "    ax.set_title( \"plotting %s / %s\" % (asset, etf))\n",
    "\n",
    "######### \n",
    "\n",
    "# pan = make_data([\n",
    "#     \"AAPL\", \"MSFT\", \"FB\", \"XLK\", \"QQQ\", \"VGT\",\"CSCO\",'ORCL',\"IBM\", \"AMZN\", \n",
    "#                  \"JPM\", \"WFC\", \"BAC\", \"XLF\",\n",
    "#                  \"XLE\",\"XOM\",\"CVX\", \"SLB\",\"COP\",\"EOG\",\"OXY\",\n",
    "#                  \"XBI\",\"KITE\",\"EXEL\",\"ALXN\",\"VRTX\",\"GILD\",\"BBH\",\"AMGN\", \"CELG\", \"AGN\", \"REGN\"\n",
    "                #\"XLY\", \"CMCS\", \"HD\",\"DIS\",\"MCD\",\"PCLN\",\"SBUX\",\"NFLX\",\"NKE\",\n",
    "#     \"XLV\", \"JNJ\", \"PFE\", \"UNH\", \"MRK\", \"AMGN\", \"ABBV\",\n",
    "#     \"XLI\", \"GE\", \"BA\", \"MMM\", \"HON\", \"UNP\", \"UTX\", \"LMT\", \"UPS\", \"CAT\",\"ITW\",\n",
    "#     \"XLU\", \"NEE\",\"DUK\",\n",
    "    \n",
    "#                 ]) \n",
    "\n",
    "# plot(pan, \"NEE\", \"XLU\", 4 )\n",
    "# plot(pan, \"DUK\", \"XLU\", 4 )\n"
   ]
  },
  {
   "cell_type": "code",
   "execution_count": null,
   "metadata": {},
   "outputs": [],
   "source": [
    "pipe = my_pipe([])\n",
    "results = run_pipeline(pipe, '2015-1-1', '2017-1-11')"
   ]
  },
  {
   "cell_type": "code",
   "execution_count": null,
   "metadata": {},
   "outputs": [],
   "source": [
    "len(results[results[\"Sector\"] == 206].index.get_level_values(1).unique())\n"
   ]
  },
  {
   "cell_type": "code",
   "execution_count": null,
   "metadata": {},
   "outputs": [],
   "source": [
    "idx = pd.IndexSlice\n",
    "clm = \"bull_bear_msg_ratio\"\n",
    "sector = 206\n",
    "targets = results[results[\"Sector\"] == sector].index.get_level_values(1).unique()[:20]\n",
    "num = len(targets)\n",
    "print num\n",
    "xs = 20\n",
    "ys = 5 #int(num/20)+1\n",
    "fig = plt.figure(figsize=(10,10))\n",
    "\n",
    "\n",
    "for i, sym in enumerate(targets ):\n",
    "    df = results.loc[idx[:, [sym]], :]\n",
    "    msg_mean = df[clm].mean()\n",
    "    df[\"zscore\"] = stats.zscore(df[clm])\n",
    "    df[\"SMA\"] =df[clm].rolling(window=30,center=False).mean() \n",
    "    df[\"STD\"] =  df[clm].rolling(window=30,center=False).std()\n",
    "    df[\"Mzscore\"] = (df[clm] - df[\"SMA\"] ) / df[\"STD\"]\n",
    "    df[\"Return\"] = df.close.pct_change()\n",
    "    x = i % xs\n",
    "    y = int(i/xs)+ys\n",
    "    \n",
    "    ax = fig.add_subplot(xs, ys, i+1)\n",
    "    ax.set_title(sym.symbol)\n",
    "    ax.scatter(\n",
    "        df[\"Mzscore\"],\n",
    "        df[\"Return\"],\n",
    "        alpha=0.3)\n",
    "\n"
   ]
  },
  {
   "cell_type": "code",
   "execution_count": null,
   "metadata": {},
   "outputs": [],
   "source": [
    "ticker = results.index.levels[1].unique()\n",
    "pricing = get_pricing(ticker, start_date='2015-1-1', end_date='2017-9-1', fields='open_price')"
   ]
  },
  {
   "cell_type": "code",
   "execution_count": null,
   "metadata": {},
   "outputs": [],
   "source": [
    "factor_data = alphalens.utils.get_clean_factor_and_forward_returns(results['bull_bear_msg_ratio'],\n",
    "                                                                   pricing, \n",
    "                                                                   quantiles = None, \n",
    "                                                                   bins=5,\n",
    "                                                                   groupby = results['Sector'],\n",
    "                                                                \n",
    "                                                                  )\n"
   ]
  },
  {
   "cell_type": "code",
   "execution_count": null,
   "metadata": {},
   "outputs": [],
   "source": [
    "# alphalens.tears.create_full_tear_sheet(factor_data)\n",
    "factor_data.head()"
   ]
  },
  {
   "cell_type": "code",
   "execution_count": null,
   "metadata": {},
   "outputs": [],
   "source": [
    "mean_return_by_q, std_err = alphalens.performance.mean_return_by_quantile(factor_data,  by_group=True)\n"
   ]
  },
  {
   "cell_type": "code",
   "execution_count": null,
   "metadata": {},
   "outputs": [],
   "source": [
    "alphalens.plotting.plot_quantile_returns_bar(mean_return_by_q,  by_group=True)"
   ]
  },
  {
   "cell_type": "code",
   "execution_count": null,
   "metadata": {},
   "outputs": [],
   "source": [
    "mean_return_by_q_daily, std_err = alphalens.performance.mean_return_by_quantile(factor_data, by_date=True)\n",
    "alphalens.plotting.plot_quantile_returns_violin(mean_return_by_q_daily,)"
   ]
  },
  {
   "cell_type": "code",
   "execution_count": null,
   "metadata": {},
   "outputs": [],
   "source": [
    "alpha_beta = alphalens.performance.factor_alpha_beta(factor_data)\n",
    "alpha_beta"
   ]
  }
 ],
 "metadata": {
  "kernelspec": {
   "display_name": "Python 2",
   "language": "python",
   "name": "python2"
  },
  "language_info": {
   "codemirror_mode": {
    "name": "ipython",
    "version": 2
   },
   "file_extension": ".py",
   "mimetype": "text/x-python",
   "name": "python",
   "nbconvert_exporter": "python",
   "pygments_lexer": "ipython2",
   "version": "2.7.12"
  }
 },
 "nbformat": 4,
 "nbformat_minor": 2
}
