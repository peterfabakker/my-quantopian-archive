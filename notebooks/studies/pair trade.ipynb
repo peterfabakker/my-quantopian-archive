{
 "cells": [
  {
   "cell_type": "code",
   "execution_count": null,
   "metadata": {},
   "outputs": [],
   "source": [
    "import numpy as np\n",
    "import pandas as pd \n",
    "import statsmodels \n",
    "from statsmodels.tsa.stattools import coint \n",
    "\n",
    "import matplotlib.pyplot as plt \n"
   ]
  },
  {
   "cell_type": "code",
   "execution_count": null,
   "metadata": {},
   "outputs": [],
   "source": [
    "pan = get_pricing([\"cx\",\"amx\"], start_date='2015-01-03', end_date='2016-01-03')\n",
    "#abx = get_pricing(\"ABX\", start_date='2015-01-03', end_date='2016-01-03')\n"
   ]
  },
  {
   "cell_type": "code",
   "execution_count": null,
   "metadata": {},
   "outputs": [],
   "source": [
    "pan['close_price'].plot()"
   ]
  },
  {
   "cell_type": "code",
   "execution_count": null,
   "metadata": {},
   "outputs": [],
   "source": [
    "df = pan['close_price'].copy()"
   ]
  },
  {
   "cell_type": "code",
   "execution_count": null,
   "metadata": {},
   "outputs": [],
   "source": [
    "df['DIFF'] = df[symbols('cx')] / df[symbols('amx')] - 1 "
   ]
  },
  {
   "cell_type": "code",
   "execution_count": null,
   "metadata": {},
   "outputs": [],
   "source": [
    "df.DIFF.plot()\n",
    "plt.axhline(df.DIFF.mean(), color='red', linestyle='--') \n"
   ]
  },
  {
   "cell_type": "code",
   "execution_count": null,
   "metadata": {},
   "outputs": [],
   "source": [
    "score, pvalue, _ = coint(df[symbols('cx')] , df[symbols('amx')])"
   ]
  },
  {
   "cell_type": "code",
   "execution_count": null,
   "metadata": {},
   "outputs": [],
   "source": [
    "pvalue"
   ]
  },
  {
   "cell_type": "code",
   "execution_count": null,
   "metadata": {},
   "outputs": [],
   "source": [
    "df.rename(columns = {symbols('GDX'): 'GDX', symbols('ABX'): 'ABX'}, inplace=True)"
   ]
  },
  {
   "cell_type": "code",
   "execution_count": null,
   "metadata": {},
   "outputs": [],
   "source": [
    "df['GDX_Return'] = df.GDX.pct_change()\n",
    "df['ABX_Return'] = df.ABX.pct_change()\n"
   ]
  },
  {
   "cell_type": "code",
   "execution_count": null,
   "metadata": {},
   "outputs": [],
   "source": [
    "pd.concat([df.GDX_Return.cumsum(), df.ABX_Return.cumsum(),], axis=1).plot()"
   ]
  },
  {
   "cell_type": "code",
   "execution_count": null,
   "metadata": {},
   "outputs": [],
   "source": [
    "df.GDX_Return.cumsum().corr(df.ABX_Return.cumsum())\n"
   ]
  },
  {
   "cell_type": "code",
   "execution_count": null,
   "metadata": {},
   "outputs": [],
   "source": [
    "score, pvalue, _ = coint(df.GDX_Return.cumsum().dropna(), df.ABX_Return.cumsum().dropna())\n",
    "pvalue"
   ]
  },
  {
   "cell_type": "code",
   "execution_count": null,
   "metadata": {},
   "outputs": [],
   "source": [
    "pan_solar = get_pricing([\"EWA\",\"EWC\"], start_date='2014-01-03', end_date='2015-01-03')\n",
    "pan_solar.minor_axis = map(lambda x: x.symbol, pan_solar.minor_axis)\n",
    "pan_solar\n"
   ]
  },
  {
   "cell_type": "code",
   "execution_count": null,
   "metadata": {},
   "outputs": [],
   "source": [
    "def zscore(series):\n",
    "    return (series - series.mean()) / np.std(series)\n",
    "\n",
    "close_price = pan_solar['close_price'].copy()\n",
    "close_price['diff'] = close_price.EWA / close_price.EWC - 1\n",
    "close_price['mean'] = close_price['diff'].mean()\n",
    "close_price = close_price.dropna()\n",
    "close_price['zscore'] = zscore(close_price['diff'])\n",
    "\n",
    "close_price[['EWA', 'EWC', 'zscore']].plot(secondary_y=['zscore'])\n",
    "#close_price['diff'].plot().axhline(diff.mean())\n",
    "#score, pvalue, _ = coint(close_price.ABGB,close_price.FSLR)\n"
   ]
  },
  {
   "cell_type": "code",
   "execution_count": null,
   "metadata": {},
   "outputs": [],
   "source": [
    "pvalue"
   ]
  }
 ],
 "metadata": {
  "kernelspec": {
   "display_name": "Python 2",
   "language": "python",
   "name": "python2"
  },
  "language_info": {
   "codemirror_mode": {
    "name": "ipython",
    "version": 2
   },
   "file_extension": ".py",
   "mimetype": "text/x-python",
   "name": "python",
   "nbconvert_exporter": "python",
   "pygments_lexer": "ipython2",
   "version": "2.7.12"
  }
 },
 "nbformat": 4,
 "nbformat_minor": 2
}
