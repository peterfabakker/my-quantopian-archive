{
 "cells": [
  {
   "cell_type": "code",
   "execution_count": null,
   "metadata": {},
   "outputs": [],
   "source": [
    "from quantopian.pipeline.data.builtin import USEquityPricing\n",
    "from quantopian.research import run_pipeline\n",
    "from quantopian.pipeline import Pipeline,CustomFilter\n",
    "from quantopian.pipeline.factors import CustomFactor\n",
    "from quantopian.pipeline.filters import Q500US\n",
    "import numpy as np\n",
    "import pandas as pd \n",
    "import datetime \n",
    "\n",
    "from __future__ import division\n",
    "\n",
    "from quantopian.pipeline.experimental import QTradableStocksUS"
   ]
  },
  {
   "cell_type": "markdown",
   "metadata": {},
   "source": [
    "## High Low Ratio \n",
    "\n",
    "+ 過去２５２日（一年）で、今日の価格が一番高い銘柄数と今日の価格が一番安い銘柄数の割合を出したもの\n",
    "+ 詳しくはこのあたりを見てください。[New 52-week Highs and Lows [ChartSchool]](https://stockcharts.com/school/doku.php?id=chart_school:index_symbols:52_week_high_low)\n",
    "+ 数字が高ければ、市場がイケイケドンドン＼(^o^)／\n",
    "+ 数字が低ければ、(((( ;ﾟдﾟ))))ｱﾜﾜﾜﾜ\n",
    "+ と考えることができるかもしれない、という指標です\n",
    "\n",
    "## QTradableStocksUS\n",
    "\n",
    "銘柄はQuantopianが作った `QTradableStocksUS()` を使います。詳しくは、[こちら](https://www.quantopian.com/help#built-in-filters)\n",
    "\n",
    "\n",
    "\n"
   ]
  },
  {
   "cell_type": "code",
   "execution_count": null,
   "metadata": {},
   "outputs": [],
   "source": [
    "from quantopian.pipeline.experimental import QTradableStocksUS\n",
    "from quantopian.pipeline.data.builtin import USEquityPricing\n",
    "from quantopian.pipeline.factors import CustomFactor\n",
    "from quantopian.research import run_pipeline\n",
    "\n",
    "import numpy as np\n",
    "\n",
    "class isHighToday(CustomFactor):\n",
    "    inputs = [USEquityPricing.high]\n",
    "    window_length = 252\n",
    "    def compute(self, today, asset_ids, out, values): \n",
    "        max_values = np.nanmax(values,axis=0)\n",
    "        high_252 = max_values  == values[-1]\n",
    "        out[:] =  high_252\n",
    "        \n",
    "class isLowToday(CustomFactor):\n",
    "    inputs = [USEquityPricing.low]\n",
    "    window_length = 252\n",
    "    def compute(self, today, asset_ids, out, values): \n",
    "        min_values = np.nanmin(values,axis=0)\n",
    "        low_252 = min_values == values[-1]\n",
    "        out[:] = low_252\n",
    "        \n",
    "\n",
    "        \n",
    "def make_pipeline1():\n",
    "    base_universe = QTradableStocksUS()\n",
    "    pipe = Pipeline()\n",
    "    pipe.add(isHighToday(), \"isHighToday\")\n",
    "    pipe.add(isLowToday(), \"isLowToday\")\n",
    "    pipe.set_screen(base_universe)\n",
    "    return pipe\n",
    "\n",
    "start_date = '2017-01-01'\n",
    "end_date = '2018-10-05'\n",
    "results = run_pipeline(make_pipeline1(), \n",
    "                       start_date=start_date, \n",
    "                       end_date = end_date )\n",
    "\n",
    "highlows = results.groupby(level=0)[[\"isHighToday\", \"isLowToday\"]].sum()\n",
    "highlows[\"high_low_ratio\"] = highlows[\"isHighToday\"] / ( highlows[\"isHighToday\"] +  highlows[\"isLowToday\"])\n",
    "highlows[\"high_low_ratio_ma10\"] = highlows[\"high_low_ratio\"].rolling(10).mean()\n",
    "\n",
    "spy = get_pricing(\"SPY\", start_date=start_date,end_date= end_date, fields='price')\n",
    "highlows[\"spy\"] = spy\n",
    "highlows[[\"high_low_ratio_ma10\", \"spy\"]].plot(secondary_y = \"spy\")\n",
    "highlows[\"high_low_ratio_ma10\"][-1]"
   ]
  },
  {
   "cell_type": "code",
   "execution_count": null,
   "metadata": {},
   "outputs": [],
   "source": []
  }
 ],
 "metadata": {
  "kernelspec": {
   "display_name": "Python 2",
   "language": "python",
   "name": "python2"
  },
  "language_info": {
   "codemirror_mode": {
    "name": "ipython",
    "version": 2
   },
   "file_extension": ".py",
   "mimetype": "text/x-python",
   "name": "python",
   "nbconvert_exporter": "python",
   "pygments_lexer": "ipython2",
   "version": "2.7.12"
  }
 },
 "nbformat": 4,
 "nbformat_minor": 2
}
