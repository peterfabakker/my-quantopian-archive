{
 "cells": [
  {
   "cell_type": "markdown",
   "metadata": {},
   "source": [
    "[Try this strategy: One stock per week - MarketWatch](urn:publicid:mw_461:281474978891724 \"Try this strategy: One stock per week - MarketWatch\")\n",
    "\n",
    "+ Avoid penny stocks.\n",
    "+ Avoid stocks over 100.\n",
    "+ All stocks should be highly liquid.\n",
    "+ We prefer large cap stocks (they move with the market).\n",
    "+ Avoid stocks reporting earnings in the week ahead.\n",
    "+ Do not trade stocks expecting other important news (not always possible).\n",
    "+ Our model portfolio is 50K + margin.\n",
    "\n",
    "\n"
   ]
  },
  {
   "cell_type": "code",
   "execution_count": null,
   "metadata": {},
   "outputs": [],
   "source": [
    "from __future__ import division\n",
    "\n",
    "from quantopian.pipeline import Pipeline\n",
    "from quantopian.pipeline.data.builtin import USEquityPricing\n",
    "from quantopian.pipeline.filters import Q1500US,Q500US,default_us_equity_universe_mask,make_us_equity_universe\n",
    "from quantopian.pipeline.factors import Returns, SimpleMovingAverage, AverageDollarVolume,CustomFactor\n",
    "from quantopian.pipeline.classifiers.morningstar import Sector\n",
    "import pandas as pd \n",
    "\n",
    "from quantopian.research import run_pipeline"
   ]
  },
  {
   "cell_type": "code",
   "execution_count": null,
   "metadata": {},
   "outputs": [],
   "source": [
    "class CloseOnN(CustomFactor): \n",
    "    # Define inputs\n",
    "    inputs = [USEquityPricing.close]\n",
    "    window_length = 2 \n",
    "    def compute(self, today, assets, out, close): \n",
    "        out[:] = close[0]\n",
    "\n",
    "\n",
    "def make_pipeline():\n",
    "    base_universe = Q500US()\n",
    "\n",
    "    # 一週間のリターンをとりあえず過去５日間のリターンと考える\n",
    "    # 本当は，休日の事も考えなくては行けないが，とりあえず決め打ち．\n",
    "    fiveday_return = Returns(window_length=5) \n",
    "    tenday_return = Returns(window_length=10)     \n",
    "    close = USEquityPricing.close.latest \n",
    "    close_5daysbefore = CloseOnN(window_length=5)\n",
    "    close_10daysbefore = CloseOnN(window_length=10)\n",
    "    \n",
    "    # 過去30日の移動平均を取得\n",
    "    sma30 = SimpleMovingAverage(inputs=[USEquityPricing.close], window_length=30)\n",
    "    # 移動平均が10ドル以上\n",
    "    remove_penny_stocks = sma30 > 10.0\n",
    "    # 過去30日の売買高\n",
    "    dollar_volume = AverageDollarVolume(window_length=30)\n",
    "    # 上位１０％だけを対象\n",
    "    high_dollar_volume = dollar_volume.percentile_between(90, 100)\n",
    "    \n",
    "    pipe = Pipeline(\n",
    "        screen=base_universe & remove_penny_stocks & high_dollar_volume,\n",
    "        columns={\n",
    "            'fiveday_return': fiveday_return,\n",
    "            'tenday_return': tenday_return,\n",
    "            'close':close, \n",
    "            'close_5daysbefore':close_5daysbefore,\n",
    "            'close_10daysbefore':close_10daysbefore\n",
    "        }\n",
    "    )\n",
    "    return pipe\n"
   ]
  },
  {
   "cell_type": "code",
   "execution_count": null,
   "metadata": {},
   "outputs": [],
   "source": [
    "pipe = run_pipeline(make_pipeline(), start_date=\"2016-1-1\", end_date=\"2018-1-1\")"
   ]
  },
  {
   "cell_type": "code",
   "execution_count": null,
   "metadata": {},
   "outputs": [],
   "source": [
    "# ## 5日前のリターンと5日後のリターンの関係を見る\n",
    "# idx = pd.IndexSlice\n",
    "# pipe.loc[idx[:,[symbols(\"AAPL\")]],:]\n",
    "\n",
    "df = pipe.reset_index()\n",
    "df = df.set_index(\"level_0\").drop(\"level_0\")\n",
    "df[\"hoge\"] = df.fiveday_return - df.tenday_return"
   ]
  },
  {
   "cell_type": "code",
   "execution_count": null,
   "metadata": {},
   "outputs": [],
   "source": [
    "df[df.index.weekday == 4].plot(x=\"hoge\",y=\"fiveday_return\", kind=\"scatter\", xlim=(-1.0,-0.05))\n"
   ]
  }
 ],
 "metadata": {
  "kernelspec": {
   "display_name": "Python 2",
   "language": "python",
   "name": "python2"
  },
  "language_info": {
   "codemirror_mode": {
    "name": "ipython",
    "version": 2
   },
   "file_extension": ".py",
   "mimetype": "text/x-python",
   "name": "python",
   "nbconvert_exporter": "python",
   "pygments_lexer": "ipython2",
   "version": "2.7.12"
  }
 },
 "nbformat": 4,
 "nbformat_minor": 2
}
