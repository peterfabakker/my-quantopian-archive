{
 "cells": [
  {
   "cell_type": "markdown",
   "metadata": {},
   "source": [
    "# ストラテジー\n",
    "+ 前日の終値から大きく下げて始まった場合、前日の終値までギャップを埋める\n",
    "+ ギャップは、20ポイント〜50ポイント\n",
    "+ <font color=red>【？】</font>取引は寄り付き5分後\n",
    "+ [Day Trading Strategy | A Simple Strategy to Day Trade The Markets: The Opening Gap](http://www.leadingtrader.com/10/day-trading-strategy-a-simple-strategy-to-day-trade-the-markets-the-opening-gap/)\n",
    "\n"
   ]
  },
  {
   "cell_type": "code",
   "execution_count": null,
   "metadata": {},
   "outputs": [],
   "source": [
    "from quantopian.pipeline.data.builtin import USEquityPricing\n",
    "from quantopian.pipeline.factors import SimpleMovingAverage\n",
    "from quantopian.research import run_pipeline\n",
    "from quantopian.pipeline import Pipeline,CustomFilter\n",
    "from quantopian.pipeline.factors import CustomFactor,RSI\n",
    "from quantopian.pipeline.data import morningstar\n",
    "from zipline import TradingAlgorithm  \n",
    "from quantopian.pipeline.filters import Q1500US\n",
    "from quantopian.pipeline.factors import AverageDollarVolume\n",
    "import numpy as np\n",
    "import talib \n",
    "import pandas as pd "
   ]
  },
  {
   "cell_type": "markdown",
   "metadata": {},
   "source": [
    "### ToDo\n",
    "\n",
    "チェック|Todo|結果|メモ\n",
    "---|---|---|---\n",
    "|GapDownして最初の5分で⇑⇓に動く銘柄の特徴||\n",
    "✓|前日の出来高と最初の一分の出来高を比較してその後の動き|[結果](https://www.evernote.com/view/notebook/122f9aca-9772-4953-80af-81b53134f10f?locale=ja#b=177d468e-bf46-408c-8f29-97655b654be5&st=p&n=122f9aca-9772-4953-80af-81b53134f10f)は良さそう|\n",
    "|dollar_volume.percentile_betweenを色々変えてみる||\n",
    "|GapDownの絶対値で評価．-1％以下等||\n",
    "✓|rsi_under_60 = rsi < 60|不必要なフィルター|\n"
   ]
  },
  {
   "cell_type": "code",
   "execution_count": null,
   "metadata": {},
   "outputs": [],
   "source": [
    "\n",
    "class Gap(CustomFactor):\n",
    "    inputs = [USEquityPricing.open, USEquityPricing.close]\n",
    "    window_length = 2\n",
    "    def compute(self, today, assets, out, open_price, close):\n",
    "        out[:] = open_price[-1] / close[-2] - 1 \n",
    "        \n",
    "class PrevClose(CustomFactor):\n",
    "    inputs = [USEquityPricing.close]\n",
    "    window_length = 2\n",
    "    def compute(self, today, assets, out, close):\n",
    "        out[:] = close[-2]\n",
    "        \n",
    "class PrevVolume(CustomFactor):\n",
    "    inputs = [USEquityPricing.volume]\n",
    "    window_length = 2\n",
    "    def compute(self, today, assets, out, close):\n",
    "        out[:] = close[-2]\n",
    "        \n",
    "def make_pipeline():\n",
    "    base_universe = Q1500US()\n",
    "    yesterday_close = PrevClose()\n",
    "    yesterday_volume = PrevVolume()\n",
    "    today_open = USEquityPricing.open\n",
    "    dollar_volume = AverageDollarVolume(window_length=30)\n",
    "    # rsi = RSI()#default window_length = 15\n",
    "    # rsi_under_60 = rsi < 60\n",
    "    ## gap = today_open / yesterday_close - 1 では出来ない．\n",
    "    ## TypeError: unsupported operand type(s) for /: 'BoundColumn' and 'BoundColumn'\n",
    "    # gap = Gap()\n",
    "    \n",
    "    #ToDo この範囲を色々変えてみる．\n",
    "    high_dollar_volume = dollar_volume.percentile_between(98, 100)\n",
    "    pipe = Pipeline(\n",
    "        \n",
    "        columns = {\n",
    "            'yesterday_close': yesterday_close,\n",
    "            'yesterday_volume': yesterday_volume,\n",
    "            'yesterday_turnover': yesterday_close * yesterday_volume,\n",
    "#             'today_open': today_open.latest, \n",
    "            'dollar_volume': dollar_volume,\n",
    "            'high_dollar_volume': high_dollar_volume, \n",
    "#             'gap': gap, \n",
    "#             'rsi': rsi, \n",
    "        },\n",
    "        screen = base_universe & high_dollar_volume #& rsi_under_60\n",
    "        \n",
    "    )\n",
    "    return pipe\n",
    "\n",
    "\n",
    "def check_gdgu(context, data):\n",
    "    context.output = pipeline_output('pipe')\n",
    "    context.security_list = context.output.index\n",
    "    \n",
    "    # GUGD sid_list\n",
    "    context.gapdowns = context.output.sort_values(by='gap').head(5).index\n",
    "    context.gapups =  context.output.sort_values(by='gap').tail(5).index\n",
    "    \n",
    "def gapdown_minutes_data(results):\n",
    "    '''\n",
    "    results: run_pipelineの返り値\n",
    "    '''\n",
    "    d = dict() ## gapdown のその日の分足データ\n",
    "    for date in results.index.get_level_values(0).unique():\n",
    "        gap_downs = results.ix[date].sort_values(by='gap').head(5).index\n",
    "        pan = get_pricing(gap_downs, start_date=date, end_date = date, frequency = 'minute',)\n",
    "        pan.minor_axis = map(lambda x: x.symbol,pan.minor_axis)\n",
    "        d[date.strftime(\"%Y-%m-%d\")] = pan \n",
    "\n",
    "    return d\n",
    "\n",
    "def gapdown_pipeline_data(results):\n",
    "    '''\n",
    "    results: run_pipelineの返り値\n",
    "    '''\n",
    "    d_pipe = dict() ## gapdown の pipeline データ\n",
    "    for date in results.index.get_level_values(0).unique():\n",
    "        gap_downs = results.ix[date].sort_values(by='gap').head(5).index\n",
    "        pipe = results.ix[date].ix[gap_downs]\n",
    "        pipe.index = map(lambda x: x.symbol,pipe.index)\n",
    "        d_pipe[date.strftime(\"%Y-%m-%d\")] = pipe\n",
    "    return d_pipe\n",
    "\n",
    "\n",
    "def my_plot(d, d_pipe, n=None):\n",
    "    '''\n",
    "    d: gapdown_minutes_data の返り値\n",
    "    d_pipe: gapdown_pipeline_data の返り値\n",
    "    n: float. 昨日のTurnoverに対して，今日の09：30-31のTurnoverは n%以上動いた\n",
    "    '''\n",
    "\n",
    "    return1 = list()\n",
    "    return2 = list()\n",
    "    df_high = pd.DataFrame() \n",
    "    df_low = pd.DataFrame()\n",
    "\n",
    "    for k in sorted(d.keys()):\n",
    "        open_price = d[k]['close_price'].ix[0]\n",
    "        volume = d[k]['volume'].ix[0]\n",
    "        yesterday_turnover = d_pipe[k]['yesterday_turnover']\n",
    "        ## 今日の オープン時の turnover が，昨日のクローズのTurnoverのn％以上の銘柄だけ選択\n",
    "        if n:\n",
    "            shock_ratio = open_price * volume / yesterday_turnover > n \n",
    "            shock_stocks = shock_ratio[shock_ratio==True]\n",
    "\n",
    "        else: \n",
    "            shock_stocks = open_price\n",
    "        \n",
    "        if not shock_stocks.empty:\n",
    "            shock_stocks_sids = shock_stocks.index\n",
    "            \n",
    "            highs = list()\n",
    "            lows = list()\n",
    "            for i in range(1,61):\n",
    "                high = d[k]['high'][shock_stocks_sids].fillna(method='pad', axis=1).ix[i]\n",
    "                low = d[k]['low'][shock_stocks_sids].fillna(method='pad', axis=1).ix[i]\n",
    "                highs.append((high/open_price-1).values)\n",
    "                lows.append((low/open_price-1).values)\n",
    "            return1.append(pd.DataFrame(highs))\n",
    "            return2.append(pd.DataFrame(lows))\n",
    "            \n",
    "    if return1:\n",
    "        df_high = pd.concat(return1, axis=1)\n",
    "    if return2:        \n",
    "        df_low = pd.concat(return2, axis=1)\n",
    "    \n",
    "    print(\"Done\")\n",
    "    \n",
    "    return df_high, df_low \n",
    "\n",
    "results = run_pipeline(make_pipeline(), start_date='2015-1-1', end_date='2017-1-10')\n",
    "d = gapdown_minutes_data(results)\n",
    "d_pipe  = gapdown_pipeline_data(results)\n",
    "#df_high, df_low  = my_plot(d, d_pipe, n=0.5) # n=0.03\n",
    "        "
   ]
  },
  {
   "cell_type": "code",
   "execution_count": null,
   "metadata": {},
   "outputs": [],
   "source": [
    "print(df_high)\n",
    "\n",
    "#len(df_low.columns)"
   ]
  },
  {
   "cell_type": "code",
   "execution_count": null,
   "metadata": {},
   "outputs": [],
   "source": [
    "nlist = [0.1, 0.05, 0.02, 0.01, None]\n",
    "for n in nlist:\n",
    "    df_high, df_low  = my_plot(d, d_pipe, n=n) # n=0.03\n",
    "\n",
    "    if not df_high.empty:\n",
    "        #df_high.T.dropna().describe().ix['50%'].plot()\n",
    "        s = pd.Series(df_high.T.dropna().describe().ix['50%'], name = n)\n",
    "        print df_high.T.dropna().describe().ix['count'][0]\n",
    "        s.plot(legend=True)"
   ]
  },
  {
   "cell_type": "code",
   "execution_count": null,
   "metadata": {},
   "outputs": [],
   "source": [
    "# pd.concat([df[0] for df in return1], axis=1).plot(style='o', legend=False, xlim=[-5, 65], ylim=[-0.10,0.10], marker='.')  \n",
    "\n",
    "nlist = [0.1, 0.05, 0.02, 0.01, None]\n",
    "for n in nlist:\n",
    "    df_high, df_low  = my_plot(d, d_pipe, n=n) # n=0.03\n",
    "\n",
    "    if not df_high.empty:\n",
    "        #df_high.T.dropna().describe().ix['50%'].plot()\n",
    "        s = pd.Series(df_high.T.dropna().describe().ix['mean'], name = n)\n",
    "        s.plot(legend=True)\n",
    "        "
   ]
  },
  {
   "cell_type": "code",
   "execution_count": null,
   "metadata": {},
   "outputs": [],
   "source": [
    "#df_high.T.dropna().describe().ix['50%'].plot()\n",
    "#df_low.T.dropna().describe().ix['50%'].plot()\n",
    "df_high.dropna(axis=1)#.plot(style='o', legend=False, xlim=[-5, 65], ylim=[-0.10,0.10], marker='.')  \n",
    "#df_high.dropna(axis=1).T.describe().ix['mean'].plot()\n",
    "df_high.dropna(axis=1).T.describe().ix['50%'].plot()\n",
    "df_low.dropna(axis=1).T.describe().ix['50%'].plot()"
   ]
  },
  {
   "cell_type": "code",
   "execution_count": null,
   "metadata": {},
   "outputs": [],
   "source": [
    "pd.DataFrame(np.random.random_sample((3, 3)), columns=list('abc'))[:]"
   ]
  },
  {
   "cell_type": "code",
   "execution_count": null,
   "metadata": {},
   "outputs": [],
   "source": [
    "pd.concat(l, axis=1).dropna().describe().ix[\"50%\"].sort_values()[:-1].sum()#.plot(legend=False)\n",
    "#pd.concat(l, axis=1).plot(legend=False)\n"
   ]
  },
  {
   "cell_type": "code",
   "execution_count": null,
   "metadata": {},
   "outputs": [],
   "source": [
    "fundamentals = init_fundamentals()  \n",
    "fundamental_df = get_fundamentals(  \n",
    "query(  \n",
    "fundamentals.financial_statement_filing.accession_number,  \n",
    "fundamentals.financial_statement_filing.file_date,  \n",
    "fundamentals.earnings_report.basic_eps,  \n",
    "fundamentals.earnings_report.form_type_earnings_reports,  \n",
    "fundamentals.earnings_report.normalized_basic_eps,  \n",
    "fundamentals.financial_statement_filing.period_ending_date,  \n",
    ")\n",
    ".limit(20),\n",
    "date, \"1y\"\n",
    ")\n"
   ]
  },
  {
   "cell_type": "code",
   "execution_count": null,
   "metadata": {},
   "outputs": [],
   "source": [
    "date\n",
    "pd.to_datetime(fundamental_df.T['period_ending_date'],)#unit='s'\n",
    "\n"
   ]
  },
  {
   "cell_type": "code",
   "execution_count": null,
   "metadata": {},
   "outputs": [],
   "source": [
    "bt = get_backtest(\"5913f1ce4bc63361fd781403\")\n"
   ]
  },
  {
   "cell_type": "code",
   "execution_count": null,
   "metadata": {},
   "outputs": [],
   "source": [
    "bt.create_full_tear_sheet()"
   ]
  }
 ],
 "metadata": {
  "kernelspec": {
   "display_name": "Python 2",
   "language": "python",
   "name": "python2"
  },
  "language_info": {
   "codemirror_mode": {
    "name": "ipython",
    "version": 2
   },
   "file_extension": ".py",
   "mimetype": "text/x-python",
   "name": "python",
   "nbconvert_exporter": "python",
   "pygments_lexer": "ipython2",
   "version": "2.7.12"
  }
 },
 "nbformat": 4,
 "nbformat_minor": 2
}
