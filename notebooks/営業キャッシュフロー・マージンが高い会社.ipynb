{
 "cells": [
  {
   "cell_type": "markdown",
   "metadata": {},
   "source": [
    "## なぜ営業キャッシュフロー・マージンが高いほうが良い\n",
    "そのような<font color=\"red\">**高利益体質**</font>の企業は現在のような厳しい経営環境でも企業の「稼ぐ力」が低下しにくいから\n",
    "## 見つけ方    \n",
    "    \n",
    "+ 【ルールその１】営業キャッシュフローは年々着実に増えていることが望ましい\n",
    "+ 【ルールその２】営業キャッシュフローはその年の利益より大きくなければいけない\n",
    "+ 【ルールその３】営業キャッシュフロー・マージンは15％以上の会社を狙え\n",
    "\n",
    "#### 営業キャッシュフローとは、\n",
    "ある企業が商品やサービスを売ることで得たお金、つまり売上高から、原材料費などの支出を引き算した「現金収支」を指します。\n",
    "\n"
   ]
  },
  {
   "cell_type": "markdown",
   "metadata": {},
   "source": [
    "\n"
   ]
  },
  {
   "cell_type": "markdown",
   "metadata": {},
   "source": [
    "## 【ルールその１】営業キャッシュフローは年々着実に増えていることが望ましい\n",
    "\n",
    "営業キャッシュフロー（CFPS）を経年で比較してください。一昨年より去年、去年より今年のCFPSの数字が大きければ合格です。エヌビディアの場合2020年度（＝カレンダー・イヤーでは2019年）は需要サイクルの暗転という事情があり、かなり苦しい年でした。それでもなんとか前年並みのCFPSを達成しています。\n",
    "\n",
    "Quantopian では、`Gross Income Margin` を使うのがいいと思われる。比較しやすい。\n",
    "\n",
    "+ [gross_mgn_af, gross_mgn_ltm, gross_mgn_qf, gross_mgn_saf](https://www.quantopian.com/docs/data-reference/factset_fundamentals#gross-mgn-af-gross-mgn-ltm-gross-mgn-qf-gross-mgn-saf)\n",
    "    + Gross Income Margin\n",
    "    + Represents gross income margin. This is calculated as Gross Income (gross_inc) divided by Net Sales or Revenue (sales), multiplied by 100.\n",
    "    + Note: If the denominator is negative, the formula will return NA.\n",
    "\n",
    "PerShare で見たい場合は、これでもよいかな。\n",
    "\n",
    "+ [Quantopian Cash Flow Per Share - 1 Year Growth](https://www.quantopian.com/docs/data-reference/factset_fundamentals#cf-ps-gr-af-cf-ps-gr-qf-cf-ps-gr-saf)\n",
    "    + `cf_ps_gr_af`, `cf_ps_gr_qf`, `cf_ps_gr_saf`\n",
    "    + Represents the one-year growth rate of cash flow per share. This is calculated by taking the year over year percent change of Net Cash Flow from Operations Per Share. Note: If the growth goes from negative to positive, the formula will return NA.\n",
    "\n"
   ]
  },
  {
   "cell_type": "code",
   "execution_count": null,
   "metadata": {},
   "outputs": [],
   "source": [
    "from quantopian.pipeline import Pipeline\n",
    "from quantopian.pipeline.data.factset import Fundamentals\n",
    "from quantopian.pipeline.data.morningstar import Fundamentals as morningstar\n",
    "import quantopian.pipeline.data.factset.estimates as fe\n",
    "\n",
    "from quantopian.pipeline.domain import US_EQUITIES\n",
    "from quantopian.research import run_pipeline\n",
    "from quantopian.pipeline.filters import Q500US, StaticSids, StaticAssets\n",
    "\n",
    "\n",
    "# Construct a factor that simply gets the most recent quarterly sales value.\n",
    "quarterly_sales = Fundamentals.sales_qf.latest\n",
    "cfps = Fundamentals.cf_ps_gr_af.latest\n",
    "gross_mgn_af = Fundamentals.gross_mgn_af.latest\n",
    "\n",
    "fq0_cfps_act = fe.Actuals.slice('CFPS', 'af', 0)\n",
    "fq0_cfps_act_value = fq0_cfps_act.actual_value\n",
    "\n",
    "fq0_eps_act = fe.Actuals.slice('EPS', 'af', 0)\n",
    "fq0_eps_act_value = fq0_eps_act.actual_value\n",
    "\n",
    "\n",
    "\n",
    "morningstar_industry_code = morningstar.morningstar_industry_code.latest\n",
    "morningstar_industry_group_code = morningstar.morningstar_industry_group_code.latest\n",
    "\n",
    "\n",
    "# Add the factor to the pipeline.\n",
    "pipe = Pipeline(\n",
    "    columns={\n",
    "#         'sales': quarterly_sales,\n",
    "#         'cfps':cfps, \n",
    "        'gross_mgn_af':gross_mgn_af,\n",
    "        'fq0_eps_act_value':fq0_eps_act_value.latest,\n",
    "        'fq0_cfps_act_value':fq0_cfps_act_value.latest,\n",
    "        \n",
    "        'morningstar_industry_code':morningstar_industry_code, \n",
    "        'morningstar_industry_group_code':morningstar_industry_group_code,\n",
    "    },\n",
    "    domain=US_EQUITIES,\n",
    ")\n",
    "\n",
    "# Run the pipeline over a year and print the result.\n",
    "df = run_pipeline(pipe, '2015-05-05', '2019-05-05')\n",
    "df.head()\n"
   ]
  },
  {
   "cell_type": "code",
   "execution_count": null,
   "metadata": {},
   "outputs": [],
   "source": [
    "df.xs(symbols('NVDA'), level=1)[\"fq0_cfps_act_value\"].plot()"
   ]
  },
  {
   "cell_type": "code",
   "execution_count": null,
   "metadata": {},
   "outputs": [],
   "source": [
    "df.xs(symbols('NVDA'), level=1)[\"gross_mgn_af\"].describe()"
   ]
  },
  {
   "cell_type": "code",
   "execution_count": null,
   "metadata": {},
   "outputs": [],
   "source": [
    "## 毎年 cash flow margin が上がっている銘柄を探す。\n",
    "import numpy as np\n",
    "df_T = df[\"gross_mgn_af\"].unstack().dropna(axis=1)\n",
    "change = df_T.pct_change().dropna() \n",
    "print(len(change.columns))\n",
    "candidates = change.where(change >= 0).dropna(axis=1).columns\n",
    "print(len(candidates))\n",
    "candidates_desc = df_T[candidates.tolist()].dropna(axis=1).describe()\n"
   ]
  },
  {
   "cell_type": "code",
   "execution_count": null,
   "metadata": {},
   "outputs": [],
   "source": [
    "candidates_desc.T[candidates_desc.T[\"min\"] > 50].sort_values(by=\"std\",ascending=False).head(20)"
   ]
  },
  {
   "cell_type": "code",
   "execution_count": null,
   "metadata": {},
   "outputs": [],
   "source": [
    "x = candidates_desc.T[(candidates_desc.T[\"min\"] > 50) & (candidates_desc.T[\"std\"] > 1.5) ].sort_values(by=\"std\",ascending=False).index.tolist()\n",
    "df_T[x]\n",
    "\n",
    "\n",
    "import matplotlib.pyplot as plt \n",
    "\n",
    "fig = plt.figure(figsize=(20,10))\n",
    "plt.subplots_adjust(left=None, bottom=None, right=None, top=None, wspace=0.2, hspace=0.4)\n",
    "num = len(df_T[x].columns)\n",
    "xs = 5\n",
    "ys = int(num/5)+1\n",
    "for i, c in enumerate(df_T[x].columns):\n",
    "    x = i % xs\n",
    "    y = int(i/xs)+ys\n",
    "    ax = fig.add_subplot(xs, ys, i+1)\n",
    "    plt.ylim(50,100)\n",
    "    ax.set_title(c.symbol)\n",
    "    ax.plot(df_T[c])\n",
    "    \n",
    "    "
   ]
  },
  {
   "cell_type": "code",
   "execution_count": null,
   "metadata": {},
   "outputs": [],
   "source": [
    "x = candidates_desc.T[(candidates_desc.T[\"min\"] > 50) & (candidates_desc.T[\"std\"] > 1.5) ].sort_values(by=\"std\",ascending=False).index.tolist()\n",
    "n = len(x)\n",
    "yoko = 5\n",
    "tate = int(n / yoko) + 1\n",
    "print(tate,yoko)\n",
    "df_T[x].plot(subplots=True, layout=(tate, yoko), figsize=(20,20), ylim=(50, 100))"
   ]
  },
  {
   "cell_type": "markdown",
   "metadata": {},
   "source": [
    "## 【ルールその２】営業キャッシュフローはその年の一株当たり利益（EPS）より必ず大きくなればいけない\n",
    "\n",
    "いまCFPS(灰色)とEPS（橙色）を比べてください。灰色の方が橙色より大きいことが望ましいです。これが逆転（＝すなわち橙色の方が大きくなってしまっている）すると粉飾決算の恐れがあります。\n"
   ]
  },
  {
   "cell_type": "code",
   "execution_count": null,
   "metadata": {},
   "outputs": [],
   "source": [
    "cfps = df[\"fq0_cfps_act_value\"].unstack().dropna(axis=1)\n",
    "cfps_desc = cfps.describe().T"
   ]
  },
  {
   "cell_type": "code",
   "execution_count": null,
   "metadata": {},
   "outputs": [],
   "source": [
    "cfps[list(set(cfps.columns.tolist()) & set(x))]\n"
   ]
  },
  {
   "cell_type": "code",
   "execution_count": null,
   "metadata": {},
   "outputs": [],
   "source": [
    "mylist = list(set(cfps.columns.tolist()) & set(x))\n",
    "yoko = 5\n",
    "tate = int(len(mylist)/yoko)+1\n",
    "\n",
    "cfps[mylist].plot(subplots=True, layout=(tate, yoko), figsize=(20,20))"
   ]
  },
  {
   "cell_type": "code",
   "execution_count": null,
   "metadata": {},
   "outputs": [],
   "source": [
    "df.xs(symbols('HUBS'), level=1)[[\"gross_mgn_af\", \"fq0_cfps_act_value\"]].plot(secondary_y=\"fq0_cfps_act_value\")"
   ]
  },
  {
   "cell_type": "code",
   "execution_count": null,
   "metadata": {},
   "outputs": [],
   "source": [
    "(cfps[mylist] > df[\"fq0_eps_act_value\"].unstack()[mylist]).sum()"
   ]
  },
  {
   "cell_type": "markdown",
   "metadata": {},
   "source": [
    "## 【ルールその３】営業キャッシュフロー・マージンは15％以上の会社を狙え!\n",
    "\n",
    "営業キャッシュフロー・マージンとは一株当たり営業キャッシュフロー（CFPS：灰色）を一株当たり売上高（SPS：黄色）で割り算し、パーセントにした数値です。\n"
   ]
  },
  {
   "cell_type": "code",
   "execution_count": null,
   "metadata": {},
   "outputs": [],
   "source": [
    "(df.xs(symbols('HUBS'), level=1)[\"fq0_cfps_act_value\"] > df.xs(symbols('HUBS'), level=1)[\"fq0_eps_act_value\"]).unique()"
   ]
  }
 ],
 "metadata": {
  "kernelspec": {
   "display_name": "Python 3.5",
   "language": "python",
   "name": "py35"
  },
  "language_info": {
   "codemirror_mode": {
    "name": "ipython",
    "version": 3
   },
   "file_extension": ".py",
   "mimetype": "text/x-python",
   "name": "python",
   "nbconvert_exporter": "python",
   "pygments_lexer": "ipython3",
   "version": "3.5.9"
  }
 },
 "nbformat": 4,
 "nbformat_minor": 2
}
