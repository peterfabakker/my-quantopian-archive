{
 "cells": [
  {
   "cell_type": "markdown",
   "metadata": {},
   "source": [
    "# Tokyo Quantopian User Group Handson Homework\n",
    "\n",
    "このノートブックをCloneして、下記の課題を解いて下さい。結果はこのスレッド https://www.quantopian.com/posts/tokyo-quantopian-user-group-handson-on-sep-20 にポストして下さい。\n",
    "\n"
   ]
  },
  {
   "cell_type": "markdown",
   "metadata": {},
   "source": [
    "## 宿題\n",
    "下記のコードは、Appleの2018/01/01〜2020/01/01の終値を取得し、１０日移動平均を出力するコードです。\n",
    "\n",
    "このコードを改変して以下の課題に取り組んで下さい。\n",
    "\n",
    "1. 新しいセルを作る\n",
    "1. そのセルで、\n",
    "  + お好きな銘柄（現在米市場に上場されている株式ETF）を１つ指定\n",
    "  + 2020-01-01〜2020-08-01までのデータを取得\n",
    "  + 20日移動平均を出力する"
   ]
  },
  {
   "cell_type": "code",
   "execution_count": null,
   "metadata": {},
   "outputs": [],
   "source": [
    "# AAPL の過去の価格データを取得する\n",
    "\n",
    "from quantopian.research import prices, symbols\n",
    "import pandas as pd\n",
    "\n",
    "close = prices(\n",
    "    assets=symbols('AAPL'),\n",
    "    start='2018-01-01',\n",
    "    end='2020-01-01',\n",
    ")\n",
    "close.rolling(window=10).mean()\n"
   ]
  }
 ],
 "metadata": {
  "kernelspec": {
   "display_name": "Python 3.5",
   "language": "python",
   "name": "py35"
  },
  "language_info": {
   "codemirror_mode": {
    "name": "ipython",
    "version": 3
   },
   "file_extension": ".py",
   "mimetype": "text/x-python",
   "name": "python",
   "nbconvert_exporter": "python",
   "pygments_lexer": "ipython3",
   "version": "3.5.9"
  }
 },
 "nbformat": 4,
 "nbformat_minor": 2
}
