{
 "cells": [
  {
   "cell_type": "markdown",
   "metadata": {},
   "source": [
    "## バフェットの財務諸表を読む力で書いてある事をQuantopianで解く\n",
    "\n",
    "[史上最強の投資家 バフェットの財務諸表を読む力 大不況でも投資で勝ち抜く58のルール | メアリー・バフェット, デビッド・クラーク, 峯村利哉 |本 | 通販 | Amazon](https://www.amazon.co.jp/dp/4198627053)\n"
   ]
  },
  {
   "cell_type": "markdown",
   "metadata": {},
   "source": [
    "### 粗利益率\n",
    "+ 粗利益/売上高\n",
    "+ 一貫して高い率が良い．（例KO：60％あたり）\n",
    "+ [gross-profit](https://www.quantopian.com/docs/data-reference/morningstar_fundamentals#gross-profit)\n",
    "    + おそらくQuartary\n",
    "+ [sales](https://www.quantopian.com/docs/data-reference/factset_fundamentals#sales-af-sales-ltm-sales-qf-sales-saf)\n",
    "    + sales_af, sales_ltm, sales_qf, sales_saf\n",
    "    \n",
    "\n",
    "\n",
    "### 金利コスト/粗利\n",
    "\n",
    "+ 営業利益に占める支払利息の比率＝企業の危機レベル"
   ]
  },
  {
   "cell_type": "code",
   "execution_count": null,
   "metadata": {},
   "outputs": [],
   "source": [
    "import numpy as np\n",
    "\n",
    "# Import Pipeline class and datasets\n",
    "from quantopian.pipeline import Pipeline\n",
    "from quantopian.pipeline.data import USEquityPricing\n",
    "from quantopian.pipeline.data.psychsignal import stocktwits\n",
    "from quantopian.pipeline.data.morningstar import Fundamentals\n",
    "from quantopian.pipeline.data.factset import Fundamentals as factst_funda\n",
    "from quantopian.pipeline.filters import Q500US, StaticSids, StaticAssets\n",
    "\n",
    "# Import built-in trading universe\n",
    "from quantopian.pipeline.filters import QTradableStocksUS\n",
    "\n",
    "\n",
    "def make_pipeline():\n",
    "    # Create a reference to our trading universe\n",
    "    base_universe = QTradableStocksUS()\n",
    "\n",
    "    # Get latest closing price\n",
    "    close_price = USEquityPricing.close.latest\n",
    "    \n",
    "    # 売上高\n",
    "    gross_profit = Fundamentals.gross_profit.latest\n",
    "    # 粗利益率\n",
    "    sales_qf = factst_funda.sales_qf.latest\n",
    "    # 粗利益率\n",
    "    sales_profit_ratio = sales_qf / gross_profit\n",
    "    \n",
    "    \n",
    "    \n",
    "    # interest_expense\n",
    "    interest_expense = Fundamentals.interest_expense.latest\n",
    "    morningstar_sector_code = Fundamentals.morningstar_sector_code.latest\n",
    "    morningstar_industry_group_code = Fundamentals.morningstar_industry_group_code.latest\n",
    "\n",
    "    myassets = StaticAssets(symbols(['AAPL', 'FB', 'MSFT', 'AMZN', 'GOOG', 'KO']))\n",
    "    \n",
    "    # Return Pipeline containing close_price and\n",
    "    # sentiment_score that has our trading universe as screen\n",
    "    return Pipeline(\n",
    "        columns={\n",
    "            'close_price': close_price,\n",
    "            'interest_expense':interest_expense,\n",
    "            'gross_profit':gross_profit, \n",
    "            'morningstar_sector_code':morningstar_sector_code, \n",
    "            'morningstar_industry_group_code':morningstar_industry_group_code, \n",
    "            'sales_profit_ratio':sales_profit_ratio,\n",
    "        },\n",
    "        screen=base_universe #myassets\n",
    "    )\n",
    "\n",
    "# Import run_pipeline method\n",
    "from quantopian.research import run_pipeline\n",
    "\n",
    "# Execute pipeline created by make_pipeline\n",
    "# between start_date and end_date\n",
    "pipeline_output = run_pipeline(\n",
    "    make_pipeline(),\n",
    "    start_date='2019-01-01',\n",
    "    end_date='2020-04-01'\n",
    ")\n",
    "\n",
    "# Display last 10 rows\n",
    "pipeline_output.tail(10)"
   ]
  },
  {
   "cell_type": "code",
   "execution_count": null,
   "metadata": {},
   "outputs": [],
   "source": [
    "pipeline_output[\"interest/profit\"] = pipeline_output[\"interest_expense\"]/pipeline_output[\"gross_profit\"]"
   ]
  },
  {
   "cell_type": "code",
   "execution_count": null,
   "metadata": {},
   "outputs": [],
   "source": [
    "# 興味があったのでバイオテクノロジーだけやってみる\n",
    "biotech = pipeline_output[pipeline_output[\"morningstar_industry_group_code\"]==20610]\n"
   ]
  },
  {
   "cell_type": "code",
   "execution_count": null,
   "metadata": {},
   "outputs": [],
   "source": [
    "biotech=biotech.replace([np.inf, -np.inf], np.nan).dropna(axis=1)"
   ]
  },
  {
   "cell_type": "code",
   "execution_count": null,
   "metadata": {},
   "outputs": [],
   "source": [
    "biotech = biotech[\"close_price\"].unstack().dropna(axis=1)"
   ]
  },
  {
   "cell_type": "code",
   "execution_count": null,
   "metadata": {},
   "outputs": [],
   "source": [
    "x = (biotech.pct_change() + 1 ).cumprod()"
   ]
  },
  {
   "cell_type": "code",
   "execution_count": null,
   "metadata": {},
   "outputs": [],
   "source": [
    "syms = x.iloc[-1].sort_values().tail(5).index "
   ]
  },
  {
   "cell_type": "code",
   "execution_count": null,
   "metadata": {},
   "outputs": [],
   "source": [
    "x[syms].plot()"
   ]
  }
 ],
 "metadata": {
  "kernelspec": {
   "display_name": "Python 3.5",
   "language": "python",
   "name": "py35"
  },
  "language_info": {
   "codemirror_mode": {
    "name": "ipython",
    "version": 3
   },
   "file_extension": ".py",
   "mimetype": "text/x-python",
   "name": "python",
   "nbconvert_exporter": "python",
   "pygments_lexer": "ipython3",
   "version": "3.5.9"
  }
 },
 "nbformat": 4,
 "nbformat_minor": 2
}
