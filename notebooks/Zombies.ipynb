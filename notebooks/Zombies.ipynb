{
 "cells": [
  {
   "cell_type": "markdown",
   "metadata": {},
   "source": [
    "## zombies を探せ\n",
    "\n",
    "+ [Zombies’ rolling 1m return outperformed S&amp;P 500 by ~18% in April; “walking dead’s” good times continue into May, outperforming by 10.3% thrut May 15; some of strongest monthly returns for both S&amp;P 500 &amp; zombies have followed Fed announcements supporting credit markets @DataArbor https://t.co/6MyIazyHRH」 / Twitter](https://twitter.com/LizAnnSonders/status/1262779821056237568)\n",
    "\n",
    "![](https://pbs.twimg.com/media/EYZLioEXQAAhn7L?format=jpg)\n",
    "\n",
    "+ ゾンビは、`3年平均EBIT/金利コスト < 1` で、`market cap > $300million`\n",
    "+ Ebitより金利コストの方がデカイと、借金が大きすぎるよね。返せなくなるのではないのかな？ということっぽい。\n",
    "+ [ebit](https://www.quantopian.com/docs/data-reference/morningstar_fundamentals#ebit)\n",
    "    + Earnings minus expenses (excluding interest and tax expenses).\n",
    "    + データから察するに四半期に一回更新されている\n",
    "    "
   ]
  },
  {
   "cell_type": "code",
   "execution_count": null,
   "metadata": {},
   "outputs": [],
   "source": [
    "sp500_composites = ['MMM', 'ABT', 'ABBV', 'ABMD', 'ACN', 'ATVI', 'ADBE', 'AMD', 'AAP', 'AES', 'AFL', 'A', 'APD', 'AKAM', 'ALK', 'ALB', 'ARE', 'ALXN', 'ALGN', 'ALLE', 'ADS', 'LNT', 'ALL', 'GOOGL', 'GOOG', 'MO', 'AMZN', 'AMCR', 'AEE', 'AAL', 'AEP', 'AXP', 'AIG', 'AMT', 'AWK', 'AMP', 'ABC', 'AME', 'AMGN', 'APH', 'ADI', 'ANSS', 'ANTM', 'AON', 'AOS', 'APA', 'AIV', 'AAPL', 'AMAT', 'APTV', 'ADM', 'ANET', 'AJG', 'AIZ', 'T', 'ATO', 'ADSK', 'ADP', 'AZO', 'AVB', 'AVY', 'BKR', 'BLL', 'BAC', 'BK', 'BAX', 'BDX', 'BRK.B', 'BBY', 'BIIB', 'BLK', 'BA', 'BKNG', 'BWA', 'BXP', 'BSX', 'BMY', 'AVGO', 'BR', 'BF.B', 'CHRW', 'COG', 'CDNS', 'CPB', 'COF', 'CAH', 'KMX', 'CCL', 'CARR', 'CAT', 'CBOE', 'CBRE', 'CDW', 'CE', 'CNC', 'CNP', 'CTL', 'CERN', 'CF', 'SCHW', 'CHTR', 'CVX', 'CMG', 'CB', 'CHD', 'CI', 'CINF', 'CTAS', 'CSCO', 'C', 'CFG', 'CTXS', 'CLX', 'CME', 'CMS', 'KO', 'CTSH', 'CL', 'CMCSA', 'CMA', 'CAG', 'CXO', 'COP', 'ED', 'STZ', 'COO', 'CPRT', 'GLW', 'CTVA', 'COST', 'COTY', 'CCI', 'CSX', 'CMI', 'CVS', 'DHI', 'DHR', 'DRI', 'DVA', 'DE', 'DAL', 'XRAY', 'DVN', 'DXCM', 'FANG', 'DLR', 'DFS', 'DISCA', 'DISCK', 'DISH', 'DG', 'DLTR', 'D', 'DPZ', 'DOV', 'DOW', 'DTE', 'DUK', 'DRE', 'DD', 'DXC', 'ETFC', 'EMN', 'ETN', 'EBAY', 'ECL', 'EIX', 'EW', 'EA', 'EMR', 'ETR', 'EOG', 'EFX', 'EQIX', 'EQR', 'ESS', 'EL', 'EVRG', 'ES', 'RE', 'EXC', 'EXPE', 'EXPD', 'EXR', 'XOM', 'FFIV', 'FB', 'FAST', 'FRT', 'FDX', 'FIS', 'FITB', 'FE', 'FRC', 'FISV', 'FLT', 'FLIR', 'FLS', 'FMC', 'F', 'FTNT', 'FTV', 'FBHS', 'FOXA', 'FOX', 'BEN', 'FCX', 'GPS', 'GRMN', 'IT', 'GD', 'GE', 'GIS', 'GM', 'GPC', 'GILD', 'GL', 'GPN', 'GS', 'GWW', 'HRB', 'HAL', 'HBI', 'HOG', 'HIG', 'HAS', 'HCA', 'PEAK', 'HSIC', 'HSY', 'HES', 'HPE', 'HLT', 'HFC', 'HOLX', 'HD', 'HON', 'HRL', 'HST', 'HWM', 'HPQ', 'HUM', 'HBAN', 'HII', 'IEX', 'IDXX', 'INFO', 'ITW', 'ILMN', 'INCY', 'IR', 'INTC', 'ICE', 'IBM', 'IP', 'IPG', 'IFF', 'INTU', 'ISRG', 'IVZ', 'IPGP', 'IQV', 'IRM', 'JKHY', 'J', 'JBHT', 'SJM', 'JNJ', 'JCI', 'JPM', 'JNPR', 'KSU', 'K', 'KEY', 'KEYS', 'KMB', 'KIM', 'KMI', 'KLAC', 'KSS', 'KHC', 'KR', 'LB', 'LHX', 'LH', 'LRCX', 'LW', 'LVS', 'LEG', 'LDOS', 'LEN', 'LLY', 'LNC', 'LIN', 'LYV', 'LKQ', 'LMT', 'L', 'LOW', 'LYB', 'MTB', 'MRO', 'MPC', 'MKTX', 'MAR', 'MMC', 'MLM', 'MAS', 'MA', 'MKC', 'MXIM', 'MCD', 'MCK', 'MDT', 'MRK', 'MET', 'MTD', 'MGM', 'MCHP', 'MU', 'MSFT', 'MAA', 'MHK', 'TAP', 'MDLZ', 'MNST', 'MCO', 'MS', 'MOS', 'MSI', 'MSCI', 'MYL', 'NDAQ', 'NOV', 'NTAP', 'NFLX', 'NWL', 'NEM', 'NWSA', 'NWS', 'NEE', 'NLSN', 'NKE', 'NI', 'NBL', 'JWN', 'NSC', 'NTRS', 'NOC', 'NLOK', 'NCLH', 'NRG', 'NUE', 'NVDA', 'NVR', 'ORLY', 'OXY', 'ODFL', 'OMC', 'OKE', 'ORCL', 'OTIS', 'PCAR', 'PKG', 'PH', 'PAYX', 'PAYC', 'PYPL', 'PNR', 'PBCT', 'PEP', 'PKI', 'PRGO', 'PFE', 'PM', 'PSX', 'PNW', 'PXD', 'PNC', 'PPG', 'PPL', 'PFG', 'PG', 'PGR', 'PLD', 'PRU', 'PEG', 'PSA', 'PHM', 'PVH', 'QRVO', 'PWR', 'QCOM', 'DGX', 'RL', 'RJF', 'RTX', 'O', 'REG', 'REGN', 'RF', 'RSG', 'RMD', 'RHI', 'ROK', 'ROL', 'ROP', 'ROST', 'RCL', 'SPGI', 'CRM', 'SBAC', 'SLB', 'STX', 'SEE', 'SRE', 'NOW', 'SHW', 'SPG', 'SWKS', 'SLG', 'SNA', 'SO', 'LUV', 'SWK', 'SBUX', 'STT', 'STE', 'SYK', 'SIVB', 'SYF', 'SNPS', 'SYY', 'TMUS', 'TROW', 'TTWO', 'TPR', 'TGT', 'TEL', 'FTI', 'TFX', 'TXN', 'TXT', 'TMO', 'TIF', 'TJX', 'TSCO', 'TT', 'TDG', 'TRV', 'TFC', 'TWTR', 'TSN', 'UDR', 'ULTA', 'USB', 'UAA', 'UA', 'UNP', 'UAL', 'UNH', 'UPS', 'URI', 'UHS', 'UNM', 'VFC', 'VLO', 'VAR', 'VTR', 'VRSN', 'VRSK', 'VZ', 'VRTX', 'VIAC', 'V', 'VNO', 'VMC', 'WRB', 'WAB', 'WMT', 'WBA', 'DIS', 'WM', 'WAT', 'WEC', 'WFC', 'WELL', 'WST', 'WDC', 'WU', 'WRK', 'WY', 'WHR', 'WMB', 'WLTW', 'WYNN', 'XEL', 'XRX', 'XLNX', 'XYL', 'YUM', 'ZBRA', 'ZBH', 'ZION', 'ZTS']"
   ]
  },
  {
   "cell_type": "code",
   "execution_count": null,
   "metadata": {},
   "outputs": [],
   "source": [
    "import numpy as np\n",
    "from quantopian.pipeline import Pipeline\n",
    "from quantopian.research import run_pipeline\n",
    "\n",
    "from quantopian.pipeline.data import USEquityPricing\n",
    "from quantopian.pipeline.data.morningstar import Fundamentals\n",
    "from quantopian.pipeline.filters import QTradableStocksUS\n",
    "\n",
    "from quantopian.pipeline.factors import SimpleMovingAverage\n",
    "\n",
    "def  make_pipeline():\n",
    "    base_universe = QTradableStocksUS()\n",
    "    close_price = USEquityPricing.close.latest\n",
    "    \n",
    "    ebit = Fundamentals.ebit.latest\n",
    "    ebit_ma_3year = SimpleMovingAverage(\n",
    "        inputs=[Fundamentals.ebit], \n",
    "        window_length=252 * 3\n",
    "    )\n",
    "    interest_expense = Fundamentals.interest_expense.latest\n",
    "    market_cap = Fundamentals.market_cap.latest\n",
    "    ebit_interest_expense = ebit_ma_3year / interest_expense \n",
    "    financial_health_grade = Fundamentals.financial_health_grade.latest\n",
    "    \n",
    "    # interest_expense > 0　を追加したのは、金利をもらっている会社をはずしたいから\n",
    "    zombies = (ebit_interest_expense < 1) & (market_cap > 3000000 ) & (interest_expense > 0)\n",
    "    \n",
    "    return Pipeline(\n",
    "        columns={\n",
    "            'close_price':close_price,\n",
    "            'ebit':ebit,\n",
    "            'ebit_ma_3year':ebit_ma_3year,\n",
    "            'market_cap':market_cap,\n",
    "            'interest_expense':interest_expense,\n",
    "            'ebit_interest_expense':ebit_interest_expense, \n",
    "            'zombies':zombies,\n",
    "            'financial_health_grade':financial_health_grade,\n",
    "            \n",
    "        },\n",
    "        screen=base_universe,\n",
    "    )\n",
    "\n",
    "## とりあえず直近のデータだけ取得する\n",
    "pipeline_output = run_pipeline(\n",
    "    make_pipeline(),\n",
    "    start_date='2020-6-1',\n",
    "    end_date='2020-6-5'\n",
    ")        \n",
    "\n",
    "    "
   ]
  },
  {
   "cell_type": "markdown",
   "metadata": {},
   "source": [
    "## 直近でゾンビで且つDクラスにて、かつSP500銘柄\n"
   ]
  },
  {
   "cell_type": "code",
   "execution_count": null,
   "metadata": {},
   "outputs": [],
   "source": [
    "zombies = pipeline_output[(pipeline_output[\"zombies\"]) \n",
    "                          & (pipeline_output[\"financial_health_grade\"]==\"D\")].index.get_level_values(1).unique()\n",
    "\n",
    "[symbols(sym) for sym in list(map(lambda x: x.symbol, zombies)) if sym in sp500_composites]\n"
   ]
  },
  {
   "cell_type": "code",
   "execution_count": null,
   "metadata": {},
   "outputs": [],
   "source": [
    "from quantopian.research import prices, symbols\n",
    "start='2020-01-01'\n",
    "end='2020-6-5'\n",
    "zombies_sym = [symbols(sym) for sym in list(map(lambda x: x.symbol, zombies)) if sym in sp500_composites]\n",
    "\n",
    "close_price_zombies = prices(assets=zombies_sym,start=start, end=end,)\n",
    "(close_price_zombies/close_price_zombies.shift(1)).cumprod().plot()"
   ]
  },
  {
   "cell_type": "code",
   "execution_count": null,
   "metadata": {},
   "outputs": [],
   "source": [
    "close_price_zombies.iloc[-2]/ close_price_zombies.min() -1 "
   ]
  },
  {
   "cell_type": "markdown",
   "metadata": {},
   "source": [
    "## ebit_interest_expense を大まかに describe()\n",
    "\n",
    "+ infや na は取り除いてざっくりとすると、"
   ]
  },
  {
   "cell_type": "code",
   "execution_count": null,
   "metadata": {},
   "outputs": [],
   "source": [
    "pipeline_output[\"ebit_interest_expense\"].replace([np.inf, -np.inf], np.nan).dropna().describe()"
   ]
  },
  {
   "cell_type": "markdown",
   "metadata": {},
   "source": [
    "## 過去5年間で一度でもzombi認定された銘柄リスト\n",
    "\n",
    "思っていたより多い"
   ]
  },
  {
   "cell_type": "code",
   "execution_count": null,
   "metadata": {},
   "outputs": [],
   "source": [
    "pipeline_output.xs(symbols(\"APA\"), level=1)[\"ebit_interest_expense\"].plot()"
   ]
  },
  {
   "cell_type": "markdown",
   "metadata": {},
   "source": [
    "## 年初から一度でもzombi認定された銘柄リスト"
   ]
  },
  {
   "cell_type": "code",
   "execution_count": null,
   "metadata": {},
   "outputs": [],
   "source": [
    "import pandas as pd\n",
    "idx = pd.IndexSlice\n",
    "\n",
    "df2020 = pipeline_output.loc[idx['2020-01-01':, :], :]\n",
    "recent_zombies = df2020[df2020[\"zombies\"]].index.get_level_values(1).unique()\n",
    "len(recent_zombies)"
   ]
  },
  {
   "cell_type": "markdown",
   "metadata": {},
   "source": [
    "## 2020ゾンビのebit_interest_expenseをdescribe\n",
    "+ mean でソート\n",
    "+ dropna() して、この期間に `QTradableStocksUS` に入っていなかった銘柄は外す\n"
   ]
  },
  {
   "cell_type": "code",
   "execution_count": null,
   "metadata": {},
   "outputs": [],
   "source": [
    "describe2020 = df2020.loc[idx[:,recent_zombies],:][\"ebit_interest_expense\"].unstack().describe().T.dropna().sort_values(by=\"mean\")"
   ]
  },
  {
   "cell_type": "markdown",
   "metadata": {},
   "source": [
    "+ まずは ebit_interest_expense の平均値が1以上をみていきましょう"
   ]
  },
  {
   "cell_type": "code",
   "execution_count": null,
   "metadata": {},
   "outputs": [],
   "source": [
    "candidates_zombies = describe2020[describe2020[\"mean\"]>1].index.tolist()"
   ]
  },
  {
   "cell_type": "markdown",
   "metadata": {},
   "source": [
    "+ 5/1現在で、candidate zombiesの格付けをカウント"
   ]
  },
  {
   "cell_type": "code",
   "execution_count": null,
   "metadata": {},
   "outputs": [],
   "source": [
    "df2020.loc[idx[\"2020-05-01\",candidates_zombies],:].groupby(\"financial_health_grade\").count()"
   ]
  },
  {
   "cell_type": "markdown",
   "metadata": {},
   "source": [
    "+ D だけ見てみる"
   ]
  },
  {
   "cell_type": "code",
   "execution_count": null,
   "metadata": {},
   "outputs": [],
   "source": [
    "df2020_x = df2020[df2020[\"financial_health_grade\"]==\"D\"].loc[idx[:,candidates_zombies],:]"
   ]
  },
  {
   "cell_type": "code",
   "execution_count": null,
   "metadata": {},
   "outputs": [],
   "source": [
    "n = len(candidates_zombies)\n",
    "yoko = 5\n",
    "tate = int(n / yoko) + 1\n",
    "print(tate,yoko)\n",
    "\n",
    "df2020_x.loc[idx[:,candidates_zombies],:][\"close_price\"].unstack().apply(np.log).diff().cumsum().plot(\n",
    "    subplots=True, layout=(tate, yoko), figsize=(20,20), ylim=(-0.7, 0.3)\n",
    ")\n"
   ]
  },
  {
   "cell_type": "code",
   "execution_count": null,
   "metadata": {},
   "outputs": [],
   "source": [
    "pipeline_output.xs(symbols(\"APA\"), level=1)[\"ebit_interest_expense\"].plot()"
   ]
  },
  {
   "cell_type": "code",
   "execution_count": null,
   "metadata": {},
   "outputs": [],
   "source": [
    "latest_date = pipeline_output.index.get_level_values(0)[-1]\n",
    "df_zombies = pipeline_output.loc[latest_date][pipeline_output.loc[latest_date][\"zombies\"]]\n",
    "df_zombies\n"
   ]
  },
  {
   "cell_type": "code",
   "execution_count": null,
   "metadata": {},
   "outputs": [],
   "source": [
    "df_zombies[df_zombies[\"ebit_interest_expense\"] >0].sort_values(by=\"ebit_interest_expense\")"
   ]
  },
  {
   "cell_type": "markdown",
   "metadata": {},
   "source": [
    "### 0 < 稼ぎ/金利コスト < 0.2  の銘柄を確認\n",
    "\n",
    "`稼ぎ/金利コスト < 0.2` ということは、かせなくてはいけない金利の20％しか稼いでいない（前期）という事なので、こりゃヤバそうだ。\n"
   ]
  },
  {
   "cell_type": "code",
   "execution_count": null,
   "metadata": {},
   "outputs": [],
   "source": [
    "from quantopian.research import prices, symbols\n",
    "start='2020-01-01'\n",
    "end='2020-05-22'\n",
    "\n",
    "candidates = df_zombies[(df_zombies[\"ebit_interest_expense\"] >0) & (df_zombies[\"ebit_interest_expense\"] <0.2)].sort_values(by=\"ebit_interest_expense\")\n",
    "close_price_candidates = prices(assets=candidates.index.tolist(),start=start, end=end,)\n",
    "\n",
    "n = len(candidates.index)\n",
    "yoko = 4\n",
    "tate = int(n / yoko) + 1\n",
    "print(tate,yoko)\n",
    "\n",
    "close_price_candidates.apply(np.log).diff().cumsum().plot(\n",
    "    subplots=True, layout=(tate, yoko), figsize=(20,20), #ylim=(-0.7, 0.3)\n",
    ")\n",
    "\n"
   ]
  },
  {
   "cell_type": "markdown",
   "metadata": {},
   "source": [
    "## ランキング毎で数える"
   ]
  },
  {
   "cell_type": "code",
   "execution_count": null,
   "metadata": {},
   "outputs": [],
   "source": [
    "def get_tickers_by_ranking(df, label):\n",
    "    df_rank = df[df[\"financial_health_grade\"] == label]\n",
    "    tickers = df_rank.index\n",
    "    return tickers \n",
    "\n",
    "A = get_tickers_by_ranking(df_zombies, \"A\")\n",
    "B = get_tickers_by_ranking(df_zombies, \"B\")\n",
    "C = get_tickers_by_ranking(df_zombies, \"C\")\n",
    "D = get_tickers_by_ranking(df_zombies, \"D\")\n",
    "F = get_tickers_by_ranking(df_zombies, \"F\")\n",
    "NA = get_tickers_by_ranking(df_zombies, np.nan) # 格付けされていない銘柄もある\n",
    "\n",
    "len(A), len(B), len(C), len(D), len(F) \n",
    "\n"
   ]
  },
  {
   "cell_type": "code",
   "execution_count": null,
   "metadata": {},
   "outputs": [],
   "source": [
    "from quantopian.research import prices, symbols\n",
    "start='2020-01-01'\n",
    "end='2020-05-22'\n",
    "\n",
    "close_price_A = prices(assets=A,start=start, end=end,)\n",
    "close_price_B = prices(assets=B,start=start, end=end,)\n",
    "close_price_C = prices(assets=C,start=start, end=end,)\n",
    "close_price_D = prices(assets=D,start=start, end=end,)\n",
    "close_price_F = prices(assets=F,start=start, end=end,)\n",
    "close_price_NA = prices(assets=NA,start=start, end=end,)\n",
    "close_price_SPY = prices(assets=\"SPY\",start=start, end=end,)\n",
    "\n",
    "\n",
    "close_price_A.pct_change().mean(axis=1).cumsum().plot(label=\"A\", legend=True)\n",
    "close_price_B.pct_change().mean(axis=1).cumsum().plot(label=\"B\", legend=True)\n",
    "close_price_C.pct_change().mean(axis=1).cumsum().plot(label=\"C\", legend=True)\n",
    "close_price_D.pct_change().mean(axis=1).cumsum().plot(label=\"D\", legend=True)\n",
    "close_price_F.pct_change().mean(axis=1).cumsum().plot(label=\"F\", legend=True)\n",
    "close_price_NA.pct_change().mean(axis=1).cumsum().plot(label=\"NA\", legend=True)\n",
    "close_price_SPY.pct_change().cumsum().plot(label=\"SPY\", legend=True, linewidth=3, color='#e4007f')"
   ]
  },
  {
   "cell_type": "markdown",
   "metadata": {},
   "source": [
    "## たしかにDがオカシイ。\n",
    "\n",
    "Dの７５社のうち、戻ってる10社を見よう"
   ]
  },
  {
   "cell_type": "code",
   "execution_count": null,
   "metadata": {},
   "outputs": [],
   "source": [
    "candidates = close_price_D.apply(np.log).diff().cumsum().iloc[-1].sort_values(ascending=False).head(10).index.tolist()\n",
    "\n",
    "n = len(candidates)\n",
    "yoko = 4\n",
    "tate = int(n / yoko) + 1\n",
    "print(tate,yoko)\n",
    "\n",
    "close_price_D[candidates].apply(np.log).diff().cumsum().plot(\n",
    "    subplots=True, layout=(tate, yoko), #figsize=(40,80), #ylim=(-0.7, 0.3)\n",
    ")\n"
   ]
  }
 ],
 "metadata": {
  "kernelspec": {
   "display_name": "Python 3.5",
   "language": "python",
   "name": "py35"
  },
  "language_info": {
   "codemirror_mode": {
    "name": "ipython",
    "version": 3
   },
   "file_extension": ".py",
   "mimetype": "text/x-python",
   "name": "python",
   "nbconvert_exporter": "python",
   "pygments_lexer": "ipython3",
   "version": "3.5.9"
  }
 },
 "nbformat": 4,
 "nbformat_minor": 2
}
