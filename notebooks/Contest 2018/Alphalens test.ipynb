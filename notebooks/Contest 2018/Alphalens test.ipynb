{
 "cells": [
  {
   "cell_type": "code",
   "execution_count": null,
   "metadata": {},
   "outputs": [],
   "source": [
    "import numpy as np\n",
    "import pandas as pd\n",
    "from scipy import stats\n",
    "\n",
    "import seaborn as sns\n",
    "import matplotlib.pyplot as plt\n",
    "\n",
    "from quantopian.research import run_pipeline\n",
    "from quantopian.pipeline import Pipeline\n",
    "from quantopian.pipeline.data.builtin import USEquityPricing\n",
    "from quantopian.pipeline.factors import CustomFactor, Returns,SimpleMovingAverage\n",
    "from quantopian.pipeline.classifiers.fundamentals import Sector  \n",
    "from quantopian.pipeline.filters import QTradableStocksUS\n",
    "from time import time\n",
    "\n",
    "import alphalens as al \n"
   ]
  },
  {
   "cell_type": "code",
   "execution_count": null,
   "metadata": {},
   "outputs": [],
   "source": [
    "MORNINGSTAR_SECTOR_CODES = {\n",
    "     -1: 'Misc',\n",
    "    101: 'Basic Materials',\n",
    "    102: 'Consumer Cyclical',\n",
    "    103: 'Financial Services',\n",
    "    104: 'Real Estate',\n",
    "    205: 'Consumer Defensive',\n",
    "    206: 'Healthcare',\n",
    "    207: 'Utilities',\n",
    "    308: 'Communication Services',\n",
    "    309: 'Energy',\n",
    "    310: 'Industrials',\n",
    "    311: 'Technology' ,    \n",
    "}\n"
   ]
  },
  {
   "cell_type": "code",
   "execution_count": null,
   "metadata": {},
   "outputs": [],
   "source": [
    "class Zscore(CustomFactor):\n",
    "    \"\"\"\n",
    "    \"\"\"\n",
    "    inputs = [USEquityPricing.close,]\n",
    "    window_length = 20\n",
    "    \n",
    "    def compute(self, today, assets, out, close):\n",
    "        out[:] = stats.zscore(close, axis=0)[-1] \n",
    "        \n",
    "        \n",
    "\n",
    "def my_sma():\n",
    "    \n",
    "    base_universe= QTradableStocksUS()\n",
    "    \n",
    "    sma = SimpleMovingAverage(inputs=[USEquityPricing.close], window_length=60)\n",
    "    zscore = Zscore()\n",
    "    adj_close = USEquityPricing.close.latest \n",
    "    sector = Sector()\n",
    "\n",
    "    myfactor = sma /adj_close #adj_close / sma \n",
    "    zscored_ratio = myfactor.zscore(mask=base_universe)\n",
    "    \n",
    "    return Pipeline(\n",
    "        columns = {\n",
    "            'zscore': zscore,\n",
    "            'zscored_ratio':zscored_ratio, \n",
    "            'adj_close':adj_close,\n",
    "            'sma':sma,\n",
    "            'Sector' : Sector(),\n",
    "            'myfactor':myfactor,\n",
    "        },\n",
    "        screen=zscored_ratio.notnull() \n",
    "    )\n"
   ]
  },
  {
   "cell_type": "code",
   "execution_count": null,
   "metadata": {},
   "outputs": [],
   "source": [
    "start_timer = time()\n",
    "results = run_pipeline(my_sma(), '2016-01-01', '2018-01-01')\n",
    "end_timer = time()\n",
    "results.fillna(value=0);\n"
   ]
  },
  {
   "cell_type": "code",
   "execution_count": null,
   "metadata": {},
   "outputs": [],
   "source": [
    "print \"Time to run pipeline %.2f secs\" % (end_timer - start_timer)\n",
    "\n"
   ]
  },
  {
   "cell_type": "code",
   "execution_count": null,
   "metadata": {},
   "outputs": [],
   "source": [
    "results.head()"
   ]
  },
  {
   "cell_type": "code",
   "execution_count": null,
   "metadata": {},
   "outputs": [],
   "source": [
    "## 全期間で株式データを取得する。\n",
    "asset_list = results.index.levels[1]\n",
    "len(asset_list)"
   ]
  },
  {
   "cell_type": "code",
   "execution_count": null,
   "metadata": {},
   "outputs": [],
   "source": [
    "prices = get_pricing(asset_list, start_date='2016-01-01', end_date='2018-01-01', fields='close_price')\n",
    "prices.head()"
   ]
  },
  {
   "cell_type": "code",
   "execution_count": null,
   "metadata": {},
   "outputs": [],
   "source": [
    "## alphalens のテストに使う収益率の日数。\n",
    "periods = (1,5,10)\n",
    "## factor をアルファレンズにかける。\n",
    "## \n",
    "factor_data = al.utils.get_clean_factor_and_forward_returns(factor=results[\"myfactor\"],\n",
    "                                                           prices=prices,\n",
    "                                                           groupby=results[\"Sector\"],\n",
    "                                                           groupby_labels=MORNINGSTAR_SECTOR_CODES,\n",
    "                                                           periods=periods,\n",
    "                                                           quantiles=10)"
   ]
  },
  {
   "cell_type": "code",
   "execution_count": null,
   "metadata": {},
   "outputs": [],
   "source": [
    "## factor_quantileが、Factorでランキングされたあとに分位されて、グループ化された。\n",
    "factor_data.head()"
   ]
  },
  {
   "cell_type": "code",
   "execution_count": null,
   "metadata": {},
   "outputs": [],
   "source": [
    "len(factor_data.loc[\"2016-01-04\"][factor_data.loc[\"2016-01-04\"][\"factor_quantile\"]==5])\n"
   ]
  },
  {
   "cell_type": "code",
   "execution_count": null,
   "metadata": {},
   "outputs": [],
   "source": [
    "al.tears.create_returns_tear_sheet(factor_data, by_group=True)"
   ]
  },
  {
   "cell_type": "code",
   "execution_count": null,
   "metadata": {},
   "outputs": [],
   "source": [
    "al.tears.create_information_tear_sheet(factor_data, by_group=True,)\n"
   ]
  }
 ],
 "metadata": {
  "kernelspec": {
   "display_name": "Python 2",
   "language": "python",
   "name": "python2"
  },
  "language_info": {
   "codemirror_mode": {
    "name": "ipython",
    "version": 2
   },
   "file_extension": ".py",
   "mimetype": "text/x-python",
   "name": "python",
   "nbconvert_exporter": "python",
   "pygments_lexer": "ipython2",
   "version": "2.7.12"
  }
 },
 "nbformat": 4,
 "nbformat_minor": 2
}
