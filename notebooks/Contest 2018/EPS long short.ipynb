{
 "cells": [
  {
   "cell_type": "code",
   "execution_count": null,
   "metadata": {},
   "outputs": [],
   "source": [
    "from quantopian.research import run_pipeline\n",
    "from quantopian.pipeline import Pipeline\n",
    "from quantopian.pipeline import factors, filters, classifiers\n",
    "from quantopian.pipeline.classifiers import Classifier\n",
    "from quantopian.pipeline.factors import CustomFactor, Returns, SimpleMovingAverage, DailyReturns, BollingerBands\n",
    "from quantopian.pipeline.filters import StaticAssets, Q500US, Q1500US, Q3000US, QTradableStocksUS\n",
    "from quantopian.pipeline.classifiers.fundamentals import Sector  \n",
    "from quantopian.pipeline.data.builtin import USEquityPricing\n",
    "\n",
    "from quantopian.pipeline.data import Fundamentals\n",
    "\n",
    "import alphalens\n",
    "import datetime\n",
    "import numpy as np\n",
    "import pandas as pd\n",
    "\n"
   ]
  },
  {
   "cell_type": "code",
   "execution_count": null,
   "metadata": {},
   "outputs": [],
   "source": [
    "start_date  = '2015-01-01'\n",
    "end_date    = '2018-11-20'\n",
    "\n",
    "universe = QTradableStocksUS()\n",
    "sma =SimpleMovingAverage( inputs=[USEquityPricing.close],   window_length=20) \n",
    "bband = BollingerBands( inputs=[USEquityPricing.close],   window_length=20, k=2) \n",
    "\n",
    "sector = Sector(mask=universe)\n",
    "bb_u = bband.upper\n",
    "bb_l = bband.lower\n",
    "zscore_u = bb_u.zscore()\n",
    "zscore_l = bb_l.zscore()\n",
    "\n",
    "pipe = Pipeline()\n",
    "pipe.add(sma, \"sma\")\n",
    "pipe.add(sector, \"sector\")  \n",
    "#pipe.add(zscore, \"zscore\")\n",
    "pipe.add(bb_u, \"bb_u\")\n",
    "pipe.add(bb_l, \"bb_l\")\n",
    "pipe.add(zscore_u, \"zscore_u\")\n",
    "pipe.add(zscore_l, \"zscore_l\")\n",
    "\n",
    "pipe.add(bband.upper, \"bband_up\")\n",
    "pipe.add(bband.lower, \"bband_low\")\n",
    "pipe.add(USEquityPricing.close.latest, \"close\")\n",
    "pipe.set_screen(universe)\n",
    "factor = run_pipeline(pipe, start_date=start_date, end_date=end_date, chunksize=250)\n"
   ]
  },
  {
   "cell_type": "code",
   "execution_count": null,
   "metadata": {},
   "outputs": [],
   "source": [
    "factor.loc[\"2015-01-02\"].sort_values(by=\"zsc\")"
   ]
  },
  {
   "cell_type": "code",
   "execution_count": null,
   "metadata": {},
   "outputs": [],
   "source": [
    "df = factor.xs(symbols('aapl'), level=1) \n",
    "df[[ \"bb_l\", \"bb_u\", \"close\"]].plot(secondary_y=[\"zscore_l\",\"zscore_u\", ]) #\"zscore_l\",\"zscore_u\",\n"
   ]
  },
  {
   "cell_type": "code",
   "execution_count": null,
   "metadata": {},
   "outputs": [],
   "source": [
    "df = factor.xs(symbols('GE'), level=1) \n",
    "df[[ \"bb_l\", \"bb_u\", \"close\"]].plot(secondary_y=[\"zscore_l\",\"zscore_u\", ])#\"zscore_l\",\"zscore_u\",\n"
   ]
  },
  {
   "cell_type": "code",
   "execution_count": null,
   "metadata": {},
   "outputs": [],
   "source": [
    "df = factor.xs(symbols('KO'), level=1) \n",
    "df[[ \"bb_l\", \"bb_u\", \"zscore_l\",\"zscore_u\",\"close\"]].plot(secondary_y=[\"zscore_l\",\"zscore_u\", ])\n"
   ]
  },
  {
   "cell_type": "code",
   "execution_count": null,
   "metadata": {},
   "outputs": [],
   "source": [
    "aapl.head()"
   ]
  },
  {
   "cell_type": "code",
   "execution_count": null,
   "metadata": {},
   "outputs": [],
   "source": [
    "z = factor[\"zscore_u\"].reset_index().pivot(\"level_0\", \"level_1\", \"bb_l\")\n",
    "z"
   ]
  },
  {
   "cell_type": "code",
   "execution_count": null,
   "metadata": {},
   "outputs": [],
   "source": [
    "z.head().rank(axis=1,numeric_only=True)\n"
   ]
  },
  {
   "cell_type": "code",
   "execution_count": null,
   "metadata": {},
   "outputs": [],
   "source": [
    "sid_universe = set( factor.index.levels[1].unique() )\n",
    "\n",
    "prices = get_pricing(sid_universe, start_date=start_date, end_date=end_date, fields='open_price')\n"
   ]
  },
  {
   "cell_type": "code",
   "execution_count": null,
   "metadata": {},
   "outputs": [],
   "source": [
    "all_sectors = dict(Sector.SECTOR_NAMES)\n",
    "all_sectors[-1] = \"Unknown\"\n",
    "factor_data = alphalens.utils.get_clean_factor_and_forward_returns(factor=factor[\"factor\"],\n",
    "                                                                   prices=prices,\n",
    "                                                                   groupby=factor[\"sector\"],\n",
    "                                                                   quantiles=None,\n",
    "                                                                   bins=1,\n",
    "                                                                   periods=(1, 11, 22),\n",
    "                                                                   filter_zscore=None,\n",
    "                                                                   groupby_labels=all_sectors)\n",
    "\n"
   ]
  },
  {
   "cell_type": "code",
   "execution_count": null,
   "metadata": {},
   "outputs": [],
   "source": [
    "factor_data"
   ]
  },
  {
   "cell_type": "code",
   "execution_count": null,
   "metadata": {},
   "outputs": [],
   "source": [
    "from quantopian.pipeline.filters import QTradableStocksUS\n",
    "from quantopian.pipeline.data import Fundamentals\n",
    "from quantopian.pipeline.data.builtin import USEquityPricing\n",
    "from quantopian.research import run_pipeline\n",
    "from quantopian.pipeline import Pipeline\n",
    "\n",
    "import numpy as np\n",
    "import pandas as pd \n",
    "import matplotlib.pyplot as plt \n",
    "\n",
    "\n",
    "class IndustryMeanPE(CustomFactor):  \n",
    "    inputs = [Fundamentals.pe_ratio, Fundamentals.morningstar_industry_group_code]  \n",
    "    window_length = 252\n",
    "\n",
    "    def compute(self, today, assets, out, pe, industry_codes):  \n",
    "        df = pd.DataFrame(index=assets, data={\"pe_ratio\": pe[-1], \"industry_codes\": industry_codes[-1]}) \n",
    "\n",
    "        out[:] = df.groupby(\"industry_codes\").transform(np.mean).values.flatten()  \n",
    "\n",
    "        \n",
    "\n",
    "start_date  = '2015-01-01'\n",
    "end_date    = '2018-11-20'\n",
    "\n",
    "universe = QTradableStocksUS()\n",
    "pipe = Pipeline()\n",
    "\n",
    "pe_ratio = Fundamentals.pe_ratio.latest\n",
    "filterd_pe_ratio =  (pe_ratio < 40) & (pe_ratio > 0) \n",
    "\n",
    "pipe.add(USEquityPricing.close.latest, \"close\")\n",
    "pipe.add(pe_ratio, \"pe_ratio\")\n",
    "pipe.add(filterd_pe_ratio, \"filterd_pe_ratio\")\n",
    "\n",
    "pipe.set_screen(universe)\n",
    "\n",
    "results = run_pipeline(pipe, start_date=start_date, end_date=end_date, )\n",
    "\n",
    "results.head()"
   ]
  },
  {
   "cell_type": "code",
   "execution_count": null,
   "metadata": {},
   "outputs": [],
   "source": [
    "\"\"\"\n",
    "https://america-kabu.com/2017/10/08/us-stock-2017-4q/#toc4 の人が言うには，過去25年の平均PERは16倍\n",
    "では，取得出来たpe_ratioを見てみましょう．\n",
    "\"\"\"\n",
    "\n",
    "# subplot(行数、列数、プロット番号)\n",
    "fig = plt.figure()\n",
    "\n",
    "ax1 = fig.add_subplot(1, 2, 1)\n",
    "ax1.hist(results[\"pe_ratio\"].dropna(), bins=100)\n",
    "ax1.set_title(\"pe_ratio\")\n",
    "\n",
    "ax2 = fig.add_subplot(1, 2, 2)\n",
    "ax2.hist(results[results[\"filterd_pe_ratio\"]][\"pe_ratio\"], bins=100)\n",
    "ax2.set_title(\"pe_ratio, 0~40\")\n",
    "\n",
    "\n",
    "\"\"\"\n",
    "0-40拡大図を見ると，確かに頂点が16くらいと言ってもいい感じですね．\n",
    "．\n",
    "\"\"\""
   ]
  },
  {
   "cell_type": "code",
   "execution_count": null,
   "metadata": {},
   "outputs": [],
   "source": [
    "\"\"\"\n",
    "そもそもPERってどのような動きをするのか確認しておきましょう\n",
    "\"\"\"\n",
    "pe_ratio =  results[\"pe_ratio\"].reset_index().pivot(\"level_0\", \"level_1\", \"pe_ratio\")\n",
    "pe_ratio[[symbols(\"AAPL\"), symbols(\"V\"), symbols(\"PM\")]].plot()\n",
    "pe_ratio[[symbols(\"AAPL\"), symbols(\"V\"), symbols(\"PM\")]].pct_change().cumsum().plot()"
   ]
  },
  {
   "cell_type": "code",
   "execution_count": null,
   "metadata": {},
   "outputs": [],
   "source": [
    "\"\"\"\n",
    "生のPERではうまく行かない\n",
    "\n",
    "時系列\n",
    "業種\n",
    "\n",
    "もしその会社がどんどんだめになってるのでは、語ってくれない\n",
    "あくまでスナップショットなので、\n",
    "価格を見る（ボリバンとかRSI）よりも語りが少ない\n",
    "\n",
    "\"\"\""
   ]
  },
  {
   "cell_type": "code",
   "execution_count": null,
   "metadata": {},
   "outputs": [],
   "source": [
    "\"\"\"\n",
    "PERとCloseを並べて確認してみます\n",
    "\"\"\"\n",
    "df = results.xs(symbols('AAPL'), level=1) \n",
    "df[[\"close\", \"pe_ratio\"]].plot(secondary_y=\"pe_ratio\", title=\"Apple\")\n",
    "\n",
    "df = results.xs(symbols('V'), level=1) \n",
    "df[[\"close\", \"pe_ratio\"]].plot(secondary_y=\"pe_ratio\", title=\"VISA\")\n",
    "\n",
    "df = results.xs(symbols('PM'), level=1) \n",
    "df[[\"close\", \"pe_ratio\"]].plot(secondary_y=\"pe_ratio\", title=\"Philip Morris\")\n",
    "\n"
   ]
  },
  {
   "cell_type": "code",
   "execution_count": null,
   "metadata": {},
   "outputs": [],
   "source": [
    "\"\"\"\n",
    "こうやって見ると，銘柄でPERの水準は全然違います．\n",
    "同業種ではどうでしょう？\n",
    "\n",
    "\"\"\"\n",
    "\n",
    "pe_ratio[[symbols(\"MO\"), symbols(\"PM\")]].plot()\n",
    "pe_ratio[[symbols(\"MO\"), symbols(\"PM\")]].pct_change().cumsum().plot()\n",
    "\n",
    "df = results.xs(symbols('PM'), level=1) \n",
    "df[[\"close\", \"pe_ratio\"]].plot(secondary_y=\"pe_ratio\", title=\"Philip Morris\")\n",
    "\n",
    "df = results.xs(symbols('MO'), level=1) \n",
    "df[[\"close\", \"pe_ratio\"]].plot(secondary_y=\"pe_ratio\", title=\"Altria\")\n",
    "\n"
   ]
  },
  {
   "cell_type": "code",
   "execution_count": null,
   "metadata": {},
   "outputs": [],
   "source": [
    "#results[\"per\"].replace([np.inf, -np.inf], np.nan).dropna().sort_values().describe()\n",
    "# df = results.xs(symbols('TEN'), level=1) \n",
    "# df[[\"close\", \"per\"]].plot(secondary_y=\"per\")\n",
    "# results[(results[\"per\"] >= 12) & (results[\"per\"] <= 20)]\n",
    "\n",
    "norm_per = results[\"norm_per\"].reset_index().pivot(\"level_0\", \"level_1\", \"norm_per\")\n",
    "norm_eps = results[\"norm_eps\"].reset_index().pivot(\"level_0\", \"level_1\", \"norm_eps\")\n",
    "pe_ratio =  results[\"pe_ratio\"].reset_index().pivot(\"level_0\", \"level_1\", \"pe_ratio\")\n",
    "per_norm = results[\"per_norm\"].reset_index().pivot(\"level_0\", \"level_1\", \"per_norm\")\n"
   ]
  },
  {
   "cell_type": "code",
   "execution_count": null,
   "metadata": {},
   "outputs": [],
   "source": [
    "#norm_eps.replace([np.inf, -np.inf], np.nan).fillna(\"ffill\").describe().loc[\"50%\"].hist(bins=100)\n",
    "\n",
    "norm_per_50p = norm_per.replace([np.inf, -np.inf], np.nan).fillna(\"ffill\").describe().loc[\"50%\"]\n",
    "#norm_per_50p.hist(bins=100)\n",
    "norm_per_50p[norm_per_50p.between(-100,100)].hist(bins=100)\n"
   ]
  },
  {
   "cell_type": "code",
   "execution_count": null,
   "metadata": {},
   "outputs": [],
   "source": [
    "norm_per_50p = pe_ratio.replace([np.inf, -np.inf], np.nan).fillna(\"ffill\").describe().loc[\"50%\"]\n",
    "#norm_per_50p.hist(bins=100)\n",
    "norm_per_50p[norm_per_50p.between(-100,100)].hist(bins=100)"
   ]
  },
  {
   "cell_type": "code",
   "execution_count": null,
   "metadata": {},
   "outputs": [],
   "source": []
  },
  {
   "cell_type": "code",
   "execution_count": null,
   "metadata": {},
   "outputs": [],
   "source": [
    "norm_per_50p = per_norm.replace([np.inf, -np.inf], np.nan).fillna(\"ffill\").describe().loc[\"50%\"]\n",
    "#norm_per_50p.hist(bins=100)\n",
    "norm_per_50p[norm_per_50p.between(-2,2)].hist(bins=100)\n"
   ]
  }
 ],
 "metadata": {
  "kernelspec": {
   "display_name": "Python 2",
   "language": "python",
   "name": "python2"
  },
  "language_info": {
   "codemirror_mode": {
    "name": "ipython",
    "version": 2
   },
   "file_extension": ".py",
   "mimetype": "text/x-python",
   "name": "python",
   "nbconvert_exporter": "python",
   "pygments_lexer": "ipython2",
   "version": "2.7.12"
  }
 },
 "nbformat": 4,
 "nbformat_minor": 2
}
