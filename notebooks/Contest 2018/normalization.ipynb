{
 "cells": [
  {
   "cell_type": "code",
   "execution_count": null,
   "metadata": {},
   "outputs": [],
   "source": []
  },
  {
   "cell_type": "markdown",
   "metadata": {},
   "source": [
    "## 正規化\n",
    "\n",
    "Factor: RSI/Bollinger Band などのテクニカル分析指標や、PER/ESPなどのファンダメンタル指標などの数値のこと\n",
    "\n",
    "多くのFactorは、他のFactorと比べる事が出来ない。\n",
    "でも比較してモデルに盛り込みたい\n",
    "そういう時は正規化だ\n",
    "\n",
    "### demean\n",
    "\n",
    "`demean()` は、同じ行に並んでいる数値を平均し、自分自身から引き算した数値を返します。\n",
    "\n",
    "\n",
    "例えば、dfはこのようなDataFrameであれば\n",
    "\n",
    "DATE|      AAPL|  MSFT|  MCD|   BK\n",
    "---|---|---|---|---\n",
    "2017-03-13|1|2|3|4\n",
    "2017-03-14|1.5|2.5|3.5|1\n",
    "2017-03-15|2|3|4|1.5\n",
    "2017-03-16|2.5|3.5|1|2\n",
    "\n",
    "df.demean() はこれを返します\n",
    "\n",
    "date|  AAPL| MSFT|  MCD|    BK\n",
    "---|---|---|---|---\n",
    "2017-03-13|-1.500|-0.5|0.5|1.5\n",
    "2017-03-14|-0.625|0.375|1.375|-1.125\n",
    "2017-03-15|-0.625|0.375|1.375|-1.125\n",
    "2017-03-16|0.25|-1.25|1.25|-0.25\n",
    "\n",
    "\n",
    "\n"
   ]
  },
  {
   "cell_type": "code",
   "execution_count": null,
   "metadata": {},
   "outputs": [],
   "source": [
    "import numpy as np\n",
    "import pandas as pd\n",
    "from scipy import stats\n",
    "\n",
    "import seaborn as sns\n",
    "import matplotlib.pyplot as plt\n",
    "\n",
    "from quantopian.pipeline import Pipeline\n",
    "from quantopian.pipeline.factors import Returns,BollingerBands, SimpleMovingAverage,CustomFactor\n",
    "from quantopian.research import run_pipeline\n",
    "from quantopian.pipeline.data.builtin import USEquityPricing\n",
    "from quantopian.pipeline.filters import StaticAssets, Q500US, Q1500US, Q3000US, QTradableStocksUS\n",
    "from quantopian.pipeline.classifiers.fundamentals import Sector  "
   ]
  },
  {
   "cell_type": "code",
   "execution_count": null,
   "metadata": {},
   "outputs": [],
   "source": [
    "def demean_example():\n",
    "    \n",
    "    returns = Returns(window_length=30) # == close.pct_change(29) \n",
    "    \n",
    "    # 同日の他の銘柄のReturnの平均と、自分がどのくらい違うか\n",
    "    demeaned_returns = returns.demean()\n",
    "    # その日のClose\n",
    "    adj_close = USEquityPricing.close.latest \n",
    "    \n",
    "    universe = Q500US()\n",
    "    \n",
    "    return Pipeline(\n",
    "        columns = {\n",
    "            'vanilla': returns,\n",
    "            'demeaned': demeaned_returns,\n",
    "            'adj_close': adj_close, \n",
    "            'return_mean': returns-demeaned_returns,\n",
    "        },\n",
    "        screen = universe\n",
    "        \n",
    "    )\n",
    "\n",
    "results0 = run_pipeline(demean_example(), '2014', '2014-03-01')\n",
    "results0.head()"
   ]
  },
  {
   "cell_type": "code",
   "execution_count": null,
   "metadata": {},
   "outputs": [],
   "source": [
    "# demean のいいところは、中心が0付近になること\n",
    "fig, ax = plt.subplots(2,2)\n",
    "ax[0,0].hist(results0.loc[\"2014-01-02\"][\"demeaned\"], bins=100)\n",
    "ax[0,1].hist(results0.loc[\"2014-02-03\"][\"demeaned\"], bins=100)\n",
    "ax[1,0].hist(results0.loc[\"2014-02-21\"][\"demeaned\"], bins=100)\n",
    "ax[1,1].hist(results0.loc[\"2014-01-21\"][\"demeaned\"], bins=100)\n"
   ]
  },
  {
   "cell_type": "markdown",
   "metadata": {},
   "source": [
    "### zscore \n",
    "\n",
    "`demean()` は、同日の他の銘柄の平均と自分を比較したが\n",
    "\n",
    "`zscore()` は、それを「分散で割る」という計算をいれます。\n",
    "\n",
    "よって、`zscore()` / `demean()`  はその日の標準偏差が出る\n",
    "\n"
   ]
  },
  {
   "cell_type": "code",
   "execution_count": null,
   "metadata": {},
   "outputs": [],
   "source": [
    "def zscore_example():\n",
    "    returns = Returns(window_length=30)\n",
    "    demeaned_returns = returns.demean()\n",
    "    zscore_returns = returns.zscore()\n",
    "    universe = Q500US()\n",
    "    \n",
    "    return Pipeline(\n",
    "        columns = {\n",
    "            'vanilla':returns, \n",
    "            'zscored': zscore_returns,\n",
    "            'sd':zscore_returns / demeaned_returns, # 今日の標準偏差がでる\n",
    "\n",
    "        },\n",
    "        screen = universe & returns.notnull()\n",
    "    )\n",
    "\n",
    "results1 = run_pipeline(zscore_example(), '2014', '2014-03-01')\n",
    "results1.head()\n",
    "    "
   ]
  },
  {
   "cell_type": "code",
   "execution_count": null,
   "metadata": {},
   "outputs": [],
   "source": [
    "fig, ax = plt.subplots(2,2)\n",
    "ax[0,0].hist(results1.loc[\"2014-01-02\"][\"zscored\"], bins=100)\n",
    "ax[0,1].hist(results1.loc[\"2014-02-03\"][\"zscored\"], bins=100)\n",
    "ax[1,0].hist(results1.loc[\"2014-02-21\"][\"zscored\"], bins=100)\n",
    "ax[1,1].hist(results1.loc[\"2014-01-21\"][\"zscored\"], bins=100)\n"
   ]
  },
  {
   "cell_type": "markdown",
   "metadata": {},
   "source": [
    "### mask \n",
    "\n",
    "`zscore()`, `demean()` どちらも `mask=` オプションを持つ。Filterとして使う。\n",
    "\n",
    "\n",
    "\n"
   ]
  },
  {
   "cell_type": "code",
   "execution_count": null,
   "metadata": {},
   "outputs": [],
   "source": [
    "\n",
    "from quantopian.pipeline.factors import AverageDollarVolume\n",
    "from quantopian.pipeline.filters.morningstar import IsPrimaryShare\n",
    "\n",
    "def masked_zscore_returns_example():\n",
    "    returns = Returns(window_length=30)\n",
    "    \n",
    "    is_liquid = AverageDollarVolume(window_length=30,).percentile_between(25,100)\n",
    "    is_primary = IsPrimaryShare()\n",
    "    no_returns_outliers = returns.percentile_between(2,98)\n",
    "    base_universe = is_liquid & is_primary & no_returns_outliers & Q500US()\n",
    "    \n",
    "    masked_zscore = returns.zscore(mask=base_universe)\n",
    "    \n",
    "    return Pipeline(\n",
    "        columns = {\n",
    "            'masked_zscore':masked_zscore, \n",
    "            'returns':returns,\n",
    "        },\n",
    "        screen=masked_zscore.notnull()\n",
    "    )\n",
    "    \n",
    "results2 = run_pipeline(masked_zscore_returns_example(), '2014', '2014-03-01')\n",
    "results2.head()    "
   ]
  },
  {
   "cell_type": "code",
   "execution_count": null,
   "metadata": {},
   "outputs": [],
   "source": [
    "results2.describe()"
   ]
  },
  {
   "cell_type": "code",
   "execution_count": null,
   "metadata": {},
   "outputs": [],
   "source": [
    "def my_bollinger_band():\n",
    "    universe = QTradableStocksUS()\n",
    "    \n",
    "    bband = BollingerBands(inputs=[USEquityPricing.close],   window_length=20, k=2)\n",
    "    bband_upper = bband.upper\n",
    "    bband_lower = bband.lower\n",
    "    \n",
    "    adj_close = USEquityPricing.close.latest \n",
    "    \n",
    "    # bband_upperとadj_closeの密着度\n",
    "    ratio_upper_and_close = bband_upper / adj_close\n",
    "    ratio_lower_and_close = bband_lower / adj_close\n",
    "    \n",
    "    zscored_ratio_upper_and_close = ratio_upper_and_close.zscore()\n",
    "    zscored_ratio_lower_and_close = ratio_lower_and_close.zscore()\n",
    "    \n",
    "    pipe = Pipeline()\n",
    "    pipe.add(adj_close, 'adj_close')\n",
    "    pipe.add(ratio_upper_and_close, 'ratio_upper_and_close')\n",
    "    pipe.add(ratio_lower_and_close, 'ratio_lower_and_close')\n",
    "    pipe.add(zscored_ratio_upper_and_close, 'zscored_ratio_upper_and_close')\n",
    "    pipe.add(zscored_ratio_lower_and_close, 'zscored_ratio_lower_and_close')\n",
    "    \n",
    "    screen = universe & zscored_ratio_upper_and_close.notnull() & zscored_ratio_lower_and_close.notnull()\n",
    "    pipe.set_screen(screen)\n",
    "    \n",
    "    return pipe \n",
    "  \n",
    "results3 = run_pipeline(my_bollinger_band(), '2014', '2018-11-01')\n",
    "results3.head()      \n",
    "    "
   ]
  },
  {
   "cell_type": "code",
   "execution_count": null,
   "metadata": {},
   "outputs": [],
   "source": [
    "df = results3.xs(symbols('V'), level=1) \n",
    "df[\"zscored_ratio_lower_and_close\"].hist(bins=100)\n",
    "df[\"zscored_ratio_upper_and_close\"].hist(bins=100)\n"
   ]
  },
  {
   "cell_type": "code",
   "execution_count": null,
   "metadata": {},
   "outputs": [],
   "source": [
    "class Zscore(CustomFactor):\n",
    "    \"\"\"\n",
    "    \"\"\"\n",
    "    inputs = [USEquityPricing.close,]\n",
    "    window_length = 20\n",
    "    \n",
    "    def compute(self, today, assets, out, close):\n",
    "        out[:] = stats.zscore(close, axis=0)[-1] \n",
    "        \n",
    "        \n",
    "\n",
    "def my_sma():\n",
    "    \n",
    "    base_universe= QTradableStocksUS()\n",
    "    \n",
    "    sma = SimpleMovingAverage(inputs=[USEquityPricing.close], window_length=20)\n",
    "    zscore = Zscore()\n",
    "    adj_close = USEquityPricing.close.latest \n",
    "    \n",
    "    \n",
    "    ratio = adj_close / sma \n",
    "    zscored_ratio = ratio.zscore(mask=base_universe)\n",
    "    \n",
    "    return Pipeline(\n",
    "        columns = {\n",
    "            'zscore': zscore,\n",
    "            'zscored_ratio':zscored_ratio, \n",
    "            'adj_close':adj_close,\n",
    "            'sma':sma,\n",
    "        },\n",
    "        screen=zscored_ratio.notnull()\n",
    "    )\n",
    "\n",
    "    \n",
    "results4 = run_pipeline(my_sma(), '2014', '2018-11-01')\n",
    "results4.head()         \n",
    "    "
   ]
  },
  {
   "cell_type": "code",
   "execution_count": null,
   "metadata": {},
   "outputs": [],
   "source": [
    "results4[\"zscore\"].hist(bins=100)"
   ]
  },
  {
   "cell_type": "code",
   "execution_count": null,
   "metadata": {},
   "outputs": [],
   "source": [
    "df = results4.xs(symbols('KO'), level=1) \n",
    "df[\"over2\"] = df[\"zscore\"] > 2\n",
    "df\n"
   ]
  },
  {
   "cell_type": "code",
   "execution_count": null,
   "metadata": {},
   "outputs": [],
   "source": [
    "df[[\"adj_close\", \"over2\"]].plot(secondary_y = \"over2\")"
   ]
  },
  {
   "cell_type": "code",
   "execution_count": null,
   "metadata": {},
   "outputs": [],
   "source": [
    "import alphalens as al\n"
   ]
  },
  {
   "cell_type": "code",
   "execution_count": null,
   "metadata": {},
   "outputs": [],
   "source": [
    "MORNINGSTAR_SECTOR_CODES = {\n",
    "     -1: 'Misc',\n",
    "    101: 'Basic Materials',\n",
    "    102: 'Consumer Cyclical',\n",
    "    103: 'Financial Services',\n",
    "    104: 'Real Estate',\n",
    "    205: 'Consumer Defensive',\n",
    "    206: 'Healthcare',\n",
    "    207: 'Utilities',\n",
    "    308: 'Communication Services',\n",
    "    309: 'Energy',\n",
    "    310: 'Industrials',\n",
    "    311: 'Technology' ,    \n",
    "}\n"
   ]
  },
  {
   "cell_type": "code",
   "execution_count": null,
   "metadata": {},
   "outputs": [],
   "source": []
  },
  {
   "cell_type": "code",
   "execution_count": null,
   "metadata": {},
   "outputs": [],
   "source": []
  },
  {
   "cell_type": "code",
   "execution_count": null,
   "metadata": {},
   "outputs": [],
   "source": []
  },
  {
   "cell_type": "code",
   "execution_count": null,
   "metadata": {},
   "outputs": [],
   "source": []
  },
  {
   "cell_type": "code",
   "execution_count": null,
   "metadata": {},
   "outputs": [],
   "source": []
  },
  {
   "cell_type": "code",
   "execution_count": null,
   "metadata": {},
   "outputs": [],
   "source": []
  },
  {
   "cell_type": "code",
   "execution_count": null,
   "metadata": {},
   "outputs": [],
   "source": []
  },
  {
   "cell_type": "code",
   "execution_count": null,
   "metadata": {},
   "outputs": [],
   "source": []
  },
  {
   "cell_type": "code",
   "execution_count": null,
   "metadata": {},
   "outputs": [],
   "source": []
  },
  {
   "cell_type": "code",
   "execution_count": null,
   "metadata": {},
   "outputs": [],
   "source": []
  },
  {
   "cell_type": "code",
   "execution_count": null,
   "metadata": {},
   "outputs": [],
   "source": []
  },
  {
   "cell_type": "code",
   "execution_count": null,
   "metadata": {},
   "outputs": [],
   "source": []
  },
  {
   "cell_type": "code",
   "execution_count": null,
   "metadata": {},
   "outputs": [],
   "source": []
  },
  {
   "cell_type": "code",
   "execution_count": null,
   "metadata": {},
   "outputs": [],
   "source": []
  },
  {
   "cell_type": "code",
   "execution_count": null,
   "metadata": {},
   "outputs": [],
   "source": []
  },
  {
   "cell_type": "code",
   "execution_count": null,
   "metadata": {},
   "outputs": [],
   "source": []
  },
  {
   "cell_type": "code",
   "execution_count": null,
   "metadata": {},
   "outputs": [],
   "source": []
  },
  {
   "cell_type": "code",
   "execution_count": null,
   "metadata": {},
   "outputs": [],
   "source": []
  },
  {
   "cell_type": "code",
   "execution_count": null,
   "metadata": {},
   "outputs": [],
   "source": []
  }
 ],
 "metadata": {
  "kernelspec": {
   "display_name": "Python 2",
   "language": "python",
   "name": "python2"
  },
  "language_info": {
   "codemirror_mode": {
    "name": "ipython",
    "version": 2
   },
   "file_extension": ".py",
   "mimetype": "text/x-python",
   "name": "python",
   "nbconvert_exporter": "python",
   "pygments_lexer": "ipython2",
   "version": "2.7.12"
  }
 },
 "nbformat": 4,
 "nbformat_minor": 2
}
