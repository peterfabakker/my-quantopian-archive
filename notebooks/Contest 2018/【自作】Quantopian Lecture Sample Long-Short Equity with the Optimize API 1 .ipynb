{
 "cells": [
  {
   "cell_type": "code",
   "execution_count": null,
   "metadata": {},
   "outputs": [],
   "source": [
    "import numpy as np\n",
    "import pandas as pd\n",
    "from scipy import stats\n",
    "\n",
    "import seaborn as sns\n",
    "import matplotlib.pyplot as plt\n",
    "\n",
    "from quantopian.research import run_pipeline\n",
    "from quantopian.pipeline import Pipeline\n",
    "from quantopian.pipeline.data.builtin import USEquityPricing\n",
    "from quantopian.pipeline.factors import CustomFactor, Returns,SimpleMovingAverage\n",
    "from quantopian.pipeline.classifiers.fundamentals import Sector  \n",
    "from quantopian.pipeline.data import Fundamentals\n",
    "\n",
    "from quantopian.pipeline.data.psychsignal import stocktwits\n",
    "\n",
    "from quantopian.pipeline.filters import QTradableStocksUS\n",
    "from time import time\n",
    "\n",
    "import alphalens as al \n",
    "\n",
    "MORNINGSTAR_SECTOR_CODES = {\n",
    "     -1: 'Misc',\n",
    "    101: 'Basic Materials',\n",
    "    102: 'Consumer Cyclical',\n",
    "    103: 'Financial Services',\n",
    "    104: 'Real Estate',\n",
    "    205: 'Consumer Defensive',\n",
    "    206: 'Healthcare',\n",
    "    207: 'Utilities',\n",
    "    308: 'Communication Services',\n",
    "    309: 'Energy',\n",
    "    310: 'Industrials',\n",
    "    311: 'Technology' ,    \n",
    "}\n"
   ]
  },
  {
   "cell_type": "code",
   "execution_count": null,
   "metadata": {},
   "outputs": [],
   "source": [
    "def mypipe():\n",
    "    ebit = Fundamentals.ebit.latest\n",
    "    ev = Fundamentals.enterprise_value.latest\n",
    "    value =  ebit / ev\n",
    "    quality = Fundamentals.roe.latest\n",
    "    sentiment_score = SimpleMovingAverage(inputs=[stocktwits.bull_minus_bear],\n",
    "                                          window_length=3,)\n",
    "    universe = QTradableStocksUS()\n",
    "    setctor = Sector()\n",
    "    \n",
    "    pipe = Pipeline(\n",
    "        columns = {\n",
    "            'ev':ev,\n",
    "            'ebit': ebit, \n",
    "            'value':value,\n",
    "            'quality':quality,\n",
    "            'sentiment_score':sentiment_score,\n",
    "            'setctor':setctor,\n",
    "        },\n",
    "        screen = universe\n",
    "    \n",
    "    )\n",
    "    return pipe\n",
    "\n",
    "# bull_minus_bear: subtracts the bearish intesity from the bullish intensity [BULL - BEAR] to rpovide an immediate net score.    "
   ]
  },
  {
   "cell_type": "code",
   "execution_count": null,
   "metadata": {},
   "outputs": [],
   "source": [
    "start_timer = time()\n",
    "start = '2016-11-01'\n",
    "end = '2018-11-20'\n",
    "results = run_pipeline(mypipe(), start, end )\n",
    "end_timer = time()\n",
    "results.fillna(value=0);\n",
    "print \"Time to run pipeline %.2f secs\" % (end_timer - start_timer)\n"
   ]
  },
  {
   "cell_type": "code",
   "execution_count": null,
   "metadata": {},
   "outputs": [],
   "source": [
    "results.head()"
   ]
  },
  {
   "cell_type": "code",
   "execution_count": null,
   "metadata": {},
   "outputs": [],
   "source": [
    "## 全期間で株式データを取得する。\n",
    "asset_list = results.index.levels[1]\n",
    "len(asset_list)"
   ]
  },
  {
   "cell_type": "code",
   "execution_count": null,
   "metadata": {},
   "outputs": [],
   "source": [
    "prices = get_pricing(asset_list, start_date=start, end_date=end, fields='close_price')\n",
    "prices.head()"
   ]
  },
  {
   "cell_type": "code",
   "execution_count": null,
   "metadata": {},
   "outputs": [],
   "source": [
    "## alphalens のテストに使う収益率の日数。\n",
    "periods = (1,5,10)\n",
    "## factor をアルファレンズにかける。\n",
    "## \n",
    "myfactor = results[\"value\"]\n",
    "factor_data = al.utils.get_clean_factor_and_forward_returns(factor=myfactor,\n",
    "                                                           prices=prices,\n",
    "                                                           groupby=results[\"setctor\"],\n",
    "                                                           groupby_labels=MORNINGSTAR_SECTOR_CODES,\n",
    "                                                           periods=periods,\n",
    "                                                           quantiles=10)\n",
    "\n",
    "end_timer = time()\n",
    "results.fillna(value=0);\n",
    "print \"Time to run pipeline %.2f secs\" % (end_timer - start_timer)\n",
    "\n"
   ]
  },
  {
   "cell_type": "markdown",
   "metadata": {},
   "source": [
    "## Algorithmでフィルターがかかっている箇所\n",
    "\n",
    "```python\n",
    "# We winsorize our factor values in order to lessen the impact of outliers\n",
    "# For more information on winsorization, please see\n",
    "# https://en.wikipedia.org/wiki/Winsorizing\n",
    "value_winsorized = value.winsorize(min_percentile=0.05, max_percentile=0.95)\n",
    "quality_winsorized = quality.winsorize(min_percentile=0.05, max_percentile=0.95)\n",
    "sentiment_score_winsorized = sentiment_score.winsorize(min_percentile=0.05,                                                                             max_percentile=0.95)\n",
    "\n",
    "# Here we combine our winsorized factors, z-scoring them to equalize their influence\n",
    "combined_factor = (\n",
    "    value_winsorized.zscore() + \n",
    "    quality_winsorized.zscore() + \n",
    "    sentiment_score_winsorized.zscore()\n",
    ")\n",
    "\n",
    "# Build Filters representing the top and bottom baskets of stocks by our\n",
    "# combined ranking system. We'll use these as our tradeable universe each\n",
    "# day.\n",
    "longs = combined_factor.top(TOTAL_POSITIONS//2, mask=universe)\n",
    "shorts = combined_factor.bottom(TOTAL_POSITIONS//2, mask=universe)\n",
    "```\n",
    "\n",
    "+ `value` のwinsorizeで、"
   ]
  },
  {
   "cell_type": "code",
   "execution_count": null,
   "metadata": {},
   "outputs": [],
   "source": [
    "factor_data.head()"
   ]
  },
  {
   "cell_type": "code",
   "execution_count": null,
   "metadata": {},
   "outputs": [],
   "source": [
    "al.tears.create_returns_tear_sheet(factor_data, by_group=True)"
   ]
  },
  {
   "cell_type": "code",
   "execution_count": null,
   "metadata": {},
   "outputs": [],
   "source": [
    "myfactor = results[\"sentiment_score\"]\n",
    "factor_data = al.utils.get_clean_factor_and_forward_returns(factor=myfactor,\n",
    "                                                           prices=prices,\n",
    "                                                           groupby=results[\"setctor\"],\n",
    "                                                           groupby_labels=MORNINGSTAR_SECTOR_CODES,\n",
    "                                                           periods=periods,\n",
    "                                                           quantiles=10)\n",
    "\n",
    "end_timer = time()\n",
    "results.fillna(value=0);\n",
    "print \"Time to run pipeline %.2f secs\" % (end_timer - start_timer)\n",
    "al.tears.create_returns_tear_sheet(factor_data, by_group=True)"
   ]
  },
  {
   "cell_type": "code",
   "execution_count": null,
   "metadata": {},
   "outputs": [],
   "source": []
  },
  {
   "cell_type": "code",
   "execution_count": null,
   "metadata": {},
   "outputs": [],
   "source": []
  },
  {
   "cell_type": "code",
   "execution_count": null,
   "metadata": {},
   "outputs": [],
   "source": []
  },
  {
   "cell_type": "code",
   "execution_count": null,
   "metadata": {},
   "outputs": [],
   "source": []
  },
  {
   "cell_type": "code",
   "execution_count": null,
   "metadata": {},
   "outputs": [],
   "source": []
  },
  {
   "cell_type": "code",
   "execution_count": null,
   "metadata": {},
   "outputs": [],
   "source": []
  },
  {
   "cell_type": "code",
   "execution_count": null,
   "metadata": {},
   "outputs": [],
   "source": []
  },
  {
   "cell_type": "code",
   "execution_count": null,
   "metadata": {},
   "outputs": [],
   "source": []
  },
  {
   "cell_type": "code",
   "execution_count": null,
   "metadata": {},
   "outputs": [],
   "source": []
  },
  {
   "cell_type": "code",
   "execution_count": null,
   "metadata": {},
   "outputs": [],
   "source": []
  },
  {
   "cell_type": "code",
   "execution_count": null,
   "metadata": {},
   "outputs": [],
   "source": []
  },
  {
   "cell_type": "code",
   "execution_count": null,
   "metadata": {},
   "outputs": [],
   "source": []
  },
  {
   "cell_type": "code",
   "execution_count": null,
   "metadata": {},
   "outputs": [],
   "source": []
  },
  {
   "cell_type": "code",
   "execution_count": null,
   "metadata": {},
   "outputs": [],
   "source": []
  },
  {
   "cell_type": "code",
   "execution_count": null,
   "metadata": {},
   "outputs": [],
   "source": []
  },
  {
   "cell_type": "code",
   "execution_count": null,
   "metadata": {},
   "outputs": [],
   "source": []
  },
  {
   "cell_type": "code",
   "execution_count": null,
   "metadata": {},
   "outputs": [],
   "source": []
  },
  {
   "cell_type": "code",
   "execution_count": null,
   "metadata": {},
   "outputs": [],
   "source": []
  },
  {
   "cell_type": "code",
   "execution_count": null,
   "metadata": {},
   "outputs": [],
   "source": []
  },
  {
   "cell_type": "code",
   "execution_count": null,
   "metadata": {},
   "outputs": [],
   "source": []
  }
 ],
 "metadata": {
  "kernelspec": {
   "display_name": "Python 2",
   "language": "python",
   "name": "python2"
  },
  "language_info": {
   "codemirror_mode": {
    "name": "ipython",
    "version": 2
   },
   "file_extension": ".py",
   "mimetype": "text/x-python",
   "name": "python",
   "nbconvert_exporter": "python",
   "pygments_lexer": "ipython2",
   "version": "2.7.12"
  }
 },
 "nbformat": 4,
 "nbformat_minor": 2
}
