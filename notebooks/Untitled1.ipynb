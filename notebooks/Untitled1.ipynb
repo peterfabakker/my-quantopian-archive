{
 "cells": [
  {
   "cell_type": "markdown",
   "metadata": {},
   "source": [
    "## \n",
    "\n",
    "+ 今年3/23が底値\n",
    "+ そこから、2020/06/12までで、戻してる銘柄の特徴を得る\n"
   ]
  },
  {
   "cell_type": "code",
   "execution_count": null,
   "metadata": {},
   "outputs": [],
   "source": [
    "MORNINGSTAR_INDUSTRY_GROUP_CODES_after_Nov2019 =  {10110: 'Agricultural Inputs',\n",
    " 10120: 'Building Materials',\n",
    " 10130: 'Chemicals,Specialty Chemicals',\n",
    " 10140: 'Lumber & Wood Production,Paper & Paper Products',\n",
    " 10150: 'Aluminum,Copper,Other Industrial Metals & Mining,Gold,Silver,Other Precious Metals & Mining',\n",
    " 10160: 'Coking Coal,Steel',\n",
    " 10200: 'Auto & Truck Dealerships,Auto Manufacturers,Auto Parts,Recreational Vehicles',\n",
    " 10220: 'Furnishings, Fixtures & Appliances',\n",
    " 10230: 'Residential Construction',\n",
    " 10240: 'Textile Manufacturing,Apparel Manufacturing,Footwear & Accessories',\n",
    " 10250: 'Packaging & Containers',\n",
    " 10260: 'Personal Services',\n",
    " 10270: 'Restaurants',\n",
    " 10280: 'Apparel Retail,Department Stores,Home Improvement Retail,Luxury Goods,Internet Retail,Specialty Retail',\n",
    " 10290: 'Gambling,Leisure,Lodging,Resorts & Casinos,Travel Services',\n",
    " 10310: 'Asset Management',\n",
    " 10320: 'Banks—Diversified,Banks—Regional,Mortgage Finance',\n",
    " 10330: 'Capital Markets,Financial Data & Stock Exchanges',\n",
    " 10340: 'Insurance—Life,Insurance—Property & Casualty,Insurance—Reinsurance,Insurance—Specialty,Insurance Brokers,Insurance—Diversified',\n",
    " 10350: 'Shell Companies,Financial Conglomerates',\n",
    " 10360: 'Credit Services',\n",
    " 10410: 'Real Estate—Development,Real Estate Services,Real Estate—Diversified',\n",
    " 10420: 'REIT—Healthcare Facilities,REIT—Hotel & Motel,REIT—Industrial,REIT—Office,REIT—Residential,REIT—Retail,REIT—Mortgage,REIT—Specialty,REIT—Diversified',\n",
    " 20510: 'Beverages—Brewers,Beverages—Wineries & Distilleries',\n",
    " 20520: 'Beverages—Non-Alcoholic',\n",
    " 20525: 'Confectioners,Farm Products,Household & Personal Products,Packaged Foods',\n",
    " 20540: 'Education & Training Services',\n",
    " 20550: 'Discount Stores,Food Distribution,Grocery Stores',\n",
    " 20560: 'Tobacco',\n",
    " 20610: 'Biotechnology',\n",
    " 20620: 'Drug Manufacturers—General,Drug Manufacturers—Specialty & Generic',\n",
    " 20630: 'Healthcare Plans',\n",
    " 20645: 'Medical Care Facilities,Pharmaceutical Retailers,Health Information Services',\n",
    " 20650: 'Medical Devices,Medical Instruments & Supplies',\n",
    " 20660: 'Diagnostics & Research',\n",
    " 20670: 'Medical Distribution',\n",
    " 20710: 'Utilities—Independent Power Producers,Utilities—Renewable',\n",
    " 20720: 'Utilities—Regulated Water,Utilities—Regulated Electric,Utilities—Regulated Gas,Utilities—Diversified',\n",
    " 30810: 'Telecom Services',\n",
    " 30820: 'Advertising Agencies,Publishing,Broadcasting,Entertainment',\n",
    " 30830: 'Internet Content & Information,Electronic Gaming & Multimedia',\n",
    " 30910: 'Oil & Gas Drilling,Oil & Gas E&P,Oil & Gas Integrated,Oil & Gas Midstream,Oil & Gas Refining & Marketing,Oil & Gas Equipment & Services',\n",
    " 30920: 'Thermal Coal,Uranium',\n",
    " 31010: 'Aerospace & Defense',\n",
    " 31020: 'Specialty Business Services,Consulting Services,Rental & Leasing Services,Security & Protection Services,Staffing & Employment Services',\n",
    " 31030: 'Conglomerates',\n",
    " 31040: 'Engineering & Construction,Infrastructure Operations,Building Products & Equipment',\n",
    " 31050: 'Farm & Heavy Construction Machinery',\n",
    " 31060: 'Industrial Distribution',\n",
    " 31070: 'Business Equipment & Supplies,Specialty Industrial Machinery,Metal Fabrication,Pollution & Treatment Controls,Tools & Accessories,Electrical Equipment & Parts',\n",
    " 31080: 'Airports & Air Services,Airlines,Railroads,Marine Shipping,Trucking,Integrated Freight & Logistics',\n",
    " 31090: 'Waste Management',\n",
    " 31110: 'Information Technology Services,Software—Application,Software—Infrastructure',\n",
    " 31120: 'Communication Equipment,Computer Hardware,Consumer Electronics,Electronic Components,Electronics & Computer Distribution,Scientific & Technical Instruments',\n",
    " 31130: 'Semiconductor Equipment & Materials,Semiconductors,Solar'}"
   ]
  },
  {
   "cell_type": "markdown",
   "metadata": {},
   "source": [
    "## 現在QTradableStocksUSに入っている銘柄を確認\n",
    "\n",
    "+ QTradableStocksUS\n",
    "+ financial_health_grade\n",
    "+ morningstar_industry_group_code\n",
    "\n",
    "でグループ分け\n"
   ]
  },
  {
   "cell_type": "code",
   "execution_count": null,
   "metadata": {},
   "outputs": [],
   "source": [
    "import numpy as np\n",
    "import pandas as pd\n",
    "from quantopian.pipeline import Pipeline\n",
    "from quantopian.pipeline.data.morningstar import Fundamentals\n",
    "from quantopian.pipeline.domain import US_EQUITIES\n",
    "from quantopian.research import run_pipeline\n",
    "from quantopian.pipeline.filters import Q500US, StaticSids, StaticAssets\n",
    "from quantopian.pipeline.filters import QTradableStocksUS\n",
    "from quantopian.pipeline.data import USEquityPricing\n",
    "from quantopian.pipeline.factors import Returns\n",
    "\n",
    "from quantopian.pipeline.classifiers.fundamentals import Sector\n",
    "\n",
    "\n",
    "def make_pipeline():\n",
    "    \n",
    "    base_universe = QTradableStocksUS()\n",
    "    close_price = USEquityPricing.close.latest\n",
    "\n",
    "    morningstar_industry_group_code = Fundamentals.morningstar_industry_group_code.latest\n",
    "    prev_change = Returns(inputs = [USEquityPricing.close], window_length=2)\n",
    "    financial_health_grade = Fundamentals.financial_health_grade.latest\n",
    "    \n",
    "    \n",
    "    \n",
    "    pipe = Pipeline(\n",
    "        columns={\n",
    "            'morningstar_industry_group_code':morningstar_industry_group_code, \n",
    "            'close_price':close_price, \n",
    "            \"prev_change\": prev_change,\n",
    "            'financial_health_grade':financial_health_grade,\n",
    "        },\n",
    "        \n",
    "        screen=base_universe,\n",
    "    )\n",
    "    return pipe \n",
    "\n",
    "df = run_pipeline(make_pipeline(), '2020-01-01', '2020-06-11')\n",
    "df[\"sector_name\"] = df[\"morningstar_industry_group_code\"].replace(MORNINGSTAR_INDUSTRY_GROUP_CODES_after_Nov2019)\n",
    "\n",
    "df.head()"
   ]
  },
  {
   "cell_type": "markdown",
   "metadata": {},
   "source": [
    "## 直近のグレードと morningstar_industry_group_code でグループ化"
   ]
  },
  {
   "cell_type": "code",
   "execution_count": null,
   "metadata": {},
   "outputs": [],
   "source": [
    "dict_group = dict(list(df.loc[\"2020-06-11\"].groupby([\"morningstar_industry_group_code\", \"financial_health_grade\"])))"
   ]
  },
  {
   "cell_type": "code",
   "execution_count": null,
   "metadata": {},
   "outputs": [],
   "source": [
    "dict_group.keys()"
   ]
  },
  {
   "cell_type": "markdown",
   "metadata": {},
   "source": [
    "### sector 毎YTDのパフォーマンスを確認"
   ]
  },
  {
   "cell_type": "code",
   "execution_count": null,
   "metadata": {},
   "outputs": [],
   "source": [
    "df.groupby(\"morningstar_industry_group_code\")[[\"prev_change\"]].sum().sort_values(by=\"prev_change\").head()"
   ]
  },
  {
   "cell_type": "code",
   "execution_count": null,
   "metadata": {},
   "outputs": [],
   "source": [
    "df.groupby(\"morningstar_industry_group_code\")[[\"prev_change\"]].sum().sort_values(by=\"prev_change\").tail()"
   ]
  },
  {
   "cell_type": "markdown",
   "metadata": {},
   "source": [
    "### sector別成績で上位と下位のA-F銘柄を比べる"
   ]
  },
  {
   "cell_type": "code",
   "execution_count": null,
   "metadata": {},
   "outputs": [],
   "source": [
    "from quantopian.research import prices, symbols\n",
    "start='2020-01-01'\n",
    "end='2020-06-11'\n",
    "\n",
    "def get_symbols(group_num,  financial_grade,  dict_group=dict_group, spy=True):\n",
    "    x = []\n",
    "    \n",
    "    if spy:\n",
    "        x =  [symbols(\"SPY\")]\n",
    "\n",
    "    \n",
    "    return dict_group[(group_num,financial_grade )][\"prev_change\"].unstack().columns.tolist() + x\n",
    "\n",
    "def get_prices(symbols, start, end):\n",
    "    return prices(assets=symbols,start=start, end=end,)\n",
    "\n",
    "def plot(prices, top=False, bottom=False, spy=True):\n",
    "    x = []\n",
    "    if spy:\n",
    "        x =  [symbols(\"SPY\")]\n",
    "    \n",
    "    cum = (prices / prices.shift(1)).apply(np.log).cumsum()\n",
    "\n",
    "    sym = None\n",
    "    if bottom:\n",
    "        sym = cum.iloc[-1].sort_values().head().index.tolist() + x\n",
    "    elif top:\n",
    "        sym = cum.iloc[-1].sort_values().tail().index.tolist() + x\n",
    "    \n",
    "    if sym:\n",
    "        print([s.symbol for s in sym])\n",
    "        cum[sym].plot()\n",
    "    else:\n",
    "        cum.plot()\n",
    "    \n",
    "        \n",
    "\n",
    "symbol_enegry_A = get_symbols(30910,\"A\")\n",
    "symbol_enegry_D = get_symbols(30910,\"D\")\n",
    "df_enegry_A = get_prices(symbol_enegry_A, start, end)\n",
    "df_enegry_D = get_prices(symbol_enegry_D, start, end)\n",
    "\n",
    "symbol_restaulant_A = get_symbols(10270,\"A\")\n",
    "symbol_restaulant_D = get_symbols(10270,\"D\")\n",
    "\n",
    "df_restaurant_A = get_prices(symbol_restaulant_A, start, end)\n",
    "df_restaurant_D = get_prices(symbol_restaulant_D, start, end)\n"
   ]
  },
  {
   "cell_type": "code",
   "execution_count": null,
   "metadata": {},
   "outputs": [],
   "source": [
    "plot(df_restaurant_A, top=True, spy=False)\n",
    "plot(df_restaurant_D, bottom=True, spy=False)\n"
   ]
  },
  {
   "cell_type": "code",
   "execution_count": null,
   "metadata": {},
   "outputs": [],
   "source": [
    "\n",
    "long = ['YUMC', 'CMG', 'WING']\n",
    "short = ['PLAY', 'BLMN', 'EAT']\n",
    "\n",
    "df_long = get_prices([symbols(s) for s in long], start, end).apply(np.log)\n",
    "df_short = get_prices([symbols(s) for s in short], start, end).apply(np.log)\n",
    "\n",
    "df_long\n",
    "\n"
   ]
  },
  {
   "cell_type": "code",
   "execution_count": null,
   "metadata": {},
   "outputs": [],
   "source": [
    "pd.concat([df_long/df_long.shift(), df_short.shift(1)/ df_short], axis=1)"
   ]
  }
 ],
 "metadata": {
  "kernelspec": {
   "display_name": "Python 3.5",
   "language": "python",
   "name": "py35"
  },
  "language_info": {
   "codemirror_mode": {
    "name": "ipython",
    "version": 3
   },
   "file_extension": ".py",
   "mimetype": "text/x-python",
   "name": "python",
   "nbconvert_exporter": "python",
   "pygments_lexer": "ipython3",
   "version": "3.5.9"
  }
 },
 "nbformat": 4,
 "nbformat_minor": 2
}
