{
 "cells": [
  {
   "cell_type": "markdown",
   "metadata": {},
   "source": [
    "アルゴリズムその２\n",
    "\n",
    "## セクターが違う5つの銘柄を毎週ポジションを調整しながら保有し続ける\n",
    "\n",
    "- 調整の方法は、各銘柄の３０日平均と１０日平均のDiffをとって、それが３０日平均からみてどのくらいの大きさなのかを確認\n",
    "- その大きさを元に自己資金に対して何パーセント投資するかを決める\n",
    "\n"
   ]
  },
  {
   "cell_type": "markdown",
   "metadata": {},
   "source": [
    "## 終値の10日平均と30日平均の差を算出する"
   ]
  },
  {
   "cell_type": "code",
   "execution_count": null,
   "metadata": {},
   "outputs": [],
   "source": [
    "df = get_pricing([\"AAPL\"], start_date=\"2016-1-1\", end_date=\"2017-11-20\", fields=\"close_price\", frequency='daily',)\n",
    "#defaultはコラム名が銘柄オブジェクトなのでアクセスしづらいため、銘柄文字列に変更\n",
    "df.columns = map(lambda x: x.symbol, df.columns)"
   ]
  },
  {
   "cell_type": "code",
   "execution_count": null,
   "metadata": {},
   "outputs": [],
   "source": [
    "df.tail()"
   ]
  },
  {
   "cell_type": "code",
   "execution_count": null,
   "metadata": {},
   "outputs": [],
   "source": [
    "df[\"MA30\"] = df[\"AAPL\"].rolling(30).mean()\n",
    "df[\"MA10\"] = df[\"AAPL\"].rolling(10).mean()"
   ]
  },
  {
   "cell_type": "code",
   "execution_count": null,
   "metadata": {},
   "outputs": [],
   "source": [
    "df.tail()"
   ]
  },
  {
   "cell_type": "code",
   "execution_count": null,
   "metadata": {},
   "outputs": [],
   "source": [
    "df.plot()"
   ]
  },
  {
   "cell_type": "code",
   "execution_count": null,
   "metadata": {},
   "outputs": [],
   "source": [
    "df[\"Weight\"] = (df[\"MA10\"] - df[\"MA30\"]) / df[\"MA30\"] "
   ]
  },
  {
   "cell_type": "code",
   "execution_count": null,
   "metadata": {},
   "outputs": [],
   "source": [
    "df.tail()"
   ]
  },
  {
   "cell_type": "code",
   "execution_count": null,
   "metadata": {},
   "outputs": [],
   "source": [
    "df.plot(secondary_y =\"Weight\")"
   ]
  },
  {
   "cell_type": "code",
   "execution_count": null,
   "metadata": {},
   "outputs": [],
   "source": [
    "# 5銘柄の過去データを取得\n",
    "hist = get_pricing([\"FB\", \"JPM\", \"JNJ\", \"DIS\", \"KO\"], start_date=\"2016-1-1\", end_date=\"2017-11-20\", fields=\"price\")"
   ]
  },
  {
   "cell_type": "code",
   "execution_count": null,
   "metadata": {},
   "outputs": [],
   "source": [
    "len(hist)\n"
   ]
  },
  {
   "cell_type": "code",
   "execution_count": null,
   "metadata": {},
   "outputs": [],
   "source": [
    "hist.tail()"
   ]
  },
  {
   "cell_type": "code",
   "execution_count": null,
   "metadata": {},
   "outputs": [],
   "source": [
    "## 30日MAと10日MAを出力\n",
    "hist30MA=hist.rolling(30).mean()\n",
    "hist10MA=hist.rolling(10).mean()"
   ]
  },
  {
   "cell_type": "code",
   "execution_count": null,
   "metadata": {},
   "outputs": [],
   "source": [
    "hist10MA.tail()"
   ]
  },
  {
   "cell_type": "code",
   "execution_count": null,
   "metadata": {},
   "outputs": [],
   "source": [
    "raw_weights = (hist10MA - hist30MA) / hist30MA"
   ]
  },
  {
   "cell_type": "code",
   "execution_count": null,
   "metadata": {},
   "outputs": [],
   "source": [
    "raw_weights.tail()\n"
   ]
  },
  {
   "cell_type": "code",
   "execution_count": null,
   "metadata": {},
   "outputs": [],
   "source": [
    "raw_weights.loc[\"2017-11-20\"]"
   ]
  },
  {
   "cell_type": "code",
   "execution_count": null,
   "metadata": {},
   "outputs": [],
   "source": [
    "raw_weights.ix[\"2017-11-20\"].abs()"
   ]
  },
  {
   "cell_type": "code",
   "execution_count": null,
   "metadata": {},
   "outputs": [],
   "source": [
    "x = raw_weights.ix[\"2017-11-20\"].abs().sum()\n",
    "x"
   ]
  },
  {
   "cell_type": "code",
   "execution_count": null,
   "metadata": {},
   "outputs": [],
   "source": [
    "normalized_weights = raw_weights.ix[\"2017-11-20\"] / x\n",
    "normalized_weights"
   ]
  },
  {
   "cell_type": "code",
   "execution_count": null,
   "metadata": {},
   "outputs": [],
   "source": [
    "normalized_weights[normalized_weights > 0].index.tolist()"
   ]
  },
  {
   "cell_type": "code",
   "execution_count": null,
   "metadata": {},
   "outputs": [],
   "source": [
    "normalized_weights[normalized_weights < 0].index.tolist()"
   ]
  },
  {
   "cell_type": "code",
   "execution_count": null,
   "metadata": {},
   "outputs": [],
   "source": [
    "normalized_weights.index.tolist()"
   ]
  },
  {
   "cell_type": "code",
   "execution_count": null,
   "metadata": {},
   "outputs": [],
   "source": [
    "for security in normalized_weights.index:\n",
    "    print (security, normalized_weights[security])"
   ]
  },
  {
   "cell_type": "markdown",
   "metadata": {},
   "source": [
    "---\n",
    "アルゴリズムその３\n",
    "## Pipelineを使おう\n"
   ]
  },
  {
   "cell_type": "markdown",
   "metadata": {},
   "source": [
    "アルゴリズムその２では、最初から５つの銘柄を決めて取引しました．\n",
    "\n",
    "その３では、アメリカの株式市場で取引されているほとんどすべての銘柄の中から，\n",
    "条件にあった銘柄を毎週探しだし取引することにしましょう．\n",
    "\n",
    "つまり\n",
    "\n",
    "1. 毎週月曜日の朝一に\n",
    "1. アメリカの株式市場で取引されている全銘柄から，SP500に入っている銘柄だけを取得し\n",
    "1. 過去３０日と１０日の平均を出して、\n",
    "1. Diffの絶対値の大きい順に取得し\n",
    "1. その２と同様の取引を行う。\n",
    "1. ただし、金曜の取引終了時間に全部クローズする\n",
    "\n",
    "これを瞬時に行うためのAPIがQuantopianには用意されています"
   ]
  },
  {
   "cell_type": "markdown",
   "metadata": {},
   "source": [
    "## Pipelineを初期化\n"
   ]
  },
  {
   "cell_type": "code",
   "execution_count": null,
   "metadata": {},
   "outputs": [],
   "source": [
    "from quantopian.pipeline import Pipeline\n",
    "from quantopian.research import run_pipeline\n",
    "# 空のパイプラインを作る\n",
    "pipe = Pipeline()  \n"
   ]
  },
  {
   "cell_type": "code",
   "execution_count": null,
   "metadata": {},
   "outputs": [],
   "source": [
    "# pipeline オブジェクトを実行．\n",
    "results = run_pipeline(pipe, start_date=\"2017-11-1\", end_date=\"2017-11-20\")"
   ]
  },
  {
   "cell_type": "code",
   "execution_count": null,
   "metadata": {},
   "outputs": [],
   "source": [
    "#results\n",
    "len(results.ix[\"2017-11-1\"])"
   ]
  },
  {
   "cell_type": "markdown",
   "metadata": {},
   "source": [
    "### ほしい情報を追加,要らない情報を削除\n",
    "パイプラインにほしい情報を追加していきます．\n",
    "情報は，株価や出来高だけじゃなく，株価の平均やDiffなど演算した結果や，その銘柄がどの業種の銘柄なのか，等色々な情報が取得出来ます．\n",
    "取得した情報を元に，必要な情報だけをFilterして，要らない情報を削除することもできます．\n",
    "\n",
    "どんなデータがあるのかは https://www.quantopian.com/data で確認できます．\n",
    "\n"
   ]
  },
  {
   "cell_type": "code",
   "execution_count": null,
   "metadata": {},
   "outputs": [],
   "source": [
    "from quantopian.pipeline.data.builtin import USEquityPricing\n",
    "from quantopian.pipeline.factors import SimpleMovingAverage\n",
    "from quantopian.pipeline.filters.morningstar import Q500US\n",
    "\n",
    "# パイプラインを初期化\n",
    "pipe = Pipeline()\n",
    "\n",
    "# USEquityPricingからcloseデータを取得し、 'close' という名前=コラム名をつける\n",
    "pipe.add(USEquityPricing.close.latest, 'close') \n",
    "\n",
    "# SP500銘柄だけに絞る\n",
    "pipe.set_screen(Q500US())\n",
    "\n",
    "## 各銘柄，過去10日間の平均を出す\n",
    "pipe.add(SimpleMovingAverage(inputs=[USEquityPricing.close], window_length=10), 'SMA10') \n",
    "## 同様に30日間の移動平均\n",
    "pipe.add(SimpleMovingAverage(inputs=[USEquityPricing.close], window_length=30), 'SMA30') \n",
    "\n",
    "\n"
   ]
  },
  {
   "cell_type": "code",
   "execution_count": null,
   "metadata": {},
   "outputs": [],
   "source": [
    "results = run_pipeline(pipe, start_date=\"2017-11-1\", end_date=\"2017-11-20\")\n"
   ]
  },
  {
   "cell_type": "code",
   "execution_count": null,
   "metadata": {},
   "outputs": [],
   "source": [
    "results.ix[\"2017-11-1\"]"
   ]
  },
  {
   "cell_type": "code",
   "execution_count": null,
   "metadata": {},
   "outputs": [],
   "source": [
    "\n",
    "pipe = Pipeline()\n",
    "pipe.add(USEquityPricing.close.latest, 'close') \n",
    "pipe.set_screen(Q500US())\n",
    "\n",
    "SMA10 = SimpleMovingAverage(inputs=[USEquityPricing.close], window_length=10)\n",
    "SMA30 = SimpleMovingAverage(inputs=[USEquityPricing.close], window_length=30)\n",
    "\n",
    "pipe.add(SMA10, 'SMA10') \n",
    "pipe.add(SMA30, 'SMA30') \n",
    "\n",
    "## raw_weights \n",
    "raw_weights = (SMA10 - SMA30) / SMA30\n",
    "abs_raw_weights = raw_weights.abs()\n",
    "\n",
    "pipe.add(raw_weights, 'raw_weights')\n",
    "pipe.add(abs_raw_weights, 'abs_raw_weights')\n",
    "\n",
    "results = run_pipeline(pipe, start_date=\"2017-11-1\", end_date=\"2017-11-15\")\n"
   ]
  },
  {
   "cell_type": "code",
   "execution_count": null,
   "metadata": {},
   "outputs": [],
   "source": [
    "## 2017-11-1 の結果だけ取得\n",
    "output = results.ix[\"2017-11-1\"]\n",
    "output"
   ]
  },
  {
   "cell_type": "code",
   "execution_count": null,
   "metadata": {},
   "outputs": [],
   "source": [
    "security_list = output.sort_values(by = \"abs_raw_weights\", ascending=False).head() \n",
    "\n",
    "security_list"
   ]
  },
  {
   "cell_type": "code",
   "execution_count": null,
   "metadata": {},
   "outputs": [],
   "source": [
    "security_list[\"normalize_weights\"] = security_list[\"raw_weights\"] / security_list[\"abs_raw_weights\"].sum()"
   ]
  },
  {
   "cell_type": "code",
   "execution_count": null,
   "metadata": {},
   "outputs": [],
   "source": [
    "security_list"
   ]
  },
  {
   "cell_type": "code",
   "execution_count": null,
   "metadata": {},
   "outputs": [],
   "source": []
  }
 ],
 "metadata": {
  "kernelspec": {
   "display_name": "Python 2",
   "language": "python",
   "name": "python2"
  },
  "language_info": {
   "codemirror_mode": {
    "name": "ipython",
    "version": 2
   },
   "file_extension": ".py",
   "mimetype": "text/x-python",
   "name": "python",
   "nbconvert_exporter": "python",
   "pygments_lexer": "ipython2",
   "version": "2.7.12"
  }
 },
 "nbformat": 4,
 "nbformat_minor": 2
}
