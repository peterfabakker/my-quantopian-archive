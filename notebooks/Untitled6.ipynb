{
 "cells": [
  {
   "cell_type": "code",
   "execution_count": null,
   "metadata": {},
   "outputs": [],
   "source": [
    "# Research環境用関数\n",
    "from quantopian.research import returns, symbols\n",
    "\n",
    "# 時間範囲を指定\n",
    "period_start = '2014-01-01'\n",
    "period_end = '2014-12-31'\n",
    "\n",
    "# 上記の時間範囲で、AAPLのリターンデータを照会する\n",
    "aapl_returns = returns(\n",
    "    assets=symbols('F'),\n",
    "    start=period_start,\n",
    "    end=period_end,\n",
    ")\n",
    "\n",
    "# 最初の10行のみ表示\n",
    "aapl_returns.head(10)\n"
   ]
  },
  {
   "cell_type": "code",
   "execution_count": null,
   "metadata": {},
   "outputs": [],
   "source": []
  }
 ],
 "metadata": {
  "kernelspec": {
   "display_name": "Python 3.5",
   "language": "python",
   "name": "py35"
  },
  "language_info": {
   "codemirror_mode": {
    "name": "ipython",
    "version": 3
   },
   "file_extension": ".py",
   "mimetype": "text/x-python",
   "name": "python",
   "nbconvert_exporter": "python",
   "pygments_lexer": "ipython3",
   "version": "3.5.9"
  }
 },
 "nbformat": 4,
 "nbformat_minor": 2
}
