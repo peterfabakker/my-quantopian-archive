{
 "cells": [
  {
   "cell_type": "markdown",
   "metadata": {},
   "source": [
    "# 日本株データを使ってパイプラインを作成する\n",
    "\n",
    "このNotebookは、\"ResearchNotebooks-Tutorial and Documentation\" の１つである\"5. Tutorial - Using Fundamental Data\" をベースに、今回の勉強会に沿った形で加筆・修正を行っています。このファイルは、デフォルトで全員のResearchフォルダに保存されているはずです。\n",
    "\n",
    "## はじめに\n",
    "ここまでにおいて 「パイプラインの作り方」「ファクターの作り方」「フィルター（ユニバース）の作り方」を見てきました。このNotebookでは、今回のテーマである\"ファンダメンタル\"データへのアクセス方法を説明します。\n",
    "\n",
    "これらを合わせることによって、いよいよ「ファンダメンタルファクターモデル」を作るための材料を揃えることができます。\n"
   ]
  },
  {
   "cell_type": "code",
   "execution_count": null,
   "metadata": {},
   "outputs": [],
   "source": [
    "# パイプラインの作成、及びパイプラインの実行に必要なパッケージのインポート\n",
    "from quantopian.pipeline import Pipeline\n",
    "from quantopian.research import run_pipeline\n",
    "from quantopian.pipeline.data import EquityPricing, factset\n",
    "from quantopian.pipeline.domain import JP_EQUITIES"
   ]
  },
  {
   "cell_type": "code",
   "execution_count": null,
   "metadata": {},
   "outputs": [],
   "source": [
    "# We're going to need a date string for some of our queries. Let's grab one.\n",
    "import datetime\n",
    "\n",
    "today = datetime.datetime.now().strftime('%Y-%m-%d')\n",
    "today"
   ]
  },
  {
   "cell_type": "markdown",
   "metadata": {},
   "source": [
    "## ユニバースにフィルターを追加する（応用編）\n",
    "\n",
    "02-04で、QTradableStocksUS という組み込みユニバースと、自作フィルターの使い方を説明しましたが、これらを組み合わせることもできます。\n",
    "\n",
    "* big_market_cap : 直近の時価総額（＝株価 x 発行済み株式数）が 1,000,000,000ドル以上であること\n",
    "* big_pe : 直近のpeレシオ（= 株価 / 1株利益）が5倍以上\n",
    "\n",
    "いよいよ財務データが出てきました。Fundamentalsでどのようなデータが入手可能かについては[こちら](https://www.quantopian.com/help/fundamentals)を参照してください。"
   ]
  },
  {
   "cell_type": "code",
   "execution_count": null,
   "metadata": {},
   "outputs": [],
   "source": [
    "# 株価データ\n",
    "price = EquityPricing.close.latest # open, high / low / volume\n",
    "volume = EquityPricing.volume.latest\n",
    "# 財務資料（Factset Fundamental より）\n",
    "roe = factset.Fundamentals.roe_qf.latest.log()\n",
    "\n",
    "market_cap = price * volume\n",
    "\n",
    "# パイプライン作成\n",
    "pipe = pipe = Pipeline(\n",
    "    columns = {\n",
    "        'price' : price,\n",
    "        'market_cap' : market_cap,\n",
    "        'ROE'  : roe,\n",
    "    },\n",
    "    domain = JP_EQUITIES, \n",
    ")\n",
    "\n",
    "# Run the pipeline\n",
    "fundamental_data = run_pipeline(pipe, start_date = '2015-10-01', end_date = '2018-10-1')\n",
    "fundamental_data.head()"
   ]
  },
  {
   "cell_type": "markdown",
   "metadata": {},
   "source": [
    "パイプラインの出力はpandas.Dataframeで渡されるので、pandasの機能で分析することが可能です。せっかくなので、ここ数日のニュースに関連した話題でDataframeを操作します。"
   ]
  },
  {
   "cell_type": "code",
   "execution_count": null,
   "metadata": {},
   "outputs": [],
   "source": [
    "# pandasのsort_valuesを使って、時価総額の大きい順にソート\n",
    "fundamental_data.sort_values('market_cap',ascending=False).head()"
   ]
  },
  {
   "cell_type": "markdown",
   "metadata": {},
   "source": [
    "パイプラインのstart_date と end_date を変更することで、株価や出来高同様、時系列データとして取得することも可能です。"
   ]
  },
  {
   "cell_type": "code",
   "execution_count": null,
   "metadata": {},
   "outputs": [],
   "source": []
  }
 ],
 "metadata": {
  "kernelspec": {
   "display_name": "Python 2",
   "language": "python",
   "name": "python2"
  },
  "language_info": {
   "codemirror_mode": {
    "name": "ipython",
    "version": 2
   },
   "file_extension": ".py",
   "mimetype": "text/x-python",
   "name": "python",
   "nbconvert_exporter": "python",
   "pygments_lexer": "ipython2",
   "version": "2.7.12"
  }
 },
 "nbformat": 4,
 "nbformat_minor": 1
}
