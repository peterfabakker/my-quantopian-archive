{
 "cells": [
  {
   "cell_type": "code",
   "execution_count": null,
   "metadata": {},
   "outputs": [],
   "source": [
    "import numpy as np\n",
    "\n",
    "# Import Pipeline class and datasets\n",
    "from quantopian.pipeline import Pipeline\n",
    "from quantopian.pipeline.data import USEquityPricing\n",
    "\n",
    "from quantopian.pipeline.data.morningstar import Fundamentals\n",
    "\n",
    "from quantopian.pipeline.data.factset import Fundamentals as factst_funda\n",
    "from quantopian.pipeline.filters import Q500US, StaticSids, StaticAssets\n",
    "\n",
    "# Import built-in trading universe\n",
    "from quantopian.pipeline.filters import QTradableStocksUS\n",
    "\n",
    "\n",
    "def make_pipeline():\n",
    "    # Create a reference to our trading universe\n",
    "    base_universe = QTradableStocksUS()\n",
    "\n",
    "    # Get latest closing price\n",
    "    close_price = USEquityPricing.close.latest\n",
    "    \n",
    "    #current_liabilities\n",
    "    #The debts or obligations of the firm that are due within one year.\n",
    "    current_liabilities = Fundamentals.current_liabilities.latest\n",
    "    \n",
    "    #total_assets\n",
    "    #The aggregate amount of probable future economic benefits obtained or controlled by a particular enterprise as a result of past transactions or events.\n",
    "    total_assets = Fundamentals.total_assets.latest\n",
    "    market_cap = Fundamentals.market_cap.latest\n",
    "    morningstar_industry_group_code = Fundamentals.morningstar_industry_group_code.latest\n",
    "    morningstar_industry_code = Fundamentals.morningstar_industry_code.latest\n",
    "    total_liabilities_net_minority_interest = Fundamentals.total_liabilities_net_minority_interest.latest\n",
    "    operating_income = Fundamentals.operating_income.latest\n",
    "    interest_expense = Fundamentals.interest_expense.latest\n",
    "    cash_and_cash_equivalents = Fundamentals.cash_and_cash_equivalents.latest\n",
    "    current_assets = Fundamentals.current_assets.latest\n",
    "    current_liabilities = Fundamentals.current_liabilities.latest\n",
    "    current_ratio = Fundamentals.current_ratio.latest\n",
    "    debtto_assets = Fundamentals.debtto_assets.latest\n",
    "    assets_of_discontinued_operations = Fundamentals.assets_of_discontinued_operations.latest\n",
    "    # interest_expense\n",
    "    long_term_debt = Fundamentals.long_term_debt.latest\n",
    "    total_debt_equity_ratio = Fundamentals.total_debt_equity_ratio.latest\n",
    "    \n",
    "    # 貸倒れ引当金\n",
    "    allowance_for_loans_and_lease_losses = Fundamentals.allowance_for_loans_and_lease_losses.latest\n",
    "    \n",
    "    myassets = StaticAssets(symbols([\"PETS\",\"SLP\",\"USB\"]))#'AAPL', 'FB', 'MSFT', 'AMZN', 'GOOG', 'KO'\n",
    "    \n",
    "    # Return Pipeline containing close_price and\n",
    "    # sentiment_score that has our trading universe as screen\n",
    "    return Pipeline(\n",
    "        columns={\n",
    "            'close_price': close_price,\n",
    "#             'current_liabilities':current_liabilities, \n",
    "            'total_assets':total_assets, \n",
    "            'cash_and_cash_equivalents':cash_and_cash_equivalents,\n",
    "            'current_assets':current_assets,\n",
    "            'liab/asset':total_liabilities_net_minority_interest/total_assets,\n",
    "            'cash/asset':cash_and_cash_equivalents/total_assets,\n",
    "#             'market_cap':market_cap / 1000000000,\n",
    "            'morningstar_industry_group_code':morningstar_industry_group_code,\n",
    "            'morningstar_industry_code':morningstar_industry_code,\n",
    "            'total_liabilities_net_minority_interest': total_liabilities_net_minority_interest, \n",
    "            'operating_income':operating_income, \n",
    "#             'interest_expense':interest_expense,\n",
    "            'current_liabilities':current_liabilities, \n",
    "            'current_ratio':current_ratio,\n",
    "            'debtto_assets':debtto_assets,\n",
    "            'assets_of_discontinued_operations':assets_of_discontinued_operations, \n",
    "            'long_term_debt':long_term_debt, \n",
    "            'total_debt_equity_ratio':total_debt_equity_ratio, \n",
    "            'allowance_for_loans_and_lease_losses': allowance_for_loans_and_lease_losses, \n",
    "            \n",
    "        },\n",
    "        screen=base_universe #base_universe #myassets\n",
    "    )\n",
    "\n",
    "# Import run_pipeline method\n",
    "from quantopian.research import run_pipeline\n",
    "\n",
    "# Execute pipeline created by make_pipeline\n",
    "# between start_date and end_date\n",
    "pipeline_output = run_pipeline(\n",
    "    make_pipeline(),\n",
    "    start_date='2010-11-30',\n",
    "    end_date='2020-4-25'\n",
    ")\n",
    "\n",
    "# Display last 10 rows\n",
    "pipeline_output.tail(5)"
   ]
  },
  {
   "cell_type": "markdown",
   "metadata": {},
   "source": [
    "## chapter 2\n",
    "\n"
   ]
  },
  {
   "cell_type": "markdown",
   "metadata": {},
   "source": [
    "### No25 現金は最大の武器\n",
    "\n",
    "+ （流動）資産の中に、どれくら現金及び現金同等物があるか\n",
    "    1. 社債、株式の新規発行\n",
    "    1. 事業、資産の売却\n",
    "    1. 運転資金よりも多くの現金を稼ぎ出す\n",
    "    \n",
    "+ 大量の現金と有価証券を保有し、借入金がほとんどない会社\n",
    "+ 過去７年のBSで確認\n",
    "\n",
    "### Fundamentals \n",
    "+ [debtto_assets](https://www.quantopian.com/docs/data-reference/morningstar_fundamentals#debtto-assets)\n",
    "    + 企業が総資産に対してどれだけの負債（長期負債と現在の負債の合計）をバランスシート上に持っているか\n",
    "+ 'cash/asset' : cash_and_cash_equivalents/total_assets\n",
    "+ [assets_of_discontinued_operations](https://www.quantopian.com/docs/data-reference/morningstar_fundamentals#assets-of-discontinued-operations)\n",
    "    + 会社の事業の一部を処分したり、売却したりしたもの。\n"
   ]
  },
  {
   "cell_type": "code",
   "execution_count": null,
   "metadata": {},
   "outputs": [],
   "source": [
    "df = pipeline_output.loc[\"2020-3-30\"]\n",
    "df = df[df[\"operating_income\"] > 0]\n",
    "df = df[[\"cash/asset\", \"debtto_assets\",]].dropna()\n",
    "\n",
    "df[df[\"debtto_assets\"] < 0.003].sort_values(by=[\"cash/asset\", \"debtto_assets\"], ascending=[False, True])"
   ]
  },
  {
   "cell_type": "markdown",
   "metadata": {},
   "source": [
    "### 優良と思われる銘柄\n",
    "+ [MPWR](https://finance.yahoo.com/quote/MPWR?p=MPWR&.tsrc=fin-srch)\n",
    "- [MNST](https://finance.yahoo.com/quote/MNST/financials?p=MNST)\n",
    "- [ISRG](https://finance.yahoo.com/quote/ISRG/financials?p=ISRG)\n",
    "\n"
   ]
  },
  {
   "cell_type": "code",
   "execution_count": null,
   "metadata": {},
   "outputs": [],
   "source": [
    "candidates = pipeline_output.xs(symbols('EBS'), level=1)\n",
    "bqend = candidates.resample(\"A-Dec\").last()\n",
    "bqend\n",
    "candidates[\"operating_income\"].plot()"
   ]
  },
  {
   "cell_type": "markdown",
   "metadata": {},
   "source": [
    "## 38：長期借入金より短期借入金が多い銀行には投資してはいけない\n",
    "\n",
    "\n"
   ]
  },
  {
   "cell_type": "code",
   "execution_count": null,
   "metadata": {},
   "outputs": [],
   "source": [
    "candidates = pipeline_output.xs(symbols('PETS'), level=1)\n",
    "candidates"
   ]
  },
  {
   "cell_type": "code",
   "execution_count": null,
   "metadata": {},
   "outputs": [],
   "source": [
    "region_bank = pipeline_output[pipeline_output[\"morningstar_industry_code\"]==10320020]"
   ]
  },
  {
   "cell_type": "code",
   "execution_count": null,
   "metadata": {},
   "outputs": [],
   "source": [
    "USB = region_bank.xs(symbols('USB'), level=1)\n"
   ]
  },
  {
   "cell_type": "code",
   "execution_count": null,
   "metadata": {},
   "outputs": [],
   "source": [
    "morgage_bank[\"debtto_assets\"].unstack().plot()"
   ]
  }
 ],
 "metadata": {
  "kernelspec": {
   "display_name": "Python 3.5",
   "language": "python",
   "name": "py35"
  },
  "language_info": {
   "codemirror_mode": {
    "name": "ipython",
    "version": 3
   },
   "file_extension": ".py",
   "mimetype": "text/x-python",
   "name": "python",
   "nbconvert_exporter": "python",
   "pygments_lexer": "ipython3",
   "version": "3.5.9"
  }
 },
 "nbformat": 4,
 "nbformat_minor": 2
}
