{
 "cells": [
  {
   "cell_type": "markdown",
   "metadata": {},
   "source": [
    "## 銘柄からお金が流出してる状況を表現する方法はないかな？\n"
   ]
  },
  {
   "cell_type": "markdown",
   "metadata": {},
   "source": [
    "### ヤッテミヨウ\n",
    "1. PrevChangeにその日の出来高と終値を掛けるとか？"
   ]
  },
  {
   "cell_type": "code",
   "execution_count": null,
   "metadata": {},
   "outputs": [],
   "source": [
    "import numpy as np\n",
    "\n",
    "from quantopian.pipeline import Pipeline\n",
    "from quantopian.pipeline.data.morningstar import Fundamentals\n",
    "from quantopian.pipeline.domain import US_EQUITIES\n",
    "from quantopian.research import run_pipeline\n",
    "from quantopian.pipeline.filters import Q500US, StaticSids, StaticAssets\n",
    "from quantopian.pipeline.filters import QTradableStocksUS\n",
    "from quantopian.pipeline.data import USEquityPricing\n",
    "from quantopian.pipeline.factors import Returns\n",
    "\n",
    "from quantopian.pipeline.classifiers.fundamentals import Sector\n",
    "\n",
    "\n",
    "def make_pipeline(assets = None):\n",
    "    \n",
    "    if assets:\n",
    "        base_universe = assets\n",
    "    else:\n",
    "        base_universe = QTradableStocksUS()\n",
    "        \n",
    "    close_price = USEquityPricing.close.latest\n",
    "    vol = USEquityPricing.volume.latest\n",
    "\n",
    "    morningstar_industry_group_code = Fundamentals.morningstar_industry_group_code.latest\n",
    "    prev_change = Returns(inputs = [USEquityPricing.close], window_length=2)\n",
    "    financial_health_grade = Fundamentals.financial_health_grade.latest\n",
    "    \n",
    "    money_flow = prev_change * vol * close_price\n",
    "    \n",
    "    pipe = Pipeline(\n",
    "        columns={\n",
    "            'morningstar_industry_group_code':morningstar_industry_group_code, \n",
    "            'close_price':close_price, \n",
    "            'vol':vol,\n",
    "            'money_flow':money_flow,\n",
    "            \"prev_change\": prev_change,\n",
    "            'financial_health_grade':financial_health_grade,\n",
    "        },\n",
    "        \n",
    "        screen=base_universe,\n",
    "    )\n",
    "    return pipe \n",
    "\n",
    "pipeline_output = run_pipeline(make_pipeline(), '2019-12-01', '2020-06-18')\n",
    "pipeline_output.head()"
   ]
  },
  {
   "cell_type": "code",
   "execution_count": null,
   "metadata": {},
   "outputs": [],
   "source": [
    "x = pipeline_output.xs(symbols('DAL'), level=1) \n",
    "x[\"money_flow\"].cumsum().plot()\n",
    "x[\"close_price\"].plot(secondary_y=True);\n",
    "\n"
   ]
  },
  {
   "cell_type": "code",
   "execution_count": null,
   "metadata": {},
   "outputs": [],
   "source": [
    "asset_list = [\"SPY\", \"GLD\", \"GDX\"]\n",
    "assets = StaticAssets(symbols(asset_list))\n",
    "\n",
    "myassets_output = run_pipeline(make_pipeline(assets), '2019-01-01', '2020-06-18')\n",
    "myassets_output.head()"
   ]
  },
  {
   "cell_type": "code",
   "execution_count": null,
   "metadata": {},
   "outputs": [],
   "source": [
    "y = myassets_output.xs(symbols('GDX'), level=1) \n",
    "y[\"money_flow\"].plot()\n",
    "y[\"close_price\"].plot(secondary_y=True);\n"
   ]
  },
  {
   "cell_type": "code",
   "execution_count": null,
   "metadata": {},
   "outputs": [],
   "source": [
    "\n",
    "airlines = pipeline_output[pipeline_output[\"morningstar_industry_group_code\"]==31080]\n",
    "df = airlines[\"money_flow\"].unstack()\n",
    "close_price = airlines[\"close_price\"].unstack()\n",
    "\n"
   ]
  },
  {
   "cell_type": "code",
   "execution_count": null,
   "metadata": {},
   "outputs": [],
   "source": [
    "df.tail()"
   ]
  },
  {
   "cell_type": "code",
   "execution_count": null,
   "metadata": {},
   "outputs": [],
   "source": [
    "import matplotlib.pyplot as plt \n",
    "import matplotlib \n",
    "\n",
    "fig = plt.figure(figsize=(50,50))\n",
    "plt.subplots_adjust(left=None, bottom=None, right=None, top=None, wspace=0.2, hspace=0.4)\n",
    "\n",
    "\n",
    "num = len(df.columns)\n",
    "xs = 10\n",
    "ys = int(num/xs)+1\n",
    "for i, c in enumerate(df.columns):\n",
    "    x = i % xs\n",
    "    y = int(i/xs)+ys\n",
    "    ax = fig.add_subplot(xs, ys, i+1)\n",
    "    ax.set_title(c.symbol)\n",
    "    ax.plot(df[c].cumsum())\n",
    "    ax2 = ax.twinx()\n",
    "    ax2.plot(close_price[c], c=\"green\")\n",
    "    ax2.grid(b=False)\n",
    "    "
   ]
  }
 ],
 "metadata": {
  "kernelspec": {
   "display_name": "Python 3.5",
   "language": "python",
   "name": "py35"
  },
  "language_info": {
   "codemirror_mode": {
    "name": "ipython",
    "version": 3
   },
   "file_extension": ".py",
   "mimetype": "text/x-python",
   "name": "python",
   "nbconvert_exporter": "python",
   "pygments_lexer": "ipython3",
   "version": "3.5.9"
  }
 },
 "nbformat": 4,
 "nbformat_minor": 2
}
