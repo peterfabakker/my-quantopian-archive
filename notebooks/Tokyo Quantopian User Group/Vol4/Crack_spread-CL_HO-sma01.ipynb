{
 "cells": [
  {
   "cell_type": "code",
   "execution_count": null,
   "metadata": {
    "deletable": true,
    "editable": true
   },
   "outputs": [],
   "source": [
    "import pandas as pd\n",
    "import matplotlib.pyplot as plt\n",
    "from quantopian.research.experimental import history"
   ]
  },
  {
   "cell_type": "code",
   "execution_count": null,
   "metadata": {
    "deletable": true,
    "editable": true
   },
   "outputs": [],
   "source": [
    "def get_fut_hist(\n",
    "    symbol, year, month, fields=[\"price\"], frequency=\"daily\", start=None, end=None\n",
    "):\n",
    "    \"\"\"\n",
    "    Parameters\n",
    "    ----------\n",
    "    symbol : str\n",
    "        ticker symbols\n",
    "    year : int\n",
    "        year of delivery\n",
    "    month : int\n",
    "        month of delivery\n",
    "    fields : str or list\n",
    "        same as data.history\n",
    "    start : str or pd.Timestamp\n",
    "        same as data.history\n",
    "    end: str or pd.Timestamp\n",
    "        same as data.history\n",
    "\n",
    "    Returns\n",
    "    -------\n",
    "    pandas.DataFrame\n",
    "        The pricing data by data.history\n",
    "    \"\"\"\n",
    "\n",
    "    if len(str(year)) == 4:\n",
    "        year = str(year)[2:]\n",
    "\n",
    "    month = \"FGHJKMNQUVXZ\"[month - 1]\n",
    "    f = symbols(\"{}{}{}\".format(symbol, month, year))\n",
    "\n",
    "    if not start:\n",
    "        start = f.start_date\n",
    "    if not end:\n",
    "        end = f.expiration_date\n",
    "\n",
    "    return history(f, fields=fields, frequency=frequency, start=start, end=end)"
   ]
  },
  {
   "cell_type": "code",
   "execution_count": null,
   "metadata": {
    "deletable": true,
    "editable": true
   },
   "outputs": [],
   "source": [
    "CL1501 = get_fut_hist('CL', 2015, 1, fields=['price', 'volume'])"
   ]
  },
  {
   "cell_type": "markdown",
   "metadata": {
    "collapsed": false,
    "deletable": true,
    "editable": true
   },
   "source": [
    "出来高がある期間を確認"
   ]
  },
  {
   "cell_type": "code",
   "execution_count": null,
   "metadata": {
    "deletable": true,
    "editable": true
   },
   "outputs": [],
   "source": [
    "CL1501.tail(50).plot(subplots=True, marker='o')"
   ]
  },
  {
   "cell_type": "code",
   "execution_count": null,
   "metadata": {
    "deletable": true,
    "editable": true
   },
   "outputs": [],
   "source": [
    "def get_ratio(f1, f2, year, month, offsets=(100, 20), window=5):\n",
    "    f1_df = get_fut_hist(f1, year, month)\n",
    "    f2_df = get_fut_hist(f2, year, month)\n",
    "\n",
    "    df = pd.concat([f1_df, f2_df], axis=1)\n",
    "    df.columns = [f1, f2]\n",
    "    df = df.iloc[-offsets[0]:-offsets[1]]\n",
    "    \n",
    "    ratio = df[f1] / df[f2]\n",
    "    sma = ratio.rolling(window).mean()\n",
    "\n",
    "    return pd.DataFrame([ratio, sma], index=['ratio', 'sma'.format(window)]).T"
   ]
  },
  {
   "cell_type": "code",
   "execution_count": null,
   "metadata": {
    "deletable": true,
    "editable": true
   },
   "outputs": [],
   "source": [
    "def plot_signal(df):\n",
    "    fig, ax = plt.subplots()\n",
    "    ax.plot(df['ratio'])\n",
    "    ax.plot(df['sma'])\n",
    "    yticks = ax.axes.get_yticks()\n",
    "    ax.fill_between(df.index, yticks[0], yticks[-1],\n",
    "                    where=df['sma'] > df['sma'].shift(1),\n",
    "                    facecolor='green', alpha=0.2)\n",
    "    ax.fill_between(df.index, yticks[0], yticks[-1],\n",
    "                    where=df['sma'] < df['sma'].shift(1),\n",
    "                    facecolor='red', alpha=0.2)"
   ]
  },
  {
   "cell_type": "markdown",
   "metadata": {
    "deletable": true,
    "editable": true
   },
   "source": [
    "* CLとHOの比率の一代足\n",
    "* 満期-80から-20までの期間\n",
    "* 移動平均が上向きを緑、下向きを赤で表示"
   ]
  },
  {
   "cell_type": "code",
   "execution_count": null,
   "metadata": {
    "deletable": true,
    "editable": true
   },
   "outputs": [],
   "source": [
    "plot_signal(get_ratio('CL', 'HO', 2016, 3, window=10))\n"
   ]
  },
  {
   "cell_type": "code",
   "execution_count": null,
   "metadata": {},
   "outputs": [],
   "source": [
    "plot_signal(get_ratio('HO', 'XB', 2015, 3, window=10))"
   ]
  },
  {
   "cell_type": "code",
   "execution_count": null,
   "metadata": {
    "deletable": true,
    "editable": true
   },
   "outputs": [],
   "source": [
    "plot_signal(get_ratio('CL', 'XB', 2015, 7, window=10))"
   ]
  },
  {
   "cell_type": "code",
   "execution_count": null,
   "metadata": {
    "deletable": true,
    "editable": true
   },
   "outputs": [],
   "source": [
    "plot_signal(get_ratio('CL', 'HO', 2015, 9, window=10))"
   ]
  },
  {
   "cell_type": "code",
   "execution_count": null,
   "metadata": {
    "deletable": true,
    "editable": true
   },
   "outputs": [],
   "source": [
    "plot_signal(get_ratio('CL', 'HO', 2015, 12, window=10))"
   ]
  },
  {
   "cell_type": "code",
   "execution_count": null,
   "metadata": {
    "deletable": true,
    "editable": true
   },
   "outputs": [],
   "source": [
    "plot_signal(get_ratio('CL', 'HO', 2016, 3, window=10))"
   ]
  },
  {
   "cell_type": "code",
   "execution_count": null,
   "metadata": {
    "deletable": true,
    "editable": true
   },
   "outputs": [],
   "source": [
    "plot_signal(get_ratio('CL', 'HO', 2016, 6, window=10))"
   ]
  },
  {
   "cell_type": "code",
   "execution_count": null,
   "metadata": {
    "deletable": true,
    "editable": true
   },
   "outputs": [],
   "source": [
    "plot_signal(get_ratio('CL', 'HO', 2016, 9, window=10))"
   ]
  },
  {
   "cell_type": "code",
   "execution_count": null,
   "metadata": {
    "deletable": true,
    "editable": true
   },
   "outputs": [],
   "source": [
    "plot_signal(get_ratio('CL', 'HO', 2016, 12, window=10))"
   ]
  },
  {
   "cell_type": "code",
   "execution_count": null,
   "metadata": {
    "deletable": true,
    "editable": true
   },
   "outputs": [],
   "source": [
    "plot_signal(get_ratio('CL', 'HO', 2017, 3, window=10))"
   ]
  },
  {
   "cell_type": "code",
   "execution_count": null,
   "metadata": {
    "deletable": true,
    "editable": true
   },
   "outputs": [],
   "source": [
    "plot_signal(get_ratio('CL', 'HO', 2017, 6, window=10))"
   ]
  },
  {
   "cell_type": "code",
   "execution_count": null,
   "metadata": {
    "deletable": true,
    "editable": true
   },
   "outputs": [],
   "source": [
    "plot_signal(get_ratio('CL', 'HO', 2017, 9, window=10))"
   ]
  },
  {
   "cell_type": "code",
   "execution_count": null,
   "metadata": {
    "deletable": true,
    "editable": true
   },
   "outputs": [],
   "source": [
    "plot_signal(get_ratio('CL', 'HO', 2017, 12, window=10))"
   ]
  },
  {
   "cell_type": "code",
   "execution_count": null,
   "metadata": {
    "deletable": true,
    "editable": true
   },
   "outputs": [],
   "source": [
    "plot_signal(get_ratio('CL', 'HO', 2018, 3, window=10))"
   ]
  },
  {
   "cell_type": "code",
   "execution_count": null,
   "metadata": {
    "deletable": true,
    "editable": true
   },
   "outputs": [],
   "source": []
  }
 ],
 "metadata": {
  "kernelspec": {
   "display_name": "Python 2",
   "language": "python",
   "name": "python2"
  },
  "language_info": {
   "codemirror_mode": {
    "name": "ipython",
    "version": 2
   },
   "file_extension": ".py",
   "mimetype": "text/x-python",
   "name": "python",
   "nbconvert_exporter": "python",
   "pygments_lexer": "ipython2",
   "version": "2.7.12"
  }
 },
 "nbformat": 4,
 "nbformat_minor": 2
}
