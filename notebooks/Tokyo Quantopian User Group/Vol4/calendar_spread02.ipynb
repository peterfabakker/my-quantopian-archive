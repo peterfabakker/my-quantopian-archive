{
 "cells": [
  {
   "cell_type": "code",
   "execution_count": null,
   "metadata": {},
   "outputs": [],
   "source": [
    "from quantopian.research.experimental import continuous_future, history\n",
    "\n",
    "import pandas as pd"
   ]
  },
  {
   "cell_type": "markdown",
   "metadata": {},
   "source": [
    "### 5限月分の終値を取得"
   ]
  },
  {
   "cell_type": "code",
   "execution_count": null,
   "metadata": {},
   "outputs": [],
   "source": [
    "fut = 'SY'\n",
    "start = '2015-1-1'\n",
    "end='2018-5-13'\n",
    "\n",
    "df = history(\n",
    "    [continuous_future(fut, offset=i,  adjustment=None) for i in range(5)],\n",
    "    fields='price', \n",
    "    frequency='daily', \n",
    "    start=start, \n",
    "    end=end\n",
    ")\n",
    "\n",
    "df.columns = ['f{}'.format(i) for i in range(1, 6)]"
   ]
  },
  {
   "cell_type": "code",
   "execution_count": null,
   "metadata": {},
   "outputs": [],
   "source": [
    "df.head()\n"
   ]
  },
  {
   "cell_type": "markdown",
   "metadata": {},
   "source": [
    "### 1つ前の限月との比率"
   ]
  },
  {
   "cell_type": "code",
   "execution_count": null,
   "metadata": {},
   "outputs": [],
   "source": [
    "ratio_df = pd.DataFrame([(df.iloc[:, i] / df.iloc[:, i+1]) - 1 for i in range(len(df.columns) - 1)]).T\n",
    "ratio_df.columns = ['f{}-f{}'.format(i, i + 1) for i in range(1, len(ratio_df.columns) + 1)]"
   ]
  },
  {
   "cell_type": "code",
   "execution_count": null,
   "metadata": {},
   "outputs": [],
   "source": [
    "ratio_df.head()\n"
   ]
  },
  {
   "cell_type": "code",
   "execution_count": null,
   "metadata": {},
   "outputs": [],
   "source": [
    "df.pct_change(axis=1).head()"
   ]
  },
  {
   "cell_type": "code",
   "execution_count": null,
   "metadata": {},
   "outputs": [],
   "source": [
    "ratio_df.plot()"
   ]
  },
  {
   "cell_type": "markdown",
   "metadata": {},
   "source": [
    "### 1限月と2限月の比率と他の比率(1つ前の限月の比率)の差"
   ]
  },
  {
   "cell_type": "code",
   "execution_count": null,
   "metadata": {},
   "outputs": [],
   "source": [
    "ratio_diff_df = pd.DataFrame([abs(ratio_df.iloc[:, 0] + ratio_df.iloc[:, i] * -1) for i in range(1, len(ratio_df.columns))]).T\n",
    "ratio_diff_df.columns = ratio_df.columns[1:]"
   ]
  },
  {
   "cell_type": "code",
   "execution_count": null,
   "metadata": {},
   "outputs": [],
   "source": [
    "ratio_diff_df.plot()"
   ]
  },
  {
   "cell_type": "code",
   "execution_count": null,
   "metadata": {},
   "outputs": [],
   "source": [
    "ratio_diff_df.hist()"
   ]
  },
  {
   "cell_type": "code",
   "execution_count": null,
   "metadata": {},
   "outputs": [],
   "source": [
    "ratio_diff_df.describe()"
   ]
  },
  {
   "cell_type": "markdown",
   "metadata": {},
   "source": [
    "### トレード\n",
    "* 1-2限月の比率と対象の限月の比率の符号が逆ならトレード\n",
    "* threshold: 比率の差が大きければトレードをするというフィルタをかける\n",
    "* hold: 保有日数"
   ]
  },
  {
   "cell_type": "code",
   "execution_count": null,
   "metadata": {},
   "outputs": [],
   "source": [
    "def make_trade_df(pair, threshold, hold=1):\n",
    "    trade_df = ratio_df[['f1-f2', pair]].copy()\n",
    "    trade_df['long_short'] = 0\n",
    "    trade_df.loc[(trade_df.loc[:, 'f1-f2'] < 0) & (trade_df.loc[:, pair] > 0), 'long_short'] = -1\n",
    "    trade_df.loc[(trade_df.loc[:, 'f1-f2'] > 0) & (trade_df.loc[:, pair] < 0), 'long_short'] = 1\n",
    "    trade_df['pct_change'] = (trade_df[pair] + 1).pct_change(hold).shift(-hold)\n",
    "    trade_df['returns'] = (trade_df['long_short'] * trade_df['pct_change']).cumsum()\n",
    "    trade_df['signal'] = ratio_diff_df[pair] > threshold\n",
    "    trade_df['filtered_returns'] = (trade_df['long_short'] * trade_df['pct_change'] * trade_df['signal']).cumsum()\n",
    "    return trade_df"
   ]
  },
  {
   "cell_type": "markdown",
   "metadata": {},
   "source": [
    "#### 4-5限月をしきい値を比率の差の四分位に設定"
   ]
  },
  {
   "cell_type": "code",
   "execution_count": null,
   "metadata": {},
   "outputs": [],
   "source": [
    "trade_df = make_trade_df('f4-f5', ratio_diff_df['f4-f5'].quantile(0.25))"
   ]
  },
  {
   "cell_type": "code",
   "execution_count": null,
   "metadata": {},
   "outputs": [],
   "source": [
    "trade_df.head()"
   ]
  },
  {
   "cell_type": "code",
   "execution_count": null,
   "metadata": {},
   "outputs": [],
   "source": [
    "trade_df[['returns', 'filtered_returns']].plot()"
   ]
  },
  {
   "cell_type": "markdown",
   "metadata": {},
   "source": [
    "#### 保有日数を5日間に設定"
   ]
  },
  {
   "cell_type": "code",
   "execution_count": null,
   "metadata": {},
   "outputs": [],
   "source": [
    "make_trade_df('f4-f5', ratio_diff_df['f4-f5'].quantile(0.25), hold=5)[['returns', 'filtered_returns']].plot()"
   ]
  },
  {
   "cell_type": "code",
   "execution_count": null,
   "metadata": {},
   "outputs": [],
   "source": [
    "df = history(\n",
    "    [continuous_future(fut, offset=i,  adjustment=None) for i in range(5)],\n",
    "    fields='volume', \n",
    "    frequency='daily', \n",
    "    start=start, \n",
    "    end=end\n",
    ")\n"
   ]
  },
  {
   "cell_type": "code",
   "execution_count": null,
   "metadata": {},
   "outputs": [],
   "source": [
    "df.iloc[:,2:].plot()"
   ]
  },
  {
   "cell_type": "code",
   "execution_count": null,
   "metadata": {},
   "outputs": [],
   "source": [
    "df = history(\n",
    "    [continuous_future(fut, offset=i,  adjustment=None) for i in range(5)],\n",
    "    fields='volume', \n",
    "    frequency='minute', \n",
    "    start=\"2018-5-2\", \n",
    "    end=\"2018-5-2\",\n",
    ")\n"
   ]
  },
  {
   "cell_type": "code",
   "execution_count": null,
   "metadata": {},
   "outputs": [],
   "source": [
    "df.plot()"
   ]
  }
 ],
 "metadata": {
  "kernelspec": {
   "display_name": "Python 2",
   "language": "python",
   "name": "python2"
  },
  "language_info": {
   "codemirror_mode": {
    "name": "ipython",
    "version": 2
   },
   "file_extension": ".py",
   "mimetype": "text/x-python",
   "name": "python",
   "nbconvert_exporter": "python",
   "pygments_lexer": "ipython2",
   "version": "2.7.12"
  }
 },
 "nbformat": 4,
 "nbformat_minor": 2
}
