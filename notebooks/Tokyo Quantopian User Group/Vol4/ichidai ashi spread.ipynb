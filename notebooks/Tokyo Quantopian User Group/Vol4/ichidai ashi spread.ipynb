{
 "cells": [
  {
   "cell_type": "code",
   "execution_count": null,
   "metadata": {},
   "outputs": [],
   "source": [
    "# サヤの一代足の分析\n",
    "\n",
    "from quantopian.research.experimental import continuous_future, history\n",
    "months = list(\"FGHJKMNQUVXZ\")\n",
    "dict_month = dict(zip(range( 1,13), months))\n",
    "\n",
    "symbol = \"NG\"\n",
    "month1 = dict_month[6]\n",
    "month2 = dict_month[9]\n",
    "\n",
    "year = 18\n",
    "\n",
    "\n",
    "f1 = symbols(\"{}{}{}\".format(symbol ,month1, year)) \n",
    "f2 = symbols(\"{}{}{}\".format(symbol, month2, year)) \n",
    "\n",
    "start = f2.start_date # f2 のスタート日から\n",
    "end = f1.expiration_date # f1 の満期日までのデータを取得\n",
    "\n",
    "pan = history(\n",
    " [f1, f2], \n",
    " fields=[\"price\", \"volume\"],\n",
    " frequency='daily',\n",
    " start=start,\n",
    " end=end\n",
    " )"
   ]
  },
  {
   "cell_type": "code",
   "execution_count": null,
   "metadata": {},
   "outputs": [],
   "source": [
    "df = pan.price\n",
    "df_change = df.pct_change()\n",
    "df[\"is_contango\"] = df[f1] < df[f2]\n",
    "df[\"is_backwardation\"] = df[f1] > df[f2]\n",
    "\n",
    "((df_change[f2] - df_change[f1]) * df[\"is_contango\"] + \\\n",
    " (df_change[f1] - df_change[f2]) * df[\"is_backwardation\"]).cumsum().plot(title=\"spread\")\n",
    "\n",
    "pan.volume.plot(title=\"volume\")\n"
   ]
  },
  {
   "cell_type": "code",
   "execution_count": null,
   "metadata": {},
   "outputs": [],
   "source": [
    "f1.to_dict()"
   ]
  }
 ],
 "metadata": {
  "kernelspec": {
   "display_name": "Python 2",
   "language": "python",
   "name": "python2"
  },
  "language_info": {
   "codemirror_mode": {
    "name": "ipython",
    "version": 2
   },
   "file_extension": ".py",
   "mimetype": "text/x-python",
   "name": "python",
   "nbconvert_exporter": "python",
   "pygments_lexer": "ipython2",
   "version": "2.7.12"
  }
 },
 "nbformat": 4,
 "nbformat_minor": 2
}
