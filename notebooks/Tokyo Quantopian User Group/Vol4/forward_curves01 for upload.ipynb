{
 "cells": [
  {
   "cell_type": "code",
   "execution_count": null,
   "metadata": {
    "deletable": true,
    "editable": true
   },
   "outputs": [],
   "source": [
    "import matplotlib.pyplot as plt\n",
    "from quantopian.research.experimental import continuous_future, history\n",
    "import pandas as pd\n",
    "import numpy as np"
   ]
  },
  {
   "cell_type": "markdown",
   "metadata": {
    "deletable": true,
    "editable": true
   },
   "source": [
    "### 5限月分の終値を取得"
   ]
  },
  {
   "cell_type": "code",
   "execution_count": null,
   "metadata": {
    "deletable": true,
    "editable": true
   },
   "outputs": [],
   "source": [
    "def get_fut_hist(symbol, start, end):\n",
    "    df = history(\n",
    "        [continuous_future(symbol, offset=i,  adjustment=None) for i in range(5)],\n",
    "        fields='price', \n",
    "        frequency='daily', \n",
    "        start=start, \n",
    "        end=end\n",
    "    )\n",
    "\n",
    "    df.columns = ['f{}'.format(i) for i in range(1, 6)]\n",
    "    return df"
   ]
  },
  {
   "cell_type": "code",
   "execution_count": null,
   "metadata": {
    "deletable": true,
    "editable": true
   },
   "outputs": [],
   "source": [
    "cl = get_fut_hist('CL', '2015-01-01', '2018-6-15')\n",
    "ho = get_fut_hist('HO', '2015-01-01', '2018-6-15')\n",
    "xb = get_fut_hist('XB', '2015-01-01', '2018-6-15')\n",
    "ng = get_fut_hist('ng', '2015-01-01', '2018-6-15')"
   ]
  },
  {
   "cell_type": "code",
   "execution_count": null,
   "metadata": {
    "deletable": true,
    "editable": true
   },
   "outputs": [],
   "source": [
    "cl.head()"
   ]
  },
  {
   "cell_type": "markdown",
   "metadata": {},
   "source": [
    "### 満期日を追加\n"
   ]
  },
  {
   "cell_type": "code",
   "execution_count": null,
   "metadata": {
    "deletable": true,
    "editable": true
   },
   "outputs": [],
   "source": [
    "\n",
    "def get_expiration_date(contract):\n",
    "      return contract.expiration_date\n",
    "\n",
    "def insert_expiration_date(symbol, start, end ):\n",
    "    contract = history(continuous_future(symbol), fields=['contract'],frequency=\"daily\", start=start, end=end)\n",
    "    contract[\"expiration_date\"] = contract['contract'].apply(get_expiration_date)\n",
    "    contract[\"date\"] = contract.index # memo1\n",
    "    contract[\"remain_date\"] = (contract[\"expiration_date\"] - contract[\"date\"]).dt.days\n",
    "    return contract\n",
    "    \n",
    "cl_contract = insert_expiration_date('CL', '2015-01-01', '2018-6-15')\n",
    "ho_contract = insert_expiration_date('HO', '2015-01-01', '2018-6-15')\n",
    "xb_contract = insert_expiration_date('XB', '2015-01-01', '2018-6-15')\n",
    "ng_contract = insert_expiration_date('NG', '2015-01-01', '2018-6-15')\n"
   ]
  },
  {
   "cell_type": "code",
   "execution_count": null,
   "metadata": {
    "deletable": true,
    "editable": true
   },
   "outputs": [],
   "source": [
    "ng_contract.head()"
   ]
  },
  {
   "cell_type": "code",
   "execution_count": null,
   "metadata": {
    "deletable": true,
    "editable": true
   },
   "outputs": [],
   "source": [
    "def plot_forward(df, rows, cols, **kwargs):\n",
    "    n = rows * cols\n",
    "    if 'figsize' in kwargs:\n",
    "        fig = plt.figure(figsize=kwargs['figsize'])\n",
    "    else:\n",
    "        fig = plt.figure()\n",
    "    if 'suptitle' in kwargs:\n",
    "        fig.suptitle(kwargs['suptitle'])\n",
    "    ax = [fig.add_subplot(rows, cols, i) for i in range(1, n + 1)]\n",
    "    for i, ax_ in enumerate(ax):\n",
    "        ax_.plot(df.iloc[-n + i].values, marker='o')\n",
    "        ax_.set_title('{:%m-%d}'.format(df.index[-n + i]))\n",
    "        ax_.axes.set_xticks([])\n",
    "        ax_.axes.set_yticks([])\n",
    "\n",
    "def plot_forward_1(df, rows, cols, df_contract, **kwargs):\n",
    "    n = rows * cols\n",
    "    if 'figsize' in kwargs:\n",
    "        fig = plt.figure(figsize=kwargs['figsize'])\n",
    "    else:\n",
    "        fig = plt.figure()\n",
    "    if 'suptitle' in kwargs:\n",
    "        fig.suptitle(kwargs['suptitle'])\n",
    "    ax = [fig.add_subplot(rows, cols, i) for i in range(1, n + 1)]\n",
    "    for i, ax_ in enumerate(ax):\n",
    "        ax_.plot(df.iloc[-n + i].values, marker='o')\n",
    "        ax_.set_title('{:%y-%m-%d} ({})'.format(df.index[-n + i], df_contract['remain_date'][-n + i] ))\n",
    "        ax_.axes.set_xticks([])\n",
    "        ax_.axes.set_yticks([])        "
   ]
  },
  {
   "cell_type": "code",
   "execution_count": null,
   "metadata": {
    "deletable": true,
    "editable": true
   },
   "outputs": [],
   "source": [
    "#plot_forward(cl, 20, 8, figsize=(14, 22), suptitle='CL')\n",
    "plot_forward_1(cl, 20, 8, cl_contract, figsize=(14, 22), suptitle='CL')\n"
   ]
  },
  {
   "cell_type": "code",
   "execution_count": null,
   "metadata": {
    "deletable": true,
    "editable": true
   },
   "outputs": [],
   "source": [
    "plot_forward_1(xb, 20, 8, xb_contract, figsize=(14, 22), suptitle='xb')\n"
   ]
  },
  {
   "cell_type": "code",
   "execution_count": null,
   "metadata": {},
   "outputs": [],
   "source": [
    "plot_forward_1(ho, 20, 8, ho_contract, figsize=(14, 22), suptitle='ho')"
   ]
  },
  {
   "cell_type": "code",
   "execution_count": null,
   "metadata": {},
   "outputs": [],
   "source": [
    "plot_forward_1(ng, 20, 8, ng_contract, figsize=(14, 22), suptitle='ng')"
   ]
  },
  {
   "cell_type": "markdown",
   "metadata": {},
   "source": [
    "### 出っ張ったり，凹んだりしているところを狙い撃ちするストラテジー\n",
    "+ 両側の限月の平均値と比べて，真ん中の限月の価格がずれている時を狙う\n"
   ]
  },
  {
   "cell_type": "code",
   "execution_count": null,
   "metadata": {
    "deletable": true,
    "editable": true
   },
   "outputs": [],
   "source": [
    "## 例えば，f2 と f4 の平均値が，f3と比べてどのくらいずれているかを調べる\n",
    "\n",
    "def debeso_checker(data, target1, target2, target3, **kwargs):\n",
    "    df = data[[target1, target2, target3]]\n",
    "    df['mean'] = (df[target1] + df[target3])/2\n",
    "    df['diff'] = (df[target2]/df['mean'])\n",
    "    df['diff'].hist(bins=100,  alpha=kwargs['alpha'], color=kwargs['color'])\n",
    "    print(df.describe())\n",
    "\n",
    "debeso_checker(cl, 'f1','f2','f3', alpha=0.7, color='blue')\n",
    "debeso_checker(cl, 'f2','f3', 'f4', alpha=0.6, color='green')\n",
    "debeso_checker(cl, 'f3', 'f4', 'f5', alpha=0.4, color='purple')"
   ]
  }
 ],
 "metadata": {
  "kernelspec": {
   "display_name": "Python 2",
   "language": "python",
   "name": "python2"
  },
  "language_info": {
   "codemirror_mode": {
    "name": "ipython",
    "version": 2
   },
   "file_extension": ".py",
   "mimetype": "text/x-python",
   "name": "python",
   "nbconvert_exporter": "python",
   "pygments_lexer": "ipython2",
   "version": "2.7.12"
  }
 },
 "nbformat": 4,
 "nbformat_minor": 2
}
