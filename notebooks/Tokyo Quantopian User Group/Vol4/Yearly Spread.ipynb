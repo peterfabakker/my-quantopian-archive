{
 "cells": [
  {
   "cell_type": "code",
   "execution_count": null,
   "metadata": {},
   "outputs": [],
   "source": [
    "from quantopian.research.experimental import continuous_future, history\n",
    "import matplotlib.pyplot as plt\n",
    "\n",
    "\n",
    "months = list(\"FGHJKMNQUVXZ\")\n",
    "dict_month = dict(zip(range( 1,13), months))\n",
    "dict_month\n"
   ]
  },
  {
   "cell_type": "code",
   "execution_count": null,
   "metadata": {},
   "outputs": [],
   "source": [
    "# ガソリンの2017年12月限をショート，2018年12月限ロング\n",
    "symbol = \"SY\"\n",
    "target_month = 1\n",
    "month = dict_month[target_month]\n",
    "year1 = 16\n",
    "year2 = 17\n",
    "\n",
    "f1 = symbols(\"{}{}{}\".format(symbol ,month, year1)) \n",
    "f2 = symbols(\"{}{}{}\".format(symbol, month, year2)) \n",
    "\n",
    "start = f2.start_date # f2 のスタート日から\n",
    "end = f1.expiration_date # f1 の満期日までのデータを取得\n",
    "\n",
    "pan = history(\n",
    " [f1, f2], \n",
    " fields=[\"price\", \"volume\"],\n",
    " frequency='daily',\n",
    " start=start,\n",
    " end=end\n",
    " )"
   ]
  },
  {
   "cell_type": "code",
   "execution_count": null,
   "metadata": {},
   "outputs": [],
   "source": [
    "f1.to_dict()"
   ]
  },
  {
   "cell_type": "code",
   "execution_count": null,
   "metadata": {},
   "outputs": [],
   "source": [
    "df = pan.price\n",
    "df_change = df.pct_change()\n",
    "(df_change[f2] - df_change[f1]).cumsum().plot(title=\"spread\")\n",
    "pan.volume.plot(title=\"volume\")"
   ]
  },
  {
   "cell_type": "code",
   "execution_count": null,
   "metadata": {},
   "outputs": [],
   "source": [
    "months = list(\"FGHJKMNQUVXZ\")\n",
    "list(zip(range( 1,13), months))\n",
    "symbol = \"XB\"\n",
    "years = [15,16,17,18]\n",
    "\n",
    "syms = list()\n",
    "for year in years:\n",
    "    for month in months:\n",
    "        syms.append(\"{}{}{}\".format(symbol ,month, year))\n",
    "        \n",
    "        \n",
    "## 一つ前の限月が終わった日からデータを取得するために，\n",
    "## [一つ前の限月，対象の限月，一年後の限月]というリストを作りデータ取得の時に使う．\n",
    "sym_group = list()\n",
    "for i in range(len(syms)):\n",
    "    try:\n",
    "        sym_group.append([symbols(syms[i]), symbols(syms[i+1]), symbols(syms[i+13])])\n",
    "    except:\n",
    "        pass \n",
    "   \n"
   ]
  },
  {
   "cell_type": "code",
   "execution_count": null,
   "metadata": {},
   "outputs": [],
   "source": [
    "results = dict()\n",
    "\n",
    "# ココで，f_preは一つ前の限月\n",
    "# f1,f2は対象の限月，一年後の限月\n",
    "# 例；f_pre：2017年1月限，f1: 2017年2月限，f2: 2018年2月限\n",
    "# 2017年1月限が満期日を迎えた日から，2017年2月限が満期日を迎える日までの f1とf2のヒストリカルデータ\n",
    "# を取得する．\n",
    "\n",
    "for pre_symbol, target_symbol, next_symbol in sym_group: \n",
    "    f_pre, f1, f2 = pre_symbol, target_symbol, next_symbol\n",
    "    start = f_pre.expiration_date\n",
    "    end = f1.expiration_date\n",
    "    df = history([f1, f2], \n",
    "                 fields=\"price\",\n",
    "                 frequency='daily',\n",
    "                 start=start,\n",
    "                 end=end)\n",
    "    #df_change = df.pct_change()\n",
    "    #results[f1.symbol] = (df_change[f2] - df_change[f1]).cumsum().values\n",
    "    results[f1.symbol] = df\n",
    "\n",
    "    \n",
    "    "
   ]
  },
  {
   "cell_type": "code",
   "execution_count": null,
   "metadata": {},
   "outputs": [],
   "source": [
    "def draw(result_dict):\n",
    "    contango_list = list()\n",
    "    profit_list = list()\n",
    "    \n",
    "    for k, df in result_dict.items():\n",
    "        # 期近のseries\n",
    "        near_position = df.iloc[:, 0]\n",
    "        # 1年限のseries\n",
    "        far_position = df.iloc[:, 1]\n",
    "        # データ取得初日の期近と1年限の比率を取得する．\n",
    "        contango = far_position[0] / near_position[0] - 1\n",
    "        # 初日に期近をショート，1年後をロングした場合，データ最終日のPL\n",
    "        profit = near_position[0] - near_position[-1] + far_position[-1] - near_position[0]\n",
    "        contango_list.append(contango)\n",
    "        profit_list.append(profit)\n",
    "        \n",
    "    # データ初日の期近と1年限の比率と，そのロングショートのPLの関係を散布図に描画\n",
    "    fig = plt.figure()\n",
    "    ax = fig.add_subplot(1,1,1)\n",
    "    ax.axvline(color='red')\n",
    "    ax.axhline(color='red')\n",
    "    ax.scatter(x=contango_list, y=profit_list, marker = 'o', )\n",
    "\n",
    "\n",
    "draw(results)"
   ]
  }
 ],
 "metadata": {
  "kernelspec": {
   "display_name": "Python 2",
   "language": "python",
   "name": "python2"
  },
  "language_info": {
   "codemirror_mode": {
    "name": "ipython",
    "version": 2
   },
   "file_extension": ".py",
   "mimetype": "text/x-python",
   "name": "python",
   "nbconvert_exporter": "python",
   "pygments_lexer": "ipython2",
   "version": "2.7.12"
  }
 },
 "nbformat": 4,
 "nbformat_minor": 2
}
