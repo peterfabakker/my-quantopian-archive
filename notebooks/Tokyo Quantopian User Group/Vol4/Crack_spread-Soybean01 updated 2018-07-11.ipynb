{
 "cells": [
  {
   "cell_type": "code",
   "execution_count": null,
   "metadata": {
    "deletable": true,
    "editable": true
   },
   "outputs": [],
   "source": [
    "import itertools \n",
    "import pandas as pd\n",
    "import numpy as np\n",
    "import matplotlib.pyplot as plt \n",
    "from quantopian.research.experimental import continuous_future, history\n"
   ]
  },
  {
   "cell_type": "code",
   "execution_count": null,
   "metadata": {
    "deletable": true,
    "editable": true
   },
   "outputs": [],
   "source": [
    "def get_hist(symbol, start, end, num_of_maturities): \n",
    "    df = history(\n",
    "        [continuous_future(symbol, \n",
    "                           offset=i,\n",
    "                           adjustment=None) for i in range(num_of_maturities)],\n",
    "        fields = 'open_price',#'price',\n",
    "        frequency='daily',\n",
    "        start=start,\n",
    "        end=end\n",
    "    )\n",
    "    return df \n"
   ]
  },
  {
   "cell_type": "code",
   "execution_count": null,
   "metadata": {
    "deletable": true,
    "editable": true
   },
   "outputs": [],
   "source": [
    "symbols=['SY', 'BO', 'SM', 'CN'] # Soybean, oil, meal \n",
    "\n",
    "symbols_pairs = itertools.combinations(symbols,2)\n",
    "symbols_pairs = list(symbols_pairs)\n",
    "# >>> [('SY', 'BO'),('SY', 'SM'),('BO', 'SM')\n"
   ]
  },
  {
   "cell_type": "code",
   "execution_count": null,
   "metadata": {
    "deletable": true,
    "editable": true
   },
   "outputs": [],
   "source": [
    "hist_df = [get_hist(symbol,'2013-01-01', '2018-7-12', 5) for symbol in symbols]\n",
    "\n"
   ]
  },
  {
   "cell_type": "code",
   "execution_count": null,
   "metadata": {
    "deletable": true,
    "editable": true
   },
   "outputs": [],
   "source": [
    "maturities_df = [pd.concat(\n",
    "    [df.iloc[:, i] for df in hist_df], axis=1)\n",
    "                 for i, x in enumerate(hist_df[0].columns)]\n"
   ]
  },
  {
   "cell_type": "code",
   "execution_count": null,
   "metadata": {
    "deletable": true,
    "editable": true
   },
   "outputs": [],
   "source": [
    "for df in maturities_df:\n",
    "    df.columns = symbols \n"
   ]
  },
  {
   "cell_type": "code",
   "execution_count": null,
   "metadata": {
    "deletable": true,
    "editable": true
   },
   "outputs": [],
   "source": [
    "\n",
    "def plot_ratio(maturity):\n",
    "    fig = plt.figure()\n",
    "    fig.suptitle('offset:{}'.format(maturity))\n",
    "    ax = [fig.add_subplot(3, 1, i) for i in range(1, 4)]\n",
    "    ax  = fig.add_subplot(1,1,1)\n",
    "    for i, symbol in enumerate(symbols_pairs):\n",
    "        ax[i].plot(maturities_df[maturity][list(symbol)].apply(lambda x: x[0] / x[1], axis=1))\n",
    "        ax[i].set_title('{}/{}'.format(*symbol))\n",
    "        ax.set_title('{}/{}'.format(*symbol))\n",
    "\n",
    "        "
   ]
  },
  {
   "cell_type": "code",
   "execution_count": null,
   "metadata": {
    "deletable": true,
    "editable": true
   },
   "outputs": [],
   "source": [
    "def compare(num,):\n",
    "    df = maturities_df[num]\n",
    "    df = df.fillna(method='ffill')\n",
    "    df = (df / df.iloc[0]).applymap(np.log)\n",
    "        \n",
    "    for p1, p2 in symbols_pairs:\n",
    "        clm = '{}/{}'.format(p1, p2)\n",
    "        df[clm] = df[p1] - df[p2]\n",
    "    return df \n",
    "\n",
    "def compare1(num,):\n",
    "    df = maturities_df[num]\n",
    "    df = df.fillna(method='ffill')\n",
    "    df = (df/df.shift(1)).applymap(np.log)\n",
    "        \n",
    "    for p1, p2 in symbols_pairs:\n",
    "        clm = '{}/{}'.format(p1, p2)\n",
    "        df[clm] = df[p1] - df[p2]\n",
    "    return df \n",
    "\n",
    "\n",
    "group1 = compare(1)\n",
    "group2 = compare(2)\n",
    "group3 = compare(3)\n",
    "group4 = compare(4)\n",
    "\n",
    "g1 = compare1(1)\n",
    "\n"
   ]
  },
  {
   "cell_type": "code",
   "execution_count": null,
   "metadata": {
    "deletable": true,
    "editable": true
   },
   "outputs": [],
   "source": [
    "g1[['{}/{}'.format(p1, p2) for p1, p2 in symbols_pairs]].rolling(window=30).sum().describe()\n"
   ]
  },
  {
   "cell_type": "code",
   "execution_count": null,
   "metadata": {
    "deletable": true,
    "editable": true
   },
   "outputs": [],
   "source": [
    "g1[['{}/{}'.format(p1, p2) for p1, p2 in symbols_pairs]].rolling(window=60).sum().describe()"
   ]
  },
  {
   "cell_type": "code",
   "execution_count": null,
   "metadata": {
    "deletable": true,
    "editable": true
   },
   "outputs": [],
   "source": [
    "g1[[\"SY/SM\",\"SY/CN\"]].rolling(window=30).sum().plot()"
   ]
  },
  {
   "cell_type": "code",
   "execution_count": null,
   "metadata": {},
   "outputs": [],
   "source": [
    "group1[['{}/{}'.format(p1, p2) for p1, p2 in symbols_pairs]].plot()\n"
   ]
  },
  {
   "cell_type": "code",
   "execution_count": null,
   "metadata": {},
   "outputs": [],
   "source": [
    "group1[['SY/BO', 'BO/SM',]].plot()\n",
    "np.abs(group1['SY/BO'] - group1['BO/SM']).plot()\n",
    "#group1['BO'].plot()\n"
   ]
  },
  {
   "cell_type": "code",
   "execution_count": null,
   "metadata": {},
   "outputs": [],
   "source": [
    "x = g1[['SY/BO', 'BO/SM',]].rolling(window=30).sum()#.plot()\n",
    "x.plot()\n",
    "(x['SY/BO'] - x['BO/SM']).plot()"
   ]
  },
  {
   "cell_type": "code",
   "execution_count": null,
   "metadata": {},
   "outputs": [],
   "source": [
    "rtn = maturities_df[1].pct_change()\n",
    "flag = (x['SY/BO'] - x['BO/SM']) > 0.2 \n",
    "flag2 = (x['SY/BO'] - x['BO/SM']) < -0.2\n",
    "rtn['SY']-rtn['SM'] * (flag*1 + flag2*-1) "
   ]
  },
  {
   "cell_type": "code",
   "execution_count": null,
   "metadata": {
    "deletable": true,
    "editable": true
   },
   "outputs": [],
   "source": [
    "rtn = maturities_df[1].pct_change()\n",
    "flag = (group1[\"BO/SY\"] - group1[\"SM/SY\"]) < -0.15\n",
    "rtn[\"sm long bo short flag\"] = flag\n",
    "((rtn['SM'] - rtn['BO']) * rtn[\"sm long bo short flag\"] ).cumsum().plot()"
   ]
  },
  {
   "cell_type": "code",
   "execution_count": null,
   "metadata": {
    "deletable": true,
    "editable": true
   },
   "outputs": [],
   "source": [
    "((rtn['SM'] - rtn['BO']) * rtn[\"sm long bo short flag\"] ).cumsum().plot()\n",
    "(group1[\"BO/SY\"] - group1[\"SM/SY\"]).plot()"
   ]
  },
  {
   "cell_type": "code",
   "execution_count": null,
   "metadata": {
    "deletable": true,
    "editable": true
   },
   "outputs": [],
   "source": [
    "g1.rolling(window=60).sum()[[\"BO/SY\",\"SM/SY\"]].plot()\n",
    "    "
   ]
  },
  {
   "cell_type": "code",
   "execution_count": null,
   "metadata": {
    "deletable": true,
    "editable": true
   },
   "outputs": [],
   "source": [
    "from statsmodels.tsa.stattools import coint\n",
    "score, pvalue, _ = coint(x['SM'],x['SY'])\n",
    "pvalue"
   ]
  },
  {
   "cell_type": "code",
   "execution_count": null,
   "metadata": {
    "deletable": true,
    "editable": true
   },
   "outputs": [],
   "source": [
    "group1[[\"SM/SY\"]] > 1\n",
    "\n",
    "def plotSM(m_df, group):\n",
    "    x = m_df.pct_change()['SM'] - m_df.pct_change()['SY']\n",
    "    \n",
    "    (x * (group[\"SM/SY\"] > 1 )*1 + \\\n",
    "     x*-1 * (group[\"SM/SY\"] < 1 )*1).cumsum().plot()\n",
    "    \n",
    "plotSM(maturities_df[1], group1)    \n",
    "plotSM(maturities_df[2], group2)    \n",
    "plotSM(maturities_df[3], group3)    \n",
    "plotSM(maturities_df[4], group4)    \n",
    "\n",
    "group1[[ 'SM', 'SY']].plot()#\"SM/SY\","
   ]
  },
  {
   "cell_type": "code",
   "execution_count": null,
   "metadata": {
    "deletable": true,
    "editable": true
   },
   "outputs": [],
   "source": [
    "def plotBO(m_df, group):\n",
    "    (m_df.pct_change()['BO'] * (group[\"BO/SY\"] > 1 )*1 + \\\n",
    "     m_df.pct_change()['BO']*-1 * (group[\"BO/SY\"] < 1 )*1).cumsum().plot()\n",
    "\n",
    "def plotSM(m_df, group):\n",
    "    (m_df.pct_change()['SM'] * (group[\"SM/SY\"] > 1 )*1 + \\\n",
    "     m_df.pct_change()['SM']*-1 * (group[\"SM/SY\"] < 1 )*1).cumsum().plot()\n",
    "    \n",
    "\n",
    "plotBO(maturities_df[1], group1)  \n",
    "plotBO(maturities_df[2], group2)  \n",
    "plotBO(maturities_df[3], group3)  \n",
    "plotBO(maturities_df[4], group4)  \n",
    "\n",
    "# plotSM(maturities_df[1], group1)  \n",
    "# plotSM(maturities_df[2], group2)  \n",
    "# plotSM(maturities_df[3], group3)  \n",
    "# plotSM(maturities_df[4], group4)  \n",
    "\n"
   ]
  },
  {
   "cell_type": "code",
   "execution_count": null,
   "metadata": {
    "deletable": true,
    "editable": true
   },
   "outputs": [],
   "source": [
    "#group1[['BO/SY','SM/SY', ]].sum(axis=1).plot()\n",
    "def plotBO1(m_df, group):\n",
    "    x = m_df.pct_change()['BO']-m_df.pct_change()['SY']\n",
    "    (x  * (group1[['BO/SY','SM/SY']].sum(axis=1)> 2.0 )*1 + \\\n",
    "     x*-1 * (group1[['BO/SY','SM/SY']].sum(axis=1)< 2.0)*1).cumsum().plot()\n",
    "    \n",
    "plotBO1(maturities_df[1], group1)   \n",
    "\n",
    "\n"
   ]
  },
  {
   "cell_type": "code",
   "execution_count": null,
   "metadata": {
    "deletable": true,
    "editable": true
   },
   "outputs": [],
   "source": [
    "bo_sm_spread = group1_log[\"BO/SY\"] - group1_log[\"SM/SY\"]\n",
    "bo_sm_spread = bo_sm_spread.apply(np.abs)\n",
    "                          \n",
    "group1_log['bo_sm_spread'] = bo_sm_spread\n",
    "group1_log['bo_sm_spread wide'] = group1_log['bo_sm_spread'] > 0.2\n",
    "group1_log[group1_log['bo_sm_spread wide']].describe()\n",
    "\n",
    "group1_log[[\"BO/SY\",\"SM/SY\",]].plot() \n",
    "group1_log['bo_sm_spread wide'].plot()\n"
   ]
  },
  {
   "cell_type": "code",
   "execution_count": null,
   "metadata": {
    "deletable": true,
    "editable": true
   },
   "outputs": [],
   "source": [
    "x = (bo_sm_spread<0.2) & (bo_sm_spread.shift(1) > 0.2)\n",
    "group1_log[x]\n"
   ]
  },
  {
   "cell_type": "code",
   "execution_count": null,
   "metadata": {
    "deletable": true,
    "editable": true
   },
   "outputs": [],
   "source": [
    "group1_log[['BO','SM']].loc[\"2015-04-06\":].head(30).plot()"
   ]
  },
  {
   "cell_type": "code",
   "execution_count": null,
   "metadata": {
    "deletable": true,
    "editable": true
   },
   "outputs": [],
   "source": [
    "bo = (group1[\"BO\"] / group1[\"SY\"]).apply(np.log)\n",
    "sm = (group1[\"SM\"] / group1[\"SY\"]).apply(np.log) \n",
    "#bo.plot()\n",
    "#sm.plot()\n",
    "(group1[\"SM\"] - group1[\"BO\"]).plot()\n",
    "(sm-bo).plot(secondary_y=True)\n"
   ]
  },
  {
   "cell_type": "code",
   "execution_count": null,
   "metadata": {
    "deletable": true,
    "editable": true
   },
   "outputs": [],
   "source": [
    "df_test = hoge[['SY', 'SM']].replace([np.inf, -np.inf], np.nan).dropna()\n",
    "X = df_test.loc[:, ['SY']].as_matrix()\n",
    "y = df_test['SM'].as_matrix()\n",
    "\n",
    "clf.fit(X,y)\n",
    "\n",
    "# 回帰係数\n",
    "print(clf.coef_)\n",
    " \n",
    "# 切片 (誤差)\n",
    "print(clf.intercept_)\n",
    " \n",
    "# 決定係数\n",
    "print(clf.score(X, y))"
   ]
  },
  {
   "cell_type": "code",
   "execution_count": null,
   "metadata": {
    "deletable": true,
    "editable": true
   },
   "outputs": [],
   "source": [
    "import matplotlib.pyplot as plt \n",
    "plt.scatter(X,y)\n",
    "plt.plot(X, clf.predict(X))"
   ]
  },
  {
   "cell_type": "code",
   "execution_count": null,
   "metadata": {
    "deletable": true,
    "editable": true
   },
   "outputs": [],
   "source": [
    "df_test['X'] = X[:,0]\n",
    "df_test['y'] = clf.predict(X)\n",
    "df_test\n",
    "\n"
   ]
  },
  {
   "cell_type": "code",
   "execution_count": null,
   "metadata": {
    "deletable": true,
    "editable": true
   },
   "outputs": [],
   "source": [
    "df_test.describe()"
   ]
  },
  {
   "cell_type": "code",
   "execution_count": null,
   "metadata": {
    "deletable": true,
    "editable": true
   },
   "outputs": [],
   "source": []
  },
  {
   "cell_type": "code",
   "execution_count": null,
   "metadata": {
    "deletable": true,
    "editable": true
   },
   "outputs": [],
   "source": [
    "df_test"
   ]
  },
  {
   "cell_type": "code",
   "execution_count": null,
   "metadata": {
    "deletable": true,
    "editable": true
   },
   "outputs": [],
   "source": [
    "df_test['go_long'] = df_test['y'] < -1#-0.006473*1.8\n",
    "df_test['go_short'] = df_test['y'] > 0.006363*1.8\n",
    "df_test['SY-SM'] = df_test['SY'] - df_test['SM']\n",
    "\n",
    "df_test[\"go_long\"] = df_test[\"go_long\"] * 1 \n",
    "df_test[\"go_short\"] = df_test[\"go_short\"] * -1 \n",
    "df_test[\"position\"] = df_test[\"go_short\"] #+df_test[\"go_long\"] \n",
    "#df_test[\"position\"].replace(0,np.nan).fillna(method='ffill')\n"
   ]
  },
  {
   "cell_type": "code",
   "execution_count": null,
   "metadata": {
    "deletable": true,
    "editable": true
   },
   "outputs": [],
   "source": [
    "#(df_test[\"SY-SM\"] * df_test['position']).cumsum().plot()\n",
    "df_test[\"pl\"] = df_test[\"SY-SM\"] * df_test['position']\n"
   ]
  },
  {
   "cell_type": "code",
   "execution_count": null,
   "metadata": {
    "deletable": true,
    "editable": true
   },
   "outputs": [],
   "source": [
    "plt.plot(df_test['SY'].cumsum())\n",
    "plt.plot(df_test['SM'].cumsum())\n",
    "plt.plot(df_test['pl'].cumsum())"
   ]
  }
 ],
 "metadata": {
  "kernelspec": {
   "display_name": "Python 2",
   "language": "python",
   "name": "python2"
  },
  "language_info": {
   "codemirror_mode": {
    "name": "ipython",
    "version": 2
   },
   "file_extension": ".py",
   "mimetype": "text/x-python",
   "name": "python",
   "nbconvert_exporter": "python",
   "pygments_lexer": "ipython2",
   "version": "2.7.12"
  }
 },
 "nbformat": 4,
 "nbformat_minor": 2
}
