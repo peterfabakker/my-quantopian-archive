{
 "cells": [
  {
   "cell_type": "code",
   "execution_count": null,
   "metadata": {
    "deletable": true,
    "editable": true
   },
   "outputs": [],
   "source": [
    "import matplotlib.pyplot as plt\n",
    "from quantopian.research.experimental import continuous_future, history\n",
    "import pandas as pd\n",
    "import numpy as np"
   ]
  },
  {
   "cell_type": "markdown",
   "metadata": {
    "deletable": true,
    "editable": true
   },
   "source": [
    "### 5限月分の終値を取得"
   ]
  },
  {
   "cell_type": "code",
   "execution_count": null,
   "metadata": {
    "deletable": true,
    "editable": true
   },
   "outputs": [],
   "source": [
    "def get_fut_hist(symbol, start, end):\n",
    "    df = history(\n",
    "        [continuous_future(symbol, offset=i,  adjustment=None) for i in range(5)],\n",
    "        fields='price', \n",
    "        frequency='daily', \n",
    "        start=start, \n",
    "        end=end\n",
    "    )\n",
    "\n",
    "    df.columns = ['f{}'.format(i) for i in range(1, 6)]\n",
    "    return df"
   ]
  },
  {
   "cell_type": "code",
   "execution_count": null,
   "metadata": {
    "deletable": true,
    "editable": true
   },
   "outputs": [],
   "source": [
    "cl = get_fut_hist('CL', '2015-01-01', '2018-6-15')\n",
    "ho = get_fut_hist('HO', '2015-01-01', '2018-6-15')\n",
    "xb = get_fut_hist('XB', '2015-01-01', '2018-6-15')\n",
    "ng = get_fut_hist('ng', '2015-01-01', '2018-6-15')"
   ]
  },
  {
   "cell_type": "code",
   "execution_count": null,
   "metadata": {
    "deletable": true,
    "editable": true
   },
   "outputs": [],
   "source": [
    "cl.head()"
   ]
  },
  {
   "cell_type": "code",
   "execution_count": null,
   "metadata": {
    "deletable": true,
    "editable": true
   },
   "outputs": [],
   "source": [
    "my_cl = cl.copy()\n",
    "my_cl[\"remain days\"] = cl_pricing[\"remain_date\"]\n",
    "my_cl[\"contango1\"] = my_cl[\"f2\"] / my_cl[\"f1\"]\n",
    "my_cl[\"contango2\"] = my_cl[\"f3\"] / my_cl[\"f2\"]\n",
    "my_cl[\"contango3\"] = my_cl[\"f3\"] / my_cl[\"f1\"]\n"
   ]
  },
  {
   "cell_type": "code",
   "execution_count": null,
   "metadata": {
    "deletable": true,
    "editable": true
   },
   "outputs": [],
   "source": [
    "\n",
    "def get_expiration_date(contract):\n",
    "      return contract.expiration_date\n",
    "\n",
    "def insert_expiration_date(symbol, start, end ):\n",
    "    contract = history(continuous_future(symbol), fields=['contract'],frequency=\"daily\", start=start, end=end)\n",
    "    contract[\"expiration_date\"] = contract['contract'].apply(get_expiration_date)\n",
    "    contract[\"date\"] = contract.index # memo1\n",
    "    contract[\"remain_date\"] = (contract[\"expiration_date\"] - contract[\"date\"]).dt.days\n",
    "    return contract\n",
    "    \n",
    "cl_contract = insert_expiration_date('CL', '2015-01-01', '2018-6-15')\n",
    "ho_contract = insert_expiration_date('HO', '2015-01-01', '2018-6-15')\n",
    "xb_contract = insert_expiration_date('XB', '2015-01-01', '2018-6-15')\n",
    "ng_contract = insert_expiration_date('NG', '2015-01-01', '2018-6-15')\n"
   ]
  },
  {
   "cell_type": "code",
   "execution_count": null,
   "metadata": {
    "deletable": true,
    "editable": true
   },
   "outputs": [],
   "source": [
    "ng_contract.head()"
   ]
  },
  {
   "cell_type": "code",
   "execution_count": null,
   "metadata": {
    "deletable": true,
    "editable": true
   },
   "outputs": [],
   "source": [
    "my_cl[['contango1', 'contango2', ]].plot()"
   ]
  },
  {
   "cell_type": "code",
   "execution_count": null,
   "metadata": {
    "deletable": true,
    "editable": true
   },
   "outputs": [],
   "source": [
    "import numpy as np\n",
    "(my_cl['contango1'] - my_cl['contango2']).apply(np.abs).describe()"
   ]
  },
  {
   "cell_type": "code",
   "execution_count": null,
   "metadata": {
    "deletable": true,
    "editable": true
   },
   "outputs": [],
   "source": [
    "my_cl[\"spread wide\"] = ((my_cl['contango1'] - my_cl['contango2']).apply(np.abs) > 0.01) #& my_cl[\"remain days\"] > 18\n",
    "#my_cl[\"remain days\"] > 18\n",
    "my_cl[my_cl[\"spread wide\"] & (my_cl[\"remain days\"] > 18)]"
   ]
  },
  {
   "cell_type": "code",
   "execution_count": null,
   "metadata": {
    "deletable": true,
    "editable": true
   },
   "outputs": [],
   "source": [
    "x = my_cl[['f1','f2','f3']].loc[\"2015-04-23\":].head(20)\n",
    "x.plot(marker='o')\n",
    "(x['f3']-x['f1']).plot(secondary_y=True)\n",
    "\n",
    "x.iloc[-1]/x.iloc[0]-1"
   ]
  },
  {
   "cell_type": "code",
   "execution_count": null,
   "metadata": {
    "deletable": true,
    "editable": true
   },
   "outputs": [],
   "source": [
    "def plot_forward(df, rows, cols, **kwargs):\n",
    "    n = rows * cols\n",
    "    if 'figsize' in kwargs:\n",
    "        fig = plt.figure(figsize=kwargs['figsize'])\n",
    "    else:\n",
    "        fig = plt.figure()\n",
    "    if 'suptitle' in kwargs:\n",
    "        fig.suptitle(kwargs['suptitle'])\n",
    "    ax = [fig.add_subplot(rows, cols, i) for i in range(1, n + 1)]\n",
    "    for i, ax_ in enumerate(ax):\n",
    "        ax_.plot(df.iloc[-n + i].values, marker='o')\n",
    "        ax_.set_title('{:%m-%d}'.format(df.index[-n + i]))\n",
    "        ax_.axes.set_xticks([])\n",
    "        ax_.axes.set_yticks([])\n",
    "\n",
    "def plot_forward_1(df, rows, cols, df_contract, **kwargs):\n",
    "    n = rows * cols\n",
    "    if 'figsize' in kwargs:\n",
    "        fig = plt.figure(figsize=kwargs['figsize'])\n",
    "    else:\n",
    "        fig = plt.figure()\n",
    "    if 'suptitle' in kwargs:\n",
    "        fig.suptitle(kwargs['suptitle'])\n",
    "    ax = [fig.add_subplot(rows, cols, i) for i in range(1, n + 1)]\n",
    "    for i, ax_ in enumerate(ax):\n",
    "        ax_.plot(df.iloc[-n + i].values, marker='o')\n",
    "        ax_.set_title('{:%y-%m-%d} ({})'.format(df.index[-n + i], df_contract['remain_date'][-n + i] ))\n",
    "        ax_.axes.set_xticks([])\n",
    "        ax_.axes.set_yticks([])        "
   ]
  },
  {
   "cell_type": "code",
   "execution_count": null,
   "metadata": {
    "deletable": true,
    "editable": true
   },
   "outputs": [],
   "source": []
  },
  {
   "cell_type": "code",
   "execution_count": null,
   "metadata": {
    "deletable": true,
    "editable": true
   },
   "outputs": [],
   "source": [
    "plot_forward_1(cl, 30, 8, cl_contract, figsize=(14, 22), suptitle='CL')\n",
    "#plot_forward(cl, 20, 8, figsize=(14, 22), suptitle='CL')"
   ]
  },
  {
   "cell_type": "code",
   "execution_count": null,
   "metadata": {
    "deletable": true,
    "editable": true
   },
   "outputs": [],
   "source": [
    "xb.loc[\"2017-11-1\":].head()"
   ]
  },
  {
   "cell_type": "code",
   "execution_count": null,
   "metadata": {
    "deletable": true,
    "editable": true
   },
   "outputs": [],
   "source": [
    "plot_forward_1(xb.loc[\"2017-11-1\":].head(50),10, 5, ho_contract, figsize=(14, 22), suptitle='xb')\n",
    "#plot_forward(ho, 20, 8, figsize=(14, 22), suptitle='HO')"
   ]
  },
  {
   "cell_type": "code",
   "execution_count": null,
   "metadata": {
    "deletable": true,
    "editable": true
   },
   "outputs": [],
   "source": [
    "## target DEBESO\n",
    "## f2 と f4 の平均値が，f3と比べてどのくらいずれているかを調べる\n",
    "## f1,2,3でDEBESOを見つけるのが，良いように見える\n",
    "\n",
    "def debeso_checker(data, target1, target2, target3, **kwargs):\n",
    "    df = data[[target1, target2, target3]]\n",
    "    df['mean'] = (df[target1] + df[target3])/2\n",
    "    df['diff'] = (df[target2]/df['mean'])\n",
    "    df['diff'].hist(bins=100,  alpha=kwargs['alpha'], color=kwargs['color'])\n",
    "    print(df.describe())\n",
    "\n",
    "debeso_checker(cl, 'f1','f2','f3', alpha=0.7, color='blue')\n",
    "debeso_checker(cl, 'f2','f3', 'f4', alpha=0.6, color='green')\n",
    "debeso_checker(cl, 'f3', 'f4', 'f5', alpha=0.4, color='purple')"
   ]
  },
  {
   "cell_type": "code",
   "execution_count": null,
   "metadata": {
    "deletable": true,
    "editable": true
   },
   "outputs": [],
   "source": [
    "df = pd.concat([ho, ho_contract], axis=1)\n",
    "df = df[['f1', 'f2', 'f3', 'remain_date']]\n",
    "df['mean'] = (df['f1'] + df['f3'])/2\n",
    "df['diff'] = df['f2']/df['mean']\n",
    "#df['deco'] = df['diff'] > 1.0006\n",
    "df['boco'] = df['diff'] < 0.9982\n",
    "df.loc[\"2015-2-1\":]"
   ]
  },
  {
   "cell_type": "code",
   "execution_count": null,
   "metadata": {
    "deletable": true,
    "editable": true
   },
   "outputs": [],
   "source": [
    "plot_forward_1(xb, 20, 8, xb_contract, figsize=(14, 22), suptitle='XB')\n",
    "#plot_forward(xb, 20, 8, figsize=(14, 22), suptitle='XB')"
   ]
  },
  {
   "cell_type": "code",
   "execution_count": null,
   "metadata": {
    "deletable": true,
    "editable": true
   },
   "outputs": [],
   "source": [
    "plot_forward(ng, 20, 8, figsize=(14, 22), suptitle='NG')"
   ]
  },
  {
   "cell_type": "code",
   "execution_count": null,
   "metadata": {
    "deletable": true,
    "editable": true
   },
   "outputs": [],
   "source": [
    "pd.concat([xb, xb_contract[\"expiration_date\"]], axis=1)"
   ]
  },
  {
   "cell_type": "code",
   "execution_count": null,
   "metadata": {
    "deletable": true,
    "editable": true
   },
   "outputs": [],
   "source": [
    "grp = pd.concat([xb, xb_contract[\"expiration_date\"]], axis=1).groupby('expiration_date')\n",
    "dsc = grp.describe()\n",
    "dsc.loc[pd.IndexSlice[:,'std'], :].describe().loc[\"std\"].plot(kind='bar')\n",
    "dsc.loc[pd.IndexSlice[:,'std'], :].describe().loc['50%'].plot(secondary_y=True, c='red')\n",
    "#pd.concat([xb, xb_contract[\"expiration_date\"]], axis=1).describe().loc['std'].plot(kind='bar')"
   ]
  },
  {
   "cell_type": "code",
   "execution_count": null,
   "metadata": {
    "deletable": true,
    "editable": true
   },
   "outputs": [],
   "source": [
    "grp = pd.concat([ho, ho_contract[\"expiration_date\"]], axis=1).groupby('expiration_date')\n",
    "dsc = grp.describe()\n",
    "dsc.loc[pd.IndexSlice[:,'std'], :].describe().loc[\"std\"].plot(kind='bar')\n",
    "dsc.loc[pd.IndexSlice[:,'std'], :].describe().loc['50%'].plot(secondary_y=True, c='red')"
   ]
  },
  {
   "cell_type": "code",
   "execution_count": null,
   "metadata": {
    "deletable": true,
    "editable": true
   },
   "outputs": [],
   "source": [
    "grp = pd.concat([cl, cl_contract[\"expiration_date\"]], axis=1).groupby('expiration_date')\n",
    "dsc = grp.describe()\n",
    "dsc.loc[pd.IndexSlice[:,'std'], :].describe().loc[\"std\"].plot(kind='bar')\n",
    "dsc.loc[pd.IndexSlice[:,'std'], :].describe().loc['50%'].plot(secondary_y=True, c='red')\n"
   ]
  },
  {
   "cell_type": "code",
   "execution_count": null,
   "metadata": {
    "deletable": true,
    "editable": true
   },
   "outputs": [],
   "source": [
    "grp = pd.concat([ng, ng_contract[\"expiration_date\"]], axis=1).groupby('expiration_date')\n",
    "dsc = grp.describe()\n",
    "dsc.loc[pd.IndexSlice[:,'std'], :].describe().loc[\"std\"].plot(kind='bar')\n",
    "dsc.loc[pd.IndexSlice[:,'std'], :].describe().loc['std'].plot(secondary_y=True, c='red')"
   ]
  },
  {
   "cell_type": "code",
   "execution_count": null,
   "metadata": {
    "deletable": true,
    "editable": true
   },
   "outputs": [],
   "source": [
    "grp = pd.concat([cl.pct_change(), cl_contract[\"remain_date\"]], axis=1).dropna().groupby('remain_date')\n",
    "dsc = grp.describe()\n",
    "dsc.loc[pd.IndexSlice[:,'50%'], :].plot()\n",
    "dsc.loc[pd.IndexSlice[:,'count'], :].plot()"
   ]
  },
  {
   "cell_type": "code",
   "execution_count": null,
   "metadata": {
    "deletable": true,
    "editable": true
   },
   "outputs": [],
   "source": [
    "grp = pd.concat([ho.pct_change(), ho_contract[\"remain_date\"]], axis=1).groupby('remain_date')\n",
    "dsc = grp.describe()\n",
    "dsc.loc[pd.IndexSlice[:,'std'], :].plot()"
   ]
  },
  {
   "cell_type": "code",
   "execution_count": null,
   "metadata": {
    "deletable": true,
    "editable": true
   },
   "outputs": [],
   "source": [
    "grp = pd.concat([xb.pct_change(), xb_contract[\"remain_date\"]], axis=1).groupby('remain_date')\n",
    "dsc = grp.describe()\n",
    "dsc.loc[pd.IndexSlice[:,'std'], :].plot()\n",
    "dsc.loc[pd.IndexSlice[:,'count'], :].plot()"
   ]
  },
  {
   "cell_type": "code",
   "execution_count": null,
   "metadata": {
    "deletable": true,
    "editable": true
   },
   "outputs": [],
   "source": []
  },
  {
   "cell_type": "code",
   "execution_count": null,
   "metadata": {
    "deletable": true,
    "editable": true
   },
   "outputs": [],
   "source": [
    "grp = pd.concat([ng.pct_change(), ng_contract[\"remain_date\"]], axis=1).groupby('remain_date')\n",
    "dsc = grp.describe()\n",
    "dsc.loc[pd.IndexSlice[:,'std'], :].plot()"
   ]
  },
  {
   "cell_type": "code",
   "execution_count": null,
   "metadata": {
    "deletable": true,
    "editable": true
   },
   "outputs": [],
   "source": [
    "dsc.loc[pd.IndexSlice[:,'count'], :].plot()"
   ]
  },
  {
   "cell_type": "code",
   "execution_count": null,
   "metadata": {
    "deletable": true,
    "editable": true
   },
   "outputs": [],
   "source": [
    "df = xb[['f2', 'f3','f4']]\n",
    "df = df.pct_change()\n",
    "\n",
    "df['remain_date'] = xb_contract['remain_date']\n",
    "df['flag'] = (df['remain_date'] < 34) & (df['remain_date'] > 14) \n",
    "\n",
    "\n",
    "#((df['f2'] - df['f4'])*df['flag']).cumsum().plot()\n",
    "((df['f3'] - df['f4'])*df['flag']).cumsum().plot()\n",
    "((df['f3'] - df['f4'])).cumsum().plot()\n",
    "#((df['f2'] - df['f3'])*df['flag']).cumsum().plot()\n"
   ]
  },
  {
   "cell_type": "code",
   "execution_count": null,
   "metadata": {
    "deletable": true,
    "editable": true
   },
   "outputs": [],
   "source": [
    "df = xb.copy()\n",
    "df = df.divide(df['f1'], axis=0)\n",
    "\n",
    "df['remain_date'] = xb_contract['remain_date']\n",
    "s = (df['remain_date'] < 34) & (df['remain_date'] > 14) \n",
    "s * 1\n",
    "df = df.mul(s, axis=0)\n",
    "df[['f2', 'f3', 'f4', 'f5',]].apply(max, axis=1)\n",
    "df[['f2', 'f3', 'f4', 'f5',]].apply(min, axis=1)\n",
    "df == df[['f2', 'f3', 'f4', 'f5',]].apply(min, axis=1)\n",
    "# xb\n"
   ]
  },
  {
   "cell_type": "code",
   "execution_count": null,
   "metadata": {
    "deletable": true,
    "editable": true
   },
   "outputs": [],
   "source": [
    "d = {\"a\":123, \"b\":456}\n",
    "l = [{\"a\":123, \"b\":456}, {\"a\":123, \"b\":456}]\n",
    "pd.DataFrame(l,)"
   ]
  }
 ],
 "metadata": {
  "kernelspec": {
   "display_name": "Python 2",
   "language": "python",
   "name": "python2"
  },
  "language_info": {
   "codemirror_mode": {
    "name": "ipython",
    "version": 2
   },
   "file_extension": ".py",
   "mimetype": "text/x-python",
   "name": "python",
   "nbconvert_exporter": "python",
   "pygments_lexer": "ipython2",
   "version": "2.7.12"
  }
 },
 "nbformat": 4,
 "nbformat_minor": 2
}
