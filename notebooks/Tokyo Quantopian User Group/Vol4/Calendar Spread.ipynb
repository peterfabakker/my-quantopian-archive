{
 "cells": [
  {
   "cell_type": "code",
   "execution_count": null,
   "metadata": {},
   "outputs": [],
   "source": [
    "from quantopian.research.experimental import continuous_future, history\n",
    "import numpy as np\n",
    "import matplotlib.pyplot as plt\n",
    "\n",
    "\n",
    "months = list(\"FGHJKMNQUVXZ\")\n",
    "dict_month = dict(zip(range( 1,13), months))\n",
    "\n",
    "f = 'CN'\n",
    "f1 = continuous_future(f,  adjustment=None)\n",
    "f2 = continuous_future(f, offset=1,  adjustment=None)\n",
    "f3 = continuous_future(f, offset=2,  adjustment=None)\n",
    "f4 = continuous_future(f, offset=3,  adjustment=None)\n",
    "f5 = continuous_future(f, offset=4,  adjustment=None)\n",
    "\n",
    "start = \"2015-1-1\"\n",
    "end=\"2018-5-1\"\n",
    "\n",
    "df = history(\n",
    " [f1, f2, f3, f4, f5],\n",
    " fields='price', \n",
    " frequency='daily', \n",
    " start=start, \n",
    " end=end\n",
    ")\n",
    "df.columns = map(lambda x: \"future_{}\".format(x.offset+1), df.columns)\n",
    "\n",
    "df_return = df.pct_change()\n"
   ]
  },
  {
   "cell_type": "code",
   "execution_count": null,
   "metadata": {},
   "outputs": [],
   "source": [
    "# 期近との差\n",
    "a = df.div(df[\"future_1\"],  axis=0)-1\n",
    "# お隣限月とのdiff\n",
    "b = df.pct_change(axis=1)"
   ]
  },
  {
   "cell_type": "code",
   "execution_count": null,
   "metadata": {},
   "outputs": [],
   "source": [
    "b.head()"
   ]
  },
  {
   "cell_type": "code",
   "execution_count": null,
   "metadata": {},
   "outputs": [],
   "source": [
    "df_return[\"future_3_sign\"] =  np.sign(b[\"future_3\"])\n",
    "df_return[\"future_5_sign\"] =  np.sign(b[\"future_5\"])\n",
    "df_return[\"position_flag\"] =  df_return[\"future_3_sign\"] != df_return[\"future_5_sign\"]\n",
    "df_return[\"trade_pl\"] = (df_return[\"future_3\"] * df_return[\"future_3_sign\"] -  df_return[\"future_5\"] * df_return[\"future_5_sign\"]) * df_return[\"position_flag\"] * -1\n",
    "df_return[\"trade_pl\"].cumsum().plot()"
   ]
  },
  {
   "cell_type": "code",
   "execution_count": null,
   "metadata": {},
   "outputs": [],
   "source": [
    "df_return"
   ]
  },
  {
   "cell_type": "code",
   "execution_count": null,
   "metadata": {},
   "outputs": [],
   "source": [
    "plt.scatter(a,b,color=['yellowgreen','cyan','magenta','green','blue'])\n"
   ]
  },
  {
   "cell_type": "code",
   "execution_count": null,
   "metadata": {},
   "outputs": [],
   "source": [
    "#df_return = df_return.dropna()"
   ]
  },
  {
   "cell_type": "code",
   "execution_count": null,
   "metadata": {},
   "outputs": [],
   "source": []
  },
  {
   "cell_type": "code",
   "execution_count": null,
   "metadata": {},
   "outputs": [],
   "source": []
  },
  {
   "cell_type": "code",
   "execution_count": null,
   "metadata": {},
   "outputs": [],
   "source": []
  }
 ],
 "metadata": {
  "kernelspec": {
   "display_name": "Python 2",
   "language": "python",
   "name": "python2"
  },
  "language_info": {
   "codemirror_mode": {
    "name": "ipython",
    "version": 2
   },
   "file_extension": ".py",
   "mimetype": "text/x-python",
   "name": "python",
   "nbconvert_exporter": "python",
   "pygments_lexer": "ipython2",
   "version": "2.7.12"
  }
 },
 "nbformat": 4,
 "nbformat_minor": 2
}
