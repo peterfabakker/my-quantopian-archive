{
 "cells": [
  {
   "cell_type": "code",
   "execution_count": null,
   "metadata": {
    "deletable": true,
    "editable": true
   },
   "outputs": [],
   "source": [
    "import matplotlib.pyplot as plt\n",
    "from quantopian.research.experimental import continuous_future, history\n",
    "import pandas as pd\n",
    "import numpy as np\n"
   ]
  },
  {
   "cell_type": "code",
   "execution_count": null,
   "metadata": {
    "deletable": true,
    "editable": true
   },
   "outputs": [],
   "source": [
    "def get_fut_hist(symbol, start, end):\n",
    "    df = history(\n",
    "        [continuous_future(symbol, offset=i,  adjustment=None) for i in range(5)],\n",
    "        fields=['price', 'contract'],\n",
    "        frequency='daily', \n",
    "        start=start, \n",
    "        end=end\n",
    "    )\n",
    "\n",
    "    df.columns = ['f{}'.format(i) for i in range(1, 6)]\n",
    "    return df\n",
    "\n"
   ]
  },
  {
   "cell_type": "code",
   "execution_count": null,
   "metadata": {
    "deletable": true,
    "editable": true
   },
   "outputs": [],
   "source": [
    "ho = get_fut_hist('CL', '2011-01-01', '2018-6-15')\n"
   ]
  },
  {
   "cell_type": "code",
   "execution_count": null,
   "metadata": {},
   "outputs": [],
   "source": [
    "contract = ho.contract\n",
    "price = ho.price\n",
    "contract.columns = contract.columns.map(lambda x: \"f{}\".format(x.offset))\n",
    "price.columns = price.columns.map(lambda x: \"f{}\".format(x.offset))\n"
   ]
  },
  {
   "cell_type": "code",
   "execution_count": null,
   "metadata": {},
   "outputs": [],
   "source": [
    "expdate = contract.applymap(lambda x:x.expiration_date)\n",
    "expdate['today'] = expdate.index\n",
    "remain_date =pd.concat([(expdate[c] - expdate['today']).dt.days for c in expdate.columns], axis=1)\n"
   ]
  },
  {
   "cell_type": "code",
   "execution_count": null,
   "metadata": {},
   "outputs": [],
   "source": [
    "curve = pd.concat([price[c] / price[price.columns[0]] for c in price.columns], axis=1)\n",
    "curve.columns = price.columns\n",
    "curve"
   ]
  },
  {
   "cell_type": "code",
   "execution_count": null,
   "metadata": {
    "deletable": true,
    "editable": true
   },
   "outputs": [],
   "source": [
    "remain_date_ratio = remain_date['f0'] / (remain_date['f1'] - remain_date['f0'] )\n"
   ]
  },
  {
   "cell_type": "code",
   "execution_count": null,
   "metadata": {},
   "outputs": [],
   "source": [
    "price['interporate f0'] = (price['f0'] * remain_date_ratio + price['f1'] * (1-remain_date_ratio))\n",
    "price['interporate f1'] = (price['f1'] * remain_date_ratio + price['f2'] * (1-remain_date_ratio))\n",
    "price['interporate f2'] = (price['f2'] * remain_date_ratio + price['f3'] * (1-remain_date_ratio))\n",
    "price['interporate f3'] = (price['f3'] * remain_date_ratio + price['f4'] * (1-remain_date_ratio))\n"
   ]
  },
  {
   "cell_type": "code",
   "execution_count": null,
   "metadata": {},
   "outputs": [],
   "source": [
    "(price['f1'] - price['interporate f1']).plot()\n",
    "(price['f2'] - price['interporate f2']).plot()\n",
    "(price['f3'] - price['interporate f3']).plot()\n",
    "price['f3'].plot(secondary_y=True)\n",
    "# price['interporate f3'].plot(secondary_y=True)\n",
    "\n"
   ]
  }
 ],
 "metadata": {
  "kernelspec": {
   "display_name": "Python 2",
   "language": "python",
   "name": "python2"
  },
  "language_info": {
   "codemirror_mode": {
    "name": "ipython",
    "version": 2
   },
   "file_extension": ".py",
   "mimetype": "text/x-python",
   "name": "python",
   "nbconvert_exporter": "python",
   "pygments_lexer": "ipython2",
   "version": "2.7.12"
  }
 },
 "nbformat": 4,
 "nbformat_minor": 2
}
