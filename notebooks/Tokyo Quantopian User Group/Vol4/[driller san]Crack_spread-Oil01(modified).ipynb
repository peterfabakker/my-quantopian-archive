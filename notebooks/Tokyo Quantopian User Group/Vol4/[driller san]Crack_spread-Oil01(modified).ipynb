{
 "cells": [
  {
   "cell_type": "code",
   "execution_count": null,
   "metadata": {
    "deletable": true,
    "editable": true
   },
   "outputs": [],
   "source": [
    "import itertools\n",
    "import pandas as pd\n",
    "import matplotlib.pyplot as plt\n",
    "from quantopian.research.experimental import continuous_future, history"
   ]
  },
  {
   "cell_type": "code",
   "execution_count": null,
   "metadata": {
    "deletable": true,
    "editable": true
   },
   "outputs": [],
   "source": [
    "def get_hist(symbol, start, end, num_of_maturities):\n",
    "        df = history(\n",
    "            [continuous_future(symbol,\n",
    "                               offset=i,\n",
    "                               adjustment=None) for i in range(num_of_maturities)],\n",
    "            fields='price', \n",
    "            frequency='daily', \n",
    "            start=start, \n",
    "            end=end\n",
    "        )\n",
    "        return df\n",
    "\n",
    "def get_remain_days(symbols, start, end,):\n",
    "    df = history( [continuous_future(symbol, offset=0) for symbol in symbols],\n",
    "                 fields='contract',\n",
    "                  frequency='daily', \n",
    "                 start=start,\n",
    "                 end=end)\n",
    "    return df\n",
    "    \n",
    "    "
   ]
  },
  {
   "cell_type": "code",
   "execution_count": null,
   "metadata": {
    "deletable": true,
    "editable": true
   },
   "outputs": [],
   "source": [
    "symbols = ['CL', 'HO', 'XB', 'NG']\n",
    "symbols_pairs = list(itertools.combinations(symbols, 2))\n",
    "start = '2015-01-01'\n",
    "end = '2018-05-31'\n"
   ]
  },
  {
   "cell_type": "code",
   "execution_count": null,
   "metadata": {
    "deletable": true,
    "editable": true
   },
   "outputs": [],
   "source": [
    "hist_df = [get_hist(symbol,\n",
    "                    start, end, 5) for symbol in symbols]"
   ]
  },
  {
   "cell_type": "code",
   "execution_count": null,
   "metadata": {
    "deletable": true,
    "editable": true
   },
   "outputs": [],
   "source": [
    "maturities_df = [pd.concat(\n",
    "    [df.iloc[:, i] for df in hist_df], axis=1)\n",
    "                 for i, x in enumerate(hist_df[0].columns)]"
   ]
  },
  {
   "cell_type": "code",
   "execution_count": null,
   "metadata": {
    "deletable": true,
    "editable": true
   },
   "outputs": [],
   "source": [
    "for df in maturities_df:\n",
    "    df.columns = symbols"
   ]
  },
  {
   "cell_type": "code",
   "execution_count": null,
   "metadata": {
    "deletable": true,
    "editable": true
   },
   "outputs": [],
   "source": [
    "df_contracts = get_remain_days(symbols, start, end)\n",
    "df_contracts.columns = symbols\n",
    "df_expiration_date =  df_contracts.applymap(lambda x: x.expiration_date)"
   ]
  },
  {
   "cell_type": "code",
   "execution_count": null,
   "metadata": {
    "deletable": true,
    "editable": true
   },
   "outputs": [],
   "source": [
    "# XB と HO の残存期間がなぜかあわない日\n",
    "# suspicious = (df_expiration_date[\"XB\"] - df_expiration_date[\"HO\"]).astype(int) != 0\n",
    "#df_expiration_date[suspicious]\n",
    "\n",
    "df_expiration_date[\"today\"]  = df_expiration_date.index\n",
    "df_remain_days = pd.DataFrame({'CL':(df_expiration_date[\"CL\"] - df_expiration_date[\"today\"]).apply(lambda x:x.days),\n",
    "              'XB':(df_expiration_date[\"XB\"] - df_expiration_date[\"today\"]).apply(lambda x:x.days),\n",
    "              'HO':(df_expiration_date[\"HO\"] - df_expiration_date[\"today\"]).apply(lambda x:x.days),\n",
    "              'NG':(df_expiration_date[\"NG\"] - df_expiration_date[\"today\"]).apply(lambda x:x.days),})\n",
    "\n"
   ]
  },
  {
   "cell_type": "code",
   "execution_count": null,
   "metadata": {
    "deletable": true,
    "editable": true
   },
   "outputs": [],
   "source": [
    "def plot_ratio(maturity):\n",
    "    fig = plt.figure(figsize=(14, 14))\n",
    "    fig.suptitle('offset:{}'.format(maturity))\n",
    "    ax = [fig.add_subplot(len(symbols_pairs) + 1, 1, i) for i in range(1, len(symbols_pairs) + 1)]\n",
    "    for i, symbol in enumerate(symbols_pairs):\n",
    "        ax[i].plot(maturities_df[maturity][list(symbol)].apply(lambda x: x[0] / x[1], axis=1))\n",
    "        ax[i].set_title('{}/{}'.format(*symbol))"
   ]
  },
  {
   "cell_type": "code",
   "execution_count": null,
   "metadata": {
    "deletable": true,
    "editable": true
   },
   "outputs": [],
   "source": [
    "def plot_ratio_by_symbols(maturities_df, symbol1, symbol2):\n",
    "    fig = plt.figure()\n",
    "    fig.suptitle('symbols:{}/{}'.format(symbol1, symbol2))\n",
    "    ax = [fig.add_subplot(len(maturities_df) + 1, 1, i) for i in range(1,len(maturities_df)+ 1)]\n",
    "    for i in range(5):\n",
    "        ax[i].plot(maturities_df[i][symbol1] / maturities_df[i][symbol2], label=i)\n",
    "        ax[i].legend()\n",
    "\n",
    "def plot_ratio_by_symbols_with_remain_date(maturities_df, symbol1, symbol2, df_remain_days):\n",
    "    fig = plt.figure()\n",
    "    fig.suptitle('symbols:{}/{}'.format(symbol1, symbol2))\n",
    "    ax = [fig.add_subplot(len(maturities_df) + 1, 1, i) for i in range(1,len(maturities_df)+ 1)]\n",
    "    for i in range(len(maturities_df)):\n",
    "        ax[i].plot(maturities_df[i][symbol1] / maturities_df[i][symbol2], label=i)\n",
    "        ax2 = ax[i].twinx()\n",
    "        ax2.plot(df_remain_days[[symbol1, symbol2]])\n",
    "        ax[i].legend()\n",
    "        "
   ]
  },
  {
   "cell_type": "code",
   "execution_count": null,
   "metadata": {
    "deletable": true,
    "editable": true
   },
   "outputs": [],
   "source": [
    "plot_ratio_by_symbols_with_remain_date(maturities_df, \"HO\", \"XB\", df_remain_days)\n",
    "plot_ratio_by_symbols(maturities_df, \"HO\", \"XB\")\n"
   ]
  },
  {
   "cell_type": "code",
   "execution_count": null,
   "metadata": {
    "deletable": true,
    "editable": true
   },
   "outputs": [],
   "source": [
    "plot_ratio(1)"
   ]
  },
  {
   "cell_type": "code",
   "execution_count": null,
   "metadata": {
    "deletable": true,
    "editable": true
   },
   "outputs": [],
   "source": [
    "plot_ratio(2)"
   ]
  },
  {
   "cell_type": "code",
   "execution_count": null,
   "metadata": {
    "deletable": true,
    "editable": true
   },
   "outputs": [],
   "source": [
    "plot_ratio(3)"
   ]
  },
  {
   "cell_type": "code",
   "execution_count": null,
   "metadata": {
    "deletable": true,
    "editable": true
   },
   "outputs": [],
   "source": [
    "plot_ratio(4)"
   ]
  },
  {
   "cell_type": "code",
   "execution_count": null,
   "metadata": {
    "deletable": true,
    "editable": true
   },
   "outputs": [],
   "source": [
    "ho_xb_5 = maturities_df[4][['HO', 'XB']]\n",
    "ho_xb_5_ratio = ho_xb_5['HO'] / ho_xb_5['XB']\n",
    "ho_xb_5_ratio.describe()"
   ]
  },
  {
   "cell_type": "code",
   "execution_count": null,
   "metadata": {
    "deletable": true,
    "editable": true
   },
   "outputs": [],
   "source": [
    "fig = plt.figure()\n",
    "ax1 = fig.add_subplot(2, 1, 1)\n",
    "ax2 = fig.add_subplot(2, 1, 2, sharey=ax1)\n",
    "ax1.plot(ho_xb_5)\n",
    "ax2.plot(ho_xb_5_ratio)"
   ]
  },
  {
   "cell_type": "code",
   "execution_count": null,
   "metadata": {
    "deletable": true,
    "editable": true
   },
   "outputs": [],
   "source": [
    "ho_xb_5_ratio.hist(bins=100)"
   ]
  },
  {
   "cell_type": "code",
   "execution_count": null,
   "metadata": {
    "deletable": true,
    "editable": true
   },
   "outputs": [],
   "source": [
    "returns = ho_xb_5_ratio.pct_change(10).shift(-10)\n",
    "short_returns = ((returns[ho_xb_5_ratio > 1 + ho_xb_5_ratio.std()]) * -1).cumsum()\n",
    "short_returns.plot()"
   ]
  },
  {
   "cell_type": "code",
   "execution_count": null,
   "metadata": {
    "deletable": true,
    "editable": true
   },
   "outputs": [],
   "source": [
    "returns[ho_xb_5_ratio > (1 + ho_xb_5_ratio.std())]\n",
    "1 + ho_xb_5_ratio.std()"
   ]
  }
 ],
 "metadata": {
  "kernelspec": {
   "display_name": "Python 2",
   "language": "python",
   "name": "python2"
  },
  "language_info": {
   "codemirror_mode": {
    "name": "ipython",
    "version": 2
   },
   "file_extension": ".py",
   "mimetype": "text/x-python",
   "name": "python",
   "nbconvert_exporter": "python",
   "pygments_lexer": "ipython2",
   "version": "2.7.12"
  }
 },
 "nbformat": 4,
 "nbformat_minor": 2
}
