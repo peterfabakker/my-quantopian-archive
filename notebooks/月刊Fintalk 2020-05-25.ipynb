{
 "cells": [
  {
   "cell_type": "markdown",
   "metadata": {},
   "source": [
    "[史上最強の投資家 バフェットの財務諸表を読む力 大不況でも投資で勝ち抜く58のルール | メアリー・バフェット, デビッド・クラーク, 峯村利哉 |本 | 通販 | Amazon](https://www.amazon.co.jp/dp/4198627053)に書いてある事をコーディングしてみる\n"
   ]
  },
  {
   "cell_type": "code",
   "execution_count": null,
   "metadata": {},
   "outputs": [],
   "source": [
    "from quantopian.pipeline import Pipeline\n",
    "from quantopian.research import run_pipeline\n",
    "\n",
    "# filtering\n",
    "from quantopian.pipeline.filters import QTradableStocksUS\n",
    "\n",
    "# data\n",
    "from quantopian.pipeline.data import USEquityPricing\n",
    "\n",
    "\n",
    "def make_pipeline():\n",
    "    \n",
    "    base_universe = QTradableStocksUS()\n",
    "    close_price = USEquityPricing.close.latest\n",
    "    \n",
    "    return Pipeline(\n",
    "        columns = {\n",
    "            'close_price': close_price,\n",
    "        },\n",
    "        \n",
    "        screen=base_universe\n",
    "    )\n",
    " \n",
    "    \n",
    "pipeline_output = run_pipeline(\n",
    "    make_pipeline(),\n",
    "    start_date='2010-11-30',\n",
    "    end_date='2020-4-25'\n",
    ")\n",
    "\n",
    "pipeline_output.tail(10)\n"
   ]
  },
  {
   "cell_type": "markdown",
   "metadata": {},
   "source": [
    "+ https://www.quantopian.com/docs/data-reference/morningstar_fundamentals#total-revenue\n",
    "+ https://www.quantopian.com/docs/data-reference/morningstar_fundamentals#cost-of-revenue\n",
    "    + Cost of Revenue = Revenue – Operating Expenses – Operating Profit.\n",
    "+ https://www.quantopian.com/docs/data-reference/morningstar_fundamentals#gross-margin\n",
    "    +  (Revenue – Cost of Goods Sold) / Revenue\n",
    "    + 粗利益率\n",
    "+ https://www.quantopian.com/docs/data-reference/morningstar_fundamentals#operating-expense\n",
    "+ https://www.quantopian.com/docs/data-reference/morningstar_fundamentals#administrative-expense\n"
   ]
  },
  {
   "cell_type": "code",
   "execution_count": null,
   "metadata": {},
   "outputs": [],
   "source": [
    "from quantopian.pipeline import Pipeline\n",
    "from quantopian.research import run_pipeline\n",
    "\n",
    "# filtering\n",
    "from quantopian.pipeline.filters import QTradableStocksUS\n",
    "from quantopian.pipeline.filters import  StaticAssets\n",
    "\n",
    "\n",
    "# data\n",
    "from quantopian.pipeline.data import USEquityPricing\n",
    "\n",
    "# morningstar data\n",
    "from quantopian.pipeline.data.morningstar import Fundamentals\n",
    "\n",
    "\n",
    "def make_pipeline():\n",
    "    \n",
    "    base_universe = QTradableStocksUS()\n",
    "    base_universe = StaticAssets(symbols([\"DAL\",\"LUV\", \"AAL\", \"UAL\", \"KO\"]))\n",
    "    \n",
    "    close_price = USEquityPricing.close.latest\n",
    "    \n",
    "    total_revenue = Fundamentals.total_revenue.latest\n",
    "    gross_margin = Fundamentals.gross_margin.latest\n",
    "    cost_of_revenue = Fundamentals.cost_of_revenue.latest\n",
    "    \n",
    "    operating_income = Fundamentals.operating_income.latest\n",
    "    administrative_expense = Fundamentals.administrative_expense.latest\n",
    "    \n",
    "    return Pipeline(\n",
    "        columns = {\n",
    "            'close_price': close_price,\n",
    "            'total_revenue':total_revenue,\n",
    "            'gross_margin':gross_margin,\n",
    "            'cost_of_revenue':cost_of_revenue, \n",
    "            'operating_income':operating_income,\n",
    "            'administrative_expense':administrative_expense,\n",
    "        },\n",
    "        \n",
    "        screen=base_universe\n",
    "    )\n",
    " \n",
    "    \n",
    "pipeline_output = run_pipeline(\n",
    "    make_pipeline(),\n",
    "    start_date='2010-1-1',\n",
    "    end_date='2020-5-1'\n",
    ")\n",
    "\n",
    "pipeline_output.tail(10)\n",
    "\n"
   ]
  },
  {
   "cell_type": "code",
   "execution_count": null,
   "metadata": {},
   "outputs": [],
   "source": [
    "clmns = pipeline_output[\"gross_margin\"].unstack().columns\n",
    "asset_name = dict([(s, s.asset_name) for s in clmns])"
   ]
  },
  {
   "cell_type": "code",
   "execution_count": null,
   "metadata": {},
   "outputs": [],
   "source": [
    "# KO がいかに一定した利益率を保っているのかよく分かる\n",
    "pipeline_output[\"gross_margin\"].unstack().rename(columns = asset_name).plot()"
   ]
  },
  {
   "cell_type": "code",
   "execution_count": null,
   "metadata": {},
   "outputs": [],
   "source": [
    "# DAL 2016年どした？\n",
    "pipeline_output[\"operating_income\"].unstack().rename(columns = asset_name).plot()\n"
   ]
  },
  {
   "cell_type": "code",
   "execution_count": null,
   "metadata": {},
   "outputs": [],
   "source": [
    "pipeline_output[\"administrative_expense\"].unstack().rename(columns = asset_name).plot()"
   ]
  }
 ],
 "metadata": {
  "kernelspec": {
   "display_name": "Python 3.5",
   "language": "python",
   "name": "py35"
  },
  "language_info": {
   "codemirror_mode": {
    "name": "ipython",
    "version": 3
   },
   "file_extension": ".py",
   "mimetype": "text/x-python",
   "name": "python",
   "nbconvert_exporter": "python",
   "pygments_lexer": "ipython3",
   "version": "3.5.9"
  }
 },
 "nbformat": 4,
 "nbformat_minor": 2
}
