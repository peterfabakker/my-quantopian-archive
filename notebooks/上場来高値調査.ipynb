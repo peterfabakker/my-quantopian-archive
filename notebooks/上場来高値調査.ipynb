{
 "cells": [
  {
   "cell_type": "code",
   "execution_count": null,
   "metadata": {},
   "outputs": [],
   "source": [
    "import numpy as np\n",
    "\n",
    "# Import Pipeline class and datasets\n",
    "from quantopian.pipeline import Pipeline\n",
    "from quantopian.pipeline.data import USEquityPricing\n",
    "from quantopian.pipeline.data.psychsignal import stocktwits\n",
    "from quantopian.pipeline.data.morningstar import Fundamentals\n",
    "from quantopian.pipeline.data.factset import Fundamentals as factst_funda\n",
    "from quantopian.pipeline.filters import Q500US, StaticSids, StaticAssets\n",
    "\n",
    "# Import built-in trading universe\n",
    "from quantopian.pipeline.filters import QTradableStocksUS\n",
    "\n",
    "\n",
    "def make_pipeline():\n",
    "    # Create a reference to our trading universe\n",
    "    base_universe = QTradableStocksUS()\n",
    "\n",
    "    # Get latest closing price\n",
    "    close_price = USEquityPricing.close.latest\n",
    "    myassets = StaticAssets(symbols(['AAPL', 'FB', 'MSFT', 'AMZN', 'GOOG', 'KO', 'MRNA']))\n",
    "    \n",
    "    \n",
    "    # Return Pipeline containing close_price and\n",
    "    # sentiment_score that has our trading universe as screen\n",
    "    return Pipeline(\n",
    "        columns={\n",
    "            \n",
    "            'close_price': close_price,\n",
    "        },\n",
    "        screen=base_universe#myassets\n",
    "    )\n",
    "\n",
    "# Import run_pipeline method\n",
    "from quantopian.research import run_pipeline\n",
    "\n",
    "# Execute pipeline created by make_pipeline\n",
    "# between start_date and end_date\n",
    "pipeline_output = run_pipeline(\n",
    "    make_pipeline(),\n",
    "    start_date='2019-01-01',\n",
    "    end_date='2020-04-16'\n",
    ")\n",
    "\n",
    "# Display last 10 rows\n",
    "pipeline_output.tail(10)"
   ]
  },
  {
   "cell_type": "code",
   "execution_count": null,
   "metadata": {},
   "outputs": [],
   "source": [
    "pipeline_output.unstack()[\"close_price\"].max()"
   ]
  },
  {
   "cell_type": "code",
   "execution_count": null,
   "metadata": {},
   "outputs": [],
   "source": [
    "price_highest_recently = pipeline_output.unstack()[\"close_price\"].tail(20) == pipeline_output.unstack()[\"close_price\"].max()\n",
    "price_highest_recently = price_highest_recently.where(price_highest_recently==True).dropna(how = 'all', axis=1)\n"
   ]
  },
  {
   "cell_type": "code",
   "execution_count": null,
   "metadata": {},
   "outputs": [],
   "source": [
    "clmns = price_highest_recently.columns\n",
    "clmns"
   ]
  },
  {
   "cell_type": "code",
   "execution_count": null,
   "metadata": {},
   "outputs": [],
   "source": [
    "import numpy as np\n",
    "\n",
    "# Import Pipeline class and datasets\n",
    "from quantopian.pipeline import Pipeline\n",
    "from quantopian.pipeline.data import USEquityPricing\n",
    "from quantopian.pipeline.data.psychsignal import stocktwits\n",
    "from quantopian.pipeline.data.morningstar import Fundamentals\n",
    "from quantopian.pipeline.data.factset import Fundamentals as factst_funda\n",
    "from quantopian.pipeline.filters import Q500US, StaticSids, StaticAssets\n",
    "\n",
    "# Import built-in trading universe\n",
    "from quantopian.pipeline.filters import QTradableStocksUS\n",
    "\n",
    "\n",
    "def make_pipeline():\n",
    "    # Create a reference to our trading universe\n",
    "    base_universe = QTradableStocksUS()\n",
    "\n",
    "    # Get latest closing price\n",
    "    close_price = USEquityPricing.close.latest\n",
    "    morningstar_sector_code = Fundamentals.morningstar_sector_code.latest\n",
    "    morningstar_industry_group_code = Fundamentals.morningstar_industry_group_code.latest\n",
    "    \n",
    "    \n",
    "    # Return Pipeline containing close_price and\n",
    "    # sentiment_score that has our trading universe as screen\n",
    "    return Pipeline(\n",
    "        columns={\n",
    "            'morningstar_sector_code':morningstar_sector_code, \n",
    "            'morningstar_industry_group_code':morningstar_industry_group_code, \n",
    "            'close_price': close_price,\n",
    "        },\n",
    "        screen= StaticAssets(symbols(clmns.map(lambda x: x.symbol).tolist()))\n",
    "    )\n",
    "\n",
    "# Import run_pipeline method\n",
    "from quantopian.research import run_pipeline\n",
    "\n",
    "# Execute pipeline created by make_pipeline\n",
    "# between start_date and end_date\n",
    "pipeline_output = run_pipeline(\n",
    "    make_pipeline(),\n",
    "    start_date='2019-01-01',\n",
    "    end_date='2020-04-16'\n",
    ")\n",
    "\n",
    "# Display last 10 rows\n",
    "pipeline_output.tail(10)"
   ]
  },
  {
   "cell_type": "code",
   "execution_count": null,
   "metadata": {},
   "outputs": [],
   "source": [
    "pipeline_output.loc[\"2020-04-16\"].groupby(by=\"morningstar_sector_code\").count()\n"
   ]
  },
  {
   "cell_type": "code",
   "execution_count": null,
   "metadata": {},
   "outputs": [],
   "source": [
    "pipeline_output[pipeline_output[\"morningstar_sector_code\"]==206][\"close_price\"].unstack().describe().T.sort_values(by=\"max\")"
   ]
  },
  {
   "cell_type": "markdown",
   "metadata": {},
   "source": [
    "\n",
    "+ ~~[NVAX](https://finance.yahoo.com/quote/NVAX/profile?p=NVAX)~~ ❌：Max観ると、ボラも高いし、今は最安値付近だから。最高値は233ドル\n",
    "    + 重篤な感染症を予防するためのワクチンの発見、開発、商業化に注力しています。主力のワクチン候補としては、リン酸アルミニウムをアジュバントとする呼吸器合胞体ウイルス（RSV）融合（F）タンパク質組換えナノ粒子ワクチン「ResVax」が第III相臨床試験中であり、母体への予防接種によりRSV感染症から乳幼児を保護することを目的\n",
    "    + [30-Apr-2020 - 8-May-2020](https://marketchameleon.com/Overview/NVAX/Earnings/Earnings-Dates)\n",
    "+ [LMNX](https://finance.yahoo.com/quote/LMNX/profile?p=LMNX)\n",
    "    + 生物学的検査技術と製品を開発・製造・販売    \n",
    "    + [4-May-2020 - 6-May-2020](https://marketchameleon.com/Overview/LMNX/Earnings/Earnings-Dates)\n",
    "+ 💰[PETS](https://finance.yahoo.com/quote/PETS/profile?p=PETS)\n",
    "    + 米国でペット薬局を運営しています。同社は、処方箋薬と非処方箋薬、その他の犬や猫のための健康製品を消費者に直接販売\n",
    "    + [4-May-2020 - 6-May-2020](https://marketchameleon.com/Overview/PETS/Earnings/Earnings-Dates)\n",
    "+ [MRNA](https://finance.yahoo.com/quote/MRNA/profile?p=MRNA)\n",
    "    + 感染症、免疫腫瘍、希少疾患、自己免疫疾患および循環器疾患の治療を目的としたメッセンジャーRNAをベースとした治療薬およびワクチンの開発を行っている臨床段階のバイオテクノロジー企業で、2020年2月14日現在、12の臨床試験プログラムを有し、予防ワクチン、がんワクチン、体腔内免疫腫瘍、希少疾患、自己免疫疾患および循環器疾患の6つの領域で合計24の開発候補\n",
    "    + [20-May-2020 - 29-May-2020](https://marketchameleon.com/Overview/MRNA/Earnings/Earnings-Dates)\n",
    "+ [AMN](https://finance.yahoo.com/quote/AMN/profile?p=AMN)\n",
    "    + 直近❌\n",
    "    + 医療施設にヘルスケア・ワークフォース・ソリューションと人材派遣サービスを提供    \n",
    "+ [QDEL 109.83 8.13 7.99% : Quidel Corporation - Yahoo Finance](https://finance.yahoo.com/quote/QDEL/profile?p=QDEL)\n",
    "    + 呼吸器系、ヘルペス系を含む様々なヒトウイルスの培養・検査を行う研究室で使用される従来の細胞株、検体採取装置、培地、コントロール、チューブ、シェルバイアル、マルチウェルプレートからなる細胞ベースの製品を提供\n",
    "+ [XLRN](https://finance.yahoo.com/quote/XLRN?p=XLRN&.tsrc=fin-srch)\n",
    "    + 骨髄異形成症候群、β-タラセミア、骨髄線維症を対象とした第III相臨床試験を完了したラスパテルセプト、輸血依存性β-タラセミアを対象とした第II相臨床試験\n",
    "    + [11-May-2020 - 13-May-2020](https://marketchameleon.com/Overview/FTSV/Earnings/Earnings-Dates)\n",
    "    \n",
    "\n",
    "### じっちゃまの脈あり薬\n",
    "\n",
    "![](https://pbs.twimg.com/media/EV4eJbdXQAE5jBH?format=png)\n",
    "    \n",
    "    \n",
    "     \n",
    "\n",
    "\n",
    "\n"
   ]
  },
  {
   "cell_type": "code",
   "execution_count": null,
   "metadata": {},
   "outputs": [],
   "source": [
    "pipeline_output[pipeline_output[\"morningstar_sector_code\"]==311][\"close_price\"].unstack().describe().T.sort_values(by=\"max\")"
   ]
  },
  {
   "cell_type": "markdown",
   "metadata": {},
   "source": [
    "## Tech \n",
    "\n",
    "+ ⭐：Longポジション　💙：コールオプションの買い　❓：再考　❌：買わない\n",
    "\n",
    "+ ⭐[EGOV](https://finance.yahoo.com/quote/EGOV/profile?p=EGOV)\n",
    "    + 米国内の企業や市民に様々なサービスを提供することを可能にするデジタル・ガバメント・サービスを提供\n",
    "    + [27-Apr-2020](https://marketchameleon.com/Overview/EGOV/Earnings/Earnings-Dates)\n",
    "    + 現在24ドル、2000年2月の52ドルが最高値、そのあとの高値は今。\n",
    "    + degital gov と言っているがやってることのほとんどは、コロラドとテキサス向けに、自動車ライセンス関連の政府事業\n",
    "+ ❓[CIEN](https://finance.yahoo.com/quote/CIEN?p=CIEN&.tsrc=fin-srch)\n",
    "    + 現在、４４ドル。２０００年９月に８００ドルだった。その他とはだいたい４０ドル\n",
    "    + ビデオ、データ、音声トラフィックのトランスポート、スイッチング、アグリゲーション、サービスデリバリ、管理をサポートするネットワークハードウェア、ソフトウェア、サービスを提供しています。同社のネットワーキング・プラットフォーム・セグメントは、コヒーレント光トランスポート、光トランスポート・ネットワーク・スイッチング、パケットスイッチングの融合に最適化されたハードウェア・ネットワーキング・ソリューションを提供\n",
    "    + 1-Jun-2020 - 3-Jun-2020\n",
    "+ ⭐[ATVI](https://finance.yahoo.com/quote/ATVI/profile?p=ATVI)\n",
    "    + [5-May-2020](https://marketchameleon.com/Overview/ATVI/Earnings/Earnings-Dates)\n",
    "    + ビデオゲーム機、パーソナルコンピュータ（PC）、モバイル機器向けのコンテンツやサービスの開発・配信. オンラインゲームサービス「Battle.net」を運営\n",
    "    + コール オブ デューティ \n",
    "+ 💙[TDOC](https://finance.yahoo.com/quote/TDOC/profile?p=TDOC)\n",
    "    + 米国および国際的にバーチャルヘルスケアサービスを企業間で提供しています。重症ではないケース、エピソードケア、慢性的なケース、がんやうっ血性心不全のような複雑なケースなど、さまざまな臨床状態をカバーしているほか、テレヘルスソリューション、専門家による医療サービス、行動健康ソリューション、ガイダンスとサポート、プラットフォームとプログラムサービスを提供\n",
    "    + [29-Apr-2020](https://marketchameleon.com/Overview/TDOC/Earnings/Earnings-Dates)\n",
    "    + 高いのでOTMのオプションコール買いなど    \n",
    "+ 💙[FIVN](https://finance.yahoo.com/quote/FIVN/profile?p=FIVN)\n",
    "    + [4-May-2020](https://marketchameleon.com/Overview/FIVN/Earnings/Earnings-Dates)\n",
    "    + バーチャル・コンタクトセンター・クラウド・プラットフォームを提供, 銀行や金融サービス、ビジネスプロセスのアウトソーサー、消費者、ヘルスケア、テクノロジーなど、さまざまな業界の顧客にサービスを提供\n",
    "+ 💙[IPHI](https://finance.yahoo.com/quote/IPHI/profile?p=IPHI)\n",
    "    + データセンター、コンピューティング市場向けに高速アナログおよびミックスドシグナル半導体ソリューションを提供\n",
    "    + 22-Apr-2020 - 30-Apr-2020\n",
    "+ 💙[DOCU](https://finance.yahoo.com/quote/DOCU/profile?p=DOCU)\n",
    "    + 電子署名ソリューションを提供しており、企業が契約書の作成、実行、行動をデジタルで行うことを可能\n",
    "    + 4-Jun-2020 - 5-Jun-2020\n",
    "    \n",
    "    \n",
    "    \n",
    "    "
   ]
  },
  {
   "cell_type": "code",
   "execution_count": null,
   "metadata": {},
   "outputs": [],
   "source": [
    "pipeline_output[pipeline_output[\"morningstar_sector_code\"]==101][\"close_price\"].unstack().describe().T.sort_values(by=\"max\")"
   ]
  },
  {
   "cell_type": "markdown",
   "metadata": {},
   "source": [
    "## 金鉱株, 工業株\n",
    "\n",
    "+ ⭐：Longポジション　💙：コールオプションの買い　❓：再考　❌：買わない\n",
    "\n",
    "\n",
    "+ ⭐[KGC](https://finance.yahoo.com/quote/KGC/profile?p=KGC)\n",
    "    + 米国、ロシア連邦、ブラジル、チリ、ガーナ、モーリタニアで金鉱区の取得、探鉱、開発\n",
    "    + 金鉱区の埋め立て、銀の生産・販売\n",
    "    + 実証済みおよび可能性のある鉱物埋蔵量は、約2,550万オンスの金と5,390万オンスの銀\n",
    "    + [5-May-2020](https://marketchameleon.com/Overview/KGC/Earnings/Earnings-Dates)\n",
    "    + 出来高がどんどん高くなっている事も買いたい理由\n",
    "+ [NG](https://finance.yahoo.com/quote/NG/profile?p=NG)\n",
    "    + [24-Jun-2020 - 26-Jun-2020](https://marketchameleon.com/Overview/NG/Earnings/Earnings-Dates)\n",
    "    + 同社の主要資産は、アラスカ州南西部のKuskokwim地域に位置する71,420エーカーの面積に及ぶ493の鉱区からなる50%の権益を保有するDonlin Goldプロジェクト\n",
    "    + 2007年に最高値。１8ドル。\n",
    "    + 出来高に変化はない。\n",
    "    + （WIKI）NOVAGOLDは、アラスカのドンリン金鉱山の開発を進めているカナダの企業です。バンクーバーに本社を置き、NYSEアメリカン証券取引所とトロント証券取引所に上場しています。同社は、1984年にノバスコシア州ダートマスで鉱業用地の探査・開発を目的に設立されました。北米全域で多数の探鉱権を売買してきましたが、主に4つの鉱区に焦点を当ててきました。1989年から1992年までノバスコシア州のMurray Brook Mineを開発・運営し、アラスカ州のRock Creek Mineを開発しましたが、債務不履行により2008年の開鉱後まもなく閉鎖されました。2003年から2018年にかけてブリティッシュコロンビア州のガロア・クリーク鉱山の探鉱開発を行ったが、その権益を売却した。2012年にバリック・ゴールドとの合弁会社を設立して以来、ドンリン・ゴールド鉱山の開発を進めてきた。\n",
    "+ [GOLD ](https://finance.yahoo.com/quote/GOLD/profile?p=GOLD)\n",
    "    + アルゼンチン、カナダ、コートジボワール、コンゴ民主共和国、ドミニカ共和国、マリ、パプアニューギニア、タンザニア、米国にある金鉱山の生産権益を保有\n",
    "    + [6-May-2020\t](https://marketchameleon.com/Overview/GOLD/Earnings/Earnings-Dates)\n",
    "    + 2011/08に最高値を付けて、今半値\n",
    "+ [WPM](https://finance.yahoo.com/quote/WPM/profile?p=WPM)\n",
    "    + 主にカナダおよび国際的に貴金属を販売\n",
    "    + 銀と金の鉱石を販売しています。19の操業鉱山と9つの開発段階のプロジェクトの契約\n",
    "    + [6-May-2020](https://marketchameleon.com/Overview/WPM/Earnings/Earnings-Dates)\n",
    "    + 2011/02 につけた高値にあと10ドル\n",
    "+ [NEM 59.23 -0.67 -1.12% : Newmont Corporation - Yahoo Finance](https://finance.yahoo.com/quote/NEM/profile?p=NEM)\n",
    "    + [5-May-2020](https://marketchameleon.com/Overview/NEM/Earnings/Earnings-Dates)\n",
    "    + 金、銅、銀、亜鉛、鉛の生産と探鉱\n",
    "    + 米国、カナダ、メキシコ、ドミニカ共和国、ペルー、スリナム、アルゼンチン、チリ、オーストラリア、ガーナで操業および/または資産を保有\n",
    "    + 2019年12月31日現在、それは1億2,000万オンスの実証済みおよび可能性のある金の埋蔵量と68,300平方キロメートルの土地\n",
    "    + 2011/09につけた高値にあと10ドル\n",
    "+ [FNV 124.48 0.49 0.40% : Franco-Nevada Corporation - Yahoo Finance](https://finance.yahoo.com/quote/FNV/profile?p=FNV)\n",
    "    + [6-May-2020](https://marketchameleon.com/Overview/FNV/Earnings/Earnings-Dates) \n",
    "    + 米国、カナダ、中南米、オーストラリア、アフリカで金に特化したロイヤリティおよびストリーム会社として事業を展開\n",
    "    + 銀とプラチナのグループメタル、石油、ガス、天然ガスの液体物の権益も保有\n",
    "    \n",
    "    \n",
    "### GDX Holdings\n",
    "\n",
    "Name|Symbol|% Assets|次回決算日\n",
    "---|---|---|---\n",
    "Newmont Corp|NEM|15.40%|2020/04/21\n",
    "Barrick Gold Corp|ABX.TO|13.51%|2020/05/05\n",
    "Franco-Nevada Corp|FNV.TO|7.78%|2020/05/06\n",
    "Wheaton Precious Metals Corp|WPM.TO|5.73%|2020/05/06\n",
    "Kirkland Lake Gold Ltd|KL.TO|4.94%|2020/04/30\n",
    "Newcrest Mining Ltd|NCM.AX|4.36%|2020/08/17\n",
    "Anglogold Ashanti Ltd ADR|AU.JO|4.19%|\n",
    "Agnico Eagle Mines Ltd|AEM.TO|3.96%|\n",
    "Royal Gold Inc|RGLD|3.49%|\n",
    "Kinross Gold Corp|K.TO|3.03%|\n",
    "\n",
    "\n"
   ]
  },
  {
   "cell_type": "code",
   "execution_count": null,
   "metadata": {},
   "outputs": [],
   "source": [
    "pipeline_output[pipeline_output[\"morningstar_sector_code\"]==102][\"close_price\"].unstack().describe().T.sort_values(by=\"max\")"
   ]
  },
  {
   "cell_type": "markdown",
   "metadata": {},
   "source": [
    "## Tech 一般ピーポー向け\n",
    "\n",
    "+ [BJ 27.00 0.61 2.31% : BJ's Wholesale Club Holdings, I - Yahoo Finance](https://finance.yahoo.com/quote/BJ/profile?p=BJ)\n",
    "    + 米国東海岸で倉庫クラブとして運営しています。生鮮食料品、食用食料品、雑貨、非食用食料品を提供している。また、ウェブサイトやモバイルアプリでの商品販売も行っている\n",
    "    + 現在ウェブサイトのアクセスDenied https://www.bjs.com/\n",
    "    + 21-May-2020 - 22-May-2020\n",
    "+ [CHWY 43.78 -1.13 -2.52% : Chewy, Inc. - Yahoo Finance](https://finance.yahoo.com/quote/CHWY/profile?p=CHWY)\n",
    "    + 犬、猫、魚、鳥、小型ペット、馬、爬虫類を対象に、ペットフードやおやつ、ペット用品、ペット用医薬品などのペット健康関連商品、ペットサービスをchewy.comの小売サイトやモバイルアプリケーションを通じて提供\n",
    "    + 22-Jun-2020 - 2-Jul-2020\n",
    "    \n",
    "    \n",
    "    \n",
    "\n"
   ]
  },
  {
   "cell_type": "code",
   "execution_count": null,
   "metadata": {},
   "outputs": [],
   "source": [
    "pipeline_output[pipeline_output[\"morningstar_sector_code\"]==103][\"close_price\"].unstack().describe().T.sort_values(by=\"max\")"
   ]
  },
  {
   "cell_type": "markdown",
   "metadata": {},
   "source": [
    "+ [VRT 10.28 0.28 2.80% : Vertiv Holdings, LLC - Yahoo Finance](https://finance.yahoo.com/quote/VRT/profile?p=VRT)\n",
    "    + データを処理、保存、伝送する電子機器向けのデジタル・インフラ技術の設計、製造、サービス\n",
    "    + 電源管理製品、熱管理製品、統合ラックシステム、モジュラーソリューション、デジタルインフラストラクチャの監視および制御用管理システムを提供\n",
    "    + 株価は、ちょっと不安定\n",
    "    \n",
    "    \n"
   ]
  },
  {
   "cell_type": "code",
   "execution_count": null,
   "metadata": {},
   "outputs": [],
   "source": [
    "pipeline_output[pipeline_output[\"morningstar_sector_code\"]==104][\"close_price\"].unstack().describe().T.sort_values(by=\"max\")"
   ]
  },
  {
   "cell_type": "markdown",
   "metadata": {},
   "source": [
    "## 104\n",
    "\n",
    "+ [DEA 27.12 -0.71 -2.55% : Easterly Government Properties, - Yahoo Finance](https://finance.yahoo.com/quote/DEA/profile?p=DEA)\n",
    "    + Aクラスの商業用不動産の取得、開発、管理\n",
    "    + 米国政府に賃貸されているクラスAの商業用不動産の取得、開発、管理に注力\n",
    "    + [5-May-2020](https://marketchameleon.com/Overview/DEA/Earnings/Earnings-Dates)\n",
    "+ [CorEnergy Infrastructure Trust, (CORR) Stock Price, Quote, History & News - Yahoo Finance](https://finance.yahoo.com/quote/CORR?p=CORR&.tsrc=fin-srch)\n",
    "    + 直近❌\n",
    "+ [QTS 64.13 0.61 0.96% : QTS Realty Trust, Inc. - Yahoo Finance](https://finance.yahoo.com/quote/QTS/profile?p=QTS)\n",
    "    \n",
    "+ [DLR 149.20 7.25 5.11% : Digital Realty Trust, Inc. - Yahoo Finance](https://finance.yahoo.com/quote/DLR/profile?p=DLR)\n",
    "    + クラウドや情報技術サービス、通信、ソーシャルネットワーキングから金融サービス、製造、エネルギー、ヘルスケア、消費者製品に至るまで、南北アメリカ、EMEA、APACのお客様のデータセンター、コロケーション、相互接続戦略をサポート\n",
    "    + [7-May-2020\t](https://marketchameleon.com/Overview/DLR/Earnings/Earnings-Dates)\n",
    "+ [AMT 254.06 2.28 0.91% : American Tower Corporation (REI - Yahoo Finance](https://finance.yahoo.com/quote/AMT/profile?p=AMT)\n",
    "    + 世界最大級のグローバルREITであるアメリカン・タワーは、約18万の通信サイトのポートフォリオを持つ、マルチテナント型通信不動産の大手独立系オーナー、オペレーター、デベロッパーです。\n",
    "    + [29-Apr-2020](https://marketchameleon.com/Overview/AMT/Earnings/Earnings-Dates)\n",
    "+ [SBAC 314.83 6.13 1.99% : SBA Communications Corporation - Yahoo Finance](https://finance.yahoo.com/quote/SBAC/profile?p=SBAC)\n",
    "    + 当社の主な焦点は、長期リース契約の下で様々な無線サービス・プロバイダーにマルチテナント通信サイトのアンテナスペースをリース\n",
    "    + [5-May-2020](https://marketchameleon.com/Overview/SBAC/Earnings/Earnings-Dates)\n",
    "+ [EQIX 694.95 12.21 1.79% : Equinix, Inc. - Yahoo Finance](https://finance.yahoo.com/quote/EQIX/profile?p=EQIX)\n",
    "    + [6-May-2020](https://marketchameleon.com/Overview/EQIX/Earnings/Earnings-Dates)\n",
    "    + データセンター内で、世界の主要企業と顧客、従業員、パートナーを接続しています。デジタルビジネスのためのこのグローバルプラットフォームでは、5大陸50以上の市場で企業が一堂に会し、あらゆる場所にアクセスし、すべての人を相互接続し、デジタルの未来を創造\n",
    "    "
   ]
  },
  {
   "cell_type": "code",
   "execution_count": null,
   "metadata": {},
   "outputs": [],
   "source": [
    "pipeline_output[pipeline_output[\"morningstar_sector_code\"]==205][\"close_price\"].unstack().describe().T.sort_values(by=\"max\")"
   ]
  },
  {
   "cell_type": "markdown",
   "metadata": {},
   "source": [
    "+ AFYA: 直近❌\n",
    "+ [KR 31.93 -0.02 -0.06% : Kroger Company (The) - Yahoo Finance](https://finance.yahoo.com/quote/KR/profile?p=KR)\n",
    "    + スーパーマーケット、マルチデパートメントストア、マーケットプレイスストア、価格インパクト倉庫店を運営\n",
    "    + 自然食品やオーガニックコーナー、薬局、雑貨、ペットセンター、新鮮な魚介類、有機野菜などを、複合デパートではアパレル、ホームファッション、家具、アウトドアリビング、電子機器、自動車製品、玩具などを提供\n",
    "    + 18-Jun-2020 - 22-Jun-2020\n",
    "+ ANDE　❌\n",
    "+ [GO 35.61 0.82 2.36% : Grocery Outlet Holding Corp. - Yahoo Finance](https://finance.yahoo.com/quote/GO/profile?p=GO)\n",
    "    + 2019年4月の高値まであと15ドル\n",
    "    + 米国で食料品店のチェーン店を所有・運営しています。食料品、乳製品・デリ、青果、冷蔵・冷凍、フローラル、ビール・ワイン、雑貨、健康・美容ケア、生肉・魚介類などの様々なカテゴリーの商品を提供しているほか、ナチュラル、オーガニック、スペシャリティ、ヘルシーなどの商品\n",
    "    + 2-Jul-2020 - 13-Jul-2020\n",
    "+ [HRL 50.51 0.30 0.60% : Hormel Foods Corporation - Yahoo Finance](https://finance.yahoo.com/quote/HRL/profile?p=HRL)\n",
    "    + 21-May-2020 - 26-May-2020\n",
    "    + 食肉・食品を製造し、米国内および海外の小売店、外食産業、デリ、業務用の顧客に販売\n",
    "    + 食料品事業、冷蔵食品事業、Jennie-O Turkey Store事業、国際・その他事業の4つのセグメントで事業を展開\n",
    "+ [DG 182.11 1.98 1.10% : Dollar General Corporation - Yahoo Finance](https://finance.yahoo.com/quote/DG/profile?p=DG)\n",
    "    + 100均\n",
    "    \n",
    "    \n"
   ]
  },
  {
   "cell_type": "code",
   "execution_count": null,
   "metadata": {},
   "outputs": [],
   "source": [
    "pipeline_output[pipeline_output[\"morningstar_sector_code\"]==207][\"close_price\"].unstack().describe().T.sort_values(by=\"max\")"
   ]
  },
  {
   "cell_type": "markdown",
   "metadata": {},
   "source": [
    "+ [HE 41.98 0.81 1.97% : Hawaiian Electric Industries, I - Yahoo Finance](https://finance.yahoo.com/quote/HE/profile?p=HE)\n",
    "    + 主にハワイ州で電気事業と銀行事業"
   ]
  },
  {
   "cell_type": "code",
   "execution_count": null,
   "metadata": {},
   "outputs": [],
   "source": [
    "pipeline_output[pipeline_output[\"morningstar_sector_code\"]==308][\"close_price\"].unstack().describe().T.sort_values(by=\"max\")"
   ]
  },
  {
   "cell_type": "markdown",
   "metadata": {},
   "source": [
    "+ [ZNGA 7.73 -0.02 -0.26% : Zynga Inc. - Yahoo Finance](https://finance.yahoo.com/quote/ZNGA/profile?p=ZNGA)\n",
    "    + 29-Apr-2020 - 1-May-2020\n",
    "    + ソーシャルゲームをライブサービスとして開発・販売・運営\n",
    "    + 化ける可能性はあるけど、怪しい気もする\n",
    "+ CBB；イマイチ\n",
    "+ IHRT：イマイチ\n",
    "+ [SHEN 51.01 -0.57 -1.11% : Shenandoah Telecommunications C - Yahoo Finance](https://finance.yahoo.com/quote/SHEN/history?p=SHEN)\n",
    "    + ワイヤレスおよびブロードバンド通信製品とサービスを提供\n",
    "    + 7-May-2020 - 8-May-2020\n",
    "+ [CCOI 87.35 -3.40 -3.75% : Cogent Communications Holdings, - Yahoo Finance](https://finance.yahoo.com/quote/CCOI/profile?p=CCOI)\n",
    "    + [29-Apr-2020 - 1-May-2020]\n",
    "    + 高速インターネットアクセス、プライベートネットワーク、データセンターのコロケーションスペースサービスを提供\n",
    "    + 有望な気がする\n",
    "        \n",
    "\n",
    "\n",
    "\n",
    "    "
   ]
  },
  {
   "cell_type": "code",
   "execution_count": null,
   "metadata": {},
   "outputs": [],
   "source": [
    "pipeline_output[pipeline_output[\"morningstar_sector_code\"]==309][\"close_price\"].unstack().describe().T.sort_values(by=\"max\")"
   ]
  },
  {
   "cell_type": "markdown",
   "metadata": {},
   "source": [
    "+ TNK：海運なのでパス"
   ]
  },
  {
   "cell_type": "code",
   "execution_count": null,
   "metadata": {},
   "outputs": [],
   "source": [
    "pipeline_output[pipeline_output[\"morningstar_sector_code\"]==310][\"close_price\"].unstack().describe().T.sort_values(by=\"max\")"
   ]
  },
  {
   "cell_type": "markdown",
   "metadata": {},
   "source": [
    "+ [FCN 136.01 0.45 0.33% : FTI Consulting, Inc. - Yahoo Finance](https://finance.yahoo.com/quote/FCN/profile?p=FCN)\n",
    "    + コーポレートファイナンス＆リストラクチャリング事業では、事業再生、リストラクチャリング、事業変革、倒産、中間管理、評価・財務アドバイザリー、トランザクション、紛争アドバイザリー、税務サービス、M&A、M&A統合サービスなどを提供\n",
    "    + [30-Apr-2020](https://marketchameleon.com/Overview/FCN/Earnings/Earnings-Dates)"
   ]
  },
  {
   "cell_type": "code",
   "execution_count": null,
   "metadata": {},
   "outputs": [],
   "source": []
  }
 ],
 "metadata": {
  "kernelspec": {
   "display_name": "Python 3.5",
   "language": "python",
   "name": "py35"
  },
  "language_info": {
   "codemirror_mode": {
    "name": "ipython",
    "version": 3
   },
   "file_extension": ".py",
   "mimetype": "text/x-python",
   "name": "python",
   "nbconvert_exporter": "python",
   "pygments_lexer": "ipython3",
   "version": "3.5.9"
  }
 },
 "nbformat": 4,
 "nbformat_minor": 2
}
