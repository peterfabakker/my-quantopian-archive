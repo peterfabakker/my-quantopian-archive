{
 "cells": [
  {
   "cell_type": "markdown",
   "metadata": {},
   "source": [
    "# サヤ取り\n",
    "---\n",
    "\n",
    "## A. クラッシュ（クラック）スプレッド\n",
    "\n",
    "+ 原油と暖房油\n",
    "+ 原油とガソリン\n",
    "+ Quantopianで利用できる先物一覧 [available-futures](https://www.quantopian.com/help#available-futures)\n",
    "+ いつもに比べてさやが大きくなったら戻るよ。という意味かな？\n",
    "\n",
    "#### メモ\n",
    "+ ```continuous_future``` と ```history``` の\n",
    "    + 使い方\n",
    "    + 使い分け\n",
    "    + データ見比べ\n",
    "\n",
    "\n",
    "## B. 限月間スプレッド\n",
    "\n",
    "+ フォワードカーブ\n",
    "\n",
    "## C. 異銘柄間\n",
    "\n",
    "+ WTI と ブレント，ドバイ\n",
    "+ 金と白金（質が違うので非推奨）\n",
    "\n"
   ]
  },
  {
   "cell_type": "markdown",
   "metadata": {},
   "source": [
    "# 商品先物市場の分析\n",
    "---\n",
    "\n",
    "##1. 市場のコンディション\n",
    "+ 順ザヤ（コンタンゴ）\n",
    "+ 逆ザヤ（バックワーデーション）\n",
    "    \n",
    "##2. サヤの一代足の分析\n",
    "+ カレンダースプレッド：期近の売り，期先の買い\n",
    "+ 逆カレンダースプレッド：期近の買い，期先の売り\n",
    "  "
   ]
  },
  {
   "cell_type": "markdown",
   "metadata": {},
   "source": [
    "> システムトレード乗るかどうか、やや厄介な箇所があります。\n",
    "56頁。商品先物は最後まで持てないので、どこかで乗り換えたり決済する必要があるということです。\n",
    "54頁。限月があるので、FXや株のように単純に同じ銘柄を分析するということができないということです。\n",
    "quantopianに適するかどうかご検討頂きますようお願い致します。\n",
    "1個目の問題は、2番限のつなぎ足（continuos#2)で対応できるかもしれません。\n",
    "\n"
   ]
  },
  {
   "cell_type": "code",
   "execution_count": null,
   "metadata": {},
   "outputs": [],
   "source": [
    "from quantopian.research.experimental import continuous_future, history\n",
    "months = list(\"FGHJKMNQUVXZ\")\n",
    "dict_month = dict(zip(range( 1,13), months))\n"
   ]
  },
  {
   "cell_type": "code",
   "execution_count": null,
   "metadata": {},
   "outputs": [],
   "source": [
    "## 原油と暖房油\n",
    "Light_Sweet_Crude_Oil = \"CL\"\n",
    "RBOB_Gasoline_Futures = \"XB\"\n",
    "NY_Harbor_USLD_Futures = \"HO\"\n",
    "\n",
    "ct_cl = continuous_future(Light_Sweet_Crude_Oil)\n",
    "ct_xb = continuous_future(RBOB_Gasoline_Futures)\n",
    "ct_ho = continuous_future(NY_Harbor_USLD_Futures)\n",
    "\n",
    "start = \"2017-1-1\"\n",
    "end=\"2018-5-13\"\n",
    "df = history(\n",
    " [ct_cl,ct_xb,ct_ho], \n",
    " fields='price', \n",
    " frequency='daily', \n",
    " start=start, \n",
    " end=end\n",
    ")\n",
    "df.columns = map(lambda x: x.root_symbol, df.columns)\n",
    "\n"
   ]
  },
  {
   "cell_type": "code",
   "execution_count": null,
   "metadata": {},
   "outputs": [],
   "source": []
  },
  {
   "cell_type": "code",
   "execution_count": null,
   "metadata": {},
   "outputs": [],
   "source": [
    "# 商品先物データへのアクセス\n",
    "\n",
    "#continueous と hisotory のデータに違いがないか確認\n",
    "#oilと ho の満期日がずれていないか確認\n",
    "\n",
    "#clf = symbols(\"CL{}{}\".format(dict_month[6], 18)) \n",
    "#xbf = symbols(\"XB{}{}\".format(dict_month[6], 18)) \n",
    "#hof = symbols(\"HO{}{}\".format(dict_month[6], 18))\n",
    "\n",
    "clf17_june = symbols(\"XB{}{}\".format(dict_month[6], 17)) \n",
    "clf18_june = symbols(\"XB{}{}\".format(dict_month[6], 18)) \n",
    "clf17_december = symbols(\"XB{}{}\".format(dict_month[12], 17)) \n",
    "clf18_december = symbols(\"XB{}{}\".format(dict_month[12], 18)) \n",
    "\n",
    "\n",
    "clf_data = history(\n",
    " [clf17_june,clf18_june,clf17_december, clf18_december,] , \n",
    " fields=\"price\", ## コレを指定しない場合は，price だけSerieseで返す\n",
    " frequency='daily',\n",
    " start=start,\n",
    " end=end\n",
    " )\n"
   ]
  },
  {
   "cell_type": "code",
   "execution_count": null,
   "metadata": {},
   "outputs": [],
   "source": [
    "df_change = clf_data.pct_change()\n",
    "\n",
    "(df_change[clf17_june] - df_change[clf18_june]).dropna().cumsum().plot()\n",
    "(df_change[clf17_december] - df_change[clf18_december]).dropna().cumsum().plot()"
   ]
  },
  {
   "cell_type": "markdown",
   "metadata": {},
   "source": [
    "## data アクセス方法\n",
    "\n",
    "+ symbols関数で，Futureはインスタンスを作って，データにアクセス\n",
    "+ Symbol+月コード+年コード\n",
    "+ 例 CLF160 CL=CrudeOil F=January 16=2016\n",
    "+ デリバリが１月なのにexpirydateが２０１５年１２月２１日なのはなぜなんだ？\n"
   ]
  },
  {
   "cell_type": "code",
   "execution_count": null,
   "metadata": {},
   "outputs": [],
   "source": [
    "clf16 = symbols('CLF16')\n",
    "clf16"
   ]
  },
  {
   "cell_type": "code",
   "execution_count": null,
   "metadata": {},
   "outputs": [],
   "source": [
    "dir(clf16)"
   ]
  },
  {
   "cell_type": "markdown",
   "metadata": {},
   "source": [
    "+ root_symbol：原資産シンボル\n",
    "+ start_date：Quantopian上で，データが利用可能な最初の日．start_dateの近辺ではデータがNaNの時がある．それは，実際取引が行われていないため．\n",
    "+ end_date：受け渡し日直前の最後のトレード可能日\n",
    "+ notice_date：受渡し日\n",
    "+ auto_close_date：notice_dateもしくはend_dateのうち，先に来る日付から2日営業日前．今回はnotice_dateが12/23，end_dateが12/21なので，auto_close_dateは，end_dateの2営業日前12/17．バックテストでは，auto_close_dateで自動クローズ\n",
    "+ tick_size：先物のきざみ\n",
    "+ multiplier：単元"
   ]
  },
  {
   "cell_type": "markdown",
   "metadata": {},
   "source": [
    "## クラッシュ\n",
    "+ いつもよりさやが開いたらLongShortかな？\n",
    "+ 正直わからない。あとで。\n"
   ]
  },
  {
   "cell_type": "code",
   "execution_count": null,
   "metadata": {},
   "outputs": [],
   "source": [
    "df.pct_change().dropna().describe()"
   ]
  },
  {
   "cell_type": "markdown",
   "metadata": {},
   "source": [
    "## カレンダースプレッド\n",
    "+ offset を使う。\n"
   ]
  },
  {
   "cell_type": "code",
   "execution_count": null,
   "metadata": {},
   "outputs": [],
   "source": [
    "f = 'SY'\n",
    "f1 = continuous_future(f,  adjustment=None)\n",
    "f2 = continuous_future(f, offset=1,  adjustment=None)\n",
    "f3 = continuous_future(f, offset=2,  adjustment=None)\n",
    "f4 = continuous_future(f, offset=3,  adjustment=None)\n",
    "f5 = continuous_future(f, offset=4,  adjustment=None)\n",
    "\n",
    "start = \"2015-1-1\"\n",
    "end=\"2018-5-13\"\n",
    "\n",
    "f_pricing = history(\n",
    " [f1, f2, f3, f4, f5],\n",
    " fields='price', \n",
    " frequency='daily', \n",
    " start=start, \n",
    " end=end\n",
    ")\n",
    "f_pricing.columns = map(lambda x: \"{}_{}\".format(x.root_symbol,x.offset), f_pricing.columns)\n"
   ]
  },
  {
   "cell_type": "code",
   "execution_count": null,
   "metadata": {},
   "outputs": [],
   "source": [
    "## 満期日\n",
    "sy_symbols = list()\n",
    "\n",
    "for m in range(1,13):\n",
    "    for y in [17, 18]:\n",
    "        try:\n",
    "            sy_symbols.append(symbols(\"SY{}{}\".format(dict_month[m], y)))\n",
    "        except:\n",
    "            pass \n"
   ]
  },
  {
   "cell_type": "code",
   "execution_count": null,
   "metadata": {},
   "outputs": [],
   "source": [
    "for s in sy_symbols:\n",
    "    print(s.expiration_date)"
   ]
  },
  {
   "cell_type": "code",
   "execution_count": null,
   "metadata": {},
   "outputs": [],
   "source": [
    "df = f_pricing.loc[\"2018-4-17\":\"2018-5-12\"].T\n",
    "df.plot(marker=\"o\")\n",
    "# グリッドを合わせたいけど，どうしたらいいんだろう？\n"
   ]
  },
  {
   "cell_type": "code",
   "execution_count": null,
   "metadata": {},
   "outputs": [],
   "source": [
    "df_change = f_pricing.pct_change(axis=1)\n",
    "l = list()\n",
    "for i, row in df_change.iterrows():\n",
    "    lr = sp.stats.linregress(range(0,4), row[df_change.columns != 'SY_0'])\n",
    "    l.append(lr.slope)\n",
    "    \n",
    "df_change['slope'] = l\n",
    "df_change\n",
    "\n",
    "    "
   ]
  },
  {
   "cell_type": "code",
   "execution_count": null,
   "metadata": {},
   "outputs": [],
   "source": [
    "df_change[['slope', 'SY_4', 'SY_1']].plot()"
   ]
  },
  {
   "cell_type": "code",
   "execution_count": null,
   "metadata": {},
   "outputs": [],
   "source": [
    "f_pricing.pct_change().plot(kind=\"scatter\", x=\"SY_0\", y=\"SY_5\")"
   ]
  },
  {
   "cell_type": "code",
   "execution_count": null,
   "metadata": {},
   "outputs": [],
   "source": [
    "import scipy as sp \n",
    "slope, intercept, r_value, p_value, std_err = sp.stats.linregress(\n",
    "    f_pricing[\"SY_0\"].pct_change()[1:],\n",
    "    f_pricing[\"SY_5\"].pct_change()[1:],\n",
    ")\n",
    "intercept"
   ]
  },
  {
   "cell_type": "code",
   "execution_count": null,
   "metadata": {},
   "outputs": [],
   "source": [
    "f_pricing[\"model_SY5\"] = f_pricing[\"SY_0\"]*(1+intercept)\n",
    "f_pricing[\"diff\"] = f_pricing[\"SY_5\"] / f_pricing[\"model_SY5\"]  - 1\n",
    "f_pricing"
   ]
  },
  {
   "cell_type": "code",
   "execution_count": null,
   "metadata": {},
   "outputs": [],
   "source": [
    "f_pricing[[\"SY_0\", \"SY_5\", \"diff\"]].plot(secondary_y=\"diff\")"
   ]
  },
  {
   "cell_type": "code",
   "execution_count": null,
   "metadata": {},
   "outputs": [],
   "source": [
    "def my_regress(xs, ys):\n",
    "    slope, intercept, r_value, p_value, std_err = sp.stats.linregress(xs,ys)\n",
    "    return slope\n",
    "\n",
    "f_pricing[\"SY_0_pct_change\"] = f_pricing[\"SY_0\"].pct_change()\n",
    "f_pricing[\"SY_5_pct_change\"] = f_pricing[\"SY_5\"].pct_change()\n",
    "        "
   ]
  },
  {
   "cell_type": "code",
   "execution_count": null,
   "metadata": {},
   "outputs": [],
   "source": [
    "term = 14\n",
    "import numpy as np\n",
    "l = list()\n",
    "for i in range(len(f_pricing)):\n",
    "    if i >= term:\n",
    "        xs = f_pricing.iloc[i-term:i][\"SY_0_pct_change\"]\n",
    "        ys = f_pricing.iloc[i-term:i][\"SY_5_pct_change\"]\n",
    "        l.append(my_regress(xs, ys))\n",
    "    else:\n",
    "        l.append(np.nan)\n",
    "f_pricing[\"rolling 14 slope\"]   = l"
   ]
  },
  {
   "cell_type": "code",
   "execution_count": null,
   "metadata": {},
   "outputs": [],
   "source": [
    "f_pricing[[\"SY_0\", \"SY_5\", \"rolling 14 slope\"]].plot(secondary_y=\"rolling 14 slope\")"
   ]
  },
  {
   "cell_type": "code",
   "execution_count": null,
   "metadata": {},
   "outputs": [],
   "source": []
  },
  {
   "cell_type": "code",
   "execution_count": null,
   "metadata": {},
   "outputs": [],
   "source": [
    "np.random.seed(12345678)\n",
    "x = np.random.random(10)\n",
    "y = np.random.random(10)\n",
    "slope, intercept, r_value, p_value, std_err = sp.stats.linregress(x, y)\n",
    "slope, intercept, r_value, p_value, std_err"
   ]
  },
  {
   "cell_type": "code",
   "execution_count": null,
   "metadata": {},
   "outputs": [],
   "source": []
  }
 ],
 "metadata": {
  "kernelspec": {
   "display_name": "Python 2",
   "language": "python",
   "name": "python2"
  },
  "language_info": {
   "codemirror_mode": {
    "name": "ipython",
    "version": 2
   },
   "file_extension": ".py",
   "mimetype": "text/x-python",
   "name": "python",
   "nbconvert_exporter": "python",
   "pygments_lexer": "ipython2",
   "version": "2.7.12"
  }
 },
 "nbformat": 4,
 "nbformat_minor": 2
}
